{
 "cells": [
  {
   "cell_type": "code",
   "execution_count": 1,
   "metadata": {},
   "outputs": [],
   "source": [
    "%matplotlib inline\n",
    "import seaborn as sns; sns.set(style=\"ticks\", color_codes=True)\n",
    "import pandas as pd\n",
    "import matplotlib.pyplot as plt\n",
    "from matplotlib import style\n",
    "from matplotlib import gridspec\n",
    "import scipy\n",
    "style.use('ggplot')\n",
    "import datetime\n",
    "from io import StringIO\n",
    "import re\n",
    "import numpy as np\n",
    "from datetime import datetime\n",
    "import math\n",
    "\n",
    "sns.set_style('whitegrid')\n",
    "sns.set_palette('colorblind')\n",
    "FIG_SIZE = (12, 3)\n",
    "font = {'family' : 'Times New Roman',\n",
    "        'weight' : 'bold',\n",
    "        'size'   : 22}\n",
    "plt.rc('font', **font)\n",
    "plt.rcParams['pdf.fonttype'] = 42\n",
    "plt.rcParams['ps.fonttype'] = 42\n",
    "plt.rcParams['text.usetex'] = True\n",
    "\n",
    "plt.rcParams['xtick.labelsize'] = 16.5\n",
    "plt.rcParams['ytick.labelsize'] = 17\n",
    "plt.rcParams['axes.labelsize']= 20\n",
    "plt.rcParams['lines.linewidth']= 2\n",
    "plt.rcParams['lines.markersize']= 2"
   ]
  },
  {
   "cell_type": "markdown",
   "metadata": {},
   "source": [
    "# Prepare data --> SKIP"
   ]
  },
  {
   "cell_type": "code",
   "execution_count": 5,
   "metadata": {},
   "outputs": [
    {
     "data": {
      "text/plain": [
       "46948071"
      ]
     },
     "execution_count": 5,
     "metadata": {},
     "output_type": "execute_result"
    }
   ],
   "source": [
    "# # read data\n",
    "# dependencies=pd.read_csv('../icsr2018/npm-dependencies-nov.csv',\n",
    "#                                 sep=',', dtype=object, index_col=None)\n",
    "# versions=pd.read_csv('../icsr2018/npm-versions-nov.csv',\n",
    "#                                 sep=',', dtype=object, index_col=None)\n",
    "# # get only npm packages\n",
    "# # dependencies=dependencies.query('Platform==\"NPM\"')\n",
    "# # versions=versions.query('Platform==\"NPM\"')\n",
    "# # print(len(dependencies),len(versions))\n",
    "\n",
    "# #get only important columns\n",
    "# # dependencies=dependencies.loc[:,['Project Name','Version Number','Dependency Name','Dependency Kind','Dependency Requirements']]\n",
    "# # versions=versions.loc[:,['Project Name','Number','Published Timestamp']]\n",
    "\n",
    "# # create and id\n",
    "# versions['id']=versions['Project name']+';'+versions['Version number']\n",
    "# dependencies['id']=dependencies['Project name']+';'+dependencies['Version number']\n",
    "\n",
    "# # get only id and date\n",
    "# versions=versions.loc[:,['id','Version date']]\n",
    "\n",
    "# # merge \n",
    "# dev_dep=pd.merge(dependencies,versions, on='id', how='outer')\n",
    "# dev_dep.dropna(inplace=True)\n",
    "# #dev_dep['Published Package']=dev_dep['Published Timestamp'].apply(lambda x: str(x).split()[0])\n",
    "# dev_dep.drop(['id'], axis=1, inplace=True)\n",
    "# dev_dep.rename(columns = {'Project name':'package','Version number':'package_version',\n",
    "#                           'Dependency name':'dependency','Dependency requirements':'dependency_requirements',\n",
    "#                          'Dependency kind':'dependency_kind','Version date':'version_date'}, inplace=True)\n",
    "# dev_dep=dev_dep[['dependency','package','package_version','dependency_requirements','dependency_kind','version_date']]\n",
    "# dev_dep.sort_values(['dependency'],ascending=False, inplace=True)\n",
    "# len(dev_dep)\n",
    "\n",
    "# #SAVE DATA\n",
    "# #dev_dep.to_csv('../icsr2018/dependencies_versions_15June17.csv', index=False)"
   ]
  },
  {
   "cell_type": "markdown",
   "metadata": {},
   "source": [
    "# LOAD DATA --> Skip"
   ]
  },
  {
   "cell_type": "code",
   "execution_count": 28,
   "metadata": {
    "collapsed": true
   },
   "outputs": [],
   "source": [
    "# dep_ver['Dots_in_Req']=dep_ver['dependency_constraint'].apply(lambda x: len(str(x).split('.'))-1)\n",
    "# dep_ver['Space_in_Req']=dep_ver['Dependency Requirements'].apply(lambda x: len(str(x).split())-1)\n",
    "# dep_ver['git']=dep_ver['Dependency Requirements'].apply(lambda x: 'git' in str(x))\n",
    "# dep_ver['or1']=dep_ver['Dependency Requirements'].apply(lambda x: '|' in str(x))\n",
    "# dep_ver['or2']=dep_ver['Dependency Requirements'].apply(lambda x: 'or' in str(x))\n",
    "# dep_ver['and1']=dep_ver['Dependency Requirements'].apply(lambda x: '&' in str(x))\n",
    "# dep_ver['and2']=dep_ver['Dependency Requirements'].apply(lambda x: 'and' in str(x))\n",
    "# dep_ver['dieze']=dep_ver['Dependency Requirements'].apply(lambda x: '#' in str(x))\n",
    "# dep_ver['tilde']=dep_ver['Dependency Requirements'].apply(lambda x: '~' in str(x))\n",
    "# dep_ver['caret']=dep_ver['Dependency Requirements'].apply(lambda x: '^' in str(x))\n",
    "# dep_ver['greater']=dep_ver['Dependency Requirements'].apply(lambda x: '>' in str(x))\n",
    "# dep_ver['greaterEqual']=dep_ver['Dependency Requirements'].apply(lambda x: '>=' in str(x))\n",
    "# dep_ver['lesser']=dep_ver['Dependency Requirements'].apply(lambda x: '<' in str(x))\n",
    "# dep_ver['lesserEqual']=dep_ver['Dependency Requirements'].apply(lambda x: '<=' in str(x))\n",
    "# dep_ver['equal']=dep_ver['Dependency Requirements'].apply(lambda x: '=' in str(x))\n",
    "# dep_ver['latest']=dep_ver['Dependency Requirements'].apply(lambda x: 'latest' in str(x))\n",
    "# dep_ver['file']=dep_ver['Dependency Requirements'].apply(lambda x: 'file:' in str(x))\n",
    "# dep_ver['slash']=dep_ver['Dependency Requirements'].apply(lambda x: '/' in str(x))\n",
    "# dep_ver['alpha']=dep_ver['Dependency Requirements'].apply(lambda x: 'alpha' in str(x))\n",
    "# dep_ver['beta']=dep_ver['Dependency Requirements'].apply(lambda x: 'beta' in str(x))\n",
    "\n",
    "# # easy_ones=dep_ver.query('Dots_in_Req==2 and Space_in_Req==0 and git==False and or1==False and or2==False and and1==False and and2==False and file==False and slash==False and dieze==False')"
   ]
  },
  {
   "cell_type": "code",
   "execution_count": 53,
   "metadata": {},
   "outputs": [],
   "source": [
    "versions=pd.read_csv('../icsr2018/csv/NPM-versions.csv', sep=',', dtype=object, index_col=None,  error_bad_lines=False)"
   ]
  },
  {
   "cell_type": "markdown",
   "metadata": {},
   "source": [
    "# Begin Analysis : final_depends_exact_15-11.csv"
   ]
  },
  {
   "cell_type": "code",
   "execution_count": 2,
   "metadata": {},
   "outputs": [],
   "source": [
    "dep_ver=pd.read_csv('../icsr2018/csv/final_depends_exact_15-11.csv', sep=';', dtype=object, index_col=None,  error_bad_lines=False)\n",
    "#deps_time_caret0['dieze']=deps_time_caret0['dieze'].apply(lambda ver: (ver.split('#')[1].split('.')[0]+'.'+ver.split('#')[1].split('.')[1]) in (ver.split('#')[0].split('.')[0]+'.'+ver.split('#')[0].split('.')[1])) "
   ]
  },
  {
   "cell_type": "code",
   "execution_count": 3,
   "metadata": {},
   "outputs": [],
   "source": [
    "dep_ver['type']='other'\n",
    "dep_ver['type']=dep_ver['dependency_constraint'].apply(lambda x: \n",
    "                                                       'caret' if str(x).replace(' ','').startswith('^') \n",
    "                                                       else 'tilde' if str(x).replace(' ','').startswith('~')\n",
    "                                                      else 'latest' if str(x).replace(' ','').lower()=='x' \n",
    "                                                       else 'latest' if str(x).replace(' ','')=='*' \n",
    "                                                       else 'latest' if str(x).replace(' ','')=='latest' \n",
    "                                                       else 'latest' if str(x).replace(' ','').lower()=='x.x.x' \n",
    "                                                       else 'latest' if str(x).replace(' ','')=='*.*.*'\n",
    "                                                       else 'strict' if len(str(x).split('.'))==3 and str(x).split('.')[0].replace('v','').replace(' ','').replace('=','').isdigit() and str(x).split('.')[1].isdigit() and str(x).split('.')[2].isdigit() \n",
    "                                                      else 'other')\n",
    "dep_ver['dependency_date']=dep_ver['dependency_date'].apply(lambda x: str(x).split()[0])\n",
    "dep_ver['latest_dependency_release']=dep_ver['latest_dependency_release'].apply(lambda x: str(x).split()[0])"
   ]
  },
  {
   "cell_type": "code",
   "execution_count": 19,
   "metadata": {},
   "outputs": [
    {
     "data": {
      "text/plain": [
       "<matplotlib.legend.Legend at 0x7fd487f60da0>"
      ]
     },
     "execution_count": 19,
     "metadata": {},
     "output_type": "execute_result"
    },
    {
     "data": {
      "image/png": "[encoded data removed]",
      "text/plain": [
       "<matplotlib.figure.Figure at 0x7fd487f60f28>"
      ]
     },
     "metadata": {},
     "output_type": "display_data"
    }
   ],
   "source": [
    "a=dep_ver.groupby('type').count()\n",
    "a.sort_values(['dependency'], ascending=False, inplace=True)\n",
    "a['package']=a['dependency'].apply(lambda x: float(x)/float(46945797))\n",
    "ax=a.plot(kind='bar', y='package', color='gray')\n",
    "ax.figure.set_size_inches(5,3)\n",
    "ax.set_xlabel('constraint type')\n",
    "ax.set_ylabel('dependencies')\n",
    "ax.legend('')\n",
    "#ax.figure.savefig('../../seneca_research/ICSR2018/figures/tilde_caret.pdf', bbox_inches='tight', facecolor='white')"
   ]
  },
  {
   "cell_type": "code",
   "execution_count": 59,
   "metadata": {},
   "outputs": [
    {
     "data": {
      "text/plain": [
       "0.983254496669851"
      ]
     },
     "execution_count": 59,
     "metadata": {},
     "output_type": "execute_result"
    }
   ],
   "source": [
    "# not to be considered \n",
    "dep_ver=dep_ver.query('dependency_version!=\"False\" and dependency_date!=\"l\" and latest_dependency_release>=dependency_date')\n",
    "a=len(dep_ver)\n",
    "float(a)/46945797"
   ]
  },
  {
   "cell_type": "code",
   "execution_count": 60,
   "metadata": {},
   "outputs": [
    {
     "data": {
      "text/plain": [
       "11368780"
      ]
     },
     "execution_count": 60,
     "metadata": {},
     "output_type": "execute_result"
    }
   ],
   "source": [
    "dev_per_outdated=dep_ver.query('dependency_version!=\"False\"')\n",
    "dev_per_outdated=dev_per_outdated.query('latest_dependency_release!=dependency_date')\n",
    "dev_per_outdated=dev_per_outdated.query('type!=\"latest\"')\n",
    "dev_per_outdated=dev_per_outdated.query('dependency_date!=\"l\"')\n",
    "len(dev_per_outdated)"
   ]
  },
  {
   "cell_type": "code",
   "execution_count": 61,
   "metadata": {},
   "outputs": [
    {
     "data": {
      "text/plain": [
       "<matplotlib.legend.Legend at 0x7f70f0cbf668>"
      ]
     },
     "execution_count": 61,
     "metadata": {},
     "output_type": "execute_result"
    },
    {
     "data": {
      "image/png": "[encoded data removed]",
      "text/plain": [
       "<matplotlib.figure.Figure at 0x7f7099cad3c8>"
      ]
     },
     "metadata": {},
     "output_type": "display_data"
    }
   ],
   "source": [
    "a=dev_per_outdated.groupby('type').count()\n",
    "a.sort_values(['dependency'], ascending=False, inplace=True)\n",
    "a['package']=a['dependency'].apply(lambda x: float(x)/float(14288131))\n",
    "ax=a.plot(kind='bar', y='package', color='gray')\n",
    "ax.figure.set_size_inches(5,3)\n",
    "ax.set_xlabel('constraint type')\n",
    "ax.set_ylabel('dependencies')\n",
    "ax.legend('')"
   ]
  },
  {
   "cell_type": "code",
   "execution_count": 62,
   "metadata": {},
   "outputs": [],
   "source": [
    "dev_per_outdated['dependency_date']=pd.to_datetime(dev_per_outdated['dependency_date'])\n",
    "dev_per_outdated['latest_dependency_release']=pd.to_datetime(dev_per_outdated['latest_dependency_release'])\n",
    "dev_per_outdated['time']=dev_per_outdated['latest_dependency_release']- dev_per_outdated['dependency_date']"
   ]
  },
  {
   "cell_type": "code",
   "execution_count": 77,
   "metadata": {},
   "outputs": [
    {
     "name": "stdout",
     "output_type": "stream",
     "text": [
      "0.5859555962075113 0.24629251000213043\n"
     ]
    }
   ],
   "source": [
    "print(len(dev_per_outdated.groupby('package'))/len(dep_ver.groupby('package')), len(dev_per_outdated)/len(dep_ver))"
   ]
  },
  {
   "cell_type": "code",
   "execution_count": 79,
   "metadata": {},
   "outputs": [
    {
     "data": {
      "text/plain": [
       "11368780"
      ]
     },
     "execution_count": 79,
     "metadata": {},
     "output_type": "execute_result"
    }
   ],
   "source": [
    "len(dev_per_outdated)"
   ]
  },
  {
   "cell_type": "code",
   "execution_count": 12,
   "metadata": {},
   "outputs": [],
   "source": [
    "dev_per_outdated=pd.read_csv('../icsr2018/csv/outdated_deps-20-11.csv', sep=';', dtype=object, index_col=None,  error_bad_lines=False)\n",
    "\n",
    "dev_per_outdated['dependency_date']=dev_per_outdated['dependency_date'].apply(lambda x: str(x).split()[0])\n",
    "dev_per_outdated['latest_dependency_release']=dev_per_outdated['latest_dependency_release'].apply(lambda x: str(x).split()[0])\n",
    "\n",
    "dev_per_outdated['dependency_date']=pd.to_datetime(dev_per_outdated['dependency_date'])\n",
    "dev_per_outdated['latest_dependency_release']=pd.to_datetime(dev_per_outdated['latest_dependency_release'])\n",
    "dev_per_outdated['time']=dev_per_outdated['latest_dependency_release']- dev_per_outdated['dependency_date']\n",
    "len(dev_per_outdated)"
   ]
  },
  {
   "cell_type": "code",
   "execution_count": 17,
   "metadata": {},
   "outputs": [
    {
     "data": {
      "text/html": [
       "<div>\n",
       "<style scoped>\n",
       "    .dataframe tbody tr th:only-of-type {\n",
       "        vertical-align: middle;\n",
       "    }\n",
       "\n",
       "    .dataframe tbody tr th {\n",
       "        vertical-align: top;\n",
       "    }\n",
       "\n",
       "    .dataframe thead th {\n",
       "        text-align: right;\n",
       "    }\n",
       "</style>\n",
       "<table border=\"1\" class=\"dataframe\">\n",
       "  <thead>\n",
       "    <tr style=\"text-align: right;\">\n",
       "      <th></th>\n",
       "      <th>dependency</th>\n",
       "      <th>package</th>\n",
       "      <th>package.1</th>\n",
       "      <th>version_date</th>\n",
       "      <th>dependency_constraint</th>\n",
       "      <th>dependency_kind</th>\n",
       "      <th>dependency_version</th>\n",
       "      <th>dependency_date</th>\n",
       "      <th>latest_dependency_release</th>\n",
       "      <th>type</th>\n",
       "      <th>time</th>\n",
       "    </tr>\n",
       "  </thead>\n",
       "  <tbody>\n",
       "    <tr>\n",
       "      <th>0</th>\n",
       "      <td>zygon</td>\n",
       "      <td>ood</td>\n",
       "      <td>ood</td>\n",
       "      <td>2016-02-08 00:17:23 UTC</td>\n",
       "      <td>^0.0.4</td>\n",
       "      <td>runtime</td>\n",
       "      <td>0.0.4</td>\n",
       "      <td>2016-01-28</td>\n",
       "      <td>2016-01-30</td>\n",
       "      <td>caret</td>\n",
       "      <td>2 days</td>\n",
       "    </tr>\n",
       "    <tr>\n",
       "      <th>1</th>\n",
       "      <td>zygon</td>\n",
       "      <td>ood</td>\n",
       "      <td>ood</td>\n",
       "      <td>2016-02-05 21:26:27 UTC</td>\n",
       "      <td>^0.0.4</td>\n",
       "      <td>runtime</td>\n",
       "      <td>0.0.4</td>\n",
       "      <td>2016-01-28</td>\n",
       "      <td>2016-01-30</td>\n",
       "      <td>caret</td>\n",
       "      <td>2 days</td>\n",
       "    </tr>\n",
       "    <tr>\n",
       "      <th>2</th>\n",
       "      <td>zygon</td>\n",
       "      <td>ood</td>\n",
       "      <td>ood</td>\n",
       "      <td>2016-01-31 19:23:41 UTC</td>\n",
       "      <td>^0.0.4</td>\n",
       "      <td>runtime</td>\n",
       "      <td>0.0.4</td>\n",
       "      <td>2016-01-28</td>\n",
       "      <td>2016-01-30</td>\n",
       "      <td>caret</td>\n",
       "      <td>2 days</td>\n",
       "    </tr>\n",
       "    <tr>\n",
       "      <th>3</th>\n",
       "      <td>zygon</td>\n",
       "      <td>ood</td>\n",
       "      <td>ood</td>\n",
       "      <td>2016-02-07 14:09:36 UTC</td>\n",
       "      <td>^0.0.4</td>\n",
       "      <td>runtime</td>\n",
       "      <td>0.0.4</td>\n",
       "      <td>2016-01-28</td>\n",
       "      <td>2016-01-30</td>\n",
       "      <td>caret</td>\n",
       "      <td>2 days</td>\n",
       "    </tr>\n",
       "    <tr>\n",
       "      <th>4</th>\n",
       "      <td>zxcvbn</td>\n",
       "      <td>@parity/ui</td>\n",
       "      <td>@parity/ui</td>\n",
       "      <td>2017-09-28 11:35:42 UTC</td>\n",
       "      <td>4.4.1</td>\n",
       "      <td>runtime</td>\n",
       "      <td>4.4.1</td>\n",
       "      <td>2016-10-31</td>\n",
       "      <td>2017-02-07</td>\n",
       "      <td>strict</td>\n",
       "      <td>99 days</td>\n",
       "    </tr>\n",
       "  </tbody>\n",
       "</table>\n",
       "</div>"
      ],
      "text/plain": [
       "  dependency     package   package.1             version_date  \\\n",
       "0      zygon         ood         ood  2016-02-08 00:17:23 UTC   \n",
       "1      zygon         ood         ood  2016-02-05 21:26:27 UTC   \n",
       "2      zygon         ood         ood  2016-01-31 19:23:41 UTC   \n",
       "3      zygon         ood         ood  2016-02-07 14:09:36 UTC   \n",
       "4     zxcvbn  @parity/ui  @parity/ui  2017-09-28 11:35:42 UTC   \n",
       "\n",
       "  dependency_constraint dependency_kind dependency_version dependency_date  \\\n",
       "0                ^0.0.4         runtime              0.0.4      2016-01-28   \n",
       "1                ^0.0.4         runtime              0.0.4      2016-01-28   \n",
       "2                ^0.0.4         runtime              0.0.4      2016-01-28   \n",
       "3                ^0.0.4         runtime              0.0.4      2016-01-28   \n",
       "4                 4.4.1         runtime              4.4.1      2016-10-31   \n",
       "\n",
       "  latest_dependency_release    type    time  \n",
       "0                2016-01-30   caret  2 days  \n",
       "1                2016-01-30   caret  2 days  \n",
       "2                2016-01-30   caret  2 days  \n",
       "3                2016-01-30   caret  2 days  \n",
       "4                2017-02-07  strict 99 days  "
      ]
     },
     "execution_count": 17,
     "metadata": {},
     "output_type": "execute_result"
    }
   ],
   "source": [
    "dev_per_outdated.head()"
   ]
  },
  {
   "cell_type": "markdown",
   "metadata": {},
   "source": [
    "# Begin Analysis : tech_lag_updates-16-11.csv"
   ]
  },
  {
   "cell_type": "code",
   "execution_count": 31,
   "metadata": {},
   "outputs": [],
   "source": [
    "tech_lag_calcul=pd.read_csv('../icsr2018/csv/tech_lag_updates-16-11.csv', sep=';', dtype=object, index_col=None)\n",
    "len(tech_lag_calcul)\n",
    "tech_lag_calcul['release_type']=tech_lag_calcul['major_release']+';'+tech_lag_calcul['minor_release']+';'+tech_lag_calcul['patch_release']\n",
    "\n",
    "tech_lag_calcul['release_type']=tech_lag_calcul['release_type'].apply(lambda x: 'major release' if str(x).split(';')[0]!=\"False\"\n",
    "                                                     else 'minor release' if str(x).split(';')[1]!=\"False\"\n",
    "                                                     else 'patch release' if str(x).split(';')[2]!=\"False\"\n",
    "                                                     else 'first release')"
   ]
  },
  {
   "cell_type": "code",
   "execution_count": 32,
   "metadata": {},
   "outputs": [
    {
     "data": {
      "text/html": [
       "<div>\n",
       "<style scoped>\n",
       "    .dataframe tbody tr th:only-of-type {\n",
       "        vertical-align: middle;\n",
       "    }\n",
       "\n",
       "    .dataframe tbody tr th {\n",
       "        vertical-align: top;\n",
       "    }\n",
       "\n",
       "    .dataframe thead th {\n",
       "        text-align: right;\n",
       "    }\n",
       "</style>\n",
       "<table border=\"1\" class=\"dataframe\">\n",
       "  <thead>\n",
       "    <tr style=\"text-align: right;\">\n",
       "      <th></th>\n",
       "      <th>package</th>\n",
       "      <th>version</th>\n",
       "      <th>date</th>\n",
       "      <th>major_release</th>\n",
       "      <th>minor_release</th>\n",
       "      <th>patch_release</th>\n",
       "      <th>added</th>\n",
       "      <th>removed</th>\n",
       "      <th>stayed</th>\n",
       "      <th>updated_major</th>\n",
       "      <th>updated_minor</th>\n",
       "      <th>updated_patch</th>\n",
       "      <th>updates</th>\n",
       "      <th>updates_inverse</th>\n",
       "      <th>updated_constraint</th>\n",
       "      <th>falses</th>\n",
       "      <th>release_type</th>\n",
       "    </tr>\n",
       "  </thead>\n",
       "  <tbody>\n",
       "    <tr>\n",
       "      <th>0</th>\n",
       "      <td>@0x5e/react-native-alipay</td>\n",
       "      <td>0.1.0</td>\n",
       "      <td>2017-10-11</td>\n",
       "      <td>False</td>\n",
       "      <td>False</td>\n",
       "      <td>False</td>\n",
       "      <td>1</td>\n",
       "      <td>0</td>\n",
       "      <td>0</td>\n",
       "      <td>0</td>\n",
       "      <td>0</td>\n",
       "      <td>0</td>\n",
       "      <td>0</td>\n",
       "      <td>0</td>\n",
       "      <td>0</td>\n",
       "      <td>0</td>\n",
       "      <td>first release</td>\n",
       "    </tr>\n",
       "    <tr>\n",
       "      <th>1</th>\n",
       "      <td>@0x5e/react-native-alipay</td>\n",
       "      <td>0.2.0</td>\n",
       "      <td>2017-10-13</td>\n",
       "      <td>False</td>\n",
       "      <td>2</td>\n",
       "      <td>False</td>\n",
       "      <td>4</td>\n",
       "      <td>0</td>\n",
       "      <td>1</td>\n",
       "      <td>0</td>\n",
       "      <td>0</td>\n",
       "      <td>0</td>\n",
       "      <td>0</td>\n",
       "      <td>0</td>\n",
       "      <td>0</td>\n",
       "      <td>0</td>\n",
       "      <td>minor release</td>\n",
       "    </tr>\n",
       "    <tr>\n",
       "      <th>2</th>\n",
       "      <td>@0x5e/react-native-alipay</td>\n",
       "      <td>0.2.2</td>\n",
       "      <td>2017-10-18</td>\n",
       "      <td>False</td>\n",
       "      <td>False</td>\n",
       "      <td>5</td>\n",
       "      <td>3</td>\n",
       "      <td>1</td>\n",
       "      <td>4</td>\n",
       "      <td>0</td>\n",
       "      <td>0</td>\n",
       "      <td>0</td>\n",
       "      <td>0</td>\n",
       "      <td>0</td>\n",
       "      <td>0</td>\n",
       "      <td>0</td>\n",
       "      <td>patch release</td>\n",
       "    </tr>\n",
       "    <tr>\n",
       "      <th>3</th>\n",
       "      <td>@0x7/id-convert</td>\n",
       "      <td>0.0.1</td>\n",
       "      <td>2017-08-16</td>\n",
       "      <td>False</td>\n",
       "      <td>False</td>\n",
       "      <td>False</td>\n",
       "      <td>2</td>\n",
       "      <td>0</td>\n",
       "      <td>0</td>\n",
       "      <td>0</td>\n",
       "      <td>0</td>\n",
       "      <td>0</td>\n",
       "      <td>0</td>\n",
       "      <td>0</td>\n",
       "      <td>0</td>\n",
       "      <td>0</td>\n",
       "      <td>first release</td>\n",
       "    </tr>\n",
       "    <tr>\n",
       "      <th>4</th>\n",
       "      <td>@0x7/id-convert</td>\n",
       "      <td>0.0.2</td>\n",
       "      <td>2017-08-16</td>\n",
       "      <td>False</td>\n",
       "      <td>False</td>\n",
       "      <td>0</td>\n",
       "      <td>0</td>\n",
       "      <td>0</td>\n",
       "      <td>2</td>\n",
       "      <td>0</td>\n",
       "      <td>0</td>\n",
       "      <td>0</td>\n",
       "      <td>0</td>\n",
       "      <td>0</td>\n",
       "      <td>0</td>\n",
       "      <td>0</td>\n",
       "      <td>patch release</td>\n",
       "    </tr>\n",
       "  </tbody>\n",
       "</table>\n",
       "</div>"
      ],
      "text/plain": [
       "                     package version        date major_release minor_release  \\\n",
       "0  @0x5e/react-native-alipay   0.1.0  2017-10-11         False         False   \n",
       "1  @0x5e/react-native-alipay   0.2.0  2017-10-13         False             2   \n",
       "2  @0x5e/react-native-alipay   0.2.2  2017-10-18         False         False   \n",
       "3            @0x7/id-convert   0.0.1  2017-08-16         False         False   \n",
       "4            @0x7/id-convert   0.0.2  2017-08-16         False         False   \n",
       "\n",
       "  patch_release added removed stayed updated_major updated_minor  \\\n",
       "0         False     1       0      0             0             0   \n",
       "1         False     4       0      1             0             0   \n",
       "2             5     3       1      4             0             0   \n",
       "3         False     2       0      0             0             0   \n",
       "4             0     0       0      2             0             0   \n",
       "\n",
       "  updated_patch updates updates_inverse updated_constraint falses  \\\n",
       "0             0       0               0                  0      0   \n",
       "1             0       0               0                  0      0   \n",
       "2             0       0               0                  0      0   \n",
       "3             0       0               0                  0      0   \n",
       "4             0       0               0                  0      0   \n",
       "\n",
       "    release_type  \n",
       "0  first release  \n",
       "1  minor release  \n",
       "2  patch release  \n",
       "3  first release  \n",
       "4  patch release  "
      ]
     },
     "execution_count": 32,
     "metadata": {},
     "output_type": "execute_result"
    }
   ],
   "source": [
    "tech_lag_calcul.head()"
   ]
  },
  {
   "cell_type": "code",
   "execution_count": 12,
   "metadata": {},
   "outputs": [
    {
     "data": {
      "text/plain": [
       "1141484"
      ]
     },
     "execution_count": 12,
     "metadata": {},
     "output_type": "execute_result"
    }
   ],
   "source": [
    "len(tech_lag_calcul.query('updates!=\"0\"'))"
   ]
  },
  {
   "cell_type": "code",
   "execution_count": 13,
   "metadata": {},
   "outputs": [
    {
     "data": {
      "text/plain": [
       "29855"
      ]
     },
     "execution_count": 13,
     "metadata": {},
     "output_type": "execute_result"
    }
   ],
   "source": [
    "len(tech_lag_calcul.query('updates_inverse!=\"0\"'))"
   ]
  },
  {
   "cell_type": "code",
   "execution_count": 15,
   "metadata": {},
   "outputs": [
    {
     "data": {
      "text/html": [
       "<div>\n",
       "<style scoped>\n",
       "    .dataframe tbody tr th:only-of-type {\n",
       "        vertical-align: middle;\n",
       "    }\n",
       "\n",
       "    .dataframe tbody tr th {\n",
       "        vertical-align: top;\n",
       "    }\n",
       "\n",
       "    .dataframe thead th {\n",
       "        text-align: right;\n",
       "    }\n",
       "</style>\n",
       "<table border=\"1\" class=\"dataframe\">\n",
       "  <thead>\n",
       "    <tr style=\"text-align: right;\">\n",
       "      <th></th>\n",
       "      <th>package</th>\n",
       "      <th>version</th>\n",
       "      <th>date</th>\n",
       "      <th>major_release</th>\n",
       "      <th>minor_release</th>\n",
       "      <th>patch_release</th>\n",
       "      <th>added</th>\n",
       "      <th>removed</th>\n",
       "      <th>stayed</th>\n",
       "      <th>updated_major</th>\n",
       "      <th>updated_minor</th>\n",
       "      <th>updated_patch</th>\n",
       "      <th>updates</th>\n",
       "      <th>updates_inverse</th>\n",
       "      <th>updated_constraint</th>\n",
       "      <th>falses</th>\n",
       "    </tr>\n",
       "    <tr>\n",
       "      <th>release_type</th>\n",
       "      <th></th>\n",
       "      <th></th>\n",
       "      <th></th>\n",
       "      <th></th>\n",
       "      <th></th>\n",
       "      <th></th>\n",
       "      <th></th>\n",
       "      <th></th>\n",
       "      <th></th>\n",
       "      <th></th>\n",
       "      <th></th>\n",
       "      <th></th>\n",
       "      <th></th>\n",
       "      <th></th>\n",
       "      <th></th>\n",
       "      <th></th>\n",
       "    </tr>\n",
       "  </thead>\n",
       "  <tbody>\n",
       "    <tr>\n",
       "      <th>patch</th>\n",
       "      <td>0.800730</td>\n",
       "      <td>2484571</td>\n",
       "      <td>2484571</td>\n",
       "      <td>2484571</td>\n",
       "      <td>2484571</td>\n",
       "      <td>2484571</td>\n",
       "      <td>2484571</td>\n",
       "      <td>2484571</td>\n",
       "      <td>2484571</td>\n",
       "      <td>2484571</td>\n",
       "      <td>2484571</td>\n",
       "      <td>2484571</td>\n",
       "      <td>2484571</td>\n",
       "      <td>2484571</td>\n",
       "      <td>2484571</td>\n",
       "      <td>2484571</td>\n",
       "    </tr>\n",
       "    <tr>\n",
       "      <th>minor</th>\n",
       "      <td>0.159021</td>\n",
       "      <td>493424</td>\n",
       "      <td>493424</td>\n",
       "      <td>493424</td>\n",
       "      <td>493424</td>\n",
       "      <td>493424</td>\n",
       "      <td>493424</td>\n",
       "      <td>493424</td>\n",
       "      <td>493424</td>\n",
       "      <td>493424</td>\n",
       "      <td>493424</td>\n",
       "      <td>493424</td>\n",
       "      <td>493424</td>\n",
       "      <td>493424</td>\n",
       "      <td>493424</td>\n",
       "      <td>493424</td>\n",
       "    </tr>\n",
       "    <tr>\n",
       "      <th>major</th>\n",
       "      <td>0.040249</td>\n",
       "      <td>124887</td>\n",
       "      <td>124887</td>\n",
       "      <td>124887</td>\n",
       "      <td>124887</td>\n",
       "      <td>124887</td>\n",
       "      <td>124887</td>\n",
       "      <td>124887</td>\n",
       "      <td>124887</td>\n",
       "      <td>124887</td>\n",
       "      <td>124887</td>\n",
       "      <td>124887</td>\n",
       "      <td>124887</td>\n",
       "      <td>124887</td>\n",
       "      <td>124887</td>\n",
       "      <td>124887</td>\n",
       "    </tr>\n",
       "  </tbody>\n",
       "</table>\n",
       "</div>"
      ],
      "text/plain": [
       "               package  version     date  major_release  minor_release  \\\n",
       "release_type                                                             \n",
       "patch         0.800730  2484571  2484571        2484571        2484571   \n",
       "minor         0.159021   493424   493424         493424         493424   \n",
       "major         0.040249   124887   124887         124887         124887   \n",
       "\n",
       "              patch_release    added  removed   stayed  updated_major  \\\n",
       "release_type                                                            \n",
       "patch               2484571  2484571  2484571  2484571        2484571   \n",
       "minor                493424   493424   493424   493424         493424   \n",
       "major                124887   124887   124887   124887         124887   \n",
       "\n",
       "              updated_minor  updated_patch  updates  updates_inverse  \\\n",
       "release_type                                                           \n",
       "patch               2484571        2484571  2484571          2484571   \n",
       "minor                493424         493424   493424           493424   \n",
       "major                124887         124887   124887           124887   \n",
       "\n",
       "              updated_constraint   falses  \n",
       "release_type                               \n",
       "patch                    2484571  2484571  \n",
       "minor                     493424   493424  \n",
       "major                     124887   124887  "
      ]
     },
     "execution_count": 15,
     "metadata": {},
     "output_type": "execute_result"
    }
   ],
   "source": [
    "a"
   ]
  },
  {
   "cell_type": "code",
   "execution_count": 14,
   "metadata": {},
   "outputs": [
    {
     "name": "stderr",
     "output_type": "stream",
     "text": [
      "/usr/local/lib/python3.5/dist-packages/ipykernel_launcher.py:2: SettingWithCopyWarning: \n",
      "A value is trying to be set on a copy of a slice from a DataFrame.\n",
      "Try using .loc[row_indexer,col_indexer] = value instead\n",
      "\n",
      "See the caveats in the documentation: http://pandas.pydata.org/pandas-docs/stable/indexing.html#indexing-view-versus-copy\n",
      "  \n"
     ]
    },
    {
     "data": {
      "text/plain": [
       "<matplotlib.legend.Legend at 0x7fd4a4bcd0f0>"
      ]
     },
     "execution_count": 14,
     "metadata": {},
     "output_type": "execute_result"
    },
    {
     "data": {
      "image/png": "[encoded data removed]",
      "text/plain": [
       "<matplotlib.figure.Figure at 0x7fd4a4c17da0>"
      ]
     },
     "metadata": {},
     "output_type": "display_data"
    }
   ],
   "source": [
    "updates=tech_lag_calcul.query('release_type!=\"first release\"')\n",
    "updates['release_type']=updates['release_type'].apply(lambda x: str(x).split()[0])\n",
    "a=updates.groupby('release_type').count()\n",
    "a.sort_values(['package'], ascending=False, inplace=True)\n",
    "a['package']=a['package'].apply(lambda x: float(x)/float(len(updates)))\n",
    "ax=a.plot(kind='bar', y='package', color='brown')\n",
    "ax.figure.set_size_inches(4,3)\n",
    "ax.set_xlabel('')\n",
    "ax.set_ylabel('number of releases')\n",
    "ax.legend('')\n",
    "#ax.figure.savefig('../../seneca_research/ICSR2018/figures/type_of_releases.pdf', bbox_inches='tight', facecolor='white')"
   ]
  },
  {
   "cell_type": "code",
   "execution_count": 39,
   "metadata": {},
   "outputs": [
    {
     "data": {
      "text/plain": [
       "3102882"
      ]
     },
     "execution_count": 39,
     "metadata": {},
     "output_type": "execute_result"
    }
   ],
   "source": [
    "updates=tech_lag_calcul.loc[:,['release_type','updated_major','updated_minor','updated_patch']]\n",
    "updates['updated_major']=updates['updated_major'].apply(float)\n",
    "updates['updated_minor']=updates['updated_minor'].apply(float)\n",
    "updates['updated_patch']=updates['updated_patch'].apply(float)\n",
    "#updates['release_type']=updates['major_release']+';'+updates['minor_release']+';'+updates['patch_release']\n",
    "#updates=updates.query('updated_major != 0 or updated_minor != 0 or updated_patch != 0')\n",
    "updates=updates.query('release_type!=\"first release\"')\n",
    "# updates['time']=updates['release_type'].apply(lambda x: str(x).split(';')[0] if str(x).split(';')[0]!=\"False\"\n",
    "#                                                      else str(x).split(';')[1] if str(x).split(';')[1]!=\"False\"\n",
    "#                                                      else str(x).split(';')[2])\n",
    "updates=updates.loc[:,['updated_major','updated_minor','updated_patch','release_type']]\n",
    "len(updates)"
   ]
  },
  {
   "cell_type": "code",
   "execution_count": 40,
   "metadata": {},
   "outputs": [
    {
     "data": {
      "image/png": "[encoded data removed]",
      "text/plain": [
       "<matplotlib.figure.Figure at 0x7f86589ec400>"
      ]
     },
     "metadata": {},
     "output_type": "display_data"
    }
   ],
   "source": [
    "updates2=updates.rename(columns = {'updated_major':'updated to major','updated_minor':'updated to minor', 'updated_patch':'updated to patch'})\n",
    "updates_2=pd.melt(updates2, id_vars=['release_type'], value_vars=['updated to major','updated to minor','updated to patch'])\n",
    "updates_2=updates_2.rename(columns = {'variable':'updates'})\n",
    "ax = sns.boxplot(y=\"value\", x=\"updates\", hue=\"release_type\", data=updates_2, hue_order=['major release','minor release','patch release'], palette=['brown','gray','green','blue'], saturation=0.5)#, split=True)#, order=order)    \n",
    "ax.set_ylabel('')\n",
    "ax.set_xlabel('')\n",
    "#ax.set_yscale('log')\n",
    "ax.figure.set_size_inches(12,3)\n",
    "ax.set_ylim(0,5)\n",
    "ax.legend( loc='upper right', bbox_to_anchor=(1, 1.2), fontsize=15,ncol=3, fancybox=True, shadow=True)\n",
    "ax.figure.savefig('../../seneca_research/ICSR2018/figures/updating.pdf', bbox_inches='tight', facecolor='white')"
   ]
  },
  {
   "cell_type": "code",
   "execution_count": 41,
   "metadata": {},
   "outputs": [
    {
     "data": {
      "text/plain": [
       "3102882"
      ]
     },
     "execution_count": 41,
     "metadata": {},
     "output_type": "execute_result"
    }
   ],
   "source": [
    "updates=tech_lag_calcul.loc[:,['release_type','added','stayed','removed']]\n",
    "updates['added deps']=updates['added'].apply(float)\n",
    "updates['stayed deps']=updates['stayed'].apply(float)\n",
    "updates['removed deps']=updates['removed'].apply(float)\n",
    "updates=updates.query('release_type!=\"first release\"')\n",
    "#updates=updates.query('updated_major != 0 or updated_minor != 0 or updated_patch != 0')\n",
    "updates=updates.loc[:,['added deps','removed deps','stayed deps','release_type']]\n",
    "len(updates)"
   ]
  },
  {
   "cell_type": "code",
   "execution_count": 42,
   "metadata": {},
   "outputs": [
    {
     "data": {
      "image/png": "[encoded data removed]",
      "text/plain": [
       "<matplotlib.figure.Figure at 0x7f85de79beb8>"
      ]
     },
     "metadata": {},
     "output_type": "display_data"
    }
   ],
   "source": [
    "updates_2=pd.melt(updates, id_vars=['release_type'], value_vars=['added deps','removed deps','stayed deps'])\n",
    "updates_2=updates_2.rename(columns = {'variable':'deps'})\n",
    "ax = sns.boxplot(y=\"value\", x=\"deps\", hue=\"release_type\", data=updates_2, hue_order=['major release','minor release','patch release'], palette=['brown','gray','green','blue'], saturation=0.5)#, split=True)#, order=order)    \n",
    "ax.set_ylabel('')\n",
    "ax.set_xlabel('')\n",
    "#ax.set_yscale('log')\n",
    "ax.figure.set_size_inches(12,3)\n",
    "ax.set_ylim(0,15)\n",
    "ax.legend( loc='upper right', bbox_to_anchor=(1, 1.2), fontsize=15,ncol=3, fancybox=True, shadow=True)\n",
    "ax.figure.savefig('../../seneca_research/ICSR2018/figures/added_removed_stayed_deps.pdf', bbox_inches='tight', facecolor='white')\n"
   ]
  },
  {
   "cell_type": "code",
   "execution_count": 44,
   "metadata": {},
   "outputs": [],
   "source": [
    "updates=tech_lag_calcul.loc[:,['release_type','major_release','minor_release','patch_release']]\n",
    "updates=updates.query('release_type!=\"first release\"')\n",
    "updates['release_type']=updates['major_release']+';'+updates['minor_release']+';'+updates['patch_release']\n",
    "#updates=updates.query('updated_major != 0 or updated_minor != 0 or updated_patch != 0')\n",
    "updates['time']=updates['release_type'].apply(lambda x: str(x).split(';')[0] if str(x).split(';')[0]!=\"False\"\n",
    "                                                     else str(x).split(';')[1] if str(x).split(';')[1]!=\"False\"\n",
    "                                                     else str(x).split(';')[2])\n",
    "updates['time before releasing']=updates['time'].apply(float)\n",
    "updates['release_type']=updates['release_type'].apply(lambda x: 'major release' if str(x).split(';')[0]!=\"False\"\n",
    "                                                     else 'minor release' if str(x).split(';')[1]!=\"False\"\n",
    "                                                     else 'patch release')\n",
    "updates=updates.loc[:,['time before releasing','release_type']]\n"
   ]
  },
  {
   "cell_type": "code",
   "execution_count": 45,
   "metadata": {},
   "outputs": [
    {
     "data": {
      "image/png": "[encoded data removed]",
      "text/plain": [
       "<matplotlib.figure.Figure at 0x7f85de8625f8>"
      ]
     },
     "metadata": {},
     "output_type": "display_data"
    }
   ],
   "source": [
    "updates_2=updates\n",
    "#updates_2=updates_2.rename(columns = {'variable':'deps'})\n",
    "ax = sns.boxplot(y=\"time before releasing\", x=\"release_type\", data=updates_2, order=['major release','minor release','patch release'], palette=['brown','gray','green','blue'], saturation=0.5)#, split=True)#, order=order)    \n",
    "ax.set_ylabel('')\n",
    "ax.set_xlabel('')\n",
    "#ax.set_yscale('log')\n",
    "ax.figure.set_size_inches(12,3)\n",
    "ax.set_ylim(0,200)\n",
    "ax.set_ylabel('time before releasing in days')\n",
    "ax.legend( loc='upper right', bbox_to_anchor=(1, 1.2), fontsize=15,ncol=3, fancybox=True, shadow=True)\n",
    "ax.figure.savefig('../../seneca_research/ICSR2018/figures/time_before_releasing.pdf', bbox_inches='tight', facecolor='white')\n"
   ]
  },
  {
   "cell_type": "code",
   "execution_count": null,
   "metadata": {},
   "outputs": [],
   "source": []
  }
 ],
 "metadata": {
  "kernelspec": {
   "display_name": "Python 3",
   "language": "python",
   "name": "python3"
  },
  "language_info": {
   "codemirror_mode": {
    "name": "ipython",
    "version": 3
   },
   "file_extension": ".py",
   "mimetype": "text/x-python",
   "name": "python",
   "nbconvert_exporter": "python",
   "pygments_lexer": "ipython3",
   "version": "3.5.2"
  }
 },
 "nbformat": 4,
 "nbformat_minor": 2
}
