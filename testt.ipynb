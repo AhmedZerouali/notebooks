{
 "cells": [
  {
   "cell_type": "code",
   "execution_count": 2,
   "metadata": {
    "collapsed": false
   },
   "outputs": [],
   "source": [
    "from pymining import seqmining \n",
    "import matplotlib as plt\n",
    "import os\n",
    "import pandas as pd\n",
    "import numpy as np\n",
    "from __future__ import division"
   ]
  },
  {
   "cell_type": "code",
   "execution_count": 36,
   "metadata": {
    "collapsed": false
   },
   "outputs": [
    {
     "data": {
      "text/plain": [
       "7029"
      ]
     },
     "execution_count": 36,
     "metadata": {},
     "output_type": "execute_result"
    }
   ],
   "source": [
    "tab=[]\n",
    "f=open('freq_packages_perFile_moreThan2.csv','w')\n",
    "with open('../4_libraries/csv/freq_packages_perFile.csv') as csvfile:\n",
    "    for line in csvfile.readlines():\n",
    "        #line=line.rstrip('\\n')\n",
    "        line1=line.split(';')\n",
    "        if(len(line1)>1):\n",
    "            f.write(line)\n",
    "            tab.append(line1)\n",
    "f.close()\n",
    "len(tab)"
   ]
  },
  {
   "cell_type": "code",
   "execution_count": null,
   "metadata": {
    "collapsed": false
   },
   "outputs": [],
   "source": [
    "#transactions = tab\n",
    "transactions_all = tab\n",
    "\n",
    "#relim_input = itemmining.get_relim_input(transactions)\n",
    "#report = itemmining.relim(relim_input, min_support=1)\n",
    "#report\n",
    "#freq_seqs = seqmining.freq_seq_enum(transactions, 1)\n",
    "#print(\"Seuls: \",sorted(freq_seqs))\n",
    "freq_seqs = seqmining.freq_seq_enum(transactions_all, 1)\n",
    "reported(freq_seqs)"
   ]
  },
  {
   "cell_type": "code",
   "execution_count": null,
   "metadata": {
    "collapsed": false
   },
   "outputs": [],
   "source": [
    "list_freq= list(sorted(freq_seqs))\n",
    "for x in list_freq:\n",
    "    y=str(x[0]).replace(\"1\",\"Junit\").replace(\"2\",\"Testng\").replace(\"3\",\"Hamcrest\").replace(\"4\",\"Spring\").replace(\"5\",\"Aquill\").replace(\"6\",\"dbunit\").replace(\"7\",\"Mockito\").replace(\"8\",\"EasyMock\").replace(\"9\",\"Powermock\")\n",
    "    per=int(x[1])/4.96\n",
    "    print(y, str(round(per,2))+\"%\")"
   ]
  },
  {
   "cell_type": "code",
   "execution_count": 69,
   "metadata": {
    "collapsed": false
   },
   "outputs": [
    {
     "data": {
      "text/plain": [
       "6109"
      ]
     },
     "execution_count": 69,
     "metadata": {},
     "output_type": "execute_result"
    }
   ],
   "source": [
    "from datetime import datetime\n",
    "\n",
    "def days_between(d1, d2):\n",
    "    d1 = datetime.strptime(d1, \"%Y-%m-%d\")\n",
    "    d2 = datetime.strptime(d2, \"%Y-%m-%d\")\n",
    "    return abs((d2 - d1).days)\n",
    "days_between('2000-01-01','2016-09-22')"
   ]
  },
  {
   "cell_type": "code",
   "execution_count": 14,
   "metadata": {
    "collapsed": false
   },
   "outputs": [],
   "source": [
    "import json, requests\n",
    "import re\n",
    "libraries = [line.rstrip('\\n') for line in open('../experiments/github_issues/name_libraries')]\n",
    "def parse(project):\n",
    "    project=project.strip('\\n')\n",
    "    project=project.split('#')\n",
    "    #url=\"https://api.github.com/repos/101companies/101repo/issues?state=all&access_token=fe0f5d4c2a17649c0fa1558527c5bfa6da7f2421&per_page=1000\"\n",
    "    url=\"https://api.github.com/repos/\"+project[0]+\"/\"+project[1]+\"/issues?state=all&access_token=fe0f5d4c2a17649c0fa1558527c5bfa6da7f2421&per_page=1000\"\n",
    "    #print(url)\n",
    "    resp=requests.get(url)\n",
    "    data = json.loads(resp.text)\n",
    "    return data;\n",
    "def check(data, f):\n",
    "    for element in data:\n",
    "        try:\n",
    "            chaine=\"\"\n",
    "            body=element['body'].encode('utf-8')\n",
    "            i=0\n",
    "            for lib in libraries:\n",
    "                if lib in body:\n",
    "                    chaine=chaine+str(i)+';'\n",
    "                i=i+1\n",
    "        except:\n",
    "            #print('erreur')\n",
    "            pass\n",
    "        if chaine!=\"\":\n",
    "            f.write(chaine+'\\n')\n",
    "        \n",
    "def main():\n",
    "    f=open('../experiments/github_issues/issues_libraries.csv','w')\n",
    "    with open('../experiments/github_issues/all_projects') as projects:\n",
    "        s=0\n",
    "        for project in projects.readlines():\n",
    "            try:\n",
    "                data=parse(project)\n",
    "            except:\n",
    "                pass\n",
    "            if(len(data)>0):\n",
    "                check(data,f)\n",
    "            if s==0:\n",
    "                break;\n",
    "            else:\n",
    "                print(s)\n",
    "                s=s+1\n",
    "    f.close()\n",
    "main()\n",
    "    "
   ]
  },
  {
   "cell_type": "code",
   "execution_count": 55,
   "metadata": {
    "collapsed": false
   },
   "outputs": [],
   "source": [
    "data = json.dumps(str(r.content))"
   ]
  },
  {
   "cell_type": "code",
   "execution_count": 61,
   "metadata": {
    "collapsed": false
   },
   "outputs": [],
   "source": [
    "dat=json.loads(data)"
   ]
  },
  {
   "cell_type": "code",
   "execution_count": 83,
   "metadata": {
    "collapsed": false
   },
   "outputs": [],
   "source": [
    "with open('../experiments/issues.json') as data_file:    \n",
    "    data = json.load(data_file)"
   ]
  },
  {
   "cell_type": "code",
   "execution_count": 23,
   "metadata": {
    "collapsed": false
   },
   "outputs": [
    {
     "data": {
      "text/plain": [
       "274"
      ]
     },
     "execution_count": 23,
     "metadata": {},
     "output_type": "execute_result"
    }
   ],
   "source": [
    "all_versions_ignore=pd.read_csv('testing/next_work/all_versions_ignore.csv', sep=';', dtype=object, index_col=None)\n",
    "all_versions_ignore['number']=all_versions_ignore['number'].apply(int)\n",
    "all_versions_ignore=all_versions_ignore.sort_values([\"number\"], ascending=False)\n",
    "numpyMatrix = all_versions_ignore[all_versions_ignore['number']>=50].version.as_matrix()\n",
    "len(numpyMatrix)"
   ]
  },
  {
   "cell_type": "code",
   "execution_count": 15,
   "metadata": {
    "collapsed": false
   },
   "outputs": [],
   "source": [
    "numpyMatrixDict=dict.fromkeys(numpyMatrix,0)"
   ]
  },
  {
   "cell_type": "code",
   "execution_count": 25,
   "metadata": {
    "collapsed": false
   },
   "outputs": [],
   "source": [
    "numpyMatrixDict={}\n",
    "libs={}\n",
    "i=0\n",
    "for pro in os.listdir('../4_libraries/tf-idf_libraries/'):\n",
    "    numpyMatrixDict[pro]=dict.fromkeys(numpyMatrix,0)\n",
    "    with open('../4_libraries/tf-idf_libraries/'+pro) as csvfile:\n",
    "        for line in csvfile.readlines():\n",
    "            line=line.rstrip('\\n')\n",
    "            try:\n",
    "                numpyMatrixDict[pro][line]+=1\n",
    "            except:\n",
    "                pass\n",
    "    i+=1"
   ]
  },
  {
   "cell_type": "code",
   "execution_count": 31,
   "metadata": {
    "collapsed": false
   },
   "outputs": [
    {
     "data": {
      "text/html": [
       "<div>\n",
       "<table border=\"1\" class=\"dataframe\">\n",
       "  <thead>\n",
       "    <tr style=\"text-align: right;\">\n",
       "      <th></th>\n",
       "      <th>ant</th>\n",
       "      <th>ant-contrib</th>\n",
       "      <th>antlr</th>\n",
       "      <th>aopalliance</th>\n",
       "      <th>args4j</th>\n",
       "      <th>asm</th>\n",
       "      <th>axis</th>\n",
       "      <th>backport-util-concurrent</th>\n",
       "      <th>bouncycastle</th>\n",
       "      <th>c3p0</th>\n",
       "      <th>...</th>\n",
       "      <th>tomcat</th>\n",
       "      <th>velocity</th>\n",
       "      <th>wsdl4j</th>\n",
       "      <th>xalan</th>\n",
       "      <th>xerces</th>\n",
       "      <th>xml-apis</th>\n",
       "      <th>xmlunit</th>\n",
       "      <th>xom</th>\n",
       "      <th>xpp3</th>\n",
       "      <th>xstream</th>\n",
       "    </tr>\n",
       "  </thead>\n",
       "  <tbody>\n",
       "    <tr>\n",
       "      <th>0install_pom2feed.git.csv</th>\n",
       "      <td>0</td>\n",
       "      <td>0</td>\n",
       "      <td>0</td>\n",
       "      <td>0</td>\n",
       "      <td>0</td>\n",
       "      <td>0</td>\n",
       "      <td>0</td>\n",
       "      <td>0</td>\n",
       "      <td>0</td>\n",
       "      <td>0</td>\n",
       "      <td>...</td>\n",
       "      <td>0</td>\n",
       "      <td>0</td>\n",
       "      <td>0</td>\n",
       "      <td>0</td>\n",
       "      <td>0</td>\n",
       "      <td>0</td>\n",
       "      <td>0</td>\n",
       "      <td>0</td>\n",
       "      <td>0</td>\n",
       "      <td>0</td>\n",
       "    </tr>\n",
       "    <tr>\n",
       "      <th>0xCopy_RelaxFactory.git.csv</th>\n",
       "      <td>0</td>\n",
       "      <td>0</td>\n",
       "      <td>0</td>\n",
       "      <td>0</td>\n",
       "      <td>0</td>\n",
       "      <td>0</td>\n",
       "      <td>0</td>\n",
       "      <td>0</td>\n",
       "      <td>0</td>\n",
       "      <td>0</td>\n",
       "      <td>...</td>\n",
       "      <td>0</td>\n",
       "      <td>0</td>\n",
       "      <td>0</td>\n",
       "      <td>0</td>\n",
       "      <td>0</td>\n",
       "      <td>0</td>\n",
       "      <td>0</td>\n",
       "      <td>0</td>\n",
       "      <td>0</td>\n",
       "      <td>0</td>\n",
       "    </tr>\n",
       "    <tr>\n",
       "      <th>101companies_101repo.git.csv</th>\n",
       "      <td>0</td>\n",
       "      <td>0</td>\n",
       "      <td>0</td>\n",
       "      <td>0</td>\n",
       "      <td>0</td>\n",
       "      <td>0</td>\n",
       "      <td>0</td>\n",
       "      <td>0</td>\n",
       "      <td>0</td>\n",
       "      <td>0</td>\n",
       "      <td>...</td>\n",
       "      <td>0</td>\n",
       "      <td>0</td>\n",
       "      <td>0</td>\n",
       "      <td>0</td>\n",
       "      <td>0</td>\n",
       "      <td>0</td>\n",
       "      <td>0</td>\n",
       "      <td>0</td>\n",
       "      <td>0</td>\n",
       "      <td>0</td>\n",
       "    </tr>\n",
       "    <tr>\n",
       "      <th>1123_johnson.git.csv</th>\n",
       "      <td>0</td>\n",
       "      <td>0</td>\n",
       "      <td>0</td>\n",
       "      <td>0</td>\n",
       "      <td>0</td>\n",
       "      <td>0</td>\n",
       "      <td>0</td>\n",
       "      <td>0</td>\n",
       "      <td>0</td>\n",
       "      <td>0</td>\n",
       "      <td>...</td>\n",
       "      <td>0</td>\n",
       "      <td>0</td>\n",
       "      <td>0</td>\n",
       "      <td>0</td>\n",
       "      <td>0</td>\n",
       "      <td>0</td>\n",
       "      <td>0</td>\n",
       "      <td>0</td>\n",
       "      <td>0</td>\n",
       "      <td>0</td>\n",
       "    </tr>\n",
       "    <tr>\n",
       "      <th>1and1_foss-parent.git.csv</th>\n",
       "      <td>0</td>\n",
       "      <td>0</td>\n",
       "      <td>0</td>\n",
       "      <td>0</td>\n",
       "      <td>0</td>\n",
       "      <td>0</td>\n",
       "      <td>0</td>\n",
       "      <td>0</td>\n",
       "      <td>0</td>\n",
       "      <td>0</td>\n",
       "      <td>...</td>\n",
       "      <td>0</td>\n",
       "      <td>0</td>\n",
       "      <td>0</td>\n",
       "      <td>0</td>\n",
       "      <td>0</td>\n",
       "      <td>0</td>\n",
       "      <td>0</td>\n",
       "      <td>0</td>\n",
       "      <td>0</td>\n",
       "      <td>0</td>\n",
       "    </tr>\n",
       "  </tbody>\n",
       "</table>\n",
       "<p>5 rows × 274 columns</p>\n",
       "</div>"
      ],
      "text/plain": [
       "                              ant  ant-contrib  antlr  aopalliance  args4j  \\\n",
       "0install_pom2feed.git.csv       0            0      0            0       0   \n",
       "0xCopy_RelaxFactory.git.csv     0            0      0            0       0   \n",
       "101companies_101repo.git.csv    0            0      0            0       0   \n",
       "1123_johnson.git.csv            0            0      0            0       0   \n",
       "1and1_foss-parent.git.csv       0            0      0            0       0   \n",
       "\n",
       "                              asm  axis  backport-util-concurrent  \\\n",
       "0install_pom2feed.git.csv       0     0                         0   \n",
       "0xCopy_RelaxFactory.git.csv     0     0                         0   \n",
       "101companies_101repo.git.csv    0     0                         0   \n",
       "1123_johnson.git.csv            0     0                         0   \n",
       "1and1_foss-parent.git.csv       0     0                         0   \n",
       "\n",
       "                              bouncycastle  c3p0   ...     tomcat  velocity  \\\n",
       "0install_pom2feed.git.csv                0     0   ...          0         0   \n",
       "0xCopy_RelaxFactory.git.csv              0     0   ...          0         0   \n",
       "101companies_101repo.git.csv             0     0   ...          0         0   \n",
       "1123_johnson.git.csv                     0     0   ...          0         0   \n",
       "1and1_foss-parent.git.csv                0     0   ...          0         0   \n",
       "\n",
       "                              wsdl4j  xalan  xerces  xml-apis  xmlunit  xom  \\\n",
       "0install_pom2feed.git.csv          0      0       0         0        0    0   \n",
       "0xCopy_RelaxFactory.git.csv        0      0       0         0        0    0   \n",
       "101companies_101repo.git.csv       0      0       0         0        0    0   \n",
       "1123_johnson.git.csv               0      0       0         0        0    0   \n",
       "1and1_foss-parent.git.csv          0      0       0         0        0    0   \n",
       "\n",
       "                              xpp3  xstream  \n",
       "0install_pom2feed.git.csv        0        0  \n",
       "0xCopy_RelaxFactory.git.csv      0        0  \n",
       "101companies_101repo.git.csv     0        0  \n",
       "1123_johnson.git.csv             0        0  \n",
       "1and1_foss-parent.git.csv        0        0  \n",
       "\n",
       "[5 rows x 274 columns]"
      ]
     },
     "execution_count": 31,
     "metadata": {},
     "output_type": "execute_result"
    }
   ],
   "source": [
    "dict_df=pd.DataFrame(numpyMatrixDict)\n",
    "dict_df=dict_df.transpose()"
   ]
  },
  {
   "cell_type": "code",
   "execution_count": 56,
   "metadata": {
    "collapsed": false
   },
   "outputs": [],
   "source": [
    "def computeTF(word_dict,document):\n",
    "    tfDict={}\n",
    "    num_lines = sum(1 for line in open('../4_libraries/tf-idf_libraries/'+pro))\n",
    "    for w, count in word_dict.iteritems():\n",
    "        tfDict[w]=count / float(num_lines)\n",
    "    return tfDict\n",
    "\n",
    "def computeIDF(docList):\n",
    "    import math\n",
    "    idfDict={}\n",
    "    N=len(docList)\n",
    "    idfDict=dict.fromkeys(numpyMatrix,0)\n",
    "    for word_dict in docList:\n",
    "        for w, count in docList[word_dict].iteritems():\n",
    "            if count >0:\n",
    "                idfDict[w]+=1\n",
    "                \n",
    "    for word, val in idfDict.iteritems():\n",
    "        idfDict[word]= math.log(N / float(val))\n",
    "    return idfDict\n",
    "\n",
    "def computeTFIDF(tf,idfs):\n",
    "    tfidf={}\n",
    "    for word, val in tf.iteritems():\n",
    "        tfidf[word]=val*idfs[word]\n",
    "    return tfidf"
   ]
  },
  {
   "cell_type": "code",
   "execution_count": 57,
   "metadata": {
    "collapsed": true
   },
   "outputs": [],
   "source": [
    "#TF AND IDF\n",
    "tfDict=[]\n",
    "for w_dict in numpyMatrixDict:\n",
    "    tfDict.append(computeTF(numpyMatrixDict[w_dict],w_dict))\n",
    "idfs=computeIDF(numpyMatrixDict)\n",
    "tfidfs=[]\n",
    "for tfD in tfDict:\n",
    "    tfidfs.append(computeTFIDF(tfD,idfs))"
   ]
  },
  {
   "cell_type": "code",
   "execution_count": 100,
   "metadata": {
    "collapsed": false
   },
   "outputs": [],
   "source": [
    "# TFIDF\n",
    "df=pd.DataFrame(tfidfs)\n",
    "df_table={}\n",
    "for word in numpyMatrix:\n",
    "    df_table[word]=df[word].cumsum().max()\n",
    "df=pd.DataFrame(df_table.items(), columns=['lib','value'])\n",
    "df.value=df.value/4445\n",
    "df=df.sort_values([\"value\"], ascending=False)"
   ]
  },
  {
   "cell_type": "code",
   "execution_count": null,
   "metadata": {
    "collapsed": true
   },
   "outputs": [],
   "source": []
  }
 ],
 "metadata": {
  "anaconda-cloud": {},
  "kernelspec": {
   "display_name": "Python 2",
   "language": "python",
   "name": "python2"
  },
  "language_info": {
   "codemirror_mode": {
    "name": "ipython",
    "version": 2
   },
   "file_extension": ".py",
   "mimetype": "text/x-python",
   "name": "python",
   "nbconvert_exporter": "python",
   "pygments_lexer": "ipython2",
   "version": "2.7.11"
  }
 },
 "nbformat": 4,
 "nbformat_minor": 1
}
