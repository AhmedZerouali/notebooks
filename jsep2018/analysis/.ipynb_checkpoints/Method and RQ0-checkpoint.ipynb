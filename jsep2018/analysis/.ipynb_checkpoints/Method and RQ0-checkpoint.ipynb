{
 "cells": [
  {
   "cell_type": "markdown",
   "metadata": {},
   "source": [
    "### This notebook is for the method section and RQ0"
   ]
  },
  {
   "cell_type": "code",
   "execution_count": null,
   "metadata": {},
   "outputs": [],
   "source": [
    "# Import used packages and configurations\n",
    "%matplotlib inline\n",
    "import seaborn as sns; #sns.set(style=\"ticks\", color_codes=True)\n",
    "import pandas as pd\n",
    "import matplotlib.pyplot as plt\n",
    "from matplotlib import style\n",
    "import scipy\n",
    "style.use('fast')\n",
    "\n",
    "sns.set_style('ticks',{'legend.frameon':True} )\n",
    "sns.set_palette('colorblind')\n",
    "\n",
    "plt.rcParams['pdf.fonttype'] = 42\n",
    "plt.rcParams['ps.fonttype'] = 42\n",
    "plt.rcParams['text.usetex'] = True\n",
    "\n",
    "plt.rcParams['xtick.labelsize'] = 22\n",
    "plt.rcParams['ytick.labelsize'] = 22\n",
    "plt.rcParams['axes.labelsize']= 22\n",
    "\n",
    "PALETTE_BASE = sns.color_palette('muted', n_colors=12)\n",
    "blue=PALETTE_BASE[0]\n",
    "green=PALETTE_BASE[1] \n",
    "red=PALETTE_BASE[2] \n",
    "purple=PALETTE_BASE[3]\n",
    "version_colors=['orange',red, 'gray']\n",
    "\n",
    "exclude_prefixes = ('@ryancavanaugh/pkg', 'all-packages-', 'cool-', 'neat-', 'wowdude-', 'npmdoc-', 'npmtest-', 'npm-ghost-',)\n",
    "exclude_suffixes = ('-cdn',)\n",
    "exclude_ghost = r'^ghost-\\d+$'"
   ]
  },
  {
   "cell_type": "markdown",
   "metadata": {},
   "source": [
    "# LOAD DATA"
   ]
  },
  {
   "cell_type": "code",
   "execution_count": 14,
   "metadata": {},
   "outputs": [
    {
     "name": "stdout",
     "output_type": "stream",
     "text": [
      "51351426\n"
     ]
    },
    {
     "data": {
      "text/html": [
       "<div>\n",
       "<style scoped>\n",
       "    .dataframe tbody tr th:only-of-type {\n",
       "        vertical-align: middle;\n",
       "    }\n",
       "\n",
       "    .dataframe tbody tr th {\n",
       "        vertical-align: top;\n",
       "    }\n",
       "\n",
       "    .dataframe thead th {\n",
       "        text-align: right;\n",
       "    }\n",
       "</style>\n",
       "<table border=\"1\" class=\"dataframe\">\n",
       "  <thead>\n",
       "    <tr style=\"text-align: right;\">\n",
       "      <th></th>\n",
       "      <th>date</th>\n",
       "      <th>dependency</th>\n",
       "      <th>kind</th>\n",
       "      <th>package</th>\n",
       "      <th>version</th>\n",
       "      <th>version_lag</th>\n",
       "    </tr>\n",
       "  </thead>\n",
       "  <tbody>\n",
       "    <tr>\n",
       "      <th>0</th>\n",
       "      <td>2015-11-11</td>\n",
       "      <td>0</td>\n",
       "      <td>runtime</td>\n",
       "      <td>shaybagants-test</td>\n",
       "      <td>1.0.0</td>\n",
       "      <td>0,0,0</td>\n",
       "    </tr>\n",
       "    <tr>\n",
       "      <th>1</th>\n",
       "      <td>2015-11-11</td>\n",
       "      <td>0</td>\n",
       "      <td>runtime</td>\n",
       "      <td>shaybagants-test</td>\n",
       "      <td>2.0.0</td>\n",
       "      <td>0,0,0</td>\n",
       "    </tr>\n",
       "  </tbody>\n",
       "</table>\n",
       "</div>"
      ],
      "text/plain": [
       "         date dependency     kind           package version version_lag\n",
       "0  2015-11-11          0  runtime  shaybagants-test   1.0.0       0,0,0\n",
       "1  2015-11-11          0  runtime  shaybagants-test   2.0.0       0,0,0"
      ]
     },
     "execution_count": 14,
     "metadata": {},
     "output_type": "execute_result"
    }
   ],
   "source": [
    "# This dataframe is already prepared\n",
    "technical_lag=pd.read_csv('../../../jsep2018/csv/packages/technical_lag_clean.csv', \n",
    "                          sep=';', dtype=object, index_col=None,  error_bad_lines=False)\n",
    "print(len(technical_lag))\n",
    "technical_lag.head(2)"
   ]
  },
  {
   "cell_type": "code",
   "execution_count": 3,
   "metadata": {},
   "outputs": [],
   "source": [
    "# Remove optional deps\n",
    "technical_lag=technical_lag.query('kind!=\"Optional\"')\n",
    "technical_lag['kind']=technical_lag['kind'].apply(lambda x: x.capitalize())\n"
   ]
  },
  {
   "cell_type": "code",
   "execution_count": 4,
   "metadata": {},
   "outputs": [],
   "source": [
    "# Remove pre-releases\n",
    "technical_lag = technical_lag[~technical_lag.version.str.contains('-')]"
   ]
  },
  {
   "cell_type": "code",
   "execution_count": 5,
   "metadata": {},
   "outputs": [],
   "source": [
    "# Remove spam packages\n",
    "technical_lag=technical_lag[~technical_lag['package'].str.startswith(exclude_prefixes)]\n",
    "technical_lag=technical_lag[~technical_lag['package'].str.endswith(exclude_suffixes)]\n",
    "technical_lag=technical_lag[~technical_lag['package'].str.match(exclude_ghost)]"
   ]
  },
  {
   "cell_type": "code",
   "execution_count": 16,
   "metadata": {},
   "outputs": [
    {
     "data": {
      "text/plain": [
       "45178711"
      ]
     },
     "execution_count": 16,
     "metadata": {},
     "output_type": "execute_result"
    }
   ],
   "source": [
    "len(technical_lag)"
   ]
  },
  {
   "cell_type": "markdown",
   "metadata": {},
   "source": [
    "#### METHOD "
   ]
  },
  {
   "cell_type": "code",
   "execution_count": 58,
   "metadata": {},
   "outputs": [],
   "source": [
    "# This is to calculate all dependencies before calculating the technical lag.\n",
    "deps=pd.read_csv('../../../jsep2018/csv/packages/dependencies_npm_march.csv', sep=';', dtype=object, index_col=None,  error_bad_lines=False)"
   ]
  },
  {
   "cell_type": "code",
   "execution_count": 3,
   "metadata": {},
   "outputs": [
    {
     "name": "stdout",
     "output_type": "stream",
     "text": [
      "52840196 547335 4015178\n"
     ]
    }
   ],
   "source": [
    "print('all dataset',len(deps),'\\n',\n",
    "      'number of packages',deps.package.drop_duplicates().size,'\\n',\n",
    "      'number of versions',len(deps[['package','version']].drop_duplicates()))"
   ]
  },
  {
   "cell_type": "code",
   "execution_count": 6,
   "metadata": {},
   "outputs": [],
   "source": [
    "# Remove pre-releases\n",
    "deps = deps[~deps.version.str.contains('-')]"
   ]
  },
  {
   "cell_type": "code",
   "execution_count": 7,
   "metadata": {},
   "outputs": [],
   "source": [
    "# remove spam packages\n",
    "deps['package']=deps['package'].apply(str)\n",
    "deps=deps[~deps['package'].str.startswith(exclude_prefixes)]\n",
    "deps=deps[~deps['package'].str.endswith(exclude_suffixes)]\n",
    "deps=deps[~deps['package'].str.match(exclude_ghost)]"
   ]
  },
  {
   "cell_type": "code",
   "execution_count": 8,
   "metadata": {},
   "outputs": [
    {
     "name": "stdout",
     "output_type": "stream",
     "text": [
      "all dataset 46016524 \n",
      " number of packages 520547 \n",
      " number of versions 3637973\n"
     ]
    }
   ],
   "source": [
    "# After filtering\n",
    "print('all dataset',len(deps),'\\n',\n",
    "      'number of packages',deps.package.drop_duplicates().size,'\\n',\n",
    "      'number of versions',len(deps[['package','version']].drop_duplicates()))"
   ]
  },
  {
   "cell_type": "code",
   "execution_count": 17,
   "metadata": {},
   "outputs": [
    {
     "data": {
      "text/plain": [
       "0.9817932141071759"
      ]
     },
     "execution_count": 17,
     "metadata": {},
     "output_type": "execute_result"
    }
   ],
   "source": [
    "\n",
    "print('number of dependencies of which we could compute their lag',(len(technical_lag)/len(deps))"
   ]
  },
  {
   "cell_type": "code",
   "execution_count": 10,
   "metadata": {},
   "outputs": [
    {
     "data": {
      "text/html": [
       "<div>\n",
       "<style scoped>\n",
       "    .dataframe tbody tr th:only-of-type {\n",
       "        vertical-align: middle;\n",
       "    }\n",
       "\n",
       "    .dataframe tbody tr th {\n",
       "        vertical-align: top;\n",
       "    }\n",
       "\n",
       "    .dataframe thead th {\n",
       "        text-align: right;\n",
       "    }\n",
       "</style>\n",
       "<table border=\"1\" class=\"dataframe\">\n",
       "  <thead>\n",
       "    <tr style=\"text-align: right;\">\n",
       "      <th></th>\n",
       "      <th>package</th>\n",
       "      <th>version</th>\n",
       "      <th>dependency</th>\n",
       "      <th>constraint</th>\n",
       "      <th>date</th>\n",
       "      <th>release_type</th>\n",
       "    </tr>\n",
       "    <tr>\n",
       "      <th>kind</th>\n",
       "      <th></th>\n",
       "      <th></th>\n",
       "      <th></th>\n",
       "      <th></th>\n",
       "      <th></th>\n",
       "      <th></th>\n",
       "    </tr>\n",
       "  </thead>\n",
       "  <tbody>\n",
       "    <tr>\n",
       "      <th>Development</th>\n",
       "      <td>26650808</td>\n",
       "      <td>26650808</td>\n",
       "      <td>26650054</td>\n",
       "      <td>26650808</td>\n",
       "      <td>26650808</td>\n",
       "      <td>26650808</td>\n",
       "    </tr>\n",
       "    <tr>\n",
       "      <th>Optional</th>\n",
       "      <td>281</td>\n",
       "      <td>281</td>\n",
       "      <td>281</td>\n",
       "      <td>281</td>\n",
       "      <td>281</td>\n",
       "      <td>281</td>\n",
       "    </tr>\n",
       "    <tr>\n",
       "      <th>runtime</th>\n",
       "      <td>19365435</td>\n",
       "      <td>19365435</td>\n",
       "      <td>19349220</td>\n",
       "      <td>19365435</td>\n",
       "      <td>19365435</td>\n",
       "      <td>19365435</td>\n",
       "    </tr>\n",
       "  </tbody>\n",
       "</table>\n",
       "</div>"
      ],
      "text/plain": [
       "              package   version  dependency  constraint      date  \\\n",
       "kind                                                                \n",
       "Development  26650808  26650808    26650054    26650808  26650808   \n",
       "Optional          281       281         281         281       281   \n",
       "runtime      19365435  19365435    19349220    19365435  19365435   \n",
       "\n",
       "             release_type  \n",
       "kind                       \n",
       "Development      26650808  \n",
       "Optional              281  \n",
       "runtime          19365435  "
      ]
     },
     "execution_count": 10,
     "metadata": {},
     "output_type": "execute_result"
    }
   ],
   "source": [
    "deps.groupby('kind').count() # number of dependencies per kind"
   ]
  },
  {
   "cell_type": "code",
   "execution_count": 11,
   "metadata": {},
   "outputs": [
    {
     "data": {
      "text/html": [
       "<div>\n",
       "<style scoped>\n",
       "    .dataframe tbody tr th:only-of-type {\n",
       "        vertical-align: middle;\n",
       "    }\n",
       "\n",
       "    .dataframe tbody tr th {\n",
       "        vertical-align: top;\n",
       "    }\n",
       "\n",
       "    .dataframe thead th {\n",
       "        text-align: right;\n",
       "    }\n",
       "</style>\n",
       "<table border=\"1\" class=\"dataframe\">\n",
       "  <thead>\n",
       "    <tr style=\"text-align: right;\">\n",
       "      <th></th>\n",
       "      <th>package</th>\n",
       "      <th>version</th>\n",
       "      <th>dependency</th>\n",
       "      <th>constraint</th>\n",
       "      <th>date</th>\n",
       "      <th>release_type</th>\n",
       "    </tr>\n",
       "    <tr>\n",
       "      <th>kind</th>\n",
       "      <th></th>\n",
       "      <th></th>\n",
       "      <th></th>\n",
       "      <th></th>\n",
       "      <th></th>\n",
       "      <th></th>\n",
       "    </tr>\n",
       "  </thead>\n",
       "  <tbody>\n",
       "    <tr>\n",
       "      <th>Development</th>\n",
       "      <td>0.579157</td>\n",
       "      <td>0.579157</td>\n",
       "      <td>0.579141</td>\n",
       "      <td>0.579157</td>\n",
       "      <td>0.579157</td>\n",
       "      <td>0.579157</td>\n",
       "    </tr>\n",
       "    <tr>\n",
       "      <th>Optional</th>\n",
       "      <td>0.000006</td>\n",
       "      <td>0.000006</td>\n",
       "      <td>0.000006</td>\n",
       "      <td>0.000006</td>\n",
       "      <td>0.000006</td>\n",
       "      <td>0.000006</td>\n",
       "    </tr>\n",
       "    <tr>\n",
       "      <th>runtime</th>\n",
       "      <td>0.420837</td>\n",
       "      <td>0.420837</td>\n",
       "      <td>0.420484</td>\n",
       "      <td>0.420837</td>\n",
       "      <td>0.420837</td>\n",
       "      <td>0.420837</td>\n",
       "    </tr>\n",
       "  </tbody>\n",
       "</table>\n",
       "</div>"
      ],
      "text/plain": [
       "              package   version  dependency  constraint      date  \\\n",
       "kind                                                                \n",
       "Development  0.579157  0.579157    0.579141    0.579157  0.579157   \n",
       "Optional     0.000006  0.000006    0.000006    0.000006  0.000006   \n",
       "runtime      0.420837  0.420837    0.420484    0.420837  0.420837   \n",
       "\n",
       "             release_type  \n",
       "kind                       \n",
       "Development      0.579157  \n",
       "Optional         0.000006  \n",
       "runtime          0.420837  "
      ]
     },
     "execution_count": 11,
     "metadata": {},
     "output_type": "execute_result"
    }
   ],
   "source": [
    "deps.groupby('kind').count()/len(deps) # proportion of dependencies per kind"
   ]
  },
  {
   "cell_type": "code",
   "execution_count": 72,
   "metadata": {},
   "outputs": [],
   "source": [
    "# The considered period for the analysis\n",
    "first_date=\"2010-12-20\"\n",
    "last_date=\"2018-03-12\"\n",
    "date_period = pd.to_datetime(first_date), pd.to_datetime(last_date)"
   ]
  },
  {
   "cell_type": "markdown",
   "metadata": {},
   "source": [
    "# RQ0"
   ]
  },
  {
   "cell_type": "code",
   "execution_count": 20,
   "metadata": {},
   "outputs": [],
   "source": [
    "# proportion and number of dependencies per kind and constraint type\n",
    "df_tmp=technical_lag.groupby(['constraint_type','kind']).count()[['version']].reset_index()"
   ]
  },
  {
   "cell_type": "code",
   "execution_count": 25,
   "metadata": {},
   "outputs": [
    {
     "name": "stdout",
     "output_type": "stream",
     "text": [
      "  constraint_type         kind   version\n",
      "0           caret  Development  19306123\n",
      "1          latest  Development    912282\n",
      "2           other  Development    586684\n",
      "3          strict  Development   3484110\n",
      "4           tilde  Development   1810070\n",
      "  constraint_type     kind   version\n",
      "0           caret  Runtime  12886260\n",
      "1          latest  Runtime    758723\n",
      "2           other  Runtime    821024\n",
      "3          strict  Runtime   3052352\n",
      "4           tilde  Runtime   1561083\n"
     ]
    }
   ],
   "source": [
    "# Constraints for each kind\n",
    "for kind in ['Development','Runtime']:\n",
    "    df_tmp=(technical_lag\n",
    "            .query('kind == \"'+kind+'\"')\n",
    "            .groupby(['constraint_type','kind'])\n",
    "            .count()[['version']]\n",
    "            .reset_index()\n",
    "           )\n",
    "    print(df_tmp)"
   ]
  },
  {
   "cell_type": "code",
   "execution_count": 29,
   "metadata": {},
   "outputs": [
    {
     "name": "stdout",
     "output_type": "stream",
     "text": [
      "  constraint_type    version\n",
      "0           caret  73.971892\n",
      "1          latest   3.495431\n",
      "2           other   2.247894\n",
      "3          strict  13.349454\n",
      "4           tilde   6.935328\n",
      "  constraint_type    version\n",
      "0           caret  67.540026\n",
      "1          latest   3.976652\n",
      "2           other   4.303187\n",
      "3          strict  15.998120\n",
      "4           tilde   8.182016\n"
     ]
    }
   ],
   "source": [
    "# Constraints for each kind %\n",
    "for kind in ['Development','Runtime']:\n",
    "    df_tmp=(technical_lag\n",
    "            .query('kind == \"'+kind+'\"')\n",
    "            .groupby(['constraint_type'])\n",
    "            .count()[['version']]\n",
    "            .reset_index()\n",
    "           )\n",
    "    l=float(len(technical_lag.query('kind == \"'+kind+'\"')))\n",
    "    df_tmp['version']=df_tmp['version'].apply(lambda x: x*100.0/l)\n",
    "    print(df_tmp)"
   ]
  },
  {
   "cell_type": "code",
   "execution_count": 30,
   "metadata": {},
   "outputs": [
    {
     "name": "stdout",
     "output_type": "stream",
     "text": [
      "  constraint_type    version\n",
      "0           caret  71.255647\n",
      "1          latest   3.698656\n",
      "2           other   3.115866\n",
      "3          strict  14.468013\n",
      "4           tilde   7.461818\n"
     ]
    }
   ],
   "source": [
    "df_tmp=(technical_lag\n",
    "        .groupby(['constraint_type'])\n",
    "        .count()[['version']]\n",
    "        .reset_index()\n",
    "       )\n",
    "l=float(len(technical_lag))\n",
    "df_tmp['version']=df_tmp['version'].apply(lambda x: x*100.0/l)\n",
    "print(df_tmp)"
   ]
  },
  {
   "cell_type": "code",
   "execution_count": 31,
   "metadata": {},
   "outputs": [
    {
     "name": "stdout",
     "output_type": "stream",
     "text": [
      "  constraint_type   version\n",
      "0           caret  32192383\n",
      "1          latest   1671005\n",
      "2           other   1407708\n",
      "3          strict   6536462\n",
      "4           tilde   3371153\n"
     ]
    }
   ],
   "source": [
    "df_tmp=(technical_lag\n",
    "        .groupby(['constraint_type'])\n",
    "        .count()[['version']]\n",
    "        .reset_index()\n",
    "       )\n",
    "print(df_tmp)"
   ]
  },
  {
   "cell_type": "code",
   "execution_count": 28,
   "metadata": {},
   "outputs": [
    {
     "data": {
      "text/html": [
       "<div>\n",
       "<style scoped>\n",
       "    .dataframe tbody tr th:only-of-type {\n",
       "        vertical-align: middle;\n",
       "    }\n",
       "\n",
       "    .dataframe tbody tr th {\n",
       "        vertical-align: top;\n",
       "    }\n",
       "\n",
       "    .dataframe thead th {\n",
       "        text-align: right;\n",
       "    }\n",
       "</style>\n",
       "<table border=\"1\" class=\"dataframe\">\n",
       "  <thead>\n",
       "    <tr style=\"text-align: right;\">\n",
       "      <th></th>\n",
       "      <th>version</th>\n",
       "    </tr>\n",
       "    <tr>\n",
       "      <th>kind</th>\n",
       "      <th></th>\n",
       "    </tr>\n",
       "  </thead>\n",
       "  <tbody>\n",
       "    <tr>\n",
       "      <th>Development</th>\n",
       "      <td>0.57769</td>\n",
       "    </tr>\n",
       "    <tr>\n",
       "      <th>Runtime</th>\n",
       "      <td>0.42231</td>\n",
       "    </tr>\n",
       "  </tbody>\n",
       "</table>\n",
       "</div>"
      ],
      "text/plain": [
       "             version\n",
       "kind                \n",
       "Development  0.57769\n",
       "Runtime      0.42231"
      ]
     },
     "execution_count": 28,
     "metadata": {},
     "output_type": "execute_result"
    }
   ],
   "source": [
    "technical_lag.groupby('kind').count()[['version']]/len(technical_lag)"
   ]
  },
  {
   "cell_type": "code",
   "execution_count": 15,
   "metadata": {},
   "outputs": [
    {
     "data": {
      "text/html": [
       "<div>\n",
       "<style scoped>\n",
       "    .dataframe tbody tr th:only-of-type {\n",
       "        vertical-align: middle;\n",
       "    }\n",
       "\n",
       "    .dataframe tbody tr th {\n",
       "        vertical-align: top;\n",
       "    }\n",
       "\n",
       "    .dataframe thead th {\n",
       "        text-align: right;\n",
       "    }\n",
       "</style>\n",
       "<table border=\"1\" class=\"dataframe\">\n",
       "  <thead>\n",
       "    <tr style=\"text-align: right;\">\n",
       "      <th></th>\n",
       "      <th>constraint</th>\n",
       "    </tr>\n",
       "    <tr>\n",
       "      <th>constraint_type</th>\n",
       "      <th></th>\n",
       "    </tr>\n",
       "  </thead>\n",
       "  <tbody>\n",
       "    <tr>\n",
       "      <th>caret</th>\n",
       "      <td>70.562211</td>\n",
       "    </tr>\n",
       "    <tr>\n",
       "      <th>latest</th>\n",
       "      <td>2.947625</td>\n",
       "    </tr>\n",
       "    <tr>\n",
       "      <th>other</th>\n",
       "      <td>3.399907</td>\n",
       "    </tr>\n",
       "    <tr>\n",
       "      <th>strict</th>\n",
       "      <td>15.934057</td>\n",
       "    </tr>\n",
       "    <tr>\n",
       "      <th>tilde</th>\n",
       "      <td>7.156200</td>\n",
       "    </tr>\n",
       "  </tbody>\n",
       "</table>\n",
       "</div>"
      ],
      "text/plain": [
       "                 constraint\n",
       "constraint_type            \n",
       "caret             70.562211\n",
       "latest             2.947625\n",
       "other              3.399907\n",
       "strict            15.934057\n",
       "tilde              7.156200"
      ]
     },
     "execution_count": 15,
     "metadata": {},
     "output_type": "execute_result"
    }
   ],
   "source": [
    "df_tmp.groupby(['constraint_type']).sum()"
   ]
  },
  {
   "cell_type": "code",
   "execution_count": 20,
   "metadata": {},
   "outputs": [
    {
     "data": {
      "image/png": "[encoded data removed]",
      "text/plain": [
       "<matplotlib.figure.Figure at 0x7f10a4e5e7b8>"
      ]
     },
     "metadata": {},
     "output_type": "display_data"
    }
   ],
   "source": [
    "ax = sns.barplot(x=\"kind\", y=\"constraint\", hue=\"constraint_type\", palette=[blue,\"pink\",'yellow','orange','green'], data=df_tmp,\n",
    "                hue_order=['caret','strict','tilde','latest','other'])\n",
    "ax.figure.set_size_inches(12,3)\n",
    "ax.set_xlabel('Constraint type')\n",
    "ax.set_ylabel('Dependencies \\%')\n",
    "for patch in ax.patches:\n",
    "    patch.set_edgecolor('black')\n",
    "ax.legend( loc='upper right', bbox_to_anchor=(1, 1), fontsize=20)#,ncol=3)#, fancybox=True, shadow=True)"
   ]
  },
  {
   "cell_type": "markdown",
   "metadata": {},
   "source": [
    "# RQ0 part2\n",
    "This part is study when constraints are updated and how often packages are updated"
   ]
  },
  {
   "cell_type": "code",
   "execution_count": null,
   "metadata": {},
   "outputs": [],
   "source": [
    "technical_lag['date_used_version']=pd.to_datetime(technical_lag['date_used_version'])\n",
    "technical_lag['date_last_available']=pd.to_datetime(technical_lag['date_last_available'])"
   ]
  },
  {
   "cell_type": "code",
   "execution_count": null,
   "metadata": {},
   "outputs": [],
   "source": [
    "technical_lag['time_lag']=technical_lag['date_last_available'] - technical_lag['date_used_version']\n",
    "technical_lag.drop(['date_last_available','date_used_version'], axis=1, inplace=True)"
   ]
  },
  {
   "cell_type": "code",
   "execution_count": null,
   "metadata": {},
   "outputs": [],
   "source": [
    "technical_lag=technical_lag[['package','version','date','dependency','constraint','kind','constraint_type','time_lag','version_lag']]"
   ]
  },
  {
   "cell_type": "code",
   "execution_count": null,
   "metadata": {},
   "outputs": [],
   "source": [
    "next_lag = technical_lag"
   ]
  },
  {
   "cell_type": "code",
   "execution_count": null,
   "metadata": {},
   "outputs": [],
   "source": [
    "next_lag['dependency_next']=next_lag.dependency.shift(-1)\n",
    "next_lag['time_lag_next']=next_lag.time_lag.shift(-1)\n",
    "next_lag['constraint_type_next']=next_lag.constraint_type.shift(-1)\n",
    "next_lag['date_next']=next_lag.date.shift(-1)\n",
    "next_lag['package_next']=next_lag.package.shift(-1)\n",
    "next_lag['version_next']=next_lag.version.shift(-1)\n",
    "next_lag['constraint_next']=next_lag.constraint.shift(-1)"
   ]
  },
  {
   "cell_type": "code",
   "execution_count": null,
   "metadata": {},
   "outputs": [],
   "source": [
    "next_lag=next_lag.query('dependency==dependency_next and package==package_next')"
   ]
  },
  {
   "cell_type": "code",
   "execution_count": null,
   "metadata": {},
   "outputs": [],
   "source": [
    "next_lag.sort_values(['package','dependency','date'], ascending=True, inplace=True)"
   ]
  },
  {
   "cell_type": "code",
   "execution_count": 28,
   "metadata": {},
   "outputs": [
    {
     "name": "stdout",
     "output_type": "stream",
     "text": [
      "4760450\n"
     ]
    },
    {
     "data": {
      "text/html": [
       "<div>\n",
       "<style scoped>\n",
       "    .dataframe tbody tr th:only-of-type {\n",
       "        vertical-align: middle;\n",
       "    }\n",
       "\n",
       "    .dataframe tbody tr th {\n",
       "        vertical-align: top;\n",
       "    }\n",
       "\n",
       "    .dataframe thead th {\n",
       "        text-align: right;\n",
       "    }\n",
       "</style>\n",
       "<table border=\"1\" class=\"dataframe\">\n",
       "  <thead>\n",
       "    <tr style=\"text-align: right;\">\n",
       "      <th></th>\n",
       "      <th>package</th>\n",
       "      <th>version</th>\n",
       "      <th>date</th>\n",
       "      <th>release_type</th>\n",
       "      <th>semver</th>\n",
       "      <th>Major</th>\n",
       "      <th>Minor</th>\n",
       "      <th>Patch</th>\n",
       "    </tr>\n",
       "  </thead>\n",
       "  <tbody>\n",
       "    <tr>\n",
       "      <th>0</th>\n",
       "      <td>0</td>\n",
       "      <td>0.0.0</td>\n",
       "      <td>2014-04-01</td>\n",
       "      <td>initial</td>\n",
       "      <td>0.0.0</td>\n",
       "      <td>0</td>\n",
       "      <td>0</td>\n",
       "      <td>0</td>\n",
       "    </tr>\n",
       "    <tr>\n",
       "      <th>1</th>\n",
       "      <td>0-</td>\n",
       "      <td>0.0.1</td>\n",
       "      <td>2017-03-06</td>\n",
       "      <td>initial</td>\n",
       "      <td>0.0.1</td>\n",
       "      <td>0</td>\n",
       "      <td>0</td>\n",
       "      <td>1</td>\n",
       "    </tr>\n",
       "  </tbody>\n",
       "</table>\n",
       "</div>"
      ],
      "text/plain": [
       "  package version        date release_type semver Major Minor Patch\n",
       "0       0   0.0.0  2014-04-01      initial  0.0.0     0     0     0\n",
       "1      0-   0.0.1  2017-03-06      initial  0.0.1     0     0     1"
      ]
     },
     "execution_count": 28,
     "metadata": {},
     "output_type": "execute_result"
    }
   ],
   "source": [
    "versions=pd.read_csv('../../../jsep2018/csv/versions_npm_march.csv', sep=';', \n",
    "                     dtype=object, index_col=None,  error_bad_lines=False)\n",
    "print(len(versions))\n",
    "versions.head(2)"
   ]
  },
  {
   "cell_type": "code",
   "execution_count": 19,
   "metadata": {},
   "outputs": [],
   "source": [
    "versions['package']=versions['package'].apply(str)"
   ]
  },
  {
   "cell_type": "code",
   "execution_count": 20,
   "metadata": {},
   "outputs": [],
   "source": [
    "versions=versions[~versions['package'].str.startswith(exclude_prefixes)]\n",
    "versions=versions[~versions['package'].str.endswith(exclude_suffixes)]\n",
    "versions=versions[~versions['package'].str.match(exclude_ghost)]"
   ]
  },
  {
   "cell_type": "markdown",
   "metadata": {},
   "source": [
    "# When do packages UPDATE constraint, in general?"
   ]
  },
  {
   "cell_type": "code",
   "execution_count": 8,
   "metadata": {},
   "outputs": [],
   "source": [
    "df_tmp=next_lag[['package','version','version_next','date','date_next','kind','dependency','constraint','constraint_next','constraint_type','constraint_type_next']]\n"
   ]
  },
  {
   "cell_type": "code",
   "execution_count": 9,
   "metadata": {},
   "outputs": [],
   "source": [
    "versions=versions[['package','version','release_type']]\n",
    "df_tmp=df_tmp.query('constraint != constraint_next')\n",
    "df_tmp=df_tmp[['package','version','version_next','date','date_next','kind','dependency','constraint_type','constraint_type_next']]"
   ]
  },
  {
   "cell_type": "code",
   "execution_count": 10,
   "metadata": {},
   "outputs": [],
   "source": [
    "df_tmp['package']=df_tmp['package'].apply(str)\n",
    "df_tmp['version']=df_tmp['version'].apply(str)\n",
    "df_tmp['version_next']=df_tmp['version_next'].apply(str)\n",
    "\n",
    "versions['package']=versions['package'].apply(str)\n",
    "versions['version']=versions['version'].apply(str)"
   ]
  },
  {
   "cell_type": "code",
   "execution_count": 11,
   "metadata": {},
   "outputs": [
    {
     "data": {
      "text/plain": [
       "2219878"
      ]
     },
     "execution_count": 11,
     "metadata": {},
     "output_type": "execute_result"
    }
   ],
   "source": [
    "df_tmp=(df_tmp\n",
    "        .set_index(['package','version'])\n",
    "       .merge(versions\n",
    "              .set_index(['package','version']),\n",
    "              left_index=True,\n",
    "              right_index=True,\n",
    "              how='left')\n",
    "        .dropna()\n",
    "        .reset_index()\n",
    "       )\n",
    "len(df_tmp)"
   ]
  },
  {
   "cell_type": "code",
   "execution_count": 12,
   "metadata": {},
   "outputs": [
    {
     "data": {
      "text/plain": [
       "2219878"
      ]
     },
     "execution_count": 12,
     "metadata": {},
     "output_type": "execute_result"
    }
   ],
   "source": [
    "df_tmp_update=(df_tmp\n",
    "        .set_index(['package','version_next'])\n",
    "       .merge(versions\n",
    "              .rename(columns={'version':'version_next','release_type':'release_type_next'})\n",
    "              .set_index(['package','version_next']),\n",
    "              left_index=True,\n",
    "              right_index=True,\n",
    "              how='left')\n",
    "        .dropna()\n",
    "        .reset_index()\n",
    "       )\n",
    "len(df_tmp_update)"
   ]
  },
  {
   "cell_type": "code",
   "execution_count": 13,
   "metadata": {},
   "outputs": [
    {
     "data": {
      "text/html": [
       "<div>\n",
       "<style scoped>\n",
       "    .dataframe tbody tr th:only-of-type {\n",
       "        vertical-align: middle;\n",
       "    }\n",
       "\n",
       "    .dataframe tbody tr th {\n",
       "        vertical-align: top;\n",
       "    }\n",
       "\n",
       "    .dataframe thead th {\n",
       "        text-align: right;\n",
       "    }\n",
       "</style>\n",
       "<table border=\"1\" class=\"dataframe\">\n",
       "  <thead>\n",
       "    <tr style=\"text-align: right;\">\n",
       "      <th></th>\n",
       "      <th>package</th>\n",
       "      <th>version</th>\n",
       "      <th>release_type</th>\n",
       "      <th>release_type_next</th>\n",
       "      <th>dependency</th>\n",
       "    </tr>\n",
       "  </thead>\n",
       "  <tbody>\n",
       "    <tr>\n",
       "      <th>0</th>\n",
       "      <td>0.0.0-development</td>\n",
       "      <td>1.0.0</td>\n",
       "      <td>initial</td>\n",
       "      <td>patch</td>\n",
       "      <td>1</td>\n",
       "    </tr>\n",
       "    <tr>\n",
       "      <th>1</th>\n",
       "      <td>0.workspace</td>\n",
       "      <td>0.0.15</td>\n",
       "      <td>patch</td>\n",
       "      <td>patch</td>\n",
       "      <td>1</td>\n",
       "    </tr>\n",
       "  </tbody>\n",
       "</table>\n",
       "</div>"
      ],
      "text/plain": [
       "             package version release_type release_type_next  dependency\n",
       "0  0.0.0-development   1.0.0      initial             patch           1\n",
       "1        0.workspace  0.0.15        patch             patch           1"
      ]
     },
     "execution_count": 13,
     "metadata": {},
     "output_type": "execute_result"
    }
   ],
   "source": [
    "df_tmp2=df_tmp_update.groupby(['package','version','release_type','release_type_next']).count()[['dependency']].reset_index()\n",
    "df_tmp2.head(2)"
   ]
  },
  {
   "cell_type": "code",
   "execution_count": 14,
   "metadata": {},
   "outputs": [
    {
     "name": "stdout",
     "output_type": "stream",
     "text": [
      "1.0 2.0 2.0\n"
     ]
    }
   ],
   "source": [
    "print(df_tmp2.query('release_type_next==\"patch\"').dependency.median(),\n",
    "      df_tmp2.query('release_type_next==\"minor\"').dependency.median(),\n",
    "      df_tmp2.query('release_type_next==\"major\"').dependency.median()\n",
    "     )"
   ]
  },
  {
   "cell_type": "code",
   "execution_count": 15,
   "metadata": {},
   "outputs": [
    {
     "data": {
      "image/png": "[encoded data removed]",
      "text/plain": [
       "<matplotlib.figure.Figure at 0x7fb3a13bb9e8>"
      ]
     },
     "metadata": {},
     "output_type": "display_data"
    }
   ],
   "source": [
    "# When constraints are updated\n",
    "ax = sns.boxplot(x=\"release_type_next\", \n",
    "                 y=\"dependency\", \n",
    "                 data=df_tmp2, \n",
    "                 order=['patch','minor','major'],\n",
    "                 palette=version_colors, linewidth=1)\n",
    "ax.figure.set_size_inches(12,3)\n",
    "ax.set_xlabel(\"New released version\")\n",
    "ax.set_ylabel('\\# of dependencies')\n",
    "for patch in ax.patches:\n",
    "    patch.set_edgecolor('black')\n",
    "ax.set_ylim(0,10)\n",
    "ax.legend(loc='upper right', bbox_to_anchor=(0.8, 1.3), ncol=3, fontsize=20, fancybox=True, shadow=True)\n",
    "#ax.figure.savefig('/home/neglectos/Desktop/jsep18technicallag/figures/update_constraints.eps', bbox_inches='tight', facecolor='white')"
   ]
  },
  {
   "cell_type": "markdown",
   "metadata": {},
   "source": [
    "# How often packages are updated"
   ]
  },
  {
   "cell_type": "code",
   "execution_count": 21,
   "metadata": {},
   "outputs": [
    {
     "name": "stderr",
     "output_type": "stream",
     "text": [
      "/usr/local/lib/python3.5/dist-packages/ipykernel_launcher.py:7: SettingWithCopyWarning: \n",
      "A value is trying to be set on a copy of a slice from a DataFrame.\n",
      "Try using .loc[row_indexer,col_indexer] = value instead\n",
      "\n",
      "See the caveats in the documentation: http://pandas.pydata.org/pandas-docs/stable/indexing.html#indexing-view-versus-copy\n",
      "  import sys\n",
      "/usr/local/lib/python3.5/dist-packages/ipykernel_launcher.py:8: SettingWithCopyWarning: \n",
      "A value is trying to be set on a copy of a slice from a DataFrame.\n",
      "Try using .loc[row_indexer,col_indexer] = value instead\n",
      "\n",
      "See the caveats in the documentation: http://pandas.pydata.org/pandas-docs/stable/indexing.html#indexing-view-versus-copy\n",
      "  \n",
      "/usr/local/lib/python3.5/dist-packages/ipykernel_launcher.py:9: SettingWithCopyWarning: \n",
      "A value is trying to be set on a copy of a slice from a DataFrame.\n",
      "Try using .loc[row_indexer,col_indexer] = value instead\n",
      "\n",
      "See the caveats in the documentation: http://pandas.pydata.org/pandas-docs/stable/indexing.html#indexing-view-versus-copy\n",
      "  if __name__ == '__main__':\n"
     ]
    }
   ],
   "source": [
    "tab=[]\n",
    "tmp=pd.DataFrame()\n",
    "for release in ['initial','patch','minor','major']:\n",
    "    for next_release in ['patch','minor','major']:\n",
    "        tmp=versions.query('release_type==\"'+release+'\" or release_type==\"'+next_release+'\"')\n",
    "        \n",
    "        tmp['date_next']=tmp.date.shift(-1)\n",
    "        tmp['release_type_next']=tmp.release_type.shift(-1)\n",
    "        tmp['package_next']=tmp.package.shift(-1)\n",
    "        \n",
    "        tmp=tmp.query('package==package_next')\n",
    "        tmp=tmp.query('release_type==\"'+release+'\" and release_type_next==\"'+next_release+'\"')\n",
    "        tab.append(tmp)"
   ]
  },
  {
   "cell_type": "code",
   "execution_count": 23,
   "metadata": {},
   "outputs": [],
   "source": [
    "df_tmp=pd.concat(tab)\n",
    "df_tmp['date']=pd.to_datetime(df_tmp['date'])\n",
    "df_tmp['date_next']=pd.to_datetime(df_tmp['date_next'])\n",
    "\n",
    "df_tmp['time']=(df_tmp['date_next'] - df_tmp['date']).dt.days"
   ]
  },
  {
   "cell_type": "code",
   "execution_count": 27,
   "metadata": {},
   "outputs": [
    {
     "data": {
      "image/png": "[encoded data removed]",
      "text/plain": [
       "<matplotlib.figure.Figure at 0x7fb0ad9c65f8>"
      ]
     },
     "metadata": {},
     "output_type": "display_data"
    }
   ],
   "source": [
    "# How often packages are updated\n",
    "ax = sns.boxplot(x=\"release_type\", \n",
    "                 y=\"time\", \n",
    "                 data=df_tmp, \n",
    "                 hue='release_type_next', hue_order=['patch','minor','major'],\n",
    "                 order=['initial','patch','minor','major'],\n",
    "                 palette=version_colors, linewidth=1)\n",
    "ax.figure.set_size_inches(12,3)\n",
    "ax.set_xlabel(\"\")\n",
    "ax.set_ylabel('Time in days')\n",
    "for patch in ax.patches:\n",
    "    patch.set_edgecolor('black')\n",
    "ax.set_ylim(0,300)\n",
    "ax.text(0.03, 1.2, 'Next chronological release: ', transform=ax.transAxes, fontsize=20,\n",
    "        verticalalignment='top', color='black')\n",
    "ax.legend(loc='upper right', bbox_to_anchor=(1, 1.3), ncol=3, fontsize=20, fancybox=True, shadow=True)\n",
    "ax.figure.savefig('/home/neglectos/Desktop/jsep18technicallag/figures/next_release.eps', bbox_inches='tight', facecolor='white')"
   ]
  },
  {
   "cell_type": "markdown",
   "metadata": {},
   "source": [
    "# How many 0.x.y are used with caret and tilde"
   ]
  },
  {
   "cell_type": "code",
   "execution_count": 6,
   "metadata": {},
   "outputs": [],
   "source": [
    "mask = technical_lag.used_version.str.startswith('0.')\n",
    "technical_lag = technical_lag [mask].query('constraint_type ==\"tilde\" or constraint_type == \"caret\"')"
   ]
  },
  {
   "cell_type": "code",
   "execution_count": 8,
   "metadata": {},
   "outputs": [
    {
     "data": {
      "text/plain": [
       "0.1714223984832148"
      ]
     },
     "execution_count": 8,
     "metadata": {},
     "output_type": "execute_result"
    }
   ],
   "source": [
    "len(technical_lag)/45178711"
   ]
  },
  {
   "cell_type": "code",
   "execution_count": 13,
   "metadata": {},
   "outputs": [
    {
     "data": {
      "text/html": [
       "<div>\n",
       "<style scoped>\n",
       "    .dataframe tbody tr th:only-of-type {\n",
       "        vertical-align: middle;\n",
       "    }\n",
       "\n",
       "    .dataframe tbody tr th {\n",
       "        vertical-align: top;\n",
       "    }\n",
       "\n",
       "    .dataframe thead th {\n",
       "        text-align: right;\n",
       "    }\n",
       "</style>\n",
       "<table border=\"1\" class=\"dataframe\">\n",
       "  <thead>\n",
       "    <tr style=\"text-align: right;\">\n",
       "      <th></th>\n",
       "      <th>kind</th>\n",
       "      <th>package</th>\n",
       "      <th>used_version</th>\n",
       "      <th>version</th>\n",
       "    </tr>\n",
       "    <tr>\n",
       "      <th>constraint_type</th>\n",
       "      <th></th>\n",
       "      <th></th>\n",
       "      <th></th>\n",
       "      <th></th>\n",
       "    </tr>\n",
       "  </thead>\n",
       "  <tbody>\n",
       "    <tr>\n",
       "      <th>caret</th>\n",
       "      <td>0.812838</td>\n",
       "      <td>0.812838</td>\n",
       "      <td>0.812838</td>\n",
       "      <td>0.812838</td>\n",
       "    </tr>\n",
       "    <tr>\n",
       "      <th>tilde</th>\n",
       "      <td>0.187162</td>\n",
       "      <td>0.187162</td>\n",
       "      <td>0.187162</td>\n",
       "      <td>0.187162</td>\n",
       "    </tr>\n",
       "  </tbody>\n",
       "</table>\n",
       "</div>"
      ],
      "text/plain": [
       "                     kind   package  used_version   version\n",
       "constraint_type                                            \n",
       "caret            0.812838  0.812838      0.812838  0.812838\n",
       "tilde            0.187162  0.187162      0.187162  0.187162"
      ]
     },
     "execution_count": 13,
     "metadata": {},
     "output_type": "execute_result"
    }
   ],
   "source": [
    "technical_lag.groupby(['constraint_type']).count()/len(technical_lag)"
   ]
  }
 ],
 "metadata": {
  "kernelspec": {
   "display_name": "Python 3",
   "language": "python",
   "name": "python3"
  },
  "language_info": {
   "codemirror_mode": {
    "name": "ipython",
    "version": 3
   },
   "file_extension": ".py",
   "mimetype": "text/x-python",
   "name": "python",
   "nbconvert_exporter": "python",
   "pygments_lexer": "ipython3",
   "version": "3.5.1+"
  }
 },
 "nbformat": 4,
 "nbformat_minor": 2
}
