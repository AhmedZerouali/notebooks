{
 "cells": [
  {
   "cell_type": "markdown",
   "metadata": {},
   "source": [
    "### This notebook is answer the question: How much technical lag is induced by direct dependencies?"
   ]
  },
  {
   "cell_type": "code",
   "execution_count": 1,
   "metadata": {},
   "outputs": [],
   "source": [
    "%matplotlib inline\n",
    "import seaborn as sns; #sns.set(style=\"ticks\", color_codes=True)\n",
    "import pandas as pd\n",
    "import matplotlib.pyplot as plt\n",
    "from matplotlib import style\n",
    "import scipy\n",
    "style.use('fast')\n",
    "\n",
    "sns.set_style('ticks',{'legend.frameon':True} )\n",
    "sns.set_palette('colorblind')\n",
    "FIG_SIZE = (12, 3)\n",
    "font = {'family' : 'Times New Roman',\n",
    "        'weight' : 'bold',\n",
    "        'size'   : 22}\n",
    "plt.rc('font', **font)\n",
    "plt.rcParams['pdf.fonttype'] = 42\n",
    "plt.rcParams['ps.fonttype'] = 42\n",
    "plt.rcParams['text.usetex'] = True\n",
    "\n",
    "PALETTE_BASE = sns.color_palette('muted', n_colors=12)\n",
    "blue=PALETTE_BASE[0]\n",
    "green=PALETTE_BASE[1] \n",
    "red=PALETTE_BASE[2] \n",
    "purple=PALETTE_BASE[3]\n",
    "version_colors=['orange',red, 'gray']\n",
    "\n",
    "exclude_prefixes = ('@ryancavanaugh/pkg', 'all-packages-', 'cool-', 'neat-', 'wowdude-', 'npmdoc-', 'npmtest-', 'npm-ghost-',)\n",
    "exclude_suffixes = ('-cdn',)\n",
    "exclude_ghost = r'^ghost-\\d+$'"
   ]
  },
  {
   "cell_type": "code",
   "execution_count": 2,
   "metadata": {},
   "outputs": [],
   "source": [
    "# This is a helped to compute Cliff's Delta\n",
    "from __future__ import division\n",
    " \n",
    "def cliffsDelta(lst1,lst2,\n",
    "                dull = [0.147, # small\n",
    "                        0.33,  # medium\n",
    "                        0.474 # large\n",
    "                        ][0] ): \n",
    "  \"Returns true if there are more than 'dull' differences\"\n",
    "  m, n = len(lst1), len(lst2)\n",
    "  lst2 = sorted(lst2)\n",
    "  j = more = less = 0\n",
    "  for repeats,x in runs(sorted(lst1)):\n",
    "    while j <= (n - 1) and lst2[j] <  x: \n",
    "      j += 1\n",
    "    more += j*repeats\n",
    "    while j <= (n - 1) and lst2[j] == x: \n",
    "      j += 1\n",
    "    less += (n - j)*repeats\n",
    "  d= (more - less) / (m*n)\n",
    "  f=abs(d)  > dull\n",
    "  print(\"d=\"+str(d))#+' '+str(f))\n",
    "  return abs(d)  > dull\n",
    "   \n",
    "def runs(lst):\n",
    "  \"Iterator, chunks repeated values\"\n",
    "  for j,two in enumerate(lst):\n",
    "    if j == 0:\n",
    "      one,i = two,0\n",
    "    if one!=two:\n",
    "      yield j - i,one\n",
    "      i = j\n",
    "    one=two\n",
    "  yield j - i + 1,two\n",
    "  \n",
    "def _cliffsDelta():\n",
    "  \"demo function\"\n",
    "  lst1=[1,2,3,4,5,6,7]\n",
    "  for r in [1.01,1.1,1.21, 1.5, 2]:\n",
    "    lst2=map(lambda x: x*r,lst1)"
   ]
  },
  {
   "cell_type": "markdown",
   "metadata": {},
   "source": [
    "# RQ1"
   ]
  },
  {
   "cell_type": "code",
   "execution_count": 3,
   "metadata": {},
   "outputs": [],
   "source": [
    "# Considered period for the analysis\n",
    "first_date=\"2010-12-20\"\n",
    "last_date=\"2018-03-12\"\n",
    "date_period = pd.to_datetime(first_date), pd.to_datetime(last_date)"
   ]
  },
  {
   "cell_type": "code",
   "execution_count": 4,
   "metadata": {},
   "outputs": [
    {
     "name": "stdout",
     "output_type": "stream",
     "text": [
      "51351426\n"
     ]
    },
    {
     "data": {
      "text/html": [
       "<div>\n",
       "<style scoped>\n",
       "    .dataframe tbody tr th:only-of-type {\n",
       "        vertical-align: middle;\n",
       "    }\n",
       "\n",
       "    .dataframe tbody tr th {\n",
       "        vertical-align: top;\n",
       "    }\n",
       "\n",
       "    .dataframe thead th {\n",
       "        text-align: right;\n",
       "    }\n",
       "</style>\n",
       "<table border=\"1\" class=\"dataframe\">\n",
       "  <thead>\n",
       "    <tr style=\"text-align: right;\">\n",
       "      <th></th>\n",
       "      <th>date</th>\n",
       "      <th>date_last_available</th>\n",
       "      <th>date_used_version</th>\n",
       "      <th>kind</th>\n",
       "      <th>package</th>\n",
       "      <th>version</th>\n",
       "      <th>version_lag</th>\n",
       "    </tr>\n",
       "  </thead>\n",
       "  <tbody>\n",
       "    <tr>\n",
       "      <th>0</th>\n",
       "      <td>2015-11-11</td>\n",
       "      <td>2014-04-01</td>\n",
       "      <td>2014-04-01</td>\n",
       "      <td>runtime</td>\n",
       "      <td>shaybagants-test</td>\n",
       "      <td>1.0.0</td>\n",
       "      <td>0,0,0</td>\n",
       "    </tr>\n",
       "    <tr>\n",
       "      <th>1</th>\n",
       "      <td>2015-11-11</td>\n",
       "      <td>2014-04-01</td>\n",
       "      <td>2014-04-01</td>\n",
       "      <td>runtime</td>\n",
       "      <td>shaybagants-test</td>\n",
       "      <td>2.0.0</td>\n",
       "      <td>0,0,0</td>\n",
       "    </tr>\n",
       "  </tbody>\n",
       "</table>\n",
       "</div>"
      ],
      "text/plain": [
       "         date date_last_available date_used_version     kind  \\\n",
       "0  2015-11-11          2014-04-01        2014-04-01  runtime   \n",
       "1  2015-11-11          2014-04-01        2014-04-01  runtime   \n",
       "\n",
       "            package version version_lag  \n",
       "0  shaybagants-test   1.0.0       0,0,0  \n",
       "1  shaybagants-test   2.0.0       0,0,0  "
      ]
     },
     "execution_count": 4,
     "metadata": {},
     "output_type": "execute_result"
    }
   ],
   "source": [
    "# Load data\n",
    "dep_lag = pd.read_csv('../../../jsep2018/csv/packages/technical_lag_clean.csv', \n",
    "                    usecols=['package','version','version_lag','kind','date',\n",
    "                            'date_used_version','date_last_available'],\n",
    "                          sep=';', dtype=object, index_col=None,  error_bad_lines=False)\n",
    "print(len(dep_lag))\n",
    "dep_lag.head(2)"
   ]
  },
  {
   "cell_type": "code",
   "execution_count": 6,
   "metadata": {},
   "outputs": [],
   "source": [
    "# Filter out pre-releases\n",
    "mask = dep_lag.version.str.contains('-')\n",
    "dep_lag = dep_lag[~mask]"
   ]
  },
  {
   "cell_type": "code",
   "execution_count": 7,
   "metadata": {},
   "outputs": [],
   "source": [
    "# Filter out spam packages\n",
    "mask = dep_lag['package'].str.startswith(exclude_prefixes)\n",
    "dep_lag = dep_lag[~mask]"
   ]
  },
  {
   "cell_type": "code",
   "execution_count": 8,
   "metadata": {},
   "outputs": [],
   "source": [
    "mask = dep_lag['package'].str.endswith(exclude_suffixes)\n",
    "dep_lag = dep_lag[~mask]"
   ]
  },
  {
   "cell_type": "code",
   "execution_count": 9,
   "metadata": {},
   "outputs": [],
   "source": [
    "mask = dep_lag['package'].str.match(exclude_ghost)\n",
    "dep_lag = dep_lag[~mask]"
   ]
  },
  {
   "cell_type": "code",
   "execution_count": 6,
   "metadata": {},
   "outputs": [
    {
     "data": {
      "text/plain": [
       "45178989"
      ]
     },
     "execution_count": 6,
     "metadata": {},
     "output_type": "execute_result"
    }
   ],
   "source": [
    "len(dep_lag)"
   ]
  },
  {
   "cell_type": "code",
   "execution_count": 7,
   "metadata": {},
   "outputs": [
    {
     "name": "stdout",
     "output_type": "stream",
     "text": [
      "33511815 11667174\n"
     ]
    }
   ],
   "source": [
    "print(len(dep_lag.query('version_lag==\"0,0,0\"')),\n",
    "      len(dep_lag.query('version_lag!=\"0,0,0\"')))"
   ]
  },
  {
   "cell_type": "code",
   "execution_count": 8,
   "metadata": {},
   "outputs": [
    {
     "data": {
      "text/plain": [
       "0.2582433617538454"
      ]
     },
     "execution_count": 8,
     "metadata": {},
     "output_type": "execute_result"
    }
   ],
   "source": [
    "# Proportion outdated dependencies\n",
    "len(dep_lag.query('version_lag!=\"0,0,0\"'))/len(dep_lag)"
   ]
  },
  {
   "cell_type": "code",
   "execution_count": 9,
   "metadata": {},
   "outputs": [
    {
     "data": {
      "text/html": [
       "<div>\n",
       "<style scoped>\n",
       "    .dataframe tbody tr th:only-of-type {\n",
       "        vertical-align: middle;\n",
       "    }\n",
       "\n",
       "    .dataframe tbody tr th {\n",
       "        vertical-align: top;\n",
       "    }\n",
       "\n",
       "    .dataframe thead th {\n",
       "        text-align: right;\n",
       "    }\n",
       "</style>\n",
       "<table border=\"1\" class=\"dataframe\">\n",
       "  <thead>\n",
       "    <tr style=\"text-align: right;\">\n",
       "      <th></th>\n",
       "      <th>package</th>\n",
       "    </tr>\n",
       "    <tr>\n",
       "      <th>kind</th>\n",
       "      <th></th>\n",
       "    </tr>\n",
       "  </thead>\n",
       "  <tbody>\n",
       "    <tr>\n",
       "      <th>Development</th>\n",
       "      <td>0.680696</td>\n",
       "    </tr>\n",
       "    <tr>\n",
       "      <th>Optional</th>\n",
       "      <td>0.000010</td>\n",
       "    </tr>\n",
       "    <tr>\n",
       "      <th>runtime</th>\n",
       "      <td>0.319294</td>\n",
       "    </tr>\n",
       "  </tbody>\n",
       "</table>\n",
       "</div>"
      ],
      "text/plain": [
       "              package\n",
       "kind                 \n",
       "Development  0.680696\n",
       "Optional     0.000010\n",
       "runtime      0.319294"
      ]
     },
     "execution_count": 9,
     "metadata": {},
     "output_type": "execute_result"
    }
   ],
   "source": [
    "dep_lag.query('version_lag!=\"0,0,0\"').groupby('kind').count()[['package']]/len(dep_lag.query('version_lag!=\"0,0,0\"'))"
   ]
  },
  {
   "cell_type": "code",
   "execution_count": 10,
   "metadata": {},
   "outputs": [
    {
     "data": {
      "text/html": [
       "<div>\n",
       "<style scoped>\n",
       "    .dataframe tbody tr th:only-of-type {\n",
       "        vertical-align: middle;\n",
       "    }\n",
       "\n",
       "    .dataframe tbody tr th {\n",
       "        vertical-align: top;\n",
       "    }\n",
       "\n",
       "    .dataframe thead th {\n",
       "        text-align: right;\n",
       "    }\n",
       "</style>\n",
       "<table border=\"1\" class=\"dataframe\">\n",
       "  <thead>\n",
       "    <tr style=\"text-align: right;\">\n",
       "      <th></th>\n",
       "      <th>package</th>\n",
       "    </tr>\n",
       "    <tr>\n",
       "      <th>kind</th>\n",
       "      <th></th>\n",
       "    </tr>\n",
       "  </thead>\n",
       "  <tbody>\n",
       "    <tr>\n",
       "      <th>Development</th>\n",
       "      <td>7941801</td>\n",
       "    </tr>\n",
       "    <tr>\n",
       "      <th>Optional</th>\n",
       "      <td>116</td>\n",
       "    </tr>\n",
       "    <tr>\n",
       "      <th>runtime</th>\n",
       "      <td>3725257</td>\n",
       "    </tr>\n",
       "  </tbody>\n",
       "</table>\n",
       "</div>"
      ],
      "text/plain": [
       "             package\n",
       "kind                \n",
       "Development  7941801\n",
       "Optional         116\n",
       "runtime      3725257"
      ]
     },
     "execution_count": 10,
     "metadata": {},
     "output_type": "execute_result"
    }
   ],
   "source": [
    "dep_lag.query('version_lag!=\"0,0,0\"').groupby('kind').count()[['package']]"
   ]
  },
  {
   "cell_type": "code",
   "execution_count": 11,
   "metadata": {},
   "outputs": [
    {
     "data": {
      "text/html": [
       "<div>\n",
       "<style scoped>\n",
       "    .dataframe tbody tr th:only-of-type {\n",
       "        vertical-align: middle;\n",
       "    }\n",
       "\n",
       "    .dataframe tbody tr th {\n",
       "        vertical-align: top;\n",
       "    }\n",
       "\n",
       "    .dataframe thead th {\n",
       "        text-align: right;\n",
       "    }\n",
       "</style>\n",
       "<table border=\"1\" class=\"dataframe\">\n",
       "  <thead>\n",
       "    <tr style=\"text-align: right;\">\n",
       "      <th></th>\n",
       "      <th>package</th>\n",
       "    </tr>\n",
       "    <tr>\n",
       "      <th>kind</th>\n",
       "      <th></th>\n",
       "    </tr>\n",
       "  </thead>\n",
       "  <tbody>\n",
       "    <tr>\n",
       "      <th>Development</th>\n",
       "      <td>0.541823</td>\n",
       "    </tr>\n",
       "    <tr>\n",
       "      <th>Optional</th>\n",
       "      <td>0.000005</td>\n",
       "    </tr>\n",
       "    <tr>\n",
       "      <th>runtime</th>\n",
       "      <td>0.458172</td>\n",
       "    </tr>\n",
       "  </tbody>\n",
       "</table>\n",
       "</div>"
      ],
      "text/plain": [
       "              package\n",
       "kind                 \n",
       "Development  0.541823\n",
       "Optional     0.000005\n",
       "runtime      0.458172"
      ]
     },
     "execution_count": 11,
     "metadata": {},
     "output_type": "execute_result"
    }
   ],
   "source": [
    "dep_lag.query('version_lag==\"0,0,0\"').groupby('kind').count()[['package']]/len(dep_lag.query('version_lag==\"0,0,0\"'))"
   ]
  },
  {
   "cell_type": "code",
   "execution_count": 12,
   "metadata": {},
   "outputs": [
    {
     "data": {
      "text/html": [
       "<div>\n",
       "<style scoped>\n",
       "    .dataframe tbody tr th:only-of-type {\n",
       "        vertical-align: middle;\n",
       "    }\n",
       "\n",
       "    .dataframe tbody tr th {\n",
       "        vertical-align: top;\n",
       "    }\n",
       "\n",
       "    .dataframe thead th {\n",
       "        text-align: right;\n",
       "    }\n",
       "</style>\n",
       "<table border=\"1\" class=\"dataframe\">\n",
       "  <thead>\n",
       "    <tr style=\"text-align: right;\">\n",
       "      <th></th>\n",
       "      <th>package</th>\n",
       "    </tr>\n",
       "    <tr>\n",
       "      <th>kind</th>\n",
       "      <th></th>\n",
       "    </tr>\n",
       "  </thead>\n",
       "  <tbody>\n",
       "    <tr>\n",
       "      <th>Development</th>\n",
       "      <td>18157468</td>\n",
       "    </tr>\n",
       "    <tr>\n",
       "      <th>Optional</th>\n",
       "      <td>162</td>\n",
       "    </tr>\n",
       "    <tr>\n",
       "      <th>runtime</th>\n",
       "      <td>15354185</td>\n",
       "    </tr>\n",
       "  </tbody>\n",
       "</table>\n",
       "</div>"
      ],
      "text/plain": [
       "              package\n",
       "kind                 \n",
       "Development  18157468\n",
       "Optional          162\n",
       "runtime      15354185"
      ]
     },
     "execution_count": 12,
     "metadata": {},
     "output_type": "execute_result"
    }
   ],
   "source": [
    "dep_lag.query('version_lag==\"0,0,0\"').groupby('kind').count()[['package']]"
   ]
  },
  {
   "cell_type": "markdown",
   "metadata": {},
   "source": [
    "### Outdated Packages"
   ]
  },
  {
   "cell_type": "markdown",
   "metadata": {},
   "source": [
    "### Time lag\n",
    "This part is to anlayze the evolution of the time lag"
   ]
  },
  {
   "cell_type": "code",
   "execution_count": 5,
   "metadata": {},
   "outputs": [],
   "source": [
    "# we filter out depndencies with technical lag = 0\n",
    "dep_lag = dep_lag.query('version_lag!=\"0,0,0\"').copy()"
   ]
  },
  {
   "cell_type": "code",
   "execution_count": 10,
   "metadata": {},
   "outputs": [
    {
     "data": {
      "text/plain": [
       "11667174"
      ]
     },
     "execution_count": 10,
     "metadata": {},
     "output_type": "execute_result"
    }
   ],
   "source": [
    "len(dep_lag)"
   ]
  },
  {
   "cell_type": "code",
   "execution_count": 11,
   "metadata": {},
   "outputs": [],
   "source": [
    "dep_lag['date_used_version']=pd.to_datetime(dep_lag['date_used_version'])\n",
    "dep_lag['date_last_available']=pd.to_datetime(dep_lag['date_last_available'])"
   ]
  },
  {
   "cell_type": "code",
   "execution_count": 12,
   "metadata": {},
   "outputs": [],
   "source": [
    "# Compute time lag\n",
    "dep_lag['time_lag']=dep_lag['date_last_available'] - dep_lag['date_used_version']"
   ]
  },
  {
   "cell_type": "code",
   "execution_count": 13,
   "metadata": {},
   "outputs": [
    {
     "name": "stderr",
     "output_type": "stream",
     "text": [
      "/usr/local/lib/python3.6/dist-packages/ipykernel_launcher.py:2: SettingWithCopyWarning: \n",
      "A value is trying to be set on a copy of a slice from a DataFrame.\n",
      "Try using .loc[row_indexer,col_indexer] = value instead\n",
      "\n",
      "See the caveats in the documentation: http://pandas.pydata.org/pandas-docs/stable/indexing.html#indexing-view-versus-copy\n",
      "  \n"
     ]
    }
   ],
   "source": [
    "time_lag=dep_lag[['package','version','date','kind','time_lag']]\n",
    "time_lag['time_lag']=time_lag['time_lag'].apply(lambda x : float(str(x).split()[0]))"
   ]
  },
  {
   "cell_type": "code",
   "execution_count": 14,
   "metadata": {},
   "outputs": [],
   "source": [
    "time_lag = time_lag.query('time_lag != 0') # Some package versions may have been created the same day\n",
    "time_lag['date']=pd.to_datetime(time_lag['date'])"
   ]
  },
  {
   "cell_type": "code",
   "execution_count": 15,
   "metadata": {},
   "outputs": [
    {
     "data": {
      "text/plain": [
       "2899421"
      ]
     },
     "execution_count": 15,
     "metadata": {},
     "output_type": "execute_result"
    }
   ],
   "source": [
    "# We aggregate version lag by max\n",
    "time_lag_max=time_lag.groupby(['package','version','kind','date']).agg('max').reset_index()\n",
    "len(time_lag_max)"
   ]
  },
  {
   "cell_type": "code",
   "execution_count": 16,
   "metadata": {},
   "outputs": [],
   "source": [
    "time_lag_max['time_lag']=time_lag_max['time_lag'].apply(float)"
   ]
  },
  {
   "cell_type": "code",
   "execution_count": 14,
   "metadata": {},
   "outputs": [
    {
     "data": {
      "text/plain": [
       "MannwhitneyuResult(statistic=947904848760.0, pvalue=0.0)"
      ]
     },
     "execution_count": 14,
     "metadata": {},
     "output_type": "execute_result"
    }
   ],
   "source": [
    "# Statistical test for the difference between time lag for Dev and Runtime dependencies.\n",
    "scipy.stats.mannwhitneyu(time_lag_max.query('kind==\"Development\"').time_lag,time_lag_max.query('kind==\"runtime\"').time_lag)"
   ]
  },
  {
   "cell_type": "code",
   "execution_count": null,
   "metadata": {},
   "outputs": [],
   "source": [
    "# Cliff's delta for the difference between time lag for Dev and Runtime dependencies.\n",
    "cliffsDelta(time_lag_max.query('kind==\"Development\"').time_lag,time_lag_max.query('kind==\"runtime\"').time_lag)"
   ]
  },
  {
   "cell_type": "code",
   "execution_count": 16,
   "metadata": {},
   "outputs": [
    {
     "data": {
      "text/plain": [
       "160.0"
      ]
     },
     "execution_count": 16,
     "metadata": {},
     "output_type": "execute_result"
    }
   ],
   "source": [
    "time_lag_max.query('time_lag!=0').query('kind==\"runtime\"').time_lag.median()"
   ]
  },
  {
   "cell_type": "code",
   "execution_count": 20,
   "metadata": {},
   "outputs": [
    {
     "data": {
      "text/plain": [
       "195.0"
      ]
     },
     "execution_count": 20,
     "metadata": {},
     "output_type": "execute_result"
    }
   ],
   "source": [
    "time_lag_max.query('time_lag!=0').query('kind==\"Development\"').time_lag.median()"
   ]
  },
  {
   "cell_type": "code",
   "execution_count": 23,
   "metadata": {},
   "outputs": [],
   "source": [
    "time_lag_max = time_lag_max.query('kind == \"runtime\"').copy()"
   ]
  },
  {
   "cell_type": "code",
   "execution_count": 25,
   "metadata": {},
   "outputs": [
    {
     "data": {
      "text/plain": [
       "1218759"
      ]
     },
     "execution_count": 25,
     "metadata": {},
     "output_type": "execute_result"
    }
   ],
   "source": [
    "len(time_lag_max)"
   ]
  },
  {
   "cell_type": "code",
   "execution_count": 26,
   "metadata": {},
   "outputs": [],
   "source": [
    "time_lag_max.to_csv('/home/neglectos/Desktop/lab/jsep2018/csv/packages/time_lag_packages.csv', index=False, sep=\",\")"
   ]
  },
  {
   "cell_type": "code",
   "execution_count": 17,
   "metadata": {},
   "outputs": [
    {
     "data": {
      "image/png": "[encoded data removed]",
      "text/plain": [
       "<Figure size 1296x216 with 2 Axes>"
      ]
     },
     "metadata": {
      "needs_background": "light"
     },
     "output_type": "display_data"
    }
   ],
   "source": [
    "fig, axes = plt.subplots(1, 2, sharex=True, sharey=True)\n",
    "fig.set_size_inches(18,3)\n",
    "for index, genre in enumerate(['runtime','Development']):\n",
    "    size=[12,20,70]\n",
    "    df_=(time_lag_max.\n",
    "         query('time_lag!=0').\n",
    "         query('kind==\"{}\"'.format(genre)).\n",
    "         groupby(pd.Grouper(key='date', freq='1M'))['time_lag'].\n",
    "         describe()[['mean', '25%', '50%', '75%']] \n",
    "        )\n",
    "    genre=genre.capitalize()\n",
    "    if genre ==\"Runtime\":\n",
    "        color=green\n",
    "    else:\n",
    "        color=blue\n",
    "\n",
    "    df_tmp=df_\n",
    "    df_tmp['50%'].rename('median').plot(ax=axes[index], color=color)\n",
    "    ax=df_tmp['mean'].plot(ax=axes[index],style=':',color=color)\n",
    "    ax.fill_between(df_tmp.index, df_tmp['25%'], df_tmp['75%'], alpha=0.2, color=color)\n",
    "\n",
    "    ax.set(\n",
    "        xlabel='',\n",
    "        #ylabel='deplag_{time}'+'\\n(in days)',\n",
    "        ylabel='Time lag in days',\n",
    "        title=genre,\n",
    "        xlim=date_period,\n",
    "    )\n",
    "    ax.legend(loc='upper left',  prop={'size': 16, 'weight':'bold'})\n",
    "#fig.savefig('../../../../repositories/jsep18technicallag/figures/time_lag.pdf', bbox_inches='tight', facecolor='white')\n"
   ]
  },
  {
   "cell_type": "code",
   "execution_count": 15,
   "metadata": {},
   "outputs": [
    {
     "name": "stdout",
     "output_type": "stream",
     "text": [
      "r-squared: 0.766957941983\n"
     ]
    }
   ],
   "source": [
    "# Compute R²\n",
    "slope, intercept, r_value, p_value, std_err = scipy.stats.linregress(df_tmp.reset_index().reset_index().index,\n",
    "                       df_tmp.reset_index().reset_index()['50%'])\n",
    "print (\"r-squared:\", r_value**2)"
   ]
  },
  {
   "cell_type": "code",
   "execution_count": 16,
   "metadata": {},
   "outputs": [
    {
     "name": "stdout",
     "output_type": "stream",
     "text": [
      "r-squared: 0.766957941983\n",
      "2.32580010206\n",
      "41.3181818182\n",
      "0.875761349903\n",
      "1.2823938996e-28\n",
      "0.139057462874\n"
     ]
    }
   ],
   "source": [
    "# Compute R²\n",
    "slope, intercept, r_value, p_value, std_err = scipy.stats.linregress(df_tmp.reset_index().reset_index().index,\n",
    "                       df_tmp.reset_index().reset_index()['50%'])\n",
    "print (\"r-squared:\", r_value**2)\n",
    "a = (slope, intercept, r_value, p_value, std_err)\n",
    "for x in a :\n",
    "    print(x)"
   ]
  },
  {
   "cell_type": "code",
   "execution_count": 46,
   "metadata": {},
   "outputs": [
    {
     "name": "stdout",
     "output_type": "stream",
     "text": [
      "2010 2011\n",
      "MannwhitneyuResult(statistic=0.0, pvalue=0.0)\n",
      "2011 2012\n",
      "MannwhitneyuResult(statistic=2299946.5, pvalue=0.44433028424297838)\n",
      "2012 2013\n",
      "MannwhitneyuResult(statistic=55585013.5, pvalue=5.2786163179451937e-82)\n",
      "2013 2014\n",
      "MannwhitneyuResult(statistic=845536881.0, pvalue=3.2392602577436822e-145)\n",
      "2014 2015\n"
     ]
    },
    {
     "name": "stderr",
     "output_type": "stream",
     "text": [
      "/usr/local/lib/python3.5/dist-packages/scipy/stats/stats.py:4897: RuntimeWarning: divide by zero encountered in double_scalars\n",
      "  z = (bigu - meanrank) / sd\n"
     ]
    },
    {
     "name": "stdout",
     "output_type": "stream",
     "text": [
      "MannwhitneyuResult(statistic=6330515524.5, pvalue=7.8253155146745007e-45)\n",
      "2015 2016\n",
      "MannwhitneyuResult(statistic=22328043682.5, pvalue=0.055973442411739217)\n",
      "2016 2017\n",
      "MannwhitneyuResult(statistic=72090711169.5, pvalue=6.0207044605379801e-54)\n",
      "2017 2018\n",
      "MannwhitneyuResult(statistic=158630582656.5, pvalue=0.0)\n"
     ]
    }
   ],
   "source": [
    "# Statitiscal tests to compare the whole periode\n",
    "for x in range(2010, 2018):\n",
    "    first=str(x)\n",
    "    last=str(x+1)\n",
    "    a=time_lag_max.query('date>\"'+first+'\" and date<\"'+last+'\"')\n",
    "    print(first,last)\n",
    "    print( scipy.stats.mannwhitneyu(a.query('kind==\"Development\"').time_lag,\n",
    "                                    a.query('kind==\"runtime\"').time_lag))"
   ]
  },
  {
   "cell_type": "code",
   "execution_count": 59,
   "metadata": {},
   "outputs": [
    {
     "name": "stdout",
     "output_type": "stream",
     "text": [
      "2011 2012\n",
      "d=0.002520429290497962\n",
      "False\n",
      "2012 2013\n",
      "d=-0.14768304703888357\n",
      "True\n",
      "2013 2014\n",
      "d=-0.10051361198376367\n",
      "False\n",
      "2014 2015\n",
      "d=0.0337858769730778\n",
      "False\n",
      "2015 2016\n",
      "d=0.0028246304357184035\n",
      "False\n",
      "2016 2017\n",
      "d=0.020516406544691303\n",
      "False\n",
      "2017 2018\n",
      "d=0.1264832970181366\n",
      "False\n"
     ]
    }
   ],
   "source": [
    "# Cliff's Dela to compare the whole periode\n",
    "for b in range(2011,2018):\n",
    "    first=str(b)\n",
    "    last=str(b+1)\n",
    "    a=time_lag_max.query('date>\"'+first+'\" and date<\"'+last+'\"')\n",
    "    print(first,last)\n",
    "    print(cliffsDelta(a.query('kind==\"Development\"').time_lag,\n",
    "                                    a.query('kind==\"runtime\"').time_lag))"
   ]
  },
  {
   "cell_type": "markdown",
   "metadata": {},
   "source": [
    "### Version lag\n",
    "This part is to anlayze the evolution of the version lag"
   ]
  },
  {
   "cell_type": "code",
   "execution_count": 37,
   "metadata": {},
   "outputs": [
    {
     "data": {
      "text/plain": [
       "1.0"
      ]
     },
     "execution_count": 37,
     "metadata": {},
     "output_type": "execute_result"
    }
   ],
   "source": [
    "# Only dependencies with version lag != 0\n",
    "version_lag_sum=dep_lag.query('version_lag!=\"0,0,0\"')[['package','version','version_lag','date','kind']]\n",
    "len(version_lag_sum)/len(dep_lag)"
   ]
  },
  {
   "cell_type": "code",
   "execution_count": null,
   "metadata": {},
   "outputs": [],
   "source": [
    "# Split the version lag triple to three components\n",
    "version_lag_sum=(version_lag_sum.\n",
    "                 assign(version_major=lambda d: d['version_lag'].apply(lambda x: int(x.split(',')[0])) ).\n",
    "                 assign(version_minor=lambda d: d['version_lag'].apply(lambda x: int(x.split(',')[1]))  ).\n",
    "                 assign(version_patch=lambda d: d['version_lag'].apply(lambda x: int(x.split(',')[2])) )\n",
    "                )         "
   ]
  },
  {
   "cell_type": "code",
   "execution_count": 66,
   "metadata": {},
   "outputs": [],
   "source": [
    "version_lag_sum.drop('version_lag', axis=1, inplace=True)"
   ]
  },
  {
   "cell_type": "code",
   "execution_count": 67,
   "metadata": {},
   "outputs": [],
   "source": [
    "# We aggregate version lag by addition\n",
    "version_lag_sum=version_lag_sum.groupby(['package','version','date','kind']).agg('sum')\n",
    "version_lag_sum.reset_index(inplace=True)"
   ]
  },
  {
   "cell_type": "code",
   "execution_count": 68,
   "metadata": {},
   "outputs": [
    {
     "data": {
      "text/html": [
       "<div>\n",
       "<style scoped>\n",
       "    .dataframe tbody tr th:only-of-type {\n",
       "        vertical-align: middle;\n",
       "    }\n",
       "\n",
       "    .dataframe tbody tr th {\n",
       "        vertical-align: top;\n",
       "    }\n",
       "\n",
       "    .dataframe thead th {\n",
       "        text-align: right;\n",
       "    }\n",
       "</style>\n",
       "<table border=\"1\" class=\"dataframe\">\n",
       "  <thead>\n",
       "    <tr style=\"text-align: right;\">\n",
       "      <th></th>\n",
       "      <th>package</th>\n",
       "      <th>version</th>\n",
       "      <th>date</th>\n",
       "      <th>kind</th>\n",
       "      <th>Major</th>\n",
       "      <th>Minor</th>\n",
       "      <th>Patch</th>\n",
       "    </tr>\n",
       "  </thead>\n",
       "  <tbody>\n",
       "    <tr>\n",
       "      <th>0</th>\n",
       "      <td>0-</td>\n",
       "      <td>0.0.1</td>\n",
       "      <td>2017-03-06</td>\n",
       "      <td>Development</td>\n",
       "      <td>4.0</td>\n",
       "      <td>4.0</td>\n",
       "      <td>13.0</td>\n",
       "    </tr>\n",
       "    <tr>\n",
       "      <th>1</th>\n",
       "      <td>0-9</td>\n",
       "      <td>0.0.1</td>\n",
       "      <td>2017-03-06</td>\n",
       "      <td>Development</td>\n",
       "      <td>4.0</td>\n",
       "      <td>4.0</td>\n",
       "      <td>13.0</td>\n",
       "    </tr>\n",
       "  </tbody>\n",
       "</table>\n",
       "</div>"
      ],
      "text/plain": [
       "  package version       date         kind  Major  Minor  Patch\n",
       "0      0-   0.0.1 2017-03-06  Development    4.0    4.0   13.0\n",
       "1     0-9   0.0.1 2017-03-06  Development    4.0    4.0   13.0"
      ]
     },
     "execution_count": 68,
     "metadata": {},
     "output_type": "execute_result"
    }
   ],
   "source": [
    "# Prepare fot the visualization\n",
    "version_lag_sum['date']=pd.to_datetime(version_lag_sum['date'])\n",
    "version_lag_sum.rename(columns={'version_major':'Major','version_minor':'Minor','version_patch':'Patch'}, inplace=True)\n",
    "for x in ['Minor','Patch','Major']:\n",
    "    version_lag_sum[x]=version_lag_sum[x].apply(float)\n",
    "version_lag_sum['kind']=version_lag_sum['kind'].apply(lambda x: x.capitalize())\n",
    "version_lag_sum.head(2)"
   ]
  },
  {
   "cell_type": "code",
   "execution_count": 70,
   "metadata": {},
   "outputs": [
    {
     "name": "stdout",
     "output_type": "stream",
     "text": [
      "Development\n",
      "2.0 2.0 9.0\n",
      "Runtime\n",
      "1.0 1.0 4.0\n"
     ]
    }
   ],
   "source": [
    "for kind in ['Development','Runtime']:\n",
    "    dd=version_lag_sum.query('kind==\"'+kind+'\"')\n",
    "    print(kind)\n",
    "    print(dd.Major.median(),dd.Minor.median(),dd.Patch.median())"
   ]
  },
  {
   "cell_type": "code",
   "execution_count": 74,
   "metadata": {},
   "outputs": [
    {
     "data": {
      "image/png": "[encoded data removed]",
      "text/plain": [
       "<matplotlib.figure.Figure at 0x7f916f29c128>"
      ]
     },
     "metadata": {},
     "output_type": "display_data"
    }
   ],
   "source": [
    "fig, axes = plt.subplots(3, 2, sharex=True, sharey=False)\n",
    "fig.set_size_inches(18,8)\n",
    "for index, genre in enumerate(['Runtime','Development']):\n",
    "    size=[12,20,70]\n",
    "    dfs={}\n",
    "    for x in ['Patch','Minor','Major']:\n",
    "        dfs[x]=(version_lag_sum.query('kind==\"{}\"'.format(genre)).\n",
    "                groupby(pd.Grouper(key='date', freq='1M'))[x].\n",
    "                describe()[['mean', '25%', '50%', '75%']] \n",
    "               )\n",
    "\n",
    "    colors={}\n",
    "    colors['Patch']='orange'\n",
    "    colors['Minor']='r'\n",
    "    colors['Major']='gray'\n",
    "\n",
    "\n",
    "    for i, x in enumerate(['Major','Minor','Patch']):\n",
    "        #fig, ax = plt.subplots()\n",
    "        df_tmp=dfs[x]\n",
    "        df_tmp['50%'].rename('median').plot(ax=axes[i][index], color=colors[x])\n",
    "        df_tmp['mean'].plot(style=':',ax=axes[i][index], color=colors[x])\n",
    "        axes[i][index].fill_between(df_tmp.index, df_tmp['25%'], df_tmp['75%'], color=colors[x], alpha=0.2)\n",
    "\n",
    "        axes[i][index].set(\n",
    "            xlabel='',\n",
    "            ylabel='{} \\n version lag'.format(x),\n",
    "            xlim=date_period,\n",
    "            ylim=(0,size[i]),\n",
    "        )\n",
    "        if i == 0:\n",
    "            axes[i][index].set(title=genre)\n",
    "        if index==1:\n",
    "            axes[i][index].set(ylabel='')\n",
    "\n",
    "        axes[i][index].legend(loc='upper left',  prop={'size': 16, 'weight':'bold'})\n",
    "\n",
    "fig.savefig('../../../../repositories/jsep18technicallag/figures/version_lag.pdf', bbox_inches='tight', facecolor='white')"
   ]
  },
  {
   "cell_type": "markdown",
   "metadata": {},
   "source": [
    "# Remove O.y.z\n",
    "Here we do the same analysis but without considering version with major version 0"
   ]
  },
  {
   "cell_type": "code",
   "execution_count": 110,
   "metadata": {},
   "outputs": [
    {
     "data": {
      "text/plain": [
       "0.19322459239474268"
      ]
     },
     "execution_count": 110,
     "metadata": {},
     "output_type": "execute_result"
    }
   ],
   "source": [
    "version_lag_sum=dep_lag.query('version_lag!=\"0,0,0\"')\n",
    "len(version_lag_sum)/len(dep_lag)"
   ]
  },
  {
   "cell_type": "code",
   "execution_count": 111,
   "metadata": {},
   "outputs": [],
   "source": [
    "version_lag_sum['zero']=version_lag_sum['used_version'].apply(lambda x: 'True' if x.split('.')[0]==\"0\"\n",
    "                                                             else 'False')"
   ]
  },
  {
   "cell_type": "code",
   "execution_count": 112,
   "metadata": {},
   "outputs": [],
   "source": [
    "version_lag_sum=version_lag_sum.query('zero==\"False\"')[['package','version','version_lag','date','kind']]"
   ]
  },
  {
   "cell_type": "code",
   "execution_count": 113,
   "metadata": {},
   "outputs": [],
   "source": [
    "version_lag_sum=(version_lag_sum.\n",
    "                 assign(version_major=lambda d: d['version_lag'].apply(lambda x: int(x.split(',')[0])) ).\n",
    "                 assign(version_minor=lambda d: d['version_lag'].apply(lambda x: int(x.split(',')[1]))  ).\n",
    "                 assign(version_patch=lambda d: d['version_lag'].apply(lambda x: int(x.split(',')[2])) )\n",
    "                )\n",
    "                 "
   ]
  },
  {
   "cell_type": "code",
   "execution_count": 114,
   "metadata": {},
   "outputs": [],
   "source": [
    "version_lag_sum.drop(['version_lag'], axis=1, inplace=True)"
   ]
  },
  {
   "cell_type": "code",
   "execution_count": 115,
   "metadata": {},
   "outputs": [],
   "source": [
    "version_lag_sum=version_lag_sum.groupby(['package','version','date','kind']).agg('sum')\n",
    "version_lag_sum.reset_index(inplace=True)"
   ]
  },
  {
   "cell_type": "code",
   "execution_count": 117,
   "metadata": {},
   "outputs": [
    {
     "data": {
      "text/html": [
       "<div>\n",
       "<style scoped>\n",
       "    .dataframe tbody tr th:only-of-type {\n",
       "        vertical-align: middle;\n",
       "    }\n",
       "\n",
       "    .dataframe tbody tr th {\n",
       "        vertical-align: top;\n",
       "    }\n",
       "\n",
       "    .dataframe thead th {\n",
       "        text-align: right;\n",
       "    }\n",
       "</style>\n",
       "<table border=\"1\" class=\"dataframe\">\n",
       "  <thead>\n",
       "    <tr style=\"text-align: right;\">\n",
       "      <th></th>\n",
       "      <th>package</th>\n",
       "      <th>version</th>\n",
       "      <th>date</th>\n",
       "      <th>kind</th>\n",
       "      <th>Major</th>\n",
       "      <th>Minor</th>\n",
       "      <th>Patch</th>\n",
       "    </tr>\n",
       "  </thead>\n",
       "  <tbody>\n",
       "    <tr>\n",
       "      <th>0</th>\n",
       "      <td>0-</td>\n",
       "      <td>0.0.1</td>\n",
       "      <td>2017-03-06</td>\n",
       "      <td>Development</td>\n",
       "      <td>4.0</td>\n",
       "      <td>4.0</td>\n",
       "      <td>13.0</td>\n",
       "    </tr>\n",
       "    <tr>\n",
       "      <th>1</th>\n",
       "      <td>0-9</td>\n",
       "      <td>0.0.1</td>\n",
       "      <td>2017-03-06</td>\n",
       "      <td>Development</td>\n",
       "      <td>4.0</td>\n",
       "      <td>4.0</td>\n",
       "      <td>13.0</td>\n",
       "    </tr>\n",
       "  </tbody>\n",
       "</table>\n",
       "</div>"
      ],
      "text/plain": [
       "  package version       date         kind  Major  Minor  Patch\n",
       "0      0-   0.0.1 2017-03-06  Development    4.0    4.0   13.0\n",
       "1     0-9   0.0.1 2017-03-06  Development    4.0    4.0   13.0"
      ]
     },
     "execution_count": 117,
     "metadata": {},
     "output_type": "execute_result"
    }
   ],
   "source": [
    "version_lag_sum_zeros['date']=pd.to_datetime(version_lag_sum_zeros['date'])\n",
    "version_lag_sum_zeros.rename(columns={'version_major':'Major','version_minor':'Minor','version_patch':'Patch'}, inplace=True)\n",
    "for x in ['Minor','Patch','Major']:\n",
    "    version_lag_sum_zeros[x]=version_lag_sum_zeros[x].apply(float)\n",
    "version_lag_sum_zeros['kind']=version_lag_sum_zeros['kind'].apply(lambda x: x.capitalize())\n",
    "version_lag_sum_zeros.head(2)"
   ]
  },
  {
   "cell_type": "code",
   "execution_count": null,
   "metadata": {},
   "outputs": [],
   "source": [
    "fig, axes = plt.subplots(3, 2, sharex=True, sharey=False)\n",
    "fig.set_size_inches(18,8)\n",
    "for index, genre in enumerate(['Runtime','Development']):\n",
    "    size=[12,20,70]\n",
    "    dfs={}\n",
    "    for x in ['Patch','Minor','Major']:\n",
    "        dfs[x]=(version_lag_sum_zeros.query('kind==\"{}\"'.format(genre)).\n",
    "                groupby(pd.Grouper(key='date', freq='1M'))[x].\n",
    "                describe()[['mean', '25%', '50%', '75%']] \n",
    "               )\n",
    "\n",
    "    colors={}\n",
    "    colors['Patch']='orange'\n",
    "    colors['Minor']='r'\n",
    "    colors['Major']='gray'\n",
    "\n",
    "\n",
    "    for i, x in enumerate(['Major','Minor','Patch']):\n",
    "        df_tmp=dfs[x]\n",
    "        df_tmp['50%'].rename('median').plot(ax=axes[i][index], color=colors[x])\n",
    "        df_tmp['mean'].plot(style=':',ax=axes[i][index], color=colors[x])\n",
    "        axes[i][index].fill_between(df_tmp.index, df_tmp['25%'], df_tmp['75%'], color=colors[x], alpha=0.2)\n",
    "\n",
    "        axes[i][index].set(\n",
    "            xlabel='',\n",
    "            ylabel='{} \\n version lag'.format(x),\n",
    "            xlim=date_period,\n",
    "            ylim=(0,size[i]),\n",
    "        )\n",
    "        if i == 0:\n",
    "            axes[i][index].set(title=genre)\n",
    "        if index==1:\n",
    "            axes[i][index].set(ylabel='')\n",
    "\n",
    "        axes[i][index].legend(loc='upper left',  prop={'size': 16, 'weight':'bold'})\n",
    "\n",
    "#fig.savefig('../../../../jsep18technicallag/figures/version_lag_no_caret.png', bbox_inches='tight', facecolor='white')"
   ]
  },
  {
   "cell_type": "markdown",
   "metadata": {},
   "source": [
    "# Analysis on 0.x.y package versions\n",
    "Using the dataframe of package versions, we analyze the evolution of package versions with major number 0"
   ]
  },
  {
   "cell_type": "code",
   "execution_count": 29,
   "metadata": {},
   "outputs": [],
   "source": [
    "versions['zero']=versions['version'].apply(lambda x: 'True' if x.split('.')[0]==\"0\"\n",
    "                                       else 'False')"
   ]
  },
  {
   "cell_type": "code",
   "execution_count": 30,
   "metadata": {},
   "outputs": [],
   "source": [
    "versions['date']=versions['date'].apply(lambda x: x.split('-')[0]+'-'+x.split('-')[1])\n",
    "versions['date']=pd.to_datetime(versions['date'])"
   ]
  },
  {
   "cell_type": "code",
   "execution_count": 52,
   "metadata": {},
   "outputs": [
    {
     "name": "stdout",
     "output_type": "stream",
     "text": [
      "51351426\n"
     ]
    }
   ],
   "source": [
    "if True: # If the datafarme was not loaded before\n",
    "    dep_lag=pd.read_csv('../../../jsep2018/csv/packages/technical_lag_clean.csv',\n",
    "                          sep=';', dtype=object, index_col=None,  error_bad_lines=False)"
   ]
  },
  {
   "cell_type": "code",
   "execution_count": 42,
   "metadata": {},
   "outputs": [],
   "source": [
    "mask= versions.package.isin(dep_lag.dependency.drop_duplicates())\n",
    "versions=versions[mask]"
   ]
  },
  {
   "cell_type": "code",
   "execution_count": 43,
   "metadata": {},
   "outputs": [],
   "source": [
    "aaaaa=versions.groupby(['zero','date']).count()[['version']].reset_index()\n",
    "aaaaa2=versions.groupby(['date']).count()[['package']].reset_index()"
   ]
  },
  {
   "cell_type": "code",
   "execution_count": 44,
   "metadata": {},
   "outputs": [],
   "source": [
    "aaaaa=(aaaaa.\n",
    "    pivot(index='date', columns='zero', values='version').\n",
    "     fillna(0)\n",
    "    ).reset_index()"
   ]
  },
  {
   "cell_type": "code",
   "execution_count": 46,
   "metadata": {},
   "outputs": [],
   "source": [
    "aaaaa3=(aaaaa.\n",
    "       merge(aaaaa2,\n",
    "             left_on='date',\n",
    "             right_on='date',\n",
    "             how='left')\n",
    "       .fillna(0)\n",
    "       .reset_index()\n",
    "      )"
   ]
  },
  {
   "cell_type": "code",
   "execution_count": 47,
   "metadata": {},
   "outputs": [],
   "source": [
    "aaaaa3['initial']=aaaaa3['True']/aaaaa3['package']\n",
    "aaaaa3['major']=aaaaa3['False']/aaaaa3['package']\n",
    "aaaaa3.rename(columns={'initial':'0.y.z', 'major':'other'}, inplace=True)"
   ]
  },
  {
   "cell_type": "code",
   "execution_count": 49,
   "metadata": {},
   "outputs": [
    {
     "data": {
      "text/plain": [
       "(0, 1)"
      ]
     },
     "execution_count": 49,
     "metadata": {},
     "output_type": "execute_result"
    },
    {
     "data": {
      "image/png": "[encoded data removed]",
      "text/plain": [
       "<matplotlib.figure.Figure at 0x7f9b28af2048>"
      ]
     },
     "metadata": {},
     "output_type": "display_data"
    }
   ],
   "source": [
    "ax=aaaaa3.query('date!=\"1970-01-01\"')[['date','0.y.z','other']].plot(x=\"date\", color=['orange','green'])#, ax=axes[int(i/2)][j], label=type)    \n",
    "\n",
    "ax.set_ylabel('Proportion of\\n releases \\%')\n",
    "ax.set_xlabel('Time')\n",
    "ax.figure.set_size_inches(12,3.5)\n",
    "plt.tick_params(axis='both', which='major', width=1)\n",
    "ax.legend( prop={'size': 20, 'weight':'bold'}, ncol=3, bbox_to_anchor=(1, 1))\n",
    "ax.set_ylim(0,1)\n",
    "#ax.figure.savefig('/home/neglectos/Desktop/jsep18technicallag/figures/version_zero.png', bbox_inches='tight', facecolor='white')"
   ]
  },
  {
   "cell_type": "code",
   "execution_count": 50,
   "metadata": {},
   "outputs": [
    {
     "data": {
      "text/html": [
       "<div>\n",
       "<style scoped>\n",
       "    .dataframe tbody tr th:only-of-type {\n",
       "        vertical-align: middle;\n",
       "    }\n",
       "\n",
       "    .dataframe tbody tr th {\n",
       "        vertical-align: top;\n",
       "    }\n",
       "\n",
       "    .dataframe thead th {\n",
       "        text-align: right;\n",
       "    }\n",
       "</style>\n",
       "<table border=\"1\" class=\"dataframe\">\n",
       "  <thead>\n",
       "    <tr style=\"text-align: right;\">\n",
       "      <th></th>\n",
       "      <th>index</th>\n",
       "      <th>date</th>\n",
       "      <th>False</th>\n",
       "      <th>True</th>\n",
       "      <th>package</th>\n",
       "      <th>0.y.z</th>\n",
       "      <th>other</th>\n",
       "    </tr>\n",
       "  </thead>\n",
       "  <tbody>\n",
       "    <tr>\n",
       "      <th>39</th>\n",
       "      <td>39</td>\n",
       "      <td>2014-01-01</td>\n",
       "      <td>2461.0</td>\n",
       "      <td>9957.0</td>\n",
       "      <td>12416</td>\n",
       "      <td>0.801949</td>\n",
       "      <td>0.198212</td>\n",
       "    </tr>\n",
       "  </tbody>\n",
       "</table>\n",
       "</div>"
      ],
      "text/plain": [
       "    index       date   False    True  package     0.y.z     other\n",
       "39     39 2014-01-01  2461.0  9957.0    12416  0.801949  0.198212"
      ]
     },
     "execution_count": 50,
     "metadata": {},
     "output_type": "execute_result"
    }
   ],
   "source": [
    "# Check the proportion in a specific date\n",
    "aaaaa3.query('date==\"2014-01-01\"')"
   ]
  },
  {
   "cell_type": "code",
   "execution_count": 51,
   "metadata": {},
   "outputs": [
    {
     "data": {
      "text/html": [
       "<div>\n",
       "<style scoped>\n",
       "    .dataframe tbody tr th:only-of-type {\n",
       "        vertical-align: middle;\n",
       "    }\n",
       "\n",
       "    .dataframe tbody tr th {\n",
       "        vertical-align: top;\n",
       "    }\n",
       "\n",
       "    .dataframe thead th {\n",
       "        text-align: right;\n",
       "    }\n",
       "</style>\n",
       "<table border=\"1\" class=\"dataframe\">\n",
       "  <thead>\n",
       "    <tr style=\"text-align: right;\">\n",
       "      <th></th>\n",
       "      <th>index</th>\n",
       "      <th>date</th>\n",
       "      <th>False</th>\n",
       "      <th>True</th>\n",
       "      <th>package</th>\n",
       "      <th>0.y.z</th>\n",
       "      <th>other</th>\n",
       "    </tr>\n",
       "  </thead>\n",
       "  <tbody>\n",
       "    <tr>\n",
       "      <th>51</th>\n",
       "      <td>51</td>\n",
       "      <td>2015-01-01</td>\n",
       "      <td>9213.0</td>\n",
       "      <td>12683.0</td>\n",
       "      <td>21888</td>\n",
       "      <td>0.57945</td>\n",
       "      <td>0.420916</td>\n",
       "    </tr>\n",
       "  </tbody>\n",
       "</table>\n",
       "</div>"
      ],
      "text/plain": [
       "    index       date   False     True  package    0.y.z     other\n",
       "51     51 2015-01-01  9213.0  12683.0    21888  0.57945  0.420916"
      ]
     },
     "execution_count": 51,
     "metadata": {},
     "output_type": "execute_result"
    }
   ],
   "source": [
    "# Check the proportion in a specific date\n",
    "aaaaa3.query('date==\"2015-01-01\"')"
   ]
  },
  {
   "cell_type": "markdown",
   "metadata": {},
   "source": [
    "# Check if development dependencies are updated more often than runtime dependencies"
   ]
  },
  {
   "cell_type": "code",
   "execution_count": 3,
   "metadata": {},
   "outputs": [
    {
     "name": "stdout",
     "output_type": "stream",
     "text": [
      "51351426\n"
     ]
    },
    {
     "data": {
      "text/html": [
       "<div>\n",
       "<style scoped>\n",
       "    .dataframe tbody tr th:only-of-type {\n",
       "        vertical-align: middle;\n",
       "    }\n",
       "\n",
       "    .dataframe tbody tr th {\n",
       "        vertical-align: top;\n",
       "    }\n",
       "\n",
       "    .dataframe thead th {\n",
       "        text-align: right;\n",
       "    }\n",
       "</style>\n",
       "<table border=\"1\" class=\"dataframe\">\n",
       "  <thead>\n",
       "    <tr style=\"text-align: right;\">\n",
       "      <th></th>\n",
       "      <th>constraint</th>\n",
       "      <th>date</th>\n",
       "      <th>dependency</th>\n",
       "      <th>kind</th>\n",
       "      <th>package</th>\n",
       "      <th>version</th>\n",
       "    </tr>\n",
       "  </thead>\n",
       "  <tbody>\n",
       "    <tr>\n",
       "      <th>0</th>\n",
       "      <td>*</td>\n",
       "      <td>2015-11-11</td>\n",
       "      <td>0</td>\n",
       "      <td>runtime</td>\n",
       "      <td>shaybagants-test</td>\n",
       "      <td>1.0.0</td>\n",
       "    </tr>\n",
       "    <tr>\n",
       "      <th>1</th>\n",
       "      <td>*</td>\n",
       "      <td>2015-11-11</td>\n",
       "      <td>0</td>\n",
       "      <td>runtime</td>\n",
       "      <td>shaybagants-test</td>\n",
       "      <td>2.0.0</td>\n",
       "    </tr>\n",
       "  </tbody>\n",
       "</table>\n",
       "</div>"
      ],
      "text/plain": [
       "  constraint        date dependency     kind           package version\n",
       "0          *  2015-11-11          0  runtime  shaybagants-test   1.0.0\n",
       "1          *  2015-11-11          0  runtime  shaybagants-test   2.0.0"
      ]
     },
     "execution_count": 3,
     "metadata": {},
     "output_type": "execute_result"
    }
   ],
   "source": [
    "# This dataframe is already prepared\n",
    "next_lag=pd.read_csv('../../../jsep2018/csv/packages/technical_lag_clean.csv', \n",
    "                          usecols =['package','version','date','dependency','constraint','kind'],\n",
    "                          sep=';', dtype=object, index_col=None,  error_bad_lines=False)\n",
    "print(len(next_lag))\n",
    "next_lag.head(2)"
   ]
  },
  {
   "cell_type": "code",
   "execution_count": 4,
   "metadata": {},
   "outputs": [],
   "source": [
    "next_lag.sort_values(['package','dependency','date'], ascending=True, inplace=True)"
   ]
  },
  {
   "cell_type": "code",
   "execution_count": 6,
   "metadata": {},
   "outputs": [],
   "source": [
    "next_lag['dependency_next']=next_lag.dependency.shift(-1)\n",
    "next_lag['date_next']=next_lag.date.shift(-1)\n",
    "next_lag['package_next']=next_lag.package.shift(-1)\n",
    "next_lag['version_next']=next_lag.version.shift(-1)\n",
    "next_lag['constraint_next']=next_lag.constraint.shift(-1)"
   ]
  },
  {
   "cell_type": "code",
   "execution_count": 7,
   "metadata": {},
   "outputs": [],
   "source": [
    "next_lag=next_lag.query('dependency==dependency_next and package==package_next').copy()"
   ]
  },
  {
   "cell_type": "code",
   "execution_count": 8,
   "metadata": {},
   "outputs": [],
   "source": [
    "next_lag=next_lag.query('constraint != constraint_next').copy()"
   ]
  },
  {
   "cell_type": "code",
   "execution_count": 9,
   "metadata": {},
   "outputs": [],
   "source": [
    "next_lag['date_next']=pd.to_datetime(next_lag['date_next'])\n",
    "next_lag['date']=pd.to_datetime(next_lag['date'])"
   ]
  },
  {
   "cell_type": "code",
   "execution_count": 11,
   "metadata": {},
   "outputs": [],
   "source": [
    "# Compute time difference\n",
    "next_lag['time']=next_lag['date_next'] - next_lag['date']"
   ]
  },
  {
   "cell_type": "code",
   "execution_count": 13,
   "metadata": {},
   "outputs": [],
   "source": [
    "next_lag['time']=next_lag['time'].apply(lambda x : float(str(x).split()[0]))"
   ]
  },
  {
   "cell_type": "code",
   "execution_count": 35,
   "metadata": {},
   "outputs": [
    {
     "data": {
      "text/plain": [
       "MannwhitneyuResult(statistic=440331476091.5, pvalue=0.0)"
      ]
     },
     "execution_count": 35,
     "metadata": {},
     "output_type": "execute_result"
    }
   ],
   "source": [
    "scipy.stats.mannwhitneyu(next_lag.query('kind==\"Development\"').time,\n",
    "            next_lag.query('kind==\"runtime\"').time)\n",
    "                        "
   ]
  },
  {
   "cell_type": "code",
   "execution_count": 36,
   "metadata": {},
   "outputs": [
    {
     "name": "stdout",
     "output_type": "stream",
     "text": [
      "d=0.2884452830227187\n"
     ]
    },
    {
     "data": {
      "text/plain": [
       "True"
      ]
     },
     "execution_count": 36,
     "metadata": {},
     "output_type": "execute_result"
    }
   ],
   "source": [
    "cliffsDelta(next_lag.query('kind==\"Development\"').time,\n",
    "            next_lag.query('kind==\"runtime\"').time)"
   ]
  },
  {
   "cell_type": "code",
   "execution_count": null,
   "metadata": {},
   "outputs": [],
   "source": []
  }
 ],
 "metadata": {
  "kernelspec": {
   "display_name": "Python 3",
   "language": "python",
   "name": "python3"
  },
  "language_info": {
   "codemirror_mode": {
    "name": "ipython",
    "version": 3
   },
   "file_extension": ".py",
   "mimetype": "text/x-python",
   "name": "python",
   "nbconvert_exporter": "python",
   "pygments_lexer": "ipython3",
   "version": "3.6.8"
  }
 },
 "nbformat": 4,
 "nbformat_minor": 2
}
