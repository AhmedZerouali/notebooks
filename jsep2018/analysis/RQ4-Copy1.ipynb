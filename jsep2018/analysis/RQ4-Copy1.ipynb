{
 "cells": [
  {
   "cell_type": "markdown",
   "metadata": {},
   "source": [
    "### This notebook is to answer the RQ4: How does technical lag propagate over transitive runtime dependencies?"
   ]
  },
  {
   "cell_type": "code",
   "execution_count": 37,
   "metadata": {},
   "outputs": [],
   "source": [
    "%matplotlib inline\n",
    "import seaborn as sns; #sns.set(style=\"ticks\", color_codes=True)\n",
    "import pandas as pd\n",
    "import matplotlib.pyplot as plt\n",
    "from matplotlib import style\n",
    "import scipy\n",
    "style.use('fast')\n",
    "from datetime import datetime\n",
    "import re\n",
    "import os\n",
    "\n",
    "sns.set_style('ticks',{'legend.frameon':True} )\n",
    "sns.set_palette('colorblind')\n",
    "FIG_SIZE = (12, 3)\n",
    "font = {'family' : 'Times New Roman',\n",
    "        'weight' : 'bold',\n",
    "        'size'   : 22}\n",
    "plt.rc('font', **font)\n",
    "plt.rcParams['pdf.fonttype'] = 42\n",
    "plt.rcParams['ps.fonttype'] = 42\n",
    "plt.rcParams['text.usetex'] = True\n",
    "\n",
    "plt.rcParams['xtick.labelsize'] = 18\n",
    "plt.rcParams['ytick.labelsize'] = 22\n",
    "plt.rcParams['axes.labelsize']= 22\n",
    "\n",
    "PALETTE_BASE = sns.color_palette('muted', n_colors=12)\n",
    "blue=PALETTE_BASE[0]\n",
    "green=PALETTE_BASE[1] \n",
    "red=PALETTE_BASE[2] \n",
    "purple=PALETTE_BASE[3]\n",
    "version_colors=['orange',red, 'gray']"
   ]
  },
  {
   "cell_type": "markdown",
   "metadata": {},
   "source": [
    "# LOAD DATA"
   ]
  },
  {
   "cell_type": "code",
   "execution_count": 111,
   "metadata": {},
   "outputs": [],
   "source": [
    "import networkx as nx\n",
    "\n",
    "def hierarchy_pos(G, root, width=1., vert_gap = 0.4, vert_loc = 0, xcenter = 0.5, \n",
    "                  pos = None, parent = None):\n",
    "    '''If there is a cycle that is reachable from root, then this will see infinite recursion.\n",
    "       G: the graph\n",
    "       root: the root node of current branch\n",
    "       width: horizontal space allocated for this branch - avoids overlap with other branches\n",
    "       vert_gap: gap between levels of hierarchy\n",
    "       vert_loc: vertical location of root\n",
    "       xcenter: horizontal location of root\n",
    "       pos: a dict saying where all nodes go if they have been assigned\n",
    "       parent: parent of this branch.'''\n",
    "    if pos == None:\n",
    "        pos = {root:(xcenter,vert_loc)}\n",
    "    else:\n",
    "        pos[root] = (xcenter, vert_loc)\n",
    "    neighbors = list(G.neighbors(root))\n",
    "    if parent != None:   #this should be removed for directed graphs.\n",
    "        neighbors.remove(parent)  #if directed, then parent not in neighbors.\n",
    "    if len(neighbors)!=0:\n",
    "        dx = width/len(neighbors) \n",
    "        nextx = xcenter - width/2 - dx/2\n",
    "        for neighbor in neighbors:\n",
    "            nextx += dx\n",
    "            pos = hierarchy_pos(G,neighbor, width = dx, vert_gap = vert_gap, \n",
    "                                vert_loc = vert_loc-vert_gap, xcenter=nextx, pos=pos, \n",
    "                                parent = root)\n",
    "    return pos"
   ]
  },
  {
   "cell_type": "code",
   "execution_count": 114,
   "metadata": {},
   "outputs": [
    {
     "data": {
      "image/png": "[encoded data removed]",
      "text/plain": [
       "<matplotlib.figure.Figure at 0x7fbbe7604f98>"
      ]
     },
     "metadata": {},
     "output_type": "display_data"
    }
   ],
   "source": [
    "import matplotlib.pyplot as plt\n",
    "import networkx as nx\n",
    "G=nx.Graph()\n",
    "G.add_edges_from([\n",
    "('zive@0.2.2', 'busyman\\n@0.3.0'),\n",
    "('zive@0.2.2', 'zcl-id\\n@0.2.0'),\n",
    "('zcl-id\\n@0.2.0', 'enum\\n@2.5.0'),\n",
    "('enum\\n@2.5.0', 'is-buffer\\n@1.1.6'),\n",
    "\n",
    "])\n",
    "pos = hierarchy_pos(G,'zive@0.2.2')    \n",
    "nx.draw(G, pos=pos, with_labels=True, node_color=\"white\", node_size=700 ,font_size=20)\n",
    "fig = plt.gcf()\n",
    "fig.set_size_inches(6,3.5)\n",
    "\n",
    "#fig.savefig('/home/neglectos/Desktop/repositories/jsep18technicallag/figures/transitive_zive.eps', bbox_inches='tight', facecolor='white')"
   ]
  },
  {
   "cell_type": "markdown",
   "metadata": {},
   "source": [
    "# LOAD THE TRANSITIVE TECHNICAL LAG EVOLUTION\n",
    "Note that because of memory errors, this dataframe is filtred from packages with zero techlag or without any dependencies.\n",
    "\n",
    "It is also filtred from the spam packages and pre releases.\n",
    "\n",
    "The origine dataframe size is: 163,867,660 rows"
   ]
  },
  {
   "cell_type": "code",
   "execution_count": 2,
   "metadata": {},
   "outputs": [
    {
     "data": {
      "text/plain": [
       "62889161"
      ]
     },
     "execution_count": 2,
     "metadata": {},
     "output_type": "execute_result"
    }
   ],
   "source": [
    "df_all=pd.read_csv('../../../jsep2018/csv/transitive/transitive_lag_filtred.csv', sep=';', dtype=object, index_col=None,  error_bad_lines=False)\n",
    "len(df_all)"
   ]
  },
  {
   "cell_type": "code",
   "execution_count": 101,
   "metadata": {},
   "outputs": [
    {
     "name": "stdout",
     "output_type": "stream",
     "text": [
      "Which means that 38.3780185791388 of all dependencies are outdated.\n"
     ]
    }
   ],
   "source": [
    "print('Which means that {} of all dependencies are outdated.'.format(62889161*100/163867660))"
   ]
  },
  {
   "cell_type": "code",
   "execution_count": 3,
   "metadata": {},
   "outputs": [],
   "source": [
    "first_date=\"2010-12-01\"\n",
    "last_date=\"2018-04-30\"\n",
    "date_period = pd.to_datetime(first_date), pd.to_datetime(last_date)"
   ]
  },
  {
   "cell_type": "code",
   "execution_count": 4,
   "metadata": {},
   "outputs": [],
   "source": [
    "for x in ['Patch','Minor','Major','time_lag','level']:\n",
    "    df_all[x]=df_all[x].apply(float)"
   ]
  },
  {
   "cell_type": "markdown",
   "metadata": {},
   "source": [
    "Now, skip this code until the analysis of version lag"
   ]
  },
  {
   "cell_type": "code",
   "execution_count": 3,
   "metadata": {},
   "outputs": [],
   "source": [
    "#df_all=pd.concat(df_all)\n",
    "#df_all=df_all.sort_values('level')\n",
    "#df_all=df_all.groupby(['package','dependency','date']).first().reset_index()"
   ]
  },
  {
   "cell_type": "code",
   "execution_count": 4,
   "metadata": {},
   "outputs": [],
   "source": [
    "#df_all['date']=df_all['date'].apply(lambda x : x.split('-')[0]+'-04-30' if '04-31' in str(x)\n",
    "#                                    else str(x))\n",
    "#df_all['level']=df_all['level'].apply(lambda x: int(x)+1)"
   ]
  },
  {
   "cell_type": "code",
   "execution_count": 5,
   "metadata": {},
   "outputs": [],
   "source": [
    "df_all.rename(columns={'package_root':'package'}, inplace=True)"
   ]
  },
  {
   "cell_type": "code",
   "execution_count": 10,
   "metadata": {},
   "outputs": [
    {
     "data": {
      "text/plain": [
       "545676"
      ]
     },
     "execution_count": 10,
     "metadata": {},
     "output_type": "execute_result"
    }
   ],
   "source": [
    "df_all.package.drop_duplicates().size"
   ]
  },
  {
   "cell_type": "code",
   "execution_count": 7,
   "metadata": {},
   "outputs": [],
   "source": [
    "df_all['package2']=df_all['package'].apply(lambda x: '@'.join(x.split('@')[:-1]))\n",
    "df_all['dependency2']=df_all['dependency'].apply(lambda x: '@'.join(x.split('@')[:-1]))"
   ]
  },
  {
   "cell_type": "code",
   "execution_count": 8,
   "metadata": {},
   "outputs": [
    {
     "data": {
      "text/plain": [
       "14368250"
      ]
     },
     "execution_count": 8,
     "metadata": {},
     "output_type": "execute_result"
    }
   ],
   "source": [
    "df_all[['package','dependency2']].drop_duplicates().size"
   ]
  },
  {
   "cell_type": "code",
   "execution_count": 9,
   "metadata": {},
   "outputs": [
    {
     "data": {
      "text/plain": [
       "65535"
      ]
     },
     "execution_count": 9,
     "metadata": {},
     "output_type": "execute_result"
    }
   ],
   "source": [
    "df_all.package2.drop_duplicates().size"
   ]
  },
  {
   "cell_type": "code",
   "execution_count": 10,
   "metadata": {},
   "outputs": [
    {
     "data": {
      "text/plain": [
       "46949"
      ]
     },
     "execution_count": 10,
     "metadata": {},
     "output_type": "execute_result"
    }
   ],
   "source": [
    "df_all.dependency2.drop_duplicates().size"
   ]
  },
  {
   "cell_type": "code",
   "execution_count": 11,
   "metadata": {},
   "outputs": [
    {
     "data": {
      "text/plain": [
       "991088"
      ]
     },
     "execution_count": 11,
     "metadata": {},
     "output_type": "execute_result"
    }
   ],
   "source": [
    "df_all[['package','date']].drop_duplicates().size"
   ]
  },
  {
   "cell_type": "code",
   "execution_count": 12,
   "metadata": {},
   "outputs": [
    {
     "data": {
      "text/plain": [
       "158197"
      ]
     },
     "execution_count": 12,
     "metadata": {},
     "output_type": "execute_result"
    }
   ],
   "source": [
    "df_all.package.drop_duplicates().size"
   ]
  },
  {
   "cell_type": "code",
   "execution_count": 13,
   "metadata": {},
   "outputs": [
    {
     "data": {
      "text/plain": [
       "125875"
      ]
     },
     "execution_count": 13,
     "metadata": {},
     "output_type": "execute_result"
    }
   ],
   "source": [
    "df_all.dependency.drop_duplicates().size"
   ]
  },
  {
   "cell_type": "code",
   "execution_count": 14,
   "metadata": {},
   "outputs": [
    {
     "data": {
      "text/plain": [
       "24904066"
      ]
     },
     "execution_count": 14,
     "metadata": {},
     "output_type": "execute_result"
    }
   ],
   "source": [
    "df_all.dependency.size"
   ]
  },
  {
   "cell_type": "code",
   "execution_count": 15,
   "metadata": {},
   "outputs": [
    {
     "data": {
      "text/plain": [
       "24904066"
      ]
     },
     "execution_count": 15,
     "metadata": {},
     "output_type": "execute_result"
    }
   ],
   "source": [
    "df_all.package.size"
   ]
  },
  {
   "cell_type": "code",
   "execution_count": 16,
   "metadata": {},
   "outputs": [
    {
     "data": {
      "text/plain": [
       "125875"
      ]
     },
     "execution_count": 16,
     "metadata": {},
     "output_type": "execute_result"
    }
   ],
   "source": [
    "df_all.dependency.drop_duplicates().size"
   ]
  },
  {
   "cell_type": "markdown",
   "metadata": {},
   "source": [
    "# Only outdated"
   ]
  },
  {
   "cell_type": "code",
   "execution_count": 6,
   "metadata": {},
   "outputs": [
    {
     "data": {
      "text/plain": [
       "62889161"
      ]
     },
     "execution_count": 6,
     "metadata": {},
     "output_type": "execute_result"
    }
   ],
   "source": [
    "df_all=df_all.query('time_lag!=0')\n",
    "df_all['date']=df_all['date'].apply(lambda x: '2018-03-30' if x==\"2018-04-30\"\n",
    "                                   else x)\n",
    "len(df_all)"
   ]
  },
  {
   "cell_type": "code",
   "execution_count": 15,
   "metadata": {},
   "outputs": [],
   "source": [
    "# df_all.to_csv('/home/neglectos/Desktop/lab/jsep2018/csv/transitive/transitive_lag_filtred.csv', index=False, sep=';')"
   ]
  },
  {
   "cell_type": "markdown",
   "metadata": {},
   "source": [
    "# Version lag"
   ]
  },
  {
   "cell_type": "code",
   "execution_count": 40,
   "metadata": {},
   "outputs": [
    {
     "data": {
      "text/plain": [
       "Major     0.0\n",
       "Minor     1.0\n",
       "Patch    16.0\n",
       "dtype: float64"
      ]
     },
     "execution_count": 40,
     "metadata": {},
     "output_type": "execute_result"
    }
   ],
   "source": [
    "(df_all.head().drop(['time_lag','level','dependency'],axis=1)\n",
    "            .groupby(['package','date'])\n",
    "    .first().sum())"
   ]
  },
  {
   "cell_type": "code",
   "execution_count": 36,
   "metadata": {},
   "outputs": [
    {
     "data": {
      "text/html": [
       "<div>\n",
       "<style scoped>\n",
       "    .dataframe tbody tr th:only-of-type {\n",
       "        vertical-align: middle;\n",
       "    }\n",
       "\n",
       "    .dataframe tbody tr th {\n",
       "        vertical-align: top;\n",
       "    }\n",
       "\n",
       "    .dataframe thead th {\n",
       "        text-align: right;\n",
       "    }\n",
       "</style>\n",
       "<table border=\"1\" class=\"dataframe\">\n",
       "  <thead>\n",
       "    <tr style=\"text-align: right;\">\n",
       "      <th></th>\n",
       "      <th></th>\n",
       "      <th>Major</th>\n",
       "      <th>Minor</th>\n",
       "      <th>Patch</th>\n",
       "    </tr>\n",
       "    <tr>\n",
       "      <th>package</th>\n",
       "      <th>date</th>\n",
       "      <th></th>\n",
       "      <th></th>\n",
       "      <th></th>\n",
       "    </tr>\n",
       "  </thead>\n",
       "  <tbody>\n",
       "    <tr>\n",
       "      <th>FastLegS@0.0.7</th>\n",
       "      <th>2011-04-30</th>\n",
       "      <td>0.0</td>\n",
       "      <td>0.0</td>\n",
       "      <td>2.0</td>\n",
       "    </tr>\n",
       "    <tr>\n",
       "      <th>drawback@0.1.2</th>\n",
       "      <th>2011-04-30</th>\n",
       "      <td>0.0</td>\n",
       "      <td>1.0</td>\n",
       "      <td>6.0</td>\n",
       "    </tr>\n",
       "    <tr>\n",
       "      <th>jeesh@0.0.1</th>\n",
       "      <th>2011-04-30</th>\n",
       "      <td>0.0</td>\n",
       "      <td>0.0</td>\n",
       "      <td>4.0</td>\n",
       "    </tr>\n",
       "    <tr>\n",
       "      <th>kanso@0.0.3</th>\n",
       "      <th>2011-04-30</th>\n",
       "      <td>0.0</td>\n",
       "      <td>0.0</td>\n",
       "      <td>2.0</td>\n",
       "    </tr>\n",
       "    <tr>\n",
       "      <th>yui-repl@0.0.8</th>\n",
       "      <th>2011-04-30</th>\n",
       "      <td>0.0</td>\n",
       "      <td>0.0</td>\n",
       "      <td>2.0</td>\n",
       "    </tr>\n",
       "  </tbody>\n",
       "</table>\n",
       "</div>"
      ],
      "text/plain": [
       "                           Major  Minor  Patch\n",
       "package        date                           \n",
       "FastLegS@0.0.7 2011-04-30    0.0    0.0    2.0\n",
       "drawback@0.1.2 2011-04-30    0.0    1.0    6.0\n",
       "jeesh@0.0.1    2011-04-30    0.0    0.0    4.0\n",
       "kanso@0.0.3    2011-04-30    0.0    0.0    2.0\n",
       "yui-repl@0.0.8 2011-04-30    0.0    0.0    2.0"
      ]
     },
     "execution_count": 36,
     "metadata": {},
     "output_type": "execute_result"
    }
   ],
   "source": [
    "(df_all.head().drop(['time_lag','level','dependency'],axis=1)\n",
    "            .groupby(['package','date'])\n",
    "            .sum()\n",
    ")"
   ]
  },
  {
   "cell_type": "code",
   "execution_count": 7,
   "metadata": {},
   "outputs": [],
   "source": [
    "df_all_sum=(df_all.head(62889161)\n",
    "            .drop(['time_lag','level','dependency'],axis=1)\n",
    "            .groupby(['package','date'])\n",
    "            .sum()\n",
    "           )"
   ]
  },
  {
   "cell_type": "code",
   "execution_count": 8,
   "metadata": {},
   "outputs": [],
   "source": [
    "df_all_sum.reset_index(inplace=True)"
   ]
  },
  {
   "cell_type": "code",
   "execution_count": 9,
   "metadata": {},
   "outputs": [],
   "source": [
    "df_all_sum['date']=df_all_sum['date'].apply(lambda x : str(x).split('-')[0]+'-'+str(x).split('-')[1])\n",
    "df_all_sum_melted=df_all_sum.melt(id_vars=['package','date'])"
   ]
  },
  {
   "cell_type": "code",
   "execution_count": 10,
   "metadata": {},
   "outputs": [
    {
     "data": {
      "text/html": [
       "<div>\n",
       "<style scoped>\n",
       "    .dataframe tbody tr th:only-of-type {\n",
       "        vertical-align: middle;\n",
       "    }\n",
       "\n",
       "    .dataframe tbody tr th {\n",
       "        vertical-align: top;\n",
       "    }\n",
       "\n",
       "    .dataframe thead th {\n",
       "        text-align: right;\n",
       "    }\n",
       "</style>\n",
       "<table border=\"1\" class=\"dataframe\">\n",
       "  <thead>\n",
       "    <tr style=\"text-align: right;\">\n",
       "      <th></th>\n",
       "      <th>package</th>\n",
       "      <th>date</th>\n",
       "      <th>Major</th>\n",
       "      <th>Minor</th>\n",
       "      <th>Patch</th>\n",
       "    </tr>\n",
       "  </thead>\n",
       "  <tbody>\n",
       "    <tr>\n",
       "      <th>0</th>\n",
       "      <td>0-0@1.0.2</td>\n",
       "      <td>2016-12</td>\n",
       "      <td>87.0</td>\n",
       "      <td>86.0</td>\n",
       "      <td>252.0</td>\n",
       "    </tr>\n",
       "    <tr>\n",
       "      <th>1</th>\n",
       "      <td>0-0@1.0.2</td>\n",
       "      <td>2017-04</td>\n",
       "      <td>93.0</td>\n",
       "      <td>94.0</td>\n",
       "      <td>278.0</td>\n",
       "    </tr>\n",
       "    <tr>\n",
       "      <th>2</th>\n",
       "      <td>0-0@1.0.2</td>\n",
       "      <td>2017-08</td>\n",
       "      <td>114.0</td>\n",
       "      <td>109.0</td>\n",
       "      <td>318.0</td>\n",
       "    </tr>\n",
       "    <tr>\n",
       "      <th>3</th>\n",
       "      <td>0-0@1.0.2</td>\n",
       "      <td>2017-12</td>\n",
       "      <td>118.0</td>\n",
       "      <td>112.0</td>\n",
       "      <td>311.0</td>\n",
       "    </tr>\n",
       "    <tr>\n",
       "      <th>4</th>\n",
       "      <td>0-0@1.0.2</td>\n",
       "      <td>2018-03</td>\n",
       "      <td>79.0</td>\n",
       "      <td>16.0</td>\n",
       "      <td>66.0</td>\n",
       "    </tr>\n",
       "  </tbody>\n",
       "</table>\n",
       "</div>"
      ],
      "text/plain": [
       "     package     date  Major  Minor  Patch\n",
       "0  0-0@1.0.2  2016-12   87.0   86.0  252.0\n",
       "1  0-0@1.0.2  2017-04   93.0   94.0  278.0\n",
       "2  0-0@1.0.2  2017-08  114.0  109.0  318.0\n",
       "3  0-0@1.0.2  2017-12  118.0  112.0  311.0\n",
       "4  0-0@1.0.2  2018-03   79.0   16.0   66.0"
      ]
     },
     "execution_count": 10,
     "metadata": {},
     "output_type": "execute_result"
    }
   ],
   "source": [
    "df_all_sum.head()"
   ]
  },
  {
   "cell_type": "code",
   "execution_count": 53,
   "metadata": {},
   "outputs": [
    {
     "data": {
      "text/plain": [
       "53893"
      ]
     },
     "execution_count": 53,
     "metadata": {},
     "output_type": "execute_result"
    }
   ],
   "source": [
    "len(df_all_sum.query('date<\"2015\"'))"
   ]
  },
  {
   "cell_type": "code",
   "execution_count": 11,
   "metadata": {},
   "outputs": [
    {
     "name": "stdout",
     "output_type": "stream",
     "text": [
      "10.0 20.0 40.0\n"
     ]
    }
   ],
   "source": [
    "print(df_all_sum.Major.median(),\n",
    "      df_all_sum.Minor.median(),\n",
    "      df_all_sum.Patch.median()\n",
    "     )"
   ]
  },
  {
   "cell_type": "code",
   "execution_count": 12,
   "metadata": {},
   "outputs": [],
   "source": [
    "df_all_sum['date']=pd.to_datetime(df_all_sum['date'])"
   ]
  },
  {
   "cell_type": "code",
   "execution_count": 91,
   "metadata": {},
   "outputs": [
    {
     "name": "stdout",
     "output_type": "stream",
     "text": [
      "Patch\n",
      "Minor\n",
      "Major\n"
     ]
    },
    {
     "data": {
      "image/png": "[encoded data removed]",
      "text/plain": [
       "<matplotlib.figure.Figure at 0x7f929e6609e8>"
      ]
     },
     "metadata": {},
     "output_type": "display_data"
    }
   ],
   "source": [
    "\n",
    "size=[20,30,100]\n",
    "dfs={}\n",
    "for x in ['Patch','Minor','Major']:\n",
    "    dfs[x]=(df_all_sum.\n",
    "            groupby(pd.Grouper(key='date', freq='4M'))[x].\n",
    "            describe()[['mean', '25%', '50%', '75%']] \n",
    "           )\n",
    "\n",
    "colors={}\n",
    "colors['Patch']='orange'\n",
    "colors['Minor']='r'\n",
    "colors['Major']='gray'\n",
    "\n",
    "#fig, axes = plt.subplots(3, 1, sharex=True, sharey=False)\n",
    "#fig.set_size_inches(9,8)\n",
    "for i, x in enumerate(['Major','Minor','Patch']):\n",
    "    #fig, ax = plt.subplots()\n",
    "    df_tmp=dfs[x]\n",
    "    ax=df_tmp['50%'].rename('median').plot( color=colors[x], linewidth=2)\n",
    "    #ax2=df_tmp['mean'].plot(style='--', color=colors[x])\n",
    "    #ax.fill_between(df_tmp.index, df_tmp['25%'], df_tmp['75%'], color=colors[x], alpha=0.2)\n",
    "    ax.legend('')\n",
    "    \n",
    "ax.set(\n",
    "    xlabel='',\n",
    "    #ylabel='Median version lag',\n",
    "    xlim=date_period,\n",
    "    #ylim=(0,150)\n",
    ")\n",
    "\n",
    "ax2 = ax.twinx()\n",
    "\n",
    "for i, x in enumerate(['Major','Minor','Patch']):\n",
    "    #fig, ax = plt.subplots()\n",
    "    df_tmp=dfs[x]\n",
    "    #ax=df_tmp['50%'].rename('median').plot( color=colors[x], linewidth=2)\n",
    "    ax2=df_tmp['mean'].plot(style='--', ax=ax2, color=colors[x])\n",
    "    #ax.fill_between(df_tmp.index, df_tmp['25%'], df_tmp['75%'], color=colors[x], alpha=0.2)\n",
    "    ax.legend('')\n",
    "ax2.set(\n",
    "    xlabel='',\n",
    "    #ylabel='Mean version lag',\n",
    "    xlim=date_period,\n",
    "    #ylim=(0,150)\n",
    ")\n",
    "\n",
    "\n",
    "ax.figure.set_size_inches(12,4)\n",
    "\n",
    "from matplotlib.lines import Line2D\n",
    "lines = []\n",
    "labels = []\n",
    "for key in ['Patch','Minor','Major']:\n",
    "    #lines.append(Line2D([0], [0], color=colors[key], linewidth=3, linestyle='--'))\n",
    "    #labels.append(key+\" mean\")\n",
    "    print(key)\n",
    "    lines.append(Line2D([0], [0], color=colors[key], linewidth=2))\n",
    "    labels.append(key)\n",
    "lines.append(Line2D([0], [0], color='black', linewidth=2))\n",
    "labels.append('median (left axis)')\n",
    "lines.append(Line2D([0], [0], color='black', linewidth=2, linestyle='--'))\n",
    "labels.append('mean (right axis)')\n",
    "ax.legend(lines, labels, ncol=2, loc='upper left',  prop={'size': 16, 'weight':'bold'})\n",
    "#ax.set(yscale=\"log\")\n",
    "ax.figure.savefig('/home/neglectos/Desktop/repositories/jsep18technicallag/figures/transitive_vl.pdf', bbox_inches='tight', facecolor='white')"
   ]
  },
  {
   "cell_type": "markdown",
   "metadata": {},
   "source": [
    "# Time lag"
   ]
  },
  {
   "cell_type": "code",
   "execution_count": 33,
   "metadata": {},
   "outputs": [],
   "source": [
    "df_all_time=(df_all.head(62889161)\n",
    "  .drop(['Major','Minor','Patch','level','dependency'],axis=1)\n",
    " .groupby(['package','date'])\n",
    " .agg('max')\n",
    " .reset_index()\n",
    ")\n",
    "df_all_time['date']=df_all_time['date'].apply(lambda x : str(x).split('-')[0]+'-'+str(x).split('-')[1])"
   ]
  },
  {
   "cell_type": "code",
   "execution_count": 34,
   "metadata": {},
   "outputs": [],
   "source": [
    "df_all_time['date']=pd.to_datetime(df_all_time['date'])"
   ]
  },
  {
   "cell_type": "code",
   "execution_count": 42,
   "metadata": {},
   "outputs": [
    {
     "data": {
      "image/png": "[encoded data removed]",
      "text/plain": [
       "<matplotlib.figure.Figure at 0x7f92a063ea58>"
      ]
     },
     "metadata": {},
     "output_type": "display_data"
    }
   ],
   "source": [
    "\n",
    "size=[12,20,70]\n",
    "df_=(df_all_time.\n",
    "     groupby(pd.Grouper(key='date', freq='4M'))['time_lag'].\n",
    "     describe()[['mean', '25%', '50%', '75%']] \n",
    "    )\n",
    "\n",
    "df_tmp=df_\n",
    "df_tmp['50%'].rename('median').plot(color=green)\n",
    "ax=df_tmp['mean'].plot(style=':',color=green)\n",
    "ax.fill_between(df_tmp.index, df_tmp['25%'], df_tmp['75%'], alpha=0.2, color=green)\n",
    "\n",
    "ax.set(\n",
    "    xlabel='',\n",
    "    ylabel='Time lag in days',\n",
    "    xlim=date_period,\n",
    "    #ylim=(0,size),\n",
    ")\n",
    "ax.legend(loc='upper left',  prop={'size': 16, 'weight':'bold'})\n",
    "ax.figure.set_size_inches(12,3.5)\n",
    "#plt.ticklabel_format(axis='y',style='sci',scilimits=(0,3))\n",
    "ax.figure.savefig('/home/neglectos/Desktop/repositories/jsep18technicallag/figures/transitive_tl.eps', bbox_inches='tight', facecolor='white')"
   ]
  },
  {
   "cell_type": "code",
   "execution_count": 72,
   "metadata": {},
   "outputs": [
    {
     "name": "stdout",
     "output_type": "stream",
     "text": [
      "r-squared: 0.958640552901\n"
     ]
    }
   ],
   "source": [
    "slope, intercept, r_value, p_value, std_err = scipy.stats.linregress(df_tmp.reset_index().reset_index().index,\n",
    "                       df_tmp.reset_index().reset_index()['50%'])\n",
    "print (\"r-squared:\", r_value**2)"
   ]
  },
  {
   "cell_type": "markdown",
   "metadata": {},
   "source": [
    "# Evoluton on levels"
   ]
  },
  {
   "cell_type": "code",
   "execution_count": 59,
   "metadata": {},
   "outputs": [],
   "source": [
    "#version_lag_show(df_all_sum.query('level==\"0\"'), [10,20,50])"
   ]
  },
  {
   "cell_type": "code",
   "execution_count": 19,
   "metadata": {},
   "outputs": [],
   "source": [
    "# Number of dependencies per level\n",
    "df_all['level']=df_all['level'].apply(int)\n",
    "df_tmp=df_all.groupby(['level']).count()[['dependency']]*100/len(df_all)\n",
    "df_tmp['dependency2']=df_tmp.dependency.cumsum()"
   ]
  },
  {
   "cell_type": "code",
   "execution_count": 97,
   "metadata": {},
   "outputs": [
    {
     "data": {
      "image/png": "[encoded data removed]",
      "text/plain": [
       "<matplotlib.figure.Figure at 0x7fb1546bb358>"
      ]
     },
     "metadata": {},
     "output_type": "display_data"
    }
   ],
   "source": [
    "# Number of dependencies per level\n",
    "#df_tmp=df_all.groupby(['level']).count()[['dependency']]*100/len(df_all)\n",
    "#df_tmp['dependency']=df_tmp.dependency.cumsum()\n",
    "\n",
    "#df_tmp.reset_index(inplace=True)\n",
    "#df_tmp['level']=df_tmp['level']+1\n",
    "\n",
    "ax = sns.barplot( x='level', y=\"dependency\", palette='gray', data=df_tmp.query('level<16'))\n",
    "ax.figure.set_size_inches(12,3)\n",
    "ax.set_xlabel('Level')\n",
    "ax.set_ylabel('Dependencies \\%')\n",
    "for patch in ax.patches:\n",
    "    patch.set_edgecolor('black')\n",
    "#ax.set_ylim(90,100)\n",
    "ax.legend( loc='upper right', bbox_to_anchor=(1, 1), fontsize=20)#,ncol=3)#, fancybox=True, shadow=True)"
   ]
  },
  {
   "cell_type": "markdown",
   "metadata": {},
   "source": [
    "# Time lag evolution per level"
   ]
  },
  {
   "cell_type": "code",
   "execution_count": 13,
   "metadata": {},
   "outputs": [],
   "source": [
    "df_all_time_level=(df_all\n",
    "  .drop(['Major','Minor','Patch'],axis=1)\n",
    " .groupby(['package','date','level'])\n",
    " .agg('max')\n",
    " .reset_index()\n",
    ")\n",
    "df_all_time_level['date']=df_all_time_level['date'].apply(lambda x : str(x).split('-')[0]+'-'+str(x).split('-')[1])"
   ]
  },
  {
   "cell_type": "code",
   "execution_count": 21,
   "metadata": {},
   "outputs": [
    {
     "data": {
      "image/png": "[encoded data removed]",
      "text/plain": [
       "<matplotlib.figure.Figure at 0x7f75c2497cf8>"
      ]
     },
     "metadata": {},
     "output_type": "display_data"
    }
   ],
   "source": [
    "# Version lag evolution considering all dependencies\n",
    "order=['2015-04',\n",
    " '2015-08',\n",
    " '2015-12',\n",
    " '2016-04',\n",
    " '2016-08',\n",
    " '2016-12',\n",
    " '2017-04',\n",
    " '2017-08',\n",
    " '2017-12',\n",
    " '2018-04']\n",
    "ax = sns.boxplot(x=\"level\", \n",
    "                 y=\"time_lag\", \n",
    "                 data=df_all_time_level.query('level<16'),\n",
    "                 palette=\"gray\", linewidth=1)\n",
    "ax.figure.set_size_inches(12,3.5)\n",
    "ax.set_xlabel(\"Dependency tree level\")\n",
    "ax.set_ylabel('Time lag in days')\n",
    "for patch in ax.patches:\n",
    "    patch.set_edgecolor('black')\n",
    "ax.set_ylim(0,2400)\n",
    "plt.ticklabel_format(axis='y',style='sci',scilimits=(0,3))\n",
    "ax.legend(loc='upper right',  bbox_to_anchor=(0.8, 1.3), ncol=3, fontsize=20, fancybox=True, shadow=True)\n",
    "#ax.figure.savefig('/home/neglectos/Desktop/jsep18technicallag/figures/transitive_evolution_time_level.png', bbox_inches='tight', facecolor='white')"
   ]
  },
  {
   "cell_type": "markdown",
   "metadata": {},
   "source": [
    "# Time lag wrt to depth"
   ]
  },
  {
   "cell_type": "code",
   "execution_count": 43,
   "metadata": {},
   "outputs": [],
   "source": [
    "tmp_df=df_all.head(62889161)[['package','date','level']].groupby(['package','date']).max().reset_index()\n",
    "tmp_df['date']=tmp_df['date'].apply(lambda x : str(x).split('-')[0]+'-'+str(x).split('-')[1])\n",
    "tmp_df['date']=pd.to_datetime(tmp_df['date'])"
   ]
  },
  {
   "cell_type": "code",
   "execution_count": 44,
   "metadata": {},
   "outputs": [
    {
     "data": {
      "text/plain": [
       "2104051"
      ]
     },
     "execution_count": 44,
     "metadata": {},
     "output_type": "execute_result"
    }
   ],
   "source": [
    "time_lag_depth=(df_all_time[['package','date','time_lag']].set_index(['package','date']).\n",
    "                merge(tmp_df.set_index(['package','date']),\n",
    "                      left_index=True,\n",
    "                      right_index=True,\n",
    "                      how='left'\n",
    "                     )\n",
    "                .reset_index()\n",
    "                #.dropna()\n",
    "               )\n",
    "len(time_lag_depth)"
   ]
  },
  {
   "cell_type": "code",
   "execution_count": 45,
   "metadata": {},
   "outputs": [],
   "source": [
    "time_lag_depth['level'] = time_lag_depth['level'].astype(int)"
   ]
  },
  {
   "cell_type": "code",
   "execution_count": 73,
   "metadata": {},
   "outputs": [
    {
     "data": {
      "text/plain": [
       "0       2016-12-01\n",
       "1       2017-04-01\n",
       "2       2017-08-01\n",
       "3       2017-12-01\n",
       "4       2018-03-01\n",
       "7       2015-12-01\n",
       "8       2016-04-01\n",
       "9       2016-08-01\n",
       "73      2015-08-01\n",
       "102     2014-08-01\n",
       "103     2014-12-01\n",
       "104     2015-04-01\n",
       "384     2013-12-01\n",
       "385     2014-04-01\n",
       "402     2013-04-01\n",
       "403     2013-08-01\n",
       "418     2012-12-01\n",
       "3371    2011-08-01\n",
       "3383    2011-12-01\n",
       "3384    2012-04-01\n",
       "3385    2012-08-01\n",
       "81290   2011-04-01\n",
       "Name: date, dtype: datetime64[ns]"
      ]
     },
     "execution_count": 73,
     "metadata": {},
     "output_type": "execute_result"
    }
   ],
   "source": [
    "time_lag_depth.date.drop_duplicates()"
   ]
  },
  {
   "cell_type": "code",
   "execution_count": 95,
   "metadata": {
    "scrolled": true
   },
   "outputs": [
    {
     "data": {
      "image/png": "[encoded data removed]",
      "text/plain": [
       "<matplotlib.figure.Figure at 0x7f929d0ad860>"
      ]
     },
     "metadata": {},
     "output_type": "display_data"
    }
   ],
   "source": [
    "\n",
    "ax = sns.boxplot(x=\"level\", \n",
    "                 y=\"time_lag\", \n",
    "                 data=time_lag_depth.query('date == \"2018-03-01\"').query('level<18'),\n",
    "                 color=\"white\", linewidth=1, saturation=0.5)\n",
    "plt.setp(ax.lines, color=\".2\", mfc='.2', mec='.2')\n",
    "for x in ax.artists:\n",
    "    x.set_edgecolor('.2')\n",
    "ax.figure.set_size_inches(12,3.5)\n",
    "ax.set_xlabel(\"Dependency tree depth\")\n",
    "ax.set_ylabel('Time lag in days')\n",
    "for patch in ax.patches:\n",
    "    patch.set_edgecolor('black')\n",
    "ax.set_ylim(0,2400)\n",
    "#plt.ticklabel_format(axis='y',style='sci',scilimits=(0,3))\n",
    "ax.legend(loc='upper right',  bbox_to_anchor=(0.8, 1.3), ncol=3, fontsize=20, fancybox=True, shadow=True)\n",
    "ax.figure.savefig('/home/neglectos/Desktop/repositories/jsep18technicallag/figures/dependency_tree_depth.eps', bbox_inches='tight', facecolor='white')"
   ]
  },
  {
   "cell_type": "code",
   "execution_count": 83,
   "metadata": {},
   "outputs": [
    {
     "data": {
      "image/png": "[encoded data removed]",
      "text/plain": [
       "<matplotlib.figure.Figure at 0x7f92a0152240>"
      ]
     },
     "metadata": {},
     "output_type": "display_data"
    }
   ],
   "source": [
    "fig, axes = plt.subplots(8, 1, sharex=True, sharey=False)\n",
    "for i, year in enumerate(range(2011,2019)):\n",
    "    date = str(year)+'-12-01'\n",
    "    if year == 2018:\n",
    "        date = '2018-03-01'\n",
    "    \n",
    "    time_lag_depth_year = time_lag_depth.query('date ==\"'+date+'\"')\n",
    "\n",
    "    \n",
    "    ax = sns.boxplot(x=\"level\", \n",
    "                     y=\"time_lag\", \n",
    "                     ax = axes[i],\n",
    "                     data=time_lag_depth_year.query('level<18'),\n",
    "                     color=\"white\", linewidth=1, saturation=0.5)\n",
    "    plt.setp(ax.lines, color=\".2\", mfc='.2', mec='.2')\n",
    "    for x in ax.artists:\n",
    "        x.set_edgecolor('.2')\n",
    "    ax.figure.set_size_inches(12,25)\n",
    "    ax.set_title(str(year), loc='right')\n",
    "    #ax.set_xlabel(\"Dependency tree depth\")\n",
    "    ax.set_xlabel(\"\")\n",
    "    ax.set_ylabel('Time lag in days')\n",
    "    for patch in ax.patches:\n",
    "        patch.set_edgecolor('black')\n",
    "    #ax.set_ylim(0,2400)\n",
    "    #plt.ticklabel_format(axis='y',style='sci',scilimits=(0,3))\n",
    "    ax.legend(loc='upper right',  bbox_to_anchor=(0.8, 1.3), ncol=3, fontsize=20, fancybox=True, shadow=True)\n",
    "ax.set_xlabel(\"Dependency tree depth\")\n",
    "#ax.figure.savefig('/home/neglectos/Desktop/repositories/jsep18technicallag/figures/dependency_tree_depth.png', bbox_inches='tight', facecolor='white')"
   ]
  },
  {
   "cell_type": "markdown",
   "metadata": {},
   "source": [
    "# Correlating the number of deps to the depth"
   ]
  },
  {
   "cell_type": "code",
   "execution_count": 96,
   "metadata": {},
   "outputs": [],
   "source": [
    "df_all['level']=df_all['level'].apply(int)"
   ]
  },
  {
   "cell_type": "code",
   "execution_count": 102,
   "metadata": {},
   "outputs": [],
   "source": [
    "maximum = df_all.date.max()\n",
    "df_all_deps = df_all.query('date == \"'+maximum+'\"')"
   ]
  },
  {
   "cell_type": "code",
   "execution_count": 103,
   "metadata": {},
   "outputs": [
    {
     "data": {
      "text/plain": [
       "319290"
      ]
     },
     "execution_count": 103,
     "metadata": {},
     "output_type": "execute_result"
    }
   ],
   "source": [
    "df_all_deps=(df_all_deps.groupby(['package','date']).count()[['dependency']]\n",
    "             .merge(df_all_deps[['package','date','level']].groupby(['package','date']).max(),\n",
    "                    left_index=True,\n",
    "                    right_index=True,\n",
    "                    how='left'\n",
    "                   )\n",
    "             .dropna()\n",
    "             .reset_index()\n",
    "            )\n",
    "len(df_all_deps)"
   ]
  },
  {
   "cell_type": "code",
   "execution_count": 104,
   "metadata": {},
   "outputs": [],
   "source": [
    "df_all_deps=df_all_deps[['package','dependency','level']].drop_duplicates()"
   ]
  },
  {
   "cell_type": "code",
   "execution_count": null,
   "metadata": {},
   "outputs": [],
   "source": [
    "time_lag_depth.query('date == \"2018-03-01\"')"
   ]
  },
  {
   "cell_type": "code",
   "execution_count": 107,
   "metadata": {},
   "outputs": [
    {
     "data": {
      "text/plain": [
       "(0.70484606059695654, 0.0)"
      ]
     },
     "execution_count": 107,
     "metadata": {},
     "output_type": "execute_result"
    }
   ],
   "source": [
    "scipy.stats.pearsonr(df_all_deps.dependency,\n",
    "                     df_all_deps.level)"
   ]
  },
  {
   "cell_type": "markdown",
   "metadata": {},
   "source": [
    "# analyzing which constraints are used by those who have low number of deps"
   ]
  },
  {
   "cell_type": "code",
   "execution_count": 55,
   "metadata": {},
   "outputs": [
    {
     "name": "stdout",
     "output_type": "stream",
     "text": [
      "51029864\n"
     ]
    },
    {
     "data": {
      "text/html": [
       "<div>\n",
       "<style scoped>\n",
       "    .dataframe tbody tr th:only-of-type {\n",
       "        vertical-align: middle;\n",
       "    }\n",
       "\n",
       "    .dataframe tbody tr th {\n",
       "        vertical-align: top;\n",
       "    }\n",
       "\n",
       "    .dataframe thead th {\n",
       "        text-align: right;\n",
       "    }\n",
       "</style>\n",
       "<table border=\"1\" class=\"dataframe\">\n",
       "  <thead>\n",
       "    <tr style=\"text-align: right;\">\n",
       "      <th></th>\n",
       "      <th>package</th>\n",
       "      <th>version</th>\n",
       "      <th>kind</th>\n",
       "      <th>constraint_type</th>\n",
       "    </tr>\n",
       "  </thead>\n",
       "  <tbody>\n",
       "    <tr>\n",
       "      <th>0</th>\n",
       "      <td>shaybagants-test</td>\n",
       "      <td>1.0.0</td>\n",
       "      <td>runtime</td>\n",
       "      <td>latest</td>\n",
       "    </tr>\n",
       "    <tr>\n",
       "      <th>1</th>\n",
       "      <td>shaybagants-test</td>\n",
       "      <td>2.0.0</td>\n",
       "      <td>runtime</td>\n",
       "      <td>latest</td>\n",
       "    </tr>\n",
       "  </tbody>\n",
       "</table>\n",
       "</div>"
      ],
      "text/plain": [
       "            package version     kind constraint_type\n",
       "0  shaybagants-test   1.0.0  runtime          latest\n",
       "1  shaybagants-test   2.0.0  runtime          latest"
      ]
     },
     "execution_count": 55,
     "metadata": {},
     "output_type": "execute_result"
    }
   ],
   "source": [
    "technical_lag=pd.read_csv('../../../jsep2018/csv/packages/technical_lag_clean.csv', usecols=['package','version','kind','constraint_type'],\n",
    "                          sep=';', dtype=object, index_col=None,  error_bad_lines=False)\n",
    "print(len(technical_lag))\n",
    "technical_lag.head(2)"
   ]
  },
  {
   "cell_type": "code",
   "execution_count": 51,
   "metadata": {},
   "outputs": [
    {
     "data": {
      "text/plain": [
       "0              runtime\n",
       "10         Development\n",
       "1401715       Optional\n",
       "Name: kind, dtype: object"
      ]
     },
     "execution_count": 51,
     "metadata": {},
     "output_type": "execute_result"
    }
   ],
   "source": [
    "technical_lag.kind.drop_duplicates()"
   ]
  },
  {
   "cell_type": "code",
   "execution_count": 56,
   "metadata": {},
   "outputs": [],
   "source": [
    "technical_lag=technical_lag.query('kind==\"runtime\"')"
   ]
  },
  {
   "cell_type": "code",
   "execution_count": 57,
   "metadata": {},
   "outputs": [],
   "source": [
    "technical_lag.drop(['kind'], axis=1, inplace=True)"
   ]
  },
  {
   "cell_type": "code",
   "execution_count": 58,
   "metadata": {},
   "outputs": [],
   "source": [
    "exclude_prefixes = ('@ryancavanaugh/pkg', 'all-packages-', 'cool-', 'neat-', 'wowdude-', 'npmdoc-', 'npmtest-', 'npm-ghost-',)\n",
    "exclude_suffixes = ('-cdn',)\n",
    "exclude_ghost = r'^ghost-\\d+$'"
   ]
  },
  {
   "cell_type": "code",
   "execution_count": 59,
   "metadata": {},
   "outputs": [],
   "source": [
    "technical_lag=technical_lag[~technical_lag['package'].str.startswith(exclude_prefixes)]\n",
    "technical_lag=technical_lag[~technical_lag['package'].str.endswith(exclude_suffixes)]\n",
    "technical_lag=technical_lag[~technical_lag['package'].str.match(exclude_ghost)]"
   ]
  },
  {
   "cell_type": "code",
   "execution_count": 76,
   "metadata": {},
   "outputs": [],
   "source": [
    "technical_lag['package']=technical_lag['package']+\"@\"+technical_lag['version']"
   ]
  },
  {
   "cell_type": "code",
   "execution_count": 79,
   "metadata": {},
   "outputs": [],
   "source": [
    "deps=technical_lag.groupby('package').count()[['version']].reset_index()"
   ]
  },
  {
   "cell_type": "code",
   "execution_count": 80,
   "metadata": {},
   "outputs": [],
   "source": [
    "deps_const=technical_lag.groupby(['package','constraint_type']).count().reset_index()"
   ]
  },
  {
   "cell_type": "code",
   "execution_count": 81,
   "metadata": {},
   "outputs": [],
   "source": [
    "deps_const['deps_const']=deps_const['version']\n",
    "deps['deps']=deps['version']"
   ]
  },
  {
   "cell_type": "code",
   "execution_count": 82,
   "metadata": {},
   "outputs": [],
   "source": [
    "deps.drop('version', axis=1, inplace=True)\n",
    "deps_const.drop('version', axis=1, inplace=True)"
   ]
  },
  {
   "cell_type": "code",
   "execution_count": 97,
   "metadata": {},
   "outputs": [],
   "source": [
    "new_df=(deps\n",
    "        .merge(deps_const,\n",
    "               left_on='package',\n",
    "               right_on='package',\n",
    "               how='left'\n",
    "              )\n",
    "        .dropna()\n",
    "       )"
   ]
  },
  {
   "cell_type": "code",
   "execution_count": 15,
   "metadata": {},
   "outputs": [],
   "source": [
    "new_df=new_df.query('deps<=30')"
   ]
  },
  {
   "cell_type": "code",
   "execution_count": 98,
   "metadata": {},
   "outputs": [],
   "source": [
    "mask= new_df.package.isin(df_all.package)\n",
    "new_df=new_df[mask]"
   ]
  },
  {
   "cell_type": "code",
   "execution_count": 93,
   "metadata": {},
   "outputs": [
    {
     "name": "stderr",
     "output_type": "stream",
     "text": [
      "/usr/local/lib/python3.5/dist-packages/ipykernel_launcher.py:1: SettingWithCopyWarning: \n",
      "A value is trying to be set on a copy of a slice from a DataFrame.\n",
      "Try using .loc[row_indexer,col_indexer] = value instead\n",
      "\n",
      "See the caveats in the documentation: http://pandas.pydata.org/pandas-docs/stable/indexing.html#indexing-view-versus-copy\n",
      "  \"\"\"Entry point for launching an IPython kernel.\n"
     ]
    }
   ],
   "source": [
    "new_df['propotion']=new_df['deps_const']/new_df['deps']"
   ]
  },
  {
   "cell_type": "code",
   "execution_count": 99,
   "metadata": {},
   "outputs": [],
   "source": [
    "new_df.to_csv('/home/neglectos/Desktop/new_df.csv', index=False, sep=';')"
   ]
  },
  {
   "cell_type": "code",
   "execution_count": 12,
   "metadata": {},
   "outputs": [],
   "source": [
    "new_df=pd.read_csv('/home/neglectos/Desktop/new_df.csv', sep=';', dtype=object, index_col=None,  error_bad_lines=False)\n"
   ]
  },
  {
   "cell_type": "code",
   "execution_count": 13,
   "metadata": {},
   "outputs": [],
   "source": [
    "new_df['deps']=new_df['deps'].apply(int)\n",
    "new_df['deps_const']=new_df['deps_const'].apply(int)"
   ]
  },
  {
   "cell_type": "code",
   "execution_count": 14,
   "metadata": {},
   "outputs": [],
   "source": [
    "new_df['propotion']=new_df['deps_const']/new_df['deps']"
   ]
  },
  {
   "cell_type": "code",
   "execution_count": 21,
   "metadata": {},
   "outputs": [],
   "source": [
    "new_df=new_df.query('deps<=2')"
   ]
  },
  {
   "cell_type": "code",
   "execution_count": 22,
   "metadata": {},
   "outputs": [
    {
     "data": {
      "image/png": "[encoded data removed]",
      "text/plain": [
       "<matplotlib.figure.Figure at 0x7f021bd95390>"
      ]
     },
     "metadata": {},
     "output_type": "display_data"
    }
   ],
   "source": [
    "ax = sns.boxplot(x=\"constraint_type\", \n",
    "                 y=\"deps_const\", \n",
    "                 data=new_df,#.query('level==\"0\"'),\n",
    "                 #hue='constraint_type',\n",
    "                 palette=\"muted\", linewidth=1)\n",
    "ax.figure.set_size_inches(12,3.5)\n",
    "ax.set_xlabel(\"\")\n",
    "ax.set_ylabel('Version lag')\n",
    "for patch in ax.patches:\n",
    "    patch.set_edgecolor('black')\n",
    "ax.legend(loc='upper right',  bbox_to_anchor=(0.8, 1.3), ncol=3, fontsize=20, fancybox=True, shadow=True)"
   ]
  },
  {
   "cell_type": "code",
   "execution_count": 28,
   "metadata": {},
   "outputs": [
    {
     "data": {
      "text/plain": [
       "constraint_type\n",
       "caret     0.606155\n",
       "latest    0.058067\n",
       "other     0.092130\n",
       "strict    0.119991\n",
       "tilde     0.123658\n",
       "Name: package, dtype: float64"
      ]
     },
     "execution_count": 28,
     "metadata": {},
     "output_type": "execute_result"
    }
   ],
   "source": [
    "new_df.groupby('constraint_type').count()['package']/len(new_df)"
   ]
  },
  {
   "cell_type": "code",
   "execution_count": 5,
   "metadata": {},
   "outputs": [
    {
     "name": "stdout",
     "output_type": "stream",
     "text": [
      "4760450\n"
     ]
    },
    {
     "data": {
      "text/html": [
       "<div>\n",
       "<style scoped>\n",
       "    .dataframe tbody tr th:only-of-type {\n",
       "        vertical-align: middle;\n",
       "    }\n",
       "\n",
       "    .dataframe tbody tr th {\n",
       "        vertical-align: top;\n",
       "    }\n",
       "\n",
       "    .dataframe thead th {\n",
       "        text-align: right;\n",
       "    }\n",
       "</style>\n",
       "<table border=\"1\" class=\"dataframe\">\n",
       "  <thead>\n",
       "    <tr style=\"text-align: right;\">\n",
       "      <th></th>\n",
       "      <th>package</th>\n",
       "      <th>version</th>\n",
       "      <th>date</th>\n",
       "      <th>semver</th>\n",
       "      <th>release_type</th>\n",
       "      <th>Major</th>\n",
       "      <th>Minor</th>\n",
       "      <th>Patch</th>\n",
       "    </tr>\n",
       "  </thead>\n",
       "  <tbody>\n",
       "    <tr>\n",
       "      <th>0</th>\n",
       "      <td>0</td>\n",
       "      <td>0.0.0</td>\n",
       "      <td>2014-04-01</td>\n",
       "      <td>0.0.0</td>\n",
       "      <td>initial</td>\n",
       "      <td>0</td>\n",
       "      <td>0</td>\n",
       "      <td>0</td>\n",
       "    </tr>\n",
       "    <tr>\n",
       "      <th>1</th>\n",
       "      <td>0-</td>\n",
       "      <td>0.0.1</td>\n",
       "      <td>2017-03-06</td>\n",
       "      <td>0.0.1</td>\n",
       "      <td>initial</td>\n",
       "      <td>0</td>\n",
       "      <td>0</td>\n",
       "      <td>1</td>\n",
       "    </tr>\n",
       "  </tbody>\n",
       "</table>\n",
       "</div>"
      ],
      "text/plain": [
       "  package version       date semver release_type Major Minor Patch\n",
       "0       0   0.0.0 2014-04-01  0.0.0      initial     0     0     0\n",
       "1      0-   0.0.1 2017-03-06  0.0.1      initial     0     0     1"
      ]
     },
     "execution_count": 5,
     "metadata": {},
     "output_type": "execute_result"
    }
   ],
   "source": [
    "versions=pd.read_csv('../../../jsep2018/csv/versions_npm_march.csv', sep=';', dtype=object, index_col=None,  error_bad_lines=False)\n",
    "#versions=versions[['package','version','release_type']]\n",
    "versions.sort_values(['package','date','version'], ascending=True, inplace=True)\n",
    "versions['date']=pd.to_datetime(versions['date'])\n",
    "print(len(versions))\n",
    "versions.head(2)"
   ]
  },
  {
   "cell_type": "code",
   "execution_count": 22,
   "metadata": {},
   "outputs": [
    {
     "data": {
      "text/plain": [
       "698648"
      ]
     },
     "execution_count": 22,
     "metadata": {},
     "output_type": "execute_result"
    }
   ],
   "source": [
    "versions.package.drop_duplicates().size"
   ]
  },
  {
   "cell_type": "code",
   "execution_count": 6,
   "metadata": {},
   "outputs": [],
   "source": [
    "tmp=df_all[['level','package','dependency','date']].drop_duplicates()"
   ]
  },
  {
   "cell_type": "code",
   "execution_count": 8,
   "metadata": {},
   "outputs": [],
   "source": [
    "tmp=tmp.groupby('level').count()*100/len(tmp)"
   ]
  },
  {
   "cell_type": "code",
   "execution_count": 10,
   "metadata": {},
   "outputs": [],
   "source": [
    "tmp['package']=tmp['package'].cumsum()"
   ]
  },
  {
   "cell_type": "code",
   "execution_count": 195,
   "metadata": {},
   "outputs": [],
   "source": [
    "versions=pd.read_csv('../../../jsep2018/csv/versions_npm_march.csv',\n",
    "                          sep=';', dtype=object, index_col=None,  error_bad_lines=False)"
   ]
  },
  {
   "cell_type": "code",
   "execution_count": 197,
   "metadata": {},
   "outputs": [],
   "source": [
    "aa = versions.groupby('package').count().reset_index().query('version==1')"
   ]
  },
  {
   "cell_type": "code",
   "execution_count": 199,
   "metadata": {},
   "outputs": [],
   "source": [
    "mask  = versions.package.isin(aa.package)\n",
    "versions = versions [mask]"
   ]
  },
  {
   "cell_type": "code",
   "execution_count": 201,
   "metadata": {},
   "outputs": [],
   "source": [
    "versions['pre'] = versions['version'].apply(lambda x: \"-\" in str(x))"
   ]
  },
  {
   "cell_type": "code",
   "execution_count": 205,
   "metadata": {},
   "outputs": [],
   "source": [
    "dependencies=pd.read_csv('../../../jsep2018/csv/packages/dependencies_npm_march.csv',\n",
    "                          sep=';', dtype=object, index_col=None,  error_bad_lines=False)"
   ]
  },
  {
   "cell_type": "code",
   "execution_count": 206,
   "metadata": {},
   "outputs": [],
   "source": [
    "dependencies['pre'] =  dependencies['constraint'].apply(lambda x: \"-\" in x)"
   ]
  },
  {
   "cell_type": "code",
   "execution_count": 207,
   "metadata": {},
   "outputs": [
    {
     "data": {
      "text/html": [
       "<div>\n",
       "<style scoped>\n",
       "    .dataframe tbody tr th:only-of-type {\n",
       "        vertical-align: middle;\n",
       "    }\n",
       "\n",
       "    .dataframe tbody tr th {\n",
       "        vertical-align: top;\n",
       "    }\n",
       "\n",
       "    .dataframe thead th {\n",
       "        text-align: right;\n",
       "    }\n",
       "</style>\n",
       "<table border=\"1\" class=\"dataframe\">\n",
       "  <thead>\n",
       "    <tr style=\"text-align: right;\">\n",
       "      <th></th>\n",
       "      <th>package</th>\n",
       "      <th>version</th>\n",
       "      <th>dependency</th>\n",
       "      <th>kind</th>\n",
       "      <th>constraint</th>\n",
       "      <th>date</th>\n",
       "      <th>release_type</th>\n",
       "    </tr>\n",
       "    <tr>\n",
       "      <th>pre</th>\n",
       "      <th></th>\n",
       "      <th></th>\n",
       "      <th></th>\n",
       "      <th></th>\n",
       "      <th></th>\n",
       "      <th></th>\n",
       "      <th></th>\n",
       "    </tr>\n",
       "  </thead>\n",
       "  <tbody>\n",
       "    <tr>\n",
       "      <th>False</th>\n",
       "      <td>51649326</td>\n",
       "      <td>51649595</td>\n",
       "      <td>51631896</td>\n",
       "      <td>51649595</td>\n",
       "      <td>51649595</td>\n",
       "      <td>51649595</td>\n",
       "      <td>51649595</td>\n",
       "    </tr>\n",
       "    <tr>\n",
       "      <th>True</th>\n",
       "      <td>1190601</td>\n",
       "      <td>1190601</td>\n",
       "      <td>1190529</td>\n",
       "      <td>1190601</td>\n",
       "      <td>1190601</td>\n",
       "      <td>1190601</td>\n",
       "      <td>1190601</td>\n",
       "    </tr>\n",
       "  </tbody>\n",
       "</table>\n",
       "</div>"
      ],
      "text/plain": [
       "        package   version  dependency      kind  constraint      date  \\\n",
       "pre                                                                     \n",
       "False  51649326  51649595    51631896  51649595    51649595  51649595   \n",
       "True    1190601   1190601     1190529   1190601     1190601   1190601   \n",
       "\n",
       "       release_type  \n",
       "pre                  \n",
       "False      51649595  \n",
       "True        1190601  "
      ]
     },
     "execution_count": 207,
     "metadata": {},
     "output_type": "execute_result"
    }
   ],
   "source": [
    "dependencies.groupby('pre').count()"
   ]
  },
  {
   "cell_type": "code",
   "execution_count": 208,
   "metadata": {},
   "outputs": [
    {
     "data": {
      "text/plain": [
       "52840196"
      ]
     },
     "execution_count": 208,
     "metadata": {},
     "output_type": "execute_result"
    }
   ],
   "source": [
    "len(dependencies)"
   ]
  },
  {
   "cell_type": "code",
   "execution_count": null,
   "metadata": {},
   "outputs": [],
   "source": []
  }
 ],
 "metadata": {
  "kernelspec": {
   "display_name": "Python 3",
   "language": "python",
   "name": "python3"
  },
  "language_info": {
   "codemirror_mode": {
    "name": "ipython",
    "version": 3
   },
   "file_extension": ".py",
   "mimetype": "text/x-python",
   "name": "python",
   "nbconvert_exporter": "python",
   "pygments_lexer": "ipython3",
   "version": "3.5.1+"
  }
 },
 "nbformat": 4,
 "nbformat_minor": 2
}
