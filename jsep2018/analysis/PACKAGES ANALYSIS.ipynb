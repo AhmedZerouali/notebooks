{
 "cells": [
  {
   "cell_type": "code",
   "execution_count": 1,
   "metadata": {},
   "outputs": [],
   "source": [
    "%matplotlib inline\n",
    "import seaborn as sns; #sns.set(style=\"ticks\", color_codes=True)\n",
    "import pandas as pd\n",
    "import matplotlib.pyplot as plt\n",
    "from matplotlib import style\n",
    "import scipy\n",
    "style.use('fast')\n",
    "from datetime import datetime\n",
    "import re\n",
    "import os\n",
    "\n",
    "sns.set_style('ticks',{'legend.frameon':True} )\n",
    "sns.set_palette('colorblind')\n",
    "FIG_SIZE = (12, 3)\n",
    "font = {'family' : 'Times New Roman',\n",
    "        'weight' : 'bold',\n",
    "        'size'   : 22}\n",
    "plt.rc('font', **font)\n",
    "plt.rcParams['pdf.fonttype'] = 42\n",
    "plt.rcParams['ps.fonttype'] = 42\n",
    "plt.rcParams['text.usetex'] = True\n",
    "\n",
    "plt.rcParams['xtick.labelsize'] = 22\n",
    "plt.rcParams['ytick.labelsize'] = 22\n",
    "plt.rcParams['axes.labelsize']= 22\n",
    "\n",
    "PALETTE_BASE = sns.color_palette('muted', n_colors=12)\n",
    "blue=PALETTE_BASE[0]\n",
    "green=PALETTE_BASE[1] \n",
    "red=PALETTE_BASE[2] \n",
    "purple=PALETTE_BASE[3]\n",
    "version_colors=['orange',red, 'gray']"
   ]
  },
  {
   "cell_type": "code",
   "execution_count": 2,
   "metadata": {},
   "outputs": [],
   "source": [
    "# Cliff's Delta\n",
    "from __future__ import division\n",
    " \n",
    "def cliffsDelta(lst1,lst2,\n",
    "                dull = [0.147, # small\n",
    "                        0.33,  # medium\n",
    "                        0.474 # large\n",
    "                        ][0] ): \n",
    "  \"Returns true if there are more than 'dull' differences\"\n",
    "  m, n = len(lst1), len(lst2)\n",
    "  lst2 = sorted(lst2)\n",
    "  j = more = less = 0\n",
    "  for repeats,x in runs(sorted(lst1)):\n",
    "    while j <= (n - 1) and lst2[j] <  x: \n",
    "      j += 1\n",
    "    more += j*repeats\n",
    "    while j <= (n - 1) and lst2[j] == x: \n",
    "      j += 1\n",
    "    less += (n - j)*repeats\n",
    "  d= (more - less) / (m*n)\n",
    "  f=abs(d)  > dull\n",
    "  print(\"d=\"+str(d))#+' '+str(f))\n",
    "  return abs(d)  > dull\n",
    "   \n",
    "def runs(lst):\n",
    "  \"Iterator, chunks repeated values\"\n",
    "  for j,two in enumerate(lst):\n",
    "    if j == 0:\n",
    "      one,i = two,0\n",
    "    if one!=two:\n",
    "      yield j - i,one\n",
    "      i = j\n",
    "    one=two\n",
    "  yield j - i + 1,two\n",
    "  \n",
    "def _cliffsDelta():\n",
    "  \"demo function\"\n",
    "  lst1=[1,2,3,4,5,6,7]\n",
    "  for r in [1.01,1.1,1.21, 1.5, 2]:\n",
    "    lst2=map(lambda x: x*r,lst1)\n",
    "    #return lst2\n",
    "    #print(lst2,cliffsDelta(lst1,lst2)) # should return False"
   ]
  },
  {
   "cell_type": "markdown",
   "metadata": {},
   "source": [
    "# LOAD DATA"
   ]
  },
  {
   "cell_type": "code",
   "execution_count": 56,
   "metadata": {},
   "outputs": [
    {
     "name": "stdout",
     "output_type": "stream",
     "text": [
      "51029864\n"
     ]
    },
    {
     "data": {
      "text/html": [
       "<div>\n",
       "<style scoped>\n",
       "    .dataframe tbody tr th:only-of-type {\n",
       "        vertical-align: middle;\n",
       "    }\n",
       "\n",
       "    .dataframe tbody tr th {\n",
       "        vertical-align: top;\n",
       "    }\n",
       "\n",
       "    .dataframe thead th {\n",
       "        text-align: right;\n",
       "    }\n",
       "</style>\n",
       "<table border=\"1\" class=\"dataframe\">\n",
       "  <thead>\n",
       "    <tr style=\"text-align: right;\">\n",
       "      <th></th>\n",
       "      <th>package</th>\n",
       "      <th>version</th>\n",
       "      <th>kind</th>\n",
       "      <th>version_lag</th>\n",
       "      <th>constraint_type</th>\n",
       "    </tr>\n",
       "  </thead>\n",
       "  <tbody>\n",
       "    <tr>\n",
       "      <th>0</th>\n",
       "      <td>shaybagants-test</td>\n",
       "      <td>1.0.0</td>\n",
       "      <td>runtime</td>\n",
       "      <td>0,0,0</td>\n",
       "      <td>latest</td>\n",
       "    </tr>\n",
       "    <tr>\n",
       "      <th>1</th>\n",
       "      <td>shaybagants-test</td>\n",
       "      <td>2.0.0</td>\n",
       "      <td>runtime</td>\n",
       "      <td>0,0,0</td>\n",
       "      <td>latest</td>\n",
       "    </tr>\n",
       "  </tbody>\n",
       "</table>\n",
       "</div>"
      ],
      "text/plain": [
       "            package version     kind version_lag constraint_type\n",
       "0  shaybagants-test   1.0.0  runtime       0,0,0          latest\n",
       "1  shaybagants-test   2.0.0  runtime       0,0,0          latest"
      ]
     },
     "execution_count": 56,
     "metadata": {},
     "output_type": "execute_result"
    }
   ],
   "source": [
    "technical_lag=pd.read_csv('../../../jsep2018/csv/packages/technical_lag_clean.csv', usecols=['package','kind','version','constraint_type','version_lag'],\n",
    "                          sep=';', dtype=object, index_col=None,  error_bad_lines=False)\n",
    "print(len(technical_lag))\n",
    "technical_lag.head(2)"
   ]
  },
  {
   "cell_type": "code",
   "execution_count": 82,
   "metadata": {},
   "outputs": [],
   "source": [
    "technical_lag.drop([#'release_type','used_version',\n",
    "                    'used_version'],\n",
    "                   #'date_used_version','date_last_available'],\n",
    "                   axis=1, inplace=True)"
   ]
  },
  {
   "cell_type": "code",
   "execution_count": 40,
   "metadata": {},
   "outputs": [],
   "source": [
    "technical_lag=technical_lag.query('kind!=\"Optional\"')\n",
    "technical_lag['kind']=technical_lag['kind'].apply(lambda x: x.capitalize())\n",
    "#technical_lag['date']=pd.to_datetime(technical_lag['date'])"
   ]
  },
  {
   "cell_type": "code",
   "execution_count": 86,
   "metadata": {},
   "outputs": [],
   "source": [
    "technical_lag.drop([#'release_type','used_version',\n",
    "                    'date_last_available','release_type','dependency','date_used_version','constraint'],\n",
    "                   #'date_used_version','date_last_available'],\n",
    "                   axis=1, inplace=True)"
   ]
  },
  {
   "cell_type": "code",
   "execution_count": 59,
   "metadata": {},
   "outputs": [],
   "source": [
    "exclude_prefixes = ('@ryancavanaugh/pkg', 'all-packages-', 'cool-', 'neat-', 'wowdude-', 'npmdoc-', 'npmtest-', 'npm-ghost-',)\n",
    "exclude_suffixes = ('-cdn',)\n",
    "exclude_ghost = r'^ghost-\\d+$'"
   ]
  },
  {
   "cell_type": "code",
   "execution_count": 60,
   "metadata": {},
   "outputs": [],
   "source": [
    "technical_lag=technical_lag[~technical_lag['package'].str.startswith(exclude_prefixes)]\n",
    "technical_lag=technical_lag[~technical_lag['package'].str.endswith(exclude_suffixes)]\n",
    "technical_lag=technical_lag[~technical_lag['package'].str.match(exclude_ghost)]"
   ]
  },
  {
   "cell_type": "markdown",
   "metadata": {},
   "source": [
    "#### METHOD "
   ]
  },
  {
   "cell_type": "code",
   "execution_count": 64,
   "metadata": {},
   "outputs": [],
   "source": [
    "#Here to calculate all dependencies before calculating the technical lag.\n",
    "deps=pd.read_csv('../../../jsep2018/csv/packages/dependencies_npm_march.csv', sep=';', dtype=object, index_col=None,  error_bad_lines=False)"
   ]
  },
  {
   "cell_type": "code",
   "execution_count": null,
   "metadata": {},
   "outputs": [],
   "source": [
    "print(len(deps),deps.package.drop_duplicates().size, len(deps[['package','version']].drop_duplicates()))"
   ]
  },
  {
   "cell_type": "code",
   "execution_count": 11,
   "metadata": {},
   "outputs": [],
   "source": [
    "deps['package']=deps['package'].apply(str)"
   ]
  },
  {
   "cell_type": "code",
   "execution_count": 12,
   "metadata": {},
   "outputs": [],
   "source": [
    "deps=deps[~deps['package'].str.startswith(exclude_prefixes)]"
   ]
  },
  {
   "cell_type": "code",
   "execution_count": 13,
   "metadata": {},
   "outputs": [],
   "source": [
    "deps=deps[~deps['package'].str.endswith(exclude_suffixes)]\n",
    "deps=deps[~deps['package'].str.match(exclude_ghost)]"
   ]
  },
  {
   "cell_type": "code",
   "execution_count": 14,
   "metadata": {},
   "outputs": [
    {
     "name": "stdout",
     "output_type": "stream",
     "text": [
      "52264374 531350\n"
     ]
    }
   ],
   "source": [
    "print(len(deps),deps.package.drop_duplicates().size)"
   ]
  },
  {
   "cell_type": "code",
   "execution_count": 15,
   "metadata": {},
   "outputs": [
    {
     "data": {
      "text/plain": [
       "3972418"
      ]
     },
     "execution_count": 15,
     "metadata": {},
     "output_type": "execute_result"
    }
   ],
   "source": [
    "len(deps[['package','version']].drop_duplicates())"
   ]
  },
  {
   "cell_type": "code",
   "execution_count": 25,
   "metadata": {},
   "outputs": [
    {
     "data": {
      "text/plain": [
       "0.976379512361518"
      ]
     },
     "execution_count": 25,
     "metadata": {},
     "output_type": "execute_result"
    }
   ],
   "source": [
    "51029864/52264374"
   ]
  },
  {
   "cell_type": "code",
   "execution_count": 16,
   "metadata": {},
   "outputs": [
    {
     "data": {
      "text/html": [
       "<div>\n",
       "<style scoped>\n",
       "    .dataframe tbody tr th:only-of-type {\n",
       "        vertical-align: middle;\n",
       "    }\n",
       "\n",
       "    .dataframe tbody tr th {\n",
       "        vertical-align: top;\n",
       "    }\n",
       "\n",
       "    .dataframe thead th {\n",
       "        text-align: right;\n",
       "    }\n",
       "</style>\n",
       "<table border=\"1\" class=\"dataframe\">\n",
       "  <thead>\n",
       "    <tr style=\"text-align: right;\">\n",
       "      <th></th>\n",
       "      <th>package</th>\n",
       "      <th>version</th>\n",
       "      <th>dependency</th>\n",
       "      <th>constraint</th>\n",
       "      <th>date</th>\n",
       "      <th>release_type</th>\n",
       "    </tr>\n",
       "    <tr>\n",
       "      <th>kind</th>\n",
       "      <th></th>\n",
       "      <th></th>\n",
       "      <th></th>\n",
       "      <th></th>\n",
       "      <th></th>\n",
       "      <th></th>\n",
       "    </tr>\n",
       "  </thead>\n",
       "  <tbody>\n",
       "    <tr>\n",
       "      <th>Development</th>\n",
       "      <td>30255318</td>\n",
       "      <td>30255318</td>\n",
       "      <td>30254551</td>\n",
       "      <td>30255318</td>\n",
       "      <td>30255318</td>\n",
       "      <td>30255318</td>\n",
       "    </tr>\n",
       "    <tr>\n",
       "      <th>Optional</th>\n",
       "      <td>355</td>\n",
       "      <td>355</td>\n",
       "      <td>355</td>\n",
       "      <td>355</td>\n",
       "      <td>355</td>\n",
       "      <td>355</td>\n",
       "    </tr>\n",
       "    <tr>\n",
       "      <th>runtime</th>\n",
       "      <td>22008701</td>\n",
       "      <td>22008701</td>\n",
       "      <td>21991798</td>\n",
       "      <td>22008701</td>\n",
       "      <td>22008701</td>\n",
       "      <td>22008701</td>\n",
       "    </tr>\n",
       "  </tbody>\n",
       "</table>\n",
       "</div>"
      ],
      "text/plain": [
       "              package   version  dependency  constraint      date  \\\n",
       "kind                                                                \n",
       "Development  30255318  30255318    30254551    30255318  30255318   \n",
       "Optional          355       355         355         355       355   \n",
       "runtime      22008701  22008701    21991798    22008701  22008701   \n",
       "\n",
       "             release_type  \n",
       "kind                       \n",
       "Development      30255318  \n",
       "Optional              355  \n",
       "runtime          22008701  "
      ]
     },
     "execution_count": 16,
     "metadata": {},
     "output_type": "execute_result"
    }
   ],
   "source": [
    "deps.groupby('kind').count()"
   ]
  },
  {
   "cell_type": "code",
   "execution_count": 18,
   "metadata": {},
   "outputs": [
    {
     "data": {
      "text/html": [
       "<div>\n",
       "<style scoped>\n",
       "    .dataframe tbody tr th:only-of-type {\n",
       "        vertical-align: middle;\n",
       "    }\n",
       "\n",
       "    .dataframe tbody tr th {\n",
       "        vertical-align: top;\n",
       "    }\n",
       "\n",
       "    .dataframe thead th {\n",
       "        text-align: right;\n",
       "    }\n",
       "</style>\n",
       "<table border=\"1\" class=\"dataframe\">\n",
       "  <thead>\n",
       "    <tr style=\"text-align: right;\">\n",
       "      <th></th>\n",
       "      <th>package</th>\n",
       "      <th>version</th>\n",
       "      <th>dependency</th>\n",
       "      <th>constraint</th>\n",
       "      <th>date</th>\n",
       "      <th>release_type</th>\n",
       "    </tr>\n",
       "    <tr>\n",
       "      <th>kind</th>\n",
       "      <th></th>\n",
       "      <th></th>\n",
       "      <th></th>\n",
       "      <th></th>\n",
       "      <th></th>\n",
       "      <th></th>\n",
       "    </tr>\n",
       "  </thead>\n",
       "  <tbody>\n",
       "    <tr>\n",
       "      <th>Development</th>\n",
       "      <td>0.578890</td>\n",
       "      <td>0.578890</td>\n",
       "      <td>0.578875</td>\n",
       "      <td>0.578890</td>\n",
       "      <td>0.578890</td>\n",
       "      <td>0.578890</td>\n",
       "    </tr>\n",
       "    <tr>\n",
       "      <th>Optional</th>\n",
       "      <td>0.000007</td>\n",
       "      <td>0.000007</td>\n",
       "      <td>0.000007</td>\n",
       "      <td>0.000007</td>\n",
       "      <td>0.000007</td>\n",
       "      <td>0.000007</td>\n",
       "    </tr>\n",
       "    <tr>\n",
       "      <th>runtime</th>\n",
       "      <td>0.421103</td>\n",
       "      <td>0.421103</td>\n",
       "      <td>0.420780</td>\n",
       "      <td>0.421103</td>\n",
       "      <td>0.421103</td>\n",
       "      <td>0.421103</td>\n",
       "    </tr>\n",
       "  </tbody>\n",
       "</table>\n",
       "</div>"
      ],
      "text/plain": [
       "              package   version  dependency  constraint      date  \\\n",
       "kind                                                                \n",
       "Development  0.578890  0.578890    0.578875    0.578890  0.578890   \n",
       "Optional     0.000007  0.000007    0.000007    0.000007  0.000007   \n",
       "runtime      0.421103  0.421103    0.420780    0.421103  0.421103   \n",
       "\n",
       "             release_type  \n",
       "kind                       \n",
       "Development      0.578890  \n",
       "Optional         0.000007  \n",
       "runtime          0.421103  "
      ]
     },
     "execution_count": 18,
     "metadata": {},
     "output_type": "execute_result"
    }
   ],
   "source": [
    "deps.groupby('kind').count()/len(deps)"
   ]
  },
  {
   "cell_type": "code",
   "execution_count": 24,
   "metadata": {},
   "outputs": [
    {
     "data": {
      "text/plain": [
       "15985"
      ]
     },
     "execution_count": 24,
     "metadata": {},
     "output_type": "execute_result"
    }
   ],
   "source": [
    "547335-531350"
   ]
  },
  {
   "cell_type": "code",
   "execution_count": 14,
   "metadata": {},
   "outputs": [],
   "source": [
    "first_date=\"2010-12-20\"\n",
    "last_date=\"2018-03-12\"\n",
    "date_period = pd.to_datetime(first_date), pd.to_datetime(last_date)"
   ]
  },
  {
   "cell_type": "code",
   "execution_count": 8,
   "metadata": {},
   "outputs": [
    {
     "data": {
      "text/plain": [
       "525994"
      ]
     },
     "execution_count": 8,
     "metadata": {},
     "output_type": "execute_result"
    }
   ],
   "source": [
    "technical_lag.package.drop_duplicates().size"
   ]
  },
  {
   "cell_type": "code",
   "execution_count": 9,
   "metadata": {},
   "outputs": [
    {
     "data": {
      "text/plain": [
       "11924"
      ]
     },
     "execution_count": 9,
     "metadata": {},
     "output_type": "execute_result"
    }
   ],
   "source": [
    "537918-525994"
   ]
  },
  {
   "cell_type": "markdown",
   "metadata": {},
   "source": [
    "# RQ0"
   ]
  },
  {
   "cell_type": "code",
   "execution_count": 11,
   "metadata": {},
   "outputs": [],
   "source": [
    "df_tmp=technical_lag.groupby(['constraint_type','kind']).count()[['constraint']].reset_index()\n",
    "l=float(len(technical_lag))\n",
    "df_tmp['constraint']=df_tmp['constraint'].apply(lambda x: x*100.0/l)"
   ]
  },
  {
   "cell_type": "code",
   "execution_count": 7,
   "metadata": {},
   "outputs": [
    {
     "data": {
      "text/html": [
       "<div>\n",
       "<style scoped>\n",
       "    .dataframe tbody tr th:only-of-type {\n",
       "        vertical-align: middle;\n",
       "    }\n",
       "\n",
       "    .dataframe tbody tr th {\n",
       "        vertical-align: top;\n",
       "    }\n",
       "\n",
       "    .dataframe thead th {\n",
       "        text-align: right;\n",
       "    }\n",
       "</style>\n",
       "<table border=\"1\" class=\"dataframe\">\n",
       "  <thead>\n",
       "    <tr style=\"text-align: right;\">\n",
       "      <th></th>\n",
       "      <th>constraint_type</th>\n",
       "      <th>kind</th>\n",
       "      <th>constraint</th>\n",
       "    </tr>\n",
       "  </thead>\n",
       "  <tbody>\n",
       "    <tr>\n",
       "      <th>0</th>\n",
       "      <td>caret</td>\n",
       "      <td>Development</td>\n",
       "      <td>21624811</td>\n",
       "    </tr>\n",
       "    <tr>\n",
       "      <th>1</th>\n",
       "      <td>caret</td>\n",
       "      <td>Runtime</td>\n",
       "      <td>14382744</td>\n",
       "    </tr>\n",
       "    <tr>\n",
       "      <th>2</th>\n",
       "      <td>latest</td>\n",
       "      <td>Development</td>\n",
       "      <td>558502</td>\n",
       "    </tr>\n",
       "    <tr>\n",
       "      <th>3</th>\n",
       "      <td>latest</td>\n",
       "      <td>Runtime</td>\n",
       "      <td>945657</td>\n",
       "    </tr>\n",
       "    <tr>\n",
       "      <th>4</th>\n",
       "      <td>other</td>\n",
       "      <td>Development</td>\n",
       "      <td>676376</td>\n",
       "    </tr>\n",
       "    <tr>\n",
       "      <th>5</th>\n",
       "      <td>other</td>\n",
       "      <td>Runtime</td>\n",
       "      <td>1058580</td>\n",
       "    </tr>\n",
       "    <tr>\n",
       "      <th>6</th>\n",
       "      <td>strict</td>\n",
       "      <td>Development</td>\n",
       "      <td>4386522</td>\n",
       "    </tr>\n",
       "    <tr>\n",
       "      <th>7</th>\n",
       "      <td>strict</td>\n",
       "      <td>Runtime</td>\n",
       "      <td>3744550</td>\n",
       "    </tr>\n",
       "    <tr>\n",
       "      <th>8</th>\n",
       "      <td>tilde</td>\n",
       "      <td>Development</td>\n",
       "      <td>1950469</td>\n",
       "    </tr>\n",
       "    <tr>\n",
       "      <th>9</th>\n",
       "      <td>tilde</td>\n",
       "      <td>Runtime</td>\n",
       "      <td>1701305</td>\n",
       "    </tr>\n",
       "  </tbody>\n",
       "</table>\n",
       "</div>"
      ],
      "text/plain": [
       "  constraint_type         kind  constraint\n",
       "0           caret  Development    21624811\n",
       "1           caret      Runtime    14382744\n",
       "2          latest  Development      558502\n",
       "3          latest      Runtime      945657\n",
       "4           other  Development      676376\n",
       "5           other      Runtime     1058580\n",
       "6          strict  Development     4386522\n",
       "7          strict      Runtime     3744550\n",
       "8           tilde  Development     1950469\n",
       "9           tilde      Runtime     1701305"
      ]
     },
     "execution_count": 7,
     "metadata": {},
     "output_type": "execute_result"
    }
   ],
   "source": [
    "df_tmp"
   ]
  },
  {
   "cell_type": "code",
   "execution_count": 13,
   "metadata": {},
   "outputs": [
    {
     "data": {
      "text/html": [
       "<div>\n",
       "<style scoped>\n",
       "    .dataframe tbody tr th:only-of-type {\n",
       "        vertical-align: middle;\n",
       "    }\n",
       "\n",
       "    .dataframe tbody tr th {\n",
       "        vertical-align: top;\n",
       "    }\n",
       "\n",
       "    .dataframe thead th {\n",
       "        text-align: right;\n",
       "    }\n",
       "</style>\n",
       "<table border=\"1\" class=\"dataframe\">\n",
       "  <thead>\n",
       "    <tr style=\"text-align: right;\">\n",
       "      <th></th>\n",
       "      <th>constraint</th>\n",
       "    </tr>\n",
       "    <tr>\n",
       "      <th>constraint_type</th>\n",
       "      <th></th>\n",
       "    </tr>\n",
       "  </thead>\n",
       "  <tbody>\n",
       "    <tr>\n",
       "      <th>caret</th>\n",
       "      <td>36007555</td>\n",
       "    </tr>\n",
       "    <tr>\n",
       "      <th>latest</th>\n",
       "      <td>1504159</td>\n",
       "    </tr>\n",
       "    <tr>\n",
       "      <th>other</th>\n",
       "      <td>1734956</td>\n",
       "    </tr>\n",
       "    <tr>\n",
       "      <th>strict</th>\n",
       "      <td>8131072</td>\n",
       "    </tr>\n",
       "    <tr>\n",
       "      <th>tilde</th>\n",
       "      <td>3651774</td>\n",
       "    </tr>\n",
       "  </tbody>\n",
       "</table>\n",
       "</div>"
      ],
      "text/plain": [
       "                 constraint\n",
       "constraint_type            \n",
       "caret              36007555\n",
       "latest              1504159\n",
       "other               1734956\n",
       "strict              8131072\n",
       "tilde               3651774"
      ]
     },
     "execution_count": 13,
     "metadata": {},
     "output_type": "execute_result"
    }
   ],
   "source": [
    "df_tmp.groupby(['constraint_type']).sum()"
   ]
  },
  {
   "cell_type": "code",
   "execution_count": 14,
   "metadata": {},
   "outputs": [
    {
     "data": {
      "text/html": [
       "<div>\n",
       "<style scoped>\n",
       "    .dataframe tbody tr th:only-of-type {\n",
       "        vertical-align: middle;\n",
       "    }\n",
       "\n",
       "    .dataframe tbody tr th {\n",
       "        vertical-align: top;\n",
       "    }\n",
       "\n",
       "    .dataframe thead th {\n",
       "        text-align: right;\n",
       "    }\n",
       "</style>\n",
       "<table border=\"1\" class=\"dataframe\">\n",
       "  <thead>\n",
       "    <tr style=\"text-align: right;\">\n",
       "      <th></th>\n",
       "      <th>constraint_type</th>\n",
       "      <th>kind</th>\n",
       "      <th>constraint</th>\n",
       "    </tr>\n",
       "  </thead>\n",
       "  <tbody>\n",
       "    <tr>\n",
       "      <th>0</th>\n",
       "      <td>caret</td>\n",
       "      <td>Development</td>\n",
       "      <td>42.377065</td>\n",
       "    </tr>\n",
       "    <tr>\n",
       "      <th>1</th>\n",
       "      <td>caret</td>\n",
       "      <td>Runtime</td>\n",
       "      <td>28.185147</td>\n",
       "    </tr>\n",
       "    <tr>\n",
       "      <th>2</th>\n",
       "      <td>latest</td>\n",
       "      <td>Development</td>\n",
       "      <td>1.094469</td>\n",
       "    </tr>\n",
       "    <tr>\n",
       "      <th>3</th>\n",
       "      <td>latest</td>\n",
       "      <td>Runtime</td>\n",
       "      <td>1.853157</td>\n",
       "    </tr>\n",
       "    <tr>\n",
       "      <th>4</th>\n",
       "      <td>other</td>\n",
       "      <td>Development</td>\n",
       "      <td>1.325460</td>\n",
       "    </tr>\n",
       "    <tr>\n",
       "      <th>5</th>\n",
       "      <td>other</td>\n",
       "      <td>Runtime</td>\n",
       "      <td>2.074446</td>\n",
       "    </tr>\n",
       "    <tr>\n",
       "      <th>6</th>\n",
       "      <td>strict</td>\n",
       "      <td>Development</td>\n",
       "      <td>8.596049</td>\n",
       "    </tr>\n",
       "    <tr>\n",
       "      <th>7</th>\n",
       "      <td>strict</td>\n",
       "      <td>Runtime</td>\n",
       "      <td>7.338008</td>\n",
       "    </tr>\n",
       "    <tr>\n",
       "      <th>8</th>\n",
       "      <td>tilde</td>\n",
       "      <td>Development</td>\n",
       "      <td>3.822237</td>\n",
       "    </tr>\n",
       "    <tr>\n",
       "      <th>9</th>\n",
       "      <td>tilde</td>\n",
       "      <td>Runtime</td>\n",
       "      <td>3.333963</td>\n",
       "    </tr>\n",
       "  </tbody>\n",
       "</table>\n",
       "</div>"
      ],
      "text/plain": [
       "  constraint_type         kind  constraint\n",
       "0           caret  Development   42.377065\n",
       "1           caret      Runtime   28.185147\n",
       "2          latest  Development    1.094469\n",
       "3          latest      Runtime    1.853157\n",
       "4           other  Development    1.325460\n",
       "5           other      Runtime    2.074446\n",
       "6          strict  Development    8.596049\n",
       "7          strict      Runtime    7.338008\n",
       "8           tilde  Development    3.822237\n",
       "9           tilde      Runtime    3.333963"
      ]
     },
     "execution_count": 14,
     "metadata": {},
     "output_type": "execute_result"
    }
   ],
   "source": [
    "df_tmp['constraint']=df_tmp['constraint'].apply(lambda x: x*100.0/l)\n",
    "df_tmp"
   ]
  },
  {
   "cell_type": "code",
   "execution_count": 15,
   "metadata": {},
   "outputs": [
    {
     "data": {
      "text/html": [
       "<div>\n",
       "<style scoped>\n",
       "    .dataframe tbody tr th:only-of-type {\n",
       "        vertical-align: middle;\n",
       "    }\n",
       "\n",
       "    .dataframe tbody tr th {\n",
       "        vertical-align: top;\n",
       "    }\n",
       "\n",
       "    .dataframe thead th {\n",
       "        text-align: right;\n",
       "    }\n",
       "</style>\n",
       "<table border=\"1\" class=\"dataframe\">\n",
       "  <thead>\n",
       "    <tr style=\"text-align: right;\">\n",
       "      <th></th>\n",
       "      <th>constraint</th>\n",
       "    </tr>\n",
       "    <tr>\n",
       "      <th>constraint_type</th>\n",
       "      <th></th>\n",
       "    </tr>\n",
       "  </thead>\n",
       "  <tbody>\n",
       "    <tr>\n",
       "      <th>caret</th>\n",
       "      <td>70.562211</td>\n",
       "    </tr>\n",
       "    <tr>\n",
       "      <th>latest</th>\n",
       "      <td>2.947625</td>\n",
       "    </tr>\n",
       "    <tr>\n",
       "      <th>other</th>\n",
       "      <td>3.399907</td>\n",
       "    </tr>\n",
       "    <tr>\n",
       "      <th>strict</th>\n",
       "      <td>15.934057</td>\n",
       "    </tr>\n",
       "    <tr>\n",
       "      <th>tilde</th>\n",
       "      <td>7.156200</td>\n",
       "    </tr>\n",
       "  </tbody>\n",
       "</table>\n",
       "</div>"
      ],
      "text/plain": [
       "                 constraint\n",
       "constraint_type            \n",
       "caret             70.562211\n",
       "latest             2.947625\n",
       "other              3.399907\n",
       "strict            15.934057\n",
       "tilde              7.156200"
      ]
     },
     "execution_count": 15,
     "metadata": {},
     "output_type": "execute_result"
    }
   ],
   "source": [
    "df_tmp.groupby(['constraint_type']).sum()"
   ]
  },
  {
   "cell_type": "code",
   "execution_count": 20,
   "metadata": {},
   "outputs": [
    {
     "data": {
      "image/png": "[encoded data removed]",
      "text/plain": [
       "<matplotlib.figure.Figure at 0x7f10a4e5e7b8>"
      ]
     },
     "metadata": {},
     "output_type": "display_data"
    }
   ],
   "source": [
    "ax = sns.barplot(x=\"kind\", y=\"constraint\", hue=\"constraint_type\", palette=[blue,\"pink\",'yellow','orange','green'], data=df_tmp,\n",
    "                hue_order=['caret','strict','tilde','latest','other'])\n",
    "ax.figure.set_size_inches(12,3)\n",
    "ax.set_xlabel('Constraint type')\n",
    "ax.set_ylabel('Dependencies \\%')\n",
    "for patch in ax.patches:\n",
    "    patch.set_edgecolor('black')\n",
    "ax.legend( loc='upper right', bbox_to_anchor=(1, 1), fontsize=20)#,ncol=3)#, fancybox=True, shadow=True)\n",
    "ax.figure.savefig('/home/neglectos/Desktop/jsep18technicallag/figures/constraints.png', bbox_inches='tight', facecolor='white')"
   ]
  },
  {
   "cell_type": "markdown",
   "metadata": {},
   "source": [
    "# RQ0 part2"
   ]
  },
  {
   "cell_type": "code",
   "execution_count": 3,
   "metadata": {},
   "outputs": [
    {
     "data": {
      "text/html": [
       "<div>\n",
       "<style scoped>\n",
       "    .dataframe tbody tr th:only-of-type {\n",
       "        vertical-align: middle;\n",
       "    }\n",
       "\n",
       "    .dataframe tbody tr th {\n",
       "        vertical-align: top;\n",
       "    }\n",
       "\n",
       "    .dataframe thead th {\n",
       "        text-align: right;\n",
       "    }\n",
       "</style>\n",
       "<table border=\"1\" class=\"dataframe\">\n",
       "  <thead>\n",
       "    <tr style=\"text-align: right;\">\n",
       "      <th></th>\n",
       "      <th>package</th>\n",
       "      <th>version</th>\n",
       "      <th>date</th>\n",
       "      <th>dependency</th>\n",
       "      <th>constraint</th>\n",
       "      <th>kind</th>\n",
       "      <th>constraint_type</th>\n",
       "      <th>time_lag</th>\n",
       "      <th>version_lag</th>\n",
       "      <th>dependency_next</th>\n",
       "      <th>time_lag_next</th>\n",
       "      <th>constraint_type_next</th>\n",
       "      <th>date_next</th>\n",
       "      <th>package_next</th>\n",
       "      <th>version_next</th>\n",
       "      <th>constraint_next</th>\n",
       "    </tr>\n",
       "  </thead>\n",
       "  <tbody>\n",
       "    <tr>\n",
       "      <th>0</th>\n",
       "      <td>0.0.0-development</td>\n",
       "      <td>1.0.0</td>\n",
       "      <td>2017-11-25</td>\n",
       "      <td>babel-cli</td>\n",
       "      <td>^6.26.0</td>\n",
       "      <td>runtime</td>\n",
       "      <td>caret</td>\n",
       "      <td>60 days 00:00:00.000000000</td>\n",
       "      <td>1,0,4</td>\n",
       "      <td>babel-cli</td>\n",
       "      <td>60 days 00:00:00.000000000</td>\n",
       "      <td>caret</td>\n",
       "      <td>2017-11-26</td>\n",
       "      <td>0.0.0-development</td>\n",
       "      <td>1.0.1</td>\n",
       "      <td>^6.26.0</td>\n",
       "    </tr>\n",
       "    <tr>\n",
       "      <th>1</th>\n",
       "      <td>0.0.0-development</td>\n",
       "      <td>1.0.0</td>\n",
       "      <td>2017-11-25</td>\n",
       "      <td>babel-eslint</td>\n",
       "      <td>^8.0.1</td>\n",
       "      <td>runtime</td>\n",
       "      <td>caret</td>\n",
       "      <td>0 days 00:00:00.000000000</td>\n",
       "      <td>0,0,0</td>\n",
       "      <td>babel-eslint</td>\n",
       "      <td>0 days 00:00:00.000000000</td>\n",
       "      <td>caret</td>\n",
       "      <td>2017-11-26</td>\n",
       "      <td>0.0.0-development</td>\n",
       "      <td>1.0.1</td>\n",
       "      <td>^8.0.1</td>\n",
       "    </tr>\n",
       "  </tbody>\n",
       "</table>\n",
       "</div>"
      ],
      "text/plain": [
       "             package version        date    dependency constraint     kind  \\\n",
       "0  0.0.0-development   1.0.0  2017-11-25     babel-cli    ^6.26.0  runtime   \n",
       "1  0.0.0-development   1.0.0  2017-11-25  babel-eslint     ^8.0.1  runtime   \n",
       "\n",
       "  constraint_type                    time_lag version_lag dependency_next  \\\n",
       "0           caret  60 days 00:00:00.000000000       1,0,4       babel-cli   \n",
       "1           caret   0 days 00:00:00.000000000       0,0,0    babel-eslint   \n",
       "\n",
       "                time_lag_next constraint_type_next   date_next  \\\n",
       "0  60 days 00:00:00.000000000                caret  2017-11-26   \n",
       "1   0 days 00:00:00.000000000                caret  2017-11-26   \n",
       "\n",
       "        package_next version_next constraint_next  \n",
       "0  0.0.0-development        1.0.1         ^6.26.0  \n",
       "1  0.0.0-development        1.0.1          ^8.0.1  "
      ]
     },
     "execution_count": 3,
     "metadata": {},
     "output_type": "execute_result"
    }
   ],
   "source": [
    "technical_lag['date_used_version']=pd.to_datetime(technical_lag['date_used_version'])\n",
    "technical_lag['date_last_available']=pd.to_datetime(technical_lag['date_last_available'])"
   ]
  },
  {
   "cell_type": "code",
   "execution_count": null,
   "metadata": {},
   "outputs": [],
   "source": [
    "technical_lag['time_lag']=technical_lag['date_last_available'] - technical_lag['date_used_version']"
   ]
  },
  {
   "cell_type": "code",
   "execution_count": null,
   "metadata": {},
   "outputs": [],
   "source": [
    "next_lag=technical_lag[['package','version','date','dependency','constraint','kind','constraint_type','time_lag','version_lag']]"
   ]
  },
  {
   "cell_type": "code",
   "execution_count": null,
   "metadata": {},
   "outputs": [],
   "source": [
    "next_lag['dependency_next']=next_lag.dependency.shift(-1)\n",
    "next_lag['time_lag_next']=next_lag.time_lag.shift(-1)\n",
    "next_lag['constraint_type_next']=next_lag.constraint_type.shift(-1)\n",
    "next_lag['date_next']=next_lag.date.shift(-1)\n",
    "next_lag['package_next']=next_lag.package.shift(-1)\n",
    "next_lag['version_next']=next_lag.version.shift(-1)\n",
    "next_lag['constraint_next']=next_lag.constraint.shift(-1)"
   ]
  },
  {
   "cell_type": "code",
   "execution_count": null,
   "metadata": {},
   "outputs": [],
   "source": [
    "next_lag=next_lag.query('dependency==dependency_next and package==package_next')"
   ]
  },
  {
   "cell_type": "code",
   "execution_count": null,
   "metadata": {},
   "outputs": [],
   "source": [
    "next_lag.sort_values(['package','dependency','date'], ascending=True, inplace=True)"
   ]
  },
  {
   "cell_type": "code",
   "execution_count": 27,
   "metadata": {},
   "outputs": [
    {
     "name": "stdout",
     "output_type": "stream",
     "text": [
      "4760450\n"
     ]
    },
    {
     "data": {
      "text/html": [
       "<div>\n",
       "<style scoped>\n",
       "    .dataframe tbody tr th:only-of-type {\n",
       "        vertical-align: middle;\n",
       "    }\n",
       "\n",
       "    .dataframe tbody tr th {\n",
       "        vertical-align: top;\n",
       "    }\n",
       "\n",
       "    .dataframe thead th {\n",
       "        text-align: right;\n",
       "    }\n",
       "</style>\n",
       "<table border=\"1\" class=\"dataframe\">\n",
       "  <thead>\n",
       "    <tr style=\"text-align: right;\">\n",
       "      <th></th>\n",
       "      <th>package</th>\n",
       "      <th>version</th>\n",
       "      <th>date</th>\n",
       "      <th>release_type</th>\n",
       "      <th>semver</th>\n",
       "    </tr>\n",
       "  </thead>\n",
       "  <tbody>\n",
       "    <tr>\n",
       "      <th>0</th>\n",
       "      <td>0</td>\n",
       "      <td>0.0.0</td>\n",
       "      <td>2014-04-01</td>\n",
       "      <td>initial</td>\n",
       "      <td>0.0.0</td>\n",
       "    </tr>\n",
       "    <tr>\n",
       "      <th>1</th>\n",
       "      <td>0-</td>\n",
       "      <td>0.0.1</td>\n",
       "      <td>2017-03-06</td>\n",
       "      <td>initial</td>\n",
       "      <td>0.0.1</td>\n",
       "    </tr>\n",
       "  </tbody>\n",
       "</table>\n",
       "</div>"
      ],
      "text/plain": [
       "  package version        date release_type semver\n",
       "0       0   0.0.0  2014-04-01      initial  0.0.0\n",
       "1      0-   0.0.1  2017-03-06      initial  0.0.1"
      ]
     },
     "execution_count": 27,
     "metadata": {},
     "output_type": "execute_result"
    }
   ],
   "source": [
    "versions=pd.read_csv('../../../jsep2018/csv/versions_npm_march.csv', sep=';', dtype=object, index_col=None,  error_bad_lines=False)\n",
    "#versions=versions[['package','version','release_type']]\n",
    "versions.sort_values(['package','date','version'], ascending=True, inplace=True)\n",
    "#versions['date']=pd.to_datetime(versions['date'])\n",
    "print(len(versions))\n",
    "versions.head(2)"
   ]
  },
  {
   "cell_type": "code",
   "execution_count": 19,
   "metadata": {},
   "outputs": [],
   "source": [
    "versions['package']=versions['package'].apply(str)"
   ]
  },
  {
   "cell_type": "code",
   "execution_count": 20,
   "metadata": {},
   "outputs": [],
   "source": [
    "versions=versions[~versions['package'].str.startswith(exclude_prefixes)]\n",
    "versions=versions[~versions['package'].str.endswith(exclude_suffixes)]\n",
    "versions=versions[~versions['package'].str.match(exclude_ghost)]"
   ]
  },
  {
   "cell_type": "markdown",
   "metadata": {},
   "source": [
    "# When do packages UPDATE constraint, in general?"
   ]
  },
  {
   "cell_type": "code",
   "execution_count": 8,
   "metadata": {},
   "outputs": [],
   "source": [
    "df_tmp=next_lag[['package','version','version_next','date','date_next','kind','dependency','constraint','constraint_next','constraint_type','constraint_type_next']]\n"
   ]
  },
  {
   "cell_type": "code",
   "execution_count": 9,
   "metadata": {},
   "outputs": [],
   "source": [
    "versions=versions[['package','version','release_type']]\n",
    "df_tmp=df_tmp.query('constraint != constraint_next')\n",
    "df_tmp=df_tmp[['package','version','version_next','date','date_next','kind','dependency','constraint_type','constraint_type_next']]"
   ]
  },
  {
   "cell_type": "code",
   "execution_count": 10,
   "metadata": {},
   "outputs": [],
   "source": [
    "df_tmp['package']=df_tmp['package'].apply(str)\n",
    "df_tmp['version']=df_tmp['version'].apply(str)\n",
    "df_tmp['version_next']=df_tmp['version_next'].apply(str)\n",
    "\n",
    "versions['package']=versions['package'].apply(str)\n",
    "versions['version']=versions['version'].apply(str)"
   ]
  },
  {
   "cell_type": "code",
   "execution_count": 11,
   "metadata": {},
   "outputs": [
    {
     "data": {
      "text/plain": [
       "2219878"
      ]
     },
     "execution_count": 11,
     "metadata": {},
     "output_type": "execute_result"
    }
   ],
   "source": [
    "df_tmp=(df_tmp\n",
    "        .set_index(['package','version'])\n",
    "       .merge(versions\n",
    "              .set_index(['package','version']),\n",
    "              left_index=True,\n",
    "              right_index=True,\n",
    "              how='left')\n",
    "        .dropna()\n",
    "        .reset_index()\n",
    "       )\n",
    "len(df_tmp)"
   ]
  },
  {
   "cell_type": "code",
   "execution_count": 12,
   "metadata": {},
   "outputs": [
    {
     "data": {
      "text/plain": [
       "2219878"
      ]
     },
     "execution_count": 12,
     "metadata": {},
     "output_type": "execute_result"
    }
   ],
   "source": [
    "df_tmp_update=(df_tmp\n",
    "        .set_index(['package','version_next'])\n",
    "       .merge(versions\n",
    "              .rename(columns={'version':'version_next','release_type':'release_type_next'})\n",
    "              .set_index(['package','version_next']),\n",
    "              left_index=True,\n",
    "              right_index=True,\n",
    "              how='left')\n",
    "        .dropna()\n",
    "        .reset_index()\n",
    "       )\n",
    "len(df_tmp_update)"
   ]
  },
  {
   "cell_type": "code",
   "execution_count": 13,
   "metadata": {},
   "outputs": [
    {
     "data": {
      "text/html": [
       "<div>\n",
       "<style scoped>\n",
       "    .dataframe tbody tr th:only-of-type {\n",
       "        vertical-align: middle;\n",
       "    }\n",
       "\n",
       "    .dataframe tbody tr th {\n",
       "        vertical-align: top;\n",
       "    }\n",
       "\n",
       "    .dataframe thead th {\n",
       "        text-align: right;\n",
       "    }\n",
       "</style>\n",
       "<table border=\"1\" class=\"dataframe\">\n",
       "  <thead>\n",
       "    <tr style=\"text-align: right;\">\n",
       "      <th></th>\n",
       "      <th>package</th>\n",
       "      <th>version</th>\n",
       "      <th>release_type</th>\n",
       "      <th>release_type_next</th>\n",
       "      <th>dependency</th>\n",
       "    </tr>\n",
       "  </thead>\n",
       "  <tbody>\n",
       "    <tr>\n",
       "      <th>0</th>\n",
       "      <td>0.0.0-development</td>\n",
       "      <td>1.0.0</td>\n",
       "      <td>initial</td>\n",
       "      <td>patch</td>\n",
       "      <td>1</td>\n",
       "    </tr>\n",
       "    <tr>\n",
       "      <th>1</th>\n",
       "      <td>0.workspace</td>\n",
       "      <td>0.0.15</td>\n",
       "      <td>patch</td>\n",
       "      <td>patch</td>\n",
       "      <td>1</td>\n",
       "    </tr>\n",
       "  </tbody>\n",
       "</table>\n",
       "</div>"
      ],
      "text/plain": [
       "             package version release_type release_type_next  dependency\n",
       "0  0.0.0-development   1.0.0      initial             patch           1\n",
       "1        0.workspace  0.0.15        patch             patch           1"
      ]
     },
     "execution_count": 13,
     "metadata": {},
     "output_type": "execute_result"
    }
   ],
   "source": [
    "df_tmp2=df_tmp_update.groupby(['package','version','release_type','release_type_next']).count()[['dependency']].reset_index()\n",
    "df_tmp2.head(2)"
   ]
  },
  {
   "cell_type": "code",
   "execution_count": 14,
   "metadata": {},
   "outputs": [
    {
     "name": "stdout",
     "output_type": "stream",
     "text": [
      "1.0 2.0 2.0\n"
     ]
    }
   ],
   "source": [
    "print(df_tmp2.query('release_type_next==\"patch\"').dependency.median(),\n",
    "      df_tmp2.query('release_type_next==\"minor\"').dependency.median(),\n",
    "      df_tmp2.query('release_type_next==\"major\"').dependency.median()\n",
    "     )"
   ]
  },
  {
   "cell_type": "code",
   "execution_count": 15,
   "metadata": {},
   "outputs": [
    {
     "data": {
      "image/png": "[encoded data removed]",
      "text/plain": [
       "<matplotlib.figure.Figure at 0x7fb3a13bb9e8>"
      ]
     },
     "metadata": {},
     "output_type": "display_data"
    }
   ],
   "source": [
    "# When \n",
    "ax = sns.boxplot(x=\"release_type_next\", \n",
    "                 y=\"dependency\", \n",
    "                 data=df_tmp2, \n",
    "                 #hue='release_type_next', hue_order=['patch','minor','major'],\n",
    "                 order=['patch','minor','major'],\n",
    "                 palette=version_colors, linewidth=1)\n",
    "ax.figure.set_size_inches(12,3)\n",
    "ax.set_xlabel(\"New released version\")\n",
    "ax.set_ylabel('\\# of dependencies')\n",
    "for patch in ax.patches:\n",
    "    patch.set_edgecolor('black')\n",
    "ax.set_ylim(0,10)\n",
    "#ax.text(0.12, 1.2, 'To: ', transform=ax.transAxes, fontsize=20,\n",
    "#        verticalalignment='top', color='black')\n",
    "ax.legend(loc='upper right', bbox_to_anchor=(0.8, 1.3), ncol=3, fontsize=20, fancybox=True, shadow=True)\n",
    "ax.figure.savefig('/home/neglectos/Desktop/jsep18technicallag/figures/update_constraints.eps', bbox_inches='tight', facecolor='white')"
   ]
  },
  {
   "cell_type": "markdown",
   "metadata": {},
   "source": [
    "# How often packages are updated"
   ]
  },
  {
   "cell_type": "code",
   "execution_count": 21,
   "metadata": {},
   "outputs": [
    {
     "name": "stderr",
     "output_type": "stream",
     "text": [
      "/usr/local/lib/python3.5/dist-packages/ipykernel_launcher.py:7: SettingWithCopyWarning: \n",
      "A value is trying to be set on a copy of a slice from a DataFrame.\n",
      "Try using .loc[row_indexer,col_indexer] = value instead\n",
      "\n",
      "See the caveats in the documentation: http://pandas.pydata.org/pandas-docs/stable/indexing.html#indexing-view-versus-copy\n",
      "  import sys\n",
      "/usr/local/lib/python3.5/dist-packages/ipykernel_launcher.py:8: SettingWithCopyWarning: \n",
      "A value is trying to be set on a copy of a slice from a DataFrame.\n",
      "Try using .loc[row_indexer,col_indexer] = value instead\n",
      "\n",
      "See the caveats in the documentation: http://pandas.pydata.org/pandas-docs/stable/indexing.html#indexing-view-versus-copy\n",
      "  \n",
      "/usr/local/lib/python3.5/dist-packages/ipykernel_launcher.py:9: SettingWithCopyWarning: \n",
      "A value is trying to be set on a copy of a slice from a DataFrame.\n",
      "Try using .loc[row_indexer,col_indexer] = value instead\n",
      "\n",
      "See the caveats in the documentation: http://pandas.pydata.org/pandas-docs/stable/indexing.html#indexing-view-versus-copy\n",
      "  if __name__ == '__main__':\n"
     ]
    }
   ],
   "source": [
    "tab=[]\n",
    "tmp=pd.DataFrame()\n",
    "for release in ['initial','patch','minor','major']:\n",
    "    for next_release in ['patch','minor','major']:\n",
    "        tmp=versions.query('release_type==\"'+release+'\" or release_type==\"'+next_release+'\"')\n",
    "        \n",
    "        tmp['date_next']=tmp.date.shift(-1)\n",
    "        tmp['release_type_next']=tmp.release_type.shift(-1)\n",
    "        tmp['package_next']=tmp.package.shift(-1)\n",
    "        \n",
    "        tmp=tmp.query('package==package_next')\n",
    "        tmp=tmp.query('release_type==\"'+release+'\" and release_type_next==\"'+next_release+'\"')\n",
    "        tab.append(tmp)"
   ]
  },
  {
   "cell_type": "code",
   "execution_count": 23,
   "metadata": {},
   "outputs": [],
   "source": [
    "df_tmp=pd.concat(tab)\n",
    "df_tmp['date']=pd.to_datetime(df_tmp['date'])\n",
    "df_tmp['date_next']=pd.to_datetime(df_tmp['date_next'])\n",
    "\n",
    "df_tmp['time']=(df_tmp['date_next'] - df_tmp['date']).dt.days"
   ]
  },
  {
   "cell_type": "code",
   "execution_count": 27,
   "metadata": {},
   "outputs": [
    {
     "data": {
      "image/png": "[encoded data removed]",
      "text/plain": [
       "<matplotlib.figure.Figure at 0x7fb0ad9c65f8>"
      ]
     },
     "metadata": {},
     "output_type": "display_data"
    }
   ],
   "source": [
    "# When \n",
    "ax = sns.boxplot(x=\"release_type\", \n",
    "                 y=\"time\", \n",
    "                 data=df_tmp, \n",
    "                 hue='release_type_next', hue_order=['patch','minor','major'],\n",
    "                 order=['initial','patch','minor','major'],\n",
    "                 palette=version_colors, linewidth=1)\n",
    "ax.figure.set_size_inches(12,3)\n",
    "ax.set_xlabel(\"\")\n",
    "ax.set_ylabel('Time in days')\n",
    "for patch in ax.patches:\n",
    "    patch.set_edgecolor('black')\n",
    "ax.set_ylim(0,300)\n",
    "ax.text(0.03, 1.2, 'Next chronological release: ', transform=ax.transAxes, fontsize=20,\n",
    "        verticalalignment='top', color='black')\n",
    "ax.legend(loc='upper right', bbox_to_anchor=(1, 1.3), ncol=3, fontsize=20, fancybox=True, shadow=True)\n",
    "ax.figure.savefig('/home/neglectos/Desktop/jsep18technicallag/figures/next_release.eps', bbox_inches='tight', facecolor='white')"
   ]
  },
  {
   "cell_type": "markdown",
   "metadata": {},
   "source": [
    "# RQ1"
   ]
  },
  {
   "cell_type": "code",
   "execution_count": 4,
   "metadata": {},
   "outputs": [
    {
     "name": "stdout",
     "output_type": "stream",
     "text": [
      "51029864\n"
     ]
    },
    {
     "data": {
      "text/html": [
       "<div>\n",
       "<style scoped>\n",
       "    .dataframe tbody tr th:only-of-type {\n",
       "        vertical-align: middle;\n",
       "    }\n",
       "\n",
       "    .dataframe tbody tr th {\n",
       "        vertical-align: top;\n",
       "    }\n",
       "\n",
       "    .dataframe thead th {\n",
       "        text-align: right;\n",
       "    }\n",
       "</style>\n",
       "<table border=\"1\" class=\"dataframe\">\n",
       "  <thead>\n",
       "    <tr style=\"text-align: right;\">\n",
       "      <th></th>\n",
       "      <th>package</th>\n",
       "      <th>kind</th>\n",
       "      <th>version_lag</th>\n",
       "    </tr>\n",
       "  </thead>\n",
       "  <tbody>\n",
       "    <tr>\n",
       "      <th>0</th>\n",
       "      <td>shaybagants-test</td>\n",
       "      <td>runtime</td>\n",
       "      <td>0,0,0</td>\n",
       "    </tr>\n",
       "    <tr>\n",
       "      <th>1</th>\n",
       "      <td>shaybagants-test</td>\n",
       "      <td>runtime</td>\n",
       "      <td>0,0,0</td>\n",
       "    </tr>\n",
       "  </tbody>\n",
       "</table>\n",
       "</div>"
      ],
      "text/plain": [
       "            package     kind version_lag\n",
       "0  shaybagants-test  runtime       0,0,0\n",
       "1  shaybagants-test  runtime       0,0,0"
      ]
     },
     "execution_count": 4,
     "metadata": {},
     "output_type": "execute_result"
    }
   ],
   "source": [
    "dep_lag=pd.read_csv('../../../jsep2018/csv/packages/technical_lag_clean.csv', usecols=['package','version_lag','kind'],\n",
    "                          sep=';', dtype=object, index_col=None,  error_bad_lines=False)\n",
    "print(len(dep_lag))\n",
    "dep_lag.head(2)"
   ]
  },
  {
   "cell_type": "code",
   "execution_count": 6,
   "metadata": {},
   "outputs": [],
   "source": [
    "dep_lag=dep_lag[~dep_lag['package'].str.startswith(exclude_prefixes)]\n",
    "dep_lag=dep_lag[~dep_lag['package'].str.endswith(exclude_suffixes)]\n",
    "dep_lag=dep_lag[~dep_lag['package'].str.match(exclude_ghost)]"
   ]
  },
  {
   "cell_type": "code",
   "execution_count": 7,
   "metadata": {},
   "outputs": [
    {
     "data": {
      "text/plain": [
       "50501782"
      ]
     },
     "execution_count": 7,
     "metadata": {},
     "output_type": "execute_result"
    }
   ],
   "source": [
    "len(dep_lag)"
   ]
  },
  {
   "cell_type": "code",
   "execution_count": 9,
   "metadata": {},
   "outputs": [
    {
     "name": "stdout",
     "output_type": "stream",
     "text": [
      "36765670 13736112\n"
     ]
    }
   ],
   "source": [
    "print(len(dep_lag.query('version_lag==\"0,0,0\"')),\n",
    "      len(dep_lag.query('version_lag!=\"0,0,0\"')))"
   ]
  },
  {
   "cell_type": "code",
   "execution_count": 11,
   "metadata": {},
   "outputs": [
    {
     "data": {
      "text/html": [
       "<div>\n",
       "<style scoped>\n",
       "    .dataframe tbody tr th:only-of-type {\n",
       "        vertical-align: middle;\n",
       "    }\n",
       "\n",
       "    .dataframe tbody tr th {\n",
       "        vertical-align: top;\n",
       "    }\n",
       "\n",
       "    .dataframe thead th {\n",
       "        text-align: right;\n",
       "    }\n",
       "</style>\n",
       "<table border=\"1\" class=\"dataframe\">\n",
       "  <thead>\n",
       "    <tr style=\"text-align: right;\">\n",
       "      <th></th>\n",
       "      <th>package</th>\n",
       "    </tr>\n",
       "    <tr>\n",
       "      <th>kind</th>\n",
       "      <th></th>\n",
       "    </tr>\n",
       "  </thead>\n",
       "  <tbody>\n",
       "    <tr>\n",
       "      <th>Development</th>\n",
       "      <td>0.541039</td>\n",
       "    </tr>\n",
       "    <tr>\n",
       "      <th>Optional</th>\n",
       "      <td>0.000006</td>\n",
       "    </tr>\n",
       "    <tr>\n",
       "      <th>runtime</th>\n",
       "      <td>0.458955</td>\n",
       "    </tr>\n",
       "  </tbody>\n",
       "</table>\n",
       "</div>"
      ],
      "text/plain": [
       "              package\n",
       "kind                 \n",
       "Development  0.541039\n",
       "Optional     0.000006\n",
       "runtime      0.458955"
      ]
     },
     "execution_count": 11,
     "metadata": {},
     "output_type": "execute_result"
    }
   ],
   "source": [
    "dep_lag.query('version_lag==\"0,0,0\"').groupby('kind').count()[['package']]/len(dep_lag.query('version_lag==\"0,0,0\"'))"
   ]
  },
  {
   "cell_type": "code",
   "execution_count": 13,
   "metadata": {},
   "outputs": [
    {
     "data": {
      "text/html": [
       "<div>\n",
       "<style scoped>\n",
       "    .dataframe tbody tr th:only-of-type {\n",
       "        vertical-align: middle;\n",
       "    }\n",
       "\n",
       "    .dataframe tbody tr th {\n",
       "        vertical-align: top;\n",
       "    }\n",
       "\n",
       "    .dataframe thead th {\n",
       "        text-align: right;\n",
       "    }\n",
       "</style>\n",
       "<table border=\"1\" class=\"dataframe\">\n",
       "  <thead>\n",
       "    <tr style=\"text-align: right;\">\n",
       "      <th></th>\n",
       "      <th>package</th>\n",
       "    </tr>\n",
       "    <tr>\n",
       "      <th>kind</th>\n",
       "      <th></th>\n",
       "    </tr>\n",
       "  </thead>\n",
       "  <tbody>\n",
       "    <tr>\n",
       "      <th>Development</th>\n",
       "      <td>19891653</td>\n",
       "    </tr>\n",
       "    <tr>\n",
       "      <th>Optional</th>\n",
       "      <td>212</td>\n",
       "    </tr>\n",
       "    <tr>\n",
       "      <th>runtime</th>\n",
       "      <td>16873805</td>\n",
       "    </tr>\n",
       "  </tbody>\n",
       "</table>\n",
       "</div>"
      ],
      "text/plain": [
       "              package\n",
       "kind                 \n",
       "Development  19891653\n",
       "Optional          212\n",
       "runtime      16873805"
      ]
     },
     "execution_count": 13,
     "metadata": {},
     "output_type": "execute_result"
    }
   ],
   "source": [
    "dep_lag.query('version_lag==\"0,0,0\"').groupby('kind').count()[['package']]"
   ]
  },
  {
   "cell_type": "code",
   "execution_count": 12,
   "metadata": {},
   "outputs": [
    {
     "data": {
      "text/html": [
       "<div>\n",
       "<style scoped>\n",
       "    .dataframe tbody tr th:only-of-type {\n",
       "        vertical-align: middle;\n",
       "    }\n",
       "\n",
       "    .dataframe tbody tr th {\n",
       "        vertical-align: top;\n",
       "    }\n",
       "\n",
       "    .dataframe thead th {\n",
       "        text-align: right;\n",
       "    }\n",
       "</style>\n",
       "<table border=\"1\" class=\"dataframe\">\n",
       "  <thead>\n",
       "    <tr style=\"text-align: right;\">\n",
       "      <th></th>\n",
       "      <th>package</th>\n",
       "    </tr>\n",
       "    <tr>\n",
       "      <th>kind</th>\n",
       "      <th></th>\n",
       "    </tr>\n",
       "  </thead>\n",
       "  <tbody>\n",
       "    <tr>\n",
       "      <th>Development</th>\n",
       "      <td>0.67602</td>\n",
       "    </tr>\n",
       "    <tr>\n",
       "      <th>Optional</th>\n",
       "      <td>0.00001</td>\n",
       "    </tr>\n",
       "    <tr>\n",
       "      <th>runtime</th>\n",
       "      <td>0.32397</td>\n",
       "    </tr>\n",
       "  </tbody>\n",
       "</table>\n",
       "</div>"
      ],
      "text/plain": [
       "             package\n",
       "kind                \n",
       "Development  0.67602\n",
       "Optional     0.00001\n",
       "runtime      0.32397"
      ]
     },
     "execution_count": 12,
     "metadata": {},
     "output_type": "execute_result"
    }
   ],
   "source": [
    "dep_lag.query('version_lag!=\"0,0,0\"').groupby('kind').count()[['package']]/len(dep_lag.query('version_lag!=\"0,0,0\"'))"
   ]
  },
  {
   "cell_type": "code",
   "execution_count": 14,
   "metadata": {},
   "outputs": [
    {
     "data": {
      "text/html": [
       "<div>\n",
       "<style scoped>\n",
       "    .dataframe tbody tr th:only-of-type {\n",
       "        vertical-align: middle;\n",
       "    }\n",
       "\n",
       "    .dataframe tbody tr th {\n",
       "        vertical-align: top;\n",
       "    }\n",
       "\n",
       "    .dataframe thead th {\n",
       "        text-align: right;\n",
       "    }\n",
       "</style>\n",
       "<table border=\"1\" class=\"dataframe\">\n",
       "  <thead>\n",
       "    <tr style=\"text-align: right;\">\n",
       "      <th></th>\n",
       "      <th>package</th>\n",
       "    </tr>\n",
       "    <tr>\n",
       "      <th>kind</th>\n",
       "      <th></th>\n",
       "    </tr>\n",
       "  </thead>\n",
       "  <tbody>\n",
       "    <tr>\n",
       "      <th>Development</th>\n",
       "      <td>9285893</td>\n",
       "    </tr>\n",
       "    <tr>\n",
       "      <th>Optional</th>\n",
       "      <td>136</td>\n",
       "    </tr>\n",
       "    <tr>\n",
       "      <th>runtime</th>\n",
       "      <td>4450083</td>\n",
       "    </tr>\n",
       "  </tbody>\n",
       "</table>\n",
       "</div>"
      ],
      "text/plain": [
       "             package\n",
       "kind                \n",
       "Development  9285893\n",
       "Optional         136\n",
       "runtime      4450083"
      ]
     },
     "execution_count": 14,
     "metadata": {},
     "output_type": "execute_result"
    }
   ],
   "source": [
    "dep_lag.query('version_lag!=\"0,0,0\"').groupby('kind').count()[['package']]"
   ]
  },
  {
   "cell_type": "markdown",
   "metadata": {},
   "source": [
    "### Time lag"
   ]
  },
  {
   "cell_type": "code",
   "execution_count": null,
   "metadata": {},
   "outputs": [],
   "source": [
    "technical_lag['date_used_version']=pd.to_datetime(technical_lag['date_used_version'])\n",
    "technical_lag['date_last_available']=pd.to_datetime(technical_lag['date_last_available'])"
   ]
  },
  {
   "cell_type": "code",
   "execution_count": null,
   "metadata": {},
   "outputs": [],
   "source": [
    "technical_lag['time_lag']=technical_lag['date_last_available'] - technical_lag['date_used_version']"
   ]
  },
  {
   "cell_type": "code",
   "execution_count": null,
   "metadata": {},
   "outputs": [],
   "source": [
    "time_lag=technical_lag[['package','version','date','dependency','constraint','kind','constraint_type','time_lag','version_lag']]"
   ]
  },
  {
   "cell_type": "code",
   "execution_count": null,
   "metadata": {},
   "outputs": [],
   "source": [
    "time_lag['date']=pd.to_datetime(time_lag['date'])\n",
    "time_lag['time_lag']=time_lag['time_lag'].apply(lambda x : float(x.split()[0]))"
   ]
  },
  {
   "cell_type": "code",
   "execution_count": 3,
   "metadata": {},
   "outputs": [],
   "source": [
    "time_lag=time_lag[['package','version','kind','date','time_lag']]\n",
    "\n",
    "time_lag_max=time_lag.groupby(['package','version','kind','date']).agg('max').reset_index()\n",
    "len(time_lag_max)"
   ]
  },
  {
   "cell_type": "code",
   "execution_count": 4,
   "metadata": {},
   "outputs": [],
   "source": [
    "time_lag_max['date']=pd.to_datetime(time_lag_max['date'])\n",
    "time_lag_max['time_lag']=time_lag_max['time_lag'].apply(float)\n"
   ]
  },
  {
   "cell_type": "code",
   "execution_count": 5,
   "metadata": {},
   "outputs": [],
   "source": [
    "time_lag_max=time_lag_max[~time_lag_max['package'].str.startswith(exclude_prefixes)]\n",
    "time_lag_max=time_lag_max[~time_lag_max['package'].str.endswith(exclude_suffixes)]\n",
    "time_lag_max=time_lag_max[~time_lag_max['package'].str.match(exclude_ghost)]"
   ]
  },
  {
   "cell_type": "code",
   "execution_count": 40,
   "metadata": {},
   "outputs": [
    {
     "data": {
      "text/plain": [
       "MannwhitneyuResult(statistic=3528010970067.0, pvalue=0.0)"
      ]
     },
     "execution_count": 40,
     "metadata": {},
     "output_type": "execute_result"
    }
   ],
   "source": [
    "scipy.stats.mannwhitneyu(time_lag_max.query('kind==\"Development\"').time_lag,time_lag_max.query('kind==\"runtime\"').time_lag)"
   ]
  },
  {
   "cell_type": "code",
   "execution_count": 41,
   "metadata": {},
   "outputs": [
    {
     "name": "stdout",
     "output_type": "stream",
     "text": [
      "d=0.2551916795815986\n"
     ]
    },
    {
     "data": {
      "text/plain": [
       "True"
      ]
     },
     "execution_count": 41,
     "metadata": {},
     "output_type": "execute_result"
    }
   ],
   "source": [
    "cliffsDelta(time_lag_max.query('kind==\"Development\"').time_lag,time_lag_max.query('kind==\"runtime\"').time_lag)"
   ]
  },
  {
   "cell_type": "code",
   "execution_count": 42,
   "metadata": {},
   "outputs": [
    {
     "data": {
      "text/plain": [
       "163.0"
      ]
     },
     "execution_count": 42,
     "metadata": {},
     "output_type": "execute_result"
    }
   ],
   "source": [
    "time_lag_max.query('time_lag!=0').query('kind==\"runtime\"').time_lag.median()"
   ]
  },
  {
   "cell_type": "code",
   "execution_count": 43,
   "metadata": {},
   "outputs": [
    {
     "data": {
      "text/plain": [
       "203.0"
      ]
     },
     "execution_count": 43,
     "metadata": {},
     "output_type": "execute_result"
    }
   ],
   "source": [
    "time_lag_max.query('time_lag!=0').query('kind==\"Development\"').time_lag.median()"
   ]
  },
  {
   "cell_type": "code",
   "execution_count": 6,
   "metadata": {},
   "outputs": [
    {
     "data": {
      "image/png": "[encoded data removed]",
      "text/plain": [
       "<matplotlib.figure.Figure at 0x7f4eb7e72550>"
      ]
     },
     "metadata": {},
     "output_type": "display_data"
    }
   ],
   "source": [
    "fig, axes = plt.subplots(1, 2, sharex=True, sharey=True)\n",
    "fig.set_size_inches(18,3)\n",
    "for index, genre in enumerate(['runtime','Development']):\n",
    "    size=[12,20,70]\n",
    "    df_=(time_lag_max.\n",
    "         query('time_lag!=0').\n",
    "         query('kind==\"{}\"'.format(genre)).\n",
    "         groupby(pd.Grouper(key='date', freq='1M'))['time_lag'].\n",
    "         describe()[['mean', '25%', '50%', '75%']] \n",
    "        )\n",
    "    genre=genre.capitalize()\n",
    "    if genre ==\"Runtime\":\n",
    "        color=green\n",
    "    else:\n",
    "        color=blue\n",
    "\n",
    "    df_tmp=df_\n",
    "    df_tmp['50%'].rename('median').plot(ax=axes[index], color=color)\n",
    "    ax=df_tmp['mean'].plot(ax=axes[index],style=':',color=color)\n",
    "    ax.fill_between(df_tmp.index, df_tmp['25%'], df_tmp['75%'], alpha=0.2, color=color)\n",
    "\n",
    "    ax.set(\n",
    "        xlabel='',\n",
    "        ylabel='Time lag in days'.format(genre),\n",
    "        #xlim=date_period,\n",
    "        #ylim=(0,size),\n",
    "        title=genre\n",
    "    )\n",
    "    ax.legend(loc='upper left',  prop={'size': 16, 'weight':'bold'})\n",
    "fig.savefig('../../../../jsep18technicallag/figures/time_lag.tiff', bbox_inches='tight', facecolor='white')\n"
   ]
  },
  {
   "cell_type": "code",
   "execution_count": 48,
   "metadata": {},
   "outputs": [
    {
     "name": "stdout",
     "output_type": "stream",
     "text": [
      "2009 2014\n",
      "MannwhitneyuResult(statistic=11195677468.0, pvalue=1.7270718395205558e-263)\n",
      "2014 2017\n",
      "MannwhitneyuResult(statistic=1015646627891.5, pvalue=0.0)\n",
      "2017 2019\n",
      "MannwhitneyuResult(statistic=606107374294.0, pvalue=0.0)\n"
     ]
    }
   ],
   "source": [
    "for x in [['2009','2014'],['2014','2017'], ['2017','2019']]:\n",
    "    first=x[0]\n",
    "    last=x[1]\n",
    "    a=time_lag_max.query('date>\"'+first+'\" and date<\"'+last+'\"')\n",
    "    print(first,last)\n",
    "    print( scipy.stats.mannwhitneyu(a.query('kind==\"Development\"').time_lag,\n",
    "                                    a.query('kind==\"runtime\"').time_lag))"
   ]
  },
  {
   "cell_type": "code",
   "execution_count": 49,
   "metadata": {},
   "outputs": [
    {
     "name": "stdout",
     "output_type": "stream",
     "text": [
      "2009 2014\n",
      "d=0.06340676240181667\n",
      "False\n",
      "2014 2017\n",
      "d=0.18943461687749363\n",
      "True\n",
      "2017 2019\n",
      "d=0.34323550200213554\n",
      "True\n"
     ]
    }
   ],
   "source": [
    "for x in [['2009','2014'],['2014','2017'], ['2017','2019']]:\n",
    "    first=x[0]\n",
    "    last=x[1]\n",
    "    a=time_lag_max.query('date>\"'+first+'\" and date<\"'+last+'\"')\n",
    "    print(first,last)\n",
    "    print(cliffsDelta(a.query('kind==\"Development\"').time_lag,\n",
    "                                    a.query('kind==\"runtime\"').time_lag))"
   ]
  },
  {
   "cell_type": "markdown",
   "metadata": {},
   "source": [
    "### Version lag"
   ]
  },
  {
   "cell_type": "code",
   "execution_count": null,
   "metadata": {},
   "outputs": [],
   "source": [
    "version_lag_sum=technical_lag.query('version_lag_number!=0')[['package','version','version_lag','date','kind']]\n",
    "len(version_lag_sum)/len(technical_lag)"
   ]
  },
  {
   "cell_type": "code",
   "execution_count": null,
   "metadata": {},
   "outputs": [],
   "source": [
    "version_lag_sum=(version_lag_sum.\n",
    "                 assign(version_major=lambda d: d['version_lag'].apply(lambda x: int(x.split(',')[0])) ).\n",
    "                 assign(version_minor=lambda d: d['version_lag'].apply(lambda x: int(x.split(',')[1]))  ).\n",
    "                 assign(version_patch=lambda d: d['version_lag'].apply(lambda x: int(x.split(',')[2])) )\n",
    "                )\n",
    "                 "
   ]
  },
  {
   "cell_type": "code",
   "execution_count": null,
   "metadata": {},
   "outputs": [],
   "source": [
    "version_lag_sum.drop('version_lag', axis=1, inplace=True)"
   ]
  },
  {
   "cell_type": "code",
   "execution_count": null,
   "metadata": {},
   "outputs": [],
   "source": [
    "version_lag_sum=version_lag_sum.groupby(['package','version','date','kind']).agg('sum')\n",
    "version_lag_sum.reset_index(inplace=True)"
   ]
  },
  {
   "cell_type": "code",
   "execution_count": 10,
   "metadata": {},
   "outputs": [
    {
     "data": {
      "text/html": [
       "<div>\n",
       "<style scoped>\n",
       "    .dataframe tbody tr th:only-of-type {\n",
       "        vertical-align: middle;\n",
       "    }\n",
       "\n",
       "    .dataframe tbody tr th {\n",
       "        vertical-align: top;\n",
       "    }\n",
       "\n",
       "    .dataframe thead th {\n",
       "        text-align: right;\n",
       "    }\n",
       "</style>\n",
       "<table border=\"1\" class=\"dataframe\">\n",
       "  <thead>\n",
       "    <tr style=\"text-align: right;\">\n",
       "      <th></th>\n",
       "      <th>package</th>\n",
       "      <th>version</th>\n",
       "      <th>date</th>\n",
       "      <th>kind</th>\n",
       "      <th>Major</th>\n",
       "      <th>Minor</th>\n",
       "      <th>Patch</th>\n",
       "    </tr>\n",
       "  </thead>\n",
       "  <tbody>\n",
       "    <tr>\n",
       "      <th>0</th>\n",
       "      <td>0-</td>\n",
       "      <td>0.0.1</td>\n",
       "      <td>2017-03-06</td>\n",
       "      <td>Development</td>\n",
       "      <td>4.0</td>\n",
       "      <td>4.0</td>\n",
       "      <td>13.0</td>\n",
       "    </tr>\n",
       "    <tr>\n",
       "      <th>1</th>\n",
       "      <td>0-9</td>\n",
       "      <td>0.0.1</td>\n",
       "      <td>2017-03-06</td>\n",
       "      <td>Development</td>\n",
       "      <td>4.0</td>\n",
       "      <td>4.0</td>\n",
       "      <td>13.0</td>\n",
       "    </tr>\n",
       "  </tbody>\n",
       "</table>\n",
       "</div>"
      ],
      "text/plain": [
       "  package version       date         kind  Major  Minor  Patch\n",
       "0      0-   0.0.1 2017-03-06  Development    4.0    4.0   13.0\n",
       "1     0-9   0.0.1 2017-03-06  Development    4.0    4.0   13.0"
      ]
     },
     "execution_count": 10,
     "metadata": {},
     "output_type": "execute_result"
    }
   ],
   "source": [
    "version_lag_sum['date']=pd.to_datetime(version_lag_sum['date'])\n",
    "version_lag_sum.rename(columns={'version_major':'Major','version_minor':'Minor','version_patch':'Patch'}, inplace=True)\n",
    "for x in ['Minor','Patch','Major']:\n",
    "    version_lag_sum[x]=version_lag_sum[x].apply(float)\n",
    "version_lag_sum['kind']=version_lag_sum['kind'].apply(lambda x: x.capitalize())\n",
    "version_lag_sum.head(2)"
   ]
  },
  {
   "cell_type": "code",
   "execution_count": 11,
   "metadata": {},
   "outputs": [],
   "source": [
    "version_lag_sum=version_lag_sum[~version_lag_sum['package'].str.startswith(exclude_prefixes)]\n",
    "version_lag_sum=version_lag_sum[~version_lag_sum['package'].str.endswith(exclude_suffixes)]\n",
    "version_lag_sum=version_lag_sum[~version_lag_sum['package'].str.match(exclude_ghost)]"
   ]
  },
  {
   "cell_type": "code",
   "execution_count": 12,
   "metadata": {},
   "outputs": [
    {
     "name": "stdout",
     "output_type": "stream",
     "text": [
      "Development\n",
      "2.0 2.0 10.0\n",
      "Runtime\n",
      "1.0 1.0 4.0\n"
     ]
    }
   ],
   "source": [
    "for kind in ['Development','Runtime']:\n",
    "    dd=version_lag_sum.query('kind==\"'+kind+'\"')\n",
    "    print(kind)\n",
    "    print(dd.Major.median(),dd.Minor.median(),dd.Patch.median())"
   ]
  },
  {
   "cell_type": "code",
   "execution_count": 15,
   "metadata": {},
   "outputs": [
    {
     "data": {
      "image/png": "[encoded data removed]",
      "text/plain": [
       "<matplotlib.figure.Figure at 0x7f4e5e14d2e8>"
      ]
     },
     "metadata": {},
     "output_type": "display_data"
    }
   ],
   "source": [
    "fig, axes = plt.subplots(3, 2, sharex=True, sharey=False)\n",
    "fig.set_size_inches(18,8)\n",
    "for index, genre in enumerate(['Runtime','Development']):\n",
    "    size=[12,20,70]\n",
    "    dfs={}\n",
    "    for x in ['Patch','Minor','Major']:\n",
    "        dfs[x]=(version_lag_sum.query('kind==\"{}\"'.format(genre)).\n",
    "                groupby(pd.Grouper(key='date', freq='1M'))[x].\n",
    "                describe()[['mean', '25%', '50%', '75%']] \n",
    "               )\n",
    "\n",
    "    colors={}\n",
    "    colors['Patch']='orange'\n",
    "    colors['Minor']='r'\n",
    "    colors['Major']='gray'\n",
    "\n",
    "\n",
    "    for i, x in enumerate(['Major','Minor','Patch']):\n",
    "        #fig, ax = plt.subplots()\n",
    "        df_tmp=dfs[x]\n",
    "        df_tmp['50%'].rename('median').plot(ax=axes[i][index], color=colors[x])\n",
    "        df_tmp['mean'].plot(style=':',ax=axes[i][index], color=colors[x])\n",
    "        axes[i][index].fill_between(df_tmp.index, df_tmp['25%'], df_tmp['75%'], color=colors[x], alpha=0.2)\n",
    "\n",
    "        axes[i][index].set(\n",
    "            xlabel='',\n",
    "            ylabel='{} \\n version lag'.format(x),\n",
    "            xlim=date_period,\n",
    "            ylim=(0,size[i]),\n",
    "        )\n",
    "        if i == 0:\n",
    "            axes[i][index].set(title=genre)\n",
    "        if index==1:\n",
    "            axes[i][index].set(ylabel='')\n",
    "\n",
    "        axes[i][index].legend(loc='upper left',  prop={'size': 16, 'weight':'bold'})\n",
    "\n",
    "fig.savefig('../../../../jsep18technicallag/figures/version_lag.tiff', bbox_inches='tight', facecolor='white')"
   ]
  },
  {
   "cell_type": "markdown",
   "metadata": {},
   "source": [
    "# Remove O.y.z"
   ]
  },
  {
   "cell_type": "code",
   "execution_count": 110,
   "metadata": {},
   "outputs": [
    {
     "data": {
      "text/plain": [
       "0.19322459239474268"
      ]
     },
     "execution_count": 110,
     "metadata": {},
     "output_type": "execute_result"
    }
   ],
   "source": [
    "version_lag_sum=technical_lag.query('version_lag!=\"0,0,0\"').query('constraint_type!=\"strict\"')\n",
    "len(version_lag_sum)/len(technical_lag)"
   ]
  },
  {
   "cell_type": "code",
   "execution_count": 111,
   "metadata": {},
   "outputs": [],
   "source": [
    "version_lag_sum['zero']=version_lag_sum['used_version'].apply(lambda x: 'True' if x.split('.')[0]==\"0\"\n",
    "                                                             else 'False')"
   ]
  },
  {
   "cell_type": "code",
   "execution_count": 112,
   "metadata": {},
   "outputs": [],
   "source": [
    "version_lag_sum=version_lag_sum.query('zero==\"False\"')[['package','version','version_lag','date','kind']]\n"
   ]
  },
  {
   "cell_type": "code",
   "execution_count": 113,
   "metadata": {},
   "outputs": [],
   "source": [
    "version_lag_sum=(version_lag_sum.\n",
    "                 assign(version_major=lambda d: d['version_lag'].apply(lambda x: int(x.split(',')[0])) ).\n",
    "                 assign(version_minor=lambda d: d['version_lag'].apply(lambda x: int(x.split(',')[1]))  ).\n",
    "                 assign(version_patch=lambda d: d['version_lag'].apply(lambda x: int(x.split(',')[2])) )\n",
    "                )\n",
    "                 "
   ]
  },
  {
   "cell_type": "code",
   "execution_count": 114,
   "metadata": {},
   "outputs": [],
   "source": [
    "version_lag_sum.drop(['version_lag'], axis=1, inplace=True)"
   ]
  },
  {
   "cell_type": "code",
   "execution_count": 115,
   "metadata": {},
   "outputs": [],
   "source": [
    "version_lag_sum=version_lag_sum.groupby(['package','version','date','kind']).agg('sum')\n",
    "version_lag_sum.reset_index(inplace=True)"
   ]
  },
  {
   "cell_type": "code",
   "execution_count": 116,
   "metadata": {},
   "outputs": [],
   "source": [
    "#version_lag_sum.to_csv('../../../jsep2018/csv/packages/ready/version_lag_sum_zeros.csv', index=False, sep=\";\")\n"
   ]
  },
  {
   "cell_type": "code",
   "execution_count": 117,
   "metadata": {},
   "outputs": [
    {
     "data": {
      "text/html": [
       "<div>\n",
       "<style scoped>\n",
       "    .dataframe tbody tr th:only-of-type {\n",
       "        vertical-align: middle;\n",
       "    }\n",
       "\n",
       "    .dataframe tbody tr th {\n",
       "        vertical-align: top;\n",
       "    }\n",
       "\n",
       "    .dataframe thead th {\n",
       "        text-align: right;\n",
       "    }\n",
       "</style>\n",
       "<table border=\"1\" class=\"dataframe\">\n",
       "  <thead>\n",
       "    <tr style=\"text-align: right;\">\n",
       "      <th></th>\n",
       "      <th>package</th>\n",
       "      <th>version</th>\n",
       "      <th>date</th>\n",
       "      <th>kind</th>\n",
       "      <th>Major</th>\n",
       "      <th>Minor</th>\n",
       "      <th>Patch</th>\n",
       "    </tr>\n",
       "  </thead>\n",
       "  <tbody>\n",
       "    <tr>\n",
       "      <th>0</th>\n",
       "      <td>0-</td>\n",
       "      <td>0.0.1</td>\n",
       "      <td>2017-03-06</td>\n",
       "      <td>Development</td>\n",
       "      <td>4.0</td>\n",
       "      <td>4.0</td>\n",
       "      <td>13.0</td>\n",
       "    </tr>\n",
       "    <tr>\n",
       "      <th>1</th>\n",
       "      <td>0-9</td>\n",
       "      <td>0.0.1</td>\n",
       "      <td>2017-03-06</td>\n",
       "      <td>Development</td>\n",
       "      <td>4.0</td>\n",
       "      <td>4.0</td>\n",
       "      <td>13.0</td>\n",
       "    </tr>\n",
       "  </tbody>\n",
       "</table>\n",
       "</div>"
      ],
      "text/plain": [
       "  package version       date         kind  Major  Minor  Patch\n",
       "0      0-   0.0.1 2017-03-06  Development    4.0    4.0   13.0\n",
       "1     0-9   0.0.1 2017-03-06  Development    4.0    4.0   13.0"
      ]
     },
     "execution_count": 117,
     "metadata": {},
     "output_type": "execute_result"
    }
   ],
   "source": [
    "#version_lag_sum_zeros=pd.read_csv('../../../jsep2018/csv/packages/ready/version_lag_sum_zeros.csv', sep=';', dtype=object, index_col=None,  error_bad_lines=False)\n",
    "\n",
    "version_lag_sum_zeros['date']=pd.to_datetime(version_lag_sum_zeros['date'])\n",
    "version_lag_sum_zeros.rename(columns={'version_major':'Major','version_minor':'Minor','version_patch':'Patch'}, inplace=True)\n",
    "for x in ['Minor','Patch','Major']:\n",
    "    version_lag_sum_zeros[x]=version_lag_sum_zeros[x].apply(float)\n",
    "version_lag_sum_zeros['kind']=version_lag_sum_zeros['kind'].apply(lambda x: x.capitalize())\n",
    "version_lag_sum_zeros.head(2)"
   ]
  },
  {
   "cell_type": "code",
   "execution_count": 118,
   "metadata": {},
   "outputs": [
    {
     "data": {
      "image/png": "[encoded data removed]",
      "text/plain": [
       "<matplotlib.figure.Figure at 0x7f5dfdb492b0>"
      ]
     },
     "metadata": {},
     "output_type": "display_data"
    }
   ],
   "source": [
    "fig, axes = plt.subplots(3, 2, sharex=True, sharey=False)\n",
    "fig.set_size_inches(18,8)\n",
    "for index, genre in enumerate(['Runtime','Development']):\n",
    "    size=[12,20,70]\n",
    "    dfs={}\n",
    "    for x in ['Patch','Minor','Major']:\n",
    "        dfs[x]=(version_lag_sum_zeros.query('kind==\"{}\"'.format(genre)).\n",
    "                groupby(pd.Grouper(key='date', freq='1M'))[x].\n",
    "                describe()[['mean', '25%', '50%', '75%']] \n",
    "               )\n",
    "\n",
    "    colors={}\n",
    "    colors['Patch']='orange'\n",
    "    colors['Minor']='r'\n",
    "    colors['Major']='gray'\n",
    "\n",
    "\n",
    "    for i, x in enumerate(['Major','Minor','Patch']):\n",
    "        #fig, ax = plt.subplots()\n",
    "        df_tmp=dfs[x]\n",
    "        df_tmp['50%'].rename('median').plot(ax=axes[i][index], color=colors[x])\n",
    "        df_tmp['mean'].plot(style=':',ax=axes[i][index], color=colors[x])\n",
    "        axes[i][index].fill_between(df_tmp.index, df_tmp['25%'], df_tmp['75%'], color=colors[x], alpha=0.2)\n",
    "\n",
    "        axes[i][index].set(\n",
    "            xlabel='',\n",
    "            ylabel='{} \\n version lag'.format(x),\n",
    "            xlim=date_period,\n",
    "            ylim=(0,size[i]),\n",
    "        )\n",
    "        if i == 0:\n",
    "            axes[i][index].set(title=genre)\n",
    "        if index==1:\n",
    "            axes[i][index].set(ylabel='')\n",
    "\n",
    "        axes[i][index].legend(loc='upper left',  prop={'size': 16, 'weight':'bold'})\n",
    "\n",
    "#fig.savefig('../../../../jsep18technicallag/figures/version_lag_no_caret.png', bbox_inches='tight', facecolor='white')"
   ]
  },
  {
   "cell_type": "markdown",
   "metadata": {},
   "source": [
    "# RQ2"
   ]
  },
  {
   "cell_type": "code",
   "execution_count": 43,
   "metadata": {},
   "outputs": [
    {
     "data": {
      "text/plain": [
       "0.2714275796604112"
      ]
     },
     "execution_count": 43,
     "metadata": {},
     "output_type": "execute_result"
    }
   ],
   "source": [
    "technical_lag_outdated=technical_lag.query('version_lag!=\"0,0,0\"').query('constraint_type!=\"latest\"')\n",
    "len(technical_lag_outdated)/len(technical_lag)"
   ]
  },
  {
   "cell_type": "code",
   "execution_count": 44,
   "metadata": {},
   "outputs": [],
   "source": [
    "df_tmp=technical_lag_outdated.groupby(['constraint_type','kind']).count()[['package']].reset_index()"
   ]
  },
  {
   "cell_type": "code",
   "execution_count": 15,
   "metadata": {},
   "outputs": [
    {
     "data": {
      "text/html": [
       "<div>\n",
       "<style scoped>\n",
       "    .dataframe tbody tr th:only-of-type {\n",
       "        vertical-align: middle;\n",
       "    }\n",
       "\n",
       "    .dataframe tbody tr th {\n",
       "        vertical-align: top;\n",
       "    }\n",
       "\n",
       "    .dataframe thead th {\n",
       "        text-align: right;\n",
       "    }\n",
       "</style>\n",
       "<table border=\"1\" class=\"dataframe\">\n",
       "  <thead>\n",
       "    <tr style=\"text-align: right;\">\n",
       "      <th></th>\n",
       "      <th>constraint_type</th>\n",
       "      <th>kind</th>\n",
       "      <th>package</th>\n",
       "    </tr>\n",
       "  </thead>\n",
       "  <tbody>\n",
       "    <tr>\n",
       "      <th>0</th>\n",
       "      <td>caret</td>\n",
       "      <td>Development</td>\n",
       "      <td>5738738</td>\n",
       "    </tr>\n",
       "    <tr>\n",
       "      <th>1</th>\n",
       "      <td>caret</td>\n",
       "      <td>Runtime</td>\n",
       "      <td>2083587</td>\n",
       "    </tr>\n",
       "    <tr>\n",
       "      <th>2</th>\n",
       "      <td>other</td>\n",
       "      <td>Development</td>\n",
       "      <td>220269</td>\n",
       "    </tr>\n",
       "    <tr>\n",
       "      <th>3</th>\n",
       "      <td>other</td>\n",
       "      <td>Runtime</td>\n",
       "      <td>206811</td>\n",
       "    </tr>\n",
       "    <tr>\n",
       "      <th>4</th>\n",
       "      <td>strict</td>\n",
       "      <td>Development</td>\n",
       "      <td>2363019</td>\n",
       "    </tr>\n",
       "    <tr>\n",
       "      <th>5</th>\n",
       "      <td>strict</td>\n",
       "      <td>Runtime</td>\n",
       "      <td>1614838</td>\n",
       "    </tr>\n",
       "    <tr>\n",
       "      <th>6</th>\n",
       "      <td>tilde</td>\n",
       "      <td>Development</td>\n",
       "      <td>947727</td>\n",
       "    </tr>\n",
       "    <tr>\n",
       "      <th>7</th>\n",
       "      <td>tilde</td>\n",
       "      <td>Runtime</td>\n",
       "      <td>532493</td>\n",
       "    </tr>\n",
       "  </tbody>\n",
       "</table>\n",
       "</div>"
      ],
      "text/plain": [
       "  constraint_type         kind  package\n",
       "0           caret  Development  5738738\n",
       "1           caret      Runtime  2083587\n",
       "2           other  Development   220269\n",
       "3           other      Runtime   206811\n",
       "4          strict  Development  2363019\n",
       "5          strict      Runtime  1614838\n",
       "6           tilde  Development   947727\n",
       "7           tilde      Runtime   532493"
      ]
     },
     "execution_count": 15,
     "metadata": {},
     "output_type": "execute_result"
    }
   ],
   "source": [
    "l=len(technical_lag_outdated)\n",
    "df_tmp"
   ]
  },
  {
   "cell_type": "code",
   "execution_count": 8,
   "metadata": {},
   "outputs": [
    {
     "data": {
      "text/html": [
       "<div>\n",
       "<style scoped>\n",
       "    .dataframe tbody tr th:only-of-type {\n",
       "        vertical-align: middle;\n",
       "    }\n",
       "\n",
       "    .dataframe tbody tr th {\n",
       "        vertical-align: top;\n",
       "    }\n",
       "\n",
       "    .dataframe thead th {\n",
       "        text-align: right;\n",
       "    }\n",
       "</style>\n",
       "<table border=\"1\" class=\"dataframe\">\n",
       "  <thead>\n",
       "    <tr style=\"text-align: right;\">\n",
       "      <th></th>\n",
       "      <th>package</th>\n",
       "    </tr>\n",
       "    <tr>\n",
       "      <th>kind</th>\n",
       "      <th></th>\n",
       "    </tr>\n",
       "  </thead>\n",
       "  <tbody>\n",
       "    <tr>\n",
       "      <th>Development</th>\n",
       "      <td>29177546</td>\n",
       "    </tr>\n",
       "    <tr>\n",
       "      <th>Runtime</th>\n",
       "      <td>21323888</td>\n",
       "    </tr>\n",
       "  </tbody>\n",
       "</table>\n",
       "</div>"
      ],
      "text/plain": [
       "              package\n",
       "kind                 \n",
       "Development  29177546\n",
       "Runtime      21323888"
      ]
     },
     "execution_count": 8,
     "metadata": {},
     "output_type": "execute_result"
    }
   ],
   "source": [
    "df_tmp.groupby('kind').sum()"
   ]
  },
  {
   "cell_type": "code",
   "execution_count": 9,
   "metadata": {},
   "outputs": [
    {
     "data": {
      "text/html": [
       "<div>\n",
       "<style scoped>\n",
       "    .dataframe tbody tr th:only-of-type {\n",
       "        vertical-align: middle;\n",
       "    }\n",
       "\n",
       "    .dataframe tbody tr th {\n",
       "        vertical-align: top;\n",
       "    }\n",
       "\n",
       "    .dataframe thead th {\n",
       "        text-align: right;\n",
       "    }\n",
       "</style>\n",
       "<table border=\"1\" class=\"dataframe\">\n",
       "  <thead>\n",
       "    <tr style=\"text-align: right;\">\n",
       "      <th></th>\n",
       "      <th>package</th>\n",
       "    </tr>\n",
       "    <tr>\n",
       "      <th>constraint_type</th>\n",
       "      <th></th>\n",
       "    </tr>\n",
       "  </thead>\n",
       "  <tbody>\n",
       "    <tr>\n",
       "      <th>caret</th>\n",
       "      <td>36001247</td>\n",
       "    </tr>\n",
       "    <tr>\n",
       "      <th>latest</th>\n",
       "      <td>983726</td>\n",
       "    </tr>\n",
       "    <tr>\n",
       "      <th>other</th>\n",
       "      <td>1734783</td>\n",
       "    </tr>\n",
       "    <tr>\n",
       "      <th>strict</th>\n",
       "      <td>8130756</td>\n",
       "    </tr>\n",
       "    <tr>\n",
       "      <th>tilde</th>\n",
       "      <td>3650922</td>\n",
       "    </tr>\n",
       "  </tbody>\n",
       "</table>\n",
       "</div>"
      ],
      "text/plain": [
       "                  package\n",
       "constraint_type          \n",
       "caret            36001247\n",
       "latest             983726\n",
       "other             1734783\n",
       "strict            8130756\n",
       "tilde             3650922"
      ]
     },
     "execution_count": 9,
     "metadata": {},
     "output_type": "execute_result"
    }
   ],
   "source": [
    "df_tmp.groupby('constraint_type').sum()/l"
   ]
  },
  {
   "cell_type": "code",
   "execution_count": 9,
   "metadata": {},
   "outputs": [
    {
     "data": {
      "text/html": [
       "<div>\n",
       "<style scoped>\n",
       "    .dataframe tbody tr th:only-of-type {\n",
       "        vertical-align: middle;\n",
       "    }\n",
       "\n",
       "    .dataframe tbody tr th {\n",
       "        vertical-align: top;\n",
       "    }\n",
       "\n",
       "    .dataframe thead th {\n",
       "        text-align: right;\n",
       "    }\n",
       "</style>\n",
       "<table border=\"1\" class=\"dataframe\">\n",
       "  <thead>\n",
       "    <tr style=\"text-align: right;\">\n",
       "      <th></th>\n",
       "      <th>date</th>\n",
       "      <th>package</th>\n",
       "      <th>kind</th>\n",
       "      <th>version_lag</th>\n",
       "      <th>constraint_type</th>\n",
       "    </tr>\n",
       "  </thead>\n",
       "  <tbody>\n",
       "    <tr>\n",
       "      <th>0</th>\n",
       "      <td>2015-11-11</td>\n",
       "      <td>shaybagants-test</td>\n",
       "      <td>Runtime</td>\n",
       "      <td>0,0,0</td>\n",
       "      <td>latest</td>\n",
       "    </tr>\n",
       "    <tr>\n",
       "      <th>1</th>\n",
       "      <td>2015-11-11</td>\n",
       "      <td>shaybagants-test</td>\n",
       "      <td>Runtime</td>\n",
       "      <td>0,0,0</td>\n",
       "      <td>latest</td>\n",
       "    </tr>\n",
       "    <tr>\n",
       "      <th>2</th>\n",
       "      <td>2015-11-11</td>\n",
       "      <td>shaybagants-test</td>\n",
       "      <td>Runtime</td>\n",
       "      <td>0,0,0</td>\n",
       "      <td>latest</td>\n",
       "    </tr>\n",
       "    <tr>\n",
       "      <th>3</th>\n",
       "      <td>2015-11-11</td>\n",
       "      <td>shaybagants-test</td>\n",
       "      <td>Runtime</td>\n",
       "      <td>0,0,0</td>\n",
       "      <td>latest</td>\n",
       "    </tr>\n",
       "    <tr>\n",
       "      <th>4</th>\n",
       "      <td>2016-03-30</td>\n",
       "      <td>all-packages</td>\n",
       "      <td>Runtime</td>\n",
       "      <td>0,0,0</td>\n",
       "      <td>latest</td>\n",
       "    </tr>\n",
       "  </tbody>\n",
       "</table>\n",
       "</div>"
      ],
      "text/plain": [
       "         date           package     kind version_lag constraint_type\n",
       "0  2015-11-11  shaybagants-test  Runtime       0,0,0          latest\n",
       "1  2015-11-11  shaybagants-test  Runtime       0,0,0          latest\n",
       "2  2015-11-11  shaybagants-test  Runtime       0,0,0          latest\n",
       "3  2015-11-11  shaybagants-test  Runtime       0,0,0          latest\n",
       "4  2016-03-30      all-packages  Runtime       0,0,0          latest"
      ]
     },
     "execution_count": 9,
     "metadata": {},
     "output_type": "execute_result"
    }
   ],
   "source": [
    "technical_lag.head()"
   ]
  },
  {
   "cell_type": "code",
   "execution_count": 23,
   "metadata": {},
   "outputs": [
    {
     "data": {
      "text/html": [
       "<div>\n",
       "<style scoped>\n",
       "    .dataframe tbody tr th:only-of-type {\n",
       "        vertical-align: middle;\n",
       "    }\n",
       "\n",
       "    .dataframe tbody tr th {\n",
       "        vertical-align: top;\n",
       "    }\n",
       "\n",
       "    .dataframe thead th {\n",
       "        text-align: right;\n",
       "    }\n",
       "</style>\n",
       "<table border=\"1\" class=\"dataframe\">\n",
       "  <thead>\n",
       "    <tr style=\"text-align: right;\">\n",
       "      <th></th>\n",
       "      <th>package</th>\n",
       "    </tr>\n",
       "    <tr>\n",
       "      <th>constraint_type</th>\n",
       "      <th></th>\n",
       "    </tr>\n",
       "  </thead>\n",
       "  <tbody>\n",
       "    <tr>\n",
       "      <th>caret</th>\n",
       "      <td>57.066097</td>\n",
       "    </tr>\n",
       "    <tr>\n",
       "      <th>other</th>\n",
       "      <td>3.115671</td>\n",
       "    </tr>\n",
       "    <tr>\n",
       "      <th>strict</th>\n",
       "      <td>29.019604</td>\n",
       "    </tr>\n",
       "    <tr>\n",
       "      <th>tilde</th>\n",
       "      <td>10.798628</td>\n",
       "    </tr>\n",
       "  </tbody>\n",
       "</table>\n",
       "</div>"
      ],
      "text/plain": [
       "                   package\n",
       "constraint_type           \n",
       "caret            57.066097\n",
       "other             3.115671\n",
       "strict           29.019604\n",
       "tilde            10.798628"
      ]
     },
     "execution_count": 23,
     "metadata": {},
     "output_type": "execute_result"
    }
   ],
   "source": [
    "df_tmp.groupby('constraint_type').sum()"
   ]
  },
  {
   "cell_type": "code",
   "execution_count": 45,
   "metadata": {},
   "outputs": [],
   "source": [
    "l=float(len(technical_lag_outdated))\n",
    "df_tmp['package']=df_tmp['package'].apply(lambda x: x*100.0/l)"
   ]
  },
  {
   "cell_type": "code",
   "execution_count": 51,
   "metadata": {},
   "outputs": [
    {
     "data": {
      "image/png": "[encoded data removed]",
      "text/plain": [
       "<matplotlib.figure.Figure at 0x7f4c78d3cf28>"
      ]
     },
     "metadata": {},
     "output_type": "display_data"
    }
   ],
   "source": [
    "ax = sns.barplot(x=\"kind\", y=\"package\", hue=\"constraint_type\", palette=[blue,\"purple\",'y','#ff7f0e'], data=df_tmp,\n",
    "                hue_order=['caret','strict','tilde','other'],\n",
    "                order=['Runtime','Development'])\n",
    "ax.figure.set_size_inches(12,3)\n",
    "ax.set_xlabel('Constraint type')\n",
    "ax.set_ylabel('Dependencies \\%')\n",
    "for patch in ax.patches:\n",
    "    patch.set_edgecolor('black')\n",
    "ax.legend( loc='upper right', bbox_to_anchor=(1, 1), fontsize=20)#,ncol=3)#, fancybox=True, shadow=True)\n",
    "ax.figure.savefig('/home/neglectos/Desktop/jsep18technicallag/figures/constraints_lag.eps', bbox_inches='tight', facecolor='white')"
   ]
  },
  {
   "cell_type": "markdown",
   "metadata": {},
   "source": [
    "#### constraints evolution"
   ]
  },
  {
   "cell_type": "code",
   "execution_count": 20,
   "metadata": {},
   "outputs": [
    {
     "data": {
      "text/html": [
       "<div>\n",
       "<style scoped>\n",
       "    .dataframe tbody tr th:only-of-type {\n",
       "        vertical-align: middle;\n",
       "    }\n",
       "\n",
       "    .dataframe tbody tr th {\n",
       "        vertical-align: top;\n",
       "    }\n",
       "\n",
       "    .dataframe thead th {\n",
       "        text-align: right;\n",
       "    }\n",
       "</style>\n",
       "<table border=\"1\" class=\"dataframe\">\n",
       "  <thead>\n",
       "    <tr style=\"text-align: right;\">\n",
       "      <th></th>\n",
       "      <th>date</th>\n",
       "      <th>package</th>\n",
       "      <th>kind</th>\n",
       "      <th>constraint_type</th>\n",
       "    </tr>\n",
       "  </thead>\n",
       "  <tbody>\n",
       "    <tr>\n",
       "      <th>0</th>\n",
       "      <td>2015-11-11</td>\n",
       "      <td>shaybagants-test</td>\n",
       "      <td>Runtime</td>\n",
       "      <td>latest</td>\n",
       "    </tr>\n",
       "    <tr>\n",
       "      <th>1</th>\n",
       "      <td>2015-11-11</td>\n",
       "      <td>shaybagants-test</td>\n",
       "      <td>Runtime</td>\n",
       "      <td>latest</td>\n",
       "    </tr>\n",
       "    <tr>\n",
       "      <th>2</th>\n",
       "      <td>2015-11-11</td>\n",
       "      <td>shaybagants-test</td>\n",
       "      <td>Runtime</td>\n",
       "      <td>latest</td>\n",
       "    </tr>\n",
       "    <tr>\n",
       "      <th>3</th>\n",
       "      <td>2015-11-11</td>\n",
       "      <td>shaybagants-test</td>\n",
       "      <td>Runtime</td>\n",
       "      <td>latest</td>\n",
       "    </tr>\n",
       "    <tr>\n",
       "      <th>4</th>\n",
       "      <td>2016-03-30</td>\n",
       "      <td>all-packages</td>\n",
       "      <td>Runtime</td>\n",
       "      <td>latest</td>\n",
       "    </tr>\n",
       "  </tbody>\n",
       "</table>\n",
       "</div>"
      ],
      "text/plain": [
       "         date           package     kind constraint_type\n",
       "0  2015-11-11  shaybagants-test  Runtime          latest\n",
       "1  2015-11-11  shaybagants-test  Runtime          latest\n",
       "2  2015-11-11  shaybagants-test  Runtime          latest\n",
       "3  2015-11-11  shaybagants-test  Runtime          latest\n",
       "4  2016-03-30      all-packages  Runtime          latest"
      ]
     },
     "execution_count": 20,
     "metadata": {},
     "output_type": "execute_result"
    }
   ],
   "source": [
    "technical_lag.head()"
   ]
  },
  {
   "cell_type": "code",
   "execution_count": 21,
   "metadata": {},
   "outputs": [],
   "source": [
    "df_tmp_orig=technical_lag[['package','constraint_type','kind','date']]\n",
    "df_tmp_orig['date']=df_tmp_orig['date'].apply(lambda x: x.split('-')[0]+'-'+x.split('-')[1])"
   ]
  },
  {
   "cell_type": "code",
   "execution_count": 22,
   "metadata": {},
   "outputs": [],
   "source": [
    "df_tmp=(df_tmp_orig.groupby(['constraint_type','kind','date']).count().\n",
    "        reset_index().\n",
    "        merge(df_tmp_orig[['kind','date','package']].groupby(['kind','date']).count().reset_index(),\n",
    "              left_on=\"date\",\n",
    "              right_on='date',\n",
    "              how=\"left\")\n",
    "       )"
   ]
  },
  {
   "cell_type": "code",
   "execution_count": 43,
   "metadata": {},
   "outputs": [
    {
     "data": {
      "text/html": [
       "<div>\n",
       "<style scoped>\n",
       "    .dataframe tbody tr th:only-of-type {\n",
       "        vertical-align: middle;\n",
       "    }\n",
       "\n",
       "    .dataframe tbody tr th {\n",
       "        vertical-align: top;\n",
       "    }\n",
       "\n",
       "    .dataframe thead th {\n",
       "        text-align: right;\n",
       "    }\n",
       "</style>\n",
       "<table border=\"1\" class=\"dataframe\">\n",
       "  <thead>\n",
       "    <tr style=\"text-align: right;\">\n",
       "      <th></th>\n",
       "      <th>constraint_type</th>\n",
       "      <th>kind_x</th>\n",
       "      <th>date</th>\n",
       "      <th>package_x</th>\n",
       "      <th>kind_y</th>\n",
       "      <th>package_y</th>\n",
       "    </tr>\n",
       "  </thead>\n",
       "  <tbody>\n",
       "    <tr>\n",
       "      <th>0</th>\n",
       "      <td>caret</td>\n",
       "      <td>Development</td>\n",
       "      <td>2013-08</td>\n",
       "      <td>60</td>\n",
       "      <td>Development</td>\n",
       "      <td>35038</td>\n",
       "    </tr>\n",
       "    <tr>\n",
       "      <th>1</th>\n",
       "      <td>caret</td>\n",
       "      <td>Development</td>\n",
       "      <td>2013-08</td>\n",
       "      <td>60</td>\n",
       "      <td>Runtime</td>\n",
       "      <td>47650</td>\n",
       "    </tr>\n",
       "    <tr>\n",
       "      <th>2</th>\n",
       "      <td>caret</td>\n",
       "      <td>Development</td>\n",
       "      <td>2013-09</td>\n",
       "      <td>31</td>\n",
       "      <td>Development</td>\n",
       "      <td>36968</td>\n",
       "    </tr>\n",
       "    <tr>\n",
       "      <th>3</th>\n",
       "      <td>caret</td>\n",
       "      <td>Development</td>\n",
       "      <td>2013-09</td>\n",
       "      <td>31</td>\n",
       "      <td>Runtime</td>\n",
       "      <td>53677</td>\n",
       "    </tr>\n",
       "    <tr>\n",
       "      <th>4</th>\n",
       "      <td>caret</td>\n",
       "      <td>Development</td>\n",
       "      <td>2013-10</td>\n",
       "      <td>101</td>\n",
       "      <td>Development</td>\n",
       "      <td>39893</td>\n",
       "    </tr>\n",
       "  </tbody>\n",
       "</table>\n",
       "</div>"
      ],
      "text/plain": [
       "  constraint_type       kind_x     date  package_x       kind_y  package_y\n",
       "0           caret  Development  2013-08         60  Development      35038\n",
       "1           caret  Development  2013-08         60      Runtime      47650\n",
       "2           caret  Development  2013-09         31  Development      36968\n",
       "3           caret  Development  2013-09         31      Runtime      53677\n",
       "4           caret  Development  2013-10        101  Development      39893"
      ]
     },
     "execution_count": 43,
     "metadata": {},
     "output_type": "execute_result"
    }
   ],
   "source": [
    "df_tmp.head()"
   ]
  },
  {
   "cell_type": "code",
   "execution_count": 23,
   "metadata": {},
   "outputs": [
    {
     "data": {
      "text/html": [
       "<div>\n",
       "<style scoped>\n",
       "    .dataframe tbody tr th:only-of-type {\n",
       "        vertical-align: middle;\n",
       "    }\n",
       "\n",
       "    .dataframe tbody tr th {\n",
       "        vertical-align: top;\n",
       "    }\n",
       "\n",
       "    .dataframe thead th {\n",
       "        text-align: right;\n",
       "    }\n",
       "</style>\n",
       "<table border=\"1\" class=\"dataframe\">\n",
       "  <thead>\n",
       "    <tr style=\"text-align: right;\">\n",
       "      <th></th>\n",
       "      <th>constraint_type</th>\n",
       "      <th>kind</th>\n",
       "      <th>date</th>\n",
       "      <th>dependency</th>\n",
       "    </tr>\n",
       "  </thead>\n",
       "  <tbody>\n",
       "    <tr>\n",
       "      <th>0</th>\n",
       "      <td>caret</td>\n",
       "      <td>Development</td>\n",
       "      <td>2013-08-01</td>\n",
       "      <td>0.001712</td>\n",
       "    </tr>\n",
       "    <tr>\n",
       "      <th>2</th>\n",
       "      <td>caret</td>\n",
       "      <td>Development</td>\n",
       "      <td>2013-09-01</td>\n",
       "      <td>0.000839</td>\n",
       "    </tr>\n",
       "    <tr>\n",
       "      <th>4</th>\n",
       "      <td>caret</td>\n",
       "      <td>Development</td>\n",
       "      <td>2013-10-01</td>\n",
       "      <td>0.002532</td>\n",
       "    </tr>\n",
       "    <tr>\n",
       "      <th>6</th>\n",
       "      <td>caret</td>\n",
       "      <td>Development</td>\n",
       "      <td>2013-11-01</td>\n",
       "      <td>0.000866</td>\n",
       "    </tr>\n",
       "    <tr>\n",
       "      <th>8</th>\n",
       "      <td>caret</td>\n",
       "      <td>Development</td>\n",
       "      <td>2013-12-01</td>\n",
       "      <td>0.000560</td>\n",
       "    </tr>\n",
       "  </tbody>\n",
       "</table>\n",
       "</div>"
      ],
      "text/plain": [
       "  constraint_type         kind       date  dependency\n",
       "0           caret  Development 2013-08-01    0.001712\n",
       "2           caret  Development 2013-09-01    0.000839\n",
       "4           caret  Development 2013-10-01    0.002532\n",
       "6           caret  Development 2013-11-01    0.000866\n",
       "8           caret  Development 2013-12-01    0.000560"
      ]
     },
     "execution_count": 23,
     "metadata": {},
     "output_type": "execute_result"
    }
   ],
   "source": [
    "df_tmp=df_tmp.query('kind_x==kind_y')\n",
    "df_tmp['dependency']=df_tmp['package_x']/df_tmp['package_y']\n",
    "df_tmp.drop(['package_x','package_y','kind_y'], axis=1, inplace=True)\n",
    "df_tmp.rename(columns={'kind_x':'kind'}, inplace=True)\n",
    "df_tmp['date']=df_tmp['date'].apply(lambda x: datetime.strptime(x, \"%Y-%m\"))\n",
    "df_tmp.head()"
   ]
  },
  {
   "cell_type": "code",
   "execution_count": 24,
   "metadata": {},
   "outputs": [],
   "source": [
    "df_tmp_run=(df_tmp.query('kind==\"Runtime\"').drop('kind', axis=1).\n",
    "    pivot(index='date', columns='constraint_type', values='dependency').\n",
    "     fillna(0)\n",
    "    ).reset_index()\n",
    "df_tmp_run['kind']='Runtime'\n",
    "\n",
    "df_tmp_dev=(df_tmp.query('kind==\"Development\"').drop('kind', axis=1).\n",
    "    pivot(index='date', columns='constraint_type', values='dependency').\n",
    "     fillna(0)\n",
    "    ).reset_index()\n",
    "df_tmp_dev['kind']='Development'\n",
    "df_tmp_all=pd.concat([df_tmp_run, df_tmp_dev])\n",
    "#df_tmp_all.to_csv('../../../jsep2018/csv/packages/ready/constraint_evolution_num.csv', index=False, sep=\";\")"
   ]
  },
  {
   "cell_type": "code",
   "execution_count": 42,
   "metadata": {},
   "outputs": [],
   "source": [
    "#df_tmp_all=pd.read_csv('../../../jsep2018/csv/packages/ready/constraint_evolution_num.csv', sep=';', dtype=object, index_col=None,  error_bad_lines=False)\n",
    "for x in df_tmp_all:\n",
    "    if x==\"date\" or x==\"kind\":\n",
    "        continue\n",
    "    df_tmp_all[x]=df_tmp_all[x].apply(lambda x: float(x)*100)\n",
    "df_tmp_all['date']=pd.to_datetime(df_tmp_all['date'])\n",
    "df_tmp_all['kind']=df_tmp_all['kind'].apply(lambda x: x.capitalize())"
   ]
  },
  {
   "cell_type": "code",
   "execution_count": 45,
   "metadata": {},
   "outputs": [
    {
     "data": {
      "image/png": "[encoded data removed]",
      "text/plain": [
       "<matplotlib.figure.Figure at 0x7f9c3febd550>"
      ]
     },
     "metadata": {},
     "output_type": "display_data"
    }
   ],
   "source": [
    "fig, axes = plt.subplots(1, 2, sharex=True, sharey=True)\n",
    "fig.set_size_inches(18,3)\n",
    "for index, kind in enumerate(['Runtime','Development']):\n",
    "    \n",
    "    ax=df_tmp_all.query('kind==\"'+kind+'\"').plot(x=\"date\", color=[blue,\"g\",'#ff7f0e','purple','y'],\n",
    "                                                 #color=[blue,\"green\",'yellow','pink','orange'],\n",
    "                                                 ax=axes[index])#, ax=axes[int(i/2)][j], label=type)    \n",
    "\n",
    "    ax.set_ylabel('Proportion of\\n dependencies \\%')\n",
    "    ax.set_xlabel('Time')\n",
    "#    ax.figure.set_size_inches(12,3.5)\n",
    "    plt.tick_params(axis='both', which='major', width=1)\n",
    "    ax.set_ylim(0,100)\n",
    "    ax.legend( prop={'size': 20, 'weight':'bold'}, ncol=3, bbox_to_anchor=(1.5, 1.45))\n",
    "    ax.set_title(kind)\n",
    "    ax.set_xlim(pd.to_datetime(\"2010-11-01\"),pd.to_datetime(\"2018-04-01\"))\n",
    "ax.legend('')\n",
    "\n",
    "axes[0].vlines(pd.to_datetime('2014-02-01'), 0,100, colors='orange', linestyles='dashed', alpha=1)\n",
    "axes[1].vlines(pd.to_datetime('2014-02-01'), 0,100, colors='orange', linestyles='dashed', alpha=1)\n",
    "\n",
    "\n",
    "#axes[0].vlines(pd.to_datetime('2017-05-01'), 0,100, colors='orange', linestyles='dashed', alpha=1)\n",
    "\n",
    "#axes[0].vlines(pd.to_datetime('2016-03-01'), 0,100, colors='orange', linestyles='dashed', alpha=1)\n",
    "#axes[0].vlines(pd.to_datetime('2017-10-01'), 0,100, colors='red', linestyles='dashed', alpha=1)\n",
    "#axes[1].vlines(pd.to_datetime('2017-10-01'), 0,100, colors='red', linestyles='dashed', alpha=1)\n",
    "fig.savefig('/home/neglectos/Desktop/jsep18technicallag/figures/constraints_evolution.png', bbox_inches='tight', facecolor='white')"
   ]
  },
  {
   "cell_type": "code",
   "execution_count": null,
   "metadata": {},
   "outputs": [],
   "source": [
    "# Do the same but only for outdated dependencies"
   ]
  },
  {
   "cell_type": "code",
   "execution_count": 38,
   "metadata": {},
   "outputs": [],
   "source": [
    "#df_tmp_all=pd.read_csv('../../../jsep2018/csv/packages/ready/constraint_evolution_outdated.csv', sep=';', dtype=object, index_col=None,  error_bad_lines=False)\n",
    "#df_tmp_run['date']=df_tmp_run['date'].apply(lambda x: datetime.strptime(x, \"%Y-%m-%d\"))\n",
    "for x in df_tmp_all:\n",
    "    if x==\"date\" or x==\"kind\":\n",
    "        continue\n",
    "    df_tmp_all[x]=df_tmp_all[x].apply(lambda x: float(x)*100)\n",
    "df_tmp_all['date']=pd.to_datetime(df_tmp_all['date'])\n",
    "df_tmp_all['kind']=df_tmp_all['kind'].apply(lambda x: x.capitalize())"
   ]
  },
  {
   "cell_type": "code",
   "execution_count": null,
   "metadata": {},
   "outputs": [],
   "source": []
  },
  {
   "cell_type": "code",
   "execution_count": 41,
   "metadata": {},
   "outputs": [
    {
     "data": {
      "image/png": "[encoded data removed]",
      "text/plain": [
       "<matplotlib.figure.Figure at 0x7f9bb205d390>"
      ]
     },
     "metadata": {},
     "output_type": "display_data"
    }
   ],
   "source": [
    "fig, axes = plt.subplots(1, 2, sharex=True, sharey=True)\n",
    "fig.set_size_inches(18,3)\n",
    "for index, kind in enumerate(['Runtime','Development']):\n",
    "    \n",
    "    ax=df_tmp_all.query('kind==\"'+kind+'\"').plot(x=\"date\",  ax=axes[index], \n",
    "                                                 color=[blue,\"#ff7f0e\",'purple','y'])#, ax=axes[int(i/2)][j], label=type)    \n",
    "\n",
    "    ax.set_ylabel('Proportion of\\n dependencies \\%')\n",
    "    ax.set_xlabel('Time')\n",
    "#    ax.figure.set_size_inches(12,3.5)\n",
    "    plt.tick_params(axis='both', which='major', width=1)\n",
    "    ax.set_ylim(0,100)\n",
    "    ax.legend( prop={'size': 20, 'weight':'bold'}, ncol=3, bbox_to_anchor=(1.5, 1.45))\n",
    "    ax.set_title(kind)\n",
    "    ax.set_xlim(pd.to_datetime(\"2010-11-01\"),pd.to_datetime(\"2018-04-01\"))\n",
    "ax.legend('')\n",
    "\n",
    "axes[0].vlines(pd.to_datetime('2014-02-01'), 0,100, colors='orange', linestyles='dashed', alpha=1)\n",
    "axes[1].vlines(pd.to_datetime('2014-02-01'), 0,100, colors='orange', linestyles='dashed', alpha=1)\n",
    "\n",
    "\n",
    "#axes[0].vlines(pd.to_datetime('2017-05-01'), 0,100, colors='orange', linestyles='dashed', alpha=1)\n",
    "\n",
    "#axes[0].vlines(pd.to_datetime('2016-03-01'), 0,100, colors='orange', linestyles='dashed', alpha=1)\n",
    "#axes[0].vlines(pd.to_datetime('2017-10-01'), 0,100, colors='red', linestyles='dashed', alpha=1)\n",
    "#axes[1].vlines(pd.to_datetime('2017-10-01'), 0,100, colors='red', linestyles='dashed', alpha=1)\n",
    "fig.savefig('/home/neglectos/Desktop/jsep18technicallag/figures/constraints_evolution_outdated.pdf', bbox_inches='tight', facecolor='white')"
   ]
  },
  {
   "cell_type": "markdown",
   "metadata": {},
   "source": [
    "# JUST CHECKS"
   ]
  },
  {
   "cell_type": "code",
   "execution_count": null,
   "metadata": {},
   "outputs": [],
   "source": [
    "technical_lag_outdated=technical_lag.query('version_lag!=\"0,0,0\"').query('constraint_type!=\"latest\"')\n",
    "len(technical_lag_outdated)/len(technical_lag)"
   ]
  },
  {
   "cell_type": "code",
   "execution_count": 28,
   "metadata": {},
   "outputs": [],
   "source": [
    "a=versions.query('package==\"angular\"').query('date >= \"2016-11-24\" and date <\"2016-12-23\"')"
   ]
  },
  {
   "cell_type": "code",
   "execution_count": 29,
   "metadata": {},
   "outputs": [],
   "source": [
    "a['package']=\"p\""
   ]
  },
  {
   "cell_type": "code",
   "execution_count": 58,
   "metadata": {},
   "outputs": [
    {
     "data": {
      "text/plain": [
       "51036"
      ]
     },
     "execution_count": 58,
     "metadata": {},
     "output_type": "execute_result"
    }
   ],
   "source": [
    "versions.query('date<\"2014\"').package.drop_duplicates().size"
   ]
  },
  {
   "cell_type": "code",
   "execution_count": 60,
   "metadata": {},
   "outputs": [
    {
     "data": {
      "text/plain": [
       "268115"
      ]
     },
     "execution_count": 60,
     "metadata": {},
     "output_type": "execute_result"
    }
   ],
   "source": [
    "len(versions.query('date<\"2014\"')[['package','version']].drop_duplicates())"
   ]
  },
  {
   "cell_type": "code",
   "execution_count": 62,
   "metadata": {},
   "outputs": [
    {
     "data": {
      "text/html": [
       "<div>\n",
       "<style scoped>\n",
       "    .dataframe tbody tr th:only-of-type {\n",
       "        vertical-align: middle;\n",
       "    }\n",
       "\n",
       "    .dataframe tbody tr th {\n",
       "        vertical-align: top;\n",
       "    }\n",
       "\n",
       "    .dataframe thead th {\n",
       "        text-align: right;\n",
       "    }\n",
       "</style>\n",
       "<table border=\"1\" class=\"dataframe\">\n",
       "  <thead>\n",
       "    <tr style=\"text-align: right;\">\n",
       "      <th></th>\n",
       "      <th>package</th>\n",
       "      <th>version</th>\n",
       "      <th>date</th>\n",
       "      <th>release_type</th>\n",
       "      <th>semver</th>\n",
       "    </tr>\n",
       "  </thead>\n",
       "  <tbody>\n",
       "    <tr>\n",
       "      <th>0</th>\n",
       "      <td>0</td>\n",
       "      <td>0.0.0</td>\n",
       "      <td>2014-04-01</td>\n",
       "      <td>initial</td>\n",
       "      <td>0.0.0</td>\n",
       "    </tr>\n",
       "    <tr>\n",
       "      <th>1</th>\n",
       "      <td>0-</td>\n",
       "      <td>0.0.1</td>\n",
       "      <td>2017-03-06</td>\n",
       "      <td>initial</td>\n",
       "      <td>0.0.1</td>\n",
       "    </tr>\n",
       "    <tr>\n",
       "      <th>2</th>\n",
       "      <td>0----</td>\n",
       "      <td>1.0.0</td>\n",
       "      <td>2017-10-29</td>\n",
       "      <td>initial</td>\n",
       "      <td>1.0.0</td>\n",
       "    </tr>\n",
       "    <tr>\n",
       "      <th>3</th>\n",
       "      <td>0-0</td>\n",
       "      <td>1.0.2</td>\n",
       "      <td>2016-12-04</td>\n",
       "      <td>initial</td>\n",
       "      <td>1.0.2</td>\n",
       "    </tr>\n",
       "    <tr>\n",
       "      <th>4</th>\n",
       "      <td>0-9</td>\n",
       "      <td>0.0.1</td>\n",
       "      <td>2017-03-06</td>\n",
       "      <td>initial</td>\n",
       "      <td>0.0.1</td>\n",
       "    </tr>\n",
       "  </tbody>\n",
       "</table>\n",
       "</div>"
      ],
      "text/plain": [
       "  package version       date release_type semver\n",
       "0       0   0.0.0 2014-04-01      initial  0.0.0\n",
       "1      0-   0.0.1 2017-03-06      initial  0.0.1\n",
       "2   0----   1.0.0 2017-10-29      initial  1.0.0\n",
       "3     0-0   1.0.2 2016-12-04      initial  1.0.2\n",
       "4     0-9   0.0.1 2017-03-06      initial  0.0.1"
      ]
     },
     "execution_count": 62,
     "metadata": {},
     "output_type": "execute_result"
    }
   ],
   "source": [
    "versions.head()"
   ]
  },
  {
   "cell_type": "code",
   "execution_count": 65,
   "metadata": {},
   "outputs": [],
   "source": [
    "versions['date']=versions['date'].apply(lambda x: x.split('-')[0]+'-'+x.split('-')[1])"
   ]
  },
  {
   "cell_type": "code",
   "execution_count": 66,
   "metadata": {},
   "outputs": [],
   "source": [
    "versions=versions.groupby(['date','release_type']).count()[['version']].reset_index()"
   ]
  },
  {
   "cell_type": "code",
   "execution_count": 69,
   "metadata": {},
   "outputs": [],
   "source": [
    "versions=(versions.\n",
    "    pivot(index='date', columns='release_type', values='version').\n",
    "     fillna(0)\n",
    "    ).reset_index()"
   ]
  },
  {
   "cell_type": "code",
   "execution_count": 74,
   "metadata": {},
   "outputs": [],
   "source": [
    "versions['date']=pd.to_datetime(versions['date'])"
   ]
  },
  {
   "cell_type": "code",
   "execution_count": 80,
   "metadata": {},
   "outputs": [
    {
     "data": {
      "text/plain": [
       "(734107.0, 736726.0)"
      ]
     },
     "execution_count": 80,
     "metadata": {},
     "output_type": "execute_result"
    },
    {
     "data": {
      "image/png": "[encoded data removed]",
      "text/plain": [
       "<matplotlib.figure.Figure at 0x7f76176485c0>"
      ]
     },
     "metadata": {},
     "output_type": "display_data"
    }
   ],
   "source": [
    "ax=versions[['major','minor','date']].plot(x='date', color=['orange','red','green','blue'])\n",
    "\n",
    "ax.set_ylabel('Releases')\n",
    "ax.set_xlabel('Date')\n",
    "ax.figure.set_size_inches(12,4)\n",
    "plt.tick_params(axis='both', which='major', width=1)\n",
    "plt.legend( prop={'size': 22, 'weight':'bold'}, ncol=2, bbox_to_anchor=(0.5, 1))\n",
    "#ax.set_ylim(0,100)\n",
    "ax.set_xlim(pd.to_datetime('2010-12-01'),pd.to_datetime('2018-02-01'))\n",
    "#ax.vlines(pd.to_datetime('2017-12-19'), 0, 150000, color='black', linestyles='--')\n"
   ]
  },
  {
   "cell_type": "code",
   "execution_count": 72,
   "metadata": {},
   "outputs": [
    {
     "data": {
      "image/png": "[encoded data removed]",
      "text/plain": [
       "<matplotlib.figure.Figure at 0x7f761787d128>"
      ]
     },
     "metadata": {},
     "output_type": "display_data"
    }
   ],
   "source": [
    "ax=versions.plot()\n",
    "ax.set_xlim(pd.to_datetime('2014-07-01'),pd.to_datetime('2018-02-01'))\n",
    "ax.figure.set_size_inches(12,4)\n",
    "ax.vlines(pd.to_datetime('2017-12-01'), 0,200000, colors='orange', linestyles='dashed', alpha=1)\n",
    "ax.vlines(pd.to_datetime('2017-10-01'), 0,200000, colors='red', linestyles='dashed', alpha=1)\n",
    "\n",
    "#ax.vlines(pd.to_datetime('2017-11-08'), 0,20000, colors='orange', linestyles='dashed', alpha=1)\n",
    "#ax.vlines(pd.to_datetime('2017-11-28'), 0,20000, colors='orange', linestyles='dashed', alpha=1)\n",
    "#ax.vlines(pd.to_datetime('2018-01-06'), 0,20000, colors='orange', linestyles='dashed', alpha=1)\n",
    "\n",
    "\n"
   ]
  },
  {
   "cell_type": "markdown",
   "metadata": {},
   "source": [
    "# More analysis"
   ]
  },
  {
   "cell_type": "code",
   "execution_count": 8,
   "metadata": {},
   "outputs": [],
   "source": [
    "tech=technical_lag[['package','version']].drop_duplicates()"
   ]
  },
  {
   "cell_type": "code",
   "execution_count": 9,
   "metadata": {},
   "outputs": [],
   "source": [
    "tech['pre']=tech['version'].apply(lambda x: x.split('.')[2].isdigit())"
   ]
  },
  {
   "cell_type": "code",
   "execution_count": 10,
   "metadata": {},
   "outputs": [
    {
     "data": {
      "text/html": [
       "<div>\n",
       "<style scoped>\n",
       "    .dataframe tbody tr th:only-of-type {\n",
       "        vertical-align: middle;\n",
       "    }\n",
       "\n",
       "    .dataframe tbody tr th {\n",
       "        vertical-align: top;\n",
       "    }\n",
       "\n",
       "    .dataframe thead th {\n",
       "        text-align: right;\n",
       "    }\n",
       "</style>\n",
       "<table border=\"1\" class=\"dataframe\">\n",
       "  <thead>\n",
       "    <tr style=\"text-align: right;\">\n",
       "      <th></th>\n",
       "      <th>package</th>\n",
       "      <th>version</th>\n",
       "    </tr>\n",
       "    <tr>\n",
       "      <th>pre</th>\n",
       "      <th></th>\n",
       "      <th></th>\n",
       "    </tr>\n",
       "  </thead>\n",
       "  <tbody>\n",
       "    <tr>\n",
       "      <th>False</th>\n",
       "      <td>331234</td>\n",
       "      <td>331234</td>\n",
       "    </tr>\n",
       "    <tr>\n",
       "      <th>True</th>\n",
       "      <td>3644212</td>\n",
       "      <td>3644212</td>\n",
       "    </tr>\n",
       "  </tbody>\n",
       "</table>\n",
       "</div>"
      ],
      "text/plain": [
       "       package  version\n",
       "pre                    \n",
       "False   331234   331234\n",
       "True   3644212  3644212"
      ]
     },
     "execution_count": 10,
     "metadata": {},
     "output_type": "execute_result"
    }
   ],
   "source": [
    "tech.groupby('pre').count()"
   ]
  },
  {
   "cell_type": "code",
   "execution_count": 11,
   "metadata": {},
   "outputs": [
    {
     "data": {
      "text/plain": [
       "3975446"
      ]
     },
     "execution_count": 11,
     "metadata": {},
     "output_type": "execute_result"
    }
   ],
   "source": [
    "len(tech)"
   ]
  },
  {
   "cell_type": "code",
   "execution_count": 5,
   "metadata": {},
   "outputs": [
    {
     "data": {
      "text/plain": [
       "713086"
      ]
     },
     "execution_count": 5,
     "metadata": {},
     "output_type": "execute_result"
    }
   ],
   "source": [
    "len(versions.query('date<\"2016\"')) - len(versions.query('date<\"2015\"'))"
   ]
  },
  {
   "cell_type": "code",
   "execution_count": 6,
   "metadata": {},
   "outputs": [
    {
     "data": {
      "text/plain": [
       "653987"
      ]
     },
     "execution_count": 6,
     "metadata": {},
     "output_type": "execute_result"
    }
   ],
   "source": [
    "len(versions.query('date<\"2015\"')) "
   ]
  },
  {
   "cell_type": "code",
   "execution_count": 8,
   "metadata": {},
   "outputs": [],
   "source": [
    "aaaa=technical_lag.query('date > \"2014-02-19\" and date < \"2014-03\"')"
   ]
  },
  {
   "cell_type": "code",
   "execution_count": 37,
   "metadata": {},
   "outputs": [],
   "source": [
    "aaaa=technical_lag.query('version_lag!=\"0,0,0\"').query('constraint_type==\"caret\" or constraint_type==\"tilde\"')"
   ]
  },
  {
   "cell_type": "code",
   "execution_count": 17,
   "metadata": {},
   "outputs": [
    {
     "data": {
      "text/html": [
       "<div>\n",
       "<style scoped>\n",
       "    .dataframe tbody tr th:only-of-type {\n",
       "        vertical-align: middle;\n",
       "    }\n",
       "\n",
       "    .dataframe tbody tr th {\n",
       "        vertical-align: top;\n",
       "    }\n",
       "\n",
       "    .dataframe thead th {\n",
       "        text-align: right;\n",
       "    }\n",
       "</style>\n",
       "<table border=\"1\" class=\"dataframe\">\n",
       "  <thead>\n",
       "    <tr style=\"text-align: right;\">\n",
       "      <th></th>\n",
       "      <th>constraint</th>\n",
       "      <th>date</th>\n",
       "      <th>package</th>\n",
       "      <th>kind</th>\n",
       "      <th>version_lag</th>\n",
       "    </tr>\n",
       "    <tr>\n",
       "      <th>constraint_type</th>\n",
       "      <th></th>\n",
       "      <th></th>\n",
       "      <th></th>\n",
       "      <th></th>\n",
       "      <th></th>\n",
       "    </tr>\n",
       "  </thead>\n",
       "  <tbody>\n",
       "    <tr>\n",
       "      <th>caret</th>\n",
       "      <td>29</td>\n",
       "      <td>29</td>\n",
       "      <td>29</td>\n",
       "      <td>29</td>\n",
       "      <td>29</td>\n",
       "    </tr>\n",
       "    <tr>\n",
       "      <th>tilde</th>\n",
       "      <td>941</td>\n",
       "      <td>941</td>\n",
       "      <td>941</td>\n",
       "      <td>941</td>\n",
       "      <td>941</td>\n",
       "    </tr>\n",
       "  </tbody>\n",
       "</table>\n",
       "</div>"
      ],
      "text/plain": [
       "                 constraint  date  package  kind  version_lag\n",
       "constraint_type                                              \n",
       "caret                    29    29       29    29           29\n",
       "tilde                   941   941      941   941          941"
      ]
     },
     "execution_count": 17,
     "metadata": {},
     "output_type": "execute_result"
    }
   ],
   "source": [
    "aaaa.query('version_lag>\"1,\"').groupby('constraint_type').count()"
   ]
  },
  {
   "cell_type": "code",
   "execution_count": 38,
   "metadata": {},
   "outputs": [],
   "source": [
    "aaaa['zero']=aaaa['constraint'].apply(lambda x: True if x.split('.')[0]==\"~0\" or x.split('.')[0]==\"^0\"\n",
    "                                     else False)"
   ]
  },
  {
   "cell_type": "code",
   "execution_count": 41,
   "metadata": {},
   "outputs": [
    {
     "data": {
      "text/plain": [
       "0.778340332940792"
      ]
     },
     "execution_count": 41,
     "metadata": {},
     "output_type": "execute_result"
    }
   ],
   "source": [
    "1879056/len(aaaa.query('zero == True'))#/len(aaaa)"
   ]
  },
  {
   "cell_type": "code",
   "execution_count": 40,
   "metadata": {},
   "outputs": [
    {
     "data": {
      "text/html": [
       "<div>\n",
       "<style scoped>\n",
       "    .dataframe tbody tr th:only-of-type {\n",
       "        vertical-align: middle;\n",
       "    }\n",
       "\n",
       "    .dataframe tbody tr th {\n",
       "        vertical-align: top;\n",
       "    }\n",
       "\n",
       "    .dataframe thead th {\n",
       "        text-align: right;\n",
       "    }\n",
       "</style>\n",
       "<table border=\"1\" class=\"dataframe\">\n",
       "  <thead>\n",
       "    <tr style=\"text-align: right;\">\n",
       "      <th></th>\n",
       "      <th>constraint</th>\n",
       "      <th>date</th>\n",
       "      <th>package</th>\n",
       "      <th>kind</th>\n",
       "      <th>version_lag</th>\n",
       "      <th>zero</th>\n",
       "    </tr>\n",
       "    <tr>\n",
       "      <th>constraint_type</th>\n",
       "      <th></th>\n",
       "      <th></th>\n",
       "      <th></th>\n",
       "      <th></th>\n",
       "      <th></th>\n",
       "      <th></th>\n",
       "    </tr>\n",
       "  </thead>\n",
       "  <tbody>\n",
       "    <tr>\n",
       "      <th>caret</th>\n",
       "      <td>1879056</td>\n",
       "      <td>1879056</td>\n",
       "      <td>1879056</td>\n",
       "      <td>1879056</td>\n",
       "      <td>1879056</td>\n",
       "      <td>1879056</td>\n",
       "    </tr>\n",
       "    <tr>\n",
       "      <th>tilde</th>\n",
       "      <td>535127</td>\n",
       "      <td>535127</td>\n",
       "      <td>535127</td>\n",
       "      <td>535127</td>\n",
       "      <td>535127</td>\n",
       "      <td>535127</td>\n",
       "    </tr>\n",
       "  </tbody>\n",
       "</table>\n",
       "</div>"
      ],
      "text/plain": [
       "                 constraint     date  package     kind  version_lag     zero\n",
       "constraint_type                                                             \n",
       "caret               1879056  1879056  1879056  1879056      1879056  1879056\n",
       "tilde                535127   535127   535127   535127       535127   535127"
      ]
     },
     "execution_count": 40,
     "metadata": {},
     "output_type": "execute_result"
    }
   ],
   "source": [
    "aaaa.query('zero == True').groupby('constraint_type').count()"
   ]
  },
  {
   "cell_type": "code",
   "execution_count": 27,
   "metadata": {},
   "outputs": [],
   "source": [
    "aaaa=aaaa.query('zero == True')"
   ]
  },
  {
   "cell_type": "code",
   "execution_count": 28,
   "metadata": {},
   "outputs": [
    {
     "name": "stderr",
     "output_type": "stream",
     "text": [
      "/usr/local/lib/python3.5/dist-packages/ipykernel_launcher.py:1: SettingWithCopyWarning: \n",
      "A value is trying to be set on a copy of a slice from a DataFrame.\n",
      "Try using .loc[row_indexer,col_indexer] = value instead\n",
      "\n",
      "See the caveats in the documentation: http://pandas.pydata.org/pandas-docs/stable/indexing.html#indexing-view-versus-copy\n",
      "  \"\"\"Entry point for launching an IPython kernel.\n"
     ]
    }
   ],
   "source": [
    "aaaa['date']=aaaa['date'].apply(lambda x: x.split('-')[0]+'-'+x.split('-')[1])"
   ]
  },
  {
   "cell_type": "code",
   "execution_count": 30,
   "metadata": {},
   "outputs": [],
   "source": [
    "aaaa=aaaa.groupby(['constraint_type','date']).count()[['package']].reset_index()"
   ]
  },
  {
   "cell_type": "code",
   "execution_count": 32,
   "metadata": {},
   "outputs": [],
   "source": [
    "aaaaaaaa=(aaaa.\n",
    "    pivot(index='date', columns='constraint_type', values='package').\n",
    "     fillna(0)\n",
    "    ).reset_index()"
   ]
  },
  {
   "cell_type": "code",
   "execution_count": 34,
   "metadata": {},
   "outputs": [],
   "source": [
    "aaaaaaaa['date']=pd.to_datetime(aaaaaaaa['date'])"
   ]
  },
  {
   "cell_type": "code",
   "execution_count": 35,
   "metadata": {},
   "outputs": [
    {
     "data": {
      "text/plain": [
       "<matplotlib.legend.Legend at 0x7f7a8073c2e8>"
      ]
     },
     "execution_count": 35,
     "metadata": {},
     "output_type": "execute_result"
    },
    {
     "data": {
      "image/png": "[encoded data removed]",
      "text/plain": [
       "<matplotlib.figure.Figure at 0x7f7a8073c320>"
      ]
     },
     "metadata": {},
     "output_type": "display_data"
    }
   ],
   "source": [
    "ax=aaaaaaaa.plot(x=\"date\")#, ax=axes[int(i/2)][j], label=type)    \n",
    "\n",
    "ax.set_ylabel('Proportion of\\n dependencies \\%')\n",
    "ax.set_xlabel('Time')\n",
    "ax.figure.set_size_inches(12,3.5)\n",
    "plt.tick_params(axis='both', which='major', width=1)\n",
    "ax.legend( prop={'size': 20, 'weight':'bold'}, ncol=3, bbox_to_anchor=(1.5, 1.45))\n"
   ]
  },
  {
   "cell_type": "code",
   "execution_count": 47,
   "metadata": {},
   "outputs": [
    {
     "data": {
      "text/html": [
       "<div>\n",
       "<style scoped>\n",
       "    .dataframe tbody tr th:only-of-type {\n",
       "        vertical-align: middle;\n",
       "    }\n",
       "\n",
       "    .dataframe tbody tr th {\n",
       "        vertical-align: top;\n",
       "    }\n",
       "\n",
       "    .dataframe thead th {\n",
       "        text-align: right;\n",
       "    }\n",
       "</style>\n",
       "<table border=\"1\" class=\"dataframe\">\n",
       "  <thead>\n",
       "    <tr style=\"text-align: right;\">\n",
       "      <th></th>\n",
       "      <th>constraint</th>\n",
       "      <th>date</th>\n",
       "      <th>package</th>\n",
       "      <th>kind</th>\n",
       "      <th>version_lag</th>\n",
       "      <th>constraint_type</th>\n",
       "    </tr>\n",
       "  </thead>\n",
       "  <tbody>\n",
       "    <tr>\n",
       "      <th>0</th>\n",
       "      <td>*</td>\n",
       "      <td>2015-11-11</td>\n",
       "      <td>shaybagants-test</td>\n",
       "      <td>runtime</td>\n",
       "      <td>0,0,0</td>\n",
       "      <td>latest</td>\n",
       "    </tr>\n",
       "    <tr>\n",
       "      <th>1</th>\n",
       "      <td>*</td>\n",
       "      <td>2015-11-11</td>\n",
       "      <td>shaybagants-test</td>\n",
       "      <td>runtime</td>\n",
       "      <td>0,0,0</td>\n",
       "      <td>latest</td>\n",
       "    </tr>\n",
       "    <tr>\n",
       "      <th>2</th>\n",
       "      <td>*</td>\n",
       "      <td>2015-11-11</td>\n",
       "      <td>shaybagants-test</td>\n",
       "      <td>runtime</td>\n",
       "      <td>0,0,0</td>\n",
       "      <td>latest</td>\n",
       "    </tr>\n",
       "    <tr>\n",
       "      <th>3</th>\n",
       "      <td>*</td>\n",
       "      <td>2015-11-11</td>\n",
       "      <td>shaybagants-test</td>\n",
       "      <td>runtime</td>\n",
       "      <td>0,0,0</td>\n",
       "      <td>latest</td>\n",
       "    </tr>\n",
       "    <tr>\n",
       "      <th>4</th>\n",
       "      <td>*</td>\n",
       "      <td>2016-03-30</td>\n",
       "      <td>all-packages</td>\n",
       "      <td>runtime</td>\n",
       "      <td>0,0,0</td>\n",
       "      <td>latest</td>\n",
       "    </tr>\n",
       "  </tbody>\n",
       "</table>\n",
       "</div>"
      ],
      "text/plain": [
       "  constraint        date           package     kind version_lag  \\\n",
       "0          *  2015-11-11  shaybagants-test  runtime       0,0,0   \n",
       "1          *  2015-11-11  shaybagants-test  runtime       0,0,0   \n",
       "2          *  2015-11-11  shaybagants-test  runtime       0,0,0   \n",
       "3          *  2015-11-11  shaybagants-test  runtime       0,0,0   \n",
       "4          *  2016-03-30      all-packages  runtime       0,0,0   \n",
       "\n",
       "  constraint_type  \n",
       "0          latest  \n",
       "1          latest  \n",
       "2          latest  \n",
       "3          latest  \n",
       "4          latest  "
      ]
     },
     "execution_count": 47,
     "metadata": {},
     "output_type": "execute_result"
    }
   ],
   "source": [
    "technical_lag.head()"
   ]
  },
  {
   "cell_type": "code",
   "execution_count": 80,
   "metadata": {},
   "outputs": [],
   "source": [
    "versions['zero']=versions['version'].apply(lambda x: 'True' if x.split('.')[0]==\"0\"\n",
    "                                       else 'False')"
   ]
  },
  {
   "cell_type": "code",
   "execution_count": 44,
   "metadata": {},
   "outputs": [],
   "source": [
    "versions['date']=versions['date'].apply(lambda x: x.split('-')[0]+'-'+x.split('-')[1])"
   ]
  },
  {
   "cell_type": "code",
   "execution_count": 50,
   "metadata": {},
   "outputs": [],
   "source": [
    "mask= versions.package.isin(technical_lag.dependency.drop_duplicates())\n",
    "versions=versions[mask]"
   ]
  },
  {
   "cell_type": "code",
   "execution_count": 81,
   "metadata": {},
   "outputs": [],
   "source": [
    "aaaaa=versions.groupby(['zero','date']).count()[['version']].reset_index()\n",
    "aaaaa2=versions.groupby(['date']).count()[['package']].reset_index()"
   ]
  },
  {
   "cell_type": "code",
   "execution_count": 82,
   "metadata": {},
   "outputs": [],
   "source": [
    "aaaaa=(aaaaa.\n",
    "    pivot(index='date', columns='zero', values='version').\n",
    "     fillna(0)\n",
    "    ).reset_index()"
   ]
  },
  {
   "cell_type": "code",
   "execution_count": 59,
   "metadata": {},
   "outputs": [],
   "source": [
    "versions['date']=pd.to_datetime(versions['date'])"
   ]
  },
  {
   "cell_type": "code",
   "execution_count": 83,
   "metadata": {},
   "outputs": [],
   "source": [
    "aaaaa3=(aaaaa.\n",
    "       merge(aaaaa2,\n",
    "             left_on='date',\n",
    "             right_on='date',\n",
    "             how='left')\n",
    "       .fillna(0)\n",
    "       .reset_index()\n",
    "      )"
   ]
  },
  {
   "cell_type": "code",
   "execution_count": 85,
   "metadata": {},
   "outputs": [],
   "source": [
    "aaaaa3['initial']=aaaaa3['True']/aaaaa3['package']\n",
    "aaaaa3['major']=aaaaa3['False']/aaaaa3['package']\n"
   ]
  },
  {
   "cell_type": "code",
   "execution_count": 94,
   "metadata": {},
   "outputs": [],
   "source": [
    "aaaaa3.rename(columns={'initial':'0.y.z', 'major':'other'}, inplace=True)"
   ]
  },
  {
   "cell_type": "code",
   "execution_count": 100,
   "metadata": {},
   "outputs": [
    {
     "data": {
      "image/png": "[encoded data removed]",
      "text/plain": [
       "<matplotlib.figure.Figure at 0x7f7a1f45be48>"
      ]
     },
     "metadata": {},
     "output_type": "display_data"
    }
   ],
   "source": [
    "ax=aaaaa3.query('date!=\"1970-01-01\"')[['date','0.y.z','other']].plot(x=\"date\", color=['orange','green'])#, ax=axes[int(i/2)][j], label=type)    \n",
    "\n",
    "ax.set_ylabel('Proportion of\\n releases \\%')\n",
    "ax.set_xlabel('Time')\n",
    "ax.figure.set_size_inches(12,3.5)\n",
    "plt.tick_params(axis='both', which='major', width=1)\n",
    "ax.legend( prop={'size': 20, 'weight':'bold'}, ncol=3, bbox_to_anchor=(1, 1))\n",
    "ax.set_ylim(0,1)\n",
    "ax.figure.savefig('/home/neglectos/Desktop/jsep18technicallag/figures/version_zero.png', bbox_inches='tight', facecolor='white')"
   ]
  },
  {
   "cell_type": "code",
   "execution_count": 17,
   "metadata": {},
   "outputs": [],
   "source": [
    "versions['pre']=versions['version'].apply(lambda x: x.split('.')[2].isdigit())"
   ]
  },
  {
   "cell_type": "code",
   "execution_count": 18,
   "metadata": {},
   "outputs": [
    {
     "data": {
      "text/plain": [
       "4760450"
      ]
     },
     "execution_count": 18,
     "metadata": {},
     "output_type": "execute_result"
    }
   ],
   "source": [
    "len(versions)"
   ]
  },
  {
   "cell_type": "code",
   "execution_count": 20,
   "metadata": {},
   "outputs": [
    {
     "data": {
      "text/plain": [
       "4350634"
      ]
     },
     "execution_count": 20,
     "metadata": {},
     "output_type": "execute_result"
    }
   ],
   "source": [
    "len(versions.query('pre!=False'))"
   ]
  },
  {
   "cell_type": "code",
   "execution_count": 25,
   "metadata": {},
   "outputs": [
    {
     "data": {
      "text/plain": [
       "4434238"
      ]
     },
     "execution_count": 25,
     "metadata": {},
     "output_type": "execute_result"
    }
   ],
   "source": [
    "len(versions[['package','semver']].drop_duplicates())"
   ]
  },
  {
   "cell_type": "code",
   "execution_count": 26,
   "metadata": {},
   "outputs": [
    {
     "data": {
      "text/plain": [
       "0.20400374802350324"
      ]
     },
     "execution_count": 26,
     "metadata": {},
     "output_type": "execute_result"
    }
   ],
   "source": [
    "(4434238 - 4350634)/(4760450- 4350634)"
   ]
  },
  {
   "cell_type": "code",
   "execution_count": 30,
   "metadata": {},
   "outputs": [],
   "source": [
    "versions=(versions.\n",
    "                 assign(Major=lambda d: d['semver'].apply(lambda x: x.split('.')[0]) ).\n",
    "                 assign(Minor=lambda d: d['semver'].apply(lambda x: x.split('.')[1])  ).\n",
    "                 assign(Patch=lambda d: d['semver'].apply(lambda x: x.split('.')[2]) )\n",
    "                )\n",
    "                 "
   ]
  },
  {
   "cell_type": "code",
   "execution_count": 31,
   "metadata": {},
   "outputs": [
    {
     "data": {
      "text/html": [
       "<div>\n",
       "<style scoped>\n",
       "    .dataframe tbody tr th:only-of-type {\n",
       "        vertical-align: middle;\n",
       "    }\n",
       "\n",
       "    .dataframe tbody tr th {\n",
       "        vertical-align: top;\n",
       "    }\n",
       "\n",
       "    .dataframe thead th {\n",
       "        text-align: right;\n",
       "    }\n",
       "</style>\n",
       "<table border=\"1\" class=\"dataframe\">\n",
       "  <thead>\n",
       "    <tr style=\"text-align: right;\">\n",
       "      <th></th>\n",
       "      <th>package</th>\n",
       "      <th>version</th>\n",
       "      <th>date</th>\n",
       "      <th>release_type</th>\n",
       "      <th>semver</th>\n",
       "      <th>Major</th>\n",
       "      <th>Minor</th>\n",
       "      <th>Patch</th>\n",
       "    </tr>\n",
       "  </thead>\n",
       "  <tbody>\n",
       "    <tr>\n",
       "      <th>0</th>\n",
       "      <td>0</td>\n",
       "      <td>0.0.0</td>\n",
       "      <td>2014-04-01</td>\n",
       "      <td>initial</td>\n",
       "      <td>0.0.0</td>\n",
       "      <td>0</td>\n",
       "      <td>0</td>\n",
       "      <td>0</td>\n",
       "    </tr>\n",
       "    <tr>\n",
       "      <th>1</th>\n",
       "      <td>0-</td>\n",
       "      <td>0.0.1</td>\n",
       "      <td>2017-03-06</td>\n",
       "      <td>initial</td>\n",
       "      <td>0.0.1</td>\n",
       "      <td>0</td>\n",
       "      <td>0</td>\n",
       "      <td>1</td>\n",
       "    </tr>\n",
       "    <tr>\n",
       "      <th>2</th>\n",
       "      <td>0----</td>\n",
       "      <td>1.0.0</td>\n",
       "      <td>2017-10-29</td>\n",
       "      <td>initial</td>\n",
       "      <td>1.0.0</td>\n",
       "      <td>1</td>\n",
       "      <td>0</td>\n",
       "      <td>0</td>\n",
       "    </tr>\n",
       "    <tr>\n",
       "      <th>3</th>\n",
       "      <td>0-0</td>\n",
       "      <td>1.0.2</td>\n",
       "      <td>2016-12-04</td>\n",
       "      <td>initial</td>\n",
       "      <td>1.0.2</td>\n",
       "      <td>1</td>\n",
       "      <td>0</td>\n",
       "      <td>2</td>\n",
       "    </tr>\n",
       "    <tr>\n",
       "      <th>4</th>\n",
       "      <td>0-9</td>\n",
       "      <td>0.0.1</td>\n",
       "      <td>2017-03-06</td>\n",
       "      <td>initial</td>\n",
       "      <td>0.0.1</td>\n",
       "      <td>0</td>\n",
       "      <td>0</td>\n",
       "      <td>1</td>\n",
       "    </tr>\n",
       "  </tbody>\n",
       "</table>\n",
       "</div>"
      ],
      "text/plain": [
       "  package version        date release_type semver Major Minor Patch\n",
       "0       0   0.0.0  2014-04-01      initial  0.0.0     0     0     0\n",
       "1      0-   0.0.1  2017-03-06      initial  0.0.1     0     0     1\n",
       "2   0----   1.0.0  2017-10-29      initial  1.0.0     1     0     0\n",
       "3     0-0   1.0.2  2016-12-04      initial  1.0.2     1     0     2\n",
       "4     0-9   0.0.1  2017-03-06      initial  0.0.1     0     0     1"
      ]
     },
     "execution_count": 31,
     "metadata": {},
     "output_type": "execute_result"
    }
   ],
   "source": [
    "versions.head()"
   ]
  },
  {
   "cell_type": "code",
   "execution_count": 32,
   "metadata": {},
   "outputs": [],
   "source": [
    "versions.to_csv('../../../jsep2018/csv/versions_npm_march.csv', index=False, sep=\";\")\n"
   ]
  },
  {
   "cell_type": "code",
   "execution_count": 38,
   "metadata": {},
   "outputs": [
    {
     "data": {
      "text/html": [
       "<div>\n",
       "<style scoped>\n",
       "    .dataframe tbody tr th:only-of-type {\n",
       "        vertical-align: middle;\n",
       "    }\n",
       "\n",
       "    .dataframe tbody tr th {\n",
       "        vertical-align: top;\n",
       "    }\n",
       "\n",
       "    .dataframe thead th {\n",
       "        text-align: right;\n",
       "    }\n",
       "</style>\n",
       "<table border=\"1\" class=\"dataframe\">\n",
       "  <thead>\n",
       "    <tr style=\"text-align: right;\">\n",
       "      <th></th>\n",
       "      <th>package</th>\n",
       "      <th>version</th>\n",
       "      <th>date</th>\n",
       "      <th>release_type</th>\n",
       "      <th>semver</th>\n",
       "      <th>Major</th>\n",
       "      <th>Minor</th>\n",
       "      <th>Patch</th>\n",
       "    </tr>\n",
       "  </thead>\n",
       "  <tbody>\n",
       "    <tr>\n",
       "      <th>2301046</th>\n",
       "      <td>jasmine</td>\n",
       "      <td>2.0.1</td>\n",
       "      <td>2014-08-22</td>\n",
       "      <td>initial</td>\n",
       "      <td>2.0.1</td>\n",
       "      <td>2</td>\n",
       "      <td>0</td>\n",
       "      <td>1</td>\n",
       "    </tr>\n",
       "    <tr>\n",
       "      <th>2301047</th>\n",
       "      <td>jasmine</td>\n",
       "      <td>2.1.0</td>\n",
       "      <td>2014-11-14</td>\n",
       "      <td>minor</td>\n",
       "      <td>2.1.0</td>\n",
       "      <td>2</td>\n",
       "      <td>1</td>\n",
       "      <td>0</td>\n",
       "    </tr>\n",
       "    <tr>\n",
       "      <th>2301048</th>\n",
       "      <td>jasmine</td>\n",
       "      <td>2.1.1</td>\n",
       "      <td>2014-12-01</td>\n",
       "      <td>patch</td>\n",
       "      <td>2.1.1</td>\n",
       "      <td>2</td>\n",
       "      <td>1</td>\n",
       "      <td>1</td>\n",
       "    </tr>\n",
       "    <tr>\n",
       "      <th>2301049</th>\n",
       "      <td>jasmine</td>\n",
       "      <td>2.2.0</td>\n",
       "      <td>2015-02-02</td>\n",
       "      <td>minor</td>\n",
       "      <td>2.2.0</td>\n",
       "      <td>2</td>\n",
       "      <td>2</td>\n",
       "      <td>0</td>\n",
       "    </tr>\n",
       "    <tr>\n",
       "      <th>2301050</th>\n",
       "      <td>jasmine</td>\n",
       "      <td>2.2.1</td>\n",
       "      <td>2015-02-06</td>\n",
       "      <td>patch</td>\n",
       "      <td>2.2.1</td>\n",
       "      <td>2</td>\n",
       "      <td>2</td>\n",
       "      <td>1</td>\n",
       "    </tr>\n",
       "    <tr>\n",
       "      <th>2301051</th>\n",
       "      <td>jasmine</td>\n",
       "      <td>2.3.0</td>\n",
       "      <td>2015-04-28</td>\n",
       "      <td>minor</td>\n",
       "      <td>2.3.0</td>\n",
       "      <td>2</td>\n",
       "      <td>3</td>\n",
       "      <td>0</td>\n",
       "    </tr>\n",
       "    <tr>\n",
       "      <th>2301052</th>\n",
       "      <td>jasmine</td>\n",
       "      <td>2.3.1</td>\n",
       "      <td>2015-05-02</td>\n",
       "      <td>patch</td>\n",
       "      <td>2.3.1</td>\n",
       "      <td>2</td>\n",
       "      <td>3</td>\n",
       "      <td>1</td>\n",
       "    </tr>\n",
       "    <tr>\n",
       "      <th>2301053</th>\n",
       "      <td>jasmine</td>\n",
       "      <td>2.3.2</td>\n",
       "      <td>2015-08-03</td>\n",
       "      <td>patch</td>\n",
       "      <td>2.3.2</td>\n",
       "      <td>2</td>\n",
       "      <td>3</td>\n",
       "      <td>2</td>\n",
       "    </tr>\n",
       "    <tr>\n",
       "      <th>2301054</th>\n",
       "      <td>jasmine</td>\n",
       "      <td>2.4.0</td>\n",
       "      <td>2015-12-03</td>\n",
       "      <td>minor</td>\n",
       "      <td>2.4.0</td>\n",
       "      <td>2</td>\n",
       "      <td>4</td>\n",
       "      <td>0</td>\n",
       "    </tr>\n",
       "    <tr>\n",
       "      <th>2301055</th>\n",
       "      <td>jasmine</td>\n",
       "      <td>2.4.1</td>\n",
       "      <td>2015-12-03</td>\n",
       "      <td>patch</td>\n",
       "      <td>2.4.1</td>\n",
       "      <td>2</td>\n",
       "      <td>4</td>\n",
       "      <td>1</td>\n",
       "    </tr>\n",
       "    <tr>\n",
       "      <th>2301056</th>\n",
       "      <td>jasmine</td>\n",
       "      <td>2.5.0</td>\n",
       "      <td>2016-08-31</td>\n",
       "      <td>minor</td>\n",
       "      <td>2.5.0</td>\n",
       "      <td>2</td>\n",
       "      <td>5</td>\n",
       "      <td>0</td>\n",
       "    </tr>\n",
       "    <tr>\n",
       "      <th>2301057</th>\n",
       "      <td>jasmine</td>\n",
       "      <td>2.5.1</td>\n",
       "      <td>2016-09-07</td>\n",
       "      <td>patch</td>\n",
       "      <td>2.5.1</td>\n",
       "      <td>2</td>\n",
       "      <td>5</td>\n",
       "      <td>1</td>\n",
       "    </tr>\n",
       "    <tr>\n",
       "      <th>2301058</th>\n",
       "      <td>jasmine</td>\n",
       "      <td>2.5.2</td>\n",
       "      <td>2016-09-17</td>\n",
       "      <td>patch</td>\n",
       "      <td>2.5.2</td>\n",
       "      <td>2</td>\n",
       "      <td>5</td>\n",
       "      <td>2</td>\n",
       "    </tr>\n",
       "    <tr>\n",
       "      <th>2301059</th>\n",
       "      <td>jasmine</td>\n",
       "      <td>2.5.3</td>\n",
       "      <td>2017-01-12</td>\n",
       "      <td>patch</td>\n",
       "      <td>2.5.3</td>\n",
       "      <td>2</td>\n",
       "      <td>5</td>\n",
       "      <td>3</td>\n",
       "    </tr>\n",
       "    <tr>\n",
       "      <th>2301060</th>\n",
       "      <td>jasmine</td>\n",
       "      <td>2.6.0</td>\n",
       "      <td>2017-04-24</td>\n",
       "      <td>minor</td>\n",
       "      <td>2.6.0</td>\n",
       "      <td>2</td>\n",
       "      <td>6</td>\n",
       "      <td>0</td>\n",
       "    </tr>\n",
       "    <tr>\n",
       "      <th>2301061</th>\n",
       "      <td>jasmine</td>\n",
       "      <td>2.7.0</td>\n",
       "      <td>2017-07-28</td>\n",
       "      <td>minor</td>\n",
       "      <td>2.7.0</td>\n",
       "      <td>2</td>\n",
       "      <td>7</td>\n",
       "      <td>0</td>\n",
       "    </tr>\n",
       "    <tr>\n",
       "      <th>2301062</th>\n",
       "      <td>jasmine</td>\n",
       "      <td>2.8.0</td>\n",
       "      <td>2017-08-24</td>\n",
       "      <td>minor</td>\n",
       "      <td>2.8.0</td>\n",
       "      <td>2</td>\n",
       "      <td>8</td>\n",
       "      <td>0</td>\n",
       "    </tr>\n",
       "    <tr>\n",
       "      <th>2301063</th>\n",
       "      <td>jasmine</td>\n",
       "      <td>2.9.0</td>\n",
       "      <td>2018-01-18</td>\n",
       "      <td>minor</td>\n",
       "      <td>2.9.0</td>\n",
       "      <td>2</td>\n",
       "      <td>9</td>\n",
       "      <td>0</td>\n",
       "    </tr>\n",
       "    <tr>\n",
       "      <th>2301064</th>\n",
       "      <td>jasmine</td>\n",
       "      <td>2.99.0</td>\n",
       "      <td>2018-02-06</td>\n",
       "      <td>minor</td>\n",
       "      <td>2.99.0</td>\n",
       "      <td>2</td>\n",
       "      <td>99</td>\n",
       "      <td>0</td>\n",
       "    </tr>\n",
       "    <tr>\n",
       "      <th>2301065</th>\n",
       "      <td>jasmine</td>\n",
       "      <td>3.0.0</td>\n",
       "      <td>2018-02-06</td>\n",
       "      <td>major</td>\n",
       "      <td>3.0.0</td>\n",
       "      <td>3</td>\n",
       "      <td>0</td>\n",
       "      <td>0</td>\n",
       "    </tr>\n",
       "    <tr>\n",
       "      <th>2301066</th>\n",
       "      <td>jasmine</td>\n",
       "      <td>3.1.0</td>\n",
       "      <td>2018-02-27</td>\n",
       "      <td>minor</td>\n",
       "      <td>3.1.0</td>\n",
       "      <td>3</td>\n",
       "      <td>1</td>\n",
       "      <td>0</td>\n",
       "    </tr>\n",
       "  </tbody>\n",
       "</table>\n",
       "</div>"
      ],
      "text/plain": [
       "         package version        date release_type  semver Major Minor Patch\n",
       "2301046  jasmine   2.0.1  2014-08-22      initial   2.0.1     2     0     1\n",
       "2301047  jasmine   2.1.0  2014-11-14        minor   2.1.0     2     1     0\n",
       "2301048  jasmine   2.1.1  2014-12-01        patch   2.1.1     2     1     1\n",
       "2301049  jasmine   2.2.0  2015-02-02        minor   2.2.0     2     2     0\n",
       "2301050  jasmine   2.2.1  2015-02-06        patch   2.2.1     2     2     1\n",
       "2301051  jasmine   2.3.0  2015-04-28        minor   2.3.0     2     3     0\n",
       "2301052  jasmine   2.3.1  2015-05-02        patch   2.3.1     2     3     1\n",
       "2301053  jasmine   2.3.2  2015-08-03        patch   2.3.2     2     3     2\n",
       "2301054  jasmine   2.4.0  2015-12-03        minor   2.4.0     2     4     0\n",
       "2301055  jasmine   2.4.1  2015-12-03        patch   2.4.1     2     4     1\n",
       "2301056  jasmine   2.5.0  2016-08-31        minor   2.5.0     2     5     0\n",
       "2301057  jasmine   2.5.1  2016-09-07        patch   2.5.1     2     5     1\n",
       "2301058  jasmine   2.5.2  2016-09-17        patch   2.5.2     2     5     2\n",
       "2301059  jasmine   2.5.3  2017-01-12        patch   2.5.3     2     5     3\n",
       "2301060  jasmine   2.6.0  2017-04-24        minor   2.6.0     2     6     0\n",
       "2301061  jasmine   2.7.0  2017-07-28        minor   2.7.0     2     7     0\n",
       "2301062  jasmine   2.8.0  2017-08-24        minor   2.8.0     2     8     0\n",
       "2301063  jasmine   2.9.0  2018-01-18        minor   2.9.0     2     9     0\n",
       "2301064  jasmine  2.99.0  2018-02-06        minor  2.99.0     2    99     0\n",
       "2301065  jasmine   3.0.0  2018-02-06        major   3.0.0     3     0     0\n",
       "2301066  jasmine   3.1.0  2018-02-27        minor   3.1.0     3     1     0"
      ]
     },
     "execution_count": 38,
     "metadata": {},
     "output_type": "execute_result"
    }
   ],
   "source": [
    "versions.query('package==\"jasmine\"')"
   ]
  },
  {
   "cell_type": "code",
   "execution_count": null,
   "metadata": {},
   "outputs": [],
   "source": []
  }
 ],
 "metadata": {
  "kernelspec": {
   "display_name": "Python 3",
   "language": "python",
   "name": "python3"
  },
  "language_info": {
   "codemirror_mode": {
    "name": "ipython",
    "version": 3
   },
   "file_extension": ".py",
   "mimetype": "text/x-python",
   "name": "python",
   "nbconvert_exporter": "python",
   "pygments_lexer": "ipython3",
   "version": "3.5.1+"
  }
 },
 "nbformat": 4,
 "nbformat_minor": 2
}
