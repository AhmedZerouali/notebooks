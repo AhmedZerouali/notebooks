{
 "cells": [
  {
   "cell_type": "code",
   "execution_count": 1,
   "metadata": {},
   "outputs": [],
   "source": [
    "%matplotlib inline\n",
    "import seaborn as sns; #sns.set(style=\"ticks\", color_codes=True)\n",
    "import pandas as pd\n",
    "import matplotlib.pyplot as plt\n",
    "from matplotlib import style\n",
    "import scipy\n",
    "style.use('fast')\n",
    "from datetime import datetime\n",
    "from io import StringIO\n",
    "import re\n",
    "import numpy as np\n",
    "import os\n",
    "from tqdm import tqdm\n",
    "import json as js\n",
    "import codecs\n",
    "import subprocess"
   ]
  },
  {
   "cell_type": "code",
   "execution_count": 2,
   "metadata": {},
   "outputs": [],
   "source": [
    "sns.set_style('ticks',{'legend.frameon':True} )\n",
    "sns.set_palette('colorblind')\n",
    "FIG_SIZE = (12, 3)\n",
    "font = {'family' : 'Times New Roman',\n",
    "        'weight' : 'bold',\n",
    "        'size'   : 22}\n",
    "plt.rc('font', **font)\n",
    "plt.rcParams['pdf.fonttype'] = 42\n",
    "plt.rcParams['ps.fonttype'] = 42\n",
    "plt.rcParams['text.usetex'] = True\n",
    "\n",
    "plt.rcParams['xtick.labelsize'] = 18\n",
    "plt.rcParams['ytick.labelsize'] = 22\n",
    "plt.rcParams['axes.labelsize']= 22\n"
   ]
  },
  {
   "cell_type": "markdown",
   "metadata": {},
   "source": [
    "# LOAD DATA"
   ]
  },
  {
   "cell_type": "code",
   "execution_count": 84,
   "metadata": {},
   "outputs": [
    {
     "name": "stdout",
     "output_type": "stream",
     "text": [
      "4760450\n"
     ]
    },
    {
     "data": {
      "text/html": [
       "<div>\n",
       "<style scoped>\n",
       "    .dataframe tbody tr th:only-of-type {\n",
       "        vertical-align: middle;\n",
       "    }\n",
       "\n",
       "    .dataframe tbody tr th {\n",
       "        vertical-align: top;\n",
       "    }\n",
       "\n",
       "    .dataframe thead th {\n",
       "        text-align: right;\n",
       "    }\n",
       "</style>\n",
       "<table border=\"1\" class=\"dataframe\">\n",
       "  <thead>\n",
       "    <tr style=\"text-align: right;\">\n",
       "      <th></th>\n",
       "      <th>package</th>\n",
       "      <th>version</th>\n",
       "      <th>date</th>\n",
       "      <th>release_type</th>\n",
       "    </tr>\n",
       "  </thead>\n",
       "  <tbody>\n",
       "    <tr>\n",
       "      <th>0</th>\n",
       "      <td>0</td>\n",
       "      <td>0.0.0</td>\n",
       "      <td>2014-04-01</td>\n",
       "      <td>initial</td>\n",
       "    </tr>\n",
       "    <tr>\n",
       "      <th>1</th>\n",
       "      <td>0-</td>\n",
       "      <td>0.0.1</td>\n",
       "      <td>2017-03-06</td>\n",
       "      <td>initial</td>\n",
       "    </tr>\n",
       "  </tbody>\n",
       "</table>\n",
       "</div>"
      ],
      "text/plain": [
       "  package version        date release_type\n",
       "0       0   0.0.0  2014-04-01      initial\n",
       "1      0-   0.0.1  2017-03-06      initial"
      ]
     },
     "execution_count": 84,
     "metadata": {},
     "output_type": "execute_result"
    }
   ],
   "source": [
    "versions=pd.read_csv('../../jsep2018/csv/versions_npm_march.csv', sep=';', dtype=object, index_col=None,  error_bad_lines=False)\n",
    "print(len(versions))\n",
    "for x in versions:\n",
    "    versions[x]=versions[x].apply(str)\n",
    "versions=versions.sort_values(['package','date','version'],ascending=True)\n",
    "versions.head(2)"
   ]
  },
  {
   "cell_type": "code",
   "execution_count": 14,
   "metadata": {},
   "outputs": [
    {
     "name": "stdout",
     "output_type": "stream",
     "text": [
      "52842716\n"
     ]
    },
    {
     "data": {
      "text/html": [
       "<div>\n",
       "<style scoped>\n",
       "    .dataframe tbody tr th:only-of-type {\n",
       "        vertical-align: middle;\n",
       "    }\n",
       "\n",
       "    .dataframe tbody tr th {\n",
       "        vertical-align: top;\n",
       "    }\n",
       "\n",
       "    .dataframe thead th {\n",
       "        text-align: right;\n",
       "    }\n",
       "</style>\n",
       "<table border=\"1\" class=\"dataframe\">\n",
       "  <thead>\n",
       "    <tr style=\"text-align: right;\">\n",
       "      <th></th>\n",
       "      <th>package</th>\n",
       "      <th>version</th>\n",
       "      <th>dependency</th>\n",
       "      <th>kind</th>\n",
       "      <th>constraint</th>\n",
       "    </tr>\n",
       "  </thead>\n",
       "  <tbody>\n",
       "    <tr>\n",
       "      <th>0</th>\n",
       "      <td>007</td>\n",
       "      <td>0.0.1</td>\n",
       "      <td>should</td>\n",
       "      <td>Development</td>\n",
       "      <td>~1.2.2</td>\n",
       "    </tr>\n",
       "    <tr>\n",
       "      <th>1</th>\n",
       "      <td>007</td>\n",
       "      <td>0.0.1</td>\n",
       "      <td>mocha</td>\n",
       "      <td>Development</td>\n",
       "      <td>~1.12.0</td>\n",
       "    </tr>\n",
       "  </tbody>\n",
       "</table>\n",
       "</div>"
      ],
      "text/plain": [
       "  package version dependency         kind constraint\n",
       "0     007   0.0.1     should  Development     ~1.2.2\n",
       "1     007   0.0.1      mocha  Development    ~1.12.0"
      ]
     },
     "execution_count": 14,
     "metadata": {},
     "output_type": "execute_result"
    }
   ],
   "source": [
    "dependencies=pd.read_csv('../../jsep2018/dependencies_npm_march.csv', sep=';', dtype=object, index_col=None,  error_bad_lines=False)\n",
    "print(len(dependencies))\n",
    "dependencies.drop_duplicates(inplace=True)\n",
    "for x in dependencies:\n",
    "    dependencies[x]=dependencies[x].apply(str)\n",
    "dependencies.head(2)"
   ]
  },
  {
   "cell_type": "code",
   "execution_count": 16,
   "metadata": {},
   "outputs": [
    {
     "name": "stdout",
     "output_type": "stream",
     "text": [
      "53587988\n"
     ]
    },
    {
     "data": {
      "text/html": [
       "<div>\n",
       "<style scoped>\n",
       "    .dataframe tbody tr th:only-of-type {\n",
       "        vertical-align: middle;\n",
       "    }\n",
       "\n",
       "    .dataframe tbody tr th {\n",
       "        vertical-align: top;\n",
       "    }\n",
       "\n",
       "    .dataframe thead th {\n",
       "        text-align: right;\n",
       "    }\n",
       "</style>\n",
       "<table border=\"1\" class=\"dataframe\">\n",
       "  <thead>\n",
       "    <tr style=\"text-align: right;\">\n",
       "      <th></th>\n",
       "      <th>package</th>\n",
       "      <th>version</th>\n",
       "      <th>dependency</th>\n",
       "      <th>kind</th>\n",
       "      <th>constraint</th>\n",
       "      <th>date</th>\n",
       "      <th>release_type</th>\n",
       "    </tr>\n",
       "  </thead>\n",
       "  <tbody>\n",
       "    <tr>\n",
       "      <th>0</th>\n",
       "      <td>0</td>\n",
       "      <td>0.0.0</td>\n",
       "      <td>NaN</td>\n",
       "      <td>NaN</td>\n",
       "      <td>NaN</td>\n",
       "      <td>2014-04-01</td>\n",
       "      <td>initial</td>\n",
       "    </tr>\n",
       "    <tr>\n",
       "      <th>1</th>\n",
       "      <td>0-</td>\n",
       "      <td>0.0.1</td>\n",
       "      <td>tap</td>\n",
       "      <td>Development</td>\n",
       "      <td>^6.3.2</td>\n",
       "      <td>2017-03-06</td>\n",
       "      <td>initial</td>\n",
       "    </tr>\n",
       "  </tbody>\n",
       "</table>\n",
       "</div>"
      ],
      "text/plain": [
       "  package version dependency         kind constraint        date release_type\n",
       "0       0   0.0.0        NaN          NaN        NaN  2014-04-01      initial\n",
       "1      0-   0.0.1        tap  Development     ^6.3.2  2017-03-06      initial"
      ]
     },
     "execution_count": 16,
     "metadata": {},
     "output_type": "execute_result"
    }
   ],
   "source": [
    "deps=(dependencies.\n",
    "              set_index(['package','version']).\n",
    "              merge(\n",
    "                  versions.\n",
    "                  set_index(['package','version']),\n",
    "                  left_index=True, \n",
    "                  right_index=True, \n",
    "                  how='outer').\n",
    "              reset_index()\n",
    "              #dropna().\n",
    "              #drop_duplicates()\n",
    "             )\n",
    "print(len(deps))\n",
    "deps.head(2)"
   ]
  },
  {
   "cell_type": "code",
   "execution_count": 19,
   "metadata": {},
   "outputs": [],
   "source": [
    "deps.dropna(inplace=True)"
   ]
  },
  {
   "cell_type": "code",
   "execution_count": 22,
   "metadata": {},
   "outputs": [],
   "source": [
    "deps.drop_duplicates(inplace=True)"
   ]
  },
  {
   "cell_type": "code",
   "execution_count": null,
   "metadata": {},
   "outputs": [],
   "source": [
    "deps.to_csv('../../jsep2018/dependencies_npm_march.csv', sep=';', index=False)"
   ]
  },
  {
   "cell_type": "markdown",
   "metadata": {},
   "source": [
    "# GET THE RIGHT VERSION"
   ]
  },
  {
   "cell_type": "code",
   "execution_count": 77,
   "metadata": {},
   "outputs": [
    {
     "data": {
      "text/plain": [
       "1     6.3.2|10.3.0|11.1.2\n",
       "3       3.9.1|3.9.1|4.0.0\n",
       "4     6.3.2|10.3.0|11.1.2\n",
       "6    2.79.0|2.79.0|2.85.0\n",
       "8       1.9.0|1.9.0|2.0.0\n",
       "dtype: object"
      ]
     },
     "execution_count": 77,
     "metadata": {},
     "output_type": "execute_result"
    }
   ],
   "source": [
    "deps.head().apply(lambda d: rigt_version(d['dependency'],\n",
    "                                         d['date'],\n",
    "                                         d['constraint']),\n",
    "                 axis=1)"
   ]
  },
  {
   "cell_type": "code",
   "execution_count": 76,
   "metadata": {},
   "outputs": [
    {
     "data": {
      "text/plain": [
       "'6.3.2|10.3.0|11.1.2'"
      ]
     },
     "execution_count": 76,
     "metadata": {},
     "output_type": "execute_result"
    }
   ],
   "source": [
    "rigt_version('tap','2017-03-06','^6.3.2')"
   ]
  },
  {
   "cell_type": "code",
   "execution_count": 61,
   "metadata": {},
   "outputs": [
    {
     "data": {
      "text/html": [
       "<div>\n",
       "<style scoped>\n",
       "    .dataframe tbody tr th:only-of-type {\n",
       "        vertical-align: middle;\n",
       "    }\n",
       "\n",
       "    .dataframe tbody tr th {\n",
       "        vertical-align: top;\n",
       "    }\n",
       "\n",
       "    .dataframe thead th {\n",
       "        text-align: right;\n",
       "    }\n",
       "</style>\n",
       "<table border=\"1\" class=\"dataframe\">\n",
       "  <thead>\n",
       "    <tr style=\"text-align: right;\">\n",
       "      <th></th>\n",
       "      <th>package</th>\n",
       "      <th>version</th>\n",
       "      <th>dependency</th>\n",
       "      <th>kind</th>\n",
       "      <th>constraint</th>\n",
       "      <th>date</th>\n",
       "      <th>release_type</th>\n",
       "    </tr>\n",
       "  </thead>\n",
       "  <tbody>\n",
       "    <tr>\n",
       "      <th>1</th>\n",
       "      <td>0-</td>\n",
       "      <td>0.0.1</td>\n",
       "      <td>tap</td>\n",
       "      <td>Development</td>\n",
       "      <td>^6.3.2</td>\n",
       "      <td>2017-03-06</td>\n",
       "      <td>initial</td>\n",
       "    </tr>\n",
       "    <tr>\n",
       "      <th>3</th>\n",
       "      <td>0-0</td>\n",
       "      <td>1.0.2</td>\n",
       "      <td>gulp</td>\n",
       "      <td>runtime</td>\n",
       "      <td>*</td>\n",
       "      <td>2016-12-04</td>\n",
       "      <td>initial</td>\n",
       "    </tr>\n",
       "    <tr>\n",
       "      <th>4</th>\n",
       "      <td>0-9</td>\n",
       "      <td>0.0.1</td>\n",
       "      <td>tap</td>\n",
       "      <td>Development</td>\n",
       "      <td>^6.3.2</td>\n",
       "      <td>2017-03-06</td>\n",
       "      <td>initial</td>\n",
       "    </tr>\n",
       "    <tr>\n",
       "      <th>6</th>\n",
       "      <td>0.</td>\n",
       "      <td>1.0.0</td>\n",
       "      <td>request</td>\n",
       "      <td>runtime</td>\n",
       "      <td>^2.79.0</td>\n",
       "      <td>2017-02-07</td>\n",
       "      <td>initial</td>\n",
       "    </tr>\n",
       "    <tr>\n",
       "      <th>8</th>\n",
       "      <td>0.0.0-development</td>\n",
       "      <td>1.0.0</td>\n",
       "      <td>eslint-loader</td>\n",
       "      <td>runtime</td>\n",
       "      <td>^1.7.1</td>\n",
       "      <td>2017-11-25</td>\n",
       "      <td>initial</td>\n",
       "    </tr>\n",
       "  </tbody>\n",
       "</table>\n",
       "</div>"
      ],
      "text/plain": [
       "             package version     dependency         kind constraint  \\\n",
       "1                 0-   0.0.1            tap  Development     ^6.3.2   \n",
       "3                0-0   1.0.2           gulp      runtime          *   \n",
       "4                0-9   0.0.1            tap  Development     ^6.3.2   \n",
       "6                 0.   1.0.0        request      runtime    ^2.79.0   \n",
       "8  0.0.0-development   1.0.0  eslint-loader      runtime     ^1.7.1   \n",
       "\n",
       "         date release_type  \n",
       "1  2017-03-06      initial  \n",
       "3  2016-12-04      initial  \n",
       "4  2017-03-06      initial  \n",
       "6  2017-02-07      initial  \n",
       "8  2017-11-25      initial  "
      ]
     },
     "execution_count": 61,
     "metadata": {},
     "output_type": "execute_result"
    }
   ],
   "source": [
    "deps.head()"
   ]
  },
  {
   "cell_type": "markdown",
   "metadata": {},
   "source": [
    "# After extracting the right version with unique dependencies "
   ]
  },
  {
   "cell_type": "code",
   "execution_count": 2,
   "metadata": {},
   "outputs": [
    {
     "name": "stderr",
     "output_type": "stream",
     "text": [
      "b'Skipping line 4694189: expected 5 fields, saw 6\\nSkipping line 4694190: expected 5 fields, saw 6\\nSkipping line 4694206: expected 5 fields, saw 6\\n'\n"
     ]
    }
   ],
   "source": [
    "deps_right=pd.read_csv('../../jsep2018/csv/dependencies_right_version.csv', sep=';', dtype=object, index_col=None,  error_bad_lines=False)"
   ]
  },
  {
   "cell_type": "code",
   "execution_count": 12,
   "metadata": {},
   "outputs": [],
   "source": [
    "deps_right['used_version']=deps_right['right_version'].apply(lambda x: x.split('|')[0])\n",
    "deps_right['last_available']=deps_right['right_version'].apply(lambda x: x.split('|')[-1])"
   ]
  },
  {
   "cell_type": "code",
   "execution_count": 22,
   "metadata": {},
   "outputs": [
    {
     "name": "stdout",
     "output_type": "stream",
     "text": [
      "2.570380044757206\n"
     ]
    }
   ],
   "source": [
    "print(len(deps_right.query('right_version==\"undefined\"'))*100/len(deps_right))"
   ]
  },
  {
   "cell_type": "code",
   "execution_count": 25,
   "metadata": {},
   "outputs": [],
   "source": [
    "deps_right=deps_right.drop('right_version', axis=1)"
   ]
  },
  {
   "cell_type": "code",
   "execution_count": 28,
   "metadata": {},
   "outputs": [
    {
     "data": {
      "text/plain": [
       "13538251"
      ]
     },
     "execution_count": 28,
     "metadata": {},
     "output_type": "execute_result"
    }
   ],
   "source": [
    "deps_right=deps_right.query('used_version!=\"undefined\"')\n",
    "len(deps_right)"
   ]
  },
  {
   "cell_type": "code",
   "execution_count": 34,
   "metadata": {},
   "outputs": [
    {
     "data": {
      "text/html": [
       "<div>\n",
       "<style scoped>\n",
       "    .dataframe tbody tr th:only-of-type {\n",
       "        vertical-align: middle;\n",
       "    }\n",
       "\n",
       "    .dataframe tbody tr th {\n",
       "        vertical-align: top;\n",
       "    }\n",
       "\n",
       "    .dataframe thead th {\n",
       "        text-align: right;\n",
       "    }\n",
       "</style>\n",
       "<table border=\"1\" class=\"dataframe\">\n",
       "  <thead>\n",
       "    <tr style=\"text-align: right;\">\n",
       "      <th></th>\n",
       "      <th>dependency</th>\n",
       "      <th>constraint</th>\n",
       "      <th>date</th>\n",
       "      <th>last_today</th>\n",
       "      <th>used_version</th>\n",
       "      <th>last_available</th>\n",
       "    </tr>\n",
       "  </thead>\n",
       "  <tbody>\n",
       "    <tr>\n",
       "      <th>0</th>\n",
       "      <td>0</td>\n",
       "      <td>*</td>\n",
       "      <td>2016-03-30</td>\n",
       "      <td>0.0.0</td>\n",
       "      <td>0.0.0</td>\n",
       "      <td>0.0.0</td>\n",
       "    </tr>\n",
       "    <tr>\n",
       "      <th>2</th>\n",
       "      <td>0</td>\n",
       "      <td>*</td>\n",
       "      <td>2015-11-11</td>\n",
       "      <td>0.0.0</td>\n",
       "      <td>0.0.0</td>\n",
       "      <td>0.0.0</td>\n",
       "    </tr>\n",
       "  </tbody>\n",
       "</table>\n",
       "</div>"
      ],
      "text/plain": [
       "  dependency constraint        date last_today used_version last_available\n",
       "0          0          *  2016-03-30      0.0.0        0.0.0          0.0.0\n",
       "2          0          *  2015-11-11      0.0.0        0.0.0          0.0.0"
      ]
     },
     "execution_count": 34,
     "metadata": {},
     "output_type": "execute_result"
    }
   ],
   "source": [
    "deps_right.head(2)"
   ]
  },
  {
   "cell_type": "code",
   "execution_count": 45,
   "metadata": {},
   "outputs": [],
   "source": [
    "versions.drop('release_type',axis=1, inplace=True)\n",
    "versions.rename(columns={'package':'dependency'}, inplace=True)"
   ]
  },
  {
   "cell_type": "code",
   "execution_count": 47,
   "metadata": {},
   "outputs": [
    {
     "data": {
      "text/plain": [
       "13538095"
      ]
     },
     "execution_count": 47,
     "metadata": {},
     "output_type": "execute_result"
    }
   ],
   "source": [
    "#versions.rename(columns={'version':'last_today','date':'date_last_today'})\n",
    "\n",
    "deps_right_0=(deps_right.set_index(['dependency','last_today']).\n",
    "              merge(versions.rename(columns={'version':'last_today','date':'date_last_today'}).\n",
    "                    set_index(['dependency','last_today']),\n",
    "                    left_index=True,\n",
    "                    right_index=True,\n",
    "                    how='left').\n",
    "              reset_index().\n",
    "              dropna().\n",
    "              drop_duplicates()\n",
    "             )\n",
    "len(deps_right_0)"
   ]
  },
  {
   "cell_type": "code",
   "execution_count": 48,
   "metadata": {},
   "outputs": [
    {
     "data": {
      "text/plain": [
       "13537962"
      ]
     },
     "execution_count": 48,
     "metadata": {},
     "output_type": "execute_result"
    }
   ],
   "source": [
    "deps_right_0=(deps_right_0.set_index(['dependency','used_version']).\n",
    "              merge(versions.rename(columns={'version':'used_version','date':'date_used_version'}).\n",
    "                    set_index(['dependency','used_version']),\n",
    "                    left_index=True,\n",
    "                    right_index=True,\n",
    "                    how='left').\n",
    "              reset_index().\n",
    "              dropna().\n",
    "              drop_duplicates()\n",
    "             )\n",
    "len(deps_right_0)"
   ]
  },
  {
   "cell_type": "code",
   "execution_count": 49,
   "metadata": {},
   "outputs": [
    {
     "data": {
      "text/plain": [
       "13537962"
      ]
     },
     "execution_count": 49,
     "metadata": {},
     "output_type": "execute_result"
    }
   ],
   "source": [
    "deps_right_0=(deps_right_0.set_index(['dependency','last_available']).\n",
    "              merge(versions.rename(columns={'version':'last_available','date':'date_last_available'}).\n",
    "                    set_index(['dependency','last_available']),\n",
    "                    left_index=True,\n",
    "                    right_index=True,\n",
    "                    how='left').\n",
    "              reset_index().\n",
    "              dropna().\n",
    "              drop_duplicates()\n",
    "             )\n",
    "len(deps_right_0)"
   ]
  },
  {
   "cell_type": "code",
   "execution_count": 54,
   "metadata": {},
   "outputs": [
    {
     "name": "stdout",
     "output_type": "stream",
     "text": [
      "79.139740531108\n"
     ]
    }
   ],
   "source": [
    "print(len(deps_right_0.query('used_version!=last_today'))*100/len(deps_right_0))"
   ]
  },
  {
   "cell_type": "code",
   "execution_count": 59,
   "metadata": {},
   "outputs": [],
   "source": [
    "deps_right_0.to_csv('../../jsep2018/csv/dependencies_right_version.csv', sep=';', index=False)"
   ]
  },
  {
   "cell_type": "code",
   "execution_count": 65,
   "metadata": {},
   "outputs": [
    {
     "data": {
      "text/plain": [
       "0    0,0,0\n",
       "1    0,0,0\n",
       "2    0,0,0\n",
       "3    0,0,0\n",
       "4    0,0,0\n",
       "5    0,0,0\n",
       "6    0,0,0\n",
       "7    0,0,0\n",
       "8    0,0,0\n",
       "9    0,0,0\n",
       "dtype: object"
      ]
     },
     "execution_count": 65,
     "metadata": {},
     "output_type": "execute_result"
    }
   ],
   "source": [
    "deps_right_0.head(10).apply(lambda d: count_versionlag(d['dependency'],d['date_used_version'],\n",
    "                                                                              d['date_last_available']),\n",
    "                                                axis=1\n",
    "                                               )\n"
   ]
  },
  {
   "cell_type": "code",
   "execution_count": 88,
   "metadata": {},
   "outputs": [],
   "source": []
  },
  {
   "cell_type": "markdown",
   "metadata": {},
   "source": [
    "# HELPERS "
   ]
  },
  {
   "cell_type": "code",
   "execution_count": 85,
   "metadata": {},
   "outputs": [
    {
     "name": "stderr",
     "output_type": "stream",
     "text": [
      "Exception ignored in: <bound method tqdm.__del__ of 100%|██████████| 27/27 [01:49<00:00,  4.05s/it]>\n",
      "Traceback (most recent call last):\n",
      "  File \"/usr/local/lib/python3.5/dist-packages/tqdm/_tqdm.py\", line 878, in __del__\n",
      "    self.close()\n",
      "  File \"/usr/local/lib/python3.5/dist-packages/tqdm/_tqdm.py\", line 1097, in close\n",
      "    self._decr_instances(self)\n",
      "  File \"/usr/local/lib/python3.5/dist-packages/tqdm/_tqdm.py\", line 438, in _decr_instances\n",
      "    cls._instances.remove(instance)\n",
      "  File \"/usr/lib/python3.5/_weakrefset.py\", line 109, in remove\n",
      "    self.data.remove(ref(item))\n",
      "KeyError: <weakref at 0x7f957bb5e9a8; to 'tqdm' at 0x7f969a56a7f0>\n"
     ]
    }
   ],
   "source": [
    "\n",
    "RE_SEMVER = r'^(?:v|V)?(?P<v_major>\\d+)\\.(?P<v_minor>\\d+)\\.(?P<v_patch>\\d+)(?P<v_misc>.*)$'\n",
    "\n",
    "# Version lag function\n",
    "\n",
    "def rigt_version(dependency,date,constraint):\n",
    "    try:\n",
    "        tmp=versions.query('package==\"'+dependency+'\"')\n",
    "        last_today=tmp.version.values[-1]\n",
    "\n",
    "        tmp=tmp.query('date<=\"'+date+'\"')\n",
    "        last=tmp.version.values[-1]\n",
    "\n",
    "        return semver(constraint,tmp.version.values)[-1]+'|'+last+'|'+last_today\n",
    "    except:\n",
    "        return 'undefined'\n",
    "    \n",
    "\n",
    "def latest_version_date(package,date):\n",
    "    try:\n",
    "        return npm_versions.query('package==\"'+package+'\" and date<=\"'+date+'\"').values[-1][1]\n",
    "    except:\n",
    "        return 'undefined'\n",
    "\n",
    "    \n",
    "def affected(constraint,version):\n",
    "    verss=[]\n",
    "    verss.append(version)\n",
    "    return len(semver(constraint,verss)) > 0\n",
    "\n",
    "def semver(constraint, versions):\n",
    "    \"\"\"\n",
    "    Return the versions in ``versions'' that satisfy given constraint.\n",
    "    Semantic is provided by the semver tool of nodejs.\n",
    "    \"\"\"\n",
    "    args = ['semver', '-r', constraint] + list(versions)\n",
    "    \n",
    "    completed = subprocess.run(args, stdout=subprocess.PIPE)\n",
    "    if completed.returncode == 0:\n",
    "        return completed.stdout.decode().strip().split('\\n')\n",
    "    else:\n",
    "        return []\n",
    "    \n",
    "\n",
    "def comply_semver(series_of_releases):\n",
    "    extracted = series_of_releases.str.extract(RE_SEMVER, expand=True)\n",
    "    return (\n",
    "        extracted\n",
    "        [['v_major', 'v_minor', 'v_patch']]\n",
    "        .astype('str')\n",
    "        .assign(Semver=lambda d: d['v_major'] + '.' + d['v_minor'] + '.' + d['v_patch'])\n",
    "        ['Semver']\n",
    "    )\n",
    "    \n",
    "\n",
    "def kind_of_update(previous, current, allow_misc=False):\n",
    "    if previous is pandas.np.nan or previous is pandas.NaT:\n",
    "        return 'initial'\n",
    "    \n",
    "    semver_previous = re.match(RE_SEMVER, previous)\n",
    "    semver_current = re.match(RE_SEMVER, current)\n",
    "    \n",
    "    previous_v = semver_previous.groupdict()\n",
    "    current_v = semver_current.groupdict()\n",
    "    \n",
    "    if previous_v['v_major'] != current_v['v_major']:\n",
    "        return 'major'\n",
    "    elif previous_v['v_minor'] != current_v['v_minor']:\n",
    "        return 'minor'\n",
    "    elif previous_v['v_patch'] != current_v['v_patch']:\n",
    "        return 'patch'\n",
    "    elif previous_v['v_misc'] != current_v['v_misc']:\n",
    "        return 'misc' if allow_misc else 'patch'\n",
    "    else:\n",
    "        raise ValueError('The two versions are similar from a semantic point of view')\n",
    "        \n",
    "def count_versionlag(package,date,date_latest):\n",
    "    if date==date_latest:\n",
    "        return '0,0,0'\n",
    "    tmp=versions.query('package==\"'+package+'\" and date>\"'+date+'\"').query('date<=\"'+date_latest+'\"')\n",
    "\n",
    "    tmp=tmp.groupby('release_type').count()\n",
    "    try:\n",
    "        major=str(tmp.package['major'])\n",
    "    except:\n",
    "        major=\"0\"\n",
    "        \n",
    "    try:\n",
    "        minor=str(tmp.package['minor'])\n",
    "    except:\n",
    "        minor=\"0\"\n",
    "        \n",
    "    try:\n",
    "        patch=str(tmp.package['patch'])\n",
    "    except:\n",
    "        patch=\"0\"\n",
    "        \n",
    "    return major+','+minor+','+patch"
   ]
  },
  {
   "cell_type": "code",
   "execution_count": null,
   "metadata": {},
   "outputs": [],
   "source": []
  }
 ],
 "metadata": {
  "kernelspec": {
   "display_name": "Python 3",
   "language": "python",
   "name": "python3"
  },
  "language_info": {
   "codemirror_mode": {
    "name": "ipython",
    "version": 3
   },
   "file_extension": ".py",
   "mimetype": "text/x-python",
   "name": "python",
   "nbconvert_exporter": "python",
   "pygments_lexer": "ipython3",
   "version": "3.5.1+"
  }
 },
 "nbformat": 4,
 "nbformat_minor": 2
}
