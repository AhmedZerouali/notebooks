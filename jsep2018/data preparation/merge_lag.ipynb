{
 "cells": [
  {
   "cell_type": "code",
   "execution_count": 1,
   "metadata": {},
   "outputs": [],
   "source": [
    "%matplotlib inline\n",
    "import seaborn as sns; #sns.set(style=\"ticks\", color_codes=True)\n",
    "import pandas as pd\n",
    "import matplotlib.pyplot as plt\n",
    "from matplotlib import style\n",
    "import scipy\n",
    "style.use('fast')\n",
    "from datetime import datetime\n",
    "from io import StringIO\n",
    "import re\n",
    "import numpy as np\n",
    "import os\n",
    "from tqdm import tqdm\n",
    "import json as js\n",
    "import codecs\n",
    "import subprocess"
   ]
  },
  {
   "cell_type": "code",
   "execution_count": 2,
   "metadata": {},
   "outputs": [],
   "source": [
    "sns.set_style('ticks',{'legend.frameon':True} )\n",
    "sns.set_palette('colorblind')\n",
    "FIG_SIZE = (12, 3)\n",
    "font = {'family' : 'Times New Roman',\n",
    "        'weight' : 'bold',\n",
    "        'size'   : 22}\n",
    "plt.rc('font', **font)\n",
    "plt.rcParams['pdf.fonttype'] = 42\n",
    "plt.rcParams['ps.fonttype'] = 42\n",
    "plt.rcParams['text.usetex'] = True\n",
    "\n",
    "plt.rcParams['xtick.labelsize'] = 18\n",
    "plt.rcParams['ytick.labelsize'] = 22\n",
    "plt.rcParams['axes.labelsize']= 22\n"
   ]
  },
  {
   "cell_type": "markdown",
   "metadata": {},
   "source": [
    "# LOAD DATA for PACKAGES"
   ]
  },
  {
   "cell_type": "code",
   "execution_count": 3,
   "metadata": {},
   "outputs": [
    {
     "data": {
      "text/html": [
       "<div>\n",
       "<style scoped>\n",
       "    .dataframe tbody tr th:only-of-type {\n",
       "        vertical-align: middle;\n",
       "    }\n",
       "\n",
       "    .dataframe tbody tr th {\n",
       "        vertical-align: top;\n",
       "    }\n",
       "\n",
       "    .dataframe thead th {\n",
       "        text-align: right;\n",
       "    }\n",
       "</style>\n",
       "<table border=\"1\" class=\"dataframe\">\n",
       "  <thead>\n",
       "    <tr style=\"text-align: right;\">\n",
       "      <th></th>\n",
       "      <th>dependency</th>\n",
       "      <th>last_available</th>\n",
       "      <th>used_version</th>\n",
       "      <th>last_today</th>\n",
       "      <th>constraint</th>\n",
       "      <th>date</th>\n",
       "      <th>date_last_today</th>\n",
       "      <th>date_used_version</th>\n",
       "      <th>date_last_available</th>\n",
       "      <th>version_lag</th>\n",
       "    </tr>\n",
       "  </thead>\n",
       "  <tbody>\n",
       "    <tr>\n",
       "      <th>0</th>\n",
       "      <td>0</td>\n",
       "      <td>0.0.0</td>\n",
       "      <td>0.0.0</td>\n",
       "      <td>0.0.0</td>\n",
       "      <td>*</td>\n",
       "      <td>2016-03-30</td>\n",
       "      <td>2014-04-01</td>\n",
       "      <td>2014-04-01</td>\n",
       "      <td>2014-04-01</td>\n",
       "      <td>0,0,0</td>\n",
       "    </tr>\n",
       "    <tr>\n",
       "      <th>1</th>\n",
       "      <td>0</td>\n",
       "      <td>0.0.0</td>\n",
       "      <td>0.0.0</td>\n",
       "      <td>0.0.0</td>\n",
       "      <td>*</td>\n",
       "      <td>2015-11-11</td>\n",
       "      <td>2014-04-01</td>\n",
       "      <td>2014-04-01</td>\n",
       "      <td>2014-04-01</td>\n",
       "      <td>0,0,0</td>\n",
       "    </tr>\n",
       "  </tbody>\n",
       "</table>\n",
       "</div>"
      ],
      "text/plain": [
       "  dependency last_available used_version last_today constraint        date  \\\n",
       "0          0          0.0.0        0.0.0      0.0.0          *  2016-03-30   \n",
       "1          0          0.0.0        0.0.0      0.0.0          *  2015-11-11   \n",
       "\n",
       "  date_last_today date_used_version date_last_available version_lag  \n",
       "0      2014-04-01        2014-04-01          2014-04-01       0,0,0  \n",
       "1      2014-04-01        2014-04-01          2014-04-01       0,0,0  "
      ]
     },
     "execution_count": 3,
     "metadata": {},
     "output_type": "execute_result"
    }
   ],
   "source": [
    "unique_lag=pd.read_csv('../../jsep2018/csv/packages/dependencies_version_lag.csv', sep=';', dtype=object, index_col=None,  error_bad_lines=False)\n",
    "unique_lag.head(2)"
   ]
  },
  {
   "cell_type": "code",
   "execution_count": 4,
   "metadata": {},
   "outputs": [
    {
     "name": "stdout",
     "output_type": "stream",
     "text": [
      "52840196\n"
     ]
    },
    {
     "data": {
      "text/html": [
       "<div>\n",
       "<style scoped>\n",
       "    .dataframe tbody tr th:only-of-type {\n",
       "        vertical-align: middle;\n",
       "    }\n",
       "\n",
       "    .dataframe tbody tr th {\n",
       "        vertical-align: top;\n",
       "    }\n",
       "\n",
       "    .dataframe thead th {\n",
       "        text-align: right;\n",
       "    }\n",
       "</style>\n",
       "<table border=\"1\" class=\"dataframe\">\n",
       "  <thead>\n",
       "    <tr style=\"text-align: right;\">\n",
       "      <th></th>\n",
       "      <th>package</th>\n",
       "      <th>version</th>\n",
       "      <th>dependency</th>\n",
       "      <th>kind</th>\n",
       "      <th>constraint</th>\n",
       "      <th>date</th>\n",
       "      <th>release_type</th>\n",
       "    </tr>\n",
       "  </thead>\n",
       "  <tbody>\n",
       "    <tr>\n",
       "      <th>0</th>\n",
       "      <td>0-</td>\n",
       "      <td>0.0.1</td>\n",
       "      <td>tap</td>\n",
       "      <td>Development</td>\n",
       "      <td>^6.3.2</td>\n",
       "      <td>2017-03-06</td>\n",
       "      <td>initial</td>\n",
       "    </tr>\n",
       "    <tr>\n",
       "      <th>1</th>\n",
       "      <td>0-0</td>\n",
       "      <td>1.0.2</td>\n",
       "      <td>gulp</td>\n",
       "      <td>runtime</td>\n",
       "      <td>*</td>\n",
       "      <td>2016-12-04</td>\n",
       "      <td>initial</td>\n",
       "    </tr>\n",
       "  </tbody>\n",
       "</table>\n",
       "</div>"
      ],
      "text/plain": [
       "  package version dependency         kind constraint        date release_type\n",
       "0      0-   0.0.1        tap  Development     ^6.3.2  2017-03-06      initial\n",
       "1     0-0   1.0.2       gulp      runtime          *  2016-12-04      initial"
      ]
     },
     "execution_count": 4,
     "metadata": {},
     "output_type": "execute_result"
    }
   ],
   "source": [
    "dependencies=pd.read_csv('../../jsep2018/csv/packages/dependencies_npm_march.csv', sep=';', dtype=object, index_col=None,  error_bad_lines=False)\n",
    "print(len(dependencies))\n",
    "dependencies.head(2)"
   ]
  },
  {
   "cell_type": "code",
   "execution_count": 5,
   "metadata": {},
   "outputs": [],
   "source": [
    "for x in ['dependency','constraint','date']:\n",
    "    dependencies[x]=dependencies[x].apply(str)\n",
    "    unique_lag[x]=unique_lag[x].apply(str)"
   ]
  },
  {
   "cell_type": "markdown",
   "metadata": {},
   "source": [
    "merge version lag with depenedencies"
   ]
  },
  {
   "cell_type": "code",
   "execution_count": 7,
   "metadata": {},
   "outputs": [
    {
     "name": "stdout",
     "output_type": "stream",
     "text": [
      "51029864\n"
     ]
    },
    {
     "data": {
      "text/html": [
       "<div>\n",
       "<style scoped>\n",
       "    .dataframe tbody tr th:only-of-type {\n",
       "        vertical-align: middle;\n",
       "    }\n",
       "\n",
       "    .dataframe tbody tr th {\n",
       "        vertical-align: top;\n",
       "    }\n",
       "\n",
       "    .dataframe thead th {\n",
       "        text-align: right;\n",
       "    }\n",
       "</style>\n",
       "<table border=\"1\" class=\"dataframe\">\n",
       "  <thead>\n",
       "    <tr style=\"text-align: right;\">\n",
       "      <th></th>\n",
       "      <th>dependency</th>\n",
       "      <th>constraint</th>\n",
       "      <th>date</th>\n",
       "      <th>package</th>\n",
       "      <th>version</th>\n",
       "      <th>kind</th>\n",
       "      <th>release_type</th>\n",
       "      <th>last_available</th>\n",
       "      <th>used_version</th>\n",
       "      <th>last_today</th>\n",
       "      <th>date_last_today</th>\n",
       "      <th>date_used_version</th>\n",
       "      <th>date_last_available</th>\n",
       "      <th>version_lag</th>\n",
       "    </tr>\n",
       "  </thead>\n",
       "  <tbody>\n",
       "    <tr>\n",
       "      <th>143</th>\n",
       "      <td>0</td>\n",
       "      <td>*</td>\n",
       "      <td>2015-11-11</td>\n",
       "      <td>shaybagants-test</td>\n",
       "      <td>1.0.0</td>\n",
       "      <td>runtime</td>\n",
       "      <td>initial</td>\n",
       "      <td>0.0.0</td>\n",
       "      <td>0.0.0</td>\n",
       "      <td>0.0.0</td>\n",
       "      <td>2014-04-01</td>\n",
       "      <td>2014-04-01</td>\n",
       "      <td>2014-04-01</td>\n",
       "      <td>0,0,0</td>\n",
       "    </tr>\n",
       "    <tr>\n",
       "      <th>144</th>\n",
       "      <td>0</td>\n",
       "      <td>*</td>\n",
       "      <td>2015-11-11</td>\n",
       "      <td>shaybagants-test</td>\n",
       "      <td>2.0.0</td>\n",
       "      <td>runtime</td>\n",
       "      <td>major</td>\n",
       "      <td>0.0.0</td>\n",
       "      <td>0.0.0</td>\n",
       "      <td>0.0.0</td>\n",
       "      <td>2014-04-01</td>\n",
       "      <td>2014-04-01</td>\n",
       "      <td>2014-04-01</td>\n",
       "      <td>0,0,0</td>\n",
       "    </tr>\n",
       "  </tbody>\n",
       "</table>\n",
       "</div>"
      ],
      "text/plain": [
       "    dependency constraint        date           package version     kind  \\\n",
       "143          0          *  2015-11-11  shaybagants-test   1.0.0  runtime   \n",
       "144          0          *  2015-11-11  shaybagants-test   2.0.0  runtime   \n",
       "\n",
       "    release_type last_available used_version last_today date_last_today  \\\n",
       "143      initial          0.0.0        0.0.0      0.0.0      2014-04-01   \n",
       "144        major          0.0.0        0.0.0      0.0.0      2014-04-01   \n",
       "\n",
       "    date_used_version date_last_available version_lag  \n",
       "143        2014-04-01          2014-04-01       0,0,0  \n",
       "144        2014-04-01          2014-04-01       0,0,0  "
      ]
     },
     "execution_count": 7,
     "metadata": {},
     "output_type": "execute_result"
    }
   ],
   "source": [
    "deps=(dependencies.\n",
    "              set_index(['dependency','constraint','date']).\n",
    "              merge(\n",
    "                  unique_lag.\n",
    "                  set_index(['dependency','constraint','date']),\n",
    "                  left_index=True, \n",
    "                  right_index=True, \n",
    "                  how='left').\n",
    "              reset_index().\n",
    "              dropna()\n",
    "              #drop_duplicates()\n",
    "             )\n",
    "print(len(deps))\n",
    "deps.head(2)"
   ]
  },
  {
   "cell_type": "code",
   "execution_count": 8,
   "metadata": {},
   "outputs": [],
   "source": [
    "deps.to_csv('../../jsep2018/csv/packages/all_deps_lag.csv', sep=';', index=False)"
   ]
  },
  {
   "cell_type": "markdown",
   "metadata": {},
   "source": [
    "# LOAD DATA for REPOS"
   ]
  },
  {
   "cell_type": "code",
   "execution_count": 9,
   "metadata": {},
   "outputs": [
    {
     "data": {
      "text/html": [
       "<div>\n",
       "<style scoped>\n",
       "    .dataframe tbody tr th:only-of-type {\n",
       "        vertical-align: middle;\n",
       "    }\n",
       "\n",
       "    .dataframe tbody tr th {\n",
       "        vertical-align: top;\n",
       "    }\n",
       "\n",
       "    .dataframe thead th {\n",
       "        text-align: right;\n",
       "    }\n",
       "</style>\n",
       "<table border=\"1\" class=\"dataframe\">\n",
       "  <thead>\n",
       "    <tr style=\"text-align: right;\">\n",
       "      <th></th>\n",
       "      <th>dependency</th>\n",
       "      <th>last_available</th>\n",
       "      <th>used_version</th>\n",
       "      <th>last_today</th>\n",
       "      <th>constraint</th>\n",
       "      <th>date</th>\n",
       "      <th>date_last_today</th>\n",
       "      <th>date_used_version</th>\n",
       "      <th>date_last_available</th>\n",
       "      <th>version_lag</th>\n",
       "    </tr>\n",
       "  </thead>\n",
       "  <tbody>\n",
       "    <tr>\n",
       "      <th>0</th>\n",
       "      <td>0</td>\n",
       "      <td>0.0.0</td>\n",
       "      <td>0.0.0</td>\n",
       "      <td>0.0.0</td>\n",
       "      <td>0.0.0</td>\n",
       "      <td>2016-09-11</td>\n",
       "      <td>2014-04-01</td>\n",
       "      <td>2014-04-01</td>\n",
       "      <td>2014-04-01</td>\n",
       "      <td>0,0,0</td>\n",
       "    </tr>\n",
       "    <tr>\n",
       "      <th>1</th>\n",
       "      <td>0</td>\n",
       "      <td>0.0.0</td>\n",
       "      <td>0.0.0</td>\n",
       "      <td>0.0.0</td>\n",
       "      <td>0.0.0</td>\n",
       "      <td>2016-03-16</td>\n",
       "      <td>2014-04-01</td>\n",
       "      <td>2014-04-01</td>\n",
       "      <td>2014-04-01</td>\n",
       "      <td>0,0,0</td>\n",
       "    </tr>\n",
       "  </tbody>\n",
       "</table>\n",
       "</div>"
      ],
      "text/plain": [
       "  dependency last_available used_version last_today constraint        date  \\\n",
       "0          0          0.0.0        0.0.0      0.0.0      0.0.0  2016-09-11   \n",
       "1          0          0.0.0        0.0.0      0.0.0      0.0.0  2016-03-16   \n",
       "\n",
       "  date_last_today date_used_version date_last_available version_lag  \n",
       "0      2014-04-01        2014-04-01          2014-04-01       0,0,0  \n",
       "1      2014-04-01        2014-04-01          2014-04-01       0,0,0  "
      ]
     },
     "execution_count": 9,
     "metadata": {},
     "output_type": "execute_result"
    }
   ],
   "source": [
    "unique_lag=pd.read_csv('../../jsep2018/csv/repos/dependencies_version_lag_repos.csv', sep=';', dtype=object, index_col=None,  error_bad_lines=False)\n",
    "unique_lag.head(2)"
   ]
  },
  {
   "cell_type": "code",
   "execution_count": 10,
   "metadata": {},
   "outputs": [
    {
     "name": "stdout",
     "output_type": "stream",
     "text": [
      "11311371\n"
     ]
    },
    {
     "data": {
      "text/html": [
       "<div>\n",
       "<style scoped>\n",
       "    .dataframe tbody tr th:only-of-type {\n",
       "        vertical-align: middle;\n",
       "    }\n",
       "\n",
       "    .dataframe tbody tr th {\n",
       "        vertical-align: top;\n",
       "    }\n",
       "\n",
       "    .dataframe thead th {\n",
       "        text-align: right;\n",
       "    }\n",
       "</style>\n",
       "<table border=\"1\" class=\"dataframe\">\n",
       "  <thead>\n",
       "    <tr style=\"text-align: right;\">\n",
       "      <th></th>\n",
       "      <th>repo</th>\n",
       "      <th>dependency</th>\n",
       "      <th>constraint</th>\n",
       "      <th>kind</th>\n",
       "      <th>date</th>\n",
       "    </tr>\n",
       "  </thead>\n",
       "  <tbody>\n",
       "    <tr>\n",
       "      <th>0</th>\n",
       "      <td>brianmhunt/knockout-modal.git</td>\n",
       "      <td>gulp-tag-version</td>\n",
       "      <td>^1.1.0</td>\n",
       "      <td>development</td>\n",
       "      <td>2016-12-18</td>\n",
       "    </tr>\n",
       "    <tr>\n",
       "      <th>1</th>\n",
       "      <td>brianmhunt/knockout-modal.git</td>\n",
       "      <td>gulp-load-plugins</td>\n",
       "      <td>^0.6.0</td>\n",
       "      <td>development</td>\n",
       "      <td>2016-12-18</td>\n",
       "    </tr>\n",
       "  </tbody>\n",
       "</table>\n",
       "</div>"
      ],
      "text/plain": [
       "                            repo         dependency constraint         kind  \\\n",
       "0  brianmhunt/knockout-modal.git   gulp-tag-version     ^1.1.0  development   \n",
       "1  brianmhunt/knockout-modal.git  gulp-load-plugins     ^0.6.0  development   \n",
       "\n",
       "         date  \n",
       "0  2016-12-18  \n",
       "1  2016-12-18  "
      ]
     },
     "execution_count": 10,
     "metadata": {},
     "output_type": "execute_result"
    }
   ],
   "source": [
    "repos=pd.read_csv('../../jsep2018/csv/repos/repos_use_npm_march.csv', sep=';', dtype=object, index_col=None,  error_bad_lines=False)\n",
    "print(len(repos))\n",
    "repos.head(2)"
   ]
  },
  {
   "cell_type": "code",
   "execution_count": 11,
   "metadata": {},
   "outputs": [],
   "source": [
    "for x in ['dependency','constraint','date']:\n",
    "    repos[x]=repos[x].apply(str)\n",
    "    unique_lag[x]=unique_lag[x].apply(str)"
   ]
  },
  {
   "cell_type": "code",
   "execution_count": 12,
   "metadata": {},
   "outputs": [
    {
     "name": "stdout",
     "output_type": "stream",
     "text": [
      "11049760\n"
     ]
    },
    {
     "data": {
      "text/html": [
       "<div>\n",
       "<style scoped>\n",
       "    .dataframe tbody tr th:only-of-type {\n",
       "        vertical-align: middle;\n",
       "    }\n",
       "\n",
       "    .dataframe tbody tr th {\n",
       "        vertical-align: top;\n",
       "    }\n",
       "\n",
       "    .dataframe thead th {\n",
       "        text-align: right;\n",
       "    }\n",
       "</style>\n",
       "<table border=\"1\" class=\"dataframe\">\n",
       "  <thead>\n",
       "    <tr style=\"text-align: right;\">\n",
       "      <th></th>\n",
       "      <th>dependency</th>\n",
       "      <th>constraint</th>\n",
       "      <th>date</th>\n",
       "      <th>repo</th>\n",
       "      <th>kind</th>\n",
       "      <th>last_available</th>\n",
       "      <th>used_version</th>\n",
       "      <th>last_today</th>\n",
       "      <th>date_last_today</th>\n",
       "      <th>date_used_version</th>\n",
       "      <th>date_last_available</th>\n",
       "      <th>version_lag</th>\n",
       "    </tr>\n",
       "  </thead>\n",
       "  <tbody>\n",
       "    <tr>\n",
       "      <th>28</th>\n",
       "      <td>0</td>\n",
       "      <td>0.0.0</td>\n",
       "      <td>2016-03-16</td>\n",
       "      <td>changexbc/vue-app.git</td>\n",
       "      <td>runtime</td>\n",
       "      <td>0.0.0</td>\n",
       "      <td>0.0.0</td>\n",
       "      <td>0.0.0</td>\n",
       "      <td>2014-04-01</td>\n",
       "      <td>2014-04-01</td>\n",
       "      <td>2014-04-01</td>\n",
       "      <td>0,0,0</td>\n",
       "    </tr>\n",
       "    <tr>\n",
       "      <th>29</th>\n",
       "      <td>0</td>\n",
       "      <td>0.0.0</td>\n",
       "      <td>2016-09-11</td>\n",
       "      <td>JupiterLikeThePlanet/Recipes.git</td>\n",
       "      <td>development</td>\n",
       "      <td>0.0.0</td>\n",
       "      <td>0.0.0</td>\n",
       "      <td>0.0.0</td>\n",
       "      <td>2014-04-01</td>\n",
       "      <td>2014-04-01</td>\n",
       "      <td>2014-04-01</td>\n",
       "      <td>0,0,0</td>\n",
       "    </tr>\n",
       "  </tbody>\n",
       "</table>\n",
       "</div>"
      ],
      "text/plain": [
       "   dependency constraint        date                              repo  \\\n",
       "28          0      0.0.0  2016-03-16             changexbc/vue-app.git   \n",
       "29          0      0.0.0  2016-09-11  JupiterLikeThePlanet/Recipes.git   \n",
       "\n",
       "           kind last_available used_version last_today date_last_today  \\\n",
       "28      runtime          0.0.0        0.0.0      0.0.0      2014-04-01   \n",
       "29  development          0.0.0        0.0.0      0.0.0      2014-04-01   \n",
       "\n",
       "   date_used_version date_last_available version_lag  \n",
       "28        2014-04-01          2014-04-01       0,0,0  \n",
       "29        2014-04-01          2014-04-01       0,0,0  "
      ]
     },
     "execution_count": 12,
     "metadata": {},
     "output_type": "execute_result"
    }
   ],
   "source": [
    "deps=(repos.\n",
    "            set_index(['dependency','constraint','date']).\n",
    "            merge(\n",
    "              unique_lag.\n",
    "              set_index(['dependency','constraint','date']),\n",
    "              left_index=True, \n",
    "              right_index=True, \n",
    "              how='left').\n",
    "            reset_index().\n",
    "            dropna()\n",
    "            #drop_duplicates()\n",
    "            )\n",
    "print(len(deps))\n",
    "deps.head(2)"
   ]
  },
  {
   "cell_type": "code",
   "execution_count": 13,
   "metadata": {},
   "outputs": [],
   "source": [
    "deps.to_csv('../../jsep2018/csv/repos/all_repos_lag.csv', sep=';', index=False)"
   ]
  },
  {
   "cell_type": "code",
   "execution_count": null,
   "metadata": {},
   "outputs": [],
   "source": []
  }
 ],
 "metadata": {
  "kernelspec": {
   "display_name": "Python 3",
   "language": "python",
   "name": "python3"
  },
  "language_info": {
   "codemirror_mode": {
    "name": "ipython",
    "version": 3
   },
   "file_extension": ".py",
   "mimetype": "text/x-python",
   "name": "python",
   "nbconvert_exporter": "python",
   "pygments_lexer": "ipython3",
   "version": "3.6.7"
  }
 },
 "nbformat": 4,
 "nbformat_minor": 2
}
