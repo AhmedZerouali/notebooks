{
 "cells": [
  {
   "cell_type": "code",
   "execution_count": 6,
   "metadata": {},
   "outputs": [],
   "source": [
    "%matplotlib inline\n",
    "import seaborn as sns; sns.set(style=\"ticks\", color_codes=True)\n",
    "import pandas as pd\n",
    "import matplotlib.pyplot as plt\n",
    "from matplotlib import style\n",
    "import scipy\n",
    "style.use('ggplot')\n",
    "from datetime import datetime\n",
    "\n",
    "sns.set_style('whitegrid')\n",
    "sns.set_palette('colorblind')\n",
    "FIG_SIZE = (12, 3)\n",
    "\n",
    "font = {'family' : 'Times New Roman',\n",
    "        'weight' : 'bold',\n",
    "        'size'   : 30}\n",
    "plt.rc('font', **font)\n",
    "plt.rcParams['pdf.fonttype'] = 42\n",
    "plt.rcParams['ps.fonttype'] = 42\n",
    "plt.rcParams['text.usetex'] = True\n",
    "\n",
    "plt.rcParams['xtick.labelsize'] = 22\n",
    "plt.rcParams['ytick.labelsize'] = 22\n",
    "plt.rcParams['axes.labelsize']= 22\n",
    "plt.rcParams['lines.linewidth']= 2\n",
    "plt.rcParams['lines.markersize']= 2"
   ]
  },
  {
   "cell_type": "code",
   "execution_count": 7,
   "metadata": {},
   "outputs": [],
   "source": [
    "# Already prepared the data for the NPM_FINAL dataframe\n",
    "#Filter: at least 700 days, github, \n",
    "npm_packages=pd.read_csv('../../popularity/csv/npm_popularity_2yearsOld.csv', sep=';', dtype=object, index_col='name')\n",
    "\n",
    "npm_packages['first_release']=npm_packages['first_release'].apply(lambda x:\n",
    "                                                                  float(\"\".join(re.findall(\"[0-9.]+\", x))) if 'day' in x \n",
    "                                                                  else float(\"\".join(re.findall(\"[0-9.]+\", x)))*30 if 'month' in x\n",
    "                                                                  else (datetime.now().date() - \n",
    "                                                                        datetime.strptime(x, '%b %d, %Y').date()).days)\n",
    "\n",
    "for x in npm_packages:\n",
    "    #if x!= \"first_release\":\n",
    "    npm_packages[x]=npm_packages[x].apply(float)\n",
    "    npm_packages[x]=npm_packages[x].apply(float)\n",
    "        \n",
    "\n",
    "npm_packages.drop_duplicates(inplace=True)\n",
    "npm_packages.drop('contributors', axis=1, inplace=True)\n",
    "\n",
    "npm2=pd.read_csv('../../popularity/csv/only_npm.csv', sep=',', dtype=object, index_col=None)\n",
    "npm2=npm2.loc[:,['Name','Repository URL']]\n",
    "npm2=npm2.rename(columns = {'Name':'name','Repository URL':'url'})\n",
    "\n",
    "npm2=npm2.set_index('name').merge(npm_packages,\n",
    "                               left_index=True, \n",
    "                               right_index=True,\n",
    "                               how='outer').dropna().reset_index()\n",
    "npm2.dropna(inplace=True)"
   ]
  },
  {
   "cell_type": "code",
   "execution_count": 8,
   "metadata": {},
   "outputs": [
    {
     "data": {
      "text/plain": [
       "175774"
      ]
     },
     "execution_count": 8,
     "metadata": {},
     "output_type": "execute_result"
    }
   ],
   "source": [
    "# remove duplicates, take only the popular ones with unique repository name\n",
    "npm=npm2.sort_values('downloads', ascending=False)\n",
    "npm['url']=npm['url'].apply(lambda x: x.split('/')[-2]+'-'+x.split('/')[-1])\n",
    "npm=npm.groupby('url').first().reset_index()\n",
    "npm.set_index('name', inplace=True)\n",
    "npm.drop(['url','first_release','commits','dep_repo','dep_pro'], axis=1, inplace=True)\n",
    "len(npm)"
   ]
  },
  {
   "cell_type": "code",
   "execution_count": 9,
   "metadata": {},
   "outputs": [
    {
     "data": {
      "text/plain": [
       "175774"
      ]
     },
     "execution_count": 9,
     "metadata": {},
     "output_type": "execute_result"
    }
   ],
   "source": [
    "### add more metrics from librariesio\n",
    "librariesio=pd.read_csv('../../popularity/csv/popularity_deps.csv', sep=';', dtype=object, index_col=None,  error_bad_lines=False)\n",
    "\n",
    "npm=(npm.\n",
    "     merge(librariesio.\n",
    "           set_index('name'),\n",
    "           left_index=True,\n",
    "           right_index=True,\n",
    "           how='left')\n",
    "    )\n",
    "len(npm)"
   ]
  },
  {
   "cell_type": "code",
   "execution_count": 10,
   "metadata": {},
   "outputs": [
    {
     "data": {
      "text/plain": [
       "Text(0.5,0,'\\\\# dependencts From librariesio')"
      ]
     },
     "execution_count": 10,
     "metadata": {},
     "output_type": "execute_result"
    },
    {
     "data": {
      "image/png": "[encoded data removed]",
      "text/plain": [
       "<matplotlib.figure.Figure at 0x7f1d89167dd8>"
      ]
     },
     "metadata": {},
     "output_type": "display_data"
    }
   ],
   "source": [
    "# Check if the metric of direct runtime dependents is npmjs.com is the same as in libraries.io\n",
    "df_tmp=npm[['direct_runtime','dependents']].fillna(0)\n",
    "for x in df_tmp:\n",
    "    df_tmp[x]=df_tmp[x].apply(float)\n",
    "\n",
    "color_map = plt.cm.Spectral_r\n",
    "fig=plt.figure(figsize=(10,9))\n",
    "ax = fig.add_subplot(111)\n",
    "image = plt.hexbin(data=df_tmp, x='direct_runtime', y='dependents',cmap=color_map,gridsize=1000,mincnt=1,bins='log')\n",
    "cb = plt.colorbar(image,spacing='uniform',extend='max')\n",
    "ax.figure.set_size_inches(12,4)\n",
    "ax.set_xlim(0,10000)\n",
    "ax.set_ylim(0,10000)\n",
    "ax.set_ylabel('\\# dependents From npmjs')\n",
    "ax.set_xlabel('\\# dependencts From librariesio')"
   ]
  },
  {
   "cell_type": "code",
   "execution_count": 11,
   "metadata": {},
   "outputs": [
    {
     "data": {
      "text/plain": [
       "(0.99838874717083814, 0.0)"
      ]
     },
     "execution_count": 11,
     "metadata": {},
     "output_type": "execute_result"
    }
   ],
   "source": [
    "scipy.stats.pearsonr(df_tmp.direct_runtime,\n",
    "                     df_tmp.dependents)"
   ]
  },
  {
   "cell_type": "markdown",
   "metadata": {},
   "source": [
    "# Correlations between metrics from the same source"
   ]
  },
  {
   "cell_type": "code",
   "execution_count": 12,
   "metadata": {},
   "outputs": [],
   "source": [
    "npm = npm[['forks','stars_github','pulls_issues','subscribers',\n",
    "           'transitive_runtime','repo_runtime','direct_runtime',\n",
    "           'downloads', 'stars_npm']]"
   ]
  },
  {
   "cell_type": "code",
   "execution_count": 13,
   "metadata": {},
   "outputs": [],
   "source": [
    "npm=npm.fillna(0)"
   ]
  },
  {
   "cell_type": "code",
   "execution_count": 14,
   "metadata": {},
   "outputs": [
    {
     "name": "stdout",
     "output_type": "stream",
     "text": [
      "forks 49.67515104622982\n",
      "stars_github 31.993924016066085\n",
      "pulls_issues 42.93922878241378\n",
      "subscribers 5.121349004972294\n",
      "transitive_runtime 72.94082173700319\n",
      "repo_runtime 62.3323130838463\n",
      "direct_runtime 27.38118265500017\n",
      "downloads 0.01934302001433659\n",
      "stars_npm 76.25644293240184\n"
     ]
    }
   ],
   "source": [
    "for x in npm:\n",
    "    #if x!= \"first_release\":\n",
    "    npm[x]=npm[x].apply(float)\n",
    "    print(x,len(npm.query(str(x)+' == 0'))*100/len(npm))"
   ]
  },
  {
   "cell_type": "code",
   "execution_count": 15,
   "metadata": {},
   "outputs": [
    {
     "data": {
      "text/html": [
       "<style  type=\"text/css\" >\n",
       "    #T_84301fd0_1272_11e9_9e40_5ce0c5eca063row0_col0 {\n",
       "            background-color:  #b40426;\n",
       "        }    #T_84301fd0_1272_11e9_9e40_5ce0c5eca063row0_col1 {\n",
       "            background-color:  #3b4cc0;\n",
       "        }    #T_84301fd0_1272_11e9_9e40_5ce0c5eca063row0_col2 {\n",
       "            background-color:  #5572df;\n",
       "        }    #T_84301fd0_1272_11e9_9e40_5ce0c5eca063row1_col0 {\n",
       "            background-color:  #80a3fa;\n",
       "        }    #T_84301fd0_1272_11e9_9e40_5ce0c5eca063row1_col1 {\n",
       "            background-color:  #b40426;\n",
       "        }    #T_84301fd0_1272_11e9_9e40_5ce0c5eca063row1_col2 {\n",
       "            background-color:  #3b4cc0;\n",
       "        }    #T_84301fd0_1272_11e9_9e40_5ce0c5eca063row2_col0 {\n",
       "            background-color:  #98b9ff;\n",
       "        }    #T_84301fd0_1272_11e9_9e40_5ce0c5eca063row2_col1 {\n",
       "            background-color:  #3b4cc0;\n",
       "        }    #T_84301fd0_1272_11e9_9e40_5ce0c5eca063row2_col2 {\n",
       "            background-color:  #b40426;\n",
       "        }</style>  \n",
       "<table id=\"T_84301fd0_1272_11e9_9e40_5ce0c5eca063\" > \n",
       "<thead>    <tr> \n",
       "        <th class=\"blank level0\" ></th> \n",
       "        <th class=\"col_heading level0 col0\" >transitive_runtime</th> \n",
       "        <th class=\"col_heading level0 col1\" >repo_runtime</th> \n",
       "        <th class=\"col_heading level0 col2\" >direct_runtime</th> \n",
       "    </tr></thead> \n",
       "<tbody>    <tr> \n",
       "        <th id=\"T_84301fd0_1272_11e9_9e40_5ce0c5eca063level0_row0\" class=\"row_heading level0 row0\" >transitive_runtime</th> \n",
       "        <td id=\"T_84301fd0_1272_11e9_9e40_5ce0c5eca063row0_col0\" class=\"data row0 col0\" >1.0</td> \n",
       "        <td id=\"T_84301fd0_1272_11e9_9e40_5ce0c5eca063row0_col1\" class=\"data row0 col1\" >0.63</td> \n",
       "        <td id=\"T_84301fd0_1272_11e9_9e40_5ce0c5eca063row0_col2\" class=\"data row0 col2\" >0.66</td> \n",
       "    </tr>    <tr> \n",
       "        <th id=\"T_84301fd0_1272_11e9_9e40_5ce0c5eca063level0_row1\" class=\"row_heading level0 row1\" >repo_runtime</th> \n",
       "        <td id=\"T_84301fd0_1272_11e9_9e40_5ce0c5eca063row1_col0\" class=\"data row1 col0\" >0.63</td> \n",
       "        <td id=\"T_84301fd0_1272_11e9_9e40_5ce0c5eca063row1_col1\" class=\"data row1 col1\" >1.0</td> \n",
       "        <td id=\"T_84301fd0_1272_11e9_9e40_5ce0c5eca063row1_col2\" class=\"data row1 col2\" >0.53</td> \n",
       "    </tr>    <tr> \n",
       "        <th id=\"T_84301fd0_1272_11e9_9e40_5ce0c5eca063level0_row2\" class=\"row_heading level0 row2\" >direct_runtime</th> \n",
       "        <td id=\"T_84301fd0_1272_11e9_9e40_5ce0c5eca063row2_col0\" class=\"data row2 col0\" >0.66</td> \n",
       "        <td id=\"T_84301fd0_1272_11e9_9e40_5ce0c5eca063row2_col1\" class=\"data row2 col1\" >0.53</td> \n",
       "        <td id=\"T_84301fd0_1272_11e9_9e40_5ce0c5eca063row2_col2\" class=\"data row2 col2\" >1.0</td> \n",
       "    </tr></tbody> \n",
       "</table> "
      ],
      "text/plain": [
       "<pandas.io.formats.style.Styler at 0x7f1d7389a208>"
      ]
     },
     "execution_count": 15,
     "metadata": {},
     "output_type": "execute_result"
    }
   ],
   "source": [
    "df_tmp=npm.loc[:,['transitive_runtime','repo_runtime','direct_runtime']]\n",
    "for x in df_tmp:\n",
    "    #if x!= \"first_release\":\n",
    "    df_tmp[x]=df_tmp[x].apply(float)\n",
    "df_tmp.corr(method=\"spearman\").style.format(\"{:.2}\").background_gradient(cmap=plt.get_cmap('coolwarm'), axis=1)"
   ]
  },
  {
   "cell_type": "code",
   "execution_count": 16,
   "metadata": {},
   "outputs": [
    {
     "data": {
      "text/html": [
       "<style  type=\"text/css\" >\n",
       "    #T_84301fd1_1272_11e9_9e40_5ce0c5eca063row0_col0 {\n",
       "            background-color:  #b40426;\n",
       "        }    #T_84301fd1_1272_11e9_9e40_5ce0c5eca063row0_col1 {\n",
       "            background-color:  #3b4cc0;\n",
       "        }    #T_84301fd1_1272_11e9_9e40_5ce0c5eca063row0_col2 {\n",
       "            background-color:  #5673e0;\n",
       "        }    #T_84301fd1_1272_11e9_9e40_5ce0c5eca063row1_col0 {\n",
       "            background-color:  #3b4cc0;\n",
       "        }    #T_84301fd1_1272_11e9_9e40_5ce0c5eca063row1_col1 {\n",
       "            background-color:  #b40426;\n",
       "        }    #T_84301fd1_1272_11e9_9e40_5ce0c5eca063row1_col2 {\n",
       "            background-color:  #a3c2fe;\n",
       "        }    #T_84301fd1_1272_11e9_9e40_5ce0c5eca063row2_col0 {\n",
       "            background-color:  #3b4cc0;\n",
       "        }    #T_84301fd1_1272_11e9_9e40_5ce0c5eca063row2_col1 {\n",
       "            background-color:  #8caffe;\n",
       "        }    #T_84301fd1_1272_11e9_9e40_5ce0c5eca063row2_col2 {\n",
       "            background-color:  #b40426;\n",
       "        }</style>  \n",
       "<table id=\"T_84301fd1_1272_11e9_9e40_5ce0c5eca063\" > \n",
       "<thead>    <tr> \n",
       "        <th class=\"blank level0\" ></th> \n",
       "        <th class=\"col_heading level0 col0\" >transitive_runtime</th> \n",
       "        <th class=\"col_heading level0 col1\" >repo_runtime</th> \n",
       "        <th class=\"col_heading level0 col2\" >direct_runtime</th> \n",
       "    </tr></thead> \n",
       "<tbody>    <tr> \n",
       "        <th id=\"T_84301fd1_1272_11e9_9e40_5ce0c5eca063level0_row0\" class=\"row_heading level0 row0\" >transitive_runtime</th> \n",
       "        <td id=\"T_84301fd1_1272_11e9_9e40_5ce0c5eca063row0_col0\" class=\"data row0 col0\" >1.0</td> \n",
       "        <td id=\"T_84301fd1_1272_11e9_9e40_5ce0c5eca063row0_col1\" class=\"data row0 col1\" >0.58</td> \n",
       "        <td id=\"T_84301fd1_1272_11e9_9e40_5ce0c5eca063row0_col2\" class=\"data row0 col2\" >0.62</td> \n",
       "    </tr>    <tr> \n",
       "        <th id=\"T_84301fd1_1272_11e9_9e40_5ce0c5eca063level0_row1\" class=\"row_heading level0 row1\" >repo_runtime</th> \n",
       "        <td id=\"T_84301fd1_1272_11e9_9e40_5ce0c5eca063row1_col0\" class=\"data row1 col0\" >0.58</td> \n",
       "        <td id=\"T_84301fd1_1272_11e9_9e40_5ce0c5eca063row1_col1\" class=\"data row1 col1\" >1.0</td> \n",
       "        <td id=\"T_84301fd1_1272_11e9_9e40_5ce0c5eca063row1_col2\" class=\"data row1 col2\" >0.71</td> \n",
       "    </tr>    <tr> \n",
       "        <th id=\"T_84301fd1_1272_11e9_9e40_5ce0c5eca063level0_row2\" class=\"row_heading level0 row2\" >direct_runtime</th> \n",
       "        <td id=\"T_84301fd1_1272_11e9_9e40_5ce0c5eca063row2_col0\" class=\"data row2 col0\" >0.62</td> \n",
       "        <td id=\"T_84301fd1_1272_11e9_9e40_5ce0c5eca063row2_col1\" class=\"data row2 col1\" >0.71</td> \n",
       "        <td id=\"T_84301fd1_1272_11e9_9e40_5ce0c5eca063row2_col2\" class=\"data row2 col2\" >1.0</td> \n",
       "    </tr></tbody> \n",
       "</table> "
      ],
      "text/plain": [
       "<pandas.io.formats.style.Styler at 0x7f1d5b491be0>"
      ]
     },
     "execution_count": 16,
     "metadata": {},
     "output_type": "execute_result"
    }
   ],
   "source": [
    "df_tmp.corr(method=\"pearson\").style.format(\"{:.2}\").background_gradient(cmap=plt.get_cmap('coolwarm'), axis=1)"
   ]
  },
  {
   "cell_type": "code",
   "execution_count": 17,
   "metadata": {},
   "outputs": [
    {
     "data": {
      "text/html": [
       "<style  type=\"text/css\" >\n",
       "    #T_858d3f02_1272_11e9_9e40_5ce0c5eca063row0_col0 {\n",
       "            background-color:  #b40426;\n",
       "        }    #T_858d3f02_1272_11e9_9e40_5ce0c5eca063row0_col1 {\n",
       "            background-color:  #3b4cc0;\n",
       "        }    #T_858d3f02_1272_11e9_9e40_5ce0c5eca063row0_col2 {\n",
       "            background-color:  #485fd1;\n",
       "        }    #T_858d3f02_1272_11e9_9e40_5ce0c5eca063row1_col0 {\n",
       "            background-color:  #6f92f3;\n",
       "        }    #T_858d3f02_1272_11e9_9e40_5ce0c5eca063row1_col1 {\n",
       "            background-color:  #b40426;\n",
       "        }    #T_858d3f02_1272_11e9_9e40_5ce0c5eca063row1_col2 {\n",
       "            background-color:  #3b4cc0;\n",
       "        }    #T_858d3f02_1272_11e9_9e40_5ce0c5eca063row2_col0 {\n",
       "            background-color:  #7da0f9;\n",
       "        }    #T_858d3f02_1272_11e9_9e40_5ce0c5eca063row2_col1 {\n",
       "            background-color:  #3b4cc0;\n",
       "        }    #T_858d3f02_1272_11e9_9e40_5ce0c5eca063row2_col2 {\n",
       "            background-color:  #b40426;\n",
       "        }</style>  \n",
       "<table id=\"T_858d3f02_1272_11e9_9e40_5ce0c5eca063\" > \n",
       "<thead>    <tr> \n",
       "        <th class=\"blank level0\" ></th> \n",
       "        <th class=\"col_heading level0 col0\" >downloads</th> \n",
       "        <th class=\"col_heading level0 col1\" >stars_npm</th> \n",
       "        <th class=\"col_heading level0 col2\" >direct_runtime</th> \n",
       "    </tr></thead> \n",
       "<tbody>    <tr> \n",
       "        <th id=\"T_858d3f02_1272_11e9_9e40_5ce0c5eca063level0_row0\" class=\"row_heading level0 row0\" >downloads</th> \n",
       "        <td id=\"T_858d3f02_1272_11e9_9e40_5ce0c5eca063row0_col0\" class=\"data row0 col0\" >1.0</td> \n",
       "        <td id=\"T_858d3f02_1272_11e9_9e40_5ce0c5eca063row0_col1\" class=\"data row0 col1\" >0.39</td> \n",
       "        <td id=\"T_858d3f02_1272_11e9_9e40_5ce0c5eca063row0_col2\" class=\"data row0 col2\" >0.42</td> \n",
       "    </tr>    <tr> \n",
       "        <th id=\"T_858d3f02_1272_11e9_9e40_5ce0c5eca063level0_row1\" class=\"row_heading level0 row1\" >stars_npm</th> \n",
       "        <td id=\"T_858d3f02_1272_11e9_9e40_5ce0c5eca063row1_col0\" class=\"data row1 col0\" >0.39</td> \n",
       "        <td id=\"T_858d3f02_1272_11e9_9e40_5ce0c5eca063row1_col1\" class=\"data row1 col1\" >1.0</td> \n",
       "        <td id=\"T_858d3f02_1272_11e9_9e40_5ce0c5eca063row1_col2\" class=\"data row1 col2\" >0.27</td> \n",
       "    </tr>    <tr> \n",
       "        <th id=\"T_858d3f02_1272_11e9_9e40_5ce0c5eca063level0_row2\" class=\"row_heading level0 row2\" >direct_runtime</th> \n",
       "        <td id=\"T_858d3f02_1272_11e9_9e40_5ce0c5eca063row2_col0\" class=\"data row2 col0\" >0.42</td> \n",
       "        <td id=\"T_858d3f02_1272_11e9_9e40_5ce0c5eca063row2_col1\" class=\"data row2 col1\" >0.27</td> \n",
       "        <td id=\"T_858d3f02_1272_11e9_9e40_5ce0c5eca063row2_col2\" class=\"data row2 col2\" >1.0</td> \n",
       "    </tr></tbody> \n",
       "</table> "
      ],
      "text/plain": [
       "<pandas.io.formats.style.Styler at 0x7f1d85f32c50>"
      ]
     },
     "execution_count": 17,
     "metadata": {},
     "output_type": "execute_result"
    }
   ],
   "source": [
    "df_tmp=npm.loc[:,['downloads','stars_npm','direct_runtime']]\n",
    "for x in df_tmp:\n",
    "    #if x!= \"first_release\":\n",
    "    df_tmp[x]=df_tmp[x].apply(float)\n",
    "df_tmp.corr(method=\"spearman\").style.format(\"{:.2}\").background_gradient(cmap=plt.get_cmap('coolwarm'), axis=1)"
   ]
  },
  {
   "cell_type": "code",
   "execution_count": 18,
   "metadata": {},
   "outputs": [
    {
     "data": {
      "text/html": [
       "<style  type=\"text/css\" >\n",
       "    #T_858d3f03_1272_11e9_9e40_5ce0c5eca063row0_col0 {\n",
       "            background-color:  #b40426;\n",
       "        }    #T_858d3f03_1272_11e9_9e40_5ce0c5eca063row0_col1 {\n",
       "            background-color:  #3b4cc0;\n",
       "        }    #T_858d3f03_1272_11e9_9e40_5ce0c5eca063row0_col2 {\n",
       "            background-color:  #7295f4;\n",
       "        }    #T_858d3f03_1272_11e9_9e40_5ce0c5eca063row1_col0 {\n",
       "            background-color:  #3b4cc0;\n",
       "        }    #T_858d3f03_1272_11e9_9e40_5ce0c5eca063row1_col1 {\n",
       "            background-color:  #b40426;\n",
       "        }    #T_858d3f03_1272_11e9_9e40_5ce0c5eca063row1_col2 {\n",
       "            background-color:  #f5c2aa;\n",
       "        }    #T_858d3f03_1272_11e9_9e40_5ce0c5eca063row2_col0 {\n",
       "            background-color:  #3b4cc0;\n",
       "        }    #T_858d3f03_1272_11e9_9e40_5ce0c5eca063row2_col1 {\n",
       "            background-color:  #ead5c9;\n",
       "        }    #T_858d3f03_1272_11e9_9e40_5ce0c5eca063row2_col2 {\n",
       "            background-color:  #b40426;\n",
       "        }</style>  \n",
       "<table id=\"T_858d3f03_1272_11e9_9e40_5ce0c5eca063\" > \n",
       "<thead>    <tr> \n",
       "        <th class=\"blank level0\" ></th> \n",
       "        <th class=\"col_heading level0 col0\" >downloads</th> \n",
       "        <th class=\"col_heading level0 col1\" >stars_npm</th> \n",
       "        <th class=\"col_heading level0 col2\" >direct_runtime</th> \n",
       "    </tr></thead> \n",
       "<tbody>    <tr> \n",
       "        <th id=\"T_858d3f03_1272_11e9_9e40_5ce0c5eca063level0_row0\" class=\"row_heading level0 row0\" >downloads</th> \n",
       "        <td id=\"T_858d3f03_1272_11e9_9e40_5ce0c5eca063row0_col0\" class=\"data row0 col0\" >1.0</td> \n",
       "        <td id=\"T_858d3f03_1272_11e9_9e40_5ce0c5eca063row0_col1\" class=\"data row0 col1\" >0.33</td> \n",
       "        <td id=\"T_858d3f03_1272_11e9_9e40_5ce0c5eca063row0_col2\" class=\"data row0 col2\" >0.45</td> \n",
       "    </tr>    <tr> \n",
       "        <th id=\"T_858d3f03_1272_11e9_9e40_5ce0c5eca063level0_row1\" class=\"row_heading level0 row1\" >stars_npm</th> \n",
       "        <td id=\"T_858d3f03_1272_11e9_9e40_5ce0c5eca063row1_col0\" class=\"data row1 col0\" >0.33</td> \n",
       "        <td id=\"T_858d3f03_1272_11e9_9e40_5ce0c5eca063row1_col1\" class=\"data row1 col1\" >1.0</td> \n",
       "        <td id=\"T_858d3f03_1272_11e9_9e40_5ce0c5eca063row1_col2\" class=\"data row1 col2\" >0.75</td> \n",
       "    </tr>    <tr> \n",
       "        <th id=\"T_858d3f03_1272_11e9_9e40_5ce0c5eca063level0_row2\" class=\"row_heading level0 row2\" >direct_runtime</th> \n",
       "        <td id=\"T_858d3f03_1272_11e9_9e40_5ce0c5eca063row2_col0\" class=\"data row2 col0\" >0.45</td> \n",
       "        <td id=\"T_858d3f03_1272_11e9_9e40_5ce0c5eca063row2_col1\" class=\"data row2 col1\" >0.75</td> \n",
       "        <td id=\"T_858d3f03_1272_11e9_9e40_5ce0c5eca063row2_col2\" class=\"data row2 col2\" >1.0</td> \n",
       "    </tr></tbody> \n",
       "</table> "
      ],
      "text/plain": [
       "<pandas.io.formats.style.Styler at 0x7f1d61569940>"
      ]
     },
     "execution_count": 18,
     "metadata": {},
     "output_type": "execute_result"
    }
   ],
   "source": [
    "df_tmp.corr(method=\"pearson\").style.format(\"{:.2}\").background_gradient(cmap=plt.get_cmap('coolwarm'), axis=1)"
   ]
  },
  {
   "cell_type": "code",
   "execution_count": 19,
   "metadata": {},
   "outputs": [
    {
     "data": {
      "text/html": [
       "<style  type=\"text/css\" >\n",
       "    #T_858d3f04_1272_11e9_9e40_5ce0c5eca063row0_col0 {\n",
       "            background-color:  #b40426;\n",
       "        }    #T_858d3f04_1272_11e9_9e40_5ce0c5eca063row0_col1 {\n",
       "            background-color:  #c0d4f5;\n",
       "        }    #T_858d3f04_1272_11e9_9e40_5ce0c5eca063row0_col2 {\n",
       "            background-color:  #adc9fd;\n",
       "        }    #T_858d3f04_1272_11e9_9e40_5ce0c5eca063row0_col3 {\n",
       "            background-color:  #3b4cc0;\n",
       "        }    #T_858d3f04_1272_11e9_9e40_5ce0c5eca063row1_col0 {\n",
       "            background-color:  #c0d4f5;\n",
       "        }    #T_858d3f04_1272_11e9_9e40_5ce0c5eca063row1_col1 {\n",
       "            background-color:  #b40426;\n",
       "        }    #T_858d3f04_1272_11e9_9e40_5ce0c5eca063row1_col2 {\n",
       "            background-color:  #7da0f9;\n",
       "        }    #T_858d3f04_1272_11e9_9e40_5ce0c5eca063row1_col3 {\n",
       "            background-color:  #3b4cc0;\n",
       "        }    #T_858d3f04_1272_11e9_9e40_5ce0c5eca063row2_col0 {\n",
       "            background-color:  #b5cdfa;\n",
       "        }    #T_858d3f04_1272_11e9_9e40_5ce0c5eca063row2_col1 {\n",
       "            background-color:  #86a9fc;\n",
       "        }    #T_858d3f04_1272_11e9_9e40_5ce0c5eca063row2_col2 {\n",
       "            background-color:  #b40426;\n",
       "        }    #T_858d3f04_1272_11e9_9e40_5ce0c5eca063row2_col3 {\n",
       "            background-color:  #3b4cc0;\n",
       "        }    #T_858d3f04_1272_11e9_9e40_5ce0c5eca063row3_col0 {\n",
       "            background-color:  #455cce;\n",
       "        }    #T_858d3f04_1272_11e9_9e40_5ce0c5eca063row3_col1 {\n",
       "            background-color:  #455cce;\n",
       "        }    #T_858d3f04_1272_11e9_9e40_5ce0c5eca063row3_col2 {\n",
       "            background-color:  #3b4cc0;\n",
       "        }    #T_858d3f04_1272_11e9_9e40_5ce0c5eca063row3_col3 {\n",
       "            background-color:  #b40426;\n",
       "        }</style>  \n",
       "<table id=\"T_858d3f04_1272_11e9_9e40_5ce0c5eca063\" > \n",
       "<thead>    <tr> \n",
       "        <th class=\"blank level0\" ></th> \n",
       "        <th class=\"col_heading level0 col0\" >forks</th> \n",
       "        <th class=\"col_heading level0 col1\" >stars_github</th> \n",
       "        <th class=\"col_heading level0 col2\" >pulls_issues</th> \n",
       "        <th class=\"col_heading level0 col3\" >subscribers</th> \n",
       "    </tr></thead> \n",
       "<tbody>    <tr> \n",
       "        <th id=\"T_858d3f04_1272_11e9_9e40_5ce0c5eca063level0_row0\" class=\"row_heading level0 row0\" >forks</th> \n",
       "        <td id=\"T_858d3f04_1272_11e9_9e40_5ce0c5eca063row0_col0\" class=\"data row0 col0\" >1.0</td> \n",
       "        <td id=\"T_858d3f04_1272_11e9_9e40_5ce0c5eca063row0_col1\" class=\"data row0 col1\" >0.73</td> \n",
       "        <td id=\"T_858d3f04_1272_11e9_9e40_5ce0c5eca063row0_col2\" class=\"data row0 col2\" >0.7</td> \n",
       "        <td id=\"T_858d3f04_1272_11e9_9e40_5ce0c5eca063row0_col3\" class=\"data row0 col3\" >0.55</td> \n",
       "    </tr>    <tr> \n",
       "        <th id=\"T_858d3f04_1272_11e9_9e40_5ce0c5eca063level0_row1\" class=\"row_heading level0 row1\" >stars_github</th> \n",
       "        <td id=\"T_858d3f04_1272_11e9_9e40_5ce0c5eca063row1_col0\" class=\"data row1 col0\" >0.73</td> \n",
       "        <td id=\"T_858d3f04_1272_11e9_9e40_5ce0c5eca063row1_col1\" class=\"data row1 col1\" >1.0</td> \n",
       "        <td id=\"T_858d3f04_1272_11e9_9e40_5ce0c5eca063row1_col2\" class=\"data row1 col2\" >0.64</td> \n",
       "        <td id=\"T_858d3f04_1272_11e9_9e40_5ce0c5eca063row1_col3\" class=\"data row1 col3\" >0.55</td> \n",
       "    </tr>    <tr> \n",
       "        <th id=\"T_858d3f04_1272_11e9_9e40_5ce0c5eca063level0_row2\" class=\"row_heading level0 row2\" >pulls_issues</th> \n",
       "        <td id=\"T_858d3f04_1272_11e9_9e40_5ce0c5eca063row2_col0\" class=\"data row2 col0\" >0.7</td> \n",
       "        <td id=\"T_858d3f04_1272_11e9_9e40_5ce0c5eca063row2_col1\" class=\"data row2 col1\" >0.64</td> \n",
       "        <td id=\"T_858d3f04_1272_11e9_9e40_5ce0c5eca063row2_col2\" class=\"data row2 col2\" >1.0</td> \n",
       "        <td id=\"T_858d3f04_1272_11e9_9e40_5ce0c5eca063row2_col3\" class=\"data row2 col3\" >0.53</td> \n",
       "    </tr>    <tr> \n",
       "        <th id=\"T_858d3f04_1272_11e9_9e40_5ce0c5eca063level0_row3\" class=\"row_heading level0 row3\" >subscribers</th> \n",
       "        <td id=\"T_858d3f04_1272_11e9_9e40_5ce0c5eca063row3_col0\" class=\"data row3 col0\" >0.55</td> \n",
       "        <td id=\"T_858d3f04_1272_11e9_9e40_5ce0c5eca063row3_col1\" class=\"data row3 col1\" >0.55</td> \n",
       "        <td id=\"T_858d3f04_1272_11e9_9e40_5ce0c5eca063row3_col2\" class=\"data row3 col2\" >0.53</td> \n",
       "        <td id=\"T_858d3f04_1272_11e9_9e40_5ce0c5eca063row3_col3\" class=\"data row3 col3\" >1.0</td> \n",
       "    </tr></tbody> \n",
       "</table> "
      ],
      "text/plain": [
       "<pandas.io.formats.style.Styler at 0x7f1d61502978>"
      ]
     },
     "execution_count": 19,
     "metadata": {},
     "output_type": "execute_result"
    }
   ],
   "source": [
    "df_tmp=npm.loc[:,['forks','stars_github','pulls_issues','subscribers']]\n",
    "for x in df_tmp:\n",
    "    #if x!= \"first_release\":\n",
    "    df_tmp[x]=df_tmp[x].apply(float)\n",
    "df_tmp.corr(method=\"spearman\").style.format(\"{:.2}\").background_gradient(cmap=plt.get_cmap('coolwarm'), axis=1)"
   ]
  },
  {
   "cell_type": "code",
   "execution_count": 20,
   "metadata": {},
   "outputs": [
    {
     "data": {
      "text/html": [
       "<style  type=\"text/css\" >\n",
       "    #T_858d3f05_1272_11e9_9e40_5ce0c5eca063row0_col0 {\n",
       "            background-color:  #b40426;\n",
       "        }    #T_858d3f05_1272_11e9_9e40_5ce0c5eca063row0_col1 {\n",
       "            background-color:  #f1ccb8;\n",
       "        }    #T_858d3f05_1272_11e9_9e40_5ce0c5eca063row0_col2 {\n",
       "            background-color:  #3b4cc0;\n",
       "        }    #T_858d3f05_1272_11e9_9e40_5ce0c5eca063row0_col3 {\n",
       "            background-color:  #688aef;\n",
       "        }    #T_858d3f05_1272_11e9_9e40_5ce0c5eca063row1_col0 {\n",
       "            background-color:  #efcebd;\n",
       "        }    #T_858d3f05_1272_11e9_9e40_5ce0c5eca063row1_col1 {\n",
       "            background-color:  #b40426;\n",
       "        }    #T_858d3f05_1272_11e9_9e40_5ce0c5eca063row1_col2 {\n",
       "            background-color:  #3b4cc0;\n",
       "        }    #T_858d3f05_1272_11e9_9e40_5ce0c5eca063row1_col3 {\n",
       "            background-color:  #6f92f3;\n",
       "        }    #T_858d3f05_1272_11e9_9e40_5ce0c5eca063row2_col0 {\n",
       "            background-color:  #8caffe;\n",
       "        }    #T_858d3f05_1272_11e9_9e40_5ce0c5eca063row2_col1 {\n",
       "            background-color:  #94b6ff;\n",
       "        }    #T_858d3f05_1272_11e9_9e40_5ce0c5eca063row2_col2 {\n",
       "            background-color:  #b40426;\n",
       "        }    #T_858d3f05_1272_11e9_9e40_5ce0c5eca063row2_col3 {\n",
       "            background-color:  #3b4cc0;\n",
       "        }    #T_858d3f05_1272_11e9_9e40_5ce0c5eca063row3_col0 {\n",
       "            background-color:  #b2ccfb;\n",
       "        }    #T_858d3f05_1272_11e9_9e40_5ce0c5eca063row3_col1 {\n",
       "            background-color:  #bed2f6;\n",
       "        }    #T_858d3f05_1272_11e9_9e40_5ce0c5eca063row3_col2 {\n",
       "            background-color:  #3b4cc0;\n",
       "        }    #T_858d3f05_1272_11e9_9e40_5ce0c5eca063row3_col3 {\n",
       "            background-color:  #b40426;\n",
       "        }</style>  \n",
       "<table id=\"T_858d3f05_1272_11e9_9e40_5ce0c5eca063\" > \n",
       "<thead>    <tr> \n",
       "        <th class=\"blank level0\" ></th> \n",
       "        <th class=\"col_heading level0 col0\" >forks</th> \n",
       "        <th class=\"col_heading level0 col1\" >stars_github</th> \n",
       "        <th class=\"col_heading level0 col2\" >pulls_issues</th> \n",
       "        <th class=\"col_heading level0 col3\" >subscribers</th> \n",
       "    </tr></thead> \n",
       "<tbody>    <tr> \n",
       "        <th id=\"T_858d3f05_1272_11e9_9e40_5ce0c5eca063level0_row0\" class=\"row_heading level0 row0\" >forks</th> \n",
       "        <td id=\"T_858d3f05_1272_11e9_9e40_5ce0c5eca063row0_col0\" class=\"data row0 col0\" >1.0</td> \n",
       "        <td id=\"T_858d3f05_1272_11e9_9e40_5ce0c5eca063row0_col1\" class=\"data row0 col1\" >0.85</td> \n",
       "        <td id=\"T_858d3f05_1272_11e9_9e40_5ce0c5eca063row0_col2\" class=\"data row0 col2\" >0.63</td> \n",
       "        <td id=\"T_858d3f05_1272_11e9_9e40_5ce0c5eca063row0_col3\" class=\"data row0 col3\" >0.68</td> \n",
       "    </tr>    <tr> \n",
       "        <th id=\"T_858d3f05_1272_11e9_9e40_5ce0c5eca063level0_row1\" class=\"row_heading level0 row1\" >stars_github</th> \n",
       "        <td id=\"T_858d3f05_1272_11e9_9e40_5ce0c5eca063row1_col0\" class=\"data row1 col0\" >0.85</td> \n",
       "        <td id=\"T_858d3f05_1272_11e9_9e40_5ce0c5eca063row1_col1\" class=\"data row1 col1\" >1.0</td> \n",
       "        <td id=\"T_858d3f05_1272_11e9_9e40_5ce0c5eca063row1_col2\" class=\"data row1 col2\" >0.64</td> \n",
       "        <td id=\"T_858d3f05_1272_11e9_9e40_5ce0c5eca063row1_col3\" class=\"data row1 col3\" >0.7</td> \n",
       "    </tr>    <tr> \n",
       "        <th id=\"T_858d3f05_1272_11e9_9e40_5ce0c5eca063level0_row2\" class=\"row_heading level0 row2\" >pulls_issues</th> \n",
       "        <td id=\"T_858d3f05_1272_11e9_9e40_5ce0c5eca063row2_col0\" class=\"data row2 col0\" >0.63</td> \n",
       "        <td id=\"T_858d3f05_1272_11e9_9e40_5ce0c5eca063row2_col1\" class=\"data row2 col1\" >0.64</td> \n",
       "        <td id=\"T_858d3f05_1272_11e9_9e40_5ce0c5eca063row2_col2\" class=\"data row2 col2\" >1.0</td> \n",
       "        <td id=\"T_858d3f05_1272_11e9_9e40_5ce0c5eca063row2_col3\" class=\"data row2 col3\" >0.51</td> \n",
       "    </tr>    <tr> \n",
       "        <th id=\"T_858d3f05_1272_11e9_9e40_5ce0c5eca063level0_row3\" class=\"row_heading level0 row3\" >subscribers</th> \n",
       "        <td id=\"T_858d3f05_1272_11e9_9e40_5ce0c5eca063row3_col0\" class=\"data row3 col0\" >0.68</td> \n",
       "        <td id=\"T_858d3f05_1272_11e9_9e40_5ce0c5eca063row3_col1\" class=\"data row3 col1\" >0.7</td> \n",
       "        <td id=\"T_858d3f05_1272_11e9_9e40_5ce0c5eca063row3_col2\" class=\"data row3 col2\" >0.51</td> \n",
       "        <td id=\"T_858d3f05_1272_11e9_9e40_5ce0c5eca063row3_col3\" class=\"data row3 col3\" >1.0</td> \n",
       "    </tr></tbody> \n",
       "</table> "
      ],
      "text/plain": [
       "<pandas.io.formats.style.Styler at 0x7f1d615097b8>"
      ]
     },
     "execution_count": 20,
     "metadata": {},
     "output_type": "execute_result"
    }
   ],
   "source": [
    "df_tmp.corr(method=\"pearson\").style.format(\"{:.2}\").background_gradient(cmap=plt.get_cmap('coolwarm'), axis=1)"
   ]
  },
  {
   "cell_type": "markdown",
   "metadata": {},
   "source": [
    "# Relating metrics emanating from the different sources"
   ]
  },
  {
   "cell_type": "code",
   "execution_count": 21,
   "metadata": {},
   "outputs": [],
   "source": [
    "#npm['usage']=(npm['dep_pro'] + npm['dep_repo'])\n",
    "npm['community_interest']=(npm['stars_github']+\n",
    "                          npm['forks']+\n",
    "                          (npm['pulls_issues']*npm['pulls_issues'])\n",
    "                          )"
   ]
  },
  {
   "cell_type": "code",
   "execution_count": 28,
   "metadata": {
    "scrolled": true
   },
   "outputs": [
    {
     "name": "stderr",
     "output_type": "stream",
     "text": [
      "/usr/local/lib/python3.5/dist-packages/pandas/core/frame.py:3027: SettingWithCopyWarning: \n",
      "A value is trying to be set on a copy of a slice from a DataFrame\n",
      "\n",
      "See the caveats in the documentation: http://pandas.pydata.org/pandas-docs/stable/indexing.html#indexing-view-versus-copy\n",
      "  return super(DataFrame, self).rename(**kwargs)\n"
     ]
    },
    {
     "data": {
      "text/html": [
       "<style  type=\"text/css\" >\n",
       "    #T_bf578148_1272_11e9_9e40_5ce0c5eca063row0_col0 {\n",
       "            background-color:  #e26952;\n",
       "        }    #T_bf578148_1272_11e9_9e40_5ce0c5eca063row0_col1 {\n",
       "            background-color:  #c4d5f3;\n",
       "        }    #T_bf578148_1272_11e9_9e40_5ce0c5eca063row0_col2 {\n",
       "            background-color:  #7da0f9;\n",
       "        }    #T_bf578148_1272_11e9_9e40_5ce0c5eca063row0_col3 {\n",
       "            background-color:  #506bda;\n",
       "        }    #T_bf578148_1272_11e9_9e40_5ce0c5eca063row0_col4 {\n",
       "            background-color:  #b7cff9;\n",
       "        }    #T_bf578148_1272_11e9_9e40_5ce0c5eca063row0_col5 {\n",
       "            background-color:  #8caffe;\n",
       "        }    #T_bf578148_1272_11e9_9e40_5ce0c5eca063row1_col0 {\n",
       "            background-color:  #cdd9ec;\n",
       "        }    #T_bf578148_1272_11e9_9e40_5ce0c5eca063row1_col1 {\n",
       "            background-color:  #e26952;\n",
       "        }    #T_bf578148_1272_11e9_9e40_5ce0c5eca063row1_col2 {\n",
       "            background-color:  #6c8ff1;\n",
       "        }    #T_bf578148_1272_11e9_9e40_5ce0c5eca063row1_col3 {\n",
       "            background-color:  #506bda;\n",
       "        }    #T_bf578148_1272_11e9_9e40_5ce0c5eca063row1_col4 {\n",
       "            background-color:  #8caffe;\n",
       "        }    #T_bf578148_1272_11e9_9e40_5ce0c5eca063row1_col5 {\n",
       "            background-color:  #7396f5;\n",
       "        }    #T_bf578148_1272_11e9_9e40_5ce0c5eca063row2_col0 {\n",
       "            background-color:  #7396f5;\n",
       "        }    #T_bf578148_1272_11e9_9e40_5ce0c5eca063row2_col1 {\n",
       "            background-color:  #506bda;\n",
       "        }    #T_bf578148_1272_11e9_9e40_5ce0c5eca063row2_col2 {\n",
       "            background-color:  #e26952;\n",
       "        }    #T_bf578148_1272_11e9_9e40_5ce0c5eca063row2_col3 {\n",
       "            background-color:  #aec9fc;\n",
       "        }    #T_bf578148_1272_11e9_9e40_5ce0c5eca063row2_col4 {\n",
       "            background-color:  #a7c5fe;\n",
       "        }    #T_bf578148_1272_11e9_9e40_5ce0c5eca063row2_col5 {\n",
       "            background-color:  #6485ec;\n",
       "        }    #T_bf578148_1272_11e9_9e40_5ce0c5eca063row3_col0 {\n",
       "            background-color:  #6384eb;\n",
       "        }    #T_bf578148_1272_11e9_9e40_5ce0c5eca063row3_col1 {\n",
       "            background-color:  #506bda;\n",
       "        }    #T_bf578148_1272_11e9_9e40_5ce0c5eca063row3_col2 {\n",
       "            background-color:  #c1d4f4;\n",
       "        }    #T_bf578148_1272_11e9_9e40_5ce0c5eca063row3_col3 {\n",
       "            background-color:  #e26952;\n",
       "        }    #T_bf578148_1272_11e9_9e40_5ce0c5eca063row3_col4 {\n",
       "            background-color:  #9bbcff;\n",
       "        }    #T_bf578148_1272_11e9_9e40_5ce0c5eca063row3_col5 {\n",
       "            background-color:  #688aef;\n",
       "        }    #T_bf578148_1272_11e9_9e40_5ce0c5eca063row4_col0 {\n",
       "            background-color:  #98b9ff;\n",
       "        }    #T_bf578148_1272_11e9_9e40_5ce0c5eca063row4_col1 {\n",
       "            background-color:  #506bda;\n",
       "        }    #T_bf578148_1272_11e9_9e40_5ce0c5eca063row4_col2 {\n",
       "            background-color:  #8caffe;\n",
       "        }    #T_bf578148_1272_11e9_9e40_5ce0c5eca063row4_col3 {\n",
       "            background-color:  #6282ea;\n",
       "        }    #T_bf578148_1272_11e9_9e40_5ce0c5eca063row4_col4 {\n",
       "            background-color:  #e26952;\n",
       "        }    #T_bf578148_1272_11e9_9e40_5ce0c5eca063row4_col5 {\n",
       "            background-color:  #5673e0;\n",
       "        }    #T_bf578148_1272_11e9_9e40_5ce0c5eca063row5_col0 {\n",
       "            background-color:  #86a9fc;\n",
       "        }    #T_bf578148_1272_11e9_9e40_5ce0c5eca063row5_col1 {\n",
       "            background-color:  #5a78e4;\n",
       "        }    #T_bf578148_1272_11e9_9e40_5ce0c5eca063row5_col2 {\n",
       "            background-color:  #688aef;\n",
       "        }    #T_bf578148_1272_11e9_9e40_5ce0c5eca063row5_col3 {\n",
       "            background-color:  #506bda;\n",
       "        }    #T_bf578148_1272_11e9_9e40_5ce0c5eca063row5_col4 {\n",
       "            background-color:  #7b9ff9;\n",
       "        }    #T_bf578148_1272_11e9_9e40_5ce0c5eca063row5_col5 {\n",
       "            background-color:  #e26952;\n",
       "        }</style>  \n",
       "<table id=\"T_bf578148_1272_11e9_9e40_5ce0c5eca063\" > \n",
       "<thead>    <tr> \n",
       "        <th class=\"blank level0\" ></th> \n",
       "        <th class=\"col_heading level0 col0\" >Aggarwal-Pop</th> \n",
       "        <th class=\"col_heading level0 col1\" >subscribers</th> \n",
       "        <th class=\"col_heading level0 col2\" >deps repositories</th> \n",
       "        <th class=\"col_heading level0 col3\" >runtime deps</th> \n",
       "        <th class=\"col_heading level0 col4\" >downloads</th> \n",
       "        <th class=\"col_heading level0 col5\" >npm stars</th> \n",
       "    </tr></thead> \n",
       "<tbody>    <tr> \n",
       "        <th id=\"T_bf578148_1272_11e9_9e40_5ce0c5eca063level0_row0\" class=\"row_heading level0 row0\" >Aggarwal-Pop</th> \n",
       "        <td id=\"T_bf578148_1272_11e9_9e40_5ce0c5eca063row0_col0\" class=\"data row0 col0\" >1.0</td> \n",
       "        <td id=\"T_bf578148_1272_11e9_9e40_5ce0c5eca063row0_col1\" class=\"data row0 col1\" >0.57</td> \n",
       "        <td id=\"T_bf578148_1272_11e9_9e40_5ce0c5eca063row0_col2\" class=\"data row0 col2\" >0.38</td> \n",
       "        <td id=\"T_bf578148_1272_11e9_9e40_5ce0c5eca063row0_col3\" class=\"data row0 col3\" >0.25</td> \n",
       "        <td id=\"T_bf578148_1272_11e9_9e40_5ce0c5eca063row0_col4\" class=\"data row0 col4\" >0.54</td> \n",
       "        <td id=\"T_bf578148_1272_11e9_9e40_5ce0c5eca063row0_col5\" class=\"data row0 col5\" >0.42</td> \n",
       "    </tr>    <tr> \n",
       "        <th id=\"T_bf578148_1272_11e9_9e40_5ce0c5eca063level0_row1\" class=\"row_heading level0 row1\" >subscribers</th> \n",
       "        <td id=\"T_bf578148_1272_11e9_9e40_5ce0c5eca063row1_col0\" class=\"data row1 col0\" >0.57</td> \n",
       "        <td id=\"T_bf578148_1272_11e9_9e40_5ce0c5eca063row1_col1\" class=\"data row1 col1\" >1.0</td> \n",
       "        <td id=\"T_bf578148_1272_11e9_9e40_5ce0c5eca063row1_col2\" class=\"data row1 col2\" >0.28</td> \n",
       "        <td id=\"T_bf578148_1272_11e9_9e40_5ce0c5eca063row1_col3\" class=\"data row1 col3\" >0.19</td> \n",
       "        <td id=\"T_bf578148_1272_11e9_9e40_5ce0c5eca063row1_col4\" class=\"data row1 col4\" >0.37</td> \n",
       "        <td id=\"T_bf578148_1272_11e9_9e40_5ce0c5eca063row1_col5\" class=\"data row1 col5\" >0.3</td> \n",
       "    </tr>    <tr> \n",
       "        <th id=\"T_bf578148_1272_11e9_9e40_5ce0c5eca063level0_row2\" class=\"row_heading level0 row2\" >deps repositories</th> \n",
       "        <td id=\"T_bf578148_1272_11e9_9e40_5ce0c5eca063row2_col0\" class=\"data row2 col0\" >0.38</td> \n",
       "        <td id=\"T_bf578148_1272_11e9_9e40_5ce0c5eca063row2_col1\" class=\"data row2 col1\" >0.28</td> \n",
       "        <td id=\"T_bf578148_1272_11e9_9e40_5ce0c5eca063row2_col2\" class=\"data row2 col2\" >1.0</td> \n",
       "        <td id=\"T_bf578148_1272_11e9_9e40_5ce0c5eca063row2_col3\" class=\"data row2 col3\" >0.53</td> \n",
       "        <td id=\"T_bf578148_1272_11e9_9e40_5ce0c5eca063row2_col4\" class=\"data row2 col4\" >0.51</td> \n",
       "        <td id=\"T_bf578148_1272_11e9_9e40_5ce0c5eca063row2_col5\" class=\"data row2 col5\" >0.34</td> \n",
       "    </tr>    <tr> \n",
       "        <th id=\"T_bf578148_1272_11e9_9e40_5ce0c5eca063level0_row3\" class=\"row_heading level0 row3\" >runtime deps</th> \n",
       "        <td id=\"T_bf578148_1272_11e9_9e40_5ce0c5eca063row3_col0\" class=\"data row3 col0\" >0.25</td> \n",
       "        <td id=\"T_bf578148_1272_11e9_9e40_5ce0c5eca063row3_col1\" class=\"data row3 col1\" >0.19</td> \n",
       "        <td id=\"T_bf578148_1272_11e9_9e40_5ce0c5eca063row3_col2\" class=\"data row3 col2\" >0.53</td> \n",
       "        <td id=\"T_bf578148_1272_11e9_9e40_5ce0c5eca063row3_col3\" class=\"data row3 col3\" >1.0</td> \n",
       "        <td id=\"T_bf578148_1272_11e9_9e40_5ce0c5eca063row3_col4\" class=\"data row3 col4\" >0.42</td> \n",
       "        <td id=\"T_bf578148_1272_11e9_9e40_5ce0c5eca063row3_col5\" class=\"data row3 col5\" >0.27</td> \n",
       "    </tr>    <tr> \n",
       "        <th id=\"T_bf578148_1272_11e9_9e40_5ce0c5eca063level0_row4\" class=\"row_heading level0 row4\" >downloads</th> \n",
       "        <td id=\"T_bf578148_1272_11e9_9e40_5ce0c5eca063row4_col0\" class=\"data row4 col0\" >0.54</td> \n",
       "        <td id=\"T_bf578148_1272_11e9_9e40_5ce0c5eca063row4_col1\" class=\"data row4 col1\" >0.37</td> \n",
       "        <td id=\"T_bf578148_1272_11e9_9e40_5ce0c5eca063row4_col2\" class=\"data row4 col2\" >0.51</td> \n",
       "        <td id=\"T_bf578148_1272_11e9_9e40_5ce0c5eca063row4_col3\" class=\"data row4 col3\" >0.42</td> \n",
       "        <td id=\"T_bf578148_1272_11e9_9e40_5ce0c5eca063row4_col4\" class=\"data row4 col4\" >1.0</td> \n",
       "        <td id=\"T_bf578148_1272_11e9_9e40_5ce0c5eca063row4_col5\" class=\"data row4 col5\" >0.39</td> \n",
       "    </tr>    <tr> \n",
       "        <th id=\"T_bf578148_1272_11e9_9e40_5ce0c5eca063level0_row5\" class=\"row_heading level0 row5\" >npm stars</th> \n",
       "        <td id=\"T_bf578148_1272_11e9_9e40_5ce0c5eca063row5_col0\" class=\"data row5 col0\" >0.42</td> \n",
       "        <td id=\"T_bf578148_1272_11e9_9e40_5ce0c5eca063row5_col1\" class=\"data row5 col1\" >0.3</td> \n",
       "        <td id=\"T_bf578148_1272_11e9_9e40_5ce0c5eca063row5_col2\" class=\"data row5 col2\" >0.34</td> \n",
       "        <td id=\"T_bf578148_1272_11e9_9e40_5ce0c5eca063row5_col3\" class=\"data row5 col3\" >0.27</td> \n",
       "        <td id=\"T_bf578148_1272_11e9_9e40_5ce0c5eca063row5_col4\" class=\"data row5 col4\" >0.39</td> \n",
       "        <td id=\"T_bf578148_1272_11e9_9e40_5ce0c5eca063row5_col5\" class=\"data row5 col5\" >1.0</td> \n",
       "    </tr></tbody> \n",
       "</table> "
      ],
      "text/plain": [
       "<pandas.io.formats.style.Styler at 0x7f1d615697f0>"
      ]
     },
     "execution_count": 28,
     "metadata": {},
     "output_type": "execute_result"
    }
   ],
   "source": [
    "corre = npm[['community_interest','subscribers',\n",
    "          # 'transitive_runtime',\n",
    "             'repo_runtime','direct_runtime',\n",
    "           'downloads', 'stars_npm']]\n",
    "corre.rename(columns={'community_interest':\"Aggarwal-Pop\", #\"transitive_runtime\":'transitive deps',\n",
    "                     'direct_runtime':'runtime deps','stars_npm':'npm stars','repo_runtime':'deps repositories'},\n",
    "            inplace=True)\n",
    "ax = corre.corr(method=\"spearman\").style.format(\"{:.2}\").background_gradient(cmap=plt.get_cmap('coolwarm'), \n",
    "                                                                             low=.09,high=.18, axis=1)\n",
    "ax"
   ]
  },
  {
   "cell_type": "markdown",
   "metadata": {},
   "source": [
    "### Simulate a search in npmjs.com ans then check if the results are in the top 1000 in terms of other popularity metrics"
   ]
  },
  {
   "cell_type": "code",
   "execution_count": 27,
   "metadata": {},
   "outputs": [],
   "source": [
    "npm_search=npm.dropna().reset_index()\n",
    "for x in npm_search:\n",
    "    if x!= \"name\":\n",
    "        npm_search[x]=npm_search[x].apply(float)"
   ]
  },
  {
   "cell_type": "code",
   "execution_count": 28,
   "metadata": {},
   "outputs": [],
   "source": [
    "# TOP 1000 DOWNLOADED\n",
    "top=1000\n",
    "\n",
    "npm_search.sort_values('downloads', inplace=True, ascending=False)\n",
    "df_downloads=npm_search.head(top).loc[:,['name']]\n",
    "df_downloads['type']='downloads'\n",
    "\n",
    "# TOP 1000 STARRED\n",
    "npm_search.sort_values('stars_npm', inplace=True, ascending=False)\n",
    "df_stars=npm_search.head(top).loc[:,['name']]\n",
    "df_stars['type']='stars npm'\n",
    "\n",
    "# TOP 1000 SUBSCRIBED\n",
    "npm_search.sort_values('subscribers', inplace=True, ascending=False)\n",
    "df_subscribers=npm_search.head(top).loc[:,['name']]\n",
    "df_subscribers['type']='subscribers'\n",
    "\n",
    "# TOP 1000 COMMUNITY INTEREST\n",
    "\n",
    "npm_search.sort_values('community_interest', inplace=True, ascending=False)\n",
    "df_community=npm_search.head(top).loc[:,['name']]\n",
    "df_community['type']='community interest'\n",
    "\n",
    "# TOP 1000 transitive runtime\n",
    "#npm_search.sort_values('transitive_runtime', inplace=True,ascending=False)\n",
    "#df_transitive=npm_search.head(top).loc[:,['name']]\n",
    "#df_transitive['type']='transitive runtime'\n",
    "\n",
    "# TOP 1000 repo runtime\n",
    "npm_search.sort_values('repo_runtime', inplace=True, ascending=False)\n",
    "df_repo=npm_search.head(top).loc[:,['name']]\n",
    "df_repo['type']='repo runtime'\n",
    "\n",
    "\n",
    "df_all=pd.concat([df_downloads,df_stars,df_subscribers,df_community,\n",
    "                  #df_transitive, \n",
    "                  df_repo])"
   ]
  },
  {
   "cell_type": "code",
   "execution_count": 29,
   "metadata": {},
   "outputs": [],
   "source": [
    "# SEARCH IN NPMJS.COM\n",
    "npm_search.sort_values('direct_runtime', inplace=True, ascending=False)\n",
    "df_dependents=npm_search.head(top).loc[:,['name']]\n",
    "df_dependents['top_dependent']='True'\n",
    "\n",
    "\n",
    "df_all=df_all.set_index('name').merge(df_dependents.\n",
    "                                      set_index('name'),\n",
    "                                      left_index=True,\n",
    "                                      right_index=True,\n",
    "                                      how='outer').dropna().reset_index()\n",
    "df_all.drop(['top_dependent'], axis=1, inplace=True)"
   ]
  },
  {
   "cell_type": "code",
   "execution_count": 30,
   "metadata": {},
   "outputs": [],
   "source": [
    "lis=df_all.groupby('name')['type'].apply(list)\n",
    "tab= [i for i in lis]\n",
    "from pymining import seqmining \n",
    "freq_seqs = seqmining.freq_seq_enum(tab, 1)\n",
    "#print(\"Seuls: \",sorted(freq_seqs))"
   ]
  },
  {
   "cell_type": "markdown",
   "metadata": {},
   "source": [
    "# Venn diagram with 5 edges"
   ]
  },
  {
   "cell_type": "code",
   "execution_count": 31,
   "metadata": {},
   "outputs": [],
   "source": [
    "# Venn diagram with 5 edges\n",
    "number={}\n",
    "number['community interest']=10000\n",
    "number['downloads']=1000\n",
    "number['stars npm']=100\n",
    "number['subscribers']=10\n",
    "number['repo runtime']=1\n",
    "\n",
    "tabs={}\n",
    "for x in freq_seqs:\n",
    "    result=0\n",
    "    for y in x[0]:\n",
    "        result=result+number[y]\n",
    "    result=str(\"%05d\" % (result,))\n",
    "    tabs[result]=x[1]"
   ]
  },
  {
   "cell_type": "code",
   "execution_count": 32,
   "metadata": {},
   "outputs": [
    {
     "name": "stdout",
     "output_type": "stream",
     "text": [
      "549\n",
      "166\n",
      "601\n",
      "391\n",
      "194\n"
     ]
    }
   ],
   "source": [
    "labels = ['00001','00010','00100','01000','10000']\n",
    "for x in labels:\n",
    "    print(tabs[x])"
   ]
  },
  {
   "cell_type": "code",
   "execution_count": 46,
   "metadata": {},
   "outputs": [
    {
     "data": {
      "image/png": "[encoded data removed]",
      "text/plain": [
       "<matplotlib.figure.Figure at 0x7fc903ac84e0>"
      ]
     },
     "metadata": {},
     "output_type": "display_data"
    }
   ],
   "source": [
    "%matplotlib inline\n",
    "#https://github.com/tctianchi/pyvenn\n",
    "import venn\n",
    "plt.rcParams['text.usetex'] = False\n",
    "font = {'family' : 'Times New Roman',\n",
    "        'weight' : 'normal',\n",
    "        'size'   : 18}\n",
    "plt.rc('font', **font)\n",
    "\n",
    "plt.rcParams['text.usetex'] = True\n",
    "\n",
    "fig, ax = venn.venn5(tabs)\n",
    "ax.legend('')\n",
    "fig.set_size_inches(8,8)\n",
    "ax.text(0.4, 1, 'downloads', fontsize=20,  color='black')\n",
    "ax.text(-0.11, 0.78, 'Aggarwal-Popularity', fontsize=20,  color='black')\n",
    "ax.text(0.9, 0.75, 'npm stars', fontsize=20,  color='black')\n",
    "ax.text(-0.1, 0.2, 'dependent\\n repositories', fontsize=20,  color='black')\n",
    "ax.text(0.9, 0.2, 'subscribers', fontsize=20,  color='black')\n",
    "ax.figure.savefig('../../../seneca_research/npm_popularity/figures/venn_pop.pdf', bbox_inches='tight', facecolor='white')\n"
   ]
  },
  {
   "cell_type": "markdown",
   "metadata": {},
   "source": [
    "# Venn diagram with 6 edges"
   ]
  },
  {
   "cell_type": "code",
   "execution_count": 81,
   "metadata": {},
   "outputs": [],
   "source": [
    "# Venn diagram with 6 edges\n",
    "number={}\n",
    "number['community interest']=100000\n",
    "number['downloads']=10000\n",
    "number['stars npm']=1000\n",
    "number['subscribers']=100\n",
    "number['transitive runtime']=10\n",
    "number['repo runtime']=1\n",
    "\n",
    "tabs={}\n",
    "for x in freq_seqs:\n",
    "    result=0\n",
    "    for y in x[0]:\n",
    "        result=result+number[y]\n",
    "    result=str(\"%06d\" % (result,))\n",
    "    tabs[result]=x[1]"
   ]
  },
  {
   "cell_type": "code",
   "execution_count": null,
   "metadata": {},
   "outputs": [],
   "source": [
    "labels = ['000001','000010','000100','001000','010000','100000']\n",
    "for x in labels:\n",
    "    print(tabs[x])"
   ]
  },
  {
   "cell_type": "code",
   "execution_count": null,
   "metadata": {},
   "outputs": [],
   "source": [
    "%matplotlib inline\n",
    "#https://github.com/tctianchi/pyvenn\n",
    "import venn\n",
    "plt.rcParams['text.usetex'] = False\n",
    "font = {'family' : 'Times New Roman',\n",
    "        'weight' : 'normal',\n",
    "        'size'   : 18}\n",
    "plt.rc('font', **font)\n",
    "\n",
    "plt.rcParams['text.usetex'] = True\n",
    "\n",
    "#labels = venn.get_labels([range(10), range(5, 15), range(3, 8), range(8, 17), range(10, 20)], fill=['number', 'logic'])\n",
    "fig, ax = venn.venn6(tabs, names=list(sorted(number.keys())))\n",
    "ax.legend(bbox_to_anchor=(1, 0))\n",
    "fig.set_size_inches(20,10)"
   ]
  },
  {
   "cell_type": "code",
   "execution_count": null,
   "metadata": {},
   "outputs": [],
   "source": []
  }
 ],
 "metadata": {
  "kernelspec": {
   "display_name": "Python 3",
   "language": "python",
   "name": "python3"
  },
  "language_info": {
   "codemirror_mode": {
    "name": "ipython",
    "version": 3
   },
   "file_extension": ".py",
   "mimetype": "text/x-python",
   "name": "python",
   "nbconvert_exporter": "python",
   "pygments_lexer": "ipython3",
   "version": "3.5.1+"
  }
 },
 "nbformat": 4,
 "nbformat_minor": 2
}
