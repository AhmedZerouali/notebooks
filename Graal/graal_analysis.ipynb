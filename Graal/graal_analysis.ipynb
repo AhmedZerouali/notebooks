{
 "cells": [
  {
   "cell_type": "code",
   "execution_count": 1,
   "metadata": {},
   "outputs": [],
   "source": [
    "%matplotlib inline\n",
    "import seaborn as sns; \n",
    "import pandas as pd\n",
    "import matplotlib.pyplot as plt\n",
    "from matplotlib import style\n",
    "from matplotlib import gridspec\n",
    "import scipy\n",
    "style.use('ggplot')\n",
    "import datetime\n",
    "from io import StringIO\n",
    "import re\n",
    "import numpy as np\n",
    "from datetime import datetime\n",
    "import json\n",
    "sns.set_style('whitegrid')\n",
    "sns.set_palette('colorblind')\n",
    "FIG_SIZE = (12, 3)\n",
    "font = {'family' : 'Times New Roman',\n",
    "        'weight' : 'bold',\n",
    "        'size'   : 22}\n",
    "plt.rc('font', **font)\n",
    "plt.rcParams['pdf.fonttype'] = 42\n",
    "plt.rcParams['ps.fonttype'] = 42\n",
    "plt.rcParams['text.usetex'] = True\n",
    "\n",
    "plt.rcParams['xtick.labelsize'] = 18\n",
    "plt.rcParams['ytick.labelsize'] = 22\n",
    "plt.rcParams['axes.labelsize']= 22\n",
    "plt.rcParams['lines.linewidth']= 2\n",
    "plt.rcParams['lines.markersize']= 2"
   ]
  },
  {
   "cell_type": "code",
   "execution_count": 7,
   "metadata": {},
   "outputs": [
    {
     "ename": "JSONDecodeError",
     "evalue": "Extra data: line 2 column 1 (char 760)",
     "output_type": "error",
     "traceback": [
      "\u001b[0;31m---------------------------------------------------------------------------\u001b[0m",
      "\u001b[0;31mJSONDecodeError\u001b[0m                           Traceback (most recent call last)",
      "\u001b[0;32m<ipython-input-7-30dcf0e5e99e>\u001b[0m in \u001b[0;36m<module>\u001b[0;34m\u001b[0m\n\u001b[1;32m      1\u001b[0m \u001b[0;32mimport\u001b[0m \u001b[0mjson\u001b[0m \u001b[0;32mas\u001b[0m \u001b[0mjs\u001b[0m\u001b[0;34m\u001b[0m\u001b[0;34m\u001b[0m\u001b[0m\n\u001b[1;32m      2\u001b[0m \u001b[0;32mimport\u001b[0m \u001b[0mcodecs\u001b[0m\u001b[0;34m\u001b[0m\u001b[0;34m\u001b[0m\u001b[0m\n\u001b[0;32m----> 3\u001b[0;31m \u001b[0mdata\u001b[0m\u001b[0;34m=\u001b[0m\u001b[0mjs\u001b[0m\u001b[0;34m.\u001b[0m\u001b[0mload\u001b[0m\u001b[0;34m(\u001b[0m\u001b[0mcodecs\u001b[0m\u001b[0;34m.\u001b[0m\u001b[0mopen\u001b[0m\u001b[0;34m(\u001b[0m\u001b[0;34m'../../graal/data/clojure-nomos.txt'\u001b[0m\u001b[0;34m,\u001b[0m \u001b[0;34m'r'\u001b[0m\u001b[0;34m,\u001b[0m \u001b[0;34m'utf-8'\u001b[0m\u001b[0;34m)\u001b[0m\u001b[0;34m)\u001b[0m\u001b[0;34m\u001b[0m\u001b[0;34m\u001b[0m\u001b[0m\n\u001b[0m",
      "\u001b[0;32m/usr/lib/python3.6/json/__init__.py\u001b[0m in \u001b[0;36mload\u001b[0;34m(fp, cls, object_hook, parse_float, parse_int, parse_constant, object_pairs_hook, **kw)\u001b[0m\n\u001b[1;32m    297\u001b[0m         \u001b[0mcls\u001b[0m\u001b[0;34m=\u001b[0m\u001b[0mcls\u001b[0m\u001b[0;34m,\u001b[0m \u001b[0mobject_hook\u001b[0m\u001b[0;34m=\u001b[0m\u001b[0mobject_hook\u001b[0m\u001b[0;34m,\u001b[0m\u001b[0;34m\u001b[0m\u001b[0;34m\u001b[0m\u001b[0m\n\u001b[1;32m    298\u001b[0m         \u001b[0mparse_float\u001b[0m\u001b[0;34m=\u001b[0m\u001b[0mparse_float\u001b[0m\u001b[0;34m,\u001b[0m \u001b[0mparse_int\u001b[0m\u001b[0;34m=\u001b[0m\u001b[0mparse_int\u001b[0m\u001b[0;34m,\u001b[0m\u001b[0;34m\u001b[0m\u001b[0;34m\u001b[0m\u001b[0m\n\u001b[0;32m--> 299\u001b[0;31m         parse_constant=parse_constant, object_pairs_hook=object_pairs_hook, **kw)\n\u001b[0m\u001b[1;32m    300\u001b[0m \u001b[0;34m\u001b[0m\u001b[0m\n\u001b[1;32m    301\u001b[0m \u001b[0;34m\u001b[0m\u001b[0m\n",
      "\u001b[0;32m/usr/lib/python3.6/json/__init__.py\u001b[0m in \u001b[0;36mloads\u001b[0;34m(s, encoding, cls, object_hook, parse_float, parse_int, parse_constant, object_pairs_hook, **kw)\u001b[0m\n\u001b[1;32m    352\u001b[0m             \u001b[0mparse_int\u001b[0m \u001b[0;32mis\u001b[0m \u001b[0;32mNone\u001b[0m \u001b[0;32mand\u001b[0m \u001b[0mparse_float\u001b[0m \u001b[0;32mis\u001b[0m \u001b[0;32mNone\u001b[0m \u001b[0;32mand\u001b[0m\u001b[0;34m\u001b[0m\u001b[0;34m\u001b[0m\u001b[0m\n\u001b[1;32m    353\u001b[0m             parse_constant is None and object_pairs_hook is None and not kw):\n\u001b[0;32m--> 354\u001b[0;31m         \u001b[0;32mreturn\u001b[0m \u001b[0m_default_decoder\u001b[0m\u001b[0;34m.\u001b[0m\u001b[0mdecode\u001b[0m\u001b[0;34m(\u001b[0m\u001b[0ms\u001b[0m\u001b[0;34m)\u001b[0m\u001b[0;34m\u001b[0m\u001b[0;34m\u001b[0m\u001b[0m\n\u001b[0m\u001b[1;32m    355\u001b[0m     \u001b[0;32mif\u001b[0m \u001b[0mcls\u001b[0m \u001b[0;32mis\u001b[0m \u001b[0;32mNone\u001b[0m\u001b[0;34m:\u001b[0m\u001b[0;34m\u001b[0m\u001b[0;34m\u001b[0m\u001b[0m\n\u001b[1;32m    356\u001b[0m         \u001b[0mcls\u001b[0m \u001b[0;34m=\u001b[0m \u001b[0mJSONDecoder\u001b[0m\u001b[0;34m\u001b[0m\u001b[0;34m\u001b[0m\u001b[0m\n",
      "\u001b[0;32m/usr/lib/python3.6/json/decoder.py\u001b[0m in \u001b[0;36mdecode\u001b[0;34m(self, s, _w)\u001b[0m\n\u001b[1;32m    340\u001b[0m         \u001b[0mend\u001b[0m \u001b[0;34m=\u001b[0m \u001b[0m_w\u001b[0m\u001b[0;34m(\u001b[0m\u001b[0ms\u001b[0m\u001b[0;34m,\u001b[0m \u001b[0mend\u001b[0m\u001b[0;34m)\u001b[0m\u001b[0;34m.\u001b[0m\u001b[0mend\u001b[0m\u001b[0;34m(\u001b[0m\u001b[0;34m)\u001b[0m\u001b[0;34m\u001b[0m\u001b[0;34m\u001b[0m\u001b[0m\n\u001b[1;32m    341\u001b[0m         \u001b[0;32mif\u001b[0m \u001b[0mend\u001b[0m \u001b[0;34m!=\u001b[0m \u001b[0mlen\u001b[0m\u001b[0;34m(\u001b[0m\u001b[0ms\u001b[0m\u001b[0;34m)\u001b[0m\u001b[0;34m:\u001b[0m\u001b[0;34m\u001b[0m\u001b[0;34m\u001b[0m\u001b[0m\n\u001b[0;32m--> 342\u001b[0;31m             \u001b[0;32mraise\u001b[0m \u001b[0mJSONDecodeError\u001b[0m\u001b[0;34m(\u001b[0m\u001b[0;34m\"Extra data\"\u001b[0m\u001b[0;34m,\u001b[0m \u001b[0ms\u001b[0m\u001b[0;34m,\u001b[0m \u001b[0mend\u001b[0m\u001b[0;34m)\u001b[0m\u001b[0;34m\u001b[0m\u001b[0;34m\u001b[0m\u001b[0m\n\u001b[0m\u001b[1;32m    343\u001b[0m         \u001b[0;32mreturn\u001b[0m \u001b[0mobj\u001b[0m\u001b[0;34m\u001b[0m\u001b[0;34m\u001b[0m\u001b[0m\n\u001b[1;32m    344\u001b[0m \u001b[0;34m\u001b[0m\u001b[0m\n",
      "\u001b[0;31mJSONDecodeError\u001b[0m: Extra data: line 2 column 1 (char 760)"
     ]
    }
   ],
   "source": [
    "import json as js\n",
    "import codecs\n",
    "data=js.load(codecs.open('../../graal/data/clojure-nomos.txt', 'r', 'utf-8'))"
   ]
  },
  {
   "cell_type": "code",
   "execution_count": 48,
   "metadata": {},
   "outputs": [],
   "source": [
    "text_file = open(\"../../graal/data/clojure-scancode.txt\", \"r\")\n",
    "lines = text_file.readlines()\n",
    "namos "
   ]
  },
  {
   "cell_type": "code",
   "execution_count": 49,
   "metadata": {},
   "outputs": [],
   "source": [
    "for line in lines:\n",
    "    data=js.loads(line)\n",
    "    break\n",
    "    if namos:\n",
    "    timestamp = data['timestamp']\n",
    "    category = data['category']\n",
    "    commit = data['data']['commit']\n",
    "    authordate = data['data']['AuthorDate']\n",
    "    try:\n",
    "        message = data['data']['message']\n",
    "    except:\n",
    "        message = ''\n",
    "    analysis = data['data']['analysis']\n",
    "    for i in range(0,len(analysis)):\n",
    "        file = analysis[i]['file_path']\n",
    "        for j in range(0,len(analysis[i]['licenses'])):\n",
    "            license = analysis[i]['licenses'][j]\n",
    "            print(category,commit,authordate,file,license,timestamp)    \n"
   ]
  },
  {
   "cell_type": "code",
   "execution_count": 50,
   "metadata": {},
   "outputs": [
    {
     "data": {
      "text/plain": [
       "{'backend_name': 'CoLic',\n",
       " 'backend_version': '0.4.0',\n",
       " 'graal_version': '0.1.0',\n",
       " 'timestamp': 1551767855.697696,\n",
       " 'origin': 'https://github.com/clojure/clojure',\n",
       " 'uuid': 'e84c56cf829b2240a18ed553cfa8c3f76e2b477a',\n",
       " 'updated_on': 1143211771.0,\n",
       " 'category': 'code_license_scancode',\n",
       " 'tag': 'https://github.com/clojure/clojure',\n",
       " 'data': {'commit': 'e54a1ff1ac0d02560e80aad460e77ac353efad49',\n",
       "  'Author': 'Rich Hickey <richhickey@gmail.com>',\n",
       "  'AuthorDate': 'Fri Mar 24 14:49:31 2006 +0000',\n",
       "  'Commit': 'Rich Hickey <richhickey@gmail.com>',\n",
       "  'CommitDate': 'Fri Mar 24 14:49:31 2006 +0000',\n",
       "  'message': 'created IDEA project',\n",
       "  'analysis': [{'licenses': [{'key': 'cpl-1.0',\n",
       "      'score': 100.0,\n",
       "      'name': 'Common Public License 1.0',\n",
       "      'short_name': 'CPL 1.0',\n",
       "      'category': 'Copyleft Limited',\n",
       "      'is_exception': False,\n",
       "      'owner': 'IBM',\n",
       "      'homepage_url': 'http://www.eclipse.org/legal/cpl-v10.html',\n",
       "      'text_url': 'http://www.eclipse.org/legal/cpl-v10.html',\n",
       "      'reference_url': 'https://enterprise.dejacode.com/urn/urn:dje:license:cpl-1.0',\n",
       "      'spdx_license_key': 'CPL-1.0',\n",
       "      'spdx_url': 'https://spdx.org/licenses/CPL-1.0',\n",
       "      'start_line': 1,\n",
       "      'end_line': 94,\n",
       "      'matched_rule': {'identifier': 'cpl-1.0.SPDX.RULE',\n",
       "       'license_expression': 'cpl-1.0',\n",
       "       'licenses': ['cpl-1.0'],\n",
       "       'is_license_text': True,\n",
       "       'is_license_notice': False,\n",
       "       'is_license_reference': False,\n",
       "       'is_license_tag': False}}],\n",
       "    'file_path': 'CPL.TXT'},\n",
       "   {'licenses': [], 'file_path': 'clojure.iml'}],\n",
       "  'analyzer': 'scancode'}}"
      ]
     },
     "execution_count": 50,
     "metadata": {},
     "output_type": "execute_result"
    }
   ],
   "source": [
    "data"
   ]
  },
  {
   "cell_type": "code",
   "execution_count": 38,
   "metadata": {},
   "outputs": [
    {
     "name": "stdout",
     "output_type": "stream",
     "text": [
      "CPL.TXT CPL-1.0\n",
      "clojure.iml No_license_found\n"
     ]
    }
   ],
   "source": [
    "timestamp = data['timestamp']\n",
    "category = data['category']\n",
    "commit = data['data']['commit']\n",
    "authordate = data['data']['AuthorDate']\n",
    "message = data['data']['message']\n",
    "analysis = data['data']['analysis']\n",
    "for i in range(0,len(analysis)):\n",
    "    file = analysis[i]['file_path']\n",
    "    for j in range(0,len(analysis[i]['licenses'])):\n",
    "        license = analysis[i]['licenses'][j]\n",
    "        print(file,license)    \n"
   ]
  },
  {
   "cell_type": "code",
   "execution_count": 30,
   "metadata": {},
   "outputs": [
    {
     "data": {
      "text/plain": [
       "{'backend_name': 'CoLic',\n",
       " 'backend_version': '0.4.0',\n",
       " 'graal_version': '0.1.0',\n",
       " 'timestamp': 1551264211.775327,\n",
       " 'origin': 'https://github.com/clojure/clojure',\n",
       " 'uuid': 'e84c56cf829b2240a18ed553cfa8c3f76e2b477a',\n",
       " 'updated_on': 1143211771.0,\n",
       " 'category': 'code_license_nomos',\n",
       " 'tag': 'https://github.com/clojure/clojure',\n",
       " 'data': {'commit': 'e54a1ff1ac0d02560e80aad460e77ac353efad49',\n",
       "  'Author': 'Rich Hickey <richhickey@gmail.com>',\n",
       "  'AuthorDate': 'Fri Mar 24 14:49:31 2006 +0000',\n",
       "  'Commit': 'Rich Hickey <richhickey@gmail.com>',\n",
       "  'CommitDate': 'Fri Mar 24 14:49:31 2006 +0000',\n",
       "  'message': 'created IDEA project',\n",
       "  'analysis': [{'licenses': ['CPL-1.0'], 'file_path': 'CPL.TXT'},\n",
       "   {'licenses': ['No_license_found'], 'file_path': 'clojure.iml'}],\n",
       "  'analyzer': 'nomos'}}"
      ]
     },
     "execution_count": 30,
     "metadata": {},
     "output_type": "execute_result"
    }
   ],
   "source": [
    "data"
   ]
  },
  {
   "cell_type": "code",
   "execution_count": 37,
   "metadata": {},
   "outputs": [
    {
     "name": "stdout",
     "output_type": "stream",
     "text": [
      "branch-clojure-1.9.0/api-index.html No_license_found\n",
      "branch-clojure-1.9.0/clojure.core-api.html No_license_found\n",
      "branch-clojure-1.9.0/clojure.data-api.html No_license_found\n",
      "branch-clojure-1.9.0/clojure.edn-api.html No_license_found\n",
      "branch-clojure-1.9.0/clojure.inspector-api.html No_license_found\n",
      "branch-clojure-1.9.0/clojure.instant-api.html No_license_found\n",
      "branch-clojure-1.9.0/clojure.java.browse-api.html No_license_found\n",
      "branch-clojure-1.9.0/clojure.java.io-api.html No_license_found\n",
      "branch-clojure-1.9.0/clojure.java.javadoc-api.html No_license_found\n",
      "branch-clojure-1.9.0/clojure.java.shell-api.html No_license_found\n",
      "branch-clojure-1.9.0/clojure.main-api.html No_license_found\n",
      "branch-clojure-1.9.0/clojure.pprint-api.html No_license_found\n",
      "branch-clojure-1.9.0/clojure.reflect-api.html No_license_found\n",
      "branch-clojure-1.9.0/clojure.repl-api.html No_license_found\n",
      "branch-clojure-1.9.0/clojure.set-api.html No_license_found\n",
      "branch-clojure-1.9.0/clojure.stacktrace-api.html No_license_found\n",
      "branch-clojure-1.9.0/clojure.string-api.html No_license_found\n",
      "branch-clojure-1.9.0/clojure.template-api.html No_license_found\n",
      "branch-clojure-1.9.0/clojure.test-api.html No_license_found\n",
      "branch-clojure-1.9.0/clojure.walk-api.html No_license_found\n",
      "branch-clojure-1.9.0/clojure.xml-api.html No_license_found\n",
      "branch-clojure-1.9.0/clojure.zip-api.html No_license_found\n",
      "branch-clojure-1.9.0/index.html No_license_found\n",
      "clojure.datafy-api.html No_license_found\n",
      "index-v1.11.clj No_license_found\n"
     ]
    }
   ],
   "source": []
  },
  {
   "cell_type": "code",
   "execution_count": null,
   "metadata": {},
   "outputs": [],
   "source": [
    "data['data']['commit']\n",
    "data['data']['Author']\n",
    "data['data']['AuthorDate']\n",
    "data['data']['message']\n",
    "data['data']['commit']\n",
    "data['data']['commit']\n",
    "data['data']['commit']"
   ]
  },
  {
   "cell_type": "code",
   "execution_count": 22,
   "metadata": {},
   "outputs": [
    {
     "data": {
      "text/plain": [
       "{'commit': '9ba8b544e9ab18205c653dc103b8671662c1e50c',\n",
       " 'Author': 'clojure-build <build@clojure.com>',\n",
       " 'AuthorDate': 'Mon Dec 17 14:12:32 2018 -0600',\n",
       " 'Commit': 'clojure-build <build@clojure.com>',\n",
       " 'CommitDate': 'Mon Dec 17 14:12:32 2018 -0600',\n",
       " 'message': 'add 1.9 branch and 1.11 index',\n",
       " 'analysis': [{'licenses': ['No_license_found'],\n",
       "   'file_path': 'branch-clojure-1.9.0/api-index.html'},\n",
       "  {'licenses': ['No_license_found'],\n",
       "   'file_path': 'branch-clojure-1.9.0/clojure.core-api.html'},\n",
       "  {'licenses': ['No_license_found'],\n",
       "   'file_path': 'branch-clojure-1.9.0/clojure.data-api.html'},\n",
       "  {'licenses': ['No_license_found'],\n",
       "   'file_path': 'branch-clojure-1.9.0/clojure.edn-api.html'},\n",
       "  {'licenses': ['No_license_found'],\n",
       "   'file_path': 'branch-clojure-1.9.0/clojure.inspector-api.html'},\n",
       "  {'licenses': ['No_license_found'],\n",
       "   'file_path': 'branch-clojure-1.9.0/clojure.instant-api.html'},\n",
       "  {'licenses': ['No_license_found'],\n",
       "   'file_path': 'branch-clojure-1.9.0/clojure.java.browse-api.html'},\n",
       "  {'licenses': ['No_license_found'],\n",
       "   'file_path': 'branch-clojure-1.9.0/clojure.java.io-api.html'},\n",
       "  {'licenses': ['No_license_found'],\n",
       "   'file_path': 'branch-clojure-1.9.0/clojure.java.javadoc-api.html'},\n",
       "  {'licenses': ['No_license_found'],\n",
       "   'file_path': 'branch-clojure-1.9.0/clojure.java.shell-api.html'},\n",
       "  {'licenses': ['No_license_found'],\n",
       "   'file_path': 'branch-clojure-1.9.0/clojure.main-api.html'},\n",
       "  {'licenses': ['No_license_found'],\n",
       "   'file_path': 'branch-clojure-1.9.0/clojure.pprint-api.html'},\n",
       "  {'licenses': ['No_license_found'],\n",
       "   'file_path': 'branch-clojure-1.9.0/clojure.reflect-api.html'},\n",
       "  {'licenses': ['No_license_found'],\n",
       "   'file_path': 'branch-clojure-1.9.0/clojure.repl-api.html'},\n",
       "  {'licenses': ['No_license_found'],\n",
       "   'file_path': 'branch-clojure-1.9.0/clojure.set-api.html'},\n",
       "  {'licenses': ['No_license_found'],\n",
       "   'file_path': 'branch-clojure-1.9.0/clojure.stacktrace-api.html'},\n",
       "  {'licenses': ['No_license_found'],\n",
       "   'file_path': 'branch-clojure-1.9.0/clojure.string-api.html'},\n",
       "  {'licenses': ['No_license_found'],\n",
       "   'file_path': 'branch-clojure-1.9.0/clojure.template-api.html'},\n",
       "  {'licenses': ['No_license_found'],\n",
       "   'file_path': 'branch-clojure-1.9.0/clojure.test-api.html'},\n",
       "  {'licenses': ['No_license_found'],\n",
       "   'file_path': 'branch-clojure-1.9.0/clojure.walk-api.html'},\n",
       "  {'licenses': ['No_license_found'],\n",
       "   'file_path': 'branch-clojure-1.9.0/clojure.xml-api.html'},\n",
       "  {'licenses': ['No_license_found'],\n",
       "   'file_path': 'branch-clojure-1.9.0/clojure.zip-api.html'},\n",
       "  {'licenses': ['No_license_found'],\n",
       "   'file_path': 'branch-clojure-1.9.0/index.html'},\n",
       "  {'licenses': ['No_license_found'], 'file_path': 'clojure.datafy-api.html'},\n",
       "  {'licenses': ['No_license_found'], 'file_path': 'index-v1.11.clj'}],\n",
       " 'analyzer': 'nomos'}"
      ]
     },
     "execution_count": 22,
     "metadata": {},
     "output_type": "execute_result"
    }
   ],
   "source": [
    "data['data']"
   ]
  },
  {
   "cell_type": "code",
   "execution_count": 20,
   "metadata": {},
   "outputs": [
    {
     "data": {
      "text/plain": [
       "'9ba8b544e9ab18205c653dc103b8671662c1e50c'"
      ]
     },
     "execution_count": 20,
     "metadata": {},
     "output_type": "execute_result"
    }
   ],
   "source": [
    "data['data']['commit']"
   ]
  },
  {
   "cell_type": "code",
   "execution_count": null,
   "metadata": {},
   "outputs": [],
   "source": []
  }
 ],
 "metadata": {
  "kernelspec": {
   "display_name": "Python 3",
   "language": "python",
   "name": "python3"
  },
  "language_info": {
   "codemirror_mode": {
    "name": "ipython",
    "version": 3
   },
   "file_extension": ".py",
   "mimetype": "text/x-python",
   "name": "python",
   "nbconvert_exporter": "python",
   "pygments_lexer": "ipython3",
   "version": "3.6.7"
  }
 },
 "nbformat": 4,
 "nbformat_minor": 2
}
