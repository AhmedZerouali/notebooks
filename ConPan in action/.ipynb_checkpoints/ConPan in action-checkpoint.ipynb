{
 "cells": [
  {
   "cell_type": "code",
   "execution_count": 1,
   "metadata": {},
   "outputs": [
    {
     "name": "stderr",
     "output_type": "stream",
     "text": [
      "/usr/local/lib/python3.6/dist-packages/psycopg2/__init__.py:144: UserWarning: The psycopg2 wheel package will be renamed from release 2.8; in order to keep installing from binary please use \"pip install psycopg2-binary\" instead. For details see: <http://initd.org/psycopg/docs/install.html#binary-install-from-pypi>.\n",
      "  \"\"\")\n"
     ]
    }
   ],
   "source": [
    "#! /usr/bin/env python3\n",
    "from conpan.conpan import ConPan"
   ]
  },
  {
   "cell_type": "code",
   "execution_count": 2,
   "metadata": {},
   "outputs": [],
   "source": [
    "# Parameters\n",
    "kind = 'debian'\n",
    "image = 'google/mysql'\n",
    "dir_data = '/home/neglectos/ConPan/data/debian/'"
   ]
  },
  {
   "cell_type": "code",
   "execution_count": 3,
   "metadata": {},
   "outputs": [],
   "source": [
    "cp = ConPan(packages=kind, image=image, dir_data=dir_data) "
   ]
  },
  {
   "cell_type": "code",
   "execution_count": 4,
   "metadata": {},
   "outputs": [
    {
     "name": "stdout",
     "output_type": "stream",
     "text": [
      "Connecting to DockerHub... Done\n",
      "Pulling the Docker image... Done\n",
      "Extracting installed packages... Done\n",
      "Tracking installed packages... Done\n",
      "Identifying vulnerabilities... Done\n",
      "Identifying other kind of bugs... Done\n",
      "\n"
     ]
    }
   ],
   "source": [
    "(general_info, installed_packages, tracked_packages, vulnerabilities, bugs) = cp.analyze()"
   ]
  },
  {
   "cell_type": "code",
   "execution_count": 5,
   "metadata": {},
   "outputs": [
    {
     "data": {
      "text/plain": [
       "{'description': 'MySQL server for Google Compute Engine',\n",
       " 'star_count': '18',\n",
       " 'pull_count': '46923',\n",
       " 'full_size': '96687899',\n",
       " 'last_updated': '2015-11-13T01:19:18.235940Z'}"
      ]
     },
     "execution_count": 5,
     "metadata": {},
     "output_type": "execute_result"
    }
   ],
   "source": [
    "general_info"
   ]
  },
  {
   "cell_type": "code",
   "execution_count": 13,
   "metadata": {},
   "outputs": [
    {
     "data": {
      "text/html": [
       "<div>\n",
       "<style scoped>\n",
       "    .dataframe tbody tr th:only-of-type {\n",
       "        vertical-align: middle;\n",
       "    }\n",
       "\n",
       "    .dataframe tbody tr th {\n",
       "        vertical-align: top;\n",
       "    }\n",
       "\n",
       "    .dataframe thead th {\n",
       "        text-align: right;\n",
       "    }\n",
       "</style>\n",
       "<table border=\"1\" class=\"dataframe\">\n",
       "  <thead>\n",
       "    <tr style=\"text-align: right;\">\n",
       "      <th></th>\n",
       "      <th>package</th>\n",
       "      <th>version</th>\n",
       "      <th>release_number</th>\n",
       "      <th>debian</th>\n",
       "      <th>release_snapshot</th>\n",
       "      <th>date</th>\n",
       "      <th>source</th>\n",
       "      <th>source_version</th>\n",
       "      <th>outdate</th>\n",
       "    </tr>\n",
       "  </thead>\n",
       "  <tbody>\n",
       "    <tr>\n",
       "      <th>0</th>\n",
       "      <td>adduser</td>\n",
       "      <td>3.113+nmu3</td>\n",
       "      <td>7.3</td>\n",
       "      <td>wheezy</td>\n",
       "      <td>jessie</td>\n",
       "      <td>20130506</td>\n",
       "      <td>adduser</td>\n",
       "      <td>3.113+nmu3</td>\n",
       "      <td>0.0</td>\n",
       "    </tr>\n",
       "    <tr>\n",
       "      <th>1</th>\n",
       "      <td>base-passwd</td>\n",
       "      <td>3.5.26</td>\n",
       "      <td>7.3</td>\n",
       "      <td>wheezy</td>\n",
       "      <td>jessie</td>\n",
       "      <td>20130506</td>\n",
       "      <td>base-passwd</td>\n",
       "      <td>3.5.26</td>\n",
       "      <td>5.0</td>\n",
       "    </tr>\n",
       "  </tbody>\n",
       "</table>\n",
       "</div>"
      ],
      "text/plain": [
       "       package     version release_number  debian release_snapshot      date  \\\n",
       "0      adduser  3.113+nmu3            7.3  wheezy           jessie  20130506   \n",
       "1  base-passwd      3.5.26            7.3  wheezy           jessie  20130506   \n",
       "\n",
       "        source source_version  outdate  \n",
       "0      adduser     3.113+nmu3      0.0  \n",
       "1  base-passwd         3.5.26      5.0  "
      ]
     },
     "execution_count": 13,
     "metadata": {},
     "output_type": "execute_result"
    }
   ],
   "source": [
    "tracked_packages.head(2)"
   ]
  },
  {
   "cell_type": "code",
   "execution_count": 11,
   "metadata": {},
   "outputs": [
    {
     "data": {
      "text/html": [
       "<div>\n",
       "<style scoped>\n",
       "    .dataframe tbody tr th:only-of-type {\n",
       "        vertical-align: middle;\n",
       "    }\n",
       "\n",
       "    .dataframe tbody tr th {\n",
       "        vertical-align: top;\n",
       "    }\n",
       "\n",
       "    .dataframe thead th {\n",
       "        text-align: right;\n",
       "    }\n",
       "</style>\n",
       "<table border=\"1\" class=\"dataframe\">\n",
       "  <thead>\n",
       "    <tr style=\"text-align: right;\">\n",
       "      <th></th>\n",
       "      <th>source</th>\n",
       "      <th>source_version</th>\n",
       "      <th>package</th>\n",
       "      <th>version</th>\n",
       "      <th>release_number</th>\n",
       "      <th>debian</th>\n",
       "      <th>release_snapshot</th>\n",
       "      <th>date</th>\n",
       "      <th>outdate</th>\n",
       "      <th>urgency</th>\n",
       "      <th>status</th>\n",
       "      <th>fixed_version</th>\n",
       "      <th>debianbug</th>\n",
       "      <th>release</th>\n",
       "      <th>cve</th>\n",
       "    </tr>\n",
       "  </thead>\n",
       "  <tbody>\n",
       "    <tr>\n",
       "      <th>0</th>\n",
       "      <td>bzip2</td>\n",
       "      <td>1.0.6-4</td>\n",
       "      <td>libbz2-1.0</td>\n",
       "      <td>1.0.6-4</td>\n",
       "      <td>7.3</td>\n",
       "      <td>wheezy</td>\n",
       "      <td>jessie</td>\n",
       "      <td>20130506</td>\n",
       "      <td>5.0</td>\n",
       "      <td>low</td>\n",
       "      <td>open</td>\n",
       "      <td>undefined</td>\n",
       "      <td>827744</td>\n",
       "      <td>jessie</td>\n",
       "      <td>CVE-2016-3189</td>\n",
       "    </tr>\n",
       "    <tr>\n",
       "      <th>1</th>\n",
       "      <td>coreutils</td>\n",
       "      <td>8.13-3.5</td>\n",
       "      <td>coreutils</td>\n",
       "      <td>8.13-3.5</td>\n",
       "      <td>7.3</td>\n",
       "      <td>wheezy</td>\n",
       "      <td>jessie</td>\n",
       "      <td>20130506</td>\n",
       "      <td>6.0</td>\n",
       "      <td>low**</td>\n",
       "      <td>open</td>\n",
       "      <td>undefined</td>\n",
       "      <td>816320</td>\n",
       "      <td>jessie</td>\n",
       "      <td>CVE-2016-2781</td>\n",
       "    </tr>\n",
       "  </tbody>\n",
       "</table>\n",
       "</div>"
      ],
      "text/plain": [
       "      source source_version     package   version release_number  debian  \\\n",
       "0      bzip2        1.0.6-4  libbz2-1.0   1.0.6-4            7.3  wheezy   \n",
       "1  coreutils       8.13-3.5   coreutils  8.13-3.5            7.3  wheezy   \n",
       "\n",
       "  release_snapshot      date  outdate urgency status fixed_version debianbug  \\\n",
       "0           jessie  20130506      5.0     low   open     undefined    827744   \n",
       "1           jessie  20130506      6.0   low**   open     undefined    816320   \n",
       "\n",
       "  release            cve  \n",
       "0  jessie  CVE-2016-3189  \n",
       "1  jessie  CVE-2016-2781  "
      ]
     },
     "execution_count": 11,
     "metadata": {},
     "output_type": "execute_result"
    }
   ],
   "source": [
    "vulnerabilities.head(2)"
   ]
  },
  {
   "cell_type": "code",
   "execution_count": 12,
   "metadata": {},
   "outputs": [
    {
     "data": {
      "text/html": [
       "<div>\n",
       "<style scoped>\n",
       "    .dataframe tbody tr th:only-of-type {\n",
       "        vertical-align: middle;\n",
       "    }\n",
       "\n",
       "    .dataframe tbody tr th {\n",
       "        vertical-align: top;\n",
       "    }\n",
       "\n",
       "    .dataframe thead th {\n",
       "        text-align: right;\n",
       "    }\n",
       "</style>\n",
       "<table border=\"1\" class=\"dataframe\">\n",
       "  <thead>\n",
       "    <tr style=\"text-align: right;\">\n",
       "      <th></th>\n",
       "      <th>debianbug</th>\n",
       "      <th>source</th>\n",
       "      <th>found_in</th>\n",
       "      <th>fixed_in</th>\n",
       "      <th>type</th>\n",
       "      <th>status</th>\n",
       "      <th>severity</th>\n",
       "      <th>arrival</th>\n",
       "      <th>last_modified</th>\n",
       "      <th>source_version</th>\n",
       "      <th>release_snapshot</th>\n",
       "      <th>date</th>\n",
       "    </tr>\n",
       "  </thead>\n",
       "  <tbody>\n",
       "    <tr>\n",
       "      <th>0</th>\n",
       "      <td>100385</td>\n",
       "      <td>debconf</td>\n",
       "      <td>0.9.62</td>\n",
       "      <td>None</td>\n",
       "      <td>normal</td>\n",
       "      <td>pending</td>\n",
       "      <td>wishlist</td>\n",
       "      <td>2001-06-10 12:33:02</td>\n",
       "      <td>2001-06-10 12:53:07</td>\n",
       "      <td>1.5.49</td>\n",
       "      <td>jessie</td>\n",
       "      <td>20130506</td>\n",
       "    </tr>\n",
       "    <tr>\n",
       "      <th>1</th>\n",
       "      <td>10076</td>\n",
       "      <td>cron</td>\n",
       "      <td>3.0pl1-38</td>\n",
       "      <td>None</td>\n",
       "      <td>archived</td>\n",
       "      <td>pending</td>\n",
       "      <td>normal</td>\n",
       "      <td>1997-05-23 20:18:09</td>\n",
       "      <td>1997-05-23 20:18:09</td>\n",
       "      <td>3.0pl1-124</td>\n",
       "      <td>jessie</td>\n",
       "      <td>20130506</td>\n",
       "    </tr>\n",
       "  </tbody>\n",
       "</table>\n",
       "</div>"
      ],
      "text/plain": [
       "  debianbug   source   found_in fixed_in      type   status  severity  \\\n",
       "0    100385  debconf     0.9.62     None    normal  pending  wishlist   \n",
       "1     10076     cron  3.0pl1-38     None  archived  pending    normal   \n",
       "\n",
       "               arrival        last_modified source_version release_snapshot  \\\n",
       "0  2001-06-10 12:33:02  2001-06-10 12:53:07         1.5.49           jessie   \n",
       "1  1997-05-23 20:18:09  1997-05-23 20:18:09     3.0pl1-124           jessie   \n",
       "\n",
       "       date  \n",
       "0  20130506  \n",
       "1  20130506  "
      ]
     },
     "execution_count": 12,
     "metadata": {},
     "output_type": "execute_result"
    }
   ],
   "source": [
    "bugs.head(2)"
   ]
  },
  {
   "cell_type": "code",
   "execution_count": 14,
   "metadata": {},
   "outputs": [],
   "source": [
    "tracked_packages['isOutdate'] = tracked_packages['outdate'].apply(lambda x: 'Up to date' if x==0 else 'Out of date')"
   ]
  },
  {
   "cell_type": "code",
   "execution_count": 24,
   "metadata": {},
   "outputs": [
    {
     "data": {
      "image/png": "[encoded data removed]",
      "text/plain": [
       "<Figure size 360x360 with 1 Axes>"
      ]
     },
     "metadata": {},
     "output_type": "display_data"
    }
   ],
   "source": [
    "ax = (tracked_packages\n",
    "      .groupby('isOutdate')\n",
    "      .count()\n",
    "      .plot(kind='pie',\n",
    "            autopct='%1.1f%%',\n",
    "            y='package',\n",
    "            title='Installed Packages',\n",
    "            fontsize=17,\n",
    "            legend=None)#, explode=explode)\n",
    "      )\n",
    "\n",
    "ax.set_ylabel('')\n",
    "ax.tick_params(labelsize=30, width=4)\n",
    "ax.figure.set_size_inches(5,5)\n",
    "ax.figure.savefig('../../../installed_packages.pdf', bbox_inches='tight', facecolor='white')"
   ]
  },
  {
   "cell_type": "code",
   "execution_count": null,
   "metadata": {},
   "outputs": [],
   "source": []
  }
 ],
 "metadata": {
  "kernelspec": {
   "display_name": "Python 3",
   "language": "python",
   "name": "python3"
  },
  "language_info": {
   "codemirror_mode": {
    "name": "ipython",
    "version": 3
   },
   "file_extension": ".py",
   "mimetype": "text/x-python",
   "name": "python",
   "nbconvert_exporter": "python",
   "pygments_lexer": "ipython3",
   "version": "3.6.7"
  }
 },
 "nbformat": 4,
 "nbformat_minor": 2
}
