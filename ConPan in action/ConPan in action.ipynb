{
 "cells": [
  {
   "cell_type": "code",
   "execution_count": 1,
   "metadata": {},
   "outputs": [],
   "source": [
    "#! /usr/bin/env python3\n",
    "from conpan.conpan import ConPan"
   ]
  },
  {
   "cell_type": "code",
   "execution_count": 2,
   "metadata": {},
   "outputs": [],
   "source": [
    "# Parameters\n",
    "kind = 'debian'\n",
    "image = 'redmine:3.2.2'\n",
    "image = 'google/mysql'\n",
    "dir_data = '/home/neglectos/Desktop/ConPan/data/debian/'"
   ]
  },
  {
   "cell_type": "code",
   "execution_count": 3,
   "metadata": {},
   "outputs": [],
   "source": [
    "cp = ConPan(packages=kind, image=image, dir_data=dir_data) "
   ]
  },
  {
   "cell_type": "code",
   "execution_count": 4,
   "metadata": {},
   "outputs": [],
   "source": [
    "cp.download()"
   ]
  },
  {
   "cell_type": "code",
   "execution_count": 6,
   "metadata": {},
   "outputs": [
    {
     "name": "stdout",
     "output_type": "stream",
     "text": [
      "Connecting to DockerHub... Done\n",
      "Pulling the Docker image... Done\n",
      "Extracting installed packages... Done\n",
      "Tracking installed packages... Done\n",
      "Identifying vulnerabilities... Done\n",
      "Identifying other kind of bugs... Done\n",
      "\n"
     ]
    }
   ],
   "source": [
    "(general_info, installed_packages, tracked_packages, vulnerabilities, bugs) = cp.analyze()"
   ]
  },
  {
   "cell_type": "code",
   "execution_count": 7,
   "metadata": {},
   "outputs": [
    {
     "data": {
      "text/plain": [
       "{'description': 'MySQL server for Google Compute Engine',\n",
       " 'star_count': '18',\n",
       " 'pull_count': '47070',\n",
       " 'full_size': '96687899',\n",
       " 'last_updated': '2015-11-13T01:19:18.235940Z'}"
      ]
     },
     "execution_count": 7,
     "metadata": {},
     "output_type": "execute_result"
    }
   ],
   "source": [
    "general_info"
   ]
  },
  {
   "cell_type": "code",
   "execution_count": 8,
   "metadata": {},
   "outputs": [
    {
     "name": "stdout",
     "output_type": "stream",
     "text": [
      "144 81 153 2741\n"
     ]
    }
   ],
   "source": [
    "print(\n",
    "len(installed_packages),\n",
    "len(tracked_packages),\n",
    "len(vulnerabilities),\n",
    "len(bugs))"
   ]
  },
  {
   "cell_type": "code",
   "execution_count": 9,
   "metadata": {},
   "outputs": [
    {
     "data": {
      "text/html": [
       "<div>\n",
       "<style scoped>\n",
       "    .dataframe tbody tr th:only-of-type {\n",
       "        vertical-align: middle;\n",
       "    }\n",
       "\n",
       "    .dataframe tbody tr th {\n",
       "        vertical-align: top;\n",
       "    }\n",
       "\n",
       "    .dataframe thead th {\n",
       "        text-align: right;\n",
       "    }\n",
       "</style>\n",
       "<table border=\"1\" class=\"dataframe\">\n",
       "  <thead>\n",
       "    <tr style=\"text-align: right;\">\n",
       "      <th></th>\n",
       "      <th>package</th>\n",
       "      <th>version</th>\n",
       "      <th>debian_release</th>\n",
       "      <th>image_debian</th>\n",
       "      <th>first_seen</th>\n",
       "      <th>package_date</th>\n",
       "      <th>source</th>\n",
       "      <th>source_version</th>\n",
       "      <th>missing_updates</th>\n",
       "    </tr>\n",
       "  </thead>\n",
       "  <tbody>\n",
       "    <tr>\n",
       "      <th>0</th>\n",
       "      <td>adduser</td>\n",
       "      <td>3.113+nmu3</td>\n",
       "      <td>7.3</td>\n",
       "      <td>wheezy</td>\n",
       "      <td>jessie</td>\n",
       "      <td>20130506</td>\n",
       "      <td>adduser</td>\n",
       "      <td>3.113+nmu3</td>\n",
       "      <td>0.0</td>\n",
       "    </tr>\n",
       "    <tr>\n",
       "      <th>1</th>\n",
       "      <td>base-passwd</td>\n",
       "      <td>3.5.26</td>\n",
       "      <td>7.3</td>\n",
       "      <td>wheezy</td>\n",
       "      <td>jessie</td>\n",
       "      <td>20130506</td>\n",
       "      <td>base-passwd</td>\n",
       "      <td>3.5.26</td>\n",
       "      <td>5.0</td>\n",
       "    </tr>\n",
       "  </tbody>\n",
       "</table>\n",
       "</div>"
      ],
      "text/plain": [
       "       package     version debian_release image_debian first_seen  \\\n",
       "0      adduser  3.113+nmu3            7.3       wheezy     jessie   \n",
       "1  base-passwd      3.5.26            7.3       wheezy     jessie   \n",
       "\n",
       "  package_date       source source_version  missing_updates  \n",
       "0     20130506      adduser     3.113+nmu3              0.0  \n",
       "1     20130506  base-passwd         3.5.26              5.0  "
      ]
     },
     "execution_count": 9,
     "metadata": {},
     "output_type": "execute_result"
    }
   ],
   "source": [
    "tracked_packages.head(2)"
   ]
  },
  {
   "cell_type": "code",
   "execution_count": 10,
   "metadata": {},
   "outputs": [
    {
     "data": {
      "text/html": [
       "<div>\n",
       "<style scoped>\n",
       "    .dataframe tbody tr th:only-of-type {\n",
       "        vertical-align: middle;\n",
       "    }\n",
       "\n",
       "    .dataframe tbody tr th {\n",
       "        vertical-align: top;\n",
       "    }\n",
       "\n",
       "    .dataframe thead th {\n",
       "        text-align: right;\n",
       "    }\n",
       "</style>\n",
       "<table border=\"1\" class=\"dataframe\">\n",
       "  <thead>\n",
       "    <tr style=\"text-align: right;\">\n",
       "      <th></th>\n",
       "      <th>source</th>\n",
       "      <th>source_version</th>\n",
       "      <th>missing_updates</th>\n",
       "      <th>urgency</th>\n",
       "      <th>status</th>\n",
       "      <th>fixed_in</th>\n",
       "      <th>debianbug</th>\n",
       "      <th>cve</th>\n",
       "    </tr>\n",
       "  </thead>\n",
       "  <tbody>\n",
       "    <tr>\n",
       "      <th>0</th>\n",
       "      <td>bzip2</td>\n",
       "      <td>1.0.6-4</td>\n",
       "      <td>5.0</td>\n",
       "      <td>low</td>\n",
       "      <td>open</td>\n",
       "      <td>undefined</td>\n",
       "      <td>827744</td>\n",
       "      <td>CVE-2016-3189</td>\n",
       "    </tr>\n",
       "    <tr>\n",
       "      <th>1</th>\n",
       "      <td>coreutils</td>\n",
       "      <td>8.13-3.5</td>\n",
       "      <td>6.0</td>\n",
       "      <td>low</td>\n",
       "      <td>open</td>\n",
       "      <td>undefined</td>\n",
       "      <td>816320</td>\n",
       "      <td>CVE-2016-2781</td>\n",
       "    </tr>\n",
       "  </tbody>\n",
       "</table>\n",
       "</div>"
      ],
      "text/plain": [
       "      source source_version  missing_updates urgency status   fixed_in  \\\n",
       "0      bzip2        1.0.6-4              5.0     low   open  undefined   \n",
       "1  coreutils       8.13-3.5              6.0     low   open  undefined   \n",
       "\n",
       "  debianbug            cve  \n",
       "0    827744  CVE-2016-3189  \n",
       "1    816320  CVE-2016-2781  "
      ]
     },
     "execution_count": 10,
     "metadata": {},
     "output_type": "execute_result"
    }
   ],
   "source": [
    "vulnerabilities.head(2)"
   ]
  },
  {
   "cell_type": "code",
   "execution_count": 11,
   "metadata": {},
   "outputs": [],
   "source": [
    "tracked_packages['isOutdate'] = tracked_packages['missing_updates'].apply(lambda x: 'Up to date' if x==0 else 'Out of date')"
   ]
  },
  {
   "cell_type": "code",
   "execution_count": 12,
   "metadata": {},
   "outputs": [],
   "source": [
    "import matplotlib.pylab as pylab\n",
    "params = {'axes.titlesize':'x-large'}\n",
    "pylab.rcParams.update(params)"
   ]
  },
  {
   "cell_type": "code",
   "execution_count": 45,
   "metadata": {},
   "outputs": [
    {
     "data": {
      "image/png": "[encoded data removed]",
      "text/plain": [
       "<Figure size 360x360 with 1 Axes>"
      ]
     },
     "metadata": {},
     "output_type": "display_data"
    }
   ],
   "source": [
    "explode = (0.1,0.1)\n",
    "\n",
    "ax = (tracked_packages\n",
    "      .groupby('isOutdate')\n",
    "      .count()\n",
    "      .plot(kind='pie',\n",
    "            autopct='%1.1f%%',\n",
    "            y='package',\n",
    "            title='Installed Packages',\n",
    "            colors=['green','red'],\n",
    "            fontsize=17,\n",
    "            legend=None,explode=explode)\n",
    "      )\n",
    "\n",
    "ax.set_ylabel('')\n",
    "ax.tick_params(labelsize=30, width=4)\n",
    "ax.figure.set_size_inches(5,5)\n",
    "ax.figure.savefig('../../../thesis/Figs/docker/installed_packages.pdf', bbox_inches='tight', facecolor='white')"
   ]
  },
  {
   "cell_type": "code",
   "execution_count": 25,
   "metadata": {},
   "outputs": [],
   "source": [
    "from fpdf import FPDF\n",
    " \n",
    "pdf = FPDF(orientation='P', unit='mm', format='A4')\n",
    "pdf.add_page()\n",
    "pdf.set_font(\"Arial\", size=11)\n",
    "pdf.cell(300, 10, txt=\"Welcome to Python!\", ln=1, align=\"left\")\n",
    "pdf.cell(300, 10, txt=\"Welcome to Python!\", ln=1, align=\"left\")\n",
    "pdf.line(20, 1, 30, 10)\n",
    "pdf.set_line_width(1)\n",
    "pdf.set_draw_color(255, 0, 0)\n",
    "pdf.line(20, 20, 200, 20)\n",
    "#pdf.output(\"/home/neglectos/Desktop/simple_demo.pdf\")"
   ]
  },
  {
   "cell_type": "code",
   "execution_count": 12,
   "metadata": {},
   "outputs": [],
   "source": [
    "def change_fonts():\n",
    "    pdf = FPDF()\n",
    "    pdf.add_page()\n",
    "    font_size = 8\n",
    "    for font in pdf.core_fonts:\n",
    "        if any([letter for letter in font if letter.isupper()]):\n",
    "            # skip this font\n",
    "            continue\n",
    "        pdf.set_font(font, size=font_size)\n",
    "        txt = \"Font name: {} - {} pts\".format(font, font_size)\n",
    "        pdf.cell(0, 10, txt=txt, ln=1, align=\"C\")\n",
    "        font_size += 2\n",
    " \n",
    "    pdf.output(\"/home/neglectos/Desktop/simple_demo.pdf\") \n",
    "if __name__ == '__main__':\n",
    "    change_fonts()"
   ]
  },
  {
   "cell_type": "code",
   "execution_count": 26,
   "metadata": {},
   "outputs": [],
   "source": [
    "bugs2 = bugs.copy()"
   ]
  },
  {
   "cell_type": "code",
   "execution_count": 27,
   "metadata": {},
   "outputs": [
    {
     "data": {
      "text/plain": [
       "2741"
      ]
     },
     "execution_count": 27,
     "metadata": {},
     "output_type": "execute_result"
    }
   ],
   "source": [
    "len(bugs)"
   ]
  },
  {
   "cell_type": "code",
   "execution_count": 31,
   "metadata": {},
   "outputs": [
    {
     "data": {
      "text/plain": [
       "['wishlist', 'normal', 'minor', 'important', 'serious', 'grave']"
      ]
     },
     "execution_count": 31,
     "metadata": {},
     "output_type": "execute_result"
    }
   ],
   "source": []
  },
  {
   "cell_type": "code",
   "execution_count": 44,
   "metadata": {},
   "outputs": [
    {
     "data": {
      "image/png": "[encoded data removed]",
      "text/plain": [
       "<Figure size 360x360 with 1 Axes>"
      ]
     },
     "metadata": {},
     "output_type": "display_data"
    }
   ],
   "source": [
    "bugs2['severity'] = bugs2['severity'].apply(lambda x: 'grave' if x == \"critical\"\n",
    "                                           else x)\n",
    "order=bugs2.severity.drop_duplicates().values.tolist()\n",
    "explode = (0.1,0.1,0.1,0.1,0.1,0.1)\n",
    "\n",
    "ax = (bugs2\n",
    "      .groupby('severity')\n",
    "      .count()\n",
    "      .plot(kind='pie',\n",
    "            autopct='%1.1f%%',\n",
    "            y='source',\n",
    "            colors=['red','orange','green','purple','brown','steelblue'],\n",
    "            title='Package Bugs',\n",
    "            fontsize=17,\n",
    "            legend=None, explode=explode)\n",
    "      )\n",
    "\n",
    "ax.set_ylabel('')\n",
    "ax.tick_params(labelsize=30, width=4)\n",
    "ax.figure.set_size_inches(5,5)\n",
    "ax.figure.savefig('../../../thesis/Figs/docker/packages_bugs.pdf', bbox_inches='tight', facecolor='white')"
   ]
  },
  {
   "cell_type": "code",
   "execution_count": 38,
   "metadata": {},
   "outputs": [
    {
     "data": {
      "text/plain": [
       "212"
      ]
     },
     "execution_count": 38,
     "metadata": {},
     "output_type": "execute_result"
    }
   ],
   "source": [
    "len(vulnerabilities)"
   ]
  },
  {
   "cell_type": "code",
   "execution_count": 43,
   "metadata": {},
   "outputs": [
    {
     "data": {
      "image/png": "[encoded data removed]",
      "text/plain": [
       "<Figure size 360x360 with 1 Axes>"
      ]
     },
     "metadata": {},
     "output_type": "display_data"
    }
   ],
   "source": [
    "explode = (0.1,0.1,0.1,0.1,0.1,0.1)\n",
    "\n",
    "ax = (vulnerabilities\n",
    "      .groupby('urgency')\n",
    "      .count()\n",
    "      .plot(kind='pie',\n",
    "            autopct='%1.1f%%',\n",
    "            y='source',\n",
    "            title='Package Vulnerabilities',\n",
    "            colors=['red','orange','green','purple','yellow','steelblue'],\n",
    "            fontsize=17,\n",
    "            legend=None, explode=explode)\n",
    "      )\n",
    "\n",
    "ax.set_ylabel('')\n",
    "ax.tick_params(labelsize=30, width=4)\n",
    "ax.figure.set_size_inches(5,5)\n",
    "ax.figure.savefig('../../../thesis/Figs/docker/packages_vuls.pdf', bbox_inches='tight', facecolor='white')"
   ]
  },
  {
   "cell_type": "code",
   "execution_count": null,
   "metadata": {},
   "outputs": [],
   "source": []
  }
 ],
 "metadata": {
  "kernelspec": {
   "display_name": "Python 3",
   "language": "python",
   "name": "python3"
  },
  "language_info": {
   "codemirror_mode": {
    "name": "ipython",
    "version": 3
   },
   "file_extension": ".py",
   "mimetype": "text/x-python",
   "name": "python",
   "nbconvert_exporter": "python",
   "pygments_lexer": "ipython3",
   "version": "3.6.8"
  }
 },
 "nbformat": 4,
 "nbformat_minor": 2
}
