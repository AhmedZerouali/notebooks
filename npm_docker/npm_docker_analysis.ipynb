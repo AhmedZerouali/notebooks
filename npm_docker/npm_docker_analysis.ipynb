{
 "cells": [
  {
   "cell_type": "code",
   "execution_count": 1,
   "metadata": {},
   "outputs": [],
   "source": [
    "%matplotlib inline\n",
    "import seaborn as sns; #sns.set(style=\"ticks\", color_codes=True)\n",
    "import pandas as pd\n",
    "import matplotlib.pyplot as plt\n",
    "from matplotlib import style\n",
    "import scipy\n",
    "style.use('fast')\n",
    "from datetime import datetime\n",
    "from io import StringIO\n",
    "import re\n",
    "import numpy as np\n",
    "import os\n",
    "#from tqdm import tqdm\n",
    "import json as js\n",
    "import codecs\n",
    "import subprocess\n",
    "\n",
    "sns.set_style('ticks',{'legend.frameon':True} )\n",
    "sns.set_palette('colorblind')\n",
    "FIG_SIZE = (12, 3)\n",
    "font = {'family' : 'Times New Roman',\n",
    "        'weight' : 'bold',\n",
    "        'size'   : 22}\n",
    "plt.rc('font', **font)\n",
    "plt.rcParams['pdf.fonttype'] = 42\n",
    "plt.rcParams['ps.fonttype'] = 42\n",
    "plt.rcParams['text.usetex'] = True\n",
    "\n",
    "plt.rcParams['xtick.labelsize'] = 18\n",
    "plt.rcParams['ytick.labelsize'] = 22\n",
    "plt.rcParams['axes.labelsize']= 22\n",
    "flatui = [sns.xkcd_rgb[\"medium green\"], \"orange\", sns.xkcd_rgb[\"medium purple\"], \"#e74c3c\", \"#34495e\", \"#2ecc71\"]\n"
   ]
  },
  {
   "cell_type": "code",
   "execution_count": 2,
   "metadata": {},
   "outputs": [],
   "source": [
    "# Cliff's Delta\n",
    "from __future__ import division\n",
    " \n",
    "def cliffsDelta(lst1,lst2,\n",
    "                dull = [0.147, # small\n",
    "                        0.33,  # medium\n",
    "                        0.474 # large\n",
    "                        ][0] ): \n",
    "  \"Returns true if there are more than 'dull' differences\"\n",
    "  m, n = len(lst1), len(lst2)\n",
    "  lst2 = sorted(lst2)\n",
    "  j = more = less = 0\n",
    "  for repeats,x in runs(sorted(lst1)):\n",
    "    while j <= (n - 1) and lst2[j] <  x: \n",
    "      j += 1\n",
    "    more += j*repeats\n",
    "    while j <= (n - 1) and lst2[j] == x: \n",
    "      j += 1\n",
    "    less += (n - j)*repeats\n",
    "  d= (more - less) / (m*n)\n",
    "  f=abs(d)  > dull\n",
    "  print(\"d=\"+str(d))#+' '+str(f))\n",
    "  return abs(d)  > dull\n",
    "   \n",
    "def runs(lst):\n",
    "  \"Iterator, chunks repeated values\"\n",
    "  for j,two in enumerate(lst):\n",
    "    if j == 0:\n",
    "      one,i = two,0\n",
    "    if one!=two:\n",
    "      yield j - i,one\n",
    "      i = j\n",
    "    one=two\n",
    "  yield j - i + 1,two\n",
    "  \n",
    "def _cliffsDelta():\n",
    "  \"demo function\"\n",
    "  lst1=[1,2,3,4,5,6,7]\n",
    "  for r in [1.01,1.1,1.21, 1.5, 2]:\n",
    "    lst2=map(lambda x: x*r,lst1)\n",
    "    #return lst2\n",
    "    #print(lst2,cliffsDelta(lst1,lst2)) # should return False"
   ]
  },
  {
   "cell_type": "markdown",
   "metadata": {},
   "source": [
    "# LOADING THE USED DATAFRAMES"
   ]
  },
  {
   "cell_type": "code",
   "execution_count": 3,
   "metadata": {},
   "outputs": [
    {
     "name": "stdout",
     "output_type": "stream",
     "text": [
      "290031\n"
     ]
    },
    {
     "data": {
      "text/html": [
       "<div>\n",
       "<style scoped>\n",
       "    .dataframe tbody tr th:only-of-type {\n",
       "        vertical-align: middle;\n",
       "    }\n",
       "\n",
       "    .dataframe tbody tr th {\n",
       "        vertical-align: top;\n",
       "    }\n",
       "\n",
       "    .dataframe thead th {\n",
       "        text-align: right;\n",
       "    }\n",
       "</style>\n",
       "<table border=\"1\" class=\"dataframe\">\n",
       "  <thead>\n",
       "    <tr style=\"text-align: right;\">\n",
       "      <th></th>\n",
       "      <th>package</th>\n",
       "      <th>version</th>\n",
       "      <th>created</th>\n",
       "      <th>tag</th>\n",
       "      <th>base_os</th>\n",
       "      <th>latest</th>\n",
       "      <th>date</th>\n",
       "      <th>release_type</th>\n",
       "      <th>date_latest</th>\n",
       "      <th>version_lag</th>\n",
       "      <th>extraction_date</th>\n",
       "      <th>version_lag_today</th>\n",
       "      <th>slug</th>\n",
       "    </tr>\n",
       "  </thead>\n",
       "  <tbody>\n",
       "    <tr>\n",
       "      <th>0</th>\n",
       "      <td>1to2</td>\n",
       "      <td>1.0.0</td>\n",
       "      <td>2016-08-01</td>\n",
       "      <td>ghost:0.8</td>\n",
       "      <td>Debian</td>\n",
       "      <td>1.0.0</td>\n",
       "      <td>2016-04-19</td>\n",
       "      <td>initial</td>\n",
       "      <td>2016-04-19</td>\n",
       "      <td>0,0,0</td>\n",
       "      <td>2018-03-13</td>\n",
       "      <td>0,0,0</td>\n",
       "      <td>ghost</td>\n",
       "    </tr>\n",
       "    <tr>\n",
       "      <th>1</th>\n",
       "      <td>1to2</td>\n",
       "      <td>1.0.0</td>\n",
       "      <td>2016-09-28</td>\n",
       "      <td>ghost:0.11.0</td>\n",
       "      <td>Debian</td>\n",
       "      <td>1.0.0</td>\n",
       "      <td>2016-04-19</td>\n",
       "      <td>initial</td>\n",
       "      <td>2016-04-19</td>\n",
       "      <td>0,0,0</td>\n",
       "      <td>2018-03-13</td>\n",
       "      <td>0,0,0</td>\n",
       "      <td>ghost</td>\n",
       "    </tr>\n",
       "  </tbody>\n",
       "</table>\n",
       "</div>"
      ],
      "text/plain": [
       "  package version     created           tag base_os latest        date  \\\n",
       "0    1to2   1.0.0  2016-08-01     ghost:0.8  Debian  1.0.0  2016-04-19   \n",
       "1    1to2   1.0.0  2016-09-28  ghost:0.11.0  Debian  1.0.0  2016-04-19   \n",
       "\n",
       "  release_type date_latest version_lag extraction_date version_lag_today  \\\n",
       "0      initial  2016-04-19       0,0,0      2018-03-13             0,0,0   \n",
       "1      initial  2016-04-19       0,0,0      2018-03-13             0,0,0   \n",
       "\n",
       "    slug  \n",
       "0  ghost  \n",
       "1  ghost  "
      ]
     },
     "execution_count": 3,
     "metadata": {},
     "output_type": "execute_result"
    }
   ],
   "source": [
    "technical_lag=pd.read_csv('../../npm_docker/csv/docker_packages_timelag.csv', \n",
    "                            sep=';', dtype=object, index_col=None,  error_bad_lines=False)\n",
    "technical_lag['base_os']=technical_lag['base_os'].apply(lambda x: x.title())\n",
    "technical_lag['slug']=technical_lag.tag.apply(lambda x: x.split(':')[0])\n",
    "print(len(technical_lag))\n",
    "technical_lag.head(2)"
   ]
  },
  {
   "cell_type": "code",
   "execution_count": 4,
   "metadata": {},
   "outputs": [
    {
     "name": "stdout",
     "output_type": "stream",
     "text": [
      "40792\n"
     ]
    },
    {
     "data": {
      "text/html": [
       "<div>\n",
       "<style scoped>\n",
       "    .dataframe tbody tr th:only-of-type {\n",
       "        vertical-align: middle;\n",
       "    }\n",
       "\n",
       "    .dataframe tbody tr th {\n",
       "        vertical-align: top;\n",
       "    }\n",
       "\n",
       "    .dataframe thead th {\n",
       "        text-align: right;\n",
       "    }\n",
       "</style>\n",
       "<table border=\"1\" class=\"dataframe\">\n",
       "  <thead>\n",
       "    <tr style=\"text-align: right;\">\n",
       "      <th></th>\n",
       "      <th>package</th>\n",
       "      <th>version</th>\n",
       "      <th>versions</th>\n",
       "      <th>tag</th>\n",
       "      <th>base_os</th>\n",
       "      <th>created</th>\n",
       "      <th>id</th>\n",
       "      <th>name</th>\n",
       "      <th>published</th>\n",
       "      <th>severity</th>\n",
       "      <th>disclosed</th>\n",
       "      <th>affected</th>\n",
       "    </tr>\n",
       "  </thead>\n",
       "  <tbody>\n",
       "    <tr>\n",
       "      <th>0</th>\n",
       "      <td>atob</td>\n",
       "      <td>2.0.3</td>\n",
       "      <td>&lt;2.1.0</td>\n",
       "      <td>ghost:1.18-alpine</td>\n",
       "      <td>alpine</td>\n",
       "      <td>2017-12-09</td>\n",
       "      <td>npm:atob:20180429</td>\n",
       "      <td>Uninitialized Memory Exposure</td>\n",
       "      <td>30 Apr, 2018</td>\n",
       "      <td>medium</td>\n",
       "      <td>29 Apr, 2018</td>\n",
       "      <td>True</td>\n",
       "    </tr>\n",
       "    <tr>\n",
       "      <th>1</th>\n",
       "      <td>atob</td>\n",
       "      <td>2.0.3</td>\n",
       "      <td>&lt;2.1.0</td>\n",
       "      <td>ghost:1.18.2</td>\n",
       "      <td>debian</td>\n",
       "      <td>2017-12-05</td>\n",
       "      <td>npm:atob:20180429</td>\n",
       "      <td>Uninitialized Memory Exposure</td>\n",
       "      <td>30 Apr, 2018</td>\n",
       "      <td>medium</td>\n",
       "      <td>29 Apr, 2018</td>\n",
       "      <td>True</td>\n",
       "    </tr>\n",
       "  </tbody>\n",
       "</table>\n",
       "</div>"
      ],
      "text/plain": [
       "  package version versions                tag base_os     created  \\\n",
       "0    atob   2.0.3   <2.1.0  ghost:1.18-alpine  alpine  2017-12-09   \n",
       "1    atob   2.0.3   <2.1.0       ghost:1.18.2  debian  2017-12-05   \n",
       "\n",
       "                  id                           name     published severity  \\\n",
       "0  npm:atob:20180429  Uninitialized Memory Exposure  30 Apr, 2018   medium   \n",
       "1  npm:atob:20180429  Uninitialized Memory Exposure  30 Apr, 2018   medium   \n",
       "\n",
       "      disclosed affected  \n",
       "0  29 Apr, 2018     True  \n",
       "1  29 Apr, 2018     True  "
      ]
     },
     "execution_count": 4,
     "metadata": {},
     "output_type": "execute_result"
    }
   ],
   "source": [
    "vulnerabilities=pd.read_csv('../../npm_docker/csv/affected_packages.csv', \n",
    "                            sep=';', dtype=object, index_col=None,  error_bad_lines=False)\n",
    "print(len(vulnerabilities))\n",
    "vulnerabilities.head(2)"
   ]
  },
  {
   "cell_type": "markdown",
   "metadata": {},
   "source": [
    "# ANALYSIS"
   ]
  },
  {
   "cell_type": "markdown",
   "metadata": {},
   "source": [
    "# RQ0: How many npm packages are installed in Docker images?"
   ]
  },
  {
   "cell_type": "code",
   "execution_count": 5,
   "metadata": {},
   "outputs": [
    {
     "data": {
      "text/html": [
       "<div>\n",
       "<style scoped>\n",
       "    .dataframe tbody tr th:only-of-type {\n",
       "        vertical-align: middle;\n",
       "    }\n",
       "\n",
       "    .dataframe tbody tr th {\n",
       "        vertical-align: top;\n",
       "    }\n",
       "\n",
       "    .dataframe thead th {\n",
       "        text-align: right;\n",
       "    }\n",
       "</style>\n",
       "<table border=\"1\" class=\"dataframe\">\n",
       "  <thead>\n",
       "    <tr style=\"text-align: right;\">\n",
       "      <th></th>\n",
       "      <th></th>\n",
       "      <th>tag</th>\n",
       "    </tr>\n",
       "    <tr>\n",
       "      <th>base_os</th>\n",
       "      <th>slug</th>\n",
       "      <th></th>\n",
       "    </tr>\n",
       "  </thead>\n",
       "  <tbody>\n",
       "    <tr>\n",
       "      <th rowspan=\"2\" valign=\"top\">Alpine</th>\n",
       "      <th>ghost</th>\n",
       "      <td>35</td>\n",
       "    </tr>\n",
       "    <tr>\n",
       "      <th>node</th>\n",
       "      <td>84</td>\n",
       "    </tr>\n",
       "    <tr>\n",
       "      <th rowspan=\"3\" valign=\"top\">Debian</th>\n",
       "      <th>ghost</th>\n",
       "      <td>40</td>\n",
       "    </tr>\n",
       "    <tr>\n",
       "      <th>mongo-express</th>\n",
       "      <td>17</td>\n",
       "    </tr>\n",
       "    <tr>\n",
       "      <th>node</th>\n",
       "      <td>785</td>\n",
       "    </tr>\n",
       "  </tbody>\n",
       "</table>\n",
       "</div>"
      ],
      "text/plain": [
       "                       tag\n",
       "base_os slug              \n",
       "Alpine  ghost           35\n",
       "        node            84\n",
       "Debian  ghost           40\n",
       "        mongo-express   17\n",
       "        node           785"
      ]
     },
     "execution_count": 5,
     "metadata": {},
     "output_type": "execute_result"
    }
   ],
   "source": [
    "df_tmp=technical_lag[['tag','slug','base_os']].drop_duplicates()\n",
    "df_tmp.groupby(['base_os','slug']).count()"
   ]
  },
  {
   "cell_type": "code",
   "execution_count": 6,
   "metadata": {},
   "outputs": [
    {
     "data": {
      "text/plain": [
       "961"
      ]
     },
     "execution_count": 6,
     "metadata": {},
     "output_type": "execute_result"
    }
   ],
   "source": [
    "technical_lag['tag'].drop_duplicates().size"
   ]
  },
  {
   "cell_type": "code",
   "execution_count": 7,
   "metadata": {},
   "outputs": [
    {
     "data": {
      "text/html": [
       "<div>\n",
       "<style scoped>\n",
       "    .dataframe tbody tr th:only-of-type {\n",
       "        vertical-align: middle;\n",
       "    }\n",
       "\n",
       "    .dataframe tbody tr th {\n",
       "        vertical-align: top;\n",
       "    }\n",
       "\n",
       "    .dataframe thead th {\n",
       "        text-align: right;\n",
       "    }\n",
       "</style>\n",
       "<table border=\"1\" class=\"dataframe\">\n",
       "  <thead>\n",
       "    <tr style=\"text-align: right;\">\n",
       "      <th></th>\n",
       "      <th>tag</th>\n",
       "      <th>created</th>\n",
       "    </tr>\n",
       "    <tr>\n",
       "      <th>base_os</th>\n",
       "      <th></th>\n",
       "      <th></th>\n",
       "    </tr>\n",
       "  </thead>\n",
       "  <tbody>\n",
       "    <tr>\n",
       "      <th>Alpine</th>\n",
       "      <td>119</td>\n",
       "      <td>119</td>\n",
       "    </tr>\n",
       "    <tr>\n",
       "      <th>Debian</th>\n",
       "      <td>842</td>\n",
       "      <td>842</td>\n",
       "    </tr>\n",
       "  </tbody>\n",
       "</table>\n",
       "</div>"
      ],
      "text/plain": [
       "         tag  created\n",
       "base_os              \n",
       "Alpine   119      119\n",
       "Debian   842      842"
      ]
     },
     "execution_count": 7,
     "metadata": {},
     "output_type": "execute_result"
    }
   ],
   "source": [
    "df_tmp=technical_lag[['tag','base_os','created']].drop_duplicates()\n",
    "#df_tmp['created']=df_tmp.created.apply(lambda x: x.split('-')[0]+'-'+x.split('-')[1]+'-01')\n",
    "\n",
    "df_tmp['created']=df_tmp['created'].apply(lambda x: \n",
    "                                      x[0:4] )\n",
    "    \n",
    "df_tmp.groupby(['base_os']).count()#/9.61#reset_index()/961\n"
   ]
  },
  {
   "cell_type": "code",
   "execution_count": 8,
   "metadata": {},
   "outputs": [
    {
     "data": {
      "text/plain": [
       "<matplotlib.legend.Legend at 0x7feed47fd080>"
      ]
     },
     "execution_count": 8,
     "metadata": {},
     "output_type": "execute_result"
    },
    {
     "data": {
      "image/png": "[encoded data removed]",
      "text/plain": [
       "<Figure size 720x216 with 1 Axes>"
      ]
     },
     "metadata": {
      "needs_background": "light"
     },
     "output_type": "display_data"
    }
   ],
   "source": [
    "df_tmp=technical_lag[['tag','base_os','created']].drop_duplicates()\n",
    "#df_tmp['created']=df_tmp.created.apply(lambda x: x.split('-')[0]+'-'+x.split('-')[1]+'-01')\n",
    "\n",
    "df_tmp['created']=df_tmp['created'].apply(lambda x: \n",
    "                                      x[0:4] )\n",
    "    \n",
    "df_tmp=df_tmp.groupby(['created','base_os']).count()/9.61\n",
    "df_tmp.reset_index(inplace=True)\n",
    "ax = sns.barplot(\n",
    "    y=\"tag\", x='created', hue='base_os', data=df_tmp, \n",
    "    palette=\"muted\", linewidth=1)\n",
    "\n",
    "ax.legend('')\n",
    "for patch in ax.patches:\n",
    "    patch.set_edgecolor('black')\n",
    "ax.set_xlabel(\"Image last update year\")\n",
    "ax.set_ylabel(\"\\% of Docker images\")\n",
    "ax.figure.set_size_inches(10,3)\n",
    "\n",
    "ax.legend(loc='upper right', bbox_to_anchor=(0.3, 1), ncol=1, fontsize=20, fancybox=True, shadow=True)\n",
    "#ax.figure.savefig('../../../papers/cloudtech18/figures/last_update.pdf', bbox_inches='tight', facecolor='white')\n"
   ]
  },
  {
   "cell_type": "code",
   "execution_count": 9,
   "metadata": {},
   "outputs": [
    {
     "data": {
      "text/plain": [
       "<matplotlib.legend.Legend at 0x7fef15194a90>"
      ]
     },
     "execution_count": 9,
     "metadata": {},
     "output_type": "execute_result"
    },
    {
     "data": {
      "image/png": "[encoded data removed]",
      "text/plain": [
       "<Figure size 720x216 with 1 Axes>"
      ]
     },
     "metadata": {
      "needs_background": "light"
     },
     "output_type": "display_data"
    }
   ],
   "source": [
    "df_tmp=technical_lag[['tag','slug','created','package']].drop_duplicates()\n",
    "df_tmp['created']=df_tmp['created'].apply(lambda x: x.split('-')[0] )\n",
    "df_tmp=df_tmp.groupby(['tag','created','slug']).count().reset_index()\n",
    "df_tmp1=df_tmp.groupby(['tag','created','slug']).count().reset_index()\n",
    "ax = sns.boxplot(x=\"created\", y=\"package\", data=df_tmp, hue='slug', palette=\"muted\", linewidth=1)\n",
    "ax.figure.set_size_inches(10,3)\n",
    "ax.set_xlabel('Image last update Year')\n",
    "ax.set_ylabel('\\# of npm \\n packages')\n",
    "for patch in ax.patches:\n",
    "    patch.set_edgecolor('black')\n",
    "ax.legend(loc='upper right', bbox_to_anchor=(0.3, 1), ncol=1, fontsize=20, fancybox=True, shadow=True)"
   ]
  },
  {
   "cell_type": "code",
   "execution_count": 10,
   "metadata": {},
   "outputs": [
    {
     "data": {
      "text/plain": [
       "200.0"
      ]
     },
     "execution_count": 10,
     "metadata": {},
     "output_type": "execute_result"
    }
   ],
   "source": [
    "df_tmp=technical_lag[['tag','slug','created','package']].drop_duplicates()\n",
    "df_tmp['created']=df_tmp['created'].apply(lambda x: x.split('-')[0] )\n",
    "df_tmp=df_tmp.groupby(['tag','created','slug']).count().reset_index()\n",
    "df_tmp.query('slug==\"node\"').package.median()"
   ]
  },
  {
   "cell_type": "code",
   "execution_count": 11,
   "metadata": {},
   "outputs": [
    {
     "data": {
      "text/plain": [
       "959.0"
      ]
     },
     "execution_count": 11,
     "metadata": {},
     "output_type": "execute_result"
    }
   ],
   "source": [
    "df_tmp.query('slug==\"ghost\"').package.median()"
   ]
  },
  {
   "cell_type": "code",
   "execution_count": 12,
   "metadata": {},
   "outputs": [
    {
     "data": {
      "text/plain": [
       "419.0"
      ]
     },
     "execution_count": 12,
     "metadata": {},
     "output_type": "execute_result"
    }
   ],
   "source": [
    "df_tmp.query('slug==\"mongo-express\"').package.median()"
   ]
  },
  {
   "cell_type": "code",
   "execution_count": 13,
   "metadata": {},
   "outputs": [
    {
     "data": {
      "text/plain": [
       "<matplotlib.legend.Legend at 0x7fef1485ef98>"
      ]
     },
     "execution_count": 13,
     "metadata": {},
     "output_type": "execute_result"
    },
    {
     "data": {
      "image/png": "[encoded data removed]",
      "text/plain": [
       "<Figure size 720x216 with 1 Axes>"
      ]
     },
     "metadata": {
      "needs_background": "light"
     },
     "output_type": "display_data"
    }
   ],
   "source": [
    "df_tmp=technical_lag[['tag','base_os','created','package']].drop_duplicates()\n",
    "df_tmp['created']=df_tmp['created'].apply(lambda x: x.split('-')[0] )\n",
    "df_tmp=df_tmp.groupby(['tag','created','base_os']).count().reset_index()\n",
    "\n",
    "ax = sns.violinplot(x=\"created\", y=\"package\", data=df_tmp, hue='base_os', palette=flatui, linewidth=1, split=True)\n",
    "ax.figure.set_size_inches(10,3)\n",
    "ax.set_xlabel('Image last update Year')\n",
    "ax.set_ylabel('\\# of npm \\n packages')\n",
    "for patch in ax.patches:\n",
    "    patch.set_edgecolor('black')\n",
    "#ax.set_ylim(-10,800)\n",
    "plt.yticks(np.arange(0, 1201, 400.0))\n",
    "\n",
    "ax.legend(loc='upper right', bbox_to_anchor=(0.3, 1), ncol=1, fontsize=20, fancybox=True, shadow=True)\n",
    "#ax.figure.savefig('../../../seneca_research/docker_npm/figures/npm_number_os.pdf', bbox_inches='tight', facecolor='white')\n"
   ]
  },
  {
   "cell_type": "code",
   "execution_count": 14,
   "metadata": {},
   "outputs": [
    {
     "data": {
      "text/plain": [
       "322.0"
      ]
     },
     "execution_count": 14,
     "metadata": {},
     "output_type": "execute_result"
    }
   ],
   "source": [
    "df_tmp=technical_lag[['tag','base_os','created','package']].drop_duplicates()\n",
    "df_tmp['created']=df_tmp['created'].apply(lambda x: x.split('-')[0] )\n",
    "df_tmp=df_tmp.groupby(['tag','created','base_os']).count().reset_index()\n",
    "df_tmp.query('base_os==\"Alpine\"').package.median()"
   ]
  },
  {
   "cell_type": "code",
   "execution_count": 15,
   "metadata": {},
   "outputs": [
    {
     "data": {
      "text/plain": [
       "200.5"
      ]
     },
     "execution_count": 15,
     "metadata": {},
     "output_type": "execute_result"
    }
   ],
   "source": [
    "df_tmp.query('base_os==\"Debian\"').package.median()"
   ]
  },
  {
   "cell_type": "code",
   "execution_count": 17,
   "metadata": {},
   "outputs": [
    {
     "data": {
      "text/html": [
       "<div>\n",
       "<style scoped>\n",
       "    .dataframe tbody tr th:only-of-type {\n",
       "        vertical-align: middle;\n",
       "    }\n",
       "\n",
       "    .dataframe tbody tr th {\n",
       "        vertical-align: top;\n",
       "    }\n",
       "\n",
       "    .dataframe thead th {\n",
       "        text-align: right;\n",
       "    }\n",
       "</style>\n",
       "<table border=\"1\" class=\"dataframe\">\n",
       "  <thead>\n",
       "    <tr style=\"text-align: right;\">\n",
       "      <th></th>\n",
       "      <th>tag</th>\n",
       "    </tr>\n",
       "    <tr>\n",
       "      <th>slug</th>\n",
       "      <th></th>\n",
       "    </tr>\n",
       "  </thead>\n",
       "  <tbody>\n",
       "    <tr>\n",
       "      <th>ghost</th>\n",
       "      <td>75</td>\n",
       "    </tr>\n",
       "    <tr>\n",
       "      <th>mongo-express</th>\n",
       "      <td>17</td>\n",
       "    </tr>\n",
       "    <tr>\n",
       "      <th>node</th>\n",
       "      <td>869</td>\n",
       "    </tr>\n",
       "  </tbody>\n",
       "</table>\n",
       "</div>"
      ],
      "text/plain": [
       "               tag\n",
       "slug              \n",
       "ghost           75\n",
       "mongo-express   17\n",
       "node           869"
      ]
     },
     "execution_count": 17,
     "metadata": {},
     "output_type": "execute_result"
    }
   ],
   "source": [
    "technical_lag[['slug','tag']].drop_duplicates().groupby('slug').count()"
   ]
  },
  {
   "cell_type": "code",
   "execution_count": 16,
   "metadata": {},
   "outputs": [
    {
     "data": {
      "text/html": [
       "<div>\n",
       "<style scoped>\n",
       "    .dataframe tbody tr th:only-of-type {\n",
       "        vertical-align: middle;\n",
       "    }\n",
       "\n",
       "    .dataframe tbody tr th {\n",
       "        vertical-align: top;\n",
       "    }\n",
       "\n",
       "    .dataframe thead th {\n",
       "        text-align: right;\n",
       "    }\n",
       "</style>\n",
       "<table border=\"1\" class=\"dataframe\">\n",
       "  <thead>\n",
       "    <tr style=\"text-align: right;\">\n",
       "      <th></th>\n",
       "      <th></th>\n",
       "      <th>tag</th>\n",
       "    </tr>\n",
       "    <tr>\n",
       "      <th>slug</th>\n",
       "      <th>base_os</th>\n",
       "      <th></th>\n",
       "    </tr>\n",
       "  </thead>\n",
       "  <tbody>\n",
       "    <tr>\n",
       "      <th rowspan=\"2\" valign=\"top\">ghost</th>\n",
       "      <th>Alpine</th>\n",
       "      <td>35</td>\n",
       "    </tr>\n",
       "    <tr>\n",
       "      <th>Debian</th>\n",
       "      <td>40</td>\n",
       "    </tr>\n",
       "    <tr>\n",
       "      <th>mongo-express</th>\n",
       "      <th>Debian</th>\n",
       "      <td>17</td>\n",
       "    </tr>\n",
       "    <tr>\n",
       "      <th rowspan=\"2\" valign=\"top\">node</th>\n",
       "      <th>Alpine</th>\n",
       "      <td>84</td>\n",
       "    </tr>\n",
       "    <tr>\n",
       "      <th>Debian</th>\n",
       "      <td>785</td>\n",
       "    </tr>\n",
       "  </tbody>\n",
       "</table>\n",
       "</div>"
      ],
      "text/plain": [
       "                       tag\n",
       "slug          base_os     \n",
       "ghost         Alpine    35\n",
       "              Debian    40\n",
       "mongo-express Debian    17\n",
       "node          Alpine    84\n",
       "              Debian   785"
      ]
     },
     "execution_count": 16,
     "metadata": {},
     "output_type": "execute_result"
    }
   ],
   "source": [
    "technical_lag[['slug','base_os','tag']].drop_duplicates().groupby(['slug','base_os']).count()"
   ]
  },
  {
   "cell_type": "code",
   "execution_count": 17,
   "metadata": {},
   "outputs": [
    {
     "name": "stdout",
     "output_type": "stream",
     "text": [
      "d=0.06129032258064516\n",
      "d=0.24153771760154738\n",
      "d=0.04489164086687306\n"
     ]
    }
   ],
   "source": [
    "for x in range(2016,2019):\n",
    "    cliffsDelta(df_tmp.query('base_os==\"Alpine\"').query('created==\"'+str(x)+'\"').package, \n",
    "            df_tmp.query('base_os==\"Debian\"').query('created==\"'+str(x)+'\"').package)"
   ]
  },
  {
   "cell_type": "code",
   "execution_count": 18,
   "metadata": {},
   "outputs": [
    {
     "name": "stdout",
     "output_type": "stream",
     "text": [
      "2016 MannwhitneyuResult(statistic=1164.0, pvalue=0.3826567657531226)\n",
      "2017 MannwhitneyuResult(statistic=10979.5, pvalue=0.00018557311687938727)\n",
      "2018 MannwhitneyuResult(statistic=617.0, pvalue=0.36881636060790757)\n"
     ]
    }
   ],
   "source": [
    "for x in range(2016,2019):\n",
    "    print(x,scipy.stats.mannwhitneyu(df_tmp.query('base_os==\"Alpine\"').query('created==\"'+str(x)+'\"').package, \n",
    "            df_tmp.query('base_os==\"Debian\"').query('created==\"'+str(x)+'\"').package))"
   ]
  },
  {
   "cell_type": "markdown",
   "metadata": {},
   "source": [
    "# RQ1: What is the technical lag induced by outdated packages in containers?"
   ]
  },
  {
   "cell_type": "code",
   "execution_count": 19,
   "metadata": {},
   "outputs": [
    {
     "data": {
      "text/html": [
       "<div>\n",
       "<style scoped>\n",
       "    .dataframe tbody tr th:only-of-type {\n",
       "        vertical-align: middle;\n",
       "    }\n",
       "\n",
       "    .dataframe tbody tr th {\n",
       "        vertical-align: top;\n",
       "    }\n",
       "\n",
       "    .dataframe thead th {\n",
       "        text-align: right;\n",
       "    }\n",
       "</style>\n",
       "<table border=\"1\" class=\"dataframe\">\n",
       "  <thead>\n",
       "    <tr style=\"text-align: right;\">\n",
       "      <th></th>\n",
       "      <th>package</th>\n",
       "      <th>version</th>\n",
       "      <th>created</th>\n",
       "      <th>tag</th>\n",
       "      <th>base_os</th>\n",
       "      <th>latest</th>\n",
       "      <th>date</th>\n",
       "      <th>release_type</th>\n",
       "      <th>date_latest</th>\n",
       "      <th>version_lag</th>\n",
       "      <th>extraction_date</th>\n",
       "      <th>version_lag_today</th>\n",
       "      <th>slug</th>\n",
       "    </tr>\n",
       "  </thead>\n",
       "  <tbody>\n",
       "    <tr>\n",
       "      <th>0</th>\n",
       "      <td>1to2</td>\n",
       "      <td>1.0.0</td>\n",
       "      <td>2016-08-01</td>\n",
       "      <td>ghost:0.8</td>\n",
       "      <td>Debian</td>\n",
       "      <td>1.0.0</td>\n",
       "      <td>2016-04-19</td>\n",
       "      <td>initial</td>\n",
       "      <td>2016-04-19</td>\n",
       "      <td>0,0,0</td>\n",
       "      <td>2018-03-13</td>\n",
       "      <td>0,0,0</td>\n",
       "      <td>ghost</td>\n",
       "    </tr>\n",
       "    <tr>\n",
       "      <th>1</th>\n",
       "      <td>1to2</td>\n",
       "      <td>1.0.0</td>\n",
       "      <td>2016-09-28</td>\n",
       "      <td>ghost:0.11.0</td>\n",
       "      <td>Debian</td>\n",
       "      <td>1.0.0</td>\n",
       "      <td>2016-04-19</td>\n",
       "      <td>initial</td>\n",
       "      <td>2016-04-19</td>\n",
       "      <td>0,0,0</td>\n",
       "      <td>2018-03-13</td>\n",
       "      <td>0,0,0</td>\n",
       "      <td>ghost</td>\n",
       "    </tr>\n",
       "  </tbody>\n",
       "</table>\n",
       "</div>"
      ],
      "text/plain": [
       "  package version     created           tag base_os latest        date  \\\n",
       "0    1to2   1.0.0  2016-08-01     ghost:0.8  Debian  1.0.0  2016-04-19   \n",
       "1    1to2   1.0.0  2016-09-28  ghost:0.11.0  Debian  1.0.0  2016-04-19   \n",
       "\n",
       "  release_type date_latest version_lag extraction_date version_lag_today  \\\n",
       "0      initial  2016-04-19       0,0,0      2018-03-13             0,0,0   \n",
       "1      initial  2016-04-19       0,0,0      2018-03-13             0,0,0   \n",
       "\n",
       "    slug  \n",
       "0  ghost  \n",
       "1  ghost  "
      ]
     },
     "execution_count": 19,
     "metadata": {},
     "output_type": "execute_result"
    }
   ],
   "source": [
    "technical_lag.head(2)"
   ]
  },
  {
   "cell_type": "markdown",
   "metadata": {},
   "source": [
    "At the time of the last update, how was the technical lag?"
   ]
  },
  {
   "cell_type": "code",
   "execution_count": 20,
   "metadata": {},
   "outputs": [
    {
     "data": {
      "text/plain": [
       "<matplotlib.legend.Legend at 0x7feef7f83e10>"
      ]
     },
     "execution_count": 20,
     "metadata": {},
     "output_type": "execute_result"
    },
    {
     "data": {
      "image/png": "[encoded data removed]",
      "text/plain": [
       "<Figure size 864x180 with 1 Axes>"
      ]
     },
     "metadata": {
      "needs_background": "light"
     },
     "output_type": "display_data"
    }
   ],
   "source": [
    "# at the date of the last update\n",
    "df_tmp=technical_lag.drop('extraction_date', axis=1)\n",
    "df_tmp['outdate']=df_tmp.apply(lambda d: 'Up-to-date' if d['latest']==d['version']\n",
    "                              else 'Outdated', axis=1)\n",
    "\n",
    "df_tmp1=df_tmp[['package','version','tag','base_os','slug','outdate']].drop_duplicates()\n",
    "dff1=df_tmp1.groupby(['tag','base_os','outdate']).count().loc[:,['package']].reset_index()\n",
    "dff2=df_tmp1.groupby(['tag','base_os']).count().reset_index().loc[:,['tag','version']]\n",
    "\n",
    "dff=(dff1.\n",
    "     merge(\n",
    "         dff2,\n",
    "         left_on='tag',\n",
    "         right_on='tag',\n",
    "         how='left').\n",
    "     assign(installed=lambda d: (d['package']*100/d['version']).apply(int)).\n",
    "     drop(['version','package'], axis=1)\n",
    "    )\n",
    "\n",
    "\n",
    "ax = sns.violinplot(split=True, x=\"base_os\", y=\"installed\", hue=\"outdate\",\n",
    "                 data=dff, palette=flatui, linewidth=1)\n",
    "ax.figure.set_size_inches(12,2.5)\n",
    "ax.set_ylabel('Installed packages \\%')\n",
    "for patch in ax.patches:\n",
    "    patch.set_edgecolor('black')\n",
    "ax.set_xlabel(\"Container's OS\")\n",
    "ax.legend(loc='upper right', bbox_to_anchor=(1, 1.27), ncol=3, fontsize=15, fancybox=True, shadow=True)\n",
    "#ax.figure.savefig('../../../seneca_research/docker_npm/figures/update.pdf', bbox_inches='tight', facecolor='white')\n"
   ]
  },
  {
   "cell_type": "code",
   "execution_count": 21,
   "metadata": {},
   "outputs": [
    {
     "name": "stdout",
     "output_type": "stream",
     "text": [
      "d=0.1392143555759596\n",
      "MannwhitneyuResult(statistic=43124.5, pvalue=0.006901851554426561) False\n",
      "\n",
      "median \t\tAlpine 57.0 Debian 64.0\n"
     ]
    }
   ],
   "source": [
    "sample1=dff.query('outdate==\"Up-to-date\" and base_os==\"Alpine\"').installed\n",
    "sample2=dff.query('outdate==\"Up-to-date\" and base_os==\"Debian\"').installed\n",
    "print(scipy.stats.mannwhitneyu(sample2,sample1), cliffsDelta(sample2,sample1))\n",
    "print('\\nmedian','\\t\\tAlpine',sample1.median(), 'Debian',sample2.median())"
   ]
  },
  {
   "cell_type": "code",
   "execution_count": 22,
   "metadata": {},
   "outputs": [],
   "source": [
    "df_tmp=technical_lag.drop('extraction_date', axis=1)\n",
    "df_tmp['outdate']=df_tmp.apply(lambda d: 'Up-to-date' if d['version_lag_today']=='0,0,0'\n",
    "                              else 'Out-of-date', axis=1)\n",
    "\n",
    "df_tmp1=df_tmp[['package','version','tag','base_os','slug','outdate']].drop_duplicates()\n",
    "dff1=df_tmp1.groupby(['tag','base_os','outdate']).count().loc[:,['package']].reset_index()\n",
    "dff2=df_tmp1.groupby(['tag','base_os']).count().reset_index().loc[:,['tag','version']]\n",
    "\n",
    "dff=(dff1.\n",
    "     merge(\n",
    "         dff2,\n",
    "         left_on='tag',\n",
    "         right_on='tag',\n",
    "         how='left').\n",
    "     assign(installed=lambda d: (d['package']*100/d['version']).apply(int)).\n",
    "     drop(['version','package'], axis=1)\n",
    "    )"
   ]
  },
  {
   "cell_type": "code",
   "execution_count": 23,
   "metadata": {},
   "outputs": [
    {
     "name": "stdout",
     "output_type": "stream",
     "text": [
      "d=-0.4103275514481327\n",
      "MannwhitneyuResult(statistic=29542.0, pvalue=1.7855699102337304e-13) True\n",
      "\n",
      "median \t\tAlpine 41.0 Debian 34.0\n"
     ]
    }
   ],
   "source": [
    "sample1=dff.query('outdate==\"Up-to-date\" and base_os==\"Alpine\"').installed\n",
    "sample2=dff.query('outdate==\"Up-to-date\" and base_os==\"Debian\"').installed\n",
    "print(scipy.stats.mannwhitneyu(sample2,sample1), cliffsDelta(sample2,sample1))\n",
    "print('\\nmedian','\\t\\tAlpine',sample1.median(), 'Debian',sample2.median())"
   ]
  },
  {
   "cell_type": "code",
   "execution_count": 24,
   "metadata": {},
   "outputs": [
    {
     "name": "stderr",
     "output_type": "stream",
     "text": [
      "/usr/local/lib/python3.6/dist-packages/ipykernel_launcher.py:4: SettingWithCopyWarning: \n",
      "A value is trying to be set on a copy of a slice from a DataFrame.\n",
      "Try using .loc[row_indexer,col_indexer] = value instead\n",
      "\n",
      "See the caveats in the documentation: http://pandas.pydata.org/pandas-docs/stable/indexing.html#indexing-view-versus-copy\n",
      "  after removing the cwd from sys.path.\n",
      "/usr/local/lib/python3.6/dist-packages/ipykernel_launcher.py:5: SettingWithCopyWarning: \n",
      "A value is trying to be set on a copy of a slice from a DataFrame.\n",
      "Try using .loc[row_indexer,col_indexer] = value instead\n",
      "\n",
      "See the caveats in the documentation: http://pandas.pydata.org/pandas-docs/stable/indexing.html#indexing-view-versus-copy\n",
      "  \"\"\"\n",
      "/usr/local/lib/python3.6/dist-packages/ipykernel_launcher.py:7: SettingWithCopyWarning: \n",
      "A value is trying to be set on a copy of a slice from a DataFrame.\n",
      "Try using .loc[row_indexer,col_indexer] = value instead\n",
      "\n",
      "See the caveats in the documentation: http://pandas.pydata.org/pandas-docs/stable/indexing.html#indexing-view-versus-copy\n",
      "  import sys\n"
     ]
    },
    {
     "data": {
      "text/html": [
       "<div>\n",
       "<style scoped>\n",
       "    .dataframe tbody tr th:only-of-type {\n",
       "        vertical-align: middle;\n",
       "    }\n",
       "\n",
       "    .dataframe tbody tr th {\n",
       "        vertical-align: top;\n",
       "    }\n",
       "\n",
       "    .dataframe thead th {\n",
       "        text-align: right;\n",
       "    }\n",
       "</style>\n",
       "<table border=\"1\" class=\"dataframe\">\n",
       "  <thead>\n",
       "    <tr style=\"text-align: right;\">\n",
       "      <th></th>\n",
       "      <th>package</th>\n",
       "      <th>version</th>\n",
       "      <th>created</th>\n",
       "      <th>tag</th>\n",
       "      <th>base_os</th>\n",
       "      <th>latest</th>\n",
       "      <th>date</th>\n",
       "      <th>release_type</th>\n",
       "      <th>date_latest</th>\n",
       "      <th>version_lag</th>\n",
       "      <th>extraction_date</th>\n",
       "      <th>version_lag_today</th>\n",
       "      <th>slug</th>\n",
       "      <th>time_lag</th>\n",
       "    </tr>\n",
       "  </thead>\n",
       "  <tbody>\n",
       "    <tr>\n",
       "      <th>109</th>\n",
       "      <td>@segment/loosely-validate-event</td>\n",
       "      <td>1.1.2</td>\n",
       "      <td>2018-03-21</td>\n",
       "      <td>ghost:1</td>\n",
       "      <td>Debian</td>\n",
       "      <td>2.0.0</td>\n",
       "      <td>2017-02-10</td>\n",
       "      <td>patch</td>\n",
       "      <td>2018-01-24</td>\n",
       "      <td>1,0,0</td>\n",
       "      <td>2018-03-13</td>\n",
       "      <td>1,0,0</td>\n",
       "      <td>ghost</td>\n",
       "      <td>11.600000</td>\n",
       "    </tr>\n",
       "    <tr>\n",
       "      <th>110</th>\n",
       "      <td>@segment/loosely-validate-event</td>\n",
       "      <td>1.1.2</td>\n",
       "      <td>2018-03-21</td>\n",
       "      <td>ghost:1-alpine</td>\n",
       "      <td>Alpine</td>\n",
       "      <td>2.0.0</td>\n",
       "      <td>2017-02-10</td>\n",
       "      <td>patch</td>\n",
       "      <td>2018-01-24</td>\n",
       "      <td>1,0,0</td>\n",
       "      <td>2018-03-13</td>\n",
       "      <td>1,0,0</td>\n",
       "      <td>ghost</td>\n",
       "      <td>11.600000</td>\n",
       "    </tr>\n",
       "    <tr>\n",
       "      <th>115</th>\n",
       "      <td>CSSselect</td>\n",
       "      <td>0.4.1</td>\n",
       "      <td>2015-03-10</td>\n",
       "      <td>ghost:0.5.9</td>\n",
       "      <td>Debian</td>\n",
       "      <td>0.7.0</td>\n",
       "      <td>2014-02-14</td>\n",
       "      <td>patch</td>\n",
       "      <td>2014-03-05</td>\n",
       "      <td>0,2,0</td>\n",
       "      <td>2018-03-13</td>\n",
       "      <td>0,2,0</td>\n",
       "      <td>ghost</td>\n",
       "      <td>0.633333</td>\n",
       "    </tr>\n",
       "    <tr>\n",
       "      <th>190</th>\n",
       "      <td>JSONStream</td>\n",
       "      <td>1.2.1</td>\n",
       "      <td>2017-01-05</td>\n",
       "      <td>node:7.4-alpine</td>\n",
       "      <td>Alpine</td>\n",
       "      <td>1.3.0</td>\n",
       "      <td>2016-09-24</td>\n",
       "      <td>patch</td>\n",
       "      <td>2016-12-15</td>\n",
       "      <td>0,1,0</td>\n",
       "      <td>2018-03-13</td>\n",
       "      <td>0,1,2</td>\n",
       "      <td>node</td>\n",
       "      <td>2.733333</td>\n",
       "    </tr>\n",
       "    <tr>\n",
       "      <th>191</th>\n",
       "      <td>JSONStream</td>\n",
       "      <td>1.2.1</td>\n",
       "      <td>2017-01-17</td>\n",
       "      <td>node:7.4-slim</td>\n",
       "      <td>Debian</td>\n",
       "      <td>1.3.0</td>\n",
       "      <td>2016-09-24</td>\n",
       "      <td>patch</td>\n",
       "      <td>2016-12-15</td>\n",
       "      <td>0,1,0</td>\n",
       "      <td>2018-03-13</td>\n",
       "      <td>0,1,2</td>\n",
       "      <td>node</td>\n",
       "      <td>2.733333</td>\n",
       "    </tr>\n",
       "  </tbody>\n",
       "</table>\n",
       "</div>"
      ],
      "text/plain": [
       "                             package version     created              tag  \\\n",
       "109  @segment/loosely-validate-event   1.1.2  2018-03-21          ghost:1   \n",
       "110  @segment/loosely-validate-event   1.1.2  2018-03-21   ghost:1-alpine   \n",
       "115                        CSSselect   0.4.1  2015-03-10      ghost:0.5.9   \n",
       "190                       JSONStream   1.2.1  2017-01-05  node:7.4-alpine   \n",
       "191                       JSONStream   1.2.1  2017-01-17    node:7.4-slim   \n",
       "\n",
       "    base_os latest       date release_type date_latest version_lag  \\\n",
       "109  Debian  2.0.0 2017-02-10        patch  2018-01-24       1,0,0   \n",
       "110  Alpine  2.0.0 2017-02-10        patch  2018-01-24       1,0,0   \n",
       "115  Debian  0.7.0 2014-02-14        patch  2014-03-05       0,2,0   \n",
       "190  Alpine  1.3.0 2016-09-24        patch  2016-12-15       0,1,0   \n",
       "191  Debian  1.3.0 2016-09-24        patch  2016-12-15       0,1,0   \n",
       "\n",
       "    extraction_date version_lag_today   slug   time_lag  \n",
       "109      2018-03-13             1,0,0  ghost  11.600000  \n",
       "110      2018-03-13             1,0,0  ghost  11.600000  \n",
       "115      2018-03-13             0,2,0  ghost   0.633333  \n",
       "190      2018-03-13             0,1,2   node   2.733333  \n",
       "191      2018-03-13             0,1,2   node   2.733333  "
      ]
     },
     "execution_count": 24,
     "metadata": {},
     "output_type": "execute_result"
    }
   ],
   "source": [
    "df_tmp=technical_lag.query('latest!=version')\n",
    "\n",
    "#### For those who are outdated! what is the technical lag\n",
    "df_tmp['date_latest']=df_tmp['date_latest'].apply(lambda x: datetime.strptime(x, \"%Y-%m-%d\"))\n",
    "df_tmp['date']=df_tmp['date'].apply(lambda x: datetime.strptime(x, \"%Y-%m-%d\"))\n",
    "\n",
    "df_tmp['time_lag']=df_tmp.apply(lambda d: (d['date_latest'] - d['date']).days/30, axis=1)\n",
    "\n",
    "df_tmp.head()\n",
    "#ax.figure.savefig('../../seneca_research/docker_debian/figures/version_lag.pdf', bbox_inches='tight', facecolor='white')"
   ]
  },
  {
   "cell_type": "code",
   "execution_count": 25,
   "metadata": {},
   "outputs": [
    {
     "name": "stderr",
     "output_type": "stream",
     "text": [
      "/usr/local/lib/python3.6/dist-packages/ipykernel_launcher.py:2: SettingWithCopyWarning: \n",
      "A value is trying to be set on a copy of a slice from a DataFrame.\n",
      "Try using .loc[row_indexer,col_indexer] = value instead\n",
      "\n",
      "See the caveats in the documentation: http://pandas.pydata.org/pandas-docs/stable/indexing.html#indexing-view-versus-copy\n",
      "  \n"
     ]
    }
   ],
   "source": [
    "data=df_tmp[['package','created','base_os','time_lag']]\n",
    "data['created']=data['created'].apply(lambda x: x.split('-')[0])"
   ]
  },
  {
   "cell_type": "code",
   "execution_count": 26,
   "metadata": {},
   "outputs": [
    {
     "data": {
      "text/plain": [
       "([<matplotlib.axis.YTick at 0x7feef86b2dd8>,\n",
       "  <matplotlib.axis.YTick at 0x7feef86b2668>,\n",
       "  <matplotlib.axis.YTick at 0x7feef86a9780>,\n",
       "  <matplotlib.axis.YTick at 0x7feef86739e8>],\n",
       " <a list of 4 Text yticklabel objects>)"
      ]
     },
     "execution_count": 26,
     "metadata": {},
     "output_type": "execute_result"
    },
    {
     "data": {
      "image/png": "[encoded data removed]",
      "text/plain": [
       "<Figure size 648x180 with 1 Axes>"
      ]
     },
     "metadata": {
      "needs_background": "light"
     },
     "output_type": "display_data"
    }
   ],
   "source": [
    "\n",
    "ax = sns.violinplot(split=True, x=\"created\", y=\"time_lag\", data=data, hue='base_os', palette=flatui, linewidth=1)\n",
    "\n",
    "ax.figure.set_size_inches(9,2.5)\n",
    "ax.set_xlabel(\"Image last update year\")\n",
    "ax.set_ylabel('Package time \\n Lag (in months)')\n",
    "for patch in ax.patches:\n",
    "    patch.set_edgecolor('black')\n",
    "ax.legend(loc='upper right', bbox_to_anchor=(0.6, 1.05), ncol=2, fontsize=20, fancybox=True, shadow=True)\n",
    "plt.yticks(np.arange(0, 100, 30))\n",
    "\n",
    "#ax.set_ylim(0,50)\n",
    "#ax.figure.savefig('../../../seneca_research/docker_npm/figures/time_lag.pdf', bbox_inches='tight', facecolor='white')\n"
   ]
  },
  {
   "cell_type": "code",
   "execution_count": 27,
   "metadata": {},
   "outputs": [
    {
     "name": "stdout",
     "output_type": "stream",
     "text": [
      "d=-0.16182121040390526\n",
      "MannwhitneyuResult(statistic=1088874220.0, pvalue=0.0) True\n",
      "\n",
      "median \t\tAlpine 12.133333333333333 Debian 9.2\n"
     ]
    }
   ],
   "source": [
    "sample1=data.query('base_os==\"Alpine\"').query('created>\"2013\"').time_lag\n",
    "sample2=data.query('base_os==\"Debian\"').query('created>\"2013\"').time_lag\n",
    "print(scipy.stats.mannwhitneyu(sample2,sample1), cliffsDelta(sample2,sample1))\n",
    "print('\\nmedian','\\t\\tAlpine',sample1.median(), 'Debian',sample2.median())"
   ]
  },
  {
   "cell_type": "code",
   "execution_count": 28,
   "metadata": {},
   "outputs": [
    {
     "data": {
      "text/plain": [
       "9.733333333333333"
      ]
     },
     "execution_count": 28,
     "metadata": {},
     "output_type": "execute_result"
    }
   ],
   "source": [
    "data.time_lag.median()"
   ]
  },
  {
   "cell_type": "code",
   "execution_count": 29,
   "metadata": {},
   "outputs": [
    {
     "name": "stderr",
     "output_type": "stream",
     "text": [
      "/usr/local/lib/python3.6/dist-packages/ipykernel_launcher.py:4: SettingWithCopyWarning: \n",
      "A value is trying to be set on a copy of a slice from a DataFrame.\n",
      "Try using .loc[row_indexer,col_indexer] = value instead\n",
      "\n",
      "See the caveats in the documentation: http://pandas.pydata.org/pandas-docs/stable/indexing.html#indexing-view-versus-copy\n",
      "  after removing the cwd from sys.path.\n",
      "/usr/local/lib/python3.6/dist-packages/ipykernel_launcher.py:5: SettingWithCopyWarning: \n",
      "A value is trying to be set on a copy of a slice from a DataFrame.\n",
      "Try using .loc[row_indexer,col_indexer] = value instead\n",
      "\n",
      "See the caveats in the documentation: http://pandas.pydata.org/pandas-docs/stable/indexing.html#indexing-view-versus-copy\n",
      "  \"\"\"\n",
      "/usr/local/lib/python3.6/dist-packages/ipykernel_launcher.py:6: SettingWithCopyWarning: \n",
      "A value is trying to be set on a copy of a slice from a DataFrame.\n",
      "Try using .loc[row_indexer,col_indexer] = value instead\n",
      "\n",
      "See the caveats in the documentation: http://pandas.pydata.org/pandas-docs/stable/indexing.html#indexing-view-versus-copy\n",
      "  \n",
      "/usr/local/lib/python3.6/dist-packages/ipykernel_launcher.py:7: SettingWithCopyWarning: \n",
      "A value is trying to be set on a copy of a slice from a DataFrame.\n",
      "Try using .loc[row_indexer,col_indexer] = value instead\n",
      "\n",
      "See the caveats in the documentation: http://pandas.pydata.org/pandas-docs/stable/indexing.html#indexing-view-versus-copy\n",
      "  import sys\n"
     ]
    },
    {
     "data": {
      "text/html": [
       "<div>\n",
       "<style scoped>\n",
       "    .dataframe tbody tr th:only-of-type {\n",
       "        vertical-align: middle;\n",
       "    }\n",
       "\n",
       "    .dataframe tbody tr th {\n",
       "        vertical-align: top;\n",
       "    }\n",
       "\n",
       "    .dataframe thead th {\n",
       "        text-align: right;\n",
       "    }\n",
       "</style>\n",
       "<table border=\"1\" class=\"dataframe\">\n",
       "  <thead>\n",
       "    <tr style=\"text-align: right;\">\n",
       "      <th></th>\n",
       "      <th>package</th>\n",
       "      <th>version</th>\n",
       "      <th>created</th>\n",
       "      <th>tag</th>\n",
       "      <th>base_os</th>\n",
       "      <th>latest</th>\n",
       "      <th>date</th>\n",
       "      <th>release_type</th>\n",
       "      <th>date_latest</th>\n",
       "      <th>version_lag</th>\n",
       "      <th>extraction_date</th>\n",
       "      <th>version_lag_today</th>\n",
       "      <th>slug</th>\n",
       "      <th>major</th>\n",
       "      <th>minor</th>\n",
       "      <th>patch</th>\n",
       "    </tr>\n",
       "  </thead>\n",
       "  <tbody>\n",
       "    <tr>\n",
       "      <th>109</th>\n",
       "      <td>@segment/loosely-validate-event</td>\n",
       "      <td>1.1.2</td>\n",
       "      <td>2018</td>\n",
       "      <td>ghost:1</td>\n",
       "      <td>Debian</td>\n",
       "      <td>2.0.0</td>\n",
       "      <td>2017-02-10</td>\n",
       "      <td>patch</td>\n",
       "      <td>2018-01-24</td>\n",
       "      <td>1,0,0</td>\n",
       "      <td>2018-03-13</td>\n",
       "      <td>1,0,0</td>\n",
       "      <td>ghost</td>\n",
       "      <td>1</td>\n",
       "      <td>0</td>\n",
       "      <td>0</td>\n",
       "    </tr>\n",
       "    <tr>\n",
       "      <th>110</th>\n",
       "      <td>@segment/loosely-validate-event</td>\n",
       "      <td>1.1.2</td>\n",
       "      <td>2018</td>\n",
       "      <td>ghost:1-alpine</td>\n",
       "      <td>Alpine</td>\n",
       "      <td>2.0.0</td>\n",
       "      <td>2017-02-10</td>\n",
       "      <td>patch</td>\n",
       "      <td>2018-01-24</td>\n",
       "      <td>1,0,0</td>\n",
       "      <td>2018-03-13</td>\n",
       "      <td>1,0,0</td>\n",
       "      <td>ghost</td>\n",
       "      <td>1</td>\n",
       "      <td>0</td>\n",
       "      <td>0</td>\n",
       "    </tr>\n",
       "  </tbody>\n",
       "</table>\n",
       "</div>"
      ],
      "text/plain": [
       "                             package version created             tag base_os  \\\n",
       "109  @segment/loosely-validate-event   1.1.2    2018         ghost:1  Debian   \n",
       "110  @segment/loosely-validate-event   1.1.2    2018  ghost:1-alpine  Alpine   \n",
       "\n",
       "    latest        date release_type date_latest version_lag extraction_date  \\\n",
       "109  2.0.0  2017-02-10        patch  2018-01-24       1,0,0      2018-03-13   \n",
       "110  2.0.0  2017-02-10        patch  2018-01-24       1,0,0      2018-03-13   \n",
       "\n",
       "    version_lag_today   slug  major  minor  patch  \n",
       "109             1,0,0  ghost      1      0      0  \n",
       "110             1,0,0  ghost      1      0      0  "
      ]
     },
     "execution_count": 29,
     "metadata": {},
     "output_type": "execute_result"
    }
   ],
   "source": [
    "df_tmp=technical_lag.query('version_lag!=\"0,0,0\"')\n",
    "\n",
    "#### For those who are outdated! what is the technical lag\n",
    "df_tmp['major']=df_tmp['version_lag'].apply(lambda x: int(x.split(',')[0]))\n",
    "df_tmp['minor']=df_tmp['version_lag'].apply(lambda x: int(x.split(',')[1]))\n",
    "df_tmp['patch']=df_tmp['version_lag'].apply(lambda x: int(x.split(',')[2]))\n",
    "df_tmp['created']=df_tmp['created'].apply(lambda x: x.split('-')[0])\n",
    "\n",
    "df_tmp.head(2)\n",
    "#ax.figure.savefig('../../../seneca_research/docker_npm/figures/version_lag.pdf', bbox_inches='tight', facecolor='white')"
   ]
  },
  {
   "cell_type": "code",
   "execution_count": 33,
   "metadata": {},
   "outputs": [
    {
     "data": {
      "text/plain": [
       "(0, 10)"
      ]
     },
     "execution_count": 33,
     "metadata": {},
     "output_type": "execute_result"
    },
    {
     "data": {
      "image/png": "[encoded data removed]",
      "text/plain": [
       "<matplotlib.figure.Figure at 0x7f4a5bb36a20>"
      ]
     },
     "metadata": {},
     "output_type": "display_data"
    }
   ],
   "source": [
    "# at the time of the last update\n",
    "df_tmp2=df_tmp[['major','minor','patch','created']]\n",
    "df_tmp2=pd.melt(df_tmp2, id_vars=['created'], value_vars=['major','minor','patch'])\n",
    "\n",
    "ax = sns.boxplot(x=\"created\", y=\"value\", data=df_tmp2, hue='variable', palette=flatui, linewidth=1)\n",
    "\n",
    "ax.figure.set_size_inches(9,2.5)\n",
    "ax.set_xlabel(\"Image last update year\")\n",
    "ax.set_ylabel('Package \\n version Lag')\n",
    "for patch in ax.patches:\n",
    "    patch.set_edgecolor('black')\n",
    "ax.legend(loc='upper right', bbox_to_anchor=(0.9, 1.35), ncol=3, fontsize=20, fancybox=True, shadow=True)\n",
    "ax.set_ylim(0,10)\n",
    "#ax.figure.savefig('../../../seneca_research/docker_npm/figures/version_lag.pdf', bbox_inches='tight', facecolor='white')\n"
   ]
  },
  {
   "cell_type": "code",
   "execution_count": 34,
   "metadata": {},
   "outputs": [
    {
     "name": "stdout",
     "output_type": "stream",
     "text": [
      "patch 2014 2.0\n",
      "patch 2015 1.0\n",
      "patch 2016 1.0\n",
      "patch 2017 1.0\n",
      "patch 2018 1.0\n",
      "minor 2014 0.0\n",
      "minor 2015 0.0\n",
      "minor 2016 0.0\n",
      "minor 2017 0.0\n",
      "minor 2018 0.0\n",
      "major 2014 0.0\n",
      "major 2015 0.0\n",
      "major 2016 0.0\n",
      "major 2017 1.0\n",
      "major 2018 1.0\n"
     ]
    }
   ],
   "source": [
    "tab={}\n",
    "for x in ['patch','minor','major']:\n",
    "    tab[x]=[]\n",
    "    for year in range(2014,2019):\n",
    "        print(x,year, df_tmp2.query('variable==\"'+x+'\"').query('created==\"'+str(year)+'\"').value.median())\n",
    "        tab[x].append(df_tmp2.query('variable==\"'+x+'\"').query('created==\"'+str(year)+'\"').value.values.tolist())\n"
   ]
  },
  {
   "cell_type": "code",
   "execution_count": 35,
   "metadata": {},
   "outputs": [
    {
     "data": {
      "text/plain": [
       "5"
      ]
     },
     "execution_count": 35,
     "metadata": {},
     "output_type": "execute_result"
    }
   ],
   "source": [
    "len(tab['patch'])"
   ]
  },
  {
   "cell_type": "code",
   "execution_count": 36,
   "metadata": {},
   "outputs": [
    {
     "data": {
      "text/plain": [
       "KruskalResult(statistic=299.76019072646545, pvalue=1.220488204501928e-63)"
      ]
     },
     "execution_count": 36,
     "metadata": {},
     "output_type": "execute_result"
    }
   ],
   "source": [
    "scipy.stats.kruskal(tab['patch'][0],tab['patch'][1],tab['patch'][2],tab['patch'][3],tab['patch'][4])"
   ]
  },
  {
   "cell_type": "code",
   "execution_count": 37,
   "metadata": {},
   "outputs": [
    {
     "data": {
      "text/plain": [
       "KruskalResult(statistic=1190.4409938194799, pvalue=1.8811766460844415e-256)"
      ]
     },
     "execution_count": 37,
     "metadata": {},
     "output_type": "execute_result"
    }
   ],
   "source": [
    "scipy.stats.kruskal(tab['minor'][0],tab['minor'][1],tab['minor'][2],tab['minor'][3],tab['minor'][4])"
   ]
  },
  {
   "cell_type": "code",
   "execution_count": 38,
   "metadata": {},
   "outputs": [
    {
     "data": {
      "text/plain": [
       "KruskalResult(statistic=2377.0351827804025, pvalue=0.0)"
      ]
     },
     "execution_count": 38,
     "metadata": {},
     "output_type": "execute_result"
    }
   ],
   "source": [
    "scipy.stats.kruskal(tab['major'][0],tab['major'][1],tab['major'][2],tab['major'][3],tab['major'][4])"
   ]
  },
  {
   "cell_type": "code",
   "execution_count": 39,
   "metadata": {},
   "outputs": [
    {
     "name": "stderr",
     "output_type": "stream",
     "text": [
      "/usr/local/lib/python3.5/dist-packages/ipykernel_launcher.py:4: SettingWithCopyWarning: \n",
      "A value is trying to be set on a copy of a slice from a DataFrame.\n",
      "Try using .loc[row_indexer,col_indexer] = value instead\n",
      "\n",
      "See the caveats in the documentation: http://pandas.pydata.org/pandas-docs/stable/indexing.html#indexing-view-versus-copy\n",
      "  after removing the cwd from sys.path.\n",
      "/usr/local/lib/python3.5/dist-packages/ipykernel_launcher.py:5: SettingWithCopyWarning: \n",
      "A value is trying to be set on a copy of a slice from a DataFrame.\n",
      "Try using .loc[row_indexer,col_indexer] = value instead\n",
      "\n",
      "See the caveats in the documentation: http://pandas.pydata.org/pandas-docs/stable/indexing.html#indexing-view-versus-copy\n",
      "  \"\"\"\n",
      "/usr/local/lib/python3.5/dist-packages/ipykernel_launcher.py:6: SettingWithCopyWarning: \n",
      "A value is trying to be set on a copy of a slice from a DataFrame.\n",
      "Try using .loc[row_indexer,col_indexer] = value instead\n",
      "\n",
      "See the caveats in the documentation: http://pandas.pydata.org/pandas-docs/stable/indexing.html#indexing-view-versus-copy\n",
      "  \n",
      "/usr/local/lib/python3.5/dist-packages/ipykernel_launcher.py:7: SettingWithCopyWarning: \n",
      "A value is trying to be set on a copy of a slice from a DataFrame.\n",
      "Try using .loc[row_indexer,col_indexer] = value instead\n",
      "\n",
      "See the caveats in the documentation: http://pandas.pydata.org/pandas-docs/stable/indexing.html#indexing-view-versus-copy\n",
      "  import sys\n"
     ]
    },
    {
     "data": {
      "text/plain": [
       "(0, 20)"
      ]
     },
     "execution_count": 39,
     "metadata": {},
     "output_type": "execute_result"
    },
    {
     "data": {
      "image/png": "[encoded data removed]",
      "text/plain": [
       "<matplotlib.figure.Figure at 0x7f4a5b077da0>"
      ]
     },
     "metadata": {},
     "output_type": "display_data"
    }
   ],
   "source": [
    "df_tmp=technical_lag.query('version_lag_today!=\"0,0,0\"')\n",
    "\n",
    "#### For those who are outdated! what is the technical lag\n",
    "df_tmp['major']=df_tmp['version_lag_today'].apply(lambda x: int(x.split(',')[0]))\n",
    "df_tmp['minor']=df_tmp['version_lag_today'].apply(lambda x: int(x.split(',')[1]))\n",
    "df_tmp['patch']=df_tmp['version_lag_today'].apply(lambda x: int(x.split(',')[2]))\n",
    "df_tmp['created']=df_tmp['created'].apply(lambda x: x.split('-')[0])\n",
    "\n",
    "df_tmp.head(2)\n",
    "#ax.figure.savefig('../../seneca_research/docker_debian/figures/version_lag.png', bbox_inches='tight', facecolor='white')\n",
    "\n",
    "df_tmp2=df_tmp[['major','minor','patch','created']]\n",
    "df_tmp2=pd.melt(df_tmp2, id_vars=['created'], value_vars=['major','minor','patch'])\n",
    "\n",
    "ax = sns.boxplot(x=\"created\", y=\"value\", data=df_tmp2, hue='variable', palette=flatui, linewidth=1)\n",
    "\n",
    "ax.figure.set_size_inches(9,2.5)\n",
    "ax.set_xlabel(\"Image last update year\")\n",
    "ax.set_ylabel('Package \\n version Lag')\n",
    "for patch in ax.patches:\n",
    "    patch.set_edgecolor('black')\n",
    "ax.legend(loc='upper right', bbox_to_anchor=(0.9, 1.35), ncol=3, fontsize=20, fancybox=True, shadow=True)\n",
    "ax.set_ylim(0,20)\n",
    "#ax.figure.savefig('../../../seneca_research/docker_npm/figures/version_lag_today.pdf', bbox_inches='tight', facecolor='white')\n"
   ]
  },
  {
   "cell_type": "code",
   "execution_count": 40,
   "metadata": {},
   "outputs": [
    {
     "name": "stdout",
     "output_type": "stream",
     "text": [
      "patch 1.0\n",
      "minor 0.0\n",
      "major 1.0\n"
     ]
    }
   ],
   "source": [
    "for x in ['patch','minor','major']:\n",
    "    print(x,df_tmp2.query('variable==\"'+x+'\"').query('created==\"2018\"').value.median())\n"
   ]
  },
  {
   "cell_type": "markdown",
   "metadata": {},
   "source": [
    "# RQ2: How vulnerable are npm packages in containers?"
   ]
  },
  {
   "cell_type": "code",
   "execution_count": 30,
   "metadata": {},
   "outputs": [
    {
     "data": {
      "text/html": [
       "<div>\n",
       "<style scoped>\n",
       "    .dataframe tbody tr th:only-of-type {\n",
       "        vertical-align: middle;\n",
       "    }\n",
       "\n",
       "    .dataframe tbody tr th {\n",
       "        vertical-align: top;\n",
       "    }\n",
       "\n",
       "    .dataframe thead th {\n",
       "        text-align: right;\n",
       "    }\n",
       "</style>\n",
       "<table border=\"1\" class=\"dataframe\">\n",
       "  <thead>\n",
       "    <tr style=\"text-align: right;\">\n",
       "      <th></th>\n",
       "      <th>package</th>\n",
       "      <th>version</th>\n",
       "      <th>versions</th>\n",
       "      <th>tag</th>\n",
       "      <th>base_os</th>\n",
       "      <th>created</th>\n",
       "      <th>id</th>\n",
       "      <th>name</th>\n",
       "      <th>published</th>\n",
       "      <th>severity</th>\n",
       "      <th>disclosed</th>\n",
       "      <th>affected</th>\n",
       "    </tr>\n",
       "  </thead>\n",
       "  <tbody>\n",
       "    <tr>\n",
       "      <th>0</th>\n",
       "      <td>atob</td>\n",
       "      <td>2.0.3</td>\n",
       "      <td>&lt;2.1.0</td>\n",
       "      <td>ghost:1.18-alpine</td>\n",
       "      <td>alpine</td>\n",
       "      <td>2017-12-09</td>\n",
       "      <td>npm:atob:20180429</td>\n",
       "      <td>Uninitialized Memory Exposure</td>\n",
       "      <td>30 Apr, 2018</td>\n",
       "      <td>medium</td>\n",
       "      <td>29 Apr, 2018</td>\n",
       "      <td>True</td>\n",
       "    </tr>\n",
       "    <tr>\n",
       "      <th>1</th>\n",
       "      <td>atob</td>\n",
       "      <td>2.0.3</td>\n",
       "      <td>&lt;2.1.0</td>\n",
       "      <td>ghost:1.18.2</td>\n",
       "      <td>debian</td>\n",
       "      <td>2017-12-05</td>\n",
       "      <td>npm:atob:20180429</td>\n",
       "      <td>Uninitialized Memory Exposure</td>\n",
       "      <td>30 Apr, 2018</td>\n",
       "      <td>medium</td>\n",
       "      <td>29 Apr, 2018</td>\n",
       "      <td>True</td>\n",
       "    </tr>\n",
       "    <tr>\n",
       "      <th>2</th>\n",
       "      <td>atob</td>\n",
       "      <td>2.0.3</td>\n",
       "      <td>&lt;2.1.0</td>\n",
       "      <td>ghost:1.18.2-alpine</td>\n",
       "      <td>alpine</td>\n",
       "      <td>2017-12-05</td>\n",
       "      <td>npm:atob:20180429</td>\n",
       "      <td>Uninitialized Memory Exposure</td>\n",
       "      <td>30 Apr, 2018</td>\n",
       "      <td>medium</td>\n",
       "      <td>29 Apr, 2018</td>\n",
       "      <td>True</td>\n",
       "    </tr>\n",
       "    <tr>\n",
       "      <th>3</th>\n",
       "      <td>atob</td>\n",
       "      <td>2.0.3</td>\n",
       "      <td>&lt;2.1.0</td>\n",
       "      <td>ghost:1.18.3</td>\n",
       "      <td>debian</td>\n",
       "      <td>2017-12-07</td>\n",
       "      <td>npm:atob:20180429</td>\n",
       "      <td>Uninitialized Memory Exposure</td>\n",
       "      <td>30 Apr, 2018</td>\n",
       "      <td>medium</td>\n",
       "      <td>29 Apr, 2018</td>\n",
       "      <td>True</td>\n",
       "    </tr>\n",
       "    <tr>\n",
       "      <th>4</th>\n",
       "      <td>atob</td>\n",
       "      <td>2.0.3</td>\n",
       "      <td>&lt;2.1.0</td>\n",
       "      <td>ghost:1.18.3-alpine</td>\n",
       "      <td>alpine</td>\n",
       "      <td>2017-12-07</td>\n",
       "      <td>npm:atob:20180429</td>\n",
       "      <td>Uninitialized Memory Exposure</td>\n",
       "      <td>30 Apr, 2018</td>\n",
       "      <td>medium</td>\n",
       "      <td>29 Apr, 2018</td>\n",
       "      <td>True</td>\n",
       "    </tr>\n",
       "  </tbody>\n",
       "</table>\n",
       "</div>"
      ],
      "text/plain": [
       "  package version versions                  tag base_os     created  \\\n",
       "0    atob   2.0.3   <2.1.0    ghost:1.18-alpine  alpine  2017-12-09   \n",
       "1    atob   2.0.3   <2.1.0         ghost:1.18.2  debian  2017-12-05   \n",
       "2    atob   2.0.3   <2.1.0  ghost:1.18.2-alpine  alpine  2017-12-05   \n",
       "3    atob   2.0.3   <2.1.0         ghost:1.18.3  debian  2017-12-07   \n",
       "4    atob   2.0.3   <2.1.0  ghost:1.18.3-alpine  alpine  2017-12-07   \n",
       "\n",
       "                  id                           name     published severity  \\\n",
       "0  npm:atob:20180429  Uninitialized Memory Exposure  30 Apr, 2018   medium   \n",
       "1  npm:atob:20180429  Uninitialized Memory Exposure  30 Apr, 2018   medium   \n",
       "2  npm:atob:20180429  Uninitialized Memory Exposure  30 Apr, 2018   medium   \n",
       "3  npm:atob:20180429  Uninitialized Memory Exposure  30 Apr, 2018   medium   \n",
       "4  npm:atob:20180429  Uninitialized Memory Exposure  30 Apr, 2018   medium   \n",
       "\n",
       "      disclosed affected  \n",
       "0  29 Apr, 2018     True  \n",
       "1  29 Apr, 2018     True  \n",
       "2  29 Apr, 2018     True  \n",
       "3  29 Apr, 2018     True  \n",
       "4  29 Apr, 2018     True  "
      ]
     },
     "execution_count": 30,
     "metadata": {},
     "output_type": "execute_result"
    }
   ],
   "source": [
    "vulnerabilities.head()"
   ]
  },
  {
   "cell_type": "code",
   "execution_count": 31,
   "metadata": {},
   "outputs": [],
   "source": [
    "df_tmp=vulnerabilities.query('affected==\"True\"')[['id','disclosed','severity']].drop_duplicates()\n",
    "df_tmp['disclosed']=df_tmp['disclosed'].apply(lambda x: x.split(',')[1])\n",
    "df_tmp=df_tmp.groupby(['disclosed','severity']).count().reset_index()\n"
   ]
  },
  {
   "cell_type": "code",
   "execution_count": 32,
   "metadata": {},
   "outputs": [
    {
     "data": {
      "text/plain": [
       "Text(0.28, 1.15, 'Severity:')"
      ]
     },
     "execution_count": 32,
     "metadata": {},
     "output_type": "execute_result"
    },
    {
     "data": {
      "image/png": "[encoded data removed]",
      "text/plain": [
       "<Figure size 864x216 with 1 Axes>"
      ]
     },
     "metadata": {
      "needs_background": "light"
     },
     "output_type": "display_data"
    }
   ],
   "source": [
    "ax = sns.barplot(x=\"disclosed\", \n",
    "                 y=\"id\", \n",
    "                 hue=\"severity\", \n",
    "                 data=df_tmp, \n",
    "                 hue_order=['low','medium','high'],\n",
    "                 palette=\"muted\", \n",
    "                 linewidth=1)\n",
    "ax.figure.set_size_inches(12,3)\n",
    "ax.set_xlabel(\"Year of disclose\")\n",
    "ax.set_ylabel('Vulnerabilities')\n",
    "for patch in ax.patches:\n",
    "    patch.set_edgecolor('black')\n",
    "ax.legend(loc='upper right', bbox_to_anchor=(1, 1.3), ncol=3, fontsize=20, fancybox=True, shadow=True)\n",
    "ax.text(0.28, 1.15, 'Severity:', transform=ax.transAxes, fontsize=20,\n",
    "        verticalalignment='top', color='black')\n",
    "#ax.figure.savefig('../../../papers/cloudtech18/figures/vuls.pdf', bbox_inches='tight', facecolor='white')\n"
   ]
  },
  {
   "cell_type": "code",
   "execution_count": 33,
   "metadata": {},
   "outputs": [
    {
     "data": {
      "text/plain": [
       "74"
      ]
     },
     "execution_count": 33,
     "metadata": {},
     "output_type": "execute_result"
    }
   ],
   "source": [
    "vulnerabilities.query('affected==\"True\"')[['id']].drop_duplicates().size"
   ]
  },
  {
   "cell_type": "code",
   "execution_count": 34,
   "metadata": {},
   "outputs": [
    {
     "data": {
      "text/plain": [
       "52"
      ]
     },
     "execution_count": 34,
     "metadata": {},
     "output_type": "execute_result"
    }
   ],
   "source": [
    "vulnerabilities.query('affected==\"True\"')[['package']].drop_duplicates().size"
   ]
  },
  {
   "cell_type": "code",
   "execution_count": 35,
   "metadata": {},
   "outputs": [
    {
     "data": {
      "text/plain": [
       "1412"
      ]
     },
     "execution_count": 35,
     "metadata": {},
     "output_type": "execute_result"
    }
   ],
   "source": [
    "technical_lag.package.drop_duplicates().size"
   ]
  },
  {
   "cell_type": "code",
   "execution_count": 36,
   "metadata": {},
   "outputs": [
    {
     "data": {
      "text/html": [
       "<div>\n",
       "<style scoped>\n",
       "    .dataframe tbody tr th:only-of-type {\n",
       "        vertical-align: middle;\n",
       "    }\n",
       "\n",
       "    .dataframe tbody tr th {\n",
       "        vertical-align: top;\n",
       "    }\n",
       "\n",
       "    .dataframe thead th {\n",
       "        text-align: right;\n",
       "    }\n",
       "</style>\n",
       "<table border=\"1\" class=\"dataframe\">\n",
       "  <thead>\n",
       "    <tr style=\"text-align: right;\">\n",
       "      <th></th>\n",
       "      <th>id</th>\n",
       "      <th>severity</th>\n",
       "    </tr>\n",
       "    <tr>\n",
       "      <th>disclosed</th>\n",
       "      <th></th>\n",
       "      <th></th>\n",
       "    </tr>\n",
       "  </thead>\n",
       "  <tbody>\n",
       "    <tr>\n",
       "      <th>2014</th>\n",
       "      <td>0.094595</td>\n",
       "      <td>0.094595</td>\n",
       "    </tr>\n",
       "    <tr>\n",
       "      <th>2015</th>\n",
       "      <td>0.148649</td>\n",
       "      <td>0.148649</td>\n",
       "    </tr>\n",
       "    <tr>\n",
       "      <th>2016</th>\n",
       "      <td>0.216216</td>\n",
       "      <td>0.216216</td>\n",
       "    </tr>\n",
       "    <tr>\n",
       "      <th>2017</th>\n",
       "      <td>0.310811</td>\n",
       "      <td>0.310811</td>\n",
       "    </tr>\n",
       "    <tr>\n",
       "      <th>2018</th>\n",
       "      <td>0.229730</td>\n",
       "      <td>0.229730</td>\n",
       "    </tr>\n",
       "  </tbody>\n",
       "</table>\n",
       "</div>"
      ],
      "text/plain": [
       "                 id  severity\n",
       "disclosed                    \n",
       " 2014      0.094595  0.094595\n",
       " 2015      0.148649  0.148649\n",
       " 2016      0.216216  0.216216\n",
       " 2017      0.310811  0.310811\n",
       " 2018      0.229730  0.229730"
      ]
     },
     "execution_count": 36,
     "metadata": {},
     "output_type": "execute_result"
    }
   ],
   "source": [
    "df_tmp=vulnerabilities.query('affected==\"True\"')[['id','disclosed','severity']].drop_duplicates()\n",
    "df_tmp['disclosed']=df_tmp['disclosed'].apply(lambda x: x.split(',')[1])\n",
    "df_tmp.groupby('disclosed').count()/74"
   ]
  },
  {
   "cell_type": "code",
   "execution_count": 37,
   "metadata": {},
   "outputs": [
    {
     "data": {
      "text/html": [
       "<div>\n",
       "<style scoped>\n",
       "    .dataframe tbody tr th:only-of-type {\n",
       "        vertical-align: middle;\n",
       "    }\n",
       "\n",
       "    .dataframe tbody tr th {\n",
       "        vertical-align: top;\n",
       "    }\n",
       "\n",
       "    .dataframe thead th {\n",
       "        text-align: right;\n",
       "    }\n",
       "</style>\n",
       "<table border=\"1\" class=\"dataframe\">\n",
       "  <thead>\n",
       "    <tr style=\"text-align: right;\">\n",
       "      <th></th>\n",
       "      <th>id</th>\n",
       "      <th>disclosed</th>\n",
       "    </tr>\n",
       "    <tr>\n",
       "      <th>severity</th>\n",
       "      <th></th>\n",
       "      <th></th>\n",
       "    </tr>\n",
       "  </thead>\n",
       "  <tbody>\n",
       "    <tr>\n",
       "      <th>high</th>\n",
       "      <td>0.351351</td>\n",
       "      <td>0.351351</td>\n",
       "    </tr>\n",
       "    <tr>\n",
       "      <th>low</th>\n",
       "      <td>0.243243</td>\n",
       "      <td>0.243243</td>\n",
       "    </tr>\n",
       "    <tr>\n",
       "      <th>medium</th>\n",
       "      <td>0.405405</td>\n",
       "      <td>0.405405</td>\n",
       "    </tr>\n",
       "  </tbody>\n",
       "</table>\n",
       "</div>"
      ],
      "text/plain": [
       "                id  disclosed\n",
       "severity                     \n",
       "high      0.351351   0.351351\n",
       "low       0.243243   0.243243\n",
       "medium    0.405405   0.405405"
      ]
     },
     "execution_count": 37,
     "metadata": {},
     "output_type": "execute_result"
    }
   ],
   "source": [
    "df_tmp=vulnerabilities.query('affected==\"True\"')[['id','disclosed','severity']].drop_duplicates()\n",
    "df_tmp.groupby('severity').count()/74"
   ]
  },
  {
   "cell_type": "code",
   "execution_count": 38,
   "metadata": {},
   "outputs": [
    {
     "data": {
      "text/html": [
       "<div>\n",
       "<style scoped>\n",
       "    .dataframe tbody tr th:only-of-type {\n",
       "        vertical-align: middle;\n",
       "    }\n",
       "\n",
       "    .dataframe tbody tr th {\n",
       "        vertical-align: top;\n",
       "    }\n",
       "\n",
       "    .dataframe thead th {\n",
       "        text-align: right;\n",
       "    }\n",
       "</style>\n",
       "<table border=\"1\" class=\"dataframe\">\n",
       "  <thead>\n",
       "    <tr style=\"text-align: right;\">\n",
       "      <th></th>\n",
       "      <th>id</th>\n",
       "      <th>disclosed</th>\n",
       "    </tr>\n",
       "    <tr>\n",
       "      <th>severity</th>\n",
       "      <th></th>\n",
       "      <th></th>\n",
       "    </tr>\n",
       "  </thead>\n",
       "  <tbody>\n",
       "    <tr>\n",
       "      <th>high</th>\n",
       "      <td>0.294955</td>\n",
       "      <td>0.294955</td>\n",
       "    </tr>\n",
       "    <tr>\n",
       "      <th>low</th>\n",
       "      <td>0.343341</td>\n",
       "      <td>0.343341</td>\n",
       "    </tr>\n",
       "    <tr>\n",
       "      <th>medium</th>\n",
       "      <td>0.361705</td>\n",
       "      <td>0.361705</td>\n",
       "    </tr>\n",
       "  </tbody>\n",
       "</table>\n",
       "</div>"
      ],
      "text/plain": [
       "                id  disclosed\n",
       "severity                     \n",
       "high      0.294955   0.294955\n",
       "low       0.343341   0.343341\n",
       "medium    0.361705   0.361705"
      ]
     },
     "execution_count": 38,
     "metadata": {},
     "output_type": "execute_result"
    }
   ],
   "source": [
    "df_tmp=vulnerabilities.query('affected==\"True\"')[['id','disclosed','severity']]\n",
    "df_tmp['disclosed']=df_tmp['disclosed'].apply(lambda x: x.split(',')[1])\n",
    "df_tmp.groupby('severity').count()/len(vulnerabilities.query('affected==\"True\"'))"
   ]
  },
  {
   "cell_type": "code",
   "execution_count": 39,
   "metadata": {},
   "outputs": [
    {
     "name": "stdout",
     "output_type": "stream",
     "text": [
      "16.602497398543186 10.0\n"
     ]
    }
   ],
   "source": [
    "df_tmp=vulnerabilities.query('affected==\"True\"').groupby(['tag']).count()\n",
    "print(df_tmp.package.mean(),df_tmp.package.median())"
   ]
  },
  {
   "cell_type": "code",
   "execution_count": 40,
   "metadata": {},
   "outputs": [
    {
     "name": "stdout",
     "output_type": "stream",
     "text": [
      "low 0.34339229968782514 0.36363636363636365\n",
      "medium 0.3617592116645562 0.36363636363636365\n",
      "high 0.29499893434299107 0.2727272727272727\n"
     ]
    }
   ],
   "source": [
    "df_tmp=vulnerabilities.query('affected==\"True\"').groupby(['tag','severity']).count()\n",
    "for x in ['low','medium','high']:\n",
    "    print(x, df_tmp.query('severity==\"'+x+'\"').package.mean()/16.6,df_tmp.query('severity==\"'+x+'\"').package.median()/11)"
   ]
  },
  {
   "cell_type": "code",
   "execution_count": 41,
   "metadata": {},
   "outputs": [
    {
     "data": {
      "text/html": [
       "<div>\n",
       "<style scoped>\n",
       "    .dataframe tbody tr th:only-of-type {\n",
       "        vertical-align: middle;\n",
       "    }\n",
       "\n",
       "    .dataframe tbody tr th {\n",
       "        vertical-align: top;\n",
       "    }\n",
       "\n",
       "    .dataframe thead th {\n",
       "        text-align: right;\n",
       "    }\n",
       "</style>\n",
       "<table border=\"1\" class=\"dataframe\">\n",
       "  <thead>\n",
       "    <tr style=\"text-align: right;\">\n",
       "      <th></th>\n",
       "      <th>created</th>\n",
       "      <th>severity</th>\n",
       "      <th>tag</th>\n",
       "      <th>base-os</th>\n",
       "      <th>ts</th>\n",
       "    </tr>\n",
       "  </thead>\n",
       "  <tbody>\n",
       "    <tr>\n",
       "      <th>2878</th>\n",
       "      <td>2018-03-01</td>\n",
       "      <td>medium</td>\n",
       "      <td>node:9-onbuild</td>\n",
       "      <td>3</td>\n",
       "      <td>1519862400</td>\n",
       "    </tr>\n",
       "    <tr>\n",
       "      <th>2879</th>\n",
       "      <td>2018-03-01</td>\n",
       "      <td>medium</td>\n",
       "      <td>node:9-slim</td>\n",
       "      <td>3</td>\n",
       "      <td>1519862400</td>\n",
       "    </tr>\n",
       "    <tr>\n",
       "      <th>2880</th>\n",
       "      <td>2018-03-01</td>\n",
       "      <td>medium</td>\n",
       "      <td>node:9-stretch</td>\n",
       "      <td>3</td>\n",
       "      <td>1519862400</td>\n",
       "    </tr>\n",
       "    <tr>\n",
       "      <th>2881</th>\n",
       "      <td>2018-03-01</td>\n",
       "      <td>medium</td>\n",
       "      <td>node:9-wheezy</td>\n",
       "      <td>3</td>\n",
       "      <td>1519862400</td>\n",
       "    </tr>\n",
       "    <tr>\n",
       "      <th>2882</th>\n",
       "      <td>2018-03-01</td>\n",
       "      <td>medium</td>\n",
       "      <td>node:chakracore</td>\n",
       "      <td>3</td>\n",
       "      <td>1519862400</td>\n",
       "    </tr>\n",
       "  </tbody>\n",
       "</table>\n",
       "</div>"
      ],
      "text/plain": [
       "        created severity              tag  base-os          ts\n",
       "2878 2018-03-01   medium   node:9-onbuild        3  1519862400\n",
       "2879 2018-03-01   medium      node:9-slim        3  1519862400\n",
       "2880 2018-03-01   medium   node:9-stretch        3  1519862400\n",
       "2881 2018-03-01   medium    node:9-wheezy        3  1519862400\n",
       "2882 2018-03-01   medium  node:chakracore        3  1519862400"
      ]
     },
     "execution_count": 41,
     "metadata": {},
     "output_type": "execute_result"
    }
   ],
   "source": [
    "df_tmp=vulnerabilities.query('affected==\"True\"')[['created','base_os','severity','tag']]\n",
    "df_tmp=df_tmp.groupby(['created','severity','tag']).count().reset_index()\n",
    "df_tmp['created']=df_tmp['created'].apply(lambda x: x.split('-')[0]+'-'+x.split('-')[1])\n",
    "df_tmp['created']=pd.to_datetime(df_tmp['created'])\n",
    "df_tmp = df_tmp.query('created > \"2014-06-01\"')\n",
    "df_tmp['ts'] = df_tmp.created.values.astype(np.int64) // 10 ** 9\n",
    "plt.rcParams['text.usetex'] = True\n",
    "df_tmp.rename(columns={'base_os':'base-os'}, inplace=True)\n",
    "df_tmp.tail()"
   ]
  },
  {
   "cell_type": "code",
   "execution_count": 56,
   "metadata": {},
   "outputs": [],
   "source": [
    "df_tmp['created2'] =  df_tmp['created'].apply(str)"
   ]
  },
  {
   "cell_type": "code",
   "execution_count": 64,
   "metadata": {},
   "outputs": [
    {
     "data": {
      "text/plain": [
       "3      2014-08-01\n",
       "9      2014-09-01\n",
       "15     2014-10-01\n",
       "30     2014-12-01\n",
       "48     2015-01-01\n",
       "75     2015-02-01\n",
       "87     2015-03-01\n",
       "138    2015-05-01\n",
       "162    2015-06-01\n",
       "201    2015-07-01\n",
       "222    2015-08-01\n",
       "243    2015-09-01\n",
       "279    2015-10-01\n",
       "315    2015-11-01\n",
       "390    2015-12-01\n",
       "444    2016-01-01\n",
       "546    2016-02-01\n",
       "585    2016-03-01\n",
       "756    2016-04-01\n",
       "810    2016-05-01\n",
       "915    2016-06-01\n",
       "999    2016-07-01\n",
       "1035   2016-08-01\n",
       "1077   2016-09-01\n",
       "1176   2016-10-01\n",
       "1215   2016-11-01\n",
       "1311   2016-12-01\n",
       "1398   2017-01-01\n",
       "1473   2017-02-01\n",
       "1527   2017-03-01\n",
       "1680   2017-04-01\n",
       "1743   2017-05-01\n",
       "1779   2017-06-01\n",
       "1866   2017-07-01\n",
       "1941   2017-08-01\n",
       "2064   2017-09-01\n",
       "2157   2017-10-01\n",
       "2298   2017-11-01\n",
       "2472   2017-12-01\n",
       "2604   2018-01-01\n",
       "2625   2018-02-01\n",
       "2736   2018-03-01\n",
       "Name: created, dtype: datetime64[ns]"
      ]
     },
     "execution_count": 64,
     "metadata": {},
     "output_type": "execute_result"
    }
   ],
   "source": [
    "df_tmp.created.drop_duplicates()"
   ]
  },
  {
   "cell_type": "code",
   "execution_count": 69,
   "metadata": {},
   "outputs": [
    {
     "data": {
      "image/png": "[encoded data removed]",
      "text/plain": [
       "<Figure size 864x216 with 1 Axes>"
      ]
     },
     "metadata": {
      "needs_background": "light"
     },
     "output_type": "display_data"
    }
   ],
   "source": [
    "order= ['low','medium','high']\n",
    "ax = sns.lmplot(x=\"ts\", y='base-os', markers=[\"+\", 'o','x'], hue=\"severity\", \n",
    "                palette=['green','blue','red'], data=df_tmp.query('created2>\"2014-05\"'), legend='', size=8,\n",
    "                hue_order=order,scatter_kws={\"s\": 10},)\n",
    "ax.set(xlabel=\"Image last update \", ylabel='Vulnerabilities')\n",
    "ax.fig.set_size_inches(12,3)\n",
    "ax.fig.legend(loc='upper right', bbox_to_anchor=(0.71, 1.4), ncol=3, fontsize=20, fancybox=True, shadow=True)# ,ncol=3)\n",
    "\n",
    "ax = plt.gca()\n",
    "xticks = ax.get_xticks()\n",
    "xticks_dates = [datetime.fromtimestamp(x).strftime('%Y-%m') for x in xticks]\n",
    "ax.set_xticklabels(xticks_dates)\n",
    "plt.xticks(rotation=45)\n",
    "#ax.set_xlim(1406851200, 1599862400)\n",
    "ax.set_ylim(0,20)\n",
    "ax.figure.savefig('../../../thesis/Figs/docker/vuls_violin.pdf', bbox_inches='tight', facecolor='white')"
   ]
  },
  {
   "cell_type": "code",
   "execution_count": 59,
   "metadata": {},
   "outputs": [
    {
     "name": "stdout",
     "output_type": "stream",
     "text": [
      "low (0.16148917383109529, 4.8357782767682363e-07)\n",
      "medium (-0.74831193940546248, 3.853699019840954e-173)\n",
      "high (-0.28520049249117735, 1.9217135681021981e-19)\n",
      "all (-0.17738403877171974, 8.2746919167522004e-22)\n"
     ]
    }
   ],
   "source": [
    "for x in ['low','medium','high']:\n",
    "    print(x, scipy.stats.pearsonr(df_tmp.query('severity==\"'+x+'\"')['base_os'],\n",
    "                                  df_tmp.query('severity==\"'+x+'\"')['ts']))\n",
    "print('all', scipy.stats.pearsonr(df_tmp['base_os'],\n",
    "                              df_tmp['ts']))"
   ]
  },
  {
   "cell_type": "code",
   "execution_count": 60,
   "metadata": {},
   "outputs": [
    {
     "name": "stdout",
     "output_type": "stream",
     "text": [
      "low SpearmanrResult(correlation=-0.25525697974307493, pvalue=9.2698623554122385e-16)\n",
      "medium SpearmanrResult(correlation=-0.8156752825712742, pvalue=3.5917514241463405e-230)\n",
      "high SpearmanrResult(correlation=-0.58624243388060238, pvalue=8.8893409569714333e-90)\n",
      "all SpearmanrResult(correlation=-0.52111627845516828, pvalue=1.7028356910512968e-200)\n"
     ]
    }
   ],
   "source": [
    "for x in ['low','medium','high']:\n",
    "    print(x, scipy.stats.spearmanr(df_tmp.query('severity==\"'+x+'\"')['base_os'],\n",
    "                                  df_tmp.query('severity==\"'+x+'\"')['ts']))\n",
    "print('all', scipy.stats.spearmanr(df_tmp['base_os'],\n",
    "                              df_tmp['ts']))"
   ]
  },
  {
   "cell_type": "code",
   "execution_count": 50,
   "metadata": {},
   "outputs": [],
   "source": [
    "vulnerabilities['constraint']=vulnerabilities['versions'].apply(lambda x: x[0])"
   ]
  },
  {
   "cell_type": "code",
   "execution_count": 52,
   "metadata": {},
   "outputs": [
    {
     "data": {
      "text/html": [
       "<div>\n",
       "<style scoped>\n",
       "    .dataframe tbody tr th:only-of-type {\n",
       "        vertical-align: middle;\n",
       "    }\n",
       "\n",
       "    .dataframe tbody tr th {\n",
       "        vertical-align: top;\n",
       "    }\n",
       "\n",
       "    .dataframe thead th {\n",
       "        text-align: right;\n",
       "    }\n",
       "</style>\n",
       "<table border=\"1\" class=\"dataframe\">\n",
       "  <thead>\n",
       "    <tr style=\"text-align: right;\">\n",
       "      <th></th>\n",
       "      <th></th>\n",
       "      <th>id</th>\n",
       "    </tr>\n",
       "    <tr>\n",
       "      <th>severity</th>\n",
       "      <th>constraint</th>\n",
       "      <th></th>\n",
       "    </tr>\n",
       "  </thead>\n",
       "  <tbody>\n",
       "    <tr>\n",
       "      <th rowspan=\"3\" valign=\"top\">high</th>\n",
       "      <th>*</th>\n",
       "      <td>2</td>\n",
       "    </tr>\n",
       "    <tr>\n",
       "      <th>&lt;</th>\n",
       "      <td>26</td>\n",
       "    </tr>\n",
       "    <tr>\n",
       "      <th>&gt;</th>\n",
       "      <td>2</td>\n",
       "    </tr>\n",
       "    <tr>\n",
       "      <th rowspan=\"3\" valign=\"top\">low</th>\n",
       "      <th>*</th>\n",
       "      <td>1</td>\n",
       "    </tr>\n",
       "    <tr>\n",
       "      <th>&lt;</th>\n",
       "      <td>21</td>\n",
       "    </tr>\n",
       "    <tr>\n",
       "      <th>&gt;</th>\n",
       "      <td>1</td>\n",
       "    </tr>\n",
       "    <tr>\n",
       "      <th rowspan=\"2\" valign=\"top\">medium</th>\n",
       "      <th>*</th>\n",
       "      <td>2</td>\n",
       "    </tr>\n",
       "    <tr>\n",
       "      <th>&lt;</th>\n",
       "      <td>58</td>\n",
       "    </tr>\n",
       "  </tbody>\n",
       "</table>\n",
       "</div>"
      ],
      "text/plain": [
       "                     id\n",
       "severity constraint    \n",
       "high     *            2\n",
       "         <           26\n",
       "         >            2\n",
       "low      *            1\n",
       "         <           21\n",
       "         >            1\n",
       "medium   *            2\n",
       "         <           58"
      ]
     },
     "execution_count": 52,
     "metadata": {},
     "output_type": "execute_result"
    }
   ],
   "source": [
    "(vulnerabilities[['id','severity','constraint']]\n",
    " .drop_duplicates()\n",
    " .groupby(['severity','constraint']).\n",
    " count())"
   ]
  },
  {
   "cell_type": "code",
   "execution_count": 56,
   "metadata": {},
   "outputs": [
    {
     "data": {
      "text/plain": [
       "(-0.17738403877171974, 8.2746919167522004e-22)"
      ]
     },
     "execution_count": 56,
     "metadata": {},
     "output_type": "execute_result"
    }
   ],
   "source": [
    "scipy.stats.pearsonr(df_tmp['base_os'],df_tmp['ts'])"
   ]
  },
  {
   "cell_type": "code",
   "execution_count": 57,
   "metadata": {},
   "outputs": [
    {
     "data": {
      "text/plain": [
       "(-0.48542053162708909, 3.4929004379906876e-114)"
      ]
     },
     "execution_count": 57,
     "metadata": {},
     "output_type": "execute_result"
    }
   ],
   "source": [
    "scipy.stats.pearsonr(df_tmp.query('severity!=\"low\"')['base_os'],df_tmp.query('severity!=\"low\"')['ts'])"
   ]
  },
  {
   "cell_type": "code",
   "execution_count": 103,
   "metadata": {
    "scrolled": true
   },
   "outputs": [
    {
     "data": {
      "text/plain": [
       "961"
      ]
     },
     "execution_count": 103,
     "metadata": {},
     "output_type": "execute_result"
    }
   ],
   "source": [
    "len(vulnerabilities.query('affected==\"True\"').groupby(['tag']).count())"
   ]
  },
  {
   "cell_type": "code",
   "execution_count": 123,
   "metadata": {},
   "outputs": [
    {
     "data": {
      "text/plain": [
       "52"
      ]
     },
     "execution_count": 123,
     "metadata": {},
     "output_type": "execute_result"
    }
   ],
   "source": [
    "vulnerabilities.query('affected==\"True\"').package.drop_duplicates().size"
   ]
  },
  {
   "cell_type": "code",
   "execution_count": 117,
   "metadata": {},
   "outputs": [
    {
     "data": {
      "text/html": [
       "<div>\n",
       "<style scoped>\n",
       "    .dataframe tbody tr th:only-of-type {\n",
       "        vertical-align: middle;\n",
       "    }\n",
       "\n",
       "    .dataframe tbody tr th {\n",
       "        vertical-align: top;\n",
       "    }\n",
       "\n",
       "    .dataframe thead th {\n",
       "        text-align: right;\n",
       "    }\n",
       "</style>\n",
       "<table border=\"1\" class=\"dataframe\">\n",
       "  <thead>\n",
       "    <tr style=\"text-align: right;\">\n",
       "      <th></th>\n",
       "      <th>tag</th>\n",
       "    </tr>\n",
       "    <tr>\n",
       "      <th>name</th>\n",
       "      <th></th>\n",
       "    </tr>\n",
       "  </thead>\n",
       "  <tbody>\n",
       "    <tr>\n",
       "      <th>Multiple Content Injection Vulnerabilities</th>\n",
       "      <td>1</td>\n",
       "    </tr>\n",
       "    <tr>\n",
       "      <th>VBScript Content Injection</th>\n",
       "      <td>1</td>\n",
       "    </tr>\n",
       "    <tr>\n",
       "      <th>Cross-site Scripting (XSS) via Data URIs</th>\n",
       "      <td>1</td>\n",
       "    </tr>\n",
       "    <tr>\n",
       "      <th>Content &amp; Code Injection (XSS)</th>\n",
       "      <td>1</td>\n",
       "    </tr>\n",
       "    <tr>\n",
       "      <th>Denial of Service (Memory Exhaustion)</th>\n",
       "      <td>7</td>\n",
       "    </tr>\n",
       "    <tr>\n",
       "      <th>SQL Injection</th>\n",
       "      <td>7</td>\n",
       "    </tr>\n",
       "    <tr>\n",
       "      <th>Denial of Service (Event Loop Blocking)</th>\n",
       "      <td>7</td>\n",
       "    </tr>\n",
       "    <tr>\n",
       "      <th>Improper minification of non-boolean comparisons</th>\n",
       "      <td>9</td>\n",
       "    </tr>\n",
       "    <tr>\n",
       "      <th>Open Redirect</th>\n",
       "      <td>10</td>\n",
       "    </tr>\n",
       "    <tr>\n",
       "      <th>Buffer Overflow</th>\n",
       "      <td>11</td>\n",
       "    </tr>\n",
       "    <tr>\n",
       "      <th>Cross-site Scripting (XSS)</th>\n",
       "      <td>13</td>\n",
       "    </tr>\n",
       "    <tr>\n",
       "      <th>Unauthorized SSL Connection due to lack of cert authentication</th>\n",
       "      <td>18</td>\n",
       "    </tr>\n",
       "    <tr>\n",
       "      <th>Command Injection</th>\n",
       "      <td>43</td>\n",
       "    </tr>\n",
       "    <tr>\n",
       "      <th>Denial of Service (DoS)</th>\n",
       "      <td>57</td>\n",
       "    </tr>\n",
       "    <tr>\n",
       "      <th>Arbitrary Code Execution</th>\n",
       "      <td>61</td>\n",
       "    </tr>\n",
       "    <tr>\n",
       "      <th>Arbitrary Code Injection</th>\n",
       "      <td>63</td>\n",
       "    </tr>\n",
       "    <tr>\n",
       "      <th>Insecure Randomness</th>\n",
       "      <td>217</td>\n",
       "    </tr>\n",
       "    <tr>\n",
       "      <th>Timing Attack</th>\n",
       "      <td>217</td>\n",
       "    </tr>\n",
       "    <tr>\n",
       "      <th>Symlink File Overwrite</th>\n",
       "      <td>217</td>\n",
       "    </tr>\n",
       "    <tr>\n",
       "      <th>Remote Memory Exposure</th>\n",
       "      <td>237</td>\n",
       "    </tr>\n",
       "    <tr>\n",
       "      <th>npm Token Leak</th>\n",
       "      <td>273</td>\n",
       "    </tr>\n",
       "    <tr>\n",
       "      <th>Regular Expression Denial of Service (DoS)</th>\n",
       "      <td>465</td>\n",
       "    </tr>\n",
       "    <tr>\n",
       "      <th>Prototype Override Protection Bypass</th>\n",
       "      <td>762</td>\n",
       "    </tr>\n",
       "    <tr>\n",
       "      <th>Prototype Pollution</th>\n",
       "      <td>961</td>\n",
       "    </tr>\n",
       "    <tr>\n",
       "      <th>Uninitialized Memory Exposure</th>\n",
       "      <td>961</td>\n",
       "    </tr>\n",
       "    <tr>\n",
       "      <th>Regular Expression Denial of Service (ReDoS)</th>\n",
       "      <td>961</td>\n",
       "    </tr>\n",
       "    <tr>\n",
       "      <th>Access Restriction Bypass</th>\n",
       "      <td>961</td>\n",
       "    </tr>\n",
       "  </tbody>\n",
       "</table>\n",
       "</div>"
      ],
      "text/plain": [
       "                                                    tag\n",
       "name                                                   \n",
       "Multiple Content Injection Vulnerabilities            1\n",
       "VBScript Content Injection                            1\n",
       "Cross-site Scripting (XSS) via Data URIs              1\n",
       "Content & Code Injection (XSS)                        1\n",
       "Denial of Service (Memory Exhaustion)                 7\n",
       "SQL Injection                                         7\n",
       "Denial of Service (Event Loop Blocking)               7\n",
       "Improper minification of non-boolean comparisons      9\n",
       "Open Redirect                                        10\n",
       "Buffer Overflow                                      11\n",
       "Cross-site Scripting (XSS)                           13\n",
       "Unauthorized SSL Connection due to lack of cert...   18\n",
       "Command Injection                                    43\n",
       "Denial of Service (DoS)                              57\n",
       "Arbitrary Code Execution                             61\n",
       "Arbitrary Code Injection                             63\n",
       "Insecure Randomness                                 217\n",
       "Timing Attack                                       217\n",
       "Symlink File Overwrite                              217\n",
       "Remote Memory Exposure                              237\n",
       "npm Token Leak                                      273\n",
       "Regular Expression Denial of Service (DoS)          465\n",
       "Prototype Override Protection Bypass                762\n",
       "Prototype Pollution                                 961\n",
       "Uninitialized Memory Exposure                       961\n",
       "Regular Expression Denial of Service (ReDoS)        961\n",
       "Access Restriction Bypass                           961"
      ]
     },
     "execution_count": 117,
     "metadata": {},
     "output_type": "execute_result"
    }
   ],
   "source": [
    "a=vulnerabilities.query('affected==\"True\"')[['name','tag']].drop_duplicates()\n",
    "a.groupby(['name']).count().sort_values('tag')"
   ]
  },
  {
   "cell_type": "code",
   "execution_count": 122,
   "metadata": {},
   "outputs": [
    {
     "data": {
      "text/html": [
       "<div>\n",
       "<style scoped>\n",
       "    .dataframe tbody tr th:only-of-type {\n",
       "        vertical-align: middle;\n",
       "    }\n",
       "\n",
       "    .dataframe tbody tr th {\n",
       "        vertical-align: top;\n",
       "    }\n",
       "\n",
       "    .dataframe thead th {\n",
       "        text-align: right;\n",
       "    }\n",
       "</style>\n",
       "<table border=\"1\" class=\"dataframe\">\n",
       "  <thead>\n",
       "    <tr style=\"text-align: right;\">\n",
       "      <th></th>\n",
       "      <th>package</th>\n",
       "    </tr>\n",
       "    <tr>\n",
       "      <th>name</th>\n",
       "      <th></th>\n",
       "    </tr>\n",
       "  </thead>\n",
       "  <tbody>\n",
       "    <tr>\n",
       "      <th>Access Restriction Bypass</th>\n",
       "      <td>0.019231</td>\n",
       "    </tr>\n",
       "    <tr>\n",
       "      <th>Unauthorized SSL Connection due to lack of cert authentication</th>\n",
       "      <td>0.019231</td>\n",
       "    </tr>\n",
       "    <tr>\n",
       "      <th>Timing Attack</th>\n",
       "      <td>0.019231</td>\n",
       "    </tr>\n",
       "    <tr>\n",
       "      <th>Symlink File Overwrite</th>\n",
       "      <td>0.019231</td>\n",
       "    </tr>\n",
       "    <tr>\n",
       "      <th>SQL Injection</th>\n",
       "      <td>0.019231</td>\n",
       "    </tr>\n",
       "    <tr>\n",
       "      <th>Remote Memory Exposure</th>\n",
       "      <td>0.019231</td>\n",
       "    </tr>\n",
       "    <tr>\n",
       "      <th>Prototype Override Protection Bypass</th>\n",
       "      <td>0.019231</td>\n",
       "    </tr>\n",
       "    <tr>\n",
       "      <th>Open Redirect</th>\n",
       "      <td>0.019231</td>\n",
       "    </tr>\n",
       "    <tr>\n",
       "      <th>VBScript Content Injection</th>\n",
       "      <td>0.019231</td>\n",
       "    </tr>\n",
       "    <tr>\n",
       "      <th>Insecure Randomness</th>\n",
       "      <td>0.019231</td>\n",
       "    </tr>\n",
       "    <tr>\n",
       "      <th>Improper minification of non-boolean comparisons</th>\n",
       "      <td>0.019231</td>\n",
       "    </tr>\n",
       "    <tr>\n",
       "      <th>Multiple Content Injection Vulnerabilities</th>\n",
       "      <td>0.019231</td>\n",
       "    </tr>\n",
       "    <tr>\n",
       "      <th>Denial of Service (Event Loop Blocking)</th>\n",
       "      <td>0.019231</td>\n",
       "    </tr>\n",
       "    <tr>\n",
       "      <th>Denial of Service (DoS)</th>\n",
       "      <td>0.019231</td>\n",
       "    </tr>\n",
       "    <tr>\n",
       "      <th>Cross-site Scripting (XSS) via Data URIs</th>\n",
       "      <td>0.019231</td>\n",
       "    </tr>\n",
       "    <tr>\n",
       "      <th>Content &amp; Code Injection (XSS)</th>\n",
       "      <td>0.019231</td>\n",
       "    </tr>\n",
       "    <tr>\n",
       "      <th>Command Injection</th>\n",
       "      <td>0.019231</td>\n",
       "    </tr>\n",
       "    <tr>\n",
       "      <th>Buffer Overflow</th>\n",
       "      <td>0.019231</td>\n",
       "    </tr>\n",
       "    <tr>\n",
       "      <th>Arbitrary Code Injection</th>\n",
       "      <td>0.019231</td>\n",
       "    </tr>\n",
       "    <tr>\n",
       "      <th>Denial of Service (Memory Exhaustion)</th>\n",
       "      <td>0.019231</td>\n",
       "    </tr>\n",
       "    <tr>\n",
       "      <th>npm Token Leak</th>\n",
       "      <td>0.019231</td>\n",
       "    </tr>\n",
       "    <tr>\n",
       "      <th>Arbitrary Code Execution</th>\n",
       "      <td>0.038462</td>\n",
       "    </tr>\n",
       "    <tr>\n",
       "      <th>Cross-site Scripting (XSS)</th>\n",
       "      <td>0.076923</td>\n",
       "    </tr>\n",
       "    <tr>\n",
       "      <th>Prototype Pollution</th>\n",
       "      <td>0.076923</td>\n",
       "    </tr>\n",
       "    <tr>\n",
       "      <th>Regular Expression Denial of Service (DoS)</th>\n",
       "      <td>0.115385</td>\n",
       "    </tr>\n",
       "    <tr>\n",
       "      <th>Uninitialized Memory Exposure</th>\n",
       "      <td>0.134615</td>\n",
       "    </tr>\n",
       "    <tr>\n",
       "      <th>Regular Expression Denial of Service (ReDoS)</th>\n",
       "      <td>0.442308</td>\n",
       "    </tr>\n",
       "  </tbody>\n",
       "</table>\n",
       "</div>"
      ],
      "text/plain": [
       "                                                     package\n",
       "name                                                        \n",
       "Access Restriction Bypass                           0.019231\n",
       "Unauthorized SSL Connection due to lack of cert...  0.019231\n",
       "Timing Attack                                       0.019231\n",
       "Symlink File Overwrite                              0.019231\n",
       "SQL Injection                                       0.019231\n",
       "Remote Memory Exposure                              0.019231\n",
       "Prototype Override Protection Bypass                0.019231\n",
       "Open Redirect                                       0.019231\n",
       "VBScript Content Injection                          0.019231\n",
       "Insecure Randomness                                 0.019231\n",
       "Improper minification of non-boolean comparisons    0.019231\n",
       "Multiple Content Injection Vulnerabilities          0.019231\n",
       "Denial of Service (Event Loop Blocking)             0.019231\n",
       "Denial of Service (DoS)                             0.019231\n",
       "Cross-site Scripting (XSS) via Data URIs            0.019231\n",
       "Content & Code Injection (XSS)                      0.019231\n",
       "Command Injection                                   0.019231\n",
       "Buffer Overflow                                     0.019231\n",
       "Arbitrary Code Injection                            0.019231\n",
       "Denial of Service (Memory Exhaustion)               0.019231\n",
       "npm Token Leak                                      0.019231\n",
       "Arbitrary Code Execution                            0.038462\n",
       "Cross-site Scripting (XSS)                          0.076923\n",
       "Prototype Pollution                                 0.076923\n",
       "Regular Expression Denial of Service (DoS)          0.115385\n",
       "Uninitialized Memory Exposure                       0.134615\n",
       "Regular Expression Denial of Service (ReDoS)        0.442308"
      ]
     },
     "execution_count": 122,
     "metadata": {},
     "output_type": "execute_result"
    }
   ],
   "source": [
    "a=vulnerabilities.query('affected==\"True\"')[['name','package']].drop_duplicates()\n",
    "a.groupby(['name']).count().sort_values('package')/len(a.package.drop_duplicates())"
   ]
  },
  {
   "cell_type": "code",
   "execution_count": 126,
   "metadata": {},
   "outputs": [
    {
     "data": {
      "text/html": [
       "<div>\n",
       "<style scoped>\n",
       "    .dataframe tbody tr th:only-of-type {\n",
       "        vertical-align: middle;\n",
       "    }\n",
       "\n",
       "    .dataframe tbody tr th {\n",
       "        vertical-align: top;\n",
       "    }\n",
       "\n",
       "    .dataframe thead th {\n",
       "        text-align: right;\n",
       "    }\n",
       "</style>\n",
       "<table border=\"1\" class=\"dataframe\">\n",
       "  <thead>\n",
       "    <tr style=\"text-align: right;\">\n",
       "      <th></th>\n",
       "      <th>name</th>\n",
       "      <th>package</th>\n",
       "    </tr>\n",
       "  </thead>\n",
       "  <tbody>\n",
       "    <tr>\n",
       "      <th>25524</th>\n",
       "      <td>Prototype Override Protection Bypass</td>\n",
       "      <td>qs</td>\n",
       "    </tr>\n",
       "  </tbody>\n",
       "</table>\n",
       "</div>"
      ],
      "text/plain": [
       "                                       name package\n",
       "25524  Prototype Override Protection Bypass      qs"
      ]
     },
     "execution_count": 126,
     "metadata": {},
     "output_type": "execute_result"
    }
   ],
   "source": [
    "a.query('name==\"Prototype Override Protection Bypass\"')"
   ]
  },
  {
   "cell_type": "code",
   "execution_count": 105,
   "metadata": {},
   "outputs": [
    {
     "data": {
      "text/html": [
       "<div>\n",
       "<style scoped>\n",
       "    .dataframe tbody tr th:only-of-type {\n",
       "        vertical-align: middle;\n",
       "    }\n",
       "\n",
       "    .dataframe tbody tr th {\n",
       "        vertical-align: top;\n",
       "    }\n",
       "\n",
       "    .dataframe thead th {\n",
       "        text-align: right;\n",
       "    }\n",
       "</style>\n",
       "<table border=\"1\" class=\"dataframe\">\n",
       "  <thead>\n",
       "    <tr style=\"text-align: right;\">\n",
       "      <th></th>\n",
       "      <th>package</th>\n",
       "      <th>version</th>\n",
       "      <th>versions</th>\n",
       "      <th>tag</th>\n",
       "      <th>base_os</th>\n",
       "      <th>created</th>\n",
       "      <th>id</th>\n",
       "      <th>published</th>\n",
       "      <th>severity</th>\n",
       "      <th>disclosed</th>\n",
       "      <th>affected</th>\n",
       "    </tr>\n",
       "    <tr>\n",
       "      <th>name</th>\n",
       "      <th></th>\n",
       "      <th></th>\n",
       "      <th></th>\n",
       "      <th></th>\n",
       "      <th></th>\n",
       "      <th></th>\n",
       "      <th></th>\n",
       "      <th></th>\n",
       "      <th></th>\n",
       "      <th></th>\n",
       "      <th></th>\n",
       "    </tr>\n",
       "  </thead>\n",
       "  <tbody>\n",
       "    <tr>\n",
       "      <th>Multiple Content Injection Vulnerabilities</th>\n",
       "      <td>1</td>\n",
       "      <td>1</td>\n",
       "      <td>1</td>\n",
       "      <td>1</td>\n",
       "      <td>1</td>\n",
       "      <td>1</td>\n",
       "      <td>1</td>\n",
       "      <td>1</td>\n",
       "      <td>1</td>\n",
       "      <td>1</td>\n",
       "      <td>1</td>\n",
       "    </tr>\n",
       "    <tr>\n",
       "      <th>VBScript Content Injection</th>\n",
       "      <td>1</td>\n",
       "      <td>1</td>\n",
       "      <td>1</td>\n",
       "      <td>1</td>\n",
       "      <td>1</td>\n",
       "      <td>1</td>\n",
       "      <td>1</td>\n",
       "      <td>1</td>\n",
       "      <td>1</td>\n",
       "      <td>1</td>\n",
       "      <td>1</td>\n",
       "    </tr>\n",
       "    <tr>\n",
       "      <th>Cross-site Scripting (XSS) via Data URIs</th>\n",
       "      <td>1</td>\n",
       "      <td>1</td>\n",
       "      <td>1</td>\n",
       "      <td>1</td>\n",
       "      <td>1</td>\n",
       "      <td>1</td>\n",
       "      <td>1</td>\n",
       "      <td>1</td>\n",
       "      <td>1</td>\n",
       "      <td>1</td>\n",
       "      <td>1</td>\n",
       "    </tr>\n",
       "    <tr>\n",
       "      <th>Content &amp; Code Injection (XSS)</th>\n",
       "      <td>1</td>\n",
       "      <td>1</td>\n",
       "      <td>1</td>\n",
       "      <td>1</td>\n",
       "      <td>1</td>\n",
       "      <td>1</td>\n",
       "      <td>1</td>\n",
       "      <td>1</td>\n",
       "      <td>1</td>\n",
       "      <td>1</td>\n",
       "      <td>1</td>\n",
       "    </tr>\n",
       "    <tr>\n",
       "      <th>Denial of Service (Memory Exhaustion)</th>\n",
       "      <td>7</td>\n",
       "      <td>7</td>\n",
       "      <td>7</td>\n",
       "      <td>7</td>\n",
       "      <td>7</td>\n",
       "      <td>7</td>\n",
       "      <td>7</td>\n",
       "      <td>7</td>\n",
       "      <td>7</td>\n",
       "      <td>7</td>\n",
       "      <td>7</td>\n",
       "    </tr>\n",
       "    <tr>\n",
       "      <th>SQL Injection</th>\n",
       "      <td>7</td>\n",
       "      <td>7</td>\n",
       "      <td>7</td>\n",
       "      <td>7</td>\n",
       "      <td>7</td>\n",
       "      <td>7</td>\n",
       "      <td>7</td>\n",
       "      <td>7</td>\n",
       "      <td>7</td>\n",
       "      <td>7</td>\n",
       "      <td>7</td>\n",
       "    </tr>\n",
       "    <tr>\n",
       "      <th>Denial of Service (Event Loop Blocking)</th>\n",
       "      <td>7</td>\n",
       "      <td>7</td>\n",
       "      <td>7</td>\n",
       "      <td>7</td>\n",
       "      <td>7</td>\n",
       "      <td>7</td>\n",
       "      <td>7</td>\n",
       "      <td>7</td>\n",
       "      <td>7</td>\n",
       "      <td>7</td>\n",
       "      <td>7</td>\n",
       "    </tr>\n",
       "    <tr>\n",
       "      <th>Improper minification of non-boolean comparisons</th>\n",
       "      <td>9</td>\n",
       "      <td>9</td>\n",
       "      <td>9</td>\n",
       "      <td>9</td>\n",
       "      <td>9</td>\n",
       "      <td>9</td>\n",
       "      <td>9</td>\n",
       "      <td>9</td>\n",
       "      <td>9</td>\n",
       "      <td>9</td>\n",
       "      <td>9</td>\n",
       "    </tr>\n",
       "    <tr>\n",
       "      <th>Open Redirect</th>\n",
       "      <td>10</td>\n",
       "      <td>10</td>\n",
       "      <td>10</td>\n",
       "      <td>10</td>\n",
       "      <td>10</td>\n",
       "      <td>10</td>\n",
       "      <td>10</td>\n",
       "      <td>10</td>\n",
       "      <td>10</td>\n",
       "      <td>10</td>\n",
       "      <td>10</td>\n",
       "    </tr>\n",
       "    <tr>\n",
       "      <th>Buffer Overflow</th>\n",
       "      <td>11</td>\n",
       "      <td>11</td>\n",
       "      <td>11</td>\n",
       "      <td>11</td>\n",
       "      <td>11</td>\n",
       "      <td>11</td>\n",
       "      <td>11</td>\n",
       "      <td>11</td>\n",
       "      <td>11</td>\n",
       "      <td>11</td>\n",
       "      <td>11</td>\n",
       "    </tr>\n",
       "    <tr>\n",
       "      <th>Unauthorized SSL Connection due to lack of cert authentication</th>\n",
       "      <td>18</td>\n",
       "      <td>18</td>\n",
       "      <td>18</td>\n",
       "      <td>18</td>\n",
       "      <td>18</td>\n",
       "      <td>18</td>\n",
       "      <td>18</td>\n",
       "      <td>18</td>\n",
       "      <td>18</td>\n",
       "      <td>18</td>\n",
       "      <td>18</td>\n",
       "    </tr>\n",
       "    <tr>\n",
       "      <th>Cross-site Scripting (XSS)</th>\n",
       "      <td>18</td>\n",
       "      <td>18</td>\n",
       "      <td>18</td>\n",
       "      <td>18</td>\n",
       "      <td>18</td>\n",
       "      <td>18</td>\n",
       "      <td>18</td>\n",
       "      <td>18</td>\n",
       "      <td>18</td>\n",
       "      <td>18</td>\n",
       "      <td>18</td>\n",
       "    </tr>\n",
       "    <tr>\n",
       "      <th>Command Injection</th>\n",
       "      <td>43</td>\n",
       "      <td>43</td>\n",
       "      <td>43</td>\n",
       "      <td>43</td>\n",
       "      <td>43</td>\n",
       "      <td>43</td>\n",
       "      <td>43</td>\n",
       "      <td>43</td>\n",
       "      <td>43</td>\n",
       "      <td>43</td>\n",
       "      <td>43</td>\n",
       "    </tr>\n",
       "    <tr>\n",
       "      <th>Arbitrary Code Injection</th>\n",
       "      <td>63</td>\n",
       "      <td>63</td>\n",
       "      <td>63</td>\n",
       "      <td>63</td>\n",
       "      <td>63</td>\n",
       "      <td>63</td>\n",
       "      <td>63</td>\n",
       "      <td>63</td>\n",
       "      <td>63</td>\n",
       "      <td>63</td>\n",
       "      <td>63</td>\n",
       "    </tr>\n",
       "    <tr>\n",
       "      <th>Arbitrary Code Execution</th>\n",
       "      <td>77</td>\n",
       "      <td>77</td>\n",
       "      <td>77</td>\n",
       "      <td>77</td>\n",
       "      <td>77</td>\n",
       "      <td>77</td>\n",
       "      <td>77</td>\n",
       "      <td>77</td>\n",
       "      <td>77</td>\n",
       "      <td>77</td>\n",
       "      <td>77</td>\n",
       "    </tr>\n",
       "    <tr>\n",
       "      <th>Denial of Service (DoS)</th>\n",
       "      <td>94</td>\n",
       "      <td>94</td>\n",
       "      <td>94</td>\n",
       "      <td>94</td>\n",
       "      <td>94</td>\n",
       "      <td>94</td>\n",
       "      <td>94</td>\n",
       "      <td>94</td>\n",
       "      <td>94</td>\n",
       "      <td>94</td>\n",
       "      <td>94</td>\n",
       "    </tr>\n",
       "    <tr>\n",
       "      <th>Insecure Randomness</th>\n",
       "      <td>218</td>\n",
       "      <td>218</td>\n",
       "      <td>218</td>\n",
       "      <td>218</td>\n",
       "      <td>218</td>\n",
       "      <td>218</td>\n",
       "      <td>218</td>\n",
       "      <td>218</td>\n",
       "      <td>218</td>\n",
       "      <td>218</td>\n",
       "      <td>218</td>\n",
       "    </tr>\n",
       "    <tr>\n",
       "      <th>Timing Attack</th>\n",
       "      <td>219</td>\n",
       "      <td>219</td>\n",
       "      <td>219</td>\n",
       "      <td>219</td>\n",
       "      <td>219</td>\n",
       "      <td>219</td>\n",
       "      <td>219</td>\n",
       "      <td>219</td>\n",
       "      <td>219</td>\n",
       "      <td>219</td>\n",
       "      <td>219</td>\n",
       "    </tr>\n",
       "    <tr>\n",
       "      <th>Symlink File Overwrite</th>\n",
       "      <td>227</td>\n",
       "      <td>227</td>\n",
       "      <td>227</td>\n",
       "      <td>227</td>\n",
       "      <td>227</td>\n",
       "      <td>227</td>\n",
       "      <td>227</td>\n",
       "      <td>227</td>\n",
       "      <td>227</td>\n",
       "      <td>227</td>\n",
       "      <td>227</td>\n",
       "    </tr>\n",
       "    <tr>\n",
       "      <th>Remote Memory Exposure</th>\n",
       "      <td>249</td>\n",
       "      <td>249</td>\n",
       "      <td>249</td>\n",
       "      <td>249</td>\n",
       "      <td>249</td>\n",
       "      <td>249</td>\n",
       "      <td>249</td>\n",
       "      <td>249</td>\n",
       "      <td>249</td>\n",
       "      <td>249</td>\n",
       "      <td>249</td>\n",
       "    </tr>\n",
       "    <tr>\n",
       "      <th>npm Token Leak</th>\n",
       "      <td>273</td>\n",
       "      <td>273</td>\n",
       "      <td>273</td>\n",
       "      <td>273</td>\n",
       "      <td>273</td>\n",
       "      <td>273</td>\n",
       "      <td>273</td>\n",
       "      <td>273</td>\n",
       "      <td>273</td>\n",
       "      <td>273</td>\n",
       "      <td>273</td>\n",
       "    </tr>\n",
       "    <tr>\n",
       "      <th>Access Restriction Bypass</th>\n",
       "      <td>961</td>\n",
       "      <td>961</td>\n",
       "      <td>961</td>\n",
       "      <td>961</td>\n",
       "      <td>961</td>\n",
       "      <td>961</td>\n",
       "      <td>961</td>\n",
       "      <td>961</td>\n",
       "      <td>961</td>\n",
       "      <td>961</td>\n",
       "      <td>961</td>\n",
       "    </tr>\n",
       "    <tr>\n",
       "      <th>Prototype Override Protection Bypass</th>\n",
       "      <td>1045</td>\n",
       "      <td>1045</td>\n",
       "      <td>1045</td>\n",
       "      <td>1045</td>\n",
       "      <td>1045</td>\n",
       "      <td>1045</td>\n",
       "      <td>1045</td>\n",
       "      <td>1045</td>\n",
       "      <td>1045</td>\n",
       "      <td>1045</td>\n",
       "      <td>1045</td>\n",
       "    </tr>\n",
       "    <tr>\n",
       "      <th>Regular Expression Denial of Service (DoS)</th>\n",
       "      <td>1515</td>\n",
       "      <td>1515</td>\n",
       "      <td>1515</td>\n",
       "      <td>1515</td>\n",
       "      <td>1515</td>\n",
       "      <td>1515</td>\n",
       "      <td>1515</td>\n",
       "      <td>1515</td>\n",
       "      <td>1515</td>\n",
       "      <td>1515</td>\n",
       "      <td>1515</td>\n",
       "    </tr>\n",
       "    <tr>\n",
       "      <th>Uninitialized Memory Exposure</th>\n",
       "      <td>1759</td>\n",
       "      <td>1759</td>\n",
       "      <td>1759</td>\n",
       "      <td>1759</td>\n",
       "      <td>1759</td>\n",
       "      <td>1759</td>\n",
       "      <td>1759</td>\n",
       "      <td>1759</td>\n",
       "      <td>1759</td>\n",
       "      <td>1759</td>\n",
       "      <td>1759</td>\n",
       "    </tr>\n",
       "    <tr>\n",
       "      <th>Prototype Pollution</th>\n",
       "      <td>1988</td>\n",
       "      <td>1988</td>\n",
       "      <td>1988</td>\n",
       "      <td>1988</td>\n",
       "      <td>1988</td>\n",
       "      <td>1988</td>\n",
       "      <td>1988</td>\n",
       "      <td>1988</td>\n",
       "      <td>1988</td>\n",
       "      <td>1988</td>\n",
       "      <td>1988</td>\n",
       "    </tr>\n",
       "    <tr>\n",
       "      <th>Regular Expression Denial of Service (ReDoS)</th>\n",
       "      <td>7133</td>\n",
       "      <td>7133</td>\n",
       "      <td>7133</td>\n",
       "      <td>7133</td>\n",
       "      <td>7133</td>\n",
       "      <td>7133</td>\n",
       "      <td>7133</td>\n",
       "      <td>7133</td>\n",
       "      <td>7133</td>\n",
       "      <td>7133</td>\n",
       "      <td>7133</td>\n",
       "    </tr>\n",
       "  </tbody>\n",
       "</table>\n",
       "</div>"
      ],
      "text/plain": [
       "                                                    package  version  \\\n",
       "name                                                                   \n",
       "Multiple Content Injection Vulnerabilities                1        1   \n",
       "VBScript Content Injection                                1        1   \n",
       "Cross-site Scripting (XSS) via Data URIs                  1        1   \n",
       "Content & Code Injection (XSS)                            1        1   \n",
       "Denial of Service (Memory Exhaustion)                     7        7   \n",
       "SQL Injection                                             7        7   \n",
       "Denial of Service (Event Loop Blocking)                   7        7   \n",
       "Improper minification of non-boolean comparisons          9        9   \n",
       "Open Redirect                                            10       10   \n",
       "Buffer Overflow                                          11       11   \n",
       "Unauthorized SSL Connection due to lack of cert...       18       18   \n",
       "Cross-site Scripting (XSS)                               18       18   \n",
       "Command Injection                                        43       43   \n",
       "Arbitrary Code Injection                                 63       63   \n",
       "Arbitrary Code Execution                                 77       77   \n",
       "Denial of Service (DoS)                                  94       94   \n",
       "Insecure Randomness                                     218      218   \n",
       "Timing Attack                                           219      219   \n",
       "Symlink File Overwrite                                  227      227   \n",
       "Remote Memory Exposure                                  249      249   \n",
       "npm Token Leak                                          273      273   \n",
       "Access Restriction Bypass                               961      961   \n",
       "Prototype Override Protection Bypass                   1045     1045   \n",
       "Regular Expression Denial of Service (DoS)             1515     1515   \n",
       "Uninitialized Memory Exposure                          1759     1759   \n",
       "Prototype Pollution                                    1988     1988   \n",
       "Regular Expression Denial of Service (ReDoS)           7133     7133   \n",
       "\n",
       "                                                    versions   tag  base_os  \\\n",
       "name                                                                          \n",
       "Multiple Content Injection Vulnerabilities                 1     1        1   \n",
       "VBScript Content Injection                                 1     1        1   \n",
       "Cross-site Scripting (XSS) via Data URIs                   1     1        1   \n",
       "Content & Code Injection (XSS)                             1     1        1   \n",
       "Denial of Service (Memory Exhaustion)                      7     7        7   \n",
       "SQL Injection                                              7     7        7   \n",
       "Denial of Service (Event Loop Blocking)                    7     7        7   \n",
       "Improper minification of non-boolean comparisons           9     9        9   \n",
       "Open Redirect                                             10    10       10   \n",
       "Buffer Overflow                                           11    11       11   \n",
       "Unauthorized SSL Connection due to lack of cert...        18    18       18   \n",
       "Cross-site Scripting (XSS)                                18    18       18   \n",
       "Command Injection                                         43    43       43   \n",
       "Arbitrary Code Injection                                  63    63       63   \n",
       "Arbitrary Code Execution                                  77    77       77   \n",
       "Denial of Service (DoS)                                   94    94       94   \n",
       "Insecure Randomness                                      218   218      218   \n",
       "Timing Attack                                            219   219      219   \n",
       "Symlink File Overwrite                                   227   227      227   \n",
       "Remote Memory Exposure                                   249   249      249   \n",
       "npm Token Leak                                           273   273      273   \n",
       "Access Restriction Bypass                                961   961      961   \n",
       "Prototype Override Protection Bypass                    1045  1045     1045   \n",
       "Regular Expression Denial of Service (DoS)              1515  1515     1515   \n",
       "Uninitialized Memory Exposure                           1759  1759     1759   \n",
       "Prototype Pollution                                     1988  1988     1988   \n",
       "Regular Expression Denial of Service (ReDoS)            7133  7133     7133   \n",
       "\n",
       "                                                    created    id  published  \\\n",
       "name                                                                           \n",
       "Multiple Content Injection Vulnerabilities                1     1          1   \n",
       "VBScript Content Injection                                1     1          1   \n",
       "Cross-site Scripting (XSS) via Data URIs                  1     1          1   \n",
       "Content & Code Injection (XSS)                            1     1          1   \n",
       "Denial of Service (Memory Exhaustion)                     7     7          7   \n",
       "SQL Injection                                             7     7          7   \n",
       "Denial of Service (Event Loop Blocking)                   7     7          7   \n",
       "Improper minification of non-boolean comparisons          9     9          9   \n",
       "Open Redirect                                            10    10         10   \n",
       "Buffer Overflow                                          11    11         11   \n",
       "Unauthorized SSL Connection due to lack of cert...       18    18         18   \n",
       "Cross-site Scripting (XSS)                               18    18         18   \n",
       "Command Injection                                        43    43         43   \n",
       "Arbitrary Code Injection                                 63    63         63   \n",
       "Arbitrary Code Execution                                 77    77         77   \n",
       "Denial of Service (DoS)                                  94    94         94   \n",
       "Insecure Randomness                                     218   218        218   \n",
       "Timing Attack                                           219   219        219   \n",
       "Symlink File Overwrite                                  227   227        227   \n",
       "Remote Memory Exposure                                  249   249        249   \n",
       "npm Token Leak                                          273   273        273   \n",
       "Access Restriction Bypass                               961   961        961   \n",
       "Prototype Override Protection Bypass                   1045  1045       1045   \n",
       "Regular Expression Denial of Service (DoS)             1515  1515       1515   \n",
       "Uninitialized Memory Exposure                          1759  1759       1759   \n",
       "Prototype Pollution                                    1988  1988       1988   \n",
       "Regular Expression Denial of Service (ReDoS)           7133  7133       7133   \n",
       "\n",
       "                                                    severity  disclosed  \\\n",
       "name                                                                      \n",
       "Multiple Content Injection Vulnerabilities                 1          1   \n",
       "VBScript Content Injection                                 1          1   \n",
       "Cross-site Scripting (XSS) via Data URIs                   1          1   \n",
       "Content & Code Injection (XSS)                             1          1   \n",
       "Denial of Service (Memory Exhaustion)                      7          7   \n",
       "SQL Injection                                              7          7   \n",
       "Denial of Service (Event Loop Blocking)                    7          7   \n",
       "Improper minification of non-boolean comparisons           9          9   \n",
       "Open Redirect                                             10         10   \n",
       "Buffer Overflow                                           11         11   \n",
       "Unauthorized SSL Connection due to lack of cert...        18         18   \n",
       "Cross-site Scripting (XSS)                                18         18   \n",
       "Command Injection                                         43         43   \n",
       "Arbitrary Code Injection                                  63         63   \n",
       "Arbitrary Code Execution                                  77         77   \n",
       "Denial of Service (DoS)                                   94         94   \n",
       "Insecure Randomness                                      218        218   \n",
       "Timing Attack                                            219        219   \n",
       "Symlink File Overwrite                                   227        227   \n",
       "Remote Memory Exposure                                   249        249   \n",
       "npm Token Leak                                           273        273   \n",
       "Access Restriction Bypass                                961        961   \n",
       "Prototype Override Protection Bypass                    1045       1045   \n",
       "Regular Expression Denial of Service (DoS)              1515       1515   \n",
       "Uninitialized Memory Exposure                           1759       1759   \n",
       "Prototype Pollution                                     1988       1988   \n",
       "Regular Expression Denial of Service (ReDoS)            7133       7133   \n",
       "\n",
       "                                                    affected  \n",
       "name                                                          \n",
       "Multiple Content Injection Vulnerabilities                 1  \n",
       "VBScript Content Injection                                 1  \n",
       "Cross-site Scripting (XSS) via Data URIs                   1  \n",
       "Content & Code Injection (XSS)                             1  \n",
       "Denial of Service (Memory Exhaustion)                      7  \n",
       "SQL Injection                                              7  \n",
       "Denial of Service (Event Loop Blocking)                    7  \n",
       "Improper minification of non-boolean comparisons           9  \n",
       "Open Redirect                                             10  \n",
       "Buffer Overflow                                           11  \n",
       "Unauthorized SSL Connection due to lack of cert...        18  \n",
       "Cross-site Scripting (XSS)                                18  \n",
       "Command Injection                                         43  \n",
       "Arbitrary Code Injection                                  63  \n",
       "Arbitrary Code Execution                                  77  \n",
       "Denial of Service (DoS)                                   94  \n",
       "Insecure Randomness                                      218  \n",
       "Timing Attack                                            219  \n",
       "Symlink File Overwrite                                   227  \n",
       "Remote Memory Exposure                                   249  \n",
       "npm Token Leak                                           273  \n",
       "Access Restriction Bypass                                961  \n",
       "Prototype Override Protection Bypass                    1045  \n",
       "Regular Expression Denial of Service (DoS)              1515  \n",
       "Uninitialized Memory Exposure                           1759  \n",
       "Prototype Pollution                                     1988  \n",
       "Regular Expression Denial of Service (ReDoS)            7133  "
      ]
     },
     "execution_count": 105,
     "metadata": {},
     "output_type": "execute_result"
    }
   ],
   "source": [
    "vulnerabilities.query('affected==\"True\"').groupby(['name']).count().sort_values('package')"
   ]
  },
  {
   "cell_type": "code",
   "execution_count": 195,
   "metadata": {},
   "outputs": [
    {
     "data": {
      "text/html": [
       "<div>\n",
       "<style scoped>\n",
       "    .dataframe tbody tr th:only-of-type {\n",
       "        vertical-align: middle;\n",
       "    }\n",
       "\n",
       "    .dataframe tbody tr th {\n",
       "        vertical-align: top;\n",
       "    }\n",
       "\n",
       "    .dataframe thead th {\n",
       "        text-align: right;\n",
       "    }\n",
       "</style>\n",
       "<table border=\"1\" class=\"dataframe\">\n",
       "  <thead>\n",
       "    <tr style=\"text-align: right;\">\n",
       "      <th></th>\n",
       "      <th></th>\n",
       "      <th>id</th>\n",
       "    </tr>\n",
       "    <tr>\n",
       "      <th>name</th>\n",
       "      <th>severity</th>\n",
       "      <th></th>\n",
       "    </tr>\n",
       "  </thead>\n",
       "  <tbody>\n",
       "    <tr>\n",
       "      <th>Access Restriction Bypass</th>\n",
       "      <th>medium</th>\n",
       "      <td>1</td>\n",
       "    </tr>\n",
       "    <tr>\n",
       "      <th>Uninitialized Memory Exposure</th>\n",
       "      <th>low</th>\n",
       "      <td>1</td>\n",
       "    </tr>\n",
       "    <tr>\n",
       "      <th>Unauthorized SSL Connection due to lack of cert authentication</th>\n",
       "      <th>medium</th>\n",
       "      <td>1</td>\n",
       "    </tr>\n",
       "    <tr>\n",
       "      <th>Timing Attack</th>\n",
       "      <th>medium</th>\n",
       "      <td>1</td>\n",
       "    </tr>\n",
       "    <tr>\n",
       "      <th>Symlink File Overwrite</th>\n",
       "      <th>high</th>\n",
       "      <td>1</td>\n",
       "    </tr>\n",
       "    <tr>\n",
       "      <th>SQL Injection</th>\n",
       "      <th>medium</th>\n",
       "      <td>1</td>\n",
       "    </tr>\n",
       "    <tr>\n",
       "      <th>Remote Memory Exposure</th>\n",
       "      <th>medium</th>\n",
       "      <td>1</td>\n",
       "    </tr>\n",
       "    <tr>\n",
       "      <th>Regular Expression Denial of Service (DoS)</th>\n",
       "      <th>low</th>\n",
       "      <td>1</td>\n",
       "    </tr>\n",
       "    <tr>\n",
       "      <th>VBScript Content Injection</th>\n",
       "      <th>medium</th>\n",
       "      <td>1</td>\n",
       "    </tr>\n",
       "    <tr>\n",
       "      <th>Open Redirect</th>\n",
       "      <th>medium</th>\n",
       "      <td>1</td>\n",
       "    </tr>\n",
       "    <tr>\n",
       "      <th>Multiple Content Injection Vulnerabilities</th>\n",
       "      <th>medium</th>\n",
       "      <td>1</td>\n",
       "    </tr>\n",
       "    <tr>\n",
       "      <th>Insecure Randomness</th>\n",
       "      <th>medium</th>\n",
       "      <td>1</td>\n",
       "    </tr>\n",
       "    <tr>\n",
       "      <th>Prototype Override Protection Bypass</th>\n",
       "      <th>high</th>\n",
       "      <td>1</td>\n",
       "    </tr>\n",
       "    <tr>\n",
       "      <th>Denial of Service (Memory Exhaustion)</th>\n",
       "      <th>high</th>\n",
       "      <td>1</td>\n",
       "    </tr>\n",
       "    <tr>\n",
       "      <th>Arbitrary Code Injection</th>\n",
       "      <th>high</th>\n",
       "      <td>1</td>\n",
       "    </tr>\n",
       "    <tr>\n",
       "      <th>Buffer Overflow</th>\n",
       "      <th>medium</th>\n",
       "      <td>1</td>\n",
       "    </tr>\n",
       "    <tr>\n",
       "      <th>Command Injection</th>\n",
       "      <th>high</th>\n",
       "      <td>1</td>\n",
       "    </tr>\n",
       "    <tr>\n",
       "      <th>Content &amp; Code Injection (XSS)</th>\n",
       "      <th>high</th>\n",
       "      <td>1</td>\n",
       "    </tr>\n",
       "    <tr>\n",
       "      <th>Cross-site Scripting (XSS)</th>\n",
       "      <th>high</th>\n",
       "      <td>1</td>\n",
       "    </tr>\n",
       "    <tr>\n",
       "      <th>Improper minification of non-boolean comparisons</th>\n",
       "      <th>high</th>\n",
       "      <td>1</td>\n",
       "    </tr>\n",
       "    <tr>\n",
       "      <th>npm Token Leak</th>\n",
       "      <th>medium</th>\n",
       "      <td>1</td>\n",
       "    </tr>\n",
       "    <tr>\n",
       "      <th>Cross-site Scripting (XSS) via Data URIs</th>\n",
       "      <th>high</th>\n",
       "      <td>1</td>\n",
       "    </tr>\n",
       "    <tr>\n",
       "      <th>Denial of Service (DoS)</th>\n",
       "      <th>low</th>\n",
       "      <td>1</td>\n",
       "    </tr>\n",
       "    <tr>\n",
       "      <th>Denial of Service (Event Loop Blocking)</th>\n",
       "      <th>medium</th>\n",
       "      <td>1</td>\n",
       "    </tr>\n",
       "    <tr>\n",
       "      <th>Uninitialized Memory Exposure</th>\n",
       "      <th>high</th>\n",
       "      <td>2</td>\n",
       "    </tr>\n",
       "    <tr>\n",
       "      <th>Arbitrary Code Execution</th>\n",
       "      <th>high</th>\n",
       "      <td>2</td>\n",
       "    </tr>\n",
       "    <tr>\n",
       "      <th rowspan=\"2\" valign=\"top\">Regular Expression Denial of Service (DoS)</th>\n",
       "      <th>medium</th>\n",
       "      <td>2</td>\n",
       "    </tr>\n",
       "    <tr>\n",
       "      <th>high</th>\n",
       "      <td>3</td>\n",
       "    </tr>\n",
       "    <tr>\n",
       "      <th>Prototype Pollution</th>\n",
       "      <th>low</th>\n",
       "      <td>4</td>\n",
       "    </tr>\n",
       "    <tr>\n",
       "      <th>Uninitialized Memory Exposure</th>\n",
       "      <th>medium</th>\n",
       "      <td>4</td>\n",
       "    </tr>\n",
       "    <tr>\n",
       "      <th>Cross-site Scripting (XSS)</th>\n",
       "      <th>medium</th>\n",
       "      <td>5</td>\n",
       "    </tr>\n",
       "    <tr>\n",
       "      <th rowspan=\"3\" valign=\"top\">Regular Expression Denial of Service (ReDoS)</th>\n",
       "      <th>medium</th>\n",
       "      <td>7</td>\n",
       "    </tr>\n",
       "    <tr>\n",
       "      <th>high</th>\n",
       "      <td>10</td>\n",
       "    </tr>\n",
       "    <tr>\n",
       "      <th>low</th>\n",
       "      <td>11</td>\n",
       "    </tr>\n",
       "  </tbody>\n",
       "</table>\n",
       "</div>"
      ],
      "text/plain": [
       "                                                             id\n",
       "name                                               severity    \n",
       "Access Restriction Bypass                          medium     1\n",
       "Uninitialized Memory Exposure                      low        1\n",
       "Unauthorized SSL Connection due to lack of cert... medium     1\n",
       "Timing Attack                                      medium     1\n",
       "Symlink File Overwrite                             high       1\n",
       "SQL Injection                                      medium     1\n",
       "Remote Memory Exposure                             medium     1\n",
       "Regular Expression Denial of Service (DoS)         low        1\n",
       "VBScript Content Injection                         medium     1\n",
       "Open Redirect                                      medium     1\n",
       "Multiple Content Injection Vulnerabilities         medium     1\n",
       "Insecure Randomness                                medium     1\n",
       "Prototype Override Protection Bypass               high       1\n",
       "Denial of Service (Memory Exhaustion)              high       1\n",
       "Arbitrary Code Injection                           high       1\n",
       "Buffer Overflow                                    medium     1\n",
       "Command Injection                                  high       1\n",
       "Content & Code Injection (XSS)                     high       1\n",
       "Cross-site Scripting (XSS)                         high       1\n",
       "Improper minification of non-boolean comparisons   high       1\n",
       "npm Token Leak                                     medium     1\n",
       "Cross-site Scripting (XSS) via Data URIs           high       1\n",
       "Denial of Service (DoS)                            low        1\n",
       "Denial of Service (Event Loop Blocking)            medium     1\n",
       "Uninitialized Memory Exposure                      high       2\n",
       "Arbitrary Code Execution                           high       2\n",
       "Regular Expression Denial of Service (DoS)         medium     2\n",
       "                                                   high       3\n",
       "Prototype Pollution                                low        4\n",
       "Uninitialized Memory Exposure                      medium     4\n",
       "Cross-site Scripting (XSS)                         medium     5\n",
       "Regular Expression Denial of Service (ReDoS)       medium     7\n",
       "                                                   high      10\n",
       "                                                   low       11"
      ]
     },
     "execution_count": 195,
     "metadata": {},
     "output_type": "execute_result"
    }
   ],
   "source": [
    "(vulnerabilities.query('affected==\"True\"')[['id','name','severity']].\n",
    " drop_duplicates().groupby(['name','severity']).count().sort_values('id'))"
   ]
  },
  {
   "cell_type": "code",
   "execution_count": 234,
   "metadata": {},
   "outputs": [],
   "source": [
    "df_tmp0=technical_lag.query('version_lag_today!=\"0,0,0\"')[['tag','package']]\n",
    "#df_tmp0['created']=df_tmp0['created'].apply(lambda x: x.split('-')[0])\n",
    "df_tmp0=df_tmp0.groupby(['tag',]).count().reset_index()\n",
    "\n",
    "df_tmp1=vulnerabilities.query('affected==\"True\"')[['affected','tag','severity']]\n",
    "df_tmp1=df_tmp1.groupby(['tag','severity']).count().reset_index()"
   ]
  },
  {
   "cell_type": "code",
   "execution_count": 233,
   "metadata": {},
   "outputs": [
    {
     "data": {
      "text/plain": [
       "<matplotlib.legend.Legend at 0x7f7242e16c88>"
      ]
     },
     "execution_count": 233,
     "metadata": {},
     "output_type": "execute_result"
    },
    {
     "data": {
      "image/png": "[encoded data removed]",
      "text/plain": [
       "<matplotlib.figure.Figure at 0x7f7242e11940>"
      ]
     },
     "metadata": {},
     "output_type": "display_data"
    }
   ],
   "source": [
    "df_tmp=(df_tmp0.\n",
    "        merge(df_tmp1,\n",
    "              left_on=\"tag\",\n",
    "              right_on=\"tag\",\n",
    "              how='left')\n",
    "       )\n",
    "\n",
    "ax = sns.lmplot(x=\"package\", y='affected', markers=[\"+\", 'o','x'], hue=\"severity\", palette='muted', data=df_tmp, legend='', size=8)\n",
    "ax.set(xlabel=\"Container's last update year\", ylabel='Vulnerabilities')\n",
    "ax.fig.set_size_inches(9,3)\n",
    "ax.fig.legend(loc='upper right', bbox_to_anchor=(0.33, 1.3), fontsize=20, fancybox=True, shadow=True)# ,ncol=3)\n",
    "\n"
   ]
  },
  {
   "cell_type": "code",
   "execution_count": 236,
   "metadata": {},
   "outputs": [],
   "source": [
    "df_tmp0=technical_lag.query('version_lag_today!=\"0,0,0\"')[['tag','package','base_os']]\n",
    "#df_tmp0['created']=df_tmp0['created'].apply(lambda x: x.split('-')[0])\n",
    "df_tmp0=df_tmp0.groupby(['tag','base_os']).count().reset_index()\n",
    "\n",
    "df_tmp1=vulnerabilities.query('affected==\"True\"')[['affected','tag']]\n",
    "df_tmp1=df_tmp1.groupby(['tag']).count().reset_index()"
   ]
  },
  {
   "cell_type": "code",
   "execution_count": 237,
   "metadata": {},
   "outputs": [
    {
     "data": {
      "text/plain": [
       "<matplotlib.legend.Legend at 0x7f7242e08630>"
      ]
     },
     "execution_count": 237,
     "metadata": {},
     "output_type": "execute_result"
    },
    {
     "data": {
      "image/png": "[encoded data removed]",
      "text/plain": [
       "<matplotlib.figure.Figure at 0x7f7242d839b0>"
      ]
     },
     "metadata": {},
     "output_type": "display_data"
    }
   ],
   "source": [
    "df_tmp=(df_tmp0.\n",
    "        merge(df_tmp1,\n",
    "              left_on=\"tag\",\n",
    "              right_on=\"tag\",\n",
    "              how='left')\n",
    "       )\n",
    "\n",
    "ax = sns.lmplot(x=\"package\", y='affected', markers=[\"+\", 'o',], hue=\"base_os\", palette='muted', data=df_tmp, legend='', size=8)\n",
    "ax.set(xlabel=\"Container's last update year\", ylabel='Vulnerabilities')\n",
    "ax.fig.set_size_inches(9,3)\n",
    "ax.fig.legend(loc='upper right', bbox_to_anchor=(0.33, 1.3), fontsize=20, fancybox=True, shadow=True)# ,ncol=3)\n",
    "\n"
   ]
  },
  {
   "cell_type": "markdown",
   "metadata": {},
   "source": [
    "# RQ3: How vulnerable are npm packages in Docker containers compared to their most secure versions?"
   ]
  },
  {
   "cell_type": "code",
   "execution_count": 358,
   "metadata": {},
   "outputs": [
    {
     "data": {
      "text/html": [
       "<div>\n",
       "<style scoped>\n",
       "    .dataframe tbody tr th:only-of-type {\n",
       "        vertical-align: middle;\n",
       "    }\n",
       "\n",
       "    .dataframe tbody tr th {\n",
       "        vertical-align: top;\n",
       "    }\n",
       "\n",
       "    .dataframe thead th {\n",
       "        text-align: right;\n",
       "    }\n",
       "</style>\n",
       "<table border=\"1\" class=\"dataframe\">\n",
       "  <thead>\n",
       "    <tr style=\"text-align: right;\">\n",
       "      <th></th>\n",
       "      <th>package</th>\n",
       "      <th>version</th>\n",
       "      <th>versions</th>\n",
       "      <th>tag</th>\n",
       "      <th>base_os</th>\n",
       "      <th>created</th>\n",
       "      <th>id</th>\n",
       "      <th>name</th>\n",
       "      <th>published</th>\n",
       "      <th>severity</th>\n",
       "      <th>disclosed</th>\n",
       "      <th>affected</th>\n",
       "    </tr>\n",
       "  </thead>\n",
       "  <tbody>\n",
       "    <tr>\n",
       "      <th>0</th>\n",
       "      <td>atob</td>\n",
       "      <td>2.0.3</td>\n",
       "      <td>&lt;2.1.0</td>\n",
       "      <td>ghost:1.18-alpine</td>\n",
       "      <td>alpine</td>\n",
       "      <td>2017-12-09</td>\n",
       "      <td>npm:atob:20180429</td>\n",
       "      <td>Uninitialized Memory Exposure</td>\n",
       "      <td>30 Apr, 2018</td>\n",
       "      <td>medium</td>\n",
       "      <td>29 Apr, 2018</td>\n",
       "      <td>True</td>\n",
       "    </tr>\n",
       "    <tr>\n",
       "      <th>1</th>\n",
       "      <td>atob</td>\n",
       "      <td>2.0.3</td>\n",
       "      <td>&lt;2.1.0</td>\n",
       "      <td>ghost:1.18.2</td>\n",
       "      <td>debian</td>\n",
       "      <td>2017-12-05</td>\n",
       "      <td>npm:atob:20180429</td>\n",
       "      <td>Uninitialized Memory Exposure</td>\n",
       "      <td>30 Apr, 2018</td>\n",
       "      <td>medium</td>\n",
       "      <td>29 Apr, 2018</td>\n",
       "      <td>True</td>\n",
       "    </tr>\n",
       "  </tbody>\n",
       "</table>\n",
       "</div>"
      ],
      "text/plain": [
       "  package version versions                tag base_os     created  \\\n",
       "0    atob   2.0.3   <2.1.0  ghost:1.18-alpine  alpine  2017-12-09   \n",
       "1    atob   2.0.3   <2.1.0       ghost:1.18.2  debian  2017-12-05   \n",
       "\n",
       "                  id                           name     published severity  \\\n",
       "0  npm:atob:20180429  Uninitialized Memory Exposure  30 Apr, 2018   medium   \n",
       "1  npm:atob:20180429  Uninitialized Memory Exposure  30 Apr, 2018   medium   \n",
       "\n",
       "      disclosed affected  \n",
       "0  29 Apr, 2018     True  \n",
       "1  29 Apr, 2018     True  "
      ]
     },
     "execution_count": 358,
     "metadata": {},
     "output_type": "execute_result"
    }
   ],
   "source": [
    "affected_vuls = vulnerabilities.query('affected == \"True\"')\n",
    "affected_vuls.head(2)"
   ]
  },
  {
   "cell_type": "code",
   "execution_count": 359,
   "metadata": {},
   "outputs": [
    {
     "data": {
      "text/plain": [
       "395"
      ]
     },
     "execution_count": 359,
     "metadata": {},
     "output_type": "execute_result"
    }
   ],
   "source": [
    "affected_vuls = affected_vuls[['package','version','id']].drop_duplicates()\n",
    "len(affected_vuls)"
   ]
  },
  {
   "cell_type": "code",
   "execution_count": 360,
   "metadata": {},
   "outputs": [
    {
     "data": {
      "text/plain": [
       "314"
      ]
     },
     "execution_count": 360,
     "metadata": {},
     "output_type": "execute_result"
    }
   ],
   "source": [
    "# affected \n",
    "affected_vuls = affected_vuls.groupby(['package','version']).count().reset_index()\n",
    "len(affected_vuls)"
   ]
  },
  {
   "cell_type": "code",
   "execution_count": 361,
   "metadata": {},
   "outputs": [
    {
     "data": {
      "text/plain": [
       "367"
      ]
     },
     "execution_count": 361,
     "metadata": {},
     "output_type": "execute_result"
    }
   ],
   "source": [
    "# not affected \n",
    "most_secure = vulnerabilities.query('affected == \"False\"')[['package','version']].drop_duplicates()\n",
    "most_secure['id'] = 0\n",
    "len(most_secure)"
   ]
  },
  {
   "cell_type": "code",
   "execution_count": 362,
   "metadata": {},
   "outputs": [
    {
     "data": {
      "text/plain": [
       "52"
      ]
     },
     "execution_count": 362,
     "metadata": {},
     "output_type": "execute_result"
    }
   ],
   "source": [
    "len(most_secure2)"
   ]
  },
  {
   "cell_type": "code",
   "execution_count": 363,
   "metadata": {},
   "outputs": [
    {
     "data": {
      "text/plain": [
       "69"
      ]
     },
     "execution_count": 363,
     "metadata": {},
     "output_type": "execute_result"
    }
   ],
   "source": [
    "most_secure  = pd.concat([most_secure,affected_vuls])\n",
    "most_secure = most_secure.sort_values([\"id\",'version']).groupby(['package'], as_index=False).first()\n",
    "most_secure.rename(columns={'version':'secure-version','id':'severity-secure'}, inplace=True)\n",
    "len(most_secure)"
   ]
  },
  {
   "cell_type": "code",
   "execution_count": 364,
   "metadata": {},
   "outputs": [
    {
     "data": {
      "text/html": [
       "<div>\n",
       "<style scoped>\n",
       "    .dataframe tbody tr th:only-of-type {\n",
       "        vertical-align: middle;\n",
       "    }\n",
       "\n",
       "    .dataframe tbody tr th {\n",
       "        vertical-align: top;\n",
       "    }\n",
       "\n",
       "    .dataframe thead th {\n",
       "        text-align: right;\n",
       "    }\n",
       "</style>\n",
       "<table border=\"1\" class=\"dataframe\">\n",
       "  <thead>\n",
       "    <tr style=\"text-align: right;\">\n",
       "      <th></th>\n",
       "      <th>package</th>\n",
       "      <th>secure-version</th>\n",
       "      <th>severity-secure</th>\n",
       "    </tr>\n",
       "  </thead>\n",
       "  <tbody>\n",
       "    <tr>\n",
       "      <th>56</th>\n",
       "      <td>ssri</td>\n",
       "      <td>4.1.3</td>\n",
       "      <td>1</td>\n",
       "    </tr>\n",
       "    <tr>\n",
       "      <th>54</th>\n",
       "      <td>shelljs</td>\n",
       "      <td>0.3.0</td>\n",
       "      <td>1</td>\n",
       "    </tr>\n",
       "    <tr>\n",
       "      <th>10</th>\n",
       "      <td>content-type-parser</td>\n",
       "      <td>1.0.1</td>\n",
       "      <td>1</td>\n",
       "    </tr>\n",
       "    <tr>\n",
       "      <th>61</th>\n",
       "      <td>timespan</td>\n",
       "      <td>2.3.0</td>\n",
       "      <td>1</td>\n",
       "    </tr>\n",
       "    <tr>\n",
       "      <th>34</th>\n",
       "      <td>marked</td>\n",
       "      <td>0.1.9</td>\n",
       "      <td>9</td>\n",
       "    </tr>\n",
       "  </tbody>\n",
       "</table>\n",
       "</div>"
      ],
      "text/plain": [
       "                package secure-version  severity-secure\n",
       "56                 ssri          4.1.3                1\n",
       "54              shelljs          0.3.0                1\n",
       "10  content-type-parser          1.0.1                1\n",
       "61             timespan          2.3.0                1\n",
       "34               marked          0.1.9                9"
      ]
     },
     "execution_count": 364,
     "metadata": {},
     "output_type": "execute_result"
    }
   ],
   "source": [
    "most_secure.sort_values('severity-secure').tail()"
   ]
  },
  {
   "cell_type": "code",
   "execution_count": 365,
   "metadata": {},
   "outputs": [
    {
     "data": {
      "text/plain": [
       "14989"
      ]
     },
     "execution_count": 365,
     "metadata": {},
     "output_type": "execute_result"
    }
   ],
   "source": [
    "affected_cons = (vulnerabilities\n",
    "                 .query('affected == \"True\"')\n",
    "                 .groupby(['tag','created','base_os','package','version'])\n",
    "                 .count()[['severity']]\n",
    "                 .reset_index())\n",
    "len(affected_cons)"
   ]
  },
  {
   "cell_type": "code",
   "execution_count": 366,
   "metadata": {},
   "outputs": [],
   "source": [
    "affected_cons = (affected_cons\n",
    "                 .merge(most_secure,\n",
    "                        left_on = 'package',\n",
    "                        right_on = 'package',\n",
    "                        how = 'left'\n",
    "                       )\n",
    "                 .dropna()\n",
    "                 )"
   ]
  },
  {
   "cell_type": "code",
   "execution_count": 367,
   "metadata": {},
   "outputs": [],
   "source": [
    "# Use this dataframe\n",
    "secure_cons = (affected_cons[['tag','created','base_os','severity','severity-secure']]\n",
    "               .groupby(['tag','base_os','created'])\n",
    "               .sum()\n",
    "               .reset_index()\n",
    "              )"
   ]
  },
  {
   "cell_type": "code",
   "execution_count": 368,
   "metadata": {},
   "outputs": [],
   "source": [
    "secure_cons['diff'] = secure_cons['severity'] - secure_cons['severity-secure'] "
   ]
  },
  {
   "cell_type": "code",
   "execution_count": 394,
   "metadata": {},
   "outputs": [
    {
     "data": {
      "text/plain": [
       "15.90426638917794"
      ]
     },
     "execution_count": 394,
     "metadata": {},
     "output_type": "execute_result"
    }
   ],
   "source": [
    "secure_cons['diff'].mean()"
   ]
  },
  {
   "cell_type": "code",
   "execution_count": 389,
   "metadata": {},
   "outputs": [
    {
     "data": {
      "text/plain": [
       "0.6982310093652445"
      ]
     },
     "execution_count": 389,
     "metadata": {},
     "output_type": "execute_result"
    }
   ],
   "source": [
    "secure_cons['severity-secure'].mean()"
   ]
  },
  {
   "cell_type": "code",
   "execution_count": 395,
   "metadata": {},
   "outputs": [
    {
     "data": {
      "text/plain": [
       "16.602497398543186"
      ]
     },
     "execution_count": 395,
     "metadata": {},
     "output_type": "execute_result"
    }
   ],
   "source": [
    "secure_cons['severity'].mean()"
   ]
  },
  {
   "cell_type": "code",
   "execution_count": 369,
   "metadata": {},
   "outputs": [],
   "source": [
    "secure_cons['year'] = secure_cons['created'].apply(lambda x: x.split('-')[0])\n",
    "secure_cons.rename(columns={'base_os':'OS'}, inplace=True)"
   ]
  },
  {
   "cell_type": "code",
   "execution_count": 375,
   "metadata": {},
   "outputs": [
    {
     "data": {
      "text/plain": [
       "([<matplotlib.axis.YTick at 0x7ff93b624ac8>,\n",
       "  <matplotlib.axis.YTick at 0x7ff93b60d3c8>,\n",
       "  <matplotlib.axis.YTick at 0x7ff93b637390>,\n",
       "  <matplotlib.axis.YTick at 0x7ff93b5b8400>,\n",
       "  <matplotlib.axis.YTick at 0x7ff93b5b8cf8>],\n",
       " <a list of 5 Text yticklabel objects>)"
      ]
     },
     "execution_count": 375,
     "metadata": {},
     "output_type": "execute_result"
    },
    {
     "data": {
      "image/png": "[encoded data removed]",
      "text/plain": [
       "<Figure size 720x216 with 1 Axes>"
      ]
     },
     "metadata": {},
     "output_type": "display_data"
    }
   ],
   "source": [
    "ax = sns.violinplot(x=\"year\", y=\"diff\", data=secure_cons, palette=flatui, linewidth=1)\n",
    "ax.figure.set_size_inches(10,3)\n",
    "ax.set_xlabel('Image last update Year')\n",
    "ax.set_ylabel('Vulnerabilities')\n",
    "for patch in ax.patches:\n",
    "    patch.set_edgecolor('black')\n",
    "ax.set_ylim(0,40)\n",
    "plt.yticks(np.arange(0, 41, 10.0))\n",
    "\n",
    "#ax.figure.savefig('../../../seneca_research/docker_npm/figures/npm_number_os.pdf', bbox_inches='tight', facecolor='white')\n"
   ]
  },
  {
   "cell_type": "code",
   "execution_count": 376,
   "metadata": {},
   "outputs": [],
   "source": [
    "affected_cons['upgrade'] = affected_cons.apply(lambda d: \n",
    "                                               'upgrade' if d['secure-version'] > d['version']\n",
    "                                               else 'no-change' if d['secure-version'] == d['version']\n",
    "                                               else 'downgrade',\n",
    "                                               axis=1\n",
    "                                              )"
   ]
  },
  {
   "cell_type": "code",
   "execution_count": 377,
   "metadata": {},
   "outputs": [],
   "source": [
    "df_tmp1 = affected_cons.groupby(['tag','upgrade']).count()[['version']].reset_index()\n",
    "df_tmp2 = affected_cons.groupby(['tag']).count()[['package']].reset_index()\n",
    "df_tmp = (df_tmp1\n",
    "          .set_index(['tag'])\n",
    "          .merge(df_tmp2\n",
    "                 .set_index(['tag']),\n",
    "                 left_index = True,\n",
    "                 right_index = True,\n",
    "                 how = 'left'\n",
    "                )\n",
    "         .dropna().reset_index()\n",
    "         )\n",
    "df_tmp['percent'] = df_tmp['version']*100.0/df_tmp['package'] \n",
    "df_tmp.drop(['version','package'], axis=1, inplace=True)"
   ]
  },
  {
   "cell_type": "code",
   "execution_count": 385,
   "metadata": {},
   "outputs": [
    {
     "data": {
      "image/png": "[encoded data removed]",
      "text/plain": [
       "<Figure size 864x216 with 1 Axes>"
      ]
     },
     "metadata": {},
     "output_type": "display_data"
    }
   ],
   "source": [
    "ax = sns.boxplot(x=\"upgrade\", \n",
    "                 y=\"percent\", \n",
    "                 data=df_tmp,\n",
    "                 palette='Set2', \n",
    "                 linewidth=1,\n",
    "                 order=['upgrade','no-change','downgrade'], \n",
    "                # split = True\n",
    "                )\n",
    "ax.figure.set_size_inches(12,3)\n",
    "ax.set_xlabel('Required package change')\n",
    "ax.set_ylabel('Proporton of\\n container packages')\n",
    "plt.yticks(np.arange(0, 81, 20.0))\n",
    "for patch in ax.patches:\n",
    "    patch.set_edgecolor('black')\n",
    "ax.figure.savefig('../../../thesis/Figs/docker/secure_npm.pdf', bbox_inches='tight', facecolor='white')\n",
    "\n"
   ]
  },
  {
   "cell_type": "code",
   "execution_count": 379,
   "metadata": {},
   "outputs": [
    {
     "name": "stdout",
     "output_type": "stream",
     "text": [
      "46.666666666666664 12.5 50.0\n"
     ]
    }
   ],
   "source": [
    "print(\n",
    "    df_tmp.query('upgrade == \"upgrade\"').percent.median(),\n",
    "    df_tmp.query('upgrade == \"no-change\"').percent.median(),\n",
    "    df_tmp.query('upgrade == \"downgrade\"').percent.median()\n",
    ")"
   ]
  },
  {
   "cell_type": "code",
   "execution_count": 380,
   "metadata": {},
   "outputs": [
    {
     "data": {
      "text/html": [
       "<div>\n",
       "<style scoped>\n",
       "    .dataframe tbody tr th:only-of-type {\n",
       "        vertical-align: middle;\n",
       "    }\n",
       "\n",
       "    .dataframe tbody tr th {\n",
       "        vertical-align: top;\n",
       "    }\n",
       "\n",
       "    .dataframe thead th {\n",
       "        text-align: right;\n",
       "    }\n",
       "</style>\n",
       "<table border=\"1\" class=\"dataframe\">\n",
       "  <thead>\n",
       "    <tr style=\"text-align: right;\">\n",
       "      <th></th>\n",
       "      <th>package</th>\n",
       "    </tr>\n",
       "    <tr>\n",
       "      <th>upgrade</th>\n",
       "      <th></th>\n",
       "    </tr>\n",
       "  </thead>\n",
       "  <tbody>\n",
       "    <tr>\n",
       "      <th>downgrade</th>\n",
       "      <td>40.489692</td>\n",
       "    </tr>\n",
       "    <tr>\n",
       "      <th>no-change</th>\n",
       "      <td>9.260124</td>\n",
       "    </tr>\n",
       "    <tr>\n",
       "      <th>upgrade</th>\n",
       "      <td>50.250183</td>\n",
       "    </tr>\n",
       "  </tbody>\n",
       "</table>\n",
       "</div>"
      ],
      "text/plain": [
       "             package\n",
       "upgrade             \n",
       "downgrade  40.489692\n",
       "no-change   9.260124\n",
       "upgrade    50.250183"
      ]
     },
     "execution_count": 380,
     "metadata": {},
     "output_type": "execute_result"
    }
   ],
   "source": [
    "affected_cons.groupby('upgrade').count()[['package']]*100/len(affected_cons)"
   ]
  },
  {
   "cell_type": "code",
   "execution_count": 227,
   "metadata": {},
   "outputs": [],
   "source": [
    "# Median number of vulnerabilities per container\n",
    "df_tmp = (vulnerabilities\n",
    " .query('affected == \"True\"')\n",
    " .groupby(['tag','base_os'])\n",
    " .count()[['package']]\n",
    " .reset_index()\n",
    ")"
   ]
  },
  {
   "cell_type": "code",
   "execution_count": 228,
   "metadata": {},
   "outputs": [
    {
     "name": "stdout",
     "output_type": "stream",
     "text": [
      "debian 15.890736342042755 16.0\n",
      "alpine 21.638655462184875 10.0\n"
     ]
    }
   ],
   "source": [
    "for os in ['debian','alpine']:\n",
    "    print(os,df_tmp.query('base_os == \"'+os+'\"').package.mean(),\n",
    "          df_tmp.query('base_os == \"'+os+'\"').package.median())"
   ]
  },
  {
   "cell_type": "code",
   "execution_count": 229,
   "metadata": {},
   "outputs": [
    {
     "name": "stdout",
     "output_type": "stream",
     "text": [
      "16.602497398543186 10.0\n"
     ]
    }
   ],
   "source": [
    "print(df_tmp.package.mean(),df_tmp.package.median())"
   ]
  },
  {
   "cell_type": "code",
   "execution_count": 248,
   "metadata": {},
   "outputs": [
    {
     "data": {
      "text/html": [
       "<div>\n",
       "<style scoped>\n",
       "    .dataframe tbody tr th:only-of-type {\n",
       "        vertical-align: middle;\n",
       "    }\n",
       "\n",
       "    .dataframe tbody tr th {\n",
       "        vertical-align: top;\n",
       "    }\n",
       "\n",
       "    .dataframe thead th {\n",
       "        text-align: right;\n",
       "    }\n",
       "</style>\n",
       "<table border=\"1\" class=\"dataframe\">\n",
       "  <thead>\n",
       "    <tr style=\"text-align: right;\">\n",
       "      <th></th>\n",
       "      <th>tag</th>\n",
       "      <th>created</th>\n",
       "      <th>severity</th>\n",
       "      <th>severity-secure</th>\n",
       "      <th>diff</th>\n",
       "      <th>year</th>\n",
       "    </tr>\n",
       "  </thead>\n",
       "  <tbody>\n",
       "    <tr>\n",
       "      <th>0</th>\n",
       "      <td>ghost:0</td>\n",
       "      <td>2018-03-16</td>\n",
       "      <td>25</td>\n",
       "      <td>1</td>\n",
       "      <td>24</td>\n",
       "      <td>2018</td>\n",
       "    </tr>\n",
       "    <tr>\n",
       "      <th>1</th>\n",
       "      <td>ghost:0-alpine</td>\n",
       "      <td>2018-03-16</td>\n",
       "      <td>25</td>\n",
       "      <td>1</td>\n",
       "      <td>24</td>\n",
       "      <td>2018</td>\n",
       "    </tr>\n",
       "    <tr>\n",
       "      <th>2</th>\n",
       "      <td>ghost:0.11.0</td>\n",
       "      <td>2016-09-28</td>\n",
       "      <td>41</td>\n",
       "      <td>2</td>\n",
       "      <td>39</td>\n",
       "      <td>2016</td>\n",
       "    </tr>\n",
       "    <tr>\n",
       "      <th>3</th>\n",
       "      <td>ghost:0.11.1</td>\n",
       "      <td>2016-10-05</td>\n",
       "      <td>38</td>\n",
       "      <td>1</td>\n",
       "      <td>37</td>\n",
       "      <td>2016</td>\n",
       "    </tr>\n",
       "    <tr>\n",
       "      <th>4</th>\n",
       "      <td>ghost:0.11.11</td>\n",
       "      <td>2017-10-10</td>\n",
       "      <td>38</td>\n",
       "      <td>2</td>\n",
       "      <td>36</td>\n",
       "      <td>2017</td>\n",
       "    </tr>\n",
       "  </tbody>\n",
       "</table>\n",
       "</div>"
      ],
      "text/plain": [
       "              tag     created  severity  severity-secure  diff  year\n",
       "0         ghost:0  2018-03-16        25                1    24  2018\n",
       "1  ghost:0-alpine  2018-03-16        25                1    24  2018\n",
       "2    ghost:0.11.0  2016-09-28        41                2    39  2016\n",
       "3    ghost:0.11.1  2016-10-05        38                1    37  2016\n",
       "4   ghost:0.11.11  2017-10-10        38                2    36  2017"
      ]
     },
     "execution_count": 248,
     "metadata": {},
     "output_type": "execute_result"
    }
   ],
   "source": [
    "secure_cons.head()"
   ]
  },
  {
   "cell_type": "code",
   "execution_count": null,
   "metadata": {},
   "outputs": [],
   "source": []
  }
 ],
 "metadata": {
  "kernelspec": {
   "display_name": "Python 3",
   "language": "python",
   "name": "python3"
  },
  "language_info": {
   "codemirror_mode": {
    "name": "ipython",
    "version": 3
   },
   "file_extension": ".py",
   "mimetype": "text/x-python",
   "name": "python",
   "nbconvert_exporter": "python",
   "pygments_lexer": "ipython3",
   "version": "3.6.8"
  }
 },
 "nbformat": 4,
 "nbformat_minor": 2
}
