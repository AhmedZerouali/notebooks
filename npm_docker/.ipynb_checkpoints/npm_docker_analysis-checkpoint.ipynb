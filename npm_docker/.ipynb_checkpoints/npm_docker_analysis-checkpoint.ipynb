{
 "cells": [
  {
   "cell_type": "code",
   "execution_count": 14,
   "metadata": {},
   "outputs": [],
   "source": [
    "%matplotlib inline\n",
    "import seaborn as sns; #sns.set(style=\"ticks\", color_codes=True)\n",
    "import pandas as pd\n",
    "import matplotlib.pyplot as plt\n",
    "from matplotlib import style\n",
    "import scipy\n",
    "style.use('fast')\n",
    "from datetime import datetime\n",
    "from io import StringIO\n",
    "import re\n",
    "import numpy as np\n",
    "import os\n",
    "from tqdm import tqdm\n",
    "import json as js\n",
    "import codecs\n",
    "import subprocess\n",
    "\n",
    "sns.set_style('ticks',{'legend.frameon':True} )\n",
    "sns.set_palette('colorblind')\n",
    "FIG_SIZE = (12, 3)\n",
    "font = {'family' : 'Times New Roman',\n",
    "        'weight' : 'bold',\n",
    "        'size'   : 22}\n",
    "plt.rc('font', **font)\n",
    "plt.rcParams['pdf.fonttype'] = 42\n",
    "plt.rcParams['ps.fonttype'] = 42\n",
    "plt.rcParams['text.usetex'] = True\n",
    "\n",
    "plt.rcParams['xtick.labelsize'] = 18\n",
    "plt.rcParams['ytick.labelsize'] = 22\n",
    "plt.rcParams['axes.labelsize']= 22\n",
    "flatui = [sns.xkcd_rgb[\"medium green\"], \"orange\", sns.xkcd_rgb[\"medium purple\"], \"#e74c3c\", \"#34495e\", \"#2ecc71\"]\n"
   ]
  },
  {
   "cell_type": "code",
   "execution_count": 3,
   "metadata": {},
   "outputs": [],
   "source": [
    "# Cliff's Delta\n",
    "from __future__ import division\n",
    " \n",
    "def cliffsDelta(lst1,lst2,\n",
    "                dull = [0.147, # small\n",
    "                        0.33,  # medium\n",
    "                        0.474 # large\n",
    "                        ][0] ): \n",
    "  \"Returns true if there are more than 'dull' differences\"\n",
    "  m, n = len(lst1), len(lst2)\n",
    "  lst2 = sorted(lst2)\n",
    "  j = more = less = 0\n",
    "  for repeats,x in runs(sorted(lst1)):\n",
    "    while j <= (n - 1) and lst2[j] <  x: \n",
    "      j += 1\n",
    "    more += j*repeats\n",
    "    while j <= (n - 1) and lst2[j] == x: \n",
    "      j += 1\n",
    "    less += (n - j)*repeats\n",
    "  d= (more - less) / (m*n)\n",
    "  f=abs(d)  > dull\n",
    "  print(\"d=\"+str(d))#+' '+str(f))\n",
    "  return abs(d)  > dull\n",
    "   \n",
    "def runs(lst):\n",
    "  \"Iterator, chunks repeated values\"\n",
    "  for j,two in enumerate(lst):\n",
    "    if j == 0:\n",
    "      one,i = two,0\n",
    "    if one!=two:\n",
    "      yield j - i,one\n",
    "      i = j\n",
    "    one=two\n",
    "  yield j - i + 1,two\n",
    "  \n",
    "def _cliffsDelta():\n",
    "  \"demo function\"\n",
    "  lst1=[1,2,3,4,5,6,7]\n",
    "  for r in [1.01,1.1,1.21, 1.5, 2]:\n",
    "    lst2=map(lambda x: x*r,lst1)\n",
    "    #return lst2\n",
    "    #print(lst2,cliffsDelta(lst1,lst2)) # should return False"
   ]
  },
  {
   "cell_type": "markdown",
   "metadata": {},
   "source": [
    "# LOADING THE USED DATAFRAMES"
   ]
  },
  {
   "cell_type": "code",
   "execution_count": 5,
   "metadata": {},
   "outputs": [
    {
     "name": "stdout",
     "output_type": "stream",
     "text": [
      "290031\n"
     ]
    },
    {
     "data": {
      "text/html": [
       "<div>\n",
       "<style scoped>\n",
       "    .dataframe tbody tr th:only-of-type {\n",
       "        vertical-align: middle;\n",
       "    }\n",
       "\n",
       "    .dataframe tbody tr th {\n",
       "        vertical-align: top;\n",
       "    }\n",
       "\n",
       "    .dataframe thead th {\n",
       "        text-align: right;\n",
       "    }\n",
       "</style>\n",
       "<table border=\"1\" class=\"dataframe\">\n",
       "  <thead>\n",
       "    <tr style=\"text-align: right;\">\n",
       "      <th></th>\n",
       "      <th>package</th>\n",
       "      <th>version</th>\n",
       "      <th>created</th>\n",
       "      <th>tag</th>\n",
       "      <th>base_os</th>\n",
       "      <th>latest</th>\n",
       "      <th>date</th>\n",
       "      <th>release_type</th>\n",
       "      <th>date_latest</th>\n",
       "      <th>version_lag</th>\n",
       "      <th>extraction_date</th>\n",
       "      <th>version_lag_today</th>\n",
       "      <th>slug</th>\n",
       "    </tr>\n",
       "  </thead>\n",
       "  <tbody>\n",
       "    <tr>\n",
       "      <th>0</th>\n",
       "      <td>1to2</td>\n",
       "      <td>1.0.0</td>\n",
       "      <td>2016-08-01</td>\n",
       "      <td>ghost:0.8</td>\n",
       "      <td>Debian</td>\n",
       "      <td>1.0.0</td>\n",
       "      <td>2016-04-19</td>\n",
       "      <td>initial</td>\n",
       "      <td>2016-04-19</td>\n",
       "      <td>0,0,0</td>\n",
       "      <td>2018-03-13</td>\n",
       "      <td>0,0,0</td>\n",
       "      <td>ghost</td>\n",
       "    </tr>\n",
       "    <tr>\n",
       "      <th>1</th>\n",
       "      <td>1to2</td>\n",
       "      <td>1.0.0</td>\n",
       "      <td>2016-09-28</td>\n",
       "      <td>ghost:0.11.0</td>\n",
       "      <td>Debian</td>\n",
       "      <td>1.0.0</td>\n",
       "      <td>2016-04-19</td>\n",
       "      <td>initial</td>\n",
       "      <td>2016-04-19</td>\n",
       "      <td>0,0,0</td>\n",
       "      <td>2018-03-13</td>\n",
       "      <td>0,0,0</td>\n",
       "      <td>ghost</td>\n",
       "    </tr>\n",
       "  </tbody>\n",
       "</table>\n",
       "</div>"
      ],
      "text/plain": [
       "  package version     created           tag base_os latest        date  \\\n",
       "0    1to2   1.0.0  2016-08-01     ghost:0.8  Debian  1.0.0  2016-04-19   \n",
       "1    1to2   1.0.0  2016-09-28  ghost:0.11.0  Debian  1.0.0  2016-04-19   \n",
       "\n",
       "  release_type date_latest version_lag extraction_date version_lag_today  \\\n",
       "0      initial  2016-04-19       0,0,0      2018-03-13             0,0,0   \n",
       "1      initial  2016-04-19       0,0,0      2018-03-13             0,0,0   \n",
       "\n",
       "    slug  \n",
       "0  ghost  \n",
       "1  ghost  "
      ]
     },
     "execution_count": 5,
     "metadata": {},
     "output_type": "execute_result"
    }
   ],
   "source": [
    "technical_lag=pd.read_csv('../../npm_docker/csv/docker_packages_timelag.csv', \n",
    "                            sep=';', dtype=object, index_col=None,  error_bad_lines=False)\n",
    "technical_lag['base_os']=technical_lag['base_os'].apply(lambda x: x.title())\n",
    "technical_lag['slug']=technical_lag.tag.apply(lambda x: x.split(':')[0])\n",
    "print(len(technical_lag))\n",
    "technical_lag.head(2)"
   ]
  },
  {
   "cell_type": "code",
   "execution_count": 6,
   "metadata": {},
   "outputs": [
    {
     "name": "stdout",
     "output_type": "stream",
     "text": [
      "40792\n"
     ]
    },
    {
     "data": {
      "text/html": [
       "<div>\n",
       "<style scoped>\n",
       "    .dataframe tbody tr th:only-of-type {\n",
       "        vertical-align: middle;\n",
       "    }\n",
       "\n",
       "    .dataframe tbody tr th {\n",
       "        vertical-align: top;\n",
       "    }\n",
       "\n",
       "    .dataframe thead th {\n",
       "        text-align: right;\n",
       "    }\n",
       "</style>\n",
       "<table border=\"1\" class=\"dataframe\">\n",
       "  <thead>\n",
       "    <tr style=\"text-align: right;\">\n",
       "      <th></th>\n",
       "      <th>package</th>\n",
       "      <th>version</th>\n",
       "      <th>versions</th>\n",
       "      <th>tag</th>\n",
       "      <th>base_os</th>\n",
       "      <th>created</th>\n",
       "      <th>id</th>\n",
       "      <th>name</th>\n",
       "      <th>published</th>\n",
       "      <th>severity</th>\n",
       "      <th>disclosed</th>\n",
       "      <th>affected</th>\n",
       "    </tr>\n",
       "  </thead>\n",
       "  <tbody>\n",
       "    <tr>\n",
       "      <th>0</th>\n",
       "      <td>atob</td>\n",
       "      <td>2.0.3</td>\n",
       "      <td>&lt;2.1.0</td>\n",
       "      <td>ghost:1.18-alpine</td>\n",
       "      <td>alpine</td>\n",
       "      <td>2017-12-09</td>\n",
       "      <td>npm:atob:20180429</td>\n",
       "      <td>Uninitialized Memory Exposure</td>\n",
       "      <td>30 Apr, 2018</td>\n",
       "      <td>medium</td>\n",
       "      <td>29 Apr, 2018</td>\n",
       "      <td>True</td>\n",
       "    </tr>\n",
       "    <tr>\n",
       "      <th>1</th>\n",
       "      <td>atob</td>\n",
       "      <td>2.0.3</td>\n",
       "      <td>&lt;2.1.0</td>\n",
       "      <td>ghost:1.18.2</td>\n",
       "      <td>debian</td>\n",
       "      <td>2017-12-05</td>\n",
       "      <td>npm:atob:20180429</td>\n",
       "      <td>Uninitialized Memory Exposure</td>\n",
       "      <td>30 Apr, 2018</td>\n",
       "      <td>medium</td>\n",
       "      <td>29 Apr, 2018</td>\n",
       "      <td>True</td>\n",
       "    </tr>\n",
       "  </tbody>\n",
       "</table>\n",
       "</div>"
      ],
      "text/plain": [
       "  package version versions                tag base_os     created  \\\n",
       "0    atob   2.0.3   <2.1.0  ghost:1.18-alpine  alpine  2017-12-09   \n",
       "1    atob   2.0.3   <2.1.0       ghost:1.18.2  debian  2017-12-05   \n",
       "\n",
       "                  id                           name     published severity  \\\n",
       "0  npm:atob:20180429  Uninitialized Memory Exposure  30 Apr, 2018   medium   \n",
       "1  npm:atob:20180429  Uninitialized Memory Exposure  30 Apr, 2018   medium   \n",
       "\n",
       "      disclosed affected  \n",
       "0  29 Apr, 2018     True  \n",
       "1  29 Apr, 2018     True  "
      ]
     },
     "execution_count": 6,
     "metadata": {},
     "output_type": "execute_result"
    }
   ],
   "source": [
    "vulnerabilities=pd.read_csv('../../npm_docker/csv/affected_packages.csv', \n",
    "                            sep=';', dtype=object, index_col=None,  error_bad_lines=False)\n",
    "print(len(vulnerabilities))\n",
    "vulnerabilities.head(2)"
   ]
  },
  {
   "cell_type": "markdown",
   "metadata": {},
   "source": [
    "# ANALYSIS"
   ]
  },
  {
   "cell_type": "markdown",
   "metadata": {},
   "source": [
    "# RQ0: How many npm packages are installed in Docker images?"
   ]
  },
  {
   "cell_type": "code",
   "execution_count": 7,
   "metadata": {},
   "outputs": [
    {
     "data": {
      "text/html": [
       "<div>\n",
       "<style scoped>\n",
       "    .dataframe tbody tr th:only-of-type {\n",
       "        vertical-align: middle;\n",
       "    }\n",
       "\n",
       "    .dataframe tbody tr th {\n",
       "        vertical-align: top;\n",
       "    }\n",
       "\n",
       "    .dataframe thead th {\n",
       "        text-align: right;\n",
       "    }\n",
       "</style>\n",
       "<table border=\"1\" class=\"dataframe\">\n",
       "  <thead>\n",
       "    <tr style=\"text-align: right;\">\n",
       "      <th></th>\n",
       "      <th></th>\n",
       "      <th>tag</th>\n",
       "    </tr>\n",
       "    <tr>\n",
       "      <th>base_os</th>\n",
       "      <th>slug</th>\n",
       "      <th></th>\n",
       "    </tr>\n",
       "  </thead>\n",
       "  <tbody>\n",
       "    <tr>\n",
       "      <th rowspan=\"2\" valign=\"top\">Alpine</th>\n",
       "      <th>ghost</th>\n",
       "      <td>35</td>\n",
       "    </tr>\n",
       "    <tr>\n",
       "      <th>node</th>\n",
       "      <td>84</td>\n",
       "    </tr>\n",
       "    <tr>\n",
       "      <th rowspan=\"3\" valign=\"top\">Debian</th>\n",
       "      <th>ghost</th>\n",
       "      <td>40</td>\n",
       "    </tr>\n",
       "    <tr>\n",
       "      <th>mongo-express</th>\n",
       "      <td>17</td>\n",
       "    </tr>\n",
       "    <tr>\n",
       "      <th>node</th>\n",
       "      <td>785</td>\n",
       "    </tr>\n",
       "  </tbody>\n",
       "</table>\n",
       "</div>"
      ],
      "text/plain": [
       "                       tag\n",
       "base_os slug              \n",
       "Alpine  ghost           35\n",
       "        node            84\n",
       "Debian  ghost           40\n",
       "        mongo-express   17\n",
       "        node           785"
      ]
     },
     "execution_count": 7,
     "metadata": {},
     "output_type": "execute_result"
    }
   ],
   "source": [
    "df_tmp=technical_lag[['tag','slug','base_os']].drop_duplicates()\n",
    "df_tmp.groupby(['base_os','slug']).count()"
   ]
  },
  {
   "cell_type": "code",
   "execution_count": 8,
   "metadata": {},
   "outputs": [
    {
     "data": {
      "text/plain": [
       "961"
      ]
     },
     "execution_count": 8,
     "metadata": {},
     "output_type": "execute_result"
    }
   ],
   "source": [
    "technical_lag['tag'].drop_duplicates().size"
   ]
  },
  {
   "cell_type": "code",
   "execution_count": 11,
   "metadata": {},
   "outputs": [
    {
     "data": {
      "text/html": [
       "<div>\n",
       "<style scoped>\n",
       "    .dataframe tbody tr th:only-of-type {\n",
       "        vertical-align: middle;\n",
       "    }\n",
       "\n",
       "    .dataframe tbody tr th {\n",
       "        vertical-align: top;\n",
       "    }\n",
       "\n",
       "    .dataframe thead th {\n",
       "        text-align: right;\n",
       "    }\n",
       "</style>\n",
       "<table border=\"1\" class=\"dataframe\">\n",
       "  <thead>\n",
       "    <tr style=\"text-align: right;\">\n",
       "      <th></th>\n",
       "      <th>tag</th>\n",
       "      <th>created</th>\n",
       "    </tr>\n",
       "    <tr>\n",
       "      <th>base_os</th>\n",
       "      <th></th>\n",
       "      <th></th>\n",
       "    </tr>\n",
       "  </thead>\n",
       "  <tbody>\n",
       "    <tr>\n",
       "      <th>Alpine</th>\n",
       "      <td>119</td>\n",
       "      <td>119</td>\n",
       "    </tr>\n",
       "    <tr>\n",
       "      <th>Debian</th>\n",
       "      <td>842</td>\n",
       "      <td>842</td>\n",
       "    </tr>\n",
       "  </tbody>\n",
       "</table>\n",
       "</div>"
      ],
      "text/plain": [
       "         tag  created\n",
       "base_os              \n",
       "Alpine   119      119\n",
       "Debian   842      842"
      ]
     },
     "execution_count": 11,
     "metadata": {},
     "output_type": "execute_result"
    }
   ],
   "source": [
    "df_tmp=technical_lag[['tag','base_os','created']].drop_duplicates()\n",
    "#df_tmp['created']=df_tmp.created.apply(lambda x: x.split('-')[0]+'-'+x.split('-')[1]+'-01')\n",
    "\n",
    "df_tmp['created']=df_tmp['created'].apply(lambda x: \n",
    "                                      x[0:4] )\n",
    "    \n",
    "df_tmp.groupby(['base_os']).count()#/9.61#reset_index()/961\n"
   ]
  },
  {
   "cell_type": "code",
   "execution_count": 12,
   "metadata": {},
   "outputs": [
    {
     "data": {
      "text/plain": [
       "<matplotlib.legend.Legend at 0x7fbaec31f128>"
      ]
     },
     "execution_count": 12,
     "metadata": {},
     "output_type": "execute_result"
    },
    {
     "data": {
      "image/png": "[encoded data removed]",
      "text/plain": [
       "<matplotlib.figure.Figure at 0x7fbaec31f278>"
      ]
     },
     "metadata": {},
     "output_type": "display_data"
    }
   ],
   "source": [
    "df_tmp=technical_lag[['tag','base_os','created']].drop_duplicates()\n",
    "#df_tmp['created']=df_tmp.created.apply(lambda x: x.split('-')[0]+'-'+x.split('-')[1]+'-01')\n",
    "\n",
    "df_tmp['created']=df_tmp['created'].apply(lambda x: \n",
    "                                      x[0:4] )\n",
    "    \n",
    "df_tmp=df_tmp.groupby(['created','base_os']).count()/9.61\n",
    "df_tmp.reset_index(inplace=True)\n",
    "ax = sns.barplot(\n",
    "    y=\"tag\", x='created', hue='base_os', data=df_tmp, \n",
    "    palette=\"muted\", linewidth=1)\n",
    "\n",
    "ax.legend('')\n",
    "for patch in ax.patches:\n",
    "    patch.set_edgecolor('black')\n",
    "ax.set_xlabel(\"Image last update year\")\n",
    "ax.set_ylabel(\"\\% of Docker images\")\n",
    "ax.figure.set_size_inches(10,3)\n",
    "\n",
    "ax.legend(loc='upper right', bbox_to_anchor=(0.3, 1), ncol=1, fontsize=20, fancybox=True, shadow=True)\n",
    "#ax.figure.savefig('../../../papers/cloudtech18/figures/last_update.pdf', bbox_inches='tight', facecolor='white')\n"
   ]
  },
  {
   "cell_type": "code",
   "execution_count": 265,
   "metadata": {},
   "outputs": [
    {
     "data": {
      "text/plain": [
       "<matplotlib.legend.Legend at 0x7f72419f02b0>"
      ]
     },
     "execution_count": 265,
     "metadata": {},
     "output_type": "execute_result"
    },
    {
     "data": {
      "image/png": "[encoded data removed]",
      "text/plain": [
       "<matplotlib.figure.Figure at 0x7f7241938898>"
      ]
     },
     "metadata": {},
     "output_type": "display_data"
    }
   ],
   "source": [
    "df_tmp=technical_lag[['tag','slug','created','package']].drop_duplicates()\n",
    "df_tmp['created']=df_tmp['created'].apply(lambda x: x.split('-')[0] )\n",
    "df_tmp=df_tmp.groupby(['tag','created','slug']).count().reset_index()\n",
    "df_tmp1=df_tmp.groupby(['tag','created','slug']).count().reset_index()\n",
    "ax = sns.boxplot(x=\"created\", y=\"package\", data=df_tmp, hue='slug', palette=\"muted\", linewidth=1)\n",
    "ax.figure.set_size_inches(10,3)\n",
    "ax.set_xlabel('Image last update Year')\n",
    "ax.set_ylabel('\\# of npm \\n packages')\n",
    "for patch in ax.patches:\n",
    "    patch.set_edgecolor('black')\n",
    "ax.legend(loc='upper right', bbox_to_anchor=(0.3, 1), ncol=1, fontsize=20, fancybox=True, shadow=True)"
   ]
  },
  {
   "cell_type": "code",
   "execution_count": 274,
   "metadata": {},
   "outputs": [
    {
     "data": {
      "text/plain": [
       "200.0"
      ]
     },
     "execution_count": 274,
     "metadata": {},
     "output_type": "execute_result"
    }
   ],
   "source": [
    "df_tmp=technical_lag[['tag','slug','created','package']].drop_duplicates()\n",
    "df_tmp['created']=df_tmp['created'].apply(lambda x: x.split('-')[0] )\n",
    "df_tmp=df_tmp.groupby(['tag','created','slug']).count().reset_index()\n",
    "df_tmp.query('slug==\"node\"').package.median()"
   ]
  },
  {
   "cell_type": "code",
   "execution_count": 273,
   "metadata": {},
   "outputs": [
    {
     "data": {
      "text/plain": [
       "959.0"
      ]
     },
     "execution_count": 273,
     "metadata": {},
     "output_type": "execute_result"
    }
   ],
   "source": [
    "df_tmp.query('slug==\"ghost\"').package.median()"
   ]
  },
  {
   "cell_type": "code",
   "execution_count": 275,
   "metadata": {},
   "outputs": [
    {
     "data": {
      "text/plain": [
       "419.0"
      ]
     },
     "execution_count": 275,
     "metadata": {},
     "output_type": "execute_result"
    }
   ],
   "source": [
    "df_tmp.query('slug==\"mongo-express\"').package.median()"
   ]
  },
  {
   "cell_type": "code",
   "execution_count": 27,
   "metadata": {},
   "outputs": [
    {
     "data": {
      "image/png": "[encoded data removed]",
      "text/plain": [
       "<matplotlib.figure.Figure at 0x7fbaeab22e80>"
      ]
     },
     "metadata": {},
     "output_type": "display_data"
    }
   ],
   "source": [
    "df_tmp=technical_lag[['tag','base_os','created','package']].drop_duplicates()\n",
    "df_tmp['created']=df_tmp['created'].apply(lambda x: x.split('-')[0] )\n",
    "df_tmp=df_tmp.groupby(['tag','created','base_os']).count().reset_index()\n",
    "\n",
    "ax = sns.violinplot(x=\"created\", y=\"package\", data=df_tmp, hue='base_os', palette=flatui, linewidth=1, split=True)\n",
    "ax.figure.set_size_inches(10,3)\n",
    "ax.set_xlabel('Image last update Year')\n",
    "ax.set_ylabel('\\# of npm \\n packages')\n",
    "for patch in ax.patches:\n",
    "    patch.set_edgecolor('black')\n",
    "#ax.set_ylim(-10,800)\n",
    "plt.yticks(np.arange(0, 1201, 400.0))\n",
    "\n",
    "ax.legend(loc='upper right', bbox_to_anchor=(0.3, 1), ncol=1, fontsize=20, fancybox=True, shadow=True)\n",
    "ax.figure.savefig('../../../seneca_research/docker_npm/figures/npm_number_os.pdf', bbox_inches='tight', facecolor='white')\n"
   ]
  },
  {
   "cell_type": "code",
   "execution_count": 28,
   "metadata": {},
   "outputs": [
    {
     "data": {
      "text/plain": [
       "322.0"
      ]
     },
     "execution_count": 28,
     "metadata": {},
     "output_type": "execute_result"
    }
   ],
   "source": [
    "df_tmp=technical_lag[['tag','base_os','created','package']].drop_duplicates()\n",
    "df_tmp['created']=df_tmp['created'].apply(lambda x: x.split('-')[0] )\n",
    "df_tmp=df_tmp.groupby(['tag','created','base_os']).count().reset_index()\n",
    "df_tmp.query('base_os==\"Alpine\"').package.median()"
   ]
  },
  {
   "cell_type": "code",
   "execution_count": 277,
   "metadata": {},
   "outputs": [
    {
     "data": {
      "text/plain": [
       "200.5"
      ]
     },
     "execution_count": 277,
     "metadata": {},
     "output_type": "execute_result"
    }
   ],
   "source": [
    "df_tmp.query('base_os==\"Debian\"').package.median()"
   ]
  },
  {
   "cell_type": "code",
   "execution_count": 11,
   "metadata": {},
   "outputs": [
    {
     "data": {
      "text/html": [
       "<div>\n",
       "<style scoped>\n",
       "    .dataframe tbody tr th:only-of-type {\n",
       "        vertical-align: middle;\n",
       "    }\n",
       "\n",
       "    .dataframe tbody tr th {\n",
       "        vertical-align: top;\n",
       "    }\n",
       "\n",
       "    .dataframe thead th {\n",
       "        text-align: right;\n",
       "    }\n",
       "</style>\n",
       "<table border=\"1\" class=\"dataframe\">\n",
       "  <thead>\n",
       "    <tr style=\"text-align: right;\">\n",
       "      <th></th>\n",
       "      <th>tag</th>\n",
       "    </tr>\n",
       "    <tr>\n",
       "      <th>slug</th>\n",
       "      <th></th>\n",
       "    </tr>\n",
       "  </thead>\n",
       "  <tbody>\n",
       "    <tr>\n",
       "      <th>ghost</th>\n",
       "      <td>75</td>\n",
       "    </tr>\n",
       "    <tr>\n",
       "      <th>mongo-express</th>\n",
       "      <td>17</td>\n",
       "    </tr>\n",
       "    <tr>\n",
       "      <th>node</th>\n",
       "      <td>869</td>\n",
       "    </tr>\n",
       "  </tbody>\n",
       "</table>\n",
       "</div>"
      ],
      "text/plain": [
       "               tag\n",
       "slug              \n",
       "ghost           75\n",
       "mongo-express   17\n",
       "node           869"
      ]
     },
     "execution_count": 11,
     "metadata": {},
     "output_type": "execute_result"
    }
   ],
   "source": [
    "technical_lag[['slug','tag']].drop_duplicates().groupby('slug').count()"
   ]
  },
  {
   "cell_type": "code",
   "execution_count": 12,
   "metadata": {},
   "outputs": [
    {
     "data": {
      "text/html": [
       "<div>\n",
       "<style scoped>\n",
       "    .dataframe tbody tr th:only-of-type {\n",
       "        vertical-align: middle;\n",
       "    }\n",
       "\n",
       "    .dataframe tbody tr th {\n",
       "        vertical-align: top;\n",
       "    }\n",
       "\n",
       "    .dataframe thead th {\n",
       "        text-align: right;\n",
       "    }\n",
       "</style>\n",
       "<table border=\"1\" class=\"dataframe\">\n",
       "  <thead>\n",
       "    <tr style=\"text-align: right;\">\n",
       "      <th></th>\n",
       "      <th></th>\n",
       "      <th>tag</th>\n",
       "    </tr>\n",
       "    <tr>\n",
       "      <th>slug</th>\n",
       "      <th>base_os</th>\n",
       "      <th></th>\n",
       "    </tr>\n",
       "  </thead>\n",
       "  <tbody>\n",
       "    <tr>\n",
       "      <th rowspan=\"2\" valign=\"top\">ghost</th>\n",
       "      <th>Alpine</th>\n",
       "      <td>35</td>\n",
       "    </tr>\n",
       "    <tr>\n",
       "      <th>Debian</th>\n",
       "      <td>40</td>\n",
       "    </tr>\n",
       "    <tr>\n",
       "      <th>mongo-express</th>\n",
       "      <th>Debian</th>\n",
       "      <td>17</td>\n",
       "    </tr>\n",
       "    <tr>\n",
       "      <th rowspan=\"2\" valign=\"top\">node</th>\n",
       "      <th>Alpine</th>\n",
       "      <td>84</td>\n",
       "    </tr>\n",
       "    <tr>\n",
       "      <th>Debian</th>\n",
       "      <td>785</td>\n",
       "    </tr>\n",
       "  </tbody>\n",
       "</table>\n",
       "</div>"
      ],
      "text/plain": [
       "                       tag\n",
       "slug          base_os     \n",
       "ghost         Alpine    35\n",
       "              Debian    40\n",
       "mongo-express Debian    17\n",
       "node          Alpine    84\n",
       "              Debian   785"
      ]
     },
     "execution_count": 12,
     "metadata": {},
     "output_type": "execute_result"
    }
   ],
   "source": [
    "technical_lag[['slug','base_os','tag']].drop_duplicates().groupby(['slug','base_os']).count()"
   ]
  },
  {
   "cell_type": "code",
   "execution_count": 13,
   "metadata": {},
   "outputs": [
    {
     "name": "stdout",
     "output_type": "stream",
     "text": [
      "d=0.06129032258064516\n",
      "d=0.24153771760154738\n",
      "d=0.04489164086687306\n"
     ]
    }
   ],
   "source": [
    "for x in range(2016,2019):\n",
    "    cliffsDelta(df_tmp.query('base_os==\"Alpine\"').query('created==\"'+str(x)+'\"').package, \n",
    "            df_tmp.query('base_os==\"Debian\"').query('created==\"'+str(x)+'\"').package)"
   ]
  },
  {
   "cell_type": "code",
   "execution_count": 14,
   "metadata": {},
   "outputs": [
    {
     "name": "stdout",
     "output_type": "stream",
     "text": [
      "2016 MannwhitneyuResult(statistic=1164.0, pvalue=0.38265676575312257)\n",
      "2017 MannwhitneyuResult(statistic=10979.5, pvalue=0.00018557311687938727)\n",
      "2018 MannwhitneyuResult(statistic=617.0, pvalue=0.36881636060790757)\n"
     ]
    }
   ],
   "source": [
    "for x in range(2016,2019):\n",
    "    print(x,scipy.stats.mannwhitneyu(df_tmp.query('base_os==\"Alpine\"').query('created==\"'+str(x)+'\"').package, \n",
    "            df_tmp.query('base_os==\"Debian\"').query('created==\"'+str(x)+'\"').package))"
   ]
  },
  {
   "cell_type": "markdown",
   "metadata": {},
   "source": [
    "# RQ1: What is the technical lag induced by outdated packages in containers?"
   ]
  },
  {
   "cell_type": "code",
   "execution_count": 29,
   "metadata": {},
   "outputs": [
    {
     "data": {
      "text/html": [
       "<div>\n",
       "<style scoped>\n",
       "    .dataframe tbody tr th:only-of-type {\n",
       "        vertical-align: middle;\n",
       "    }\n",
       "\n",
       "    .dataframe tbody tr th {\n",
       "        vertical-align: top;\n",
       "    }\n",
       "\n",
       "    .dataframe thead th {\n",
       "        text-align: right;\n",
       "    }\n",
       "</style>\n",
       "<table border=\"1\" class=\"dataframe\">\n",
       "  <thead>\n",
       "    <tr style=\"text-align: right;\">\n",
       "      <th></th>\n",
       "      <th>package</th>\n",
       "      <th>version</th>\n",
       "      <th>created</th>\n",
       "      <th>tag</th>\n",
       "      <th>base_os</th>\n",
       "      <th>latest</th>\n",
       "      <th>date</th>\n",
       "      <th>release_type</th>\n",
       "      <th>date_latest</th>\n",
       "      <th>version_lag</th>\n",
       "      <th>extraction_date</th>\n",
       "      <th>version_lag_today</th>\n",
       "      <th>slug</th>\n",
       "    </tr>\n",
       "  </thead>\n",
       "  <tbody>\n",
       "    <tr>\n",
       "      <th>0</th>\n",
       "      <td>1to2</td>\n",
       "      <td>1.0.0</td>\n",
       "      <td>2016-08-01</td>\n",
       "      <td>ghost:0.8</td>\n",
       "      <td>Debian</td>\n",
       "      <td>1.0.0</td>\n",
       "      <td>2016-04-19</td>\n",
       "      <td>initial</td>\n",
       "      <td>2016-04-19</td>\n",
       "      <td>0,0,0</td>\n",
       "      <td>2018-03-13</td>\n",
       "      <td>0,0,0</td>\n",
       "      <td>ghost</td>\n",
       "    </tr>\n",
       "    <tr>\n",
       "      <th>1</th>\n",
       "      <td>1to2</td>\n",
       "      <td>1.0.0</td>\n",
       "      <td>2016-09-28</td>\n",
       "      <td>ghost:0.11.0</td>\n",
       "      <td>Debian</td>\n",
       "      <td>1.0.0</td>\n",
       "      <td>2016-04-19</td>\n",
       "      <td>initial</td>\n",
       "      <td>2016-04-19</td>\n",
       "      <td>0,0,0</td>\n",
       "      <td>2018-03-13</td>\n",
       "      <td>0,0,0</td>\n",
       "      <td>ghost</td>\n",
       "    </tr>\n",
       "  </tbody>\n",
       "</table>\n",
       "</div>"
      ],
      "text/plain": [
       "  package version     created           tag base_os latest        date  \\\n",
       "0    1to2   1.0.0  2016-08-01     ghost:0.8  Debian  1.0.0  2016-04-19   \n",
       "1    1to2   1.0.0  2016-09-28  ghost:0.11.0  Debian  1.0.0  2016-04-19   \n",
       "\n",
       "  release_type date_latest version_lag extraction_date version_lag_today  \\\n",
       "0      initial  2016-04-19       0,0,0      2018-03-13             0,0,0   \n",
       "1      initial  2016-04-19       0,0,0      2018-03-13             0,0,0   \n",
       "\n",
       "    slug  \n",
       "0  ghost  \n",
       "1  ghost  "
      ]
     },
     "execution_count": 29,
     "metadata": {},
     "output_type": "execute_result"
    }
   ],
   "source": [
    "technical_lag.head(2)"
   ]
  },
  {
   "cell_type": "markdown",
   "metadata": {},
   "source": [
    "At the time of the last update, how was the technical lag?"
   ]
  },
  {
   "cell_type": "code",
   "execution_count": 33,
   "metadata": {},
   "outputs": [
    {
     "data": {
      "image/png": "[encoded data removed]",
      "text/plain": [
       "<matplotlib.figure.Figure at 0x7fbaeaf2fc18>"
      ]
     },
     "metadata": {},
     "output_type": "display_data"
    }
   ],
   "source": [
    "# at the date of the last update\n",
    "df_tmp=technical_lag.drop('extraction_date', axis=1)\n",
    "df_tmp['outdate']=df_tmp.apply(lambda d: 'Up-to-date' if d['latest']==d['version']\n",
    "                              else 'Outdated', axis=1)\n",
    "\n",
    "df_tmp1=df_tmp[['package','version','tag','base_os','slug','outdate']].drop_duplicates()\n",
    "dff1=df_tmp1.groupby(['tag','base_os','outdate']).count().loc[:,['package']].reset_index()\n",
    "dff2=df_tmp1.groupby(['tag','base_os']).count().reset_index().loc[:,['tag','version']]\n",
    "\n",
    "dff=(dff1.\n",
    "     merge(\n",
    "         dff2,\n",
    "         left_on='tag',\n",
    "         right_on='tag',\n",
    "         how='left').\n",
    "     assign(installed=lambda d: (d['package']*100/d['version']).apply(int)).\n",
    "     drop(['version','package'], axis=1)\n",
    "    )\n",
    "\n",
    "\n",
    "ax = sns.violinplot(split=True, x=\"base_os\", y=\"installed\", hue=\"outdate\",\n",
    "                 data=dff, palette=flatui, linewidth=1)\n",
    "ax.figure.set_size_inches(12,2.5)\n",
    "ax.set_ylabel('Installed packages \\%')\n",
    "for patch in ax.patches:\n",
    "    patch.set_edgecolor('black')\n",
    "ax.set_xlabel(\"Container's OS\")\n",
    "ax.legend(loc='upper right', bbox_to_anchor=(1, 1.27), ncol=3, fontsize=15, fancybox=True, shadow=True)\n",
    "ax.figure.savefig('../../../seneca_research/docker_npm/figures/update.pdf', bbox_inches='tight', facecolor='white')\n"
   ]
  },
  {
   "cell_type": "code",
   "execution_count": 32,
   "metadata": {},
   "outputs": [
    {
     "name": "stdout",
     "output_type": "stream",
     "text": [
      "d=0.1392143555759596\n",
      "MannwhitneyuResult(statistic=43124.5, pvalue=0.0069018515544265607) False\n",
      "\n",
      "median \t\tAlpine 57.0 Debian 64.0\n"
     ]
    }
   ],
   "source": [
    "sample1=dff.query('outdate==\"Up-to-date\" and base_os==\"Alpine\"').installed\n",
    "sample2=dff.query('outdate==\"Up-to-date\" and base_os==\"Debian\"').installed\n",
    "print(scipy.stats.mannwhitneyu(sample2,sample1), cliffsDelta(sample2,sample1))\n",
    "print('\\nmedian','\\t\\tAlpine',sample1.median(), 'Debian',sample2.median())"
   ]
  },
  {
   "cell_type": "code",
   "execution_count": 49,
   "metadata": {},
   "outputs": [],
   "source": [
    "df_tmp=technical_lag.drop('extraction_date', axis=1)\n",
    "df_tmp['outdate']=df_tmp.apply(lambda d: 'Up-to-date' if d['version_lag_today']=='0,0,0'\n",
    "                              else 'Out-of-date', axis=1)\n",
    "\n",
    "df_tmp1=df_tmp[['package','version','tag','base_os','slug','outdate']].drop_duplicates()\n",
    "dff1=df_tmp1.groupby(['tag','base_os','outdate']).count().loc[:,['package']].reset_index()\n",
    "dff2=df_tmp1.groupby(['tag','base_os']).count().reset_index().loc[:,['tag','version']]\n",
    "\n",
    "dff=(dff1.\n",
    "     merge(\n",
    "         dff2,\n",
    "         left_on='tag',\n",
    "         right_on='tag',\n",
    "         how='left').\n",
    "     assign(installed=lambda d: (d['package']*100/d['version']).apply(int)).\n",
    "     drop(['version','package'], axis=1)\n",
    "    )"
   ]
  },
  {
   "cell_type": "code",
   "execution_count": 50,
   "metadata": {},
   "outputs": [
    {
     "name": "stdout",
     "output_type": "stream",
     "text": [
      "d=-0.4103275514481327\n",
      "MannwhitneyuResult(statistic=29542.0, pvalue=1.7855699102337304e-13) True\n",
      "\n",
      "median \t\tAlpine 41.0 Debian 34.0\n"
     ]
    }
   ],
   "source": [
    "sample1=dff.query('outdate==\"Up-to-date\" and base_os==\"Alpine\"').installed\n",
    "sample2=dff.query('outdate==\"Up-to-date\" and base_os==\"Debian\"').installed\n",
    "print(scipy.stats.mannwhitneyu(sample2,sample1), cliffsDelta(sample2,sample1))\n",
    "print('\\nmedian','\\t\\tAlpine',sample1.median(), 'Debian',sample2.median())"
   ]
  },
  {
   "cell_type": "code",
   "execution_count": 41,
   "metadata": {},
   "outputs": [
    {
     "name": "stderr",
     "output_type": "stream",
     "text": [
      "/usr/local/lib/python3.5/dist-packages/ipykernel_launcher.py:4: SettingWithCopyWarning: \n",
      "A value is trying to be set on a copy of a slice from a DataFrame.\n",
      "Try using .loc[row_indexer,col_indexer] = value instead\n",
      "\n",
      "See the caveats in the documentation: http://pandas.pydata.org/pandas-docs/stable/indexing.html#indexing-view-versus-copy\n",
      "  after removing the cwd from sys.path.\n",
      "/usr/local/lib/python3.5/dist-packages/ipykernel_launcher.py:5: SettingWithCopyWarning: \n",
      "A value is trying to be set on a copy of a slice from a DataFrame.\n",
      "Try using .loc[row_indexer,col_indexer] = value instead\n",
      "\n",
      "See the caveats in the documentation: http://pandas.pydata.org/pandas-docs/stable/indexing.html#indexing-view-versus-copy\n",
      "  \"\"\"\n",
      "/usr/local/lib/python3.5/dist-packages/ipykernel_launcher.py:7: SettingWithCopyWarning: \n",
      "A value is trying to be set on a copy of a slice from a DataFrame.\n",
      "Try using .loc[row_indexer,col_indexer] = value instead\n",
      "\n",
      "See the caveats in the documentation: http://pandas.pydata.org/pandas-docs/stable/indexing.html#indexing-view-versus-copy\n",
      "  import sys\n"
     ]
    },
    {
     "data": {
      "text/html": [
       "<div>\n",
       "<style scoped>\n",
       "    .dataframe tbody tr th:only-of-type {\n",
       "        vertical-align: middle;\n",
       "    }\n",
       "\n",
       "    .dataframe tbody tr th {\n",
       "        vertical-align: top;\n",
       "    }\n",
       "\n",
       "    .dataframe thead th {\n",
       "        text-align: right;\n",
       "    }\n",
       "</style>\n",
       "<table border=\"1\" class=\"dataframe\">\n",
       "  <thead>\n",
       "    <tr style=\"text-align: right;\">\n",
       "      <th></th>\n",
       "      <th>package</th>\n",
       "      <th>version</th>\n",
       "      <th>created</th>\n",
       "      <th>tag</th>\n",
       "      <th>base_os</th>\n",
       "      <th>latest</th>\n",
       "      <th>date</th>\n",
       "      <th>release_type</th>\n",
       "      <th>date_latest</th>\n",
       "      <th>version_lag</th>\n",
       "      <th>extraction_date</th>\n",
       "      <th>version_lag_today</th>\n",
       "      <th>slug</th>\n",
       "      <th>time_lag</th>\n",
       "    </tr>\n",
       "  </thead>\n",
       "  <tbody>\n",
       "    <tr>\n",
       "      <th>109</th>\n",
       "      <td>@segment/loosely-validate-event</td>\n",
       "      <td>1.1.2</td>\n",
       "      <td>2018-03-21</td>\n",
       "      <td>ghost:1</td>\n",
       "      <td>Debian</td>\n",
       "      <td>2.0.0</td>\n",
       "      <td>2017-02-10</td>\n",
       "      <td>patch</td>\n",
       "      <td>2018-01-24</td>\n",
       "      <td>1,0,0</td>\n",
       "      <td>2018-03-13</td>\n",
       "      <td>1,0,0</td>\n",
       "      <td>ghost</td>\n",
       "      <td>11.600000</td>\n",
       "    </tr>\n",
       "    <tr>\n",
       "      <th>110</th>\n",
       "      <td>@segment/loosely-validate-event</td>\n",
       "      <td>1.1.2</td>\n",
       "      <td>2018-03-21</td>\n",
       "      <td>ghost:1-alpine</td>\n",
       "      <td>Alpine</td>\n",
       "      <td>2.0.0</td>\n",
       "      <td>2017-02-10</td>\n",
       "      <td>patch</td>\n",
       "      <td>2018-01-24</td>\n",
       "      <td>1,0,0</td>\n",
       "      <td>2018-03-13</td>\n",
       "      <td>1,0,0</td>\n",
       "      <td>ghost</td>\n",
       "      <td>11.600000</td>\n",
       "    </tr>\n",
       "    <tr>\n",
       "      <th>115</th>\n",
       "      <td>CSSselect</td>\n",
       "      <td>0.4.1</td>\n",
       "      <td>2015-03-10</td>\n",
       "      <td>ghost:0.5.9</td>\n",
       "      <td>Debian</td>\n",
       "      <td>0.7.0</td>\n",
       "      <td>2014-02-14</td>\n",
       "      <td>patch</td>\n",
       "      <td>2014-03-05</td>\n",
       "      <td>0,2,0</td>\n",
       "      <td>2018-03-13</td>\n",
       "      <td>0,2,0</td>\n",
       "      <td>ghost</td>\n",
       "      <td>0.633333</td>\n",
       "    </tr>\n",
       "    <tr>\n",
       "      <th>190</th>\n",
       "      <td>JSONStream</td>\n",
       "      <td>1.2.1</td>\n",
       "      <td>2017-01-05</td>\n",
       "      <td>node:7.4-alpine</td>\n",
       "      <td>Alpine</td>\n",
       "      <td>1.3.0</td>\n",
       "      <td>2016-09-24</td>\n",
       "      <td>patch</td>\n",
       "      <td>2016-12-15</td>\n",
       "      <td>0,1,0</td>\n",
       "      <td>2018-03-13</td>\n",
       "      <td>0,1,2</td>\n",
       "      <td>node</td>\n",
       "      <td>2.733333</td>\n",
       "    </tr>\n",
       "    <tr>\n",
       "      <th>191</th>\n",
       "      <td>JSONStream</td>\n",
       "      <td>1.2.1</td>\n",
       "      <td>2017-01-17</td>\n",
       "      <td>node:7.4-slim</td>\n",
       "      <td>Debian</td>\n",
       "      <td>1.3.0</td>\n",
       "      <td>2016-09-24</td>\n",
       "      <td>patch</td>\n",
       "      <td>2016-12-15</td>\n",
       "      <td>0,1,0</td>\n",
       "      <td>2018-03-13</td>\n",
       "      <td>0,1,2</td>\n",
       "      <td>node</td>\n",
       "      <td>2.733333</td>\n",
       "    </tr>\n",
       "  </tbody>\n",
       "</table>\n",
       "</div>"
      ],
      "text/plain": [
       "                             package version     created              tag  \\\n",
       "109  @segment/loosely-validate-event   1.1.2  2018-03-21          ghost:1   \n",
       "110  @segment/loosely-validate-event   1.1.2  2018-03-21   ghost:1-alpine   \n",
       "115                        CSSselect   0.4.1  2015-03-10      ghost:0.5.9   \n",
       "190                       JSONStream   1.2.1  2017-01-05  node:7.4-alpine   \n",
       "191                       JSONStream   1.2.1  2017-01-17    node:7.4-slim   \n",
       "\n",
       "    base_os latest       date release_type date_latest version_lag  \\\n",
       "109  Debian  2.0.0 2017-02-10        patch  2018-01-24       1,0,0   \n",
       "110  Alpine  2.0.0 2017-02-10        patch  2018-01-24       1,0,0   \n",
       "115  Debian  0.7.0 2014-02-14        patch  2014-03-05       0,2,0   \n",
       "190  Alpine  1.3.0 2016-09-24        patch  2016-12-15       0,1,0   \n",
       "191  Debian  1.3.0 2016-09-24        patch  2016-12-15       0,1,0   \n",
       "\n",
       "    extraction_date version_lag_today   slug   time_lag  \n",
       "109      2018-03-13             1,0,0  ghost  11.600000  \n",
       "110      2018-03-13             1,0,0  ghost  11.600000  \n",
       "115      2018-03-13             0,2,0  ghost   0.633333  \n",
       "190      2018-03-13             0,1,2   node   2.733333  \n",
       "191      2018-03-13             0,1,2   node   2.733333  "
      ]
     },
     "execution_count": 41,
     "metadata": {},
     "output_type": "execute_result"
    }
   ],
   "source": [
    "df_tmp=technical_lag.query('latest!=version')\n",
    "\n",
    "#### For those who are outdated! what is the technical lag\n",
    "df_tmp['date_latest']=df_tmp['date_latest'].apply(lambda x: datetime.strptime(x, \"%Y-%m-%d\"))\n",
    "df_tmp['date']=df_tmp['date'].apply(lambda x: datetime.strptime(x, \"%Y-%m-%d\"))\n",
    "\n",
    "df_tmp['time_lag']=df_tmp.apply(lambda d: (d['date_latest'] - d['date']).days/30, axis=1)\n",
    "\n",
    "df_tmp.head()\n",
    "#ax.figure.savefig('../../seneca_research/docker_debian/figures/version_lag.png', bbox_inches='tight', facecolor='white')"
   ]
  },
  {
   "cell_type": "code",
   "execution_count": 51,
   "metadata": {},
   "outputs": [
    {
     "data": {
      "image/png": "[encoded data removed]",
      "text/plain": [
       "<matplotlib.figure.Figure at 0x7fb0fb773cc0>"
      ]
     },
     "metadata": {},
     "output_type": "display_data"
    }
   ],
   "source": [
    "#data=df_tmp[['package','created','base_os','time_lag']]\n",
    "#data['created']=data['created'].apply(lambda x: x.split('-')[0])\n",
    "ax = sns.violinplot(split=True, x=\"created\", y=\"time_lag\", data=data, hue='base_os', palette=\"muted\", linewidth=1)\n",
    "\n",
    "ax.figure.set_size_inches(12,3)\n",
    "ax.set_xlabel(\"Image last update year\")\n",
    "ax.set_ylabel('Package time \\n Lag (in months)')\n",
    "for patch in ax.patches:\n",
    "    patch.set_edgecolor('black')\n",
    "ax.legend(loc='upper right', bbox_to_anchor=(0.8, 1.3), ncol=3, fontsize=20, fancybox=True, shadow=True)\n",
    "#ax.set_ylim(0,50)\n",
    "#ax.figure.savefig('../../../seneca_research/docker_npm/figures/time_lag.pdf', bbox_inches='tight', facecolor='white')\n"
   ]
  },
  {
   "cell_type": "code",
   "execution_count": 44,
   "metadata": {},
   "outputs": [
    {
     "name": "stdout",
     "output_type": "stream",
     "text": [
      "d=-0.16182121040390526\n",
      "MannwhitneyuResult(statistic=1088874220.0, pvalue=0.0) True\n",
      "\n",
      "median \t\tAlpine 12.133333333333333 Debian 9.2\n"
     ]
    }
   ],
   "source": [
    "sample1=data.query('base_os==\"Alpine\"').time_lag\n",
    "sample2=data.query('base_os==\"Debian\"').time_lag\n",
    "print(scipy.stats.mannwhitneyu(sample2,sample1), cliffsDelta(sample2,sample1))\n",
    "print('\\nmedian','\\t\\tAlpine',sample1.median(), 'Debian',sample2.median())"
   ]
  },
  {
   "cell_type": "code",
   "execution_count": 35,
   "metadata": {},
   "outputs": [
    {
     "data": {
      "text/plain": [
       "9.733333333333333"
      ]
     },
     "execution_count": 35,
     "metadata": {},
     "output_type": "execute_result"
    }
   ],
   "source": [
    "data.time_lag.median()"
   ]
  },
  {
   "cell_type": "code",
   "execution_count": 54,
   "metadata": {},
   "outputs": [
    {
     "name": "stderr",
     "output_type": "stream",
     "text": [
      "/usr/local/lib/python3.5/dist-packages/ipykernel_launcher.py:4: SettingWithCopyWarning: \n",
      "A value is trying to be set on a copy of a slice from a DataFrame.\n",
      "Try using .loc[row_indexer,col_indexer] = value instead\n",
      "\n",
      "See the caveats in the documentation: http://pandas.pydata.org/pandas-docs/stable/indexing.html#indexing-view-versus-copy\n",
      "  after removing the cwd from sys.path.\n",
      "/usr/local/lib/python3.5/dist-packages/ipykernel_launcher.py:5: SettingWithCopyWarning: \n",
      "A value is trying to be set on a copy of a slice from a DataFrame.\n",
      "Try using .loc[row_indexer,col_indexer] = value instead\n",
      "\n",
      "See the caveats in the documentation: http://pandas.pydata.org/pandas-docs/stable/indexing.html#indexing-view-versus-copy\n",
      "  \"\"\"\n",
      "/usr/local/lib/python3.5/dist-packages/ipykernel_launcher.py:6: SettingWithCopyWarning: \n",
      "A value is trying to be set on a copy of a slice from a DataFrame.\n",
      "Try using .loc[row_indexer,col_indexer] = value instead\n",
      "\n",
      "See the caveats in the documentation: http://pandas.pydata.org/pandas-docs/stable/indexing.html#indexing-view-versus-copy\n",
      "  \n",
      "/usr/local/lib/python3.5/dist-packages/ipykernel_launcher.py:7: SettingWithCopyWarning: \n",
      "A value is trying to be set on a copy of a slice from a DataFrame.\n",
      "Try using .loc[row_indexer,col_indexer] = value instead\n",
      "\n",
      "See the caveats in the documentation: http://pandas.pydata.org/pandas-docs/stable/indexing.html#indexing-view-versus-copy\n",
      "  import sys\n"
     ]
    },
    {
     "data": {
      "text/html": [
       "<div>\n",
       "<style scoped>\n",
       "    .dataframe tbody tr th:only-of-type {\n",
       "        vertical-align: middle;\n",
       "    }\n",
       "\n",
       "    .dataframe tbody tr th {\n",
       "        vertical-align: top;\n",
       "    }\n",
       "\n",
       "    .dataframe thead th {\n",
       "        text-align: right;\n",
       "    }\n",
       "</style>\n",
       "<table border=\"1\" class=\"dataframe\">\n",
       "  <thead>\n",
       "    <tr style=\"text-align: right;\">\n",
       "      <th></th>\n",
       "      <th>package</th>\n",
       "      <th>version</th>\n",
       "      <th>created</th>\n",
       "      <th>tag</th>\n",
       "      <th>base_os</th>\n",
       "      <th>latest</th>\n",
       "      <th>date</th>\n",
       "      <th>release_type</th>\n",
       "      <th>date_latest</th>\n",
       "      <th>version_lag</th>\n",
       "      <th>extraction_date</th>\n",
       "      <th>version_lag_today</th>\n",
       "      <th>slug</th>\n",
       "      <th>major</th>\n",
       "      <th>minor</th>\n",
       "      <th>patch</th>\n",
       "    </tr>\n",
       "  </thead>\n",
       "  <tbody>\n",
       "    <tr>\n",
       "      <th>109</th>\n",
       "      <td>@segment/loosely-validate-event</td>\n",
       "      <td>1.1.2</td>\n",
       "      <td>2018</td>\n",
       "      <td>ghost:1</td>\n",
       "      <td>Debian</td>\n",
       "      <td>2.0.0</td>\n",
       "      <td>2017-02-10</td>\n",
       "      <td>patch</td>\n",
       "      <td>2018-01-24</td>\n",
       "      <td>1,0,0</td>\n",
       "      <td>2018-03-13</td>\n",
       "      <td>1,0,0</td>\n",
       "      <td>ghost</td>\n",
       "      <td>1</td>\n",
       "      <td>0</td>\n",
       "      <td>0</td>\n",
       "    </tr>\n",
       "    <tr>\n",
       "      <th>110</th>\n",
       "      <td>@segment/loosely-validate-event</td>\n",
       "      <td>1.1.2</td>\n",
       "      <td>2018</td>\n",
       "      <td>ghost:1-alpine</td>\n",
       "      <td>Alpine</td>\n",
       "      <td>2.0.0</td>\n",
       "      <td>2017-02-10</td>\n",
       "      <td>patch</td>\n",
       "      <td>2018-01-24</td>\n",
       "      <td>1,0,0</td>\n",
       "      <td>2018-03-13</td>\n",
       "      <td>1,0,0</td>\n",
       "      <td>ghost</td>\n",
       "      <td>1</td>\n",
       "      <td>0</td>\n",
       "      <td>0</td>\n",
       "    </tr>\n",
       "  </tbody>\n",
       "</table>\n",
       "</div>"
      ],
      "text/plain": [
       "                             package version created             tag base_os  \\\n",
       "109  @segment/loosely-validate-event   1.1.2    2018         ghost:1  Debian   \n",
       "110  @segment/loosely-validate-event   1.1.2    2018  ghost:1-alpine  Alpine   \n",
       "\n",
       "    latest        date release_type date_latest version_lag extraction_date  \\\n",
       "109  2.0.0  2017-02-10        patch  2018-01-24       1,0,0      2018-03-13   \n",
       "110  2.0.0  2017-02-10        patch  2018-01-24       1,0,0      2018-03-13   \n",
       "\n",
       "    version_lag_today   slug  major  minor  patch  \n",
       "109             1,0,0  ghost      1      0      0  \n",
       "110             1,0,0  ghost      1      0      0  "
      ]
     },
     "execution_count": 54,
     "metadata": {},
     "output_type": "execute_result"
    }
   ],
   "source": [
    "df_tmp=technical_lag.query('version_lag!=\"0,0,0\"')\n",
    "\n",
    "#### For those who are outdated! what is the technical lag\n",
    "df_tmp['major']=df_tmp['version_lag'].apply(lambda x: int(x.split(',')[0]))\n",
    "df_tmp['minor']=df_tmp['version_lag'].apply(lambda x: int(x.split(',')[1]))\n",
    "df_tmp['patch']=df_tmp['version_lag'].apply(lambda x: int(x.split(',')[2]))\n",
    "df_tmp['created']=df_tmp['created'].apply(lambda x: x.split('-')[0])\n",
    "\n",
    "df_tmp.head(2)\n",
    "#ax.figure.savefig('../../seneca_research/docker_debian/figures/version_lag.png', bbox_inches='tight', facecolor='white')"
   ]
  },
  {
   "cell_type": "code",
   "execution_count": 55,
   "metadata": {},
   "outputs": [
    {
     "data": {
      "text/plain": [
       "(0, 10)"
      ]
     },
     "execution_count": 55,
     "metadata": {},
     "output_type": "execute_result"
    },
    {
     "data": {
      "image/png": "[encoded data removed]",
      "text/plain": [
       "<matplotlib.figure.Figure at 0x7fb0fb9151d0>"
      ]
     },
     "metadata": {},
     "output_type": "display_data"
    }
   ],
   "source": [
    "# at the time of the last update\n",
    "df_tmp2=df_tmp[['major','minor','patch','created']]\n",
    "df_tmp2=pd.melt(df_tmp2, id_vars=['created'], value_vars=['major','minor','patch'])\n",
    "\n",
    "ax = sns.boxplot(x=\"created\", y=\"value\", data=df_tmp2, hue='variable', palette=\"muted\", linewidth=1)\n",
    "\n",
    "ax.figure.set_size_inches(12,3)\n",
    "ax.set_xlabel(\"Image last update year\")\n",
    "ax.set_ylabel('Package \\n version Lag')\n",
    "for patch in ax.patches:\n",
    "    patch.set_edgecolor('black')\n",
    "ax.legend(loc='upper right', bbox_to_anchor=(0.8, 1.3), ncol=3, fontsize=20, fancybox=True, shadow=True)\n",
    "ax.set_ylim(0,10)\n",
    "#ax.figure.savefig('../../../papers/cloudtech18/figures/version_lag.pdf', bbox_inches='tight', facecolor='white')\n"
   ]
  },
  {
   "cell_type": "code",
   "execution_count": 57,
   "metadata": {},
   "outputs": [
    {
     "name": "stdout",
     "output_type": "stream",
     "text": [
      "patch 1.0\n",
      "minor 0.0\n",
      "major 0.0\n"
     ]
    }
   ],
   "source": [
    "for x in ['patch','minor','major']:\n",
    "    print(x,df_tmp2.query('variable==\"'+x+'\"').value.median())\n"
   ]
  },
  {
   "cell_type": "code",
   "execution_count": 46,
   "metadata": {},
   "outputs": [
    {
     "name": "stderr",
     "output_type": "stream",
     "text": [
      "/usr/local/lib/python3.5/dist-packages/ipykernel_launcher.py:4: SettingWithCopyWarning: \n",
      "A value is trying to be set on a copy of a slice from a DataFrame.\n",
      "Try using .loc[row_indexer,col_indexer] = value instead\n",
      "\n",
      "See the caveats in the documentation: http://pandas.pydata.org/pandas-docs/stable/indexing.html#indexing-view-versus-copy\n",
      "  after removing the cwd from sys.path.\n",
      "/usr/local/lib/python3.5/dist-packages/ipykernel_launcher.py:5: SettingWithCopyWarning: \n",
      "A value is trying to be set on a copy of a slice from a DataFrame.\n",
      "Try using .loc[row_indexer,col_indexer] = value instead\n",
      "\n",
      "See the caveats in the documentation: http://pandas.pydata.org/pandas-docs/stable/indexing.html#indexing-view-versus-copy\n",
      "  \"\"\"\n",
      "/usr/local/lib/python3.5/dist-packages/ipykernel_launcher.py:6: SettingWithCopyWarning: \n",
      "A value is trying to be set on a copy of a slice from a DataFrame.\n",
      "Try using .loc[row_indexer,col_indexer] = value instead\n",
      "\n",
      "See the caveats in the documentation: http://pandas.pydata.org/pandas-docs/stable/indexing.html#indexing-view-versus-copy\n",
      "  \n",
      "/usr/local/lib/python3.5/dist-packages/ipykernel_launcher.py:7: SettingWithCopyWarning: \n",
      "A value is trying to be set on a copy of a slice from a DataFrame.\n",
      "Try using .loc[row_indexer,col_indexer] = value instead\n",
      "\n",
      "See the caveats in the documentation: http://pandas.pydata.org/pandas-docs/stable/indexing.html#indexing-view-versus-copy\n",
      "  import sys\n"
     ]
    },
    {
     "data": {
      "text/plain": [
       "(0, 20)"
      ]
     },
     "execution_count": 46,
     "metadata": {},
     "output_type": "execute_result"
    },
    {
     "data": {
      "image/png": "[encoded data removed]",
      "text/plain": [
       "<matplotlib.figure.Figure at 0x7f6cc22448d0>"
      ]
     },
     "metadata": {},
     "output_type": "display_data"
    }
   ],
   "source": [
    "df_tmp=technical_lag.query('version_lag_today!=\"0,0,0\"')\n",
    "\n",
    "#### For those who are outdated! what is the technical lag\n",
    "df_tmp['major']=df_tmp['version_lag_today'].apply(lambda x: int(x.split(',')[0]))\n",
    "df_tmp['minor']=df_tmp['version_lag_today'].apply(lambda x: int(x.split(',')[1]))\n",
    "df_tmp['patch']=df_tmp['version_lag_today'].apply(lambda x: int(x.split(',')[2]))\n",
    "df_tmp['created']=df_tmp['created'].apply(lambda x: x.split('-')[0])\n",
    "\n",
    "df_tmp.head(2)\n",
    "#ax.figure.savefig('../../seneca_research/docker_debian/figures/version_lag.png', bbox_inches='tight', facecolor='white')\n",
    "\n",
    "df_tmp2=df_tmp[['major','minor','patch','created']]\n",
    "df_tmp2=pd.melt(df_tmp2, id_vars=['created'], value_vars=['major','minor','patch'])\n",
    "\n",
    "ax = sns.boxplot(x=\"created\", y=\"value\", data=df_tmp2, hue='variable', palette=\"muted\", linewidth=1)\n",
    "\n",
    "ax.figure.set_size_inches(12,3)\n",
    "ax.set_xlabel(\"Image last update year\")\n",
    "ax.set_ylabel('Package \\n version Lag')\n",
    "for patch in ax.patches:\n",
    "    patch.set_edgecolor('black')\n",
    "ax.legend(loc='upper right', bbox_to_anchor=(0.8, 1.3), ncol=3, fontsize=20, fancybox=True, shadow=True)\n",
    "ax.set_ylim(0,20)\n",
    "#ax.figure.savefig('../../../papers/cloudtech18/figures/version_lag_today.pdf', bbox_inches='tight', facecolor='white')\n"
   ]
  },
  {
   "cell_type": "code",
   "execution_count": 47,
   "metadata": {},
   "outputs": [
    {
     "name": "stdout",
     "output_type": "stream",
     "text": [
      "patch 2.0\n",
      "minor 1.0\n",
      "major 0.0\n"
     ]
    }
   ],
   "source": [
    "for x in ['patch','minor','major']:\n",
    "    print(x,df_tmp2.query('variable==\"'+x+'\"').value.median())\n"
   ]
  },
  {
   "cell_type": "code",
   "execution_count": null,
   "metadata": {},
   "outputs": [],
   "source": []
  },
  {
   "cell_type": "markdown",
   "metadata": {},
   "source": [
    "# RQ2: How vulnerable are npm packages in containers?"
   ]
  },
  {
   "cell_type": "code",
   "execution_count": 62,
   "metadata": {},
   "outputs": [
    {
     "data": {
      "text/html": [
       "<div>\n",
       "<style scoped>\n",
       "    .dataframe tbody tr th:only-of-type {\n",
       "        vertical-align: middle;\n",
       "    }\n",
       "\n",
       "    .dataframe tbody tr th {\n",
       "        vertical-align: top;\n",
       "    }\n",
       "\n",
       "    .dataframe thead th {\n",
       "        text-align: right;\n",
       "    }\n",
       "</style>\n",
       "<table border=\"1\" class=\"dataframe\">\n",
       "  <thead>\n",
       "    <tr style=\"text-align: right;\">\n",
       "      <th></th>\n",
       "      <th>package</th>\n",
       "      <th>version</th>\n",
       "      <th>versions</th>\n",
       "      <th>tag</th>\n",
       "      <th>base_os</th>\n",
       "      <th>created</th>\n",
       "      <th>id</th>\n",
       "      <th>name</th>\n",
       "      <th>published</th>\n",
       "      <th>severity</th>\n",
       "      <th>disclosed</th>\n",
       "      <th>affected</th>\n",
       "    </tr>\n",
       "  </thead>\n",
       "  <tbody>\n",
       "    <tr>\n",
       "      <th>0</th>\n",
       "      <td>atob</td>\n",
       "      <td>2.0.3</td>\n",
       "      <td>&lt;2.1.0</td>\n",
       "      <td>ghost:1.18-alpine</td>\n",
       "      <td>alpine</td>\n",
       "      <td>2017-12-09</td>\n",
       "      <td>npm:atob:20180429</td>\n",
       "      <td>Uninitialized Memory Exposure</td>\n",
       "      <td>30 Apr, 2018</td>\n",
       "      <td>medium</td>\n",
       "      <td>29 Apr, 2018</td>\n",
       "      <td>True</td>\n",
       "    </tr>\n",
       "    <tr>\n",
       "      <th>1</th>\n",
       "      <td>atob</td>\n",
       "      <td>2.0.3</td>\n",
       "      <td>&lt;2.1.0</td>\n",
       "      <td>ghost:1.18.2</td>\n",
       "      <td>debian</td>\n",
       "      <td>2017-12-05</td>\n",
       "      <td>npm:atob:20180429</td>\n",
       "      <td>Uninitialized Memory Exposure</td>\n",
       "      <td>30 Apr, 2018</td>\n",
       "      <td>medium</td>\n",
       "      <td>29 Apr, 2018</td>\n",
       "      <td>True</td>\n",
       "    </tr>\n",
       "    <tr>\n",
       "      <th>2</th>\n",
       "      <td>atob</td>\n",
       "      <td>2.0.3</td>\n",
       "      <td>&lt;2.1.0</td>\n",
       "      <td>ghost:1.18.2-alpine</td>\n",
       "      <td>alpine</td>\n",
       "      <td>2017-12-05</td>\n",
       "      <td>npm:atob:20180429</td>\n",
       "      <td>Uninitialized Memory Exposure</td>\n",
       "      <td>30 Apr, 2018</td>\n",
       "      <td>medium</td>\n",
       "      <td>29 Apr, 2018</td>\n",
       "      <td>True</td>\n",
       "    </tr>\n",
       "    <tr>\n",
       "      <th>3</th>\n",
       "      <td>atob</td>\n",
       "      <td>2.0.3</td>\n",
       "      <td>&lt;2.1.0</td>\n",
       "      <td>ghost:1.18.3</td>\n",
       "      <td>debian</td>\n",
       "      <td>2017-12-07</td>\n",
       "      <td>npm:atob:20180429</td>\n",
       "      <td>Uninitialized Memory Exposure</td>\n",
       "      <td>30 Apr, 2018</td>\n",
       "      <td>medium</td>\n",
       "      <td>29 Apr, 2018</td>\n",
       "      <td>True</td>\n",
       "    </tr>\n",
       "    <tr>\n",
       "      <th>4</th>\n",
       "      <td>atob</td>\n",
       "      <td>2.0.3</td>\n",
       "      <td>&lt;2.1.0</td>\n",
       "      <td>ghost:1.18.3-alpine</td>\n",
       "      <td>alpine</td>\n",
       "      <td>2017-12-07</td>\n",
       "      <td>npm:atob:20180429</td>\n",
       "      <td>Uninitialized Memory Exposure</td>\n",
       "      <td>30 Apr, 2018</td>\n",
       "      <td>medium</td>\n",
       "      <td>29 Apr, 2018</td>\n",
       "      <td>True</td>\n",
       "    </tr>\n",
       "  </tbody>\n",
       "</table>\n",
       "</div>"
      ],
      "text/plain": [
       "  package version versions                  tag base_os     created  \\\n",
       "0    atob   2.0.3   <2.1.0    ghost:1.18-alpine  alpine  2017-12-09   \n",
       "1    atob   2.0.3   <2.1.0         ghost:1.18.2  debian  2017-12-05   \n",
       "2    atob   2.0.3   <2.1.0  ghost:1.18.2-alpine  alpine  2017-12-05   \n",
       "3    atob   2.0.3   <2.1.0         ghost:1.18.3  debian  2017-12-07   \n",
       "4    atob   2.0.3   <2.1.0  ghost:1.18.3-alpine  alpine  2017-12-07   \n",
       "\n",
       "                  id                           name     published severity  \\\n",
       "0  npm:atob:20180429  Uninitialized Memory Exposure  30 Apr, 2018   medium   \n",
       "1  npm:atob:20180429  Uninitialized Memory Exposure  30 Apr, 2018   medium   \n",
       "2  npm:atob:20180429  Uninitialized Memory Exposure  30 Apr, 2018   medium   \n",
       "3  npm:atob:20180429  Uninitialized Memory Exposure  30 Apr, 2018   medium   \n",
       "4  npm:atob:20180429  Uninitialized Memory Exposure  30 Apr, 2018   medium   \n",
       "\n",
       "      disclosed affected  \n",
       "0  29 Apr, 2018     True  \n",
       "1  29 Apr, 2018     True  \n",
       "2  29 Apr, 2018     True  \n",
       "3  29 Apr, 2018     True  \n",
       "4  29 Apr, 2018     True  "
      ]
     },
     "execution_count": 62,
     "metadata": {},
     "output_type": "execute_result"
    }
   ],
   "source": [
    "vulnerabilities.head()"
   ]
  },
  {
   "cell_type": "code",
   "execution_count": 63,
   "metadata": {},
   "outputs": [],
   "source": [
    "df_tmp=vulnerabilities.query('affected==\"True\"')[['id','disclosed','severity']].drop_duplicates()\n",
    "df_tmp['disclosed']=df_tmp['disclosed'].apply(lambda x: x.split(',')[1])\n",
    "df_tmp=df_tmp.groupby(['disclosed','severity']).count().reset_index()\n"
   ]
  },
  {
   "cell_type": "code",
   "execution_count": 64,
   "metadata": {},
   "outputs": [
    {
     "data": {
      "image/png": "[encoded data removed]",
      "text/plain": [
       "<matplotlib.figure.Figure at 0x7fb0fe0424e0>"
      ]
     },
     "metadata": {},
     "output_type": "display_data"
    }
   ],
   "source": [
    "ax = sns.barplot(x=\"disclosed\", \n",
    "                 y=\"id\", \n",
    "                 hue=\"severity\", \n",
    "                 data=df_tmp, \n",
    "                 hue_order=['low','medium','high'],\n",
    "                 palette=\"muted\", \n",
    "                 linewidth=1)\n",
    "ax.figure.set_size_inches(12,3)\n",
    "ax.set_xlabel(\"Year of disclose\")\n",
    "ax.set_ylabel('Vulnerabilities')\n",
    "for patch in ax.patches:\n",
    "    patch.set_edgecolor('black')\n",
    "ax.legend(loc='upper right', bbox_to_anchor=(1, 1.3), ncol=3, fontsize=20, fancybox=True, shadow=True)\n",
    "ax.text(0.28, 1.15, 'Severity:', transform=ax.transAxes, fontsize=20,\n",
    "        verticalalignment='top', color='black')\n",
    "ax.figure.savefig('../../../papers/cloudtech18/figures/vuls.pdf', bbox_inches='tight', facecolor='white')\n"
   ]
  },
  {
   "cell_type": "code",
   "execution_count": 9,
   "metadata": {},
   "outputs": [
    {
     "data": {
      "text/plain": [
       "74"
      ]
     },
     "execution_count": 9,
     "metadata": {},
     "output_type": "execute_result"
    }
   ],
   "source": [
    "vulnerabilities.query('affected==\"True\"')[['id']].drop_duplicates().size"
   ]
  },
  {
   "cell_type": "code",
   "execution_count": 104,
   "metadata": {},
   "outputs": [
    {
     "data": {
      "text/plain": [
       "52"
      ]
     },
     "execution_count": 104,
     "metadata": {},
     "output_type": "execute_result"
    }
   ],
   "source": [
    "vulnerabilities.query('affected==\"True\"')[['package']].drop_duplicates().size"
   ]
  },
  {
   "cell_type": "code",
   "execution_count": 7,
   "metadata": {},
   "outputs": [
    {
     "data": {
      "text/plain": [
       "1412"
      ]
     },
     "execution_count": 7,
     "metadata": {},
     "output_type": "execute_result"
    }
   ],
   "source": [
    "technical_lag.package.drop_duplicates().size"
   ]
  },
  {
   "cell_type": "code",
   "execution_count": 14,
   "metadata": {},
   "outputs": [
    {
     "data": {
      "text/html": [
       "<div>\n",
       "<style scoped>\n",
       "    .dataframe tbody tr th:only-of-type {\n",
       "        vertical-align: middle;\n",
       "    }\n",
       "\n",
       "    .dataframe tbody tr th {\n",
       "        vertical-align: top;\n",
       "    }\n",
       "\n",
       "    .dataframe thead th {\n",
       "        text-align: right;\n",
       "    }\n",
       "</style>\n",
       "<table border=\"1\" class=\"dataframe\">\n",
       "  <thead>\n",
       "    <tr style=\"text-align: right;\">\n",
       "      <th></th>\n",
       "      <th>id</th>\n",
       "      <th>severity</th>\n",
       "    </tr>\n",
       "    <tr>\n",
       "      <th>disclosed</th>\n",
       "      <th></th>\n",
       "      <th></th>\n",
       "    </tr>\n",
       "  </thead>\n",
       "  <tbody>\n",
       "    <tr>\n",
       "      <th>2014</th>\n",
       "      <td>0.094595</td>\n",
       "      <td>0.094595</td>\n",
       "    </tr>\n",
       "    <tr>\n",
       "      <th>2015</th>\n",
       "      <td>0.148649</td>\n",
       "      <td>0.148649</td>\n",
       "    </tr>\n",
       "    <tr>\n",
       "      <th>2016</th>\n",
       "      <td>0.216216</td>\n",
       "      <td>0.216216</td>\n",
       "    </tr>\n",
       "    <tr>\n",
       "      <th>2017</th>\n",
       "      <td>0.310811</td>\n",
       "      <td>0.310811</td>\n",
       "    </tr>\n",
       "    <tr>\n",
       "      <th>2018</th>\n",
       "      <td>0.229730</td>\n",
       "      <td>0.229730</td>\n",
       "    </tr>\n",
       "  </tbody>\n",
       "</table>\n",
       "</div>"
      ],
      "text/plain": [
       "                 id  severity\n",
       "disclosed                    \n",
       " 2014      0.094595  0.094595\n",
       " 2015      0.148649  0.148649\n",
       " 2016      0.216216  0.216216\n",
       " 2017      0.310811  0.310811\n",
       " 2018      0.229730  0.229730"
      ]
     },
     "execution_count": 14,
     "metadata": {},
     "output_type": "execute_result"
    }
   ],
   "source": [
    "df_tmp=vulnerabilities.query('affected==\"True\"')[['id','disclosed','severity']].drop_duplicates()\n",
    "df_tmp['disclosed']=df_tmp['disclosed'].apply(lambda x: x.split(',')[1])\n",
    "df_tmp.groupby('disclosed').count()/74"
   ]
  },
  {
   "cell_type": "code",
   "execution_count": 15,
   "metadata": {},
   "outputs": [
    {
     "data": {
      "text/html": [
       "<div>\n",
       "<style scoped>\n",
       "    .dataframe tbody tr th:only-of-type {\n",
       "        vertical-align: middle;\n",
       "    }\n",
       "\n",
       "    .dataframe tbody tr th {\n",
       "        vertical-align: top;\n",
       "    }\n",
       "\n",
       "    .dataframe thead th {\n",
       "        text-align: right;\n",
       "    }\n",
       "</style>\n",
       "<table border=\"1\" class=\"dataframe\">\n",
       "  <thead>\n",
       "    <tr style=\"text-align: right;\">\n",
       "      <th></th>\n",
       "      <th>id</th>\n",
       "      <th>disclosed</th>\n",
       "    </tr>\n",
       "    <tr>\n",
       "      <th>severity</th>\n",
       "      <th></th>\n",
       "      <th></th>\n",
       "    </tr>\n",
       "  </thead>\n",
       "  <tbody>\n",
       "    <tr>\n",
       "      <th>high</th>\n",
       "      <td>0.351351</td>\n",
       "      <td>0.351351</td>\n",
       "    </tr>\n",
       "    <tr>\n",
       "      <th>low</th>\n",
       "      <td>0.243243</td>\n",
       "      <td>0.243243</td>\n",
       "    </tr>\n",
       "    <tr>\n",
       "      <th>medium</th>\n",
       "      <td>0.405405</td>\n",
       "      <td>0.405405</td>\n",
       "    </tr>\n",
       "  </tbody>\n",
       "</table>\n",
       "</div>"
      ],
      "text/plain": [
       "                id  disclosed\n",
       "severity                     \n",
       "high      0.351351   0.351351\n",
       "low       0.243243   0.243243\n",
       "medium    0.405405   0.405405"
      ]
     },
     "execution_count": 15,
     "metadata": {},
     "output_type": "execute_result"
    }
   ],
   "source": [
    "df_tmp=vulnerabilities.query('affected==\"True\"')[['id','disclosed','severity']].drop_duplicates()\n",
    "df_tmp.groupby('severity').count()/74"
   ]
  },
  {
   "cell_type": "code",
   "execution_count": 16,
   "metadata": {},
   "outputs": [],
   "source": [
    "df_tmp=vulnerabilities.query('affected==\"True\"')[['id','disclosed','severity']]\n",
    "df_tmp['disclosed']=df_tmp['disclosed'].apply(lambda x: x.split(',')[1])\n",
    "df_tmp=df_tmp.groupby(['disclosed','severity']).count().reset_index()\n"
   ]
  },
  {
   "cell_type": "code",
   "execution_count": 17,
   "metadata": {},
   "outputs": [
    {
     "data": {
      "text/plain": [
       "Text(0.28,1.15,'Severity:')"
      ]
     },
     "execution_count": 17,
     "metadata": {},
     "output_type": "execute_result"
    },
    {
     "data": {
      "image/png": "[encoded data removed]",
      "text/plain": [
       "<matplotlib.figure.Figure at 0x7f6cc3589550>"
      ]
     },
     "metadata": {},
     "output_type": "display_data"
    }
   ],
   "source": [
    "ax = sns.barplot(x=\"disclosed\", \n",
    "                 y=\"id\", \n",
    "                 hue=\"severity\", \n",
    "                 data=df_tmp, \n",
    "                 hue_order=['low','medium','high'],\n",
    "                 palette=\"muted\", \n",
    "                 linewidth=1)\n",
    "ax.figure.set_size_inches(12,3)\n",
    "ax.set_xlabel(\"Year of disclose\")\n",
    "ax.set_ylabel('Vulnerabilities')\n",
    "for patch in ax.patches:\n",
    "    patch.set_edgecolor('black')\n",
    "ax.legend(loc='upper right', bbox_to_anchor=(1, 1.3), ncol=3, fontsize=20, fancybox=True, shadow=True)\n",
    "ax.text(0.28, 1.15, 'Severity:', transform=ax.transAxes, fontsize=20,\n",
    "        verticalalignment='top', color='black')\n"
   ]
  },
  {
   "cell_type": "code",
   "execution_count": 20,
   "metadata": {},
   "outputs": [
    {
     "data": {
      "text/html": [
       "<div>\n",
       "<style scoped>\n",
       "    .dataframe tbody tr th:only-of-type {\n",
       "        vertical-align: middle;\n",
       "    }\n",
       "\n",
       "    .dataframe tbody tr th {\n",
       "        vertical-align: top;\n",
       "    }\n",
       "\n",
       "    .dataframe thead th {\n",
       "        text-align: right;\n",
       "    }\n",
       "</style>\n",
       "<table border=\"1\" class=\"dataframe\">\n",
       "  <thead>\n",
       "    <tr style=\"text-align: right;\">\n",
       "      <th></th>\n",
       "      <th>id</th>\n",
       "      <th>disclosed</th>\n",
       "    </tr>\n",
       "    <tr>\n",
       "      <th>severity</th>\n",
       "      <th></th>\n",
       "      <th></th>\n",
       "    </tr>\n",
       "  </thead>\n",
       "  <tbody>\n",
       "    <tr>\n",
       "      <th>high</th>\n",
       "      <td>0.294955</td>\n",
       "      <td>0.294955</td>\n",
       "    </tr>\n",
       "    <tr>\n",
       "      <th>low</th>\n",
       "      <td>0.343341</td>\n",
       "      <td>0.343341</td>\n",
       "    </tr>\n",
       "    <tr>\n",
       "      <th>medium</th>\n",
       "      <td>0.361705</td>\n",
       "      <td>0.361705</td>\n",
       "    </tr>\n",
       "  </tbody>\n",
       "</table>\n",
       "</div>"
      ],
      "text/plain": [
       "                id  disclosed\n",
       "severity                     \n",
       "high      0.294955   0.294955\n",
       "low       0.343341   0.343341\n",
       "medium    0.361705   0.361705"
      ]
     },
     "execution_count": 20,
     "metadata": {},
     "output_type": "execute_result"
    }
   ],
   "source": [
    "df_tmp=vulnerabilities.query('affected==\"True\"')[['id','disclosed','severity']]\n",
    "df_tmp['disclosed']=df_tmp['disclosed'].apply(lambda x: x.split(',')[1])\n",
    "df_tmp.groupby('severity').count()/len(vulnerabilities.query('affected==\"True\"'))"
   ]
  },
  {
   "cell_type": "code",
   "execution_count": 25,
   "metadata": {},
   "outputs": [
    {
     "data": {
      "text/plain": [
       "(0, 30)"
      ]
     },
     "execution_count": 25,
     "metadata": {},
     "output_type": "execute_result"
    },
    {
     "data": {
      "image/png": "[encoded data removed]",
      "text/plain": [
       "<matplotlib.figure.Figure at 0x7f6cc2dd5fd0>"
      ]
     },
     "metadata": {},
     "output_type": "display_data"
    }
   ],
   "source": [
    "df_tmp=vulnerabilities.query('affected==\"True\"')[['created','base_os','severity','tag']]\n",
    "df_tmp['created']=df_tmp['created'].apply(lambda x: x.split('-')[0])\n",
    "df_tmp=df_tmp.groupby(['created','tag']).count().reset_index()\n",
    "\n",
    "ax = sns.boxplot( x=\"created\", y=\"severity\", data=df_tmp, palette=\"muted\", linewidth=1)\n",
    "\n",
    "ax.figure.set_size_inches(12,3)\n",
    "ax.set_xlabel(\"Container's last update year\")\n",
    "ax.set_ylabel('Vulnerabilities')\n",
    "for patch in ax.patches:\n",
    "    patch.set_edgecolor('black')\n",
    "ax.legend(loc='upper right', bbox_to_anchor=(0.8, 1.3), ncol=3, fontsize=20, fancybox=True, shadow=True)\n",
    "ax.set_ylim(0,30)"
   ]
  },
  {
   "cell_type": "code",
   "execution_count": 84,
   "metadata": {},
   "outputs": [
    {
     "data": {
      "image/png": "[encoded data removed]",
      "text/plain": [
       "<matplotlib.figure.Figure at 0x7fb0f9b72eb8>"
      ]
     },
     "metadata": {},
     "output_type": "display_data"
    }
   ],
   "source": [
    "df_tmp=vulnerabilities.query('affected==\"True\"')[['created','base_os','severity','tag']]\n",
    "df_tmp['created']=df_tmp['created'].apply(lambda x: x.split('-')[0])\n",
    "df_tmp=df_tmp.groupby(['created','severity','tag']).count().reset_index()\n",
    "\n",
    "ax = sns.violinplot(x=\"created\", y=\"base_os\", data=df_tmp, hue_order=['low','medium','high'],\n",
    "                 hue='severity', palette=\"muted\", linewidth=1)\n",
    "\n",
    "ax.figure.set_size_inches(12,3)\n",
    "ax.set_xlabel(\"Image last update year\")\n",
    "ax.set_ylabel('Vulnerabilities')\n",
    "for patch in ax.patches:\n",
    "    patch.set_edgecolor('black')\n",
    "ax.legend(loc='upper right', bbox_to_anchor=(0.8, 1.3), ncol=3, fontsize=20, fancybox=True, shadow=True)\n",
    "ax.set_ylim(-5,30)\n"
   ]
  },
  {
   "cell_type": "code",
   "execution_count": 40,
   "metadata": {},
   "outputs": [
    {
     "name": "stdout",
     "output_type": "stream",
     "text": [
      "16.602497398543186 10.0\n"
     ]
    }
   ],
   "source": [
    "df_tmp=vulnerabilities.query('affected==\"True\"').groupby(['tag']).count()\n",
    "print(df_tmp.package.mean(),df_tmp.package.median())"
   ]
  },
  {
   "cell_type": "code",
   "execution_count": 41,
   "metadata": {},
   "outputs": [
    {
     "name": "stdout",
     "output_type": "stream",
     "text": [
      "low 0.34339229968782514 0.36363636363636365\n",
      "medium 0.3617592116645562 0.36363636363636365\n",
      "high 0.29499893434299107 0.2727272727272727\n"
     ]
    }
   ],
   "source": [
    "df_tmp=vulnerabilities.query('affected==\"True\"').groupby(['tag','severity']).count()\n",
    "for x in ['low','medium','high']:\n",
    "    print(x, df_tmp.query('severity==\"'+x+'\"').package.mean()/16.6,df_tmp.query('severity==\"'+x+'\"').package.median()/11)"
   ]
  },
  {
   "cell_type": "code",
   "execution_count": 52,
   "metadata": {},
   "outputs": [],
   "source": [
    "df_tmp=vulnerabilities.query('affected==\"True\"')[['created','base_os','severity','tag']]\n",
    "df_tmp=df_tmp.groupby(['created','severity','tag']).count().reset_index()\n",
    "df_tmp['created']=df_tmp['created'].apply(lambda x: x.split('-')[0]+'-'+x.split('-')[1])\n",
    "df_tmp['created']=pd.to_datetime(df_tmp['created'])\n",
    "df_tmp['ts'] = df_tmp.created.values.astype(np.int64) // 10 ** 9\n"
   ]
  },
  {
   "cell_type": "code",
   "execution_count": 54,
   "metadata": {},
   "outputs": [
    {
     "data": {
      "text/plain": [
       "<matplotlib.legend.Legend at 0x7f6cc1fc1668>"
      ]
     },
     "execution_count": 54,
     "metadata": {},
     "output_type": "execute_result"
    },
    {
     "data": {
      "image/png": "[encoded data removed]",
      "text/plain": [
       "<matplotlib.figure.Figure at 0x7f6cc2ebcba8>"
      ]
     },
     "metadata": {},
     "output_type": "display_data"
    }
   ],
   "source": [
    "ax = sns.lmplot(x=\"ts\", y='base_os', markers=[\"+\", 'o','x'], hue=\"severity\", palette='muted', data=df_tmp, legend='', size=8)\n",
    "ax.set(xlabel=\"Image last update \", ylabel='Vulnerabilities')\n",
    "ax.fig.set_size_inches(12,3)\n",
    "ax.fig.legend(loc='upper right', bbox_to_anchor=(0.3, 1.3), fontsize=20, fancybox=True, shadow=True)# ,ncol=3)\n",
    "\n",
    "ax = plt.gca()\n",
    "xticks = ax.get_xticks()\n",
    "xticks_dates = [datetime.fromtimestamp(x).strftime('%Y-%m') for x in xticks]\n",
    "ax.set_xticklabels(xticks_dates)\n",
    "plt.xticks(rotation=45)\n",
    "#ax.figure.savefig('../../../papers/cloudtech18/figures/vuls_violin.pdf', bbox_inches='tight', facecolor='white')\n"
   ]
  },
  {
   "cell_type": "code",
   "execution_count": 55,
   "metadata": {},
   "outputs": [
    {
     "name": "stdout",
     "output_type": "stream",
     "text": [
      "low (0.16148917383109529, 4.8357782767682363e-07)\n",
      "medium (-0.74831193940546248, 3.853699019840954e-173)\n",
      "high (-0.28520049249117735, 1.9217135681021981e-19)\n"
     ]
    }
   ],
   "source": [
    "for x in ['low','medium','high']:\n",
    "    print(x, scipy.stats.pearsonr(df_tmp.query('severity==\"'+x+'\"')['base_os'],\n",
    "                                  df_tmp.query('severity==\"'+x+'\"')['ts']))"
   ]
  },
  {
   "cell_type": "code",
   "execution_count": 56,
   "metadata": {},
   "outputs": [
    {
     "data": {
      "text/plain": [
       "(-0.17738403877171974, 8.2746919167522004e-22)"
      ]
     },
     "execution_count": 56,
     "metadata": {},
     "output_type": "execute_result"
    }
   ],
   "source": [
    "scipy.stats.pearsonr(df_tmp['base_os'],df_tmp['ts'])"
   ]
  },
  {
   "cell_type": "code",
   "execution_count": 57,
   "metadata": {},
   "outputs": [
    {
     "data": {
      "text/plain": [
       "(-0.48542053162708909, 3.4929004379906876e-114)"
      ]
     },
     "execution_count": 57,
     "metadata": {},
     "output_type": "execute_result"
    }
   ],
   "source": [
    "scipy.stats.pearsonr(df_tmp.query('severity!=\"low\"')['base_os'],df_tmp.query('severity!=\"low\"')['ts'])"
   ]
  },
  {
   "cell_type": "code",
   "execution_count": 89,
   "metadata": {},
   "outputs": [
    {
     "data": {
      "text/html": [
       "<div>\n",
       "<style scoped>\n",
       "    .dataframe tbody tr th:only-of-type {\n",
       "        vertical-align: middle;\n",
       "    }\n",
       "\n",
       "    .dataframe tbody tr th {\n",
       "        vertical-align: top;\n",
       "    }\n",
       "\n",
       "    .dataframe thead th {\n",
       "        text-align: right;\n",
       "    }\n",
       "</style>\n",
       "<table border=\"1\" class=\"dataframe\">\n",
       "  <thead>\n",
       "    <tr style=\"text-align: right;\">\n",
       "      <th></th>\n",
       "      <th>package</th>\n",
       "      <th>version</th>\n",
       "    </tr>\n",
       "    <tr>\n",
       "      <th>name</th>\n",
       "      <th></th>\n",
       "      <th></th>\n",
       "    </tr>\n",
       "  </thead>\n",
       "  <tbody>\n",
       "    <tr>\n",
       "      <th>Multiple Content Injection Vulnerabilities</th>\n",
       "      <td>0.002747</td>\n",
       "      <td>0.002747</td>\n",
       "    </tr>\n",
       "    <tr>\n",
       "      <th>SQL Injection</th>\n",
       "      <td>0.002747</td>\n",
       "      <td>0.002747</td>\n",
       "    </tr>\n",
       "    <tr>\n",
       "      <th>Unauthorized SSL Connection due to lack of cert authentication</th>\n",
       "      <td>0.002747</td>\n",
       "      <td>0.002747</td>\n",
       "    </tr>\n",
       "    <tr>\n",
       "      <th>VBScript Content Injection</th>\n",
       "      <td>0.002747</td>\n",
       "      <td>0.002747</td>\n",
       "    </tr>\n",
       "    <tr>\n",
       "      <th>Denial of Service (Memory Exhaustion)</th>\n",
       "      <td>0.002747</td>\n",
       "      <td>0.002747</td>\n",
       "    </tr>\n",
       "    <tr>\n",
       "      <th>Denial of Service (Event Loop Blocking)</th>\n",
       "      <td>0.002747</td>\n",
       "      <td>0.002747</td>\n",
       "    </tr>\n",
       "    <tr>\n",
       "      <th>Cross-site Scripting (XSS) via Data URIs</th>\n",
       "      <td>0.002747</td>\n",
       "      <td>0.002747</td>\n",
       "    </tr>\n",
       "    <tr>\n",
       "      <th>Improper minification of non-boolean comparisons</th>\n",
       "      <td>0.002747</td>\n",
       "      <td>0.002747</td>\n",
       "    </tr>\n",
       "    <tr>\n",
       "      <th>Content &amp; Code Injection (XSS)</th>\n",
       "      <td>0.002747</td>\n",
       "      <td>0.002747</td>\n",
       "    </tr>\n",
       "    <tr>\n",
       "      <th>Command Injection</th>\n",
       "      <td>0.002747</td>\n",
       "      <td>0.002747</td>\n",
       "    </tr>\n",
       "    <tr>\n",
       "      <th>Arbitrary Code Injection</th>\n",
       "      <td>0.005495</td>\n",
       "      <td>0.005495</td>\n",
       "    </tr>\n",
       "    <tr>\n",
       "      <th>Insecure Randomness</th>\n",
       "      <td>0.008242</td>\n",
       "      <td>0.008242</td>\n",
       "    </tr>\n",
       "    <tr>\n",
       "      <th>Arbitrary Code Execution</th>\n",
       "      <td>0.008242</td>\n",
       "      <td>0.008242</td>\n",
       "    </tr>\n",
       "    <tr>\n",
       "      <th>Timing Attack</th>\n",
       "      <td>0.008242</td>\n",
       "      <td>0.008242</td>\n",
       "    </tr>\n",
       "    <tr>\n",
       "      <th>Denial of Service (DoS)</th>\n",
       "      <td>0.013736</td>\n",
       "      <td>0.013736</td>\n",
       "    </tr>\n",
       "    <tr>\n",
       "      <th>Buffer Overflow</th>\n",
       "      <td>0.013736</td>\n",
       "      <td>0.013736</td>\n",
       "    </tr>\n",
       "    <tr>\n",
       "      <th>Symlink File Overwrite</th>\n",
       "      <td>0.016484</td>\n",
       "      <td>0.016484</td>\n",
       "    </tr>\n",
       "    <tr>\n",
       "      <th>Cross-site Scripting (XSS)</th>\n",
       "      <td>0.019231</td>\n",
       "      <td>0.019231</td>\n",
       "    </tr>\n",
       "    <tr>\n",
       "      <th>Open Redirect</th>\n",
       "      <td>0.027473</td>\n",
       "      <td>0.027473</td>\n",
       "    </tr>\n",
       "    <tr>\n",
       "      <th>Remote Memory Exposure</th>\n",
       "      <td>0.038462</td>\n",
       "      <td>0.038462</td>\n",
       "    </tr>\n",
       "    <tr>\n",
       "      <th>Prototype Override Protection Bypass</th>\n",
       "      <td>0.041209</td>\n",
       "      <td>0.041209</td>\n",
       "    </tr>\n",
       "    <tr>\n",
       "      <th>Uninitialized Memory Exposure</th>\n",
       "      <td>0.057692</td>\n",
       "      <td>0.057692</td>\n",
       "    </tr>\n",
       "    <tr>\n",
       "      <th>Regular Expression Denial of Service (DoS)</th>\n",
       "      <td>0.063187</td>\n",
       "      <td>0.063187</td>\n",
       "    </tr>\n",
       "    <tr>\n",
       "      <th>npm Token Leak</th>\n",
       "      <td>0.085165</td>\n",
       "      <td>0.085165</td>\n",
       "    </tr>\n",
       "    <tr>\n",
       "      <th>Prototype Pollution</th>\n",
       "      <td>0.090659</td>\n",
       "      <td>0.090659</td>\n",
       "    </tr>\n",
       "    <tr>\n",
       "      <th>Access Restriction Bypass</th>\n",
       "      <td>0.148352</td>\n",
       "      <td>0.148352</td>\n",
       "    </tr>\n",
       "    <tr>\n",
       "      <th>Regular Expression Denial of Service (ReDoS)</th>\n",
       "      <td>0.326923</td>\n",
       "      <td>0.326923</td>\n",
       "    </tr>\n",
       "  </tbody>\n",
       "</table>\n",
       "</div>"
      ],
      "text/plain": [
       "                                                     package   version\n",
       "name                                                                  \n",
       "Multiple Content Injection Vulnerabilities          0.002747  0.002747\n",
       "SQL Injection                                       0.002747  0.002747\n",
       "Unauthorized SSL Connection due to lack of cert...  0.002747  0.002747\n",
       "VBScript Content Injection                          0.002747  0.002747\n",
       "Denial of Service (Memory Exhaustion)               0.002747  0.002747\n",
       "Denial of Service (Event Loop Blocking)             0.002747  0.002747\n",
       "Cross-site Scripting (XSS) via Data URIs            0.002747  0.002747\n",
       "Improper minification of non-boolean comparisons    0.002747  0.002747\n",
       "Content & Code Injection (XSS)                      0.002747  0.002747\n",
       "Command Injection                                   0.002747  0.002747\n",
       "Arbitrary Code Injection                            0.005495  0.005495\n",
       "Insecure Randomness                                 0.008242  0.008242\n",
       "Arbitrary Code Execution                            0.008242  0.008242\n",
       "Timing Attack                                       0.008242  0.008242\n",
       "Denial of Service (DoS)                             0.013736  0.013736\n",
       "Buffer Overflow                                     0.013736  0.013736\n",
       "Symlink File Overwrite                              0.016484  0.016484\n",
       "Cross-site Scripting (XSS)                          0.019231  0.019231\n",
       "Open Redirect                                       0.027473  0.027473\n",
       "Remote Memory Exposure                              0.038462  0.038462\n",
       "Prototype Override Protection Bypass                0.041209  0.041209\n",
       "Uninitialized Memory Exposure                       0.057692  0.057692\n",
       "Regular Expression Denial of Service (DoS)          0.063187  0.063187\n",
       "npm Token Leak                                      0.085165  0.085165\n",
       "Prototype Pollution                                 0.090659  0.090659\n",
       "Access Restriction Bypass                           0.148352  0.148352\n",
       "Regular Expression Denial of Service (ReDoS)        0.326923  0.326923"
      ]
     },
     "execution_count": 89,
     "metadata": {},
     "output_type": "execute_result"
    }
   ],
   "source": [
    "df_tmp=vulnerabilities.query('affected==\"True\"')[['package','version','name']].drop_duplicates()\n",
    "df_tmp.groupby(['name']).count().sort_values('package')/len(df_tmp)"
   ]
  },
  {
   "cell_type": "code",
   "execution_count": 51,
   "metadata": {
    "scrolled": true
   },
   "outputs": [
    {
     "data": {
      "text/plain": [
       "961"
      ]
     },
     "execution_count": 51,
     "metadata": {},
     "output_type": "execute_result"
    }
   ],
   "source": [
    "len(vulnerabilities.query('affected==\"True\"').groupby(['tag']).count())"
   ]
  },
  {
   "cell_type": "code",
   "execution_count": 190,
   "metadata": {},
   "outputs": [
    {
     "data": {
      "text/html": [
       "<div>\n",
       "<style scoped>\n",
       "    .dataframe tbody tr th:only-of-type {\n",
       "        vertical-align: middle;\n",
       "    }\n",
       "\n",
       "    .dataframe tbody tr th {\n",
       "        vertical-align: top;\n",
       "    }\n",
       "\n",
       "    .dataframe thead th {\n",
       "        text-align: right;\n",
       "    }\n",
       "</style>\n",
       "<table border=\"1\" class=\"dataframe\">\n",
       "  <thead>\n",
       "    <tr style=\"text-align: right;\">\n",
       "      <th></th>\n",
       "      <th>package</th>\n",
       "      <th>version</th>\n",
       "      <th>versions</th>\n",
       "      <th>tag</th>\n",
       "      <th>base_os</th>\n",
       "      <th>created</th>\n",
       "      <th>id</th>\n",
       "      <th>published</th>\n",
       "      <th>severity</th>\n",
       "      <th>disclosed</th>\n",
       "      <th>affected</th>\n",
       "    </tr>\n",
       "    <tr>\n",
       "      <th>name</th>\n",
       "      <th></th>\n",
       "      <th></th>\n",
       "      <th></th>\n",
       "      <th></th>\n",
       "      <th></th>\n",
       "      <th></th>\n",
       "      <th></th>\n",
       "      <th></th>\n",
       "      <th></th>\n",
       "      <th></th>\n",
       "      <th></th>\n",
       "    </tr>\n",
       "  </thead>\n",
       "  <tbody>\n",
       "    <tr>\n",
       "      <th>Multiple Content Injection Vulnerabilities</th>\n",
       "      <td>0.000063</td>\n",
       "      <td>0.000063</td>\n",
       "      <td>0.000063</td>\n",
       "      <td>0.000063</td>\n",
       "      <td>0.000063</td>\n",
       "      <td>0.000063</td>\n",
       "      <td>0.000063</td>\n",
       "      <td>0.000063</td>\n",
       "      <td>0.000063</td>\n",
       "      <td>0.000063</td>\n",
       "      <td>0.000063</td>\n",
       "    </tr>\n",
       "    <tr>\n",
       "      <th>VBScript Content Injection</th>\n",
       "      <td>0.000063</td>\n",
       "      <td>0.000063</td>\n",
       "      <td>0.000063</td>\n",
       "      <td>0.000063</td>\n",
       "      <td>0.000063</td>\n",
       "      <td>0.000063</td>\n",
       "      <td>0.000063</td>\n",
       "      <td>0.000063</td>\n",
       "      <td>0.000063</td>\n",
       "      <td>0.000063</td>\n",
       "      <td>0.000063</td>\n",
       "    </tr>\n",
       "    <tr>\n",
       "      <th>Cross-site Scripting (XSS) via Data URIs</th>\n",
       "      <td>0.000063</td>\n",
       "      <td>0.000063</td>\n",
       "      <td>0.000063</td>\n",
       "      <td>0.000063</td>\n",
       "      <td>0.000063</td>\n",
       "      <td>0.000063</td>\n",
       "      <td>0.000063</td>\n",
       "      <td>0.000063</td>\n",
       "      <td>0.000063</td>\n",
       "      <td>0.000063</td>\n",
       "      <td>0.000063</td>\n",
       "    </tr>\n",
       "    <tr>\n",
       "      <th>Content &amp; Code Injection (XSS)</th>\n",
       "      <td>0.000063</td>\n",
       "      <td>0.000063</td>\n",
       "      <td>0.000063</td>\n",
       "      <td>0.000063</td>\n",
       "      <td>0.000063</td>\n",
       "      <td>0.000063</td>\n",
       "      <td>0.000063</td>\n",
       "      <td>0.000063</td>\n",
       "      <td>0.000063</td>\n",
       "      <td>0.000063</td>\n",
       "      <td>0.000063</td>\n",
       "    </tr>\n",
       "    <tr>\n",
       "      <th>Denial of Service (Memory Exhaustion)</th>\n",
       "      <td>0.000439</td>\n",
       "      <td>0.000439</td>\n",
       "      <td>0.000439</td>\n",
       "      <td>0.000439</td>\n",
       "      <td>0.000439</td>\n",
       "      <td>0.000439</td>\n",
       "      <td>0.000439</td>\n",
       "      <td>0.000439</td>\n",
       "      <td>0.000439</td>\n",
       "      <td>0.000439</td>\n",
       "      <td>0.000439</td>\n",
       "    </tr>\n",
       "    <tr>\n",
       "      <th>SQL Injection</th>\n",
       "      <td>0.000439</td>\n",
       "      <td>0.000439</td>\n",
       "      <td>0.000439</td>\n",
       "      <td>0.000439</td>\n",
       "      <td>0.000439</td>\n",
       "      <td>0.000439</td>\n",
       "      <td>0.000439</td>\n",
       "      <td>0.000439</td>\n",
       "      <td>0.000439</td>\n",
       "      <td>0.000439</td>\n",
       "      <td>0.000439</td>\n",
       "    </tr>\n",
       "    <tr>\n",
       "      <th>Denial of Service (Event Loop Blocking)</th>\n",
       "      <td>0.000439</td>\n",
       "      <td>0.000439</td>\n",
       "      <td>0.000439</td>\n",
       "      <td>0.000439</td>\n",
       "      <td>0.000439</td>\n",
       "      <td>0.000439</td>\n",
       "      <td>0.000439</td>\n",
       "      <td>0.000439</td>\n",
       "      <td>0.000439</td>\n",
       "      <td>0.000439</td>\n",
       "      <td>0.000439</td>\n",
       "    </tr>\n",
       "    <tr>\n",
       "      <th>Improper minification of non-boolean comparisons</th>\n",
       "      <td>0.000564</td>\n",
       "      <td>0.000564</td>\n",
       "      <td>0.000564</td>\n",
       "      <td>0.000564</td>\n",
       "      <td>0.000564</td>\n",
       "      <td>0.000564</td>\n",
       "      <td>0.000564</td>\n",
       "      <td>0.000564</td>\n",
       "      <td>0.000564</td>\n",
       "      <td>0.000564</td>\n",
       "      <td>0.000564</td>\n",
       "    </tr>\n",
       "    <tr>\n",
       "      <th>Open Redirect</th>\n",
       "      <td>0.000627</td>\n",
       "      <td>0.000627</td>\n",
       "      <td>0.000627</td>\n",
       "      <td>0.000627</td>\n",
       "      <td>0.000627</td>\n",
       "      <td>0.000627</td>\n",
       "      <td>0.000627</td>\n",
       "      <td>0.000627</td>\n",
       "      <td>0.000627</td>\n",
       "      <td>0.000627</td>\n",
       "      <td>0.000627</td>\n",
       "    </tr>\n",
       "    <tr>\n",
       "      <th>Buffer Overflow</th>\n",
       "      <td>0.000689</td>\n",
       "      <td>0.000689</td>\n",
       "      <td>0.000689</td>\n",
       "      <td>0.000689</td>\n",
       "      <td>0.000689</td>\n",
       "      <td>0.000689</td>\n",
       "      <td>0.000689</td>\n",
       "      <td>0.000689</td>\n",
       "      <td>0.000689</td>\n",
       "      <td>0.000689</td>\n",
       "      <td>0.000689</td>\n",
       "    </tr>\n",
       "    <tr>\n",
       "      <th>Unauthorized SSL Connection due to lack of cert authentication</th>\n",
       "      <td>0.001128</td>\n",
       "      <td>0.001128</td>\n",
       "      <td>0.001128</td>\n",
       "      <td>0.001128</td>\n",
       "      <td>0.001128</td>\n",
       "      <td>0.001128</td>\n",
       "      <td>0.001128</td>\n",
       "      <td>0.001128</td>\n",
       "      <td>0.001128</td>\n",
       "      <td>0.001128</td>\n",
       "      <td>0.001128</td>\n",
       "    </tr>\n",
       "    <tr>\n",
       "      <th>Cross-site Scripting (XSS)</th>\n",
       "      <td>0.001128</td>\n",
       "      <td>0.001128</td>\n",
       "      <td>0.001128</td>\n",
       "      <td>0.001128</td>\n",
       "      <td>0.001128</td>\n",
       "      <td>0.001128</td>\n",
       "      <td>0.001128</td>\n",
       "      <td>0.001128</td>\n",
       "      <td>0.001128</td>\n",
       "      <td>0.001128</td>\n",
       "      <td>0.001128</td>\n",
       "    </tr>\n",
       "    <tr>\n",
       "      <th>Command Injection</th>\n",
       "      <td>0.002695</td>\n",
       "      <td>0.002695</td>\n",
       "      <td>0.002695</td>\n",
       "      <td>0.002695</td>\n",
       "      <td>0.002695</td>\n",
       "      <td>0.002695</td>\n",
       "      <td>0.002695</td>\n",
       "      <td>0.002695</td>\n",
       "      <td>0.002695</td>\n",
       "      <td>0.002695</td>\n",
       "      <td>0.002695</td>\n",
       "    </tr>\n",
       "    <tr>\n",
       "      <th>Arbitrary Code Injection</th>\n",
       "      <td>0.003949</td>\n",
       "      <td>0.003949</td>\n",
       "      <td>0.003949</td>\n",
       "      <td>0.003949</td>\n",
       "      <td>0.003949</td>\n",
       "      <td>0.003949</td>\n",
       "      <td>0.003949</td>\n",
       "      <td>0.003949</td>\n",
       "      <td>0.003949</td>\n",
       "      <td>0.003949</td>\n",
       "      <td>0.003949</td>\n",
       "    </tr>\n",
       "    <tr>\n",
       "      <th>Arbitrary Code Execution</th>\n",
       "      <td>0.004826</td>\n",
       "      <td>0.004826</td>\n",
       "      <td>0.004826</td>\n",
       "      <td>0.004826</td>\n",
       "      <td>0.004826</td>\n",
       "      <td>0.004826</td>\n",
       "      <td>0.004826</td>\n",
       "      <td>0.004826</td>\n",
       "      <td>0.004826</td>\n",
       "      <td>0.004826</td>\n",
       "      <td>0.004826</td>\n",
       "    </tr>\n",
       "    <tr>\n",
       "      <th>Denial of Service (DoS)</th>\n",
       "      <td>0.005892</td>\n",
       "      <td>0.005892</td>\n",
       "      <td>0.005892</td>\n",
       "      <td>0.005892</td>\n",
       "      <td>0.005892</td>\n",
       "      <td>0.005892</td>\n",
       "      <td>0.005892</td>\n",
       "      <td>0.005892</td>\n",
       "      <td>0.005892</td>\n",
       "      <td>0.005892</td>\n",
       "      <td>0.005892</td>\n",
       "    </tr>\n",
       "    <tr>\n",
       "      <th>Insecure Randomness</th>\n",
       "      <td>0.013663</td>\n",
       "      <td>0.013663</td>\n",
       "      <td>0.013663</td>\n",
       "      <td>0.013663</td>\n",
       "      <td>0.013663</td>\n",
       "      <td>0.013663</td>\n",
       "      <td>0.013663</td>\n",
       "      <td>0.013663</td>\n",
       "      <td>0.013663</td>\n",
       "      <td>0.013663</td>\n",
       "      <td>0.013663</td>\n",
       "    </tr>\n",
       "    <tr>\n",
       "      <th>Timing Attack</th>\n",
       "      <td>0.013726</td>\n",
       "      <td>0.013726</td>\n",
       "      <td>0.013726</td>\n",
       "      <td>0.013726</td>\n",
       "      <td>0.013726</td>\n",
       "      <td>0.013726</td>\n",
       "      <td>0.013726</td>\n",
       "      <td>0.013726</td>\n",
       "      <td>0.013726</td>\n",
       "      <td>0.013726</td>\n",
       "      <td>0.013726</td>\n",
       "    </tr>\n",
       "    <tr>\n",
       "      <th>Symlink File Overwrite</th>\n",
       "      <td>0.014228</td>\n",
       "      <td>0.014228</td>\n",
       "      <td>0.014228</td>\n",
       "      <td>0.014228</td>\n",
       "      <td>0.014228</td>\n",
       "      <td>0.014228</td>\n",
       "      <td>0.014228</td>\n",
       "      <td>0.014228</td>\n",
       "      <td>0.014228</td>\n",
       "      <td>0.014228</td>\n",
       "      <td>0.014228</td>\n",
       "    </tr>\n",
       "    <tr>\n",
       "      <th>Remote Memory Exposure</th>\n",
       "      <td>0.015606</td>\n",
       "      <td>0.015606</td>\n",
       "      <td>0.015606</td>\n",
       "      <td>0.015606</td>\n",
       "      <td>0.015606</td>\n",
       "      <td>0.015606</td>\n",
       "      <td>0.015606</td>\n",
       "      <td>0.015606</td>\n",
       "      <td>0.015606</td>\n",
       "      <td>0.015606</td>\n",
       "      <td>0.015606</td>\n",
       "    </tr>\n",
       "    <tr>\n",
       "      <th>npm Token Leak</th>\n",
       "      <td>0.017111</td>\n",
       "      <td>0.017111</td>\n",
       "      <td>0.017111</td>\n",
       "      <td>0.017111</td>\n",
       "      <td>0.017111</td>\n",
       "      <td>0.017111</td>\n",
       "      <td>0.017111</td>\n",
       "      <td>0.017111</td>\n",
       "      <td>0.017111</td>\n",
       "      <td>0.017111</td>\n",
       "      <td>0.017111</td>\n",
       "    </tr>\n",
       "    <tr>\n",
       "      <th>Access Restriction Bypass</th>\n",
       "      <td>0.060232</td>\n",
       "      <td>0.060232</td>\n",
       "      <td>0.060232</td>\n",
       "      <td>0.060232</td>\n",
       "      <td>0.060232</td>\n",
       "      <td>0.060232</td>\n",
       "      <td>0.060232</td>\n",
       "      <td>0.060232</td>\n",
       "      <td>0.060232</td>\n",
       "      <td>0.060232</td>\n",
       "      <td>0.060232</td>\n",
       "    </tr>\n",
       "    <tr>\n",
       "      <th>Prototype Override Protection Bypass</th>\n",
       "      <td>0.065497</td>\n",
       "      <td>0.065497</td>\n",
       "      <td>0.065497</td>\n",
       "      <td>0.065497</td>\n",
       "      <td>0.065497</td>\n",
       "      <td>0.065497</td>\n",
       "      <td>0.065497</td>\n",
       "      <td>0.065497</td>\n",
       "      <td>0.065497</td>\n",
       "      <td>0.065497</td>\n",
       "      <td>0.065497</td>\n",
       "    </tr>\n",
       "    <tr>\n",
       "      <th>Regular Expression Denial of Service (DoS)</th>\n",
       "      <td>0.094955</td>\n",
       "      <td>0.094955</td>\n",
       "      <td>0.094955</td>\n",
       "      <td>0.094955</td>\n",
       "      <td>0.094955</td>\n",
       "      <td>0.094955</td>\n",
       "      <td>0.094955</td>\n",
       "      <td>0.094955</td>\n",
       "      <td>0.094955</td>\n",
       "      <td>0.094955</td>\n",
       "      <td>0.094955</td>\n",
       "    </tr>\n",
       "    <tr>\n",
       "      <th>Uninitialized Memory Exposure</th>\n",
       "      <td>0.110248</td>\n",
       "      <td>0.110248</td>\n",
       "      <td>0.110248</td>\n",
       "      <td>0.110248</td>\n",
       "      <td>0.110248</td>\n",
       "      <td>0.110248</td>\n",
       "      <td>0.110248</td>\n",
       "      <td>0.110248</td>\n",
       "      <td>0.110248</td>\n",
       "      <td>0.110248</td>\n",
       "      <td>0.110248</td>\n",
       "    </tr>\n",
       "    <tr>\n",
       "      <th>Prototype Pollution</th>\n",
       "      <td>0.124600</td>\n",
       "      <td>0.124600</td>\n",
       "      <td>0.124600</td>\n",
       "      <td>0.124600</td>\n",
       "      <td>0.124600</td>\n",
       "      <td>0.124600</td>\n",
       "      <td>0.124600</td>\n",
       "      <td>0.124600</td>\n",
       "      <td>0.124600</td>\n",
       "      <td>0.124600</td>\n",
       "      <td>0.124600</td>\n",
       "    </tr>\n",
       "    <tr>\n",
       "      <th>Regular Expression Denial of Service (ReDoS)</th>\n",
       "      <td>0.447070</td>\n",
       "      <td>0.447070</td>\n",
       "      <td>0.447070</td>\n",
       "      <td>0.447070</td>\n",
       "      <td>0.447070</td>\n",
       "      <td>0.447070</td>\n",
       "      <td>0.447070</td>\n",
       "      <td>0.447070</td>\n",
       "      <td>0.447070</td>\n",
       "      <td>0.447070</td>\n",
       "      <td>0.447070</td>\n",
       "    </tr>\n",
       "  </tbody>\n",
       "</table>\n",
       "</div>"
      ],
      "text/plain": [
       "                                                     package   version  \\\n",
       "name                                                                     \n",
       "Multiple Content Injection Vulnerabilities          0.000063  0.000063   \n",
       "VBScript Content Injection                          0.000063  0.000063   \n",
       "Cross-site Scripting (XSS) via Data URIs            0.000063  0.000063   \n",
       "Content & Code Injection (XSS)                      0.000063  0.000063   \n",
       "Denial of Service (Memory Exhaustion)               0.000439  0.000439   \n",
       "SQL Injection                                       0.000439  0.000439   \n",
       "Denial of Service (Event Loop Blocking)             0.000439  0.000439   \n",
       "Improper minification of non-boolean comparisons    0.000564  0.000564   \n",
       "Open Redirect                                       0.000627  0.000627   \n",
       "Buffer Overflow                                     0.000689  0.000689   \n",
       "Unauthorized SSL Connection due to lack of cert...  0.001128  0.001128   \n",
       "Cross-site Scripting (XSS)                          0.001128  0.001128   \n",
       "Command Injection                                   0.002695  0.002695   \n",
       "Arbitrary Code Injection                            0.003949  0.003949   \n",
       "Arbitrary Code Execution                            0.004826  0.004826   \n",
       "Denial of Service (DoS)                             0.005892  0.005892   \n",
       "Insecure Randomness                                 0.013663  0.013663   \n",
       "Timing Attack                                       0.013726  0.013726   \n",
       "Symlink File Overwrite                              0.014228  0.014228   \n",
       "Remote Memory Exposure                              0.015606  0.015606   \n",
       "npm Token Leak                                      0.017111  0.017111   \n",
       "Access Restriction Bypass                           0.060232  0.060232   \n",
       "Prototype Override Protection Bypass                0.065497  0.065497   \n",
       "Regular Expression Denial of Service (DoS)          0.094955  0.094955   \n",
       "Uninitialized Memory Exposure                       0.110248  0.110248   \n",
       "Prototype Pollution                                 0.124600  0.124600   \n",
       "Regular Expression Denial of Service (ReDoS)        0.447070  0.447070   \n",
       "\n",
       "                                                    versions       tag  \\\n",
       "name                                                                     \n",
       "Multiple Content Injection Vulnerabilities          0.000063  0.000063   \n",
       "VBScript Content Injection                          0.000063  0.000063   \n",
       "Cross-site Scripting (XSS) via Data URIs            0.000063  0.000063   \n",
       "Content & Code Injection (XSS)                      0.000063  0.000063   \n",
       "Denial of Service (Memory Exhaustion)               0.000439  0.000439   \n",
       "SQL Injection                                       0.000439  0.000439   \n",
       "Denial of Service (Event Loop Blocking)             0.000439  0.000439   \n",
       "Improper minification of non-boolean comparisons    0.000564  0.000564   \n",
       "Open Redirect                                       0.000627  0.000627   \n",
       "Buffer Overflow                                     0.000689  0.000689   \n",
       "Unauthorized SSL Connection due to lack of cert...  0.001128  0.001128   \n",
       "Cross-site Scripting (XSS)                          0.001128  0.001128   \n",
       "Command Injection                                   0.002695  0.002695   \n",
       "Arbitrary Code Injection                            0.003949  0.003949   \n",
       "Arbitrary Code Execution                            0.004826  0.004826   \n",
       "Denial of Service (DoS)                             0.005892  0.005892   \n",
       "Insecure Randomness                                 0.013663  0.013663   \n",
       "Timing Attack                                       0.013726  0.013726   \n",
       "Symlink File Overwrite                              0.014228  0.014228   \n",
       "Remote Memory Exposure                              0.015606  0.015606   \n",
       "npm Token Leak                                      0.017111  0.017111   \n",
       "Access Restriction Bypass                           0.060232  0.060232   \n",
       "Prototype Override Protection Bypass                0.065497  0.065497   \n",
       "Regular Expression Denial of Service (DoS)          0.094955  0.094955   \n",
       "Uninitialized Memory Exposure                       0.110248  0.110248   \n",
       "Prototype Pollution                                 0.124600  0.124600   \n",
       "Regular Expression Denial of Service (ReDoS)        0.447070  0.447070   \n",
       "\n",
       "                                                     base_os   created  \\\n",
       "name                                                                     \n",
       "Multiple Content Injection Vulnerabilities          0.000063  0.000063   \n",
       "VBScript Content Injection                          0.000063  0.000063   \n",
       "Cross-site Scripting (XSS) via Data URIs            0.000063  0.000063   \n",
       "Content & Code Injection (XSS)                      0.000063  0.000063   \n",
       "Denial of Service (Memory Exhaustion)               0.000439  0.000439   \n",
       "SQL Injection                                       0.000439  0.000439   \n",
       "Denial of Service (Event Loop Blocking)             0.000439  0.000439   \n",
       "Improper minification of non-boolean comparisons    0.000564  0.000564   \n",
       "Open Redirect                                       0.000627  0.000627   \n",
       "Buffer Overflow                                     0.000689  0.000689   \n",
       "Unauthorized SSL Connection due to lack of cert...  0.001128  0.001128   \n",
       "Cross-site Scripting (XSS)                          0.001128  0.001128   \n",
       "Command Injection                                   0.002695  0.002695   \n",
       "Arbitrary Code Injection                            0.003949  0.003949   \n",
       "Arbitrary Code Execution                            0.004826  0.004826   \n",
       "Denial of Service (DoS)                             0.005892  0.005892   \n",
       "Insecure Randomness                                 0.013663  0.013663   \n",
       "Timing Attack                                       0.013726  0.013726   \n",
       "Symlink File Overwrite                              0.014228  0.014228   \n",
       "Remote Memory Exposure                              0.015606  0.015606   \n",
       "npm Token Leak                                      0.017111  0.017111   \n",
       "Access Restriction Bypass                           0.060232  0.060232   \n",
       "Prototype Override Protection Bypass                0.065497  0.065497   \n",
       "Regular Expression Denial of Service (DoS)          0.094955  0.094955   \n",
       "Uninitialized Memory Exposure                       0.110248  0.110248   \n",
       "Prototype Pollution                                 0.124600  0.124600   \n",
       "Regular Expression Denial of Service (ReDoS)        0.447070  0.447070   \n",
       "\n",
       "                                                          id  published  \\\n",
       "name                                                                      \n",
       "Multiple Content Injection Vulnerabilities          0.000063   0.000063   \n",
       "VBScript Content Injection                          0.000063   0.000063   \n",
       "Cross-site Scripting (XSS) via Data URIs            0.000063   0.000063   \n",
       "Content & Code Injection (XSS)                      0.000063   0.000063   \n",
       "Denial of Service (Memory Exhaustion)               0.000439   0.000439   \n",
       "SQL Injection                                       0.000439   0.000439   \n",
       "Denial of Service (Event Loop Blocking)             0.000439   0.000439   \n",
       "Improper minification of non-boolean comparisons    0.000564   0.000564   \n",
       "Open Redirect                                       0.000627   0.000627   \n",
       "Buffer Overflow                                     0.000689   0.000689   \n",
       "Unauthorized SSL Connection due to lack of cert...  0.001128   0.001128   \n",
       "Cross-site Scripting (XSS)                          0.001128   0.001128   \n",
       "Command Injection                                   0.002695   0.002695   \n",
       "Arbitrary Code Injection                            0.003949   0.003949   \n",
       "Arbitrary Code Execution                            0.004826   0.004826   \n",
       "Denial of Service (DoS)                             0.005892   0.005892   \n",
       "Insecure Randomness                                 0.013663   0.013663   \n",
       "Timing Attack                                       0.013726   0.013726   \n",
       "Symlink File Overwrite                              0.014228   0.014228   \n",
       "Remote Memory Exposure                              0.015606   0.015606   \n",
       "npm Token Leak                                      0.017111   0.017111   \n",
       "Access Restriction Bypass                           0.060232   0.060232   \n",
       "Prototype Override Protection Bypass                0.065497   0.065497   \n",
       "Regular Expression Denial of Service (DoS)          0.094955   0.094955   \n",
       "Uninitialized Memory Exposure                       0.110248   0.110248   \n",
       "Prototype Pollution                                 0.124600   0.124600   \n",
       "Regular Expression Denial of Service (ReDoS)        0.447070   0.447070   \n",
       "\n",
       "                                                    severity  disclosed  \\\n",
       "name                                                                      \n",
       "Multiple Content Injection Vulnerabilities          0.000063   0.000063   \n",
       "VBScript Content Injection                          0.000063   0.000063   \n",
       "Cross-site Scripting (XSS) via Data URIs            0.000063   0.000063   \n",
       "Content & Code Injection (XSS)                      0.000063   0.000063   \n",
       "Denial of Service (Memory Exhaustion)               0.000439   0.000439   \n",
       "SQL Injection                                       0.000439   0.000439   \n",
       "Denial of Service (Event Loop Blocking)             0.000439   0.000439   \n",
       "Improper minification of non-boolean comparisons    0.000564   0.000564   \n",
       "Open Redirect                                       0.000627   0.000627   \n",
       "Buffer Overflow                                     0.000689   0.000689   \n",
       "Unauthorized SSL Connection due to lack of cert...  0.001128   0.001128   \n",
       "Cross-site Scripting (XSS)                          0.001128   0.001128   \n",
       "Command Injection                                   0.002695   0.002695   \n",
       "Arbitrary Code Injection                            0.003949   0.003949   \n",
       "Arbitrary Code Execution                            0.004826   0.004826   \n",
       "Denial of Service (DoS)                             0.005892   0.005892   \n",
       "Insecure Randomness                                 0.013663   0.013663   \n",
       "Timing Attack                                       0.013726   0.013726   \n",
       "Symlink File Overwrite                              0.014228   0.014228   \n",
       "Remote Memory Exposure                              0.015606   0.015606   \n",
       "npm Token Leak                                      0.017111   0.017111   \n",
       "Access Restriction Bypass                           0.060232   0.060232   \n",
       "Prototype Override Protection Bypass                0.065497   0.065497   \n",
       "Regular Expression Denial of Service (DoS)          0.094955   0.094955   \n",
       "Uninitialized Memory Exposure                       0.110248   0.110248   \n",
       "Prototype Pollution                                 0.124600   0.124600   \n",
       "Regular Expression Denial of Service (ReDoS)        0.447070   0.447070   \n",
       "\n",
       "                                                    affected  \n",
       "name                                                          \n",
       "Multiple Content Injection Vulnerabilities          0.000063  \n",
       "VBScript Content Injection                          0.000063  \n",
       "Cross-site Scripting (XSS) via Data URIs            0.000063  \n",
       "Content & Code Injection (XSS)                      0.000063  \n",
       "Denial of Service (Memory Exhaustion)               0.000439  \n",
       "SQL Injection                                       0.000439  \n",
       "Denial of Service (Event Loop Blocking)             0.000439  \n",
       "Improper minification of non-boolean comparisons    0.000564  \n",
       "Open Redirect                                       0.000627  \n",
       "Buffer Overflow                                     0.000689  \n",
       "Unauthorized SSL Connection due to lack of cert...  0.001128  \n",
       "Cross-site Scripting (XSS)                          0.001128  \n",
       "Command Injection                                   0.002695  \n",
       "Arbitrary Code Injection                            0.003949  \n",
       "Arbitrary Code Execution                            0.004826  \n",
       "Denial of Service (DoS)                             0.005892  \n",
       "Insecure Randomness                                 0.013663  \n",
       "Timing Attack                                       0.013726  \n",
       "Symlink File Overwrite                              0.014228  \n",
       "Remote Memory Exposure                              0.015606  \n",
       "npm Token Leak                                      0.017111  \n",
       "Access Restriction Bypass                           0.060232  \n",
       "Prototype Override Protection Bypass                0.065497  \n",
       "Regular Expression Denial of Service (DoS)          0.094955  \n",
       "Uninitialized Memory Exposure                       0.110248  \n",
       "Prototype Pollution                                 0.124600  \n",
       "Regular Expression Denial of Service (ReDoS)        0.447070  "
      ]
     },
     "execution_count": 190,
     "metadata": {},
     "output_type": "execute_result"
    }
   ],
   "source": [
    "vulnerabilities.query('affected==\"True\"').groupby(['name']).count().sort_values('package')/len(vulnerabilities.query('affected==\"True\"'))"
   ]
  },
  {
   "cell_type": "code",
   "execution_count": 195,
   "metadata": {},
   "outputs": [
    {
     "data": {
      "text/html": [
       "<div>\n",
       "<style scoped>\n",
       "    .dataframe tbody tr th:only-of-type {\n",
       "        vertical-align: middle;\n",
       "    }\n",
       "\n",
       "    .dataframe tbody tr th {\n",
       "        vertical-align: top;\n",
       "    }\n",
       "\n",
       "    .dataframe thead th {\n",
       "        text-align: right;\n",
       "    }\n",
       "</style>\n",
       "<table border=\"1\" class=\"dataframe\">\n",
       "  <thead>\n",
       "    <tr style=\"text-align: right;\">\n",
       "      <th></th>\n",
       "      <th></th>\n",
       "      <th>id</th>\n",
       "    </tr>\n",
       "    <tr>\n",
       "      <th>name</th>\n",
       "      <th>severity</th>\n",
       "      <th></th>\n",
       "    </tr>\n",
       "  </thead>\n",
       "  <tbody>\n",
       "    <tr>\n",
       "      <th>Access Restriction Bypass</th>\n",
       "      <th>medium</th>\n",
       "      <td>1</td>\n",
       "    </tr>\n",
       "    <tr>\n",
       "      <th>Uninitialized Memory Exposure</th>\n",
       "      <th>low</th>\n",
       "      <td>1</td>\n",
       "    </tr>\n",
       "    <tr>\n",
       "      <th>Unauthorized SSL Connection due to lack of cert authentication</th>\n",
       "      <th>medium</th>\n",
       "      <td>1</td>\n",
       "    </tr>\n",
       "    <tr>\n",
       "      <th>Timing Attack</th>\n",
       "      <th>medium</th>\n",
       "      <td>1</td>\n",
       "    </tr>\n",
       "    <tr>\n",
       "      <th>Symlink File Overwrite</th>\n",
       "      <th>high</th>\n",
       "      <td>1</td>\n",
       "    </tr>\n",
       "    <tr>\n",
       "      <th>SQL Injection</th>\n",
       "      <th>medium</th>\n",
       "      <td>1</td>\n",
       "    </tr>\n",
       "    <tr>\n",
       "      <th>Remote Memory Exposure</th>\n",
       "      <th>medium</th>\n",
       "      <td>1</td>\n",
       "    </tr>\n",
       "    <tr>\n",
       "      <th>Regular Expression Denial of Service (DoS)</th>\n",
       "      <th>low</th>\n",
       "      <td>1</td>\n",
       "    </tr>\n",
       "    <tr>\n",
       "      <th>VBScript Content Injection</th>\n",
       "      <th>medium</th>\n",
       "      <td>1</td>\n",
       "    </tr>\n",
       "    <tr>\n",
       "      <th>Open Redirect</th>\n",
       "      <th>medium</th>\n",
       "      <td>1</td>\n",
       "    </tr>\n",
       "    <tr>\n",
       "      <th>Multiple Content Injection Vulnerabilities</th>\n",
       "      <th>medium</th>\n",
       "      <td>1</td>\n",
       "    </tr>\n",
       "    <tr>\n",
       "      <th>Insecure Randomness</th>\n",
       "      <th>medium</th>\n",
       "      <td>1</td>\n",
       "    </tr>\n",
       "    <tr>\n",
       "      <th>Prototype Override Protection Bypass</th>\n",
       "      <th>high</th>\n",
       "      <td>1</td>\n",
       "    </tr>\n",
       "    <tr>\n",
       "      <th>Denial of Service (Memory Exhaustion)</th>\n",
       "      <th>high</th>\n",
       "      <td>1</td>\n",
       "    </tr>\n",
       "    <tr>\n",
       "      <th>Arbitrary Code Injection</th>\n",
       "      <th>high</th>\n",
       "      <td>1</td>\n",
       "    </tr>\n",
       "    <tr>\n",
       "      <th>Buffer Overflow</th>\n",
       "      <th>medium</th>\n",
       "      <td>1</td>\n",
       "    </tr>\n",
       "    <tr>\n",
       "      <th>Command Injection</th>\n",
       "      <th>high</th>\n",
       "      <td>1</td>\n",
       "    </tr>\n",
       "    <tr>\n",
       "      <th>Content &amp; Code Injection (XSS)</th>\n",
       "      <th>high</th>\n",
       "      <td>1</td>\n",
       "    </tr>\n",
       "    <tr>\n",
       "      <th>Cross-site Scripting (XSS)</th>\n",
       "      <th>high</th>\n",
       "      <td>1</td>\n",
       "    </tr>\n",
       "    <tr>\n",
       "      <th>Improper minification of non-boolean comparisons</th>\n",
       "      <th>high</th>\n",
       "      <td>1</td>\n",
       "    </tr>\n",
       "    <tr>\n",
       "      <th>npm Token Leak</th>\n",
       "      <th>medium</th>\n",
       "      <td>1</td>\n",
       "    </tr>\n",
       "    <tr>\n",
       "      <th>Cross-site Scripting (XSS) via Data URIs</th>\n",
       "      <th>high</th>\n",
       "      <td>1</td>\n",
       "    </tr>\n",
       "    <tr>\n",
       "      <th>Denial of Service (DoS)</th>\n",
       "      <th>low</th>\n",
       "      <td>1</td>\n",
       "    </tr>\n",
       "    <tr>\n",
       "      <th>Denial of Service (Event Loop Blocking)</th>\n",
       "      <th>medium</th>\n",
       "      <td>1</td>\n",
       "    </tr>\n",
       "    <tr>\n",
       "      <th>Uninitialized Memory Exposure</th>\n",
       "      <th>high</th>\n",
       "      <td>2</td>\n",
       "    </tr>\n",
       "    <tr>\n",
       "      <th>Arbitrary Code Execution</th>\n",
       "      <th>high</th>\n",
       "      <td>2</td>\n",
       "    </tr>\n",
       "    <tr>\n",
       "      <th rowspan=\"2\" valign=\"top\">Regular Expression Denial of Service (DoS)</th>\n",
       "      <th>medium</th>\n",
       "      <td>2</td>\n",
       "    </tr>\n",
       "    <tr>\n",
       "      <th>high</th>\n",
       "      <td>3</td>\n",
       "    </tr>\n",
       "    <tr>\n",
       "      <th>Prototype Pollution</th>\n",
       "      <th>low</th>\n",
       "      <td>4</td>\n",
       "    </tr>\n",
       "    <tr>\n",
       "      <th>Uninitialized Memory Exposure</th>\n",
       "      <th>medium</th>\n",
       "      <td>4</td>\n",
       "    </tr>\n",
       "    <tr>\n",
       "      <th>Cross-site Scripting (XSS)</th>\n",
       "      <th>medium</th>\n",
       "      <td>5</td>\n",
       "    </tr>\n",
       "    <tr>\n",
       "      <th rowspan=\"3\" valign=\"top\">Regular Expression Denial of Service (ReDoS)</th>\n",
       "      <th>medium</th>\n",
       "      <td>7</td>\n",
       "    </tr>\n",
       "    <tr>\n",
       "      <th>high</th>\n",
       "      <td>10</td>\n",
       "    </tr>\n",
       "    <tr>\n",
       "      <th>low</th>\n",
       "      <td>11</td>\n",
       "    </tr>\n",
       "  </tbody>\n",
       "</table>\n",
       "</div>"
      ],
      "text/plain": [
       "                                                             id\n",
       "name                                               severity    \n",
       "Access Restriction Bypass                          medium     1\n",
       "Uninitialized Memory Exposure                      low        1\n",
       "Unauthorized SSL Connection due to lack of cert... medium     1\n",
       "Timing Attack                                      medium     1\n",
       "Symlink File Overwrite                             high       1\n",
       "SQL Injection                                      medium     1\n",
       "Remote Memory Exposure                             medium     1\n",
       "Regular Expression Denial of Service (DoS)         low        1\n",
       "VBScript Content Injection                         medium     1\n",
       "Open Redirect                                      medium     1\n",
       "Multiple Content Injection Vulnerabilities         medium     1\n",
       "Insecure Randomness                                medium     1\n",
       "Prototype Override Protection Bypass               high       1\n",
       "Denial of Service (Memory Exhaustion)              high       1\n",
       "Arbitrary Code Injection                           high       1\n",
       "Buffer Overflow                                    medium     1\n",
       "Command Injection                                  high       1\n",
       "Content & Code Injection (XSS)                     high       1\n",
       "Cross-site Scripting (XSS)                         high       1\n",
       "Improper minification of non-boolean comparisons   high       1\n",
       "npm Token Leak                                     medium     1\n",
       "Cross-site Scripting (XSS) via Data URIs           high       1\n",
       "Denial of Service (DoS)                            low        1\n",
       "Denial of Service (Event Loop Blocking)            medium     1\n",
       "Uninitialized Memory Exposure                      high       2\n",
       "Arbitrary Code Execution                           high       2\n",
       "Regular Expression Denial of Service (DoS)         medium     2\n",
       "                                                   high       3\n",
       "Prototype Pollution                                low        4\n",
       "Uninitialized Memory Exposure                      medium     4\n",
       "Cross-site Scripting (XSS)                         medium     5\n",
       "Regular Expression Denial of Service (ReDoS)       medium     7\n",
       "                                                   high      10\n",
       "                                                   low       11"
      ]
     },
     "execution_count": 195,
     "metadata": {},
     "output_type": "execute_result"
    }
   ],
   "source": [
    "(vulnerabilities.query('affected==\"True\"')[['id','name','severity']].\n",
    " drop_duplicates().groupby(['name','severity']).count().sort_values('id'))"
   ]
  },
  {
   "cell_type": "code",
   "execution_count": 234,
   "metadata": {},
   "outputs": [],
   "source": [
    "df_tmp0=technical_lag.query('version_lag_today!=\"0,0,0\"')[['tag','package']]\n",
    "#df_tmp0['created']=df_tmp0['created'].apply(lambda x: x.split('-')[0])\n",
    "df_tmp0=df_tmp0.groupby(['tag',]).count().reset_index()\n",
    "\n",
    "df_tmp1=vulnerabilities.query('affected==\"True\"')[['affected','tag','severity']]\n",
    "df_tmp1=df_tmp1.groupby(['tag','severity']).count().reset_index()"
   ]
  },
  {
   "cell_type": "code",
   "execution_count": 233,
   "metadata": {},
   "outputs": [
    {
     "data": {
      "text/plain": [
       "<matplotlib.legend.Legend at 0x7f7242e16c88>"
      ]
     },
     "execution_count": 233,
     "metadata": {},
     "output_type": "execute_result"
    },
    {
     "data": {
      "image/png": "[encoded data removed]",
      "text/plain": [
       "<matplotlib.figure.Figure at 0x7f7242e11940>"
      ]
     },
     "metadata": {},
     "output_type": "display_data"
    }
   ],
   "source": [
    "df_tmp=(df_tmp0.\n",
    "        merge(df_tmp1,\n",
    "              left_on=\"tag\",\n",
    "              right_on=\"tag\",\n",
    "              how='left')\n",
    "       )\n",
    "\n",
    "ax = sns.lmplot(x=\"package\", y='affected', markers=[\"+\", 'o','x'], hue=\"severity\", palette='muted', data=df_tmp, legend='', size=8)\n",
    "ax.set(xlabel=\"Container's last update year\", ylabel='Vulnerabilities')\n",
    "ax.fig.set_size_inches(9,3)\n",
    "ax.fig.legend(loc='upper right', bbox_to_anchor=(0.33, 1.3), fontsize=20, fancybox=True, shadow=True)# ,ncol=3)\n",
    "\n"
   ]
  },
  {
   "cell_type": "code",
   "execution_count": 236,
   "metadata": {},
   "outputs": [],
   "source": [
    "df_tmp0=technical_lag.query('version_lag_today!=\"0,0,0\"')[['tag','package','base_os']]\n",
    "#df_tmp0['created']=df_tmp0['created'].apply(lambda x: x.split('-')[0])\n",
    "df_tmp0=df_tmp0.groupby(['tag','base_os']).count().reset_index()\n",
    "\n",
    "df_tmp1=vulnerabilities.query('affected==\"True\"')[['affected','tag']]\n",
    "df_tmp1=df_tmp1.groupby(['tag']).count().reset_index()"
   ]
  },
  {
   "cell_type": "code",
   "execution_count": 237,
   "metadata": {},
   "outputs": [
    {
     "data": {
      "text/plain": [
       "<matplotlib.legend.Legend at 0x7f7242e08630>"
      ]
     },
     "execution_count": 237,
     "metadata": {},
     "output_type": "execute_result"
    },
    {
     "data": {
      "image/png": "[encoded data removed]",
      "text/plain": [
       "<matplotlib.figure.Figure at 0x7f7242d839b0>"
      ]
     },
     "metadata": {},
     "output_type": "display_data"
    }
   ],
   "source": [
    "df_tmp=(df_tmp0.\n",
    "        merge(df_tmp1,\n",
    "              left_on=\"tag\",\n",
    "              right_on=\"tag\",\n",
    "              how='left')\n",
    "       )\n",
    "\n",
    "ax = sns.lmplot(x=\"package\", y='affected', markers=[\"+\", 'o',], hue=\"base_os\", palette='muted', data=df_tmp, legend='', size=8)\n",
    "ax.set(xlabel=\"Container's last update year\", ylabel='Vulnerabilities')\n",
    "ax.fig.set_size_inches(9,3)\n",
    "ax.fig.legend(loc='upper right', bbox_to_anchor=(0.33, 1.3), fontsize=20, fancybox=True, shadow=True)# ,ncol=3)\n",
    "\n"
   ]
  },
  {
   "cell_type": "code",
   "execution_count": null,
   "metadata": {},
   "outputs": [],
   "source": []
  }
 ],
 "metadata": {
  "kernelspec": {
   "display_name": "Python 3",
   "language": "python",
   "name": "python3"
  },
  "language_info": {
   "codemirror_mode": {
    "name": "ipython",
    "version": 3
   },
   "file_extension": ".py",
   "mimetype": "text/x-python",
   "name": "python",
   "nbconvert_exporter": "python",
   "pygments_lexer": "ipython3",
   "version": "3.5.1+"
  }
 },
 "nbformat": 4,
 "nbformat_minor": 2
}
