{
 "cells": [
  {
   "cell_type": "code",
   "execution_count": 2,
   "metadata": {},
   "outputs": [],
   "source": [
    "%matplotlib inline\n",
    "import seaborn as sns; #sns.set(style=\"ticks\", color_codes=True)\n",
    "import pandas as pd\n",
    "import matplotlib.pyplot as plt\n",
    "from matplotlib import style\n",
    "import scipy\n",
    "style.use('fast')\n",
    "from datetime import datetime\n",
    "from io import StringIO\n",
    "import re\n",
    "import numpy as np\n",
    "import os\n",
    "from tqdm import tqdm\n",
    "import json as js\n",
    "import codecs"
   ]
  },
  {
   "cell_type": "code",
   "execution_count": 3,
   "metadata": {},
   "outputs": [],
   "source": [
    "\n",
    "sns.set_style('ticks',{'legend.frameon':True} )\n",
    "sns.set_palette('colorblind')\n",
    "FIG_SIZE = (12, 3)\n",
    "font = {'family' : 'Times New Roman',\n",
    "        'weight' : 'bold',\n",
    "        'size'   : 22}\n",
    "plt.rc('font', **font)\n",
    "plt.rcParams['pdf.fonttype'] = 42\n",
    "plt.rcParams['ps.fonttype'] = 42\n",
    "plt.rcParams['text.usetex'] = True\n",
    "\n",
    "plt.rcParams['xtick.labelsize'] = 18\n",
    "plt.rcParams['ytick.labelsize'] = 22\n",
    "plt.rcParams['axes.labelsize']= 22\n"
   ]
  },
  {
   "cell_type": "markdown",
   "metadata": {},
   "source": [
    "# IMAGES THAT MAKE USE OF NODE"
   ]
  },
  {
   "cell_type": "code",
   "execution_count": 5,
   "metadata": {},
   "outputs": [
    {
     "name": "stdout",
     "output_type": "stream",
     "text": [
      "148364\n"
     ]
    },
    {
     "data": {
      "text/html": [
       "<div>\n",
       "<style scoped>\n",
       "    .dataframe tbody tr th:only-of-type {\n",
       "        vertical-align: middle;\n",
       "    }\n",
       "\n",
       "    .dataframe tbody tr th {\n",
       "        vertical-align: top;\n",
       "    }\n",
       "\n",
       "    .dataframe thead th {\n",
       "        text-align: right;\n",
       "    }\n",
       "</style>\n",
       "<table border=\"1\" class=\"dataframe\">\n",
       "  <thead>\n",
       "    <tr style=\"text-align: right;\">\n",
       "      <th></th>\n",
       "      <th>slug</th>\n",
       "      <th>tag</th>\n",
       "      <th>created</th>\n",
       "      <th>layer</th>\n",
       "      <th>level</th>\n",
       "    </tr>\n",
       "  </thead>\n",
       "  <tbody>\n",
       "    <tr>\n",
       "      <th>0</th>\n",
       "      <td>tomcat</td>\n",
       "      <td>8.0.37-jre7</td>\n",
       "      <td>2016-09-23</td>\n",
       "      <td>sha256:6a5a5368e0c2d3e5909184fa28ddfd56072e7ff...</td>\n",
       "      <td>1</td>\n",
       "    </tr>\n",
       "    <tr>\n",
       "      <th>1</th>\n",
       "      <td>tomcat</td>\n",
       "      <td>8.0.37-jre7</td>\n",
       "      <td>2016-09-23</td>\n",
       "      <td>sha256:7b9457ec39de00bc70af1c9631b9ae6ede5a3ab...</td>\n",
       "      <td>2</td>\n",
       "    </tr>\n",
       "    <tr>\n",
       "      <th>2</th>\n",
       "      <td>tomcat</td>\n",
       "      <td>8.0.37-jre7</td>\n",
       "      <td>2016-09-23</td>\n",
       "      <td>sha256:d5cc639e6fca6aa608423c71badb1c40bacbd0b...</td>\n",
       "      <td>3</td>\n",
       "    </tr>\n",
       "    <tr>\n",
       "      <th>3</th>\n",
       "      <td>tomcat</td>\n",
       "      <td>8.0.37-jre7</td>\n",
       "      <td>2016-09-23</td>\n",
       "      <td>sha256:dae3b0638638646d213f6edc2c16e52ddb60e20...</td>\n",
       "      <td>4</td>\n",
       "    </tr>\n",
       "    <tr>\n",
       "      <th>4</th>\n",
       "      <td>tomcat</td>\n",
       "      <td>8.0.37-jre7</td>\n",
       "      <td>2016-09-23</td>\n",
       "      <td>sha256:ab678d1c6f004857bf4dbca219e8111b0a56993...</td>\n",
       "      <td>5</td>\n",
       "    </tr>\n",
       "  </tbody>\n",
       "</table>\n",
       "</div>"
      ],
      "text/plain": [
       "     slug          tag     created  \\\n",
       "0  tomcat  8.0.37-jre7  2016-09-23   \n",
       "1  tomcat  8.0.37-jre7  2016-09-23   \n",
       "2  tomcat  8.0.37-jre7  2016-09-23   \n",
       "3  tomcat  8.0.37-jre7  2016-09-23   \n",
       "4  tomcat  8.0.37-jre7  2016-09-23   \n",
       "\n",
       "                                               layer  level  \n",
       "0  sha256:6a5a5368e0c2d3e5909184fa28ddfd56072e7ff...      1  \n",
       "1  sha256:7b9457ec39de00bc70af1c9631b9ae6ede5a3ab...      2  \n",
       "2  sha256:d5cc639e6fca6aa608423c71badb1c40bacbd0b...      3  \n",
       "3  sha256:dae3b0638638646d213f6edc2c16e52ddb60e20...      4  \n",
       "4  sha256:ab678d1c6f004857bf4dbca219e8111b0a56993...      5  "
      ]
     },
     "execution_count": 5,
     "metadata": {},
     "output_type": "execute_result"
    }
   ],
   "source": [
    "# Take all images layers\n",
    "official_layers=pd.read_csv('../../docker/csv/layers_official_23MARCH.csv', sep=';', dtype=object, index_col=None,  error_bad_lines=False)\n",
    "official_layers['level']=official_layers['level'].apply(int)\n",
    "official_layers=(official_layers.\n",
    "                 #query('slug==\"node\"').\n",
    "                 assign(created = lambda x: x['created'].apply(lambda d: d.split('T')[0]))\n",
    "                )\n",
    "print(len(official_layers))\n",
    "official_layers.head()"
   ]
  },
  {
   "cell_type": "code",
   "execution_count": 8,
   "metadata": {},
   "outputs": [],
   "source": [
    "official_layers=(official_layers.\n",
    "                 groupby(['slug','tag','created']).\n",
    "                 agg({ 'layer': lambda x: ','.join(x)})\n",
    "                )"
   ]
  },
  {
   "cell_type": "code",
   "execution_count": 9,
   "metadata": {},
   "outputs": [
    {
     "data": {
      "text/plain": [
       "8891"
      ]
     },
     "execution_count": 9,
     "metadata": {},
     "output_type": "execute_result"
    }
   ],
   "source": [
    "len(official_layers[['layer']].drop_duplicates())"
   ]
  },
  {
   "cell_type": "code",
   "execution_count": null,
   "metadata": {},
   "outputs": [],
   "source": [
    "official_layers"
   ]
  },
  {
   "cell_type": "code",
   "execution_count": 45,
   "metadata": {},
   "outputs": [
    {
     "name": "stdout",
     "output_type": "stream",
     "text": [
      "8891 869\n"
     ]
    },
    {
     "data": {
      "text/html": [
       "<div>\n",
       "<style scoped>\n",
       "    .dataframe tbody tr th:only-of-type {\n",
       "        vertical-align: middle;\n",
       "    }\n",
       "\n",
       "    .dataframe tbody tr th {\n",
       "        vertical-align: top;\n",
       "    }\n",
       "\n",
       "    .dataframe thead th {\n",
       "        text-align: right;\n",
       "    }\n",
       "</style>\n",
       "<table border=\"1\" class=\"dataframe\">\n",
       "  <thead>\n",
       "    <tr style=\"text-align: right;\">\n",
       "      <th></th>\n",
       "      <th>slug</th>\n",
       "      <th>tag</th>\n",
       "      <th>created</th>\n",
       "      <th>layer</th>\n",
       "    </tr>\n",
       "  </thead>\n",
       "  <tbody>\n",
       "    <tr>\n",
       "      <th>0</th>\n",
       "      <td>adminer</td>\n",
       "      <td>4</td>\n",
       "      <td>2018-03-23</td>\n",
       "      <td>sha256:605ce1bd3f3164f2949a30501cc596f52a72de0...</td>\n",
       "    </tr>\n",
       "    <tr>\n",
       "      <th>1</th>\n",
       "      <td>adminer</td>\n",
       "      <td>4-fastcgi</td>\n",
       "      <td>2018-03-23</td>\n",
       "      <td>sha256:605ce1bd3f3164f2949a30501cc596f52a72de0...</td>\n",
       "    </tr>\n",
       "  </tbody>\n",
       "</table>\n",
       "</div>"
      ],
      "text/plain": [
       "      slug        tag     created  \\\n",
       "0  adminer          4  2018-03-23   \n",
       "1  adminer  4-fastcgi  2018-03-23   \n",
       "\n",
       "                                               layer  \n",
       "0  sha256:605ce1bd3f3164f2949a30501cc596f52a72de0...  \n",
       "1  sha256:605ce1bd3f3164f2949a30501cc596f52a72de0...  "
      ]
     },
     "execution_count": 45,
     "metadata": {},
     "output_type": "execute_result"
    }
   ],
   "source": [
    "# Remove duplicates and get only those who were last updated\n",
    "official_layers=(official_layers.\n",
    "                 groupby(['slug','tag','created']).\n",
    "                 agg({ 'layer': lambda x: ','.join(x)}).\n",
    "                 drop_duplicates().\n",
    "                 reset_index()\n",
    "                 #drop(['layer'], axis=1)\n",
    "                )\n",
    "node_layers=official_layers.query('slug==\"node\"')\n",
    "print(len(official_layers),len(node_layers))\n",
    "official_layers.head(2)"
   ]
  },
  {
   "cell_type": "code",
   "execution_count": 61,
   "metadata": {},
   "outputs": [
    {
     "data": {
      "text/html": [
       "<div>\n",
       "<style scoped>\n",
       "    .dataframe tbody tr th:only-of-type {\n",
       "        vertical-align: middle;\n",
       "    }\n",
       "\n",
       "    .dataframe tbody tr th {\n",
       "        vertical-align: top;\n",
       "    }\n",
       "\n",
       "    .dataframe thead th {\n",
       "        text-align: right;\n",
       "    }\n",
       "</style>\n",
       "<table border=\"1\" class=\"dataframe\">\n",
       "  <thead>\n",
       "    <tr style=\"text-align: right;\">\n",
       "      <th></th>\n",
       "      <th>slug_node</th>\n",
       "      <th>tag_node</th>\n",
       "      <th>layer_node</th>\n",
       "    </tr>\n",
       "  </thead>\n",
       "  <tbody>\n",
       "    <tr>\n",
       "      <th>4290</th>\n",
       "      <td>node</td>\n",
       "      <td>0</td>\n",
       "      <td>sha256:75a822cd7888e394c49828b951061402d31745f...</td>\n",
       "    </tr>\n",
       "    <tr>\n",
       "      <th>4291</th>\n",
       "      <td>node</td>\n",
       "      <td>0-onbuild</td>\n",
       "      <td>sha256:75a822cd7888e394c49828b951061402d31745f...</td>\n",
       "    </tr>\n",
       "  </tbody>\n",
       "</table>\n",
       "</div>"
      ],
      "text/plain": [
       "     slug_node   tag_node                                         layer_node\n",
       "4290      node          0  sha256:75a822cd7888e394c49828b951061402d31745f...\n",
       "4291      node  0-onbuild  sha256:75a822cd7888e394c49828b951061402d31745f..."
      ]
     },
     "execution_count": 61,
     "metadata": {},
     "output_type": "execute_result"
    }
   ],
   "source": [
    "node_layers=node_layers.rename(columns={'slug':'slug_node','tag':'tag_node','layer':'layer_node'})\n",
    "node_layers=node_layers.drop(['created'], axis=1)\n",
    "node_layers.head(2)"
   ]
  },
  {
   "cell_type": "code",
   "execution_count": 70,
   "metadata": {},
   "outputs": [],
   "source": [
    "# This may take some time\n",
    "official_layers['tmp']=1\n",
    "node_layers['tmp']=1\n",
    "\n",
    "node_other=pd.merge(official_layers,node_layers, on=['tmp'])\n",
    "node_other['node']=node_other[['layer_node','layer']].apply(lambda d: d['layer_node'] in d['layer'], axis=1)\n",
    "node_other=node_other.query('node==True')\n",
    "node_other.drop(['tmp','layer_node'], axis=1, inplace=True)\n",
    "node_other.to_csv('../../npm_docker/csv/images_use_node.csv', index=False, sep=\";\")"
   ]
  },
  {
   "cell_type": "code",
   "execution_count": 3,
   "metadata": {},
   "outputs": [
    {
     "data": {
      "text/html": [
       "<div>\n",
       "<style scoped>\n",
       "    .dataframe tbody tr th:only-of-type {\n",
       "        vertical-align: middle;\n",
       "    }\n",
       "\n",
       "    .dataframe tbody tr th {\n",
       "        vertical-align: top;\n",
       "    }\n",
       "\n",
       "    .dataframe thead th {\n",
       "        text-align: right;\n",
       "    }\n",
       "</style>\n",
       "<table border=\"1\" class=\"dataframe\">\n",
       "  <thead>\n",
       "    <tr style=\"text-align: right;\">\n",
       "      <th></th>\n",
       "      <th>layer</th>\n",
       "    </tr>\n",
       "    <tr>\n",
       "      <th>slug</th>\n",
       "      <th></th>\n",
       "    </tr>\n",
       "  </thead>\n",
       "  <tbody>\n",
       "    <tr>\n",
       "      <th>ghost</th>\n",
       "      <td>75</td>\n",
       "    </tr>\n",
       "    <tr>\n",
       "      <th>mongo-express</th>\n",
       "      <td>17</td>\n",
       "    </tr>\n",
       "    <tr>\n",
       "      <th>node</th>\n",
       "      <td>869</td>\n",
       "    </tr>\n",
       "  </tbody>\n",
       "</table>\n",
       "</div>"
      ],
      "text/plain": [
       "               layer\n",
       "slug                \n",
       "ghost             75\n",
       "mongo-express     17\n",
       "node             869"
      ]
     },
     "execution_count": 3,
     "metadata": {},
     "output_type": "execute_result"
    }
   ],
   "source": [
    "node_other=pd.read_csv('../../npm_docker/csv/images_use_node.csv', index_col=None, sep=\";\")\n",
    "node_other.drop(['slug_node','tag_node','node'], axis=1, inplace=True)\n",
    "node_other=node_other.set_index(['slug','tag','created']).drop_duplicates()\n",
    "#node_other=node_other.query('created<\"2018-01-01\"')\n",
    "node_other.groupby(['slug']).count()"
   ]
  },
  {
   "cell_type": "code",
   "execution_count": 6,
   "metadata": {},
   "outputs": [],
   "source": [
    "#node_other.reset_index()[['slug','tag']].to_csv('../../npm_docker/csv/images_node.csv', index=False, sep=\";\")"
   ]
  },
  {
   "cell_type": "markdown",
   "metadata": {},
   "source": [
    "# PARSE PACKAGES and Vulnerabilities"
   ]
  },
  {
   "cell_type": "code",
   "execution_count": 5,
   "metadata": {},
   "outputs": [
    {
     "name": "stdout",
     "output_type": "stream",
     "text": [
      "296699\n"
     ]
    },
    {
     "data": {
      "text/html": [
       "<div>\n",
       "<style scoped>\n",
       "    .dataframe tbody tr th:only-of-type {\n",
       "        vertical-align: middle;\n",
       "    }\n",
       "\n",
       "    .dataframe tbody tr th {\n",
       "        vertical-align: top;\n",
       "    }\n",
       "\n",
       "    .dataframe thead th {\n",
       "        text-align: right;\n",
       "    }\n",
       "</style>\n",
       "<table border=\"1\" class=\"dataframe\">\n",
       "  <thead>\n",
       "    <tr style=\"text-align: right;\">\n",
       "      <th></th>\n",
       "      <th>slug</th>\n",
       "      <th>tag</th>\n",
       "      <th>package</th>\n",
       "      <th>version</th>\n",
       "      <th>base_os</th>\n",
       "      <th>base_od_version</th>\n",
       "    </tr>\n",
       "  </thead>\n",
       "  <tbody>\n",
       "    <tr>\n",
       "      <th>0</th>\n",
       "      <td>ghost</td>\n",
       "      <td>ghost:0</td>\n",
       "      <td>once</td>\n",
       "      <td>1.4.0</td>\n",
       "      <td>debian</td>\n",
       "      <td>8</td>\n",
       "    </tr>\n",
       "    <tr>\n",
       "      <th>1</th>\n",
       "      <td>ghost</td>\n",
       "      <td>ghost:0</td>\n",
       "      <td>validator</td>\n",
       "      <td>8.2.0</td>\n",
       "      <td>debian</td>\n",
       "      <td>8</td>\n",
       "    </tr>\n",
       "  </tbody>\n",
       "</table>\n",
       "</div>"
      ],
      "text/plain": [
       "    slug      tag    package version base_os base_od_version\n",
       "0  ghost  ghost:0       once   1.4.0  debian               8\n",
       "1  ghost  ghost:0  validator   8.2.0  debian               8"
      ]
     },
     "execution_count": 5,
     "metadata": {},
     "output_type": "execute_result"
    }
   ],
   "source": [
    "docker_package=pd.read_csv('../../npm_docker/csv/packages_from_anchor.csv', sep=';', dtype=object, index_col=None,  error_bad_lines=False)\n",
    "docker_package.drop_duplicates(inplace=True)\n",
    "print(len(docker_package))\n",
    "docker_package['tag']=docker_package['slug']+':'+docker_package['tag']\n",
    "docker_package.head(2)\n"
   ]
  },
  {
   "cell_type": "code",
   "execution_count": 5,
   "metadata": {},
   "outputs": [
    {
     "name": "stdout",
     "output_type": "stream",
     "text": [
      "1099\n"
     ]
    },
    {
     "data": {
      "text/html": [
       "<div>\n",
       "<style scoped>\n",
       "    .dataframe tbody tr th:only-of-type {\n",
       "        vertical-align: middle;\n",
       "    }\n",
       "\n",
       "    .dataframe tbody tr th {\n",
       "        vertical-align: top;\n",
       "    }\n",
       "\n",
       "    .dataframe thead th {\n",
       "        text-align: right;\n",
       "    }\n",
       "</style>\n",
       "<table border=\"1\" class=\"dataframe\">\n",
       "  <thead>\n",
       "    <tr style=\"text-align: right;\">\n",
       "      <th></th>\n",
       "      <th>Id</th>\n",
       "      <th>Name</th>\n",
       "      <th>Package</th>\n",
       "      <th>Published</th>\n",
       "      <th>Severity</th>\n",
       "      <th>Versions</th>\n",
       "      <th>Disclosed</th>\n",
       "    </tr>\n",
       "  </thead>\n",
       "  <tbody>\n",
       "    <tr>\n",
       "      <th>0</th>\n",
       "      <td>npm:http-fetch-cookies:20180502</td>\n",
       "      <td>Malicious Package</td>\n",
       "      <td>http-fetch-cookies</td>\n",
       "      <td>03 May, 2018</td>\n",
       "      <td>high</td>\n",
       "      <td>*</td>\n",
       "      <td>02 May, 2018</td>\n",
       "    </tr>\n",
       "    <tr>\n",
       "      <th>1</th>\n",
       "      <td>npm:getcookies:20180502</td>\n",
       "      <td>Malicious Package</td>\n",
       "      <td>getcookies</td>\n",
       "      <td>03 May, 2018</td>\n",
       "      <td>high</td>\n",
       "      <td>*</td>\n",
       "      <td>02 May, 2018</td>\n",
       "    </tr>\n",
       "  </tbody>\n",
       "</table>\n",
       "</div>"
      ],
      "text/plain": [
       "                                Id               Name             Package  \\\n",
       "0  npm:http-fetch-cookies:20180502  Malicious Package  http-fetch-cookies   \n",
       "1          npm:getcookies:20180502  Malicious Package          getcookies   \n",
       "\n",
       "      Published Severity Versions     Disclosed  \n",
       "0  03 May, 2018     high        *  02 May, 2018  \n",
       "1  03 May, 2018     high        *  02 May, 2018  "
      ]
     },
     "execution_count": 5,
     "metadata": {},
     "output_type": "execute_result"
    }
   ],
   "source": [
    "vulnerabilities=pd.read_csv('../../npm_docker/csv/vulnerabilities.csv', sep=';', dtype=object, index_col=None,  error_bad_lines=False)\n",
    "print(len(vulnerabilities))\n",
    "vulnerabilities.head(2)"
   ]
  },
  {
   "cell_type": "code",
   "execution_count": 12,
   "metadata": {},
   "outputs": [
    {
     "data": {
      "text/html": [
       "<div>\n",
       "<style scoped>\n",
       "    .dataframe tbody tr th:only-of-type {\n",
       "        vertical-align: middle;\n",
       "    }\n",
       "\n",
       "    .dataframe tbody tr th {\n",
       "        vertical-align: top;\n",
       "    }\n",
       "\n",
       "    .dataframe thead th {\n",
       "        text-align: right;\n",
       "    }\n",
       "</style>\n",
       "<table border=\"1\" class=\"dataframe\">\n",
       "  <thead>\n",
       "    <tr style=\"text-align: right;\">\n",
       "      <th></th>\n",
       "      <th>Id</th>\n",
       "      <th>Name</th>\n",
       "      <th>Package</th>\n",
       "      <th>Published</th>\n",
       "      <th>Severity</th>\n",
       "      <th>Versions</th>\n",
       "      <th>Disclosed</th>\n",
       "    </tr>\n",
       "  </thead>\n",
       "  <tbody>\n",
       "    <tr>\n",
       "      <th>1063</th>\n",
       "      <td>npm:ungit:20150122</td>\n",
       "      <td>Command Injection</td>\n",
       "      <td>ungit</td>\n",
       "      <td>22 Jan, 2015</td>\n",
       "      <td>medium</td>\n",
       "      <td>&lt;=0.8.4</td>\n",
       "      <td>22 Jan, 2015</td>\n",
       "    </tr>\n",
       "  </tbody>\n",
       "</table>\n",
       "</div>"
      ],
      "text/plain": [
       "                      Id               Name Package     Published Severity  \\\n",
       "1063  npm:ungit:20150122  Command Injection   ungit  22 Jan, 2015   medium   \n",
       "\n",
       "     Versions     Disclosed  \n",
       "1063  <=0.8.4  22 Jan, 2015  "
      ]
     },
     "execution_count": 12,
     "metadata": {},
     "output_type": "execute_result"
    }
   ],
   "source": [
    "vulnerabilities.query('Package==\"ungit\"')"
   ]
  },
  {
   "cell_type": "code",
   "execution_count": 51,
   "metadata": {},
   "outputs": [
    {
     "data": {
      "text/plain": [
       "961"
      ]
     },
     "execution_count": 51,
     "metadata": {},
     "output_type": "execute_result"
    }
   ],
   "source": [
    "len(docker_package.groupby(['slug','tag']).count())"
   ]
  },
  {
   "cell_type": "code",
   "execution_count": 54,
   "metadata": {},
   "outputs": [
    {
     "data": {
      "text/html": [
       "<div>\n",
       "<style scoped>\n",
       "    .dataframe tbody tr th:only-of-type {\n",
       "        vertical-align: middle;\n",
       "    }\n",
       "\n",
       "    .dataframe tbody tr th {\n",
       "        vertical-align: top;\n",
       "    }\n",
       "\n",
       "    .dataframe thead th {\n",
       "        text-align: right;\n",
       "    }\n",
       "</style>\n",
       "<table border=\"1\" class=\"dataframe\">\n",
       "  <thead>\n",
       "    <tr style=\"text-align: right;\">\n",
       "      <th></th>\n",
       "      <th>tag</th>\n",
       "      <th>package</th>\n",
       "      <th>version</th>\n",
       "      <th>base_os</th>\n",
       "      <th>base_od_version</th>\n",
       "    </tr>\n",
       "    <tr>\n",
       "      <th>slug</th>\n",
       "      <th></th>\n",
       "      <th></th>\n",
       "      <th></th>\n",
       "      <th></th>\n",
       "      <th></th>\n",
       "    </tr>\n",
       "  </thead>\n",
       "  <tbody>\n",
       "    <tr>\n",
       "      <th>ghost</th>\n",
       "      <td>213791</td>\n",
       "      <td>213353</td>\n",
       "      <td>213791</td>\n",
       "      <td>213791</td>\n",
       "      <td>213791</td>\n",
       "    </tr>\n",
       "    <tr>\n",
       "      <th>mongo-express</th>\n",
       "      <td>15377</td>\n",
       "      <td>15377</td>\n",
       "      <td>15377</td>\n",
       "      <td>15377</td>\n",
       "      <td>15377</td>\n",
       "    </tr>\n",
       "    <tr>\n",
       "      <th>node</th>\n",
       "      <td>244181</td>\n",
       "      <td>244181</td>\n",
       "      <td>244181</td>\n",
       "      <td>244181</td>\n",
       "      <td>244181</td>\n",
       "    </tr>\n",
       "  </tbody>\n",
       "</table>\n",
       "</div>"
      ],
      "text/plain": [
       "                  tag  package  version  base_os  base_od_version\n",
       "slug                                                             \n",
       "ghost          213791   213353   213791   213791           213791\n",
       "mongo-express   15377    15377    15377    15377            15377\n",
       "node           244181   244181   244181   244181           244181"
      ]
     },
     "execution_count": 54,
     "metadata": {},
     "output_type": "execute_result"
    }
   ],
   "source": [
    "docker_package.groupby(['slug']).count()"
   ]
  },
  {
   "cell_type": "code",
   "execution_count": 56,
   "metadata": {},
   "outputs": [
    {
     "data": {
      "text/html": [
       "<div>\n",
       "<style scoped>\n",
       "    .dataframe tbody tr th:only-of-type {\n",
       "        vertical-align: middle;\n",
       "    }\n",
       "\n",
       "    .dataframe tbody tr th {\n",
       "        vertical-align: top;\n",
       "    }\n",
       "\n",
       "    .dataframe thead th {\n",
       "        text-align: right;\n",
       "    }\n",
       "</style>\n",
       "<table border=\"1\" class=\"dataframe\">\n",
       "  <thead>\n",
       "    <tr style=\"text-align: right;\">\n",
       "      <th></th>\n",
       "      <th></th>\n",
       "      <th>slug</th>\n",
       "      <th>tag</th>\n",
       "      <th>package</th>\n",
       "      <th>version</th>\n",
       "    </tr>\n",
       "    <tr>\n",
       "      <th>base_os</th>\n",
       "      <th>base_od_version</th>\n",
       "      <th></th>\n",
       "      <th></th>\n",
       "      <th></th>\n",
       "      <th></th>\n",
       "    </tr>\n",
       "  </thead>\n",
       "  <tbody>\n",
       "    <tr>\n",
       "      <th rowspan=\"4\" valign=\"top\">alpine</th>\n",
       "      <th>3.4.4</th>\n",
       "      <td>1277</td>\n",
       "      <td>1277</td>\n",
       "      <td>1277</td>\n",
       "      <td>1277</td>\n",
       "    </tr>\n",
       "    <tr>\n",
       "      <th>3.4.6</th>\n",
       "      <td>127775</td>\n",
       "      <td>127775</td>\n",
       "      <td>127533</td>\n",
       "      <td>127775</td>\n",
       "    </tr>\n",
       "    <tr>\n",
       "      <th>3.6.0</th>\n",
       "      <td>1045</td>\n",
       "      <td>1045</td>\n",
       "      <td>1045</td>\n",
       "      <td>1045</td>\n",
       "    </tr>\n",
       "    <tr>\n",
       "      <th>3.6.2</th>\n",
       "      <td>13696</td>\n",
       "      <td>13696</td>\n",
       "      <td>13696</td>\n",
       "      <td>13696</td>\n",
       "    </tr>\n",
       "    <tr>\n",
       "      <th rowspan=\"4\" valign=\"top\">debian</th>\n",
       "      <th>0</th>\n",
       "      <td>1983</td>\n",
       "      <td>1983</td>\n",
       "      <td>1983</td>\n",
       "      <td>1983</td>\n",
       "    </tr>\n",
       "    <tr>\n",
       "      <th>7</th>\n",
       "      <td>49654</td>\n",
       "      <td>49654</td>\n",
       "      <td>49654</td>\n",
       "      <td>49654</td>\n",
       "    </tr>\n",
       "    <tr>\n",
       "      <th>8</th>\n",
       "      <td>261633</td>\n",
       "      <td>261633</td>\n",
       "      <td>261437</td>\n",
       "      <td>261633</td>\n",
       "    </tr>\n",
       "    <tr>\n",
       "      <th>9</th>\n",
       "      <td>16286</td>\n",
       "      <td>16286</td>\n",
       "      <td>16286</td>\n",
       "      <td>16286</td>\n",
       "    </tr>\n",
       "  </tbody>\n",
       "</table>\n",
       "</div>"
      ],
      "text/plain": [
       "                           slug     tag  package  version\n",
       "base_os base_od_version                                  \n",
       "alpine  3.4.4              1277    1277     1277     1277\n",
       "        3.4.6            127775  127775   127533   127775\n",
       "        3.6.0              1045    1045     1045     1045\n",
       "        3.6.2             13696   13696    13696    13696\n",
       "debian  0                  1983    1983     1983     1983\n",
       "        7                 49654   49654    49654    49654\n",
       "        8                261633  261633   261437   261633\n",
       "        9                 16286   16286    16286    16286"
      ]
     },
     "execution_count": 56,
     "metadata": {},
     "output_type": "execute_result"
    }
   ],
   "source": [
    "docker_package.groupby(['base_os','base_od_version']).count()"
   ]
  },
  {
   "cell_type": "code",
   "execution_count": 75,
   "metadata": {},
   "outputs": [],
   "source": [
    "x=0\n",
    "for n in docker_package['package'].drop_duplicates().isin(vulnerabilities['Package'].values):\n",
    "    if n:\n",
    "        x=x+1"
   ]
  },
  {
   "cell_type": "code",
   "execution_count": 82,
   "metadata": {},
   "outputs": [],
   "source": [
    "mask = docker_package['package'].isin(vulnerabilities['Package'].values)\n",
    "vul_packages=docker_package[mask]"
   ]
  },
  {
   "cell_type": "code",
   "execution_count": 85,
   "metadata": {},
   "outputs": [
    {
     "data": {
      "text/plain": [
       "961"
      ]
     },
     "execution_count": 85,
     "metadata": {},
     "output_type": "execute_result"
    }
   ],
   "source": [
    "len(vul_packages.groupby('tag').count())"
   ]
  },
  {
   "cell_type": "code",
   "execution_count": 5,
   "metadata": {},
   "outputs": [
    {
     "data": {
      "text/plain": [
       "{'nodsa': 'Minor issue',\n",
       " 'nodsa_reason': '',\n",
       " 'repositories': {'jessie': '1:4.2-3+deb8u4',\n",
       "  'jessie-security': '1:4.2-3+deb8u4'},\n",
       " 'status': 'open',\n",
       " 'urgency': 'high**'}"
      ]
     },
     "execution_count": 5,
     "metadata": {},
     "output_type": "execute_result"
    }
   ],
   "source": [
    "# Use only once: Skip\n",
    "import codecs\n",
    "vulnerabilities=js.load(codecs.open('../../docker/csv/security-debian_1April.json', 'r', 'utf-8'))\n",
    "vulnerabilities['shadow']['CVE-2017-12424']['releases']['jessie']"
   ]
  },
  {
   "cell_type": "code",
   "execution_count": 14,
   "metadata": {},
   "outputs": [],
   "source": [
    "vuls={}\n",
    "for c in vulnerabilities:\n",
    "    vuls[c]=len(vulnerabilities[c])"
   ]
  },
  {
   "cell_type": "code",
   "execution_count": 20,
   "metadata": {},
   "outputs": [],
   "source": [
    "d={'package': list(vuls.keys()), 'vuls': list(vuls.values())}\n",
    "df = pd.DataFrame(data=d)"
   ]
  },
  {
   "cell_type": "code",
   "execution_count": 27,
   "metadata": {},
   "outputs": [
    {
     "data": {
      "text/html": [
       "<div>\n",
       "<style scoped>\n",
       "    .dataframe tbody tr th:only-of-type {\n",
       "        vertical-align: middle;\n",
       "    }\n",
       "\n",
       "    .dataframe tbody tr th {\n",
       "        vertical-align: top;\n",
       "    }\n",
       "\n",
       "    .dataframe thead th {\n",
       "        text-align: right;\n",
       "    }\n",
       "</style>\n",
       "<table border=\"1\" class=\"dataframe\">\n",
       "  <thead>\n",
       "    <tr style=\"text-align: right;\">\n",
       "      <th></th>\n",
       "      <th>package</th>\n",
       "      <th>vuls</th>\n",
       "    </tr>\n",
       "  </thead>\n",
       "  <tbody>\n",
       "    <tr>\n",
       "      <th>1795</th>\n",
       "      <td>mysql-5.5</td>\n",
       "      <td>452</td>\n",
       "    </tr>\n",
       "  </tbody>\n",
       "</table>\n",
       "</div>"
      ],
      "text/plain": [
       "        package  vuls\n",
       "1795  mysql-5.5   452"
      ]
     },
     "execution_count": 27,
     "metadata": {},
     "output_type": "execute_result"
    }
   ],
   "source": [
    "df.sort_values(['vuls'], ascending=False).query(\"package=='mysql-5.5'\")"
   ]
  },
  {
   "cell_type": "code",
   "execution_count": 8,
   "metadata": {},
   "outputs": [
    {
     "data": {
      "text/plain": [
       "28593"
      ]
     },
     "execution_count": 8,
     "metadata": {},
     "output_type": "execute_result"
    }
   ],
   "source": [
    "l=0\n",
    "for c in vulnerabilities:\n",
    "    l=l+len(vulnerabilities[c])\n",
    "l"
   ]
  },
  {
   "cell_type": "code",
   "execution_count": 7,
   "metadata": {},
   "outputs": [
    {
     "name": "stdout",
     "output_type": "stream",
     "text": [
      "start\n"
     ]
    },
    {
     "name": "stderr",
     "output_type": "stream",
     "text": [
      "/usr/local/lib/python3.5/dist-packages/ipykernel_launcher.py:10: SettingWithCopyWarning: \n",
      "A value is trying to be set on a copy of a slice from a DataFrame.\n",
      "Try using .loc[row_indexer,col_indexer] = value instead\n",
      "\n",
      "See the caveats in the documentation: http://pandas.pydata.org/pandas-docs/stable/indexing.html#indexing-view-versus-copy\n",
      "  # Remove the CWD from sys.path while we load stuff.\n",
      "/usr/local/lib/python3.5/dist-packages/ipykernel_launcher.py:10: SettingWithCopyWarning: \n",
      "A value is trying to be set on a copy of a slice from a DataFrame.\n",
      "Try using .loc[row_indexer,col_indexer] = value instead\n",
      "\n",
      "See the caveats in the documentation: http://pandas.pydata.org/pandas-docs/stable/indexing.html#indexing-view-versus-copy\n",
      "  # Remove the CWD from sys.path while we load stuff.\n",
      "/usr/local/lib/python3.5/dist-packages/ipykernel_launcher.py:10: SettingWithCopyWarning: \n",
      "A value is trying to be set on a copy of a slice from a DataFrame.\n",
      "Try using .loc[row_indexer,col_indexer] = value instead\n",
      "\n",
      "See the caveats in the documentation: http://pandas.pydata.org/pandas-docs/stable/indexing.html#indexing-view-versus-copy\n",
      "  # Remove the CWD from sys.path while we load stuff.\n",
      "/usr/local/lib/python3.5/dist-packages/ipykernel_launcher.py:10: SettingWithCopyWarning: \n",
      "A value is trying to be set on a copy of a slice from a DataFrame.\n",
      "Try using .loc[row_indexer,col_indexer] = value instead\n",
      "\n",
      "See the caveats in the documentation: http://pandas.pydata.org/pandas-docs/stable/indexing.html#indexing-view-versus-copy\n",
      "  # Remove the CWD from sys.path while we load stuff.\n"
     ]
    }
   ],
   "source": [
    "import pandas as pd\n",
    "import subprocess\n",
    "\n",
    "## LOAD VERSIONS\n",
    "versions=pd.read_csv('../../jsep2018/versions_npm_march.csv', sep=';', dtype=object, index_col=None,  error_bad_lines=False)\n",
    "for x in versions:\n",
    "    versions[x]=versions[x].apply(str)\n",
    "versions=versions.sort_values(['package','date','version'],ascending=True)\n",
    "\n",
    "## LOAD DEPENDENCIES\n",
    "dependencies=pd.read_csv('../../jsep2018/dependencies_npm_march.csv', sep=';', dtype=object, index_col=None,  error_bad_lines=False)\n",
    "for x in dependencies:\n",
    "    dependencies[x]=dependencies[x].apply(str)\n",
    "\n",
    "def semver(constraint, versions):\n",
    "    \"\"\"\n",
    "    Return the versions in ``versions'' that satisfy given constraint.\n",
    "    Semantic is provided by the semver tool of nodejs.\n",
    "    \"\"\"\n",
    "    args = ['semver', '-r', constraint] + list(versions)\n",
    "    \n",
    "    completed = subprocess.run(args, stdout=subprocess.PIPE)\n",
    "    if completed.returncode == 0:\n",
    "        return completed.stdout.decode().strip().split('\\n')\n",
    "    else:\n",
    "        return []\n",
    "    \n",
    "def rigt_version(dependency,date,constraint):\n",
    "    try:\n",
    "        tmp=versions.query('package==\"'+dependency+'\"')\n",
    "        last_today=tmp.version.values[-1]\n",
    "\n",
    "        tmp=tmp.query('date<=\"'+date+'\"')\n",
    "        last=tmp.version.values[-1]\n",
    "\n",
    "        return semver(constraint,tmp.version.values)[-1]+'|'+last+'|'+last_today\n",
    "    except:\n",
    "        return 'undefined'\n",
    "    \n",
    "\n",
    "def main():\n",
    "    print('start')\n",
    "    for i in range(0,52842):\n",
    "        tmp=dependencies.iloc[i:i+10]\n",
    "        tmp[\"right_version\"]=tmp.apply(lambda d: rigt_version(d['dependency'],\n",
    "                                             d['date'],\n",
    "                                             d['constraint']),\n",
    "                                                         axis=1)\n",
    "        tmp.to_csv('../../../remove/remove_now_'+str(i), sep=';', index=False)\n",
    "        if i == 3:\n",
    "            break\n",
    "    \n",
    "main()\n",
    "    \n",
    "    "
   ]
  },
  {
   "cell_type": "code",
   "execution_count": 48,
   "metadata": {},
   "outputs": [
    {
     "data": {
      "text/plain": [
       "281352"
      ]
     },
     "execution_count": 48,
     "metadata": {},
     "output_type": "execute_result"
    }
   ],
   "source": [
    "len(dependencies.dependency.drop_duplicates())"
   ]
  },
  {
   "cell_type": "code",
   "execution_count": 51,
   "metadata": {},
   "outputs": [
    {
     "name": "stdout",
     "output_type": "stream",
     "text": [
      "tap\n"
     ]
    }
   ],
   "source": [
    "for index, row in enumerate(dependencies.iterrows()):\n",
    "    print(row[1]['dependency'])\n",
    "    break"
   ]
  },
  {
   "cell_type": "code",
   "execution_count": 52,
   "metadata": {},
   "outputs": [],
   "source": [
    "tmp=dependencies.iloc[0:1] "
   ]
  },
  {
   "cell_type": "code",
   "execution_count": 56,
   "metadata": {},
   "outputs": [
    {
     "data": {
      "text/plain": [
       "'0.0.1'"
      ]
     },
     "execution_count": 56,
     "metadata": {},
     "output_type": "execute_result"
    }
   ],
   "source": [
    "tmp.version.values[0]"
   ]
  },
  {
   "cell_type": "code",
   "execution_count": 57,
   "metadata": {},
   "outputs": [
    {
     "data": {
      "text/plain": [
       "14182892"
      ]
     },
     "execution_count": 57,
     "metadata": {},
     "output_type": "execute_result"
    }
   ],
   "source": [
    "len(dependencies[['dependency','date','constraint']].drop_duplicates())"
   ]
  },
  {
   "cell_type": "code",
   "execution_count": 58,
   "metadata": {},
   "outputs": [
    {
     "data": {
      "text/html": [
       "<div>\n",
       "<style scoped>\n",
       "    .dataframe tbody tr th:only-of-type {\n",
       "        vertical-align: middle;\n",
       "    }\n",
       "\n",
       "    .dataframe tbody tr th {\n",
       "        vertical-align: top;\n",
       "    }\n",
       "\n",
       "    .dataframe thead th {\n",
       "        text-align: right;\n",
       "    }\n",
       "</style>\n",
       "<table border=\"1\" class=\"dataframe\">\n",
       "  <thead>\n",
       "    <tr style=\"text-align: right;\">\n",
       "      <th></th>\n",
       "      <th>package</th>\n",
       "      <th>version</th>\n",
       "      <th>dependency</th>\n",
       "      <th>kind</th>\n",
       "      <th>constraint</th>\n",
       "      <th>date</th>\n",
       "      <th>release_type</th>\n",
       "    </tr>\n",
       "  </thead>\n",
       "  <tbody>\n",
       "    <tr>\n",
       "      <th>0</th>\n",
       "      <td>0-</td>\n",
       "      <td>0.0.1</td>\n",
       "      <td>tap</td>\n",
       "      <td>Development</td>\n",
       "      <td>^6.3.2</td>\n",
       "      <td>2017-03-06</td>\n",
       "      <td>initial</td>\n",
       "    </tr>\n",
       "    <tr>\n",
       "      <th>1</th>\n",
       "      <td>0-0</td>\n",
       "      <td>1.0.2</td>\n",
       "      <td>gulp</td>\n",
       "      <td>runtime</td>\n",
       "      <td>*</td>\n",
       "      <td>2016-12-04</td>\n",
       "      <td>initial</td>\n",
       "    </tr>\n",
       "    <tr>\n",
       "      <th>2</th>\n",
       "      <td>0-9</td>\n",
       "      <td>0.0.1</td>\n",
       "      <td>tap</td>\n",
       "      <td>Development</td>\n",
       "      <td>^6.3.2</td>\n",
       "      <td>2017-03-06</td>\n",
       "      <td>initial</td>\n",
       "    </tr>\n",
       "    <tr>\n",
       "      <th>3</th>\n",
       "      <td>0.</td>\n",
       "      <td>1.0.0</td>\n",
       "      <td>request</td>\n",
       "      <td>runtime</td>\n",
       "      <td>^2.79.0</td>\n",
       "      <td>2017-02-07</td>\n",
       "      <td>initial</td>\n",
       "    </tr>\n",
       "    <tr>\n",
       "      <th>4</th>\n",
       "      <td>0.0.0-development</td>\n",
       "      <td>1.0.0</td>\n",
       "      <td>eslint-loader</td>\n",
       "      <td>runtime</td>\n",
       "      <td>^1.7.1</td>\n",
       "      <td>2017-11-25</td>\n",
       "      <td>initial</td>\n",
       "    </tr>\n",
       "  </tbody>\n",
       "</table>\n",
       "</div>"
      ],
      "text/plain": [
       "             package version     dependency         kind constraint  \\\n",
       "0                 0-   0.0.1            tap  Development     ^6.3.2   \n",
       "1                0-0   1.0.2           gulp      runtime          *   \n",
       "2                0-9   0.0.1            tap  Development     ^6.3.2   \n",
       "3                 0.   1.0.0        request      runtime    ^2.79.0   \n",
       "4  0.0.0-development   1.0.0  eslint-loader      runtime     ^1.7.1   \n",
       "\n",
       "         date release_type  \n",
       "0  2017-03-06      initial  \n",
       "1  2016-12-04      initial  \n",
       "2  2017-03-06      initial  \n",
       "3  2017-02-07      initial  \n",
       "4  2017-11-25      initial  "
      ]
     },
     "execution_count": 58,
     "metadata": {},
     "output_type": "execute_result"
    }
   ],
   "source": [
    "dependencies[['dependency','date','constraint']].drop_duplicates()"
   ]
  },
  {
   "cell_type": "code",
   "execution_count": 59,
   "metadata": {},
   "outputs": [],
   "source": [
    "deps=dependencies[['dependency','date','constraint']].drop_duplicates()"
   ]
  },
  {
   "cell_type": "code",
   "execution_count": 60,
   "metadata": {},
   "outputs": [],
   "source": [
    "deps.to_csv('../../jsep2018/dependencies_unique_npm_march.csv', sep=\";\", index=False)"
   ]
  },
  {
   "cell_type": "code",
   "execution_count": null,
   "metadata": {},
   "outputs": [],
   "source": []
  }
 ],
 "metadata": {
  "kernelspec": {
   "display_name": "Python 3",
   "language": "python",
   "name": "python3"
  },
  "language_info": {
   "codemirror_mode": {
    "name": "ipython",
    "version": 3
   },
   "file_extension": ".py",
   "mimetype": "text/x-python",
   "name": "python",
   "nbconvert_exporter": "python",
   "pygments_lexer": "ipython3",
   "version": "3.5.1+"
  }
 },
 "nbformat": 4,
 "nbformat_minor": 2
}
