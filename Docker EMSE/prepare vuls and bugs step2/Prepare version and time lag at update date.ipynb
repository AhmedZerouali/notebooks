{
 "cells": [
  {
   "cell_type": "code",
   "execution_count": 1,
   "metadata": {},
   "outputs": [],
   "source": [
    "%matplotlib inline\n",
    "import seaborn as sns; \n",
    "import pandas as pd\n",
    "import matplotlib.pyplot as plt\n",
    "from matplotlib import style\n",
    "from matplotlib import gridspec\n",
    "import scipy\n",
    "style.use('ggplot')\n",
    "import datetime\n",
    "from io import StringIO\n",
    "import re\n",
    "import os\n",
    "import numpy as np\n",
    "from datetime import datetime\n",
    "import apt_pkg\n",
    "apt_pkg.init_system()"
   ]
  },
  {
   "cell_type": "markdown",
   "metadata": {},
   "source": [
    "# Load installed packages"
   ]
  },
  {
   "cell_type": "code",
   "execution_count": 3,
   "metadata": {},
   "outputs": [
    {
     "name": "stderr",
     "output_type": "stream",
     "text": [
      "/usr/local/lib/python3.6/dist-packages/IPython/core/interactiveshell.py:3020: DtypeWarning: Columns (1) have mixed types. Specify dtype option on import or set low_memory=False.\n",
      "  interactivity=interactivity, compiler=compiler, result=result)\n"
     ]
    }
   ],
   "source": [
    "packages = pd.read_csv('../../../docker_emse/csv/for_analysis/installed_packages.csv',\n",
    "                      usecols=['package','version','archive','last_updated','date'])"
   ]
  },
  {
   "cell_type": "code",
   "execution_count": 4,
   "metadata": {},
   "outputs": [],
   "source": [
    "packages.drop_duplicates(inplace=True)"
   ]
  },
  {
   "cell_type": "code",
   "execution_count": 5,
   "metadata": {},
   "outputs": [
    {
     "data": {
      "text/plain": [
       "(2303862, 5)"
      ]
     },
     "execution_count": 5,
     "metadata": {},
     "output_type": "execute_result"
    }
   ],
   "source": [
    "packages.shape"
   ]
  },
  {
   "cell_type": "code",
   "execution_count": 6,
   "metadata": {},
   "outputs": [
    {
     "data": {
      "text/plain": [
       "(2257988, 3)"
      ]
     },
     "execution_count": 6,
     "metadata": {},
     "output_type": "execute_result"
    }
   ],
   "source": [
    "packages[['package','version','last_updated']].drop_duplicates().shape"
   ]
  },
  {
   "cell_type": "code",
   "execution_count": 6,
   "metadata": {},
   "outputs": [],
   "source": [
    "for col in packages.columns:\n",
    "    packages[col] = packages[col].apply(str)"
   ]
  },
  {
   "cell_type": "code",
   "execution_count": 7,
   "metadata": {},
   "outputs": [
    {
     "data": {
      "text/html": [
       "<div>\n",
       "<style scoped>\n",
       "    .dataframe tbody tr th:only-of-type {\n",
       "        vertical-align: middle;\n",
       "    }\n",
       "\n",
       "    .dataframe tbody tr th {\n",
       "        vertical-align: top;\n",
       "    }\n",
       "\n",
       "    .dataframe thead th {\n",
       "        text-align: right;\n",
       "    }\n",
       "</style>\n",
       "<table border=\"1\" class=\"dataframe\">\n",
       "  <thead>\n",
       "    <tr style=\"text-align: right;\">\n",
       "      <th></th>\n",
       "      <th>package</th>\n",
       "      <th>version</th>\n",
       "      <th>last_updated</th>\n",
       "      <th>archive</th>\n",
       "      <th>date</th>\n",
       "    </tr>\n",
       "  </thead>\n",
       "  <tbody>\n",
       "    <tr>\n",
       "      <td>0</td>\n",
       "      <td>0ad</td>\n",
       "      <td>0.0.21-2</td>\n",
       "      <td>2018-12-10</td>\n",
       "      <td>stretch</td>\n",
       "      <td>2016-11-19</td>\n",
       "    </tr>\n",
       "    <tr>\n",
       "      <td>1</td>\n",
       "      <td>0ad-data</td>\n",
       "      <td>0.0.21-1</td>\n",
       "      <td>2018-12-10</td>\n",
       "      <td>stretch</td>\n",
       "      <td>2016-11-19</td>\n",
       "    </tr>\n",
       "  </tbody>\n",
       "</table>\n",
       "</div>"
      ],
      "text/plain": [
       "    package   version last_updated  archive        date\n",
       "0       0ad  0.0.21-2   2018-12-10  stretch  2016-11-19\n",
       "1  0ad-data  0.0.21-1   2018-12-10  stretch  2016-11-19"
      ]
     },
     "execution_count": 7,
     "metadata": {},
     "output_type": "execute_result"
    }
   ],
   "source": [
    "packages.head(2)"
   ]
  },
  {
   "cell_type": "markdown",
   "metadata": {},
   "source": [
    "# Load debian packages"
   ]
  },
  {
   "cell_type": "code",
   "execution_count": 6,
   "metadata": {},
   "outputs": [
    {
     "data": {
      "text/plain": [
       "(954495, 4)"
      ]
     },
     "execution_count": 6,
     "metadata": {},
     "output_type": "execute_result"
    }
   ],
   "source": [
    "debian_packages = pd.read_csv('../../../docker_emse/csv/prepared_data/debian_packages_20190905.csv',\n",
    "                             usecols=['package','version','archive','date'])\n",
    "debian_packages.drop_duplicates(inplace=True)\n",
    "debian_packages.shape"
   ]
  },
  {
   "cell_type": "code",
   "execution_count": 7,
   "metadata": {},
   "outputs": [],
   "source": [
    "for col in debian_packages.columns:\n",
    "    debian_packages[col] = debian_packages[col].apply(str)"
   ]
  },
  {
   "cell_type": "code",
   "execution_count": 10,
   "metadata": {},
   "outputs": [],
   "source": [
    "debian_packages.rename(columns={'version':'version_c','date':'date_c'}, inplace=True)"
   ]
  },
  {
   "cell_type": "code",
   "execution_count": 12,
   "metadata": {},
   "outputs": [
    {
     "data": {
      "text/html": [
       "<div>\n",
       "<style scoped>\n",
       "    .dataframe tbody tr th:only-of-type {\n",
       "        vertical-align: middle;\n",
       "    }\n",
       "\n",
       "    .dataframe tbody tr th {\n",
       "        vertical-align: top;\n",
       "    }\n",
       "\n",
       "    .dataframe thead th {\n",
       "        text-align: right;\n",
       "    }\n",
       "</style>\n",
       "<table border=\"1\" class=\"dataframe\">\n",
       "  <thead>\n",
       "    <tr style=\"text-align: right;\">\n",
       "      <th></th>\n",
       "      <th>package</th>\n",
       "      <th>version_c</th>\n",
       "      <th>archive</th>\n",
       "      <th>date_c</th>\n",
       "    </tr>\n",
       "  </thead>\n",
       "  <tbody>\n",
       "    <tr>\n",
       "      <td>954493</td>\n",
       "      <td>zzuf</td>\n",
       "      <td>0.15-1+b1</td>\n",
       "      <td>buster</td>\n",
       "      <td>2017-06-19</td>\n",
       "    </tr>\n",
       "    <tr>\n",
       "      <td>954494</td>\n",
       "      <td>zzuf</td>\n",
       "      <td>0.15-1+b1</td>\n",
       "      <td>stretch</td>\n",
       "      <td>2017-03-06</td>\n",
       "    </tr>\n",
       "  </tbody>\n",
       "</table>\n",
       "</div>"
      ],
      "text/plain": [
       "       package  version_c  archive      date_c\n",
       "954493    zzuf  0.15-1+b1   buster  2017-06-19\n",
       "954494    zzuf  0.15-1+b1  stretch  2017-03-06"
      ]
     },
     "execution_count": 12,
     "metadata": {},
     "output_type": "execute_result"
    }
   ],
   "source": [
    "debian_packages.tail(2)"
   ]
  },
  {
   "cell_type": "code",
   "execution_count": 11,
   "metadata": {},
   "outputs": [
    {
     "data": {
      "text/plain": [
       "(26614399, 7)"
      ]
     },
     "execution_count": 11,
     "metadata": {},
     "output_type": "execute_result"
    }
   ],
   "source": [
    "packages = (packages\n",
    "            .merge(debian_packages,\n",
    "                   on = ['package','archive'],\n",
    "                   how = 'left'\n",
    "                  )\n",
    "           )\n",
    "packages.shape"
   ]
  },
  {
   "cell_type": "code",
   "execution_count": 12,
   "metadata": {},
   "outputs": [
    {
     "data": {
      "text/plain": [
       "(24367357, 7)"
      ]
     },
     "execution_count": 12,
     "metadata": {},
     "output_type": "execute_result"
    }
   ],
   "source": [
    "# Remove package version that were created after the containers inspection\n",
    "packages = packages.query('last_updated>=date_c').copy()\n",
    "packages.shape"
   ]
  },
  {
   "cell_type": "code",
   "execution_count": 16,
   "metadata": {},
   "outputs": [
    {
     "data": {
      "text/html": [
       "<div>\n",
       "<style scoped>\n",
       "    .dataframe tbody tr th:only-of-type {\n",
       "        vertical-align: middle;\n",
       "    }\n",
       "\n",
       "    .dataframe tbody tr th {\n",
       "        vertical-align: top;\n",
       "    }\n",
       "\n",
       "    .dataframe thead th {\n",
       "        text-align: right;\n",
       "    }\n",
       "</style>\n",
       "<table border=\"1\" class=\"dataframe\">\n",
       "  <thead>\n",
       "    <tr style=\"text-align: right;\">\n",
       "      <th></th>\n",
       "      <th>package</th>\n",
       "      <th>version</th>\n",
       "      <th>last_updated</th>\n",
       "      <th>archive</th>\n",
       "      <th>date</th>\n",
       "      <th>version_c</th>\n",
       "      <th>date_c</th>\n",
       "    </tr>\n",
       "  </thead>\n",
       "  <tbody>\n",
       "    <tr>\n",
       "      <td>0</td>\n",
       "      <td>0ad</td>\n",
       "      <td>0.0.21-2</td>\n",
       "      <td>2018-12-10</td>\n",
       "      <td>stretch</td>\n",
       "      <td>2016-11-19</td>\n",
       "      <td>0.0.17-1</td>\n",
       "      <td>2015-04-26</td>\n",
       "    </tr>\n",
       "    <tr>\n",
       "      <td>1</td>\n",
       "      <td>0ad</td>\n",
       "      <td>0.0.21-2</td>\n",
       "      <td>2018-12-10</td>\n",
       "      <td>stretch</td>\n",
       "      <td>2016-11-19</td>\n",
       "      <td>0.0.18-1</td>\n",
       "      <td>2015-04-27</td>\n",
       "    </tr>\n",
       "  </tbody>\n",
       "</table>\n",
       "</div>"
      ],
      "text/plain": [
       "  package   version last_updated  archive        date version_c      date_c\n",
       "0     0ad  0.0.21-2   2018-12-10  stretch  2016-11-19  0.0.17-1  2015-04-26\n",
       "1     0ad  0.0.21-2   2018-12-10  stretch  2016-11-19  0.0.18-1  2015-04-27"
      ]
     },
     "execution_count": 16,
     "metadata": {},
     "output_type": "execute_result"
    }
   ],
   "source": [
    "packages.head(2)"
   ]
  },
  {
   "cell_type": "markdown",
   "metadata": {},
   "source": [
    "# Time lag ~ latest available release"
   ]
  },
  {
   "cell_type": "code",
   "execution_count": 14,
   "metadata": {},
   "outputs": [
    {
     "data": {
      "text/plain": [
       "(3038690, 7)"
      ]
     },
     "execution_count": 14,
     "metadata": {},
     "output_type": "execute_result"
    }
   ],
   "source": [
    "time_lag = packages.query('date_c >= date')\n",
    "time_lag.shape"
   ]
  },
  {
   "cell_type": "code",
   "execution_count": 15,
   "metadata": {},
   "outputs": [
    {
     "data": {
      "text/plain": [
       "(2262749, 7)"
      ]
     },
     "execution_count": 15,
     "metadata": {},
     "output_type": "execute_result"
    }
   ],
   "source": [
    "time_lag = (time_lag\n",
    "            .sort_values('date_c', ascending=False)\n",
    "            .groupby(['package','version','archive','last_updated'])\n",
    "            .first()\n",
    "            .reset_index()\n",
    "           )\n",
    "time_lag.shape"
   ]
  },
  {
   "cell_type": "code",
   "execution_count": 16,
   "metadata": {},
   "outputs": [],
   "source": [
    "time_lag['date'] = pd.to_datetime(time_lag['date'])\n",
    "time_lag['date_c'] = pd.to_datetime(time_lag['date_c'])"
   ]
  },
  {
   "cell_type": "code",
   "execution_count": 17,
   "metadata": {},
   "outputs": [],
   "source": [
    "time_lag['tlag']=time_lag.apply(lambda d: (d['date_c'] - d['date']).days, axis=1)"
   ]
  },
  {
   "cell_type": "code",
   "execution_count": 19,
   "metadata": {},
   "outputs": [],
   "source": [
    "time_lag.rename(columns={'version_c':'ideal'}, inplace=True)"
   ]
  },
  {
   "cell_type": "code",
   "execution_count": 20,
   "metadata": {},
   "outputs": [],
   "source": [
    "time_lag = time_lag[['package','version','archive','last_updated','ideal','tlag']]"
   ]
  },
  {
   "cell_type": "code",
   "execution_count": 21,
   "metadata": {},
   "outputs": [],
   "source": [
    "time_lag.to_csv('../../../docker_emse/csv/for_analysis/tlag_ideal.csv', index=False)"
   ]
  },
  {
   "cell_type": "code",
   "execution_count": 22,
   "metadata": {},
   "outputs": [
    {
     "name": "stderr",
     "output_type": "stream",
     "text": [
      "/usr/local/lib/python3.6/dist-packages/ipykernel_launcher.py:1: SettingWithCopyWarning: \n",
      "A value is trying to be set on a copy of a slice from a DataFrame.\n",
      "Try using .loc[row_indexer,col_indexer] = value instead\n",
      "\n",
      "See the caveats in the documentation: http://pandas.pydata.org/pandas-docs/stable/user_guide/indexing.html#returning-a-view-versus-a-copy\n",
      "  \"\"\"Entry point for launching an IPython kernel.\n"
     ]
    }
   ],
   "source": [
    "time_lag['compare'] = time_lag.apply(lambda d: compare(d['version'], d['ideal']), axis=1)"
   ]
  },
  {
   "cell_type": "markdown",
   "metadata": {},
   "source": [
    "# Version lag ~ highest available version"
   ]
  },
  {
   "cell_type": "code",
   "execution_count": null,
   "metadata": {},
   "outputs": [],
   "source": [
    "def compare(version,compare_to):\n",
    "    return apt_pkg.version_compare(str(version), str(compare_to))\n",
    "    # 1 if version > compare_to\n",
    "        \n",
    "packages['compare'] = packages.apply(lambda d: compare(d['version'], d['version_c']), axis=1)\n",
    "packages.shape"
   ]
  },
  {
   "cell_type": "code",
   "execution_count": 26,
   "metadata": {},
   "outputs": [
    {
     "data": {
      "text/plain": [
       "array([   1,    0,    2,    3,    8,    4,    5,   -1,   -2,   -3,   -4,\n",
       "          6,   -5,    7,  303,  -16,   16, -303,  -17,   17,   -6,   -7,\n",
       "         -8,  300,    9,   82,  201,   98,  -98,  184,   11,   -9,  188,\n",
       "        199,  103,  104,  220, -114, -300,  114,  -14,   15,   14,   13,\n",
       "         12,   10,   21,   97,  200])"
      ]
     },
     "execution_count": 26,
     "metadata": {},
     "output_type": "execute_result"
    }
   ],
   "source": [
    "packages.compare.unique()"
   ]
  },
  {
   "cell_type": "code",
   "execution_count": 27,
   "metadata": {},
   "outputs": [
    {
     "data": {
      "text/plain": [
       "(783735, 8)"
      ]
     },
     "execution_count": 27,
     "metadata": {},
     "output_type": "execute_result"
    }
   ],
   "source": [
    "version_lag = packages.query('compare < 0')\n",
    "version_lag.shape"
   ]
  },
  {
   "cell_type": "code",
   "execution_count": 28,
   "metadata": {},
   "outputs": [
    {
     "data": {
      "text/plain": [
       "(374725, 5)"
      ]
     },
     "execution_count": 28,
     "metadata": {},
     "output_type": "execute_result"
    }
   ],
   "source": [
    "version_lag = (version_lag[['package','version','archive','last_updated','compare']]\n",
    "               .groupby(['package','version','archive','last_updated'])\n",
    "               .count()\n",
    "               .reset_index()\n",
    "               .rename(columns = {'compare':'vlag'})\n",
    "              )\n",
    "version_lag.shape"
   ]
  },
  {
   "cell_type": "code",
   "execution_count": 29,
   "metadata": {},
   "outputs": [],
   "source": [
    "version_lag.to_csv('../../../docker_emse/csv/for_analysis/vlag.csv', index=False)"
   ]
  },
  {
   "cell_type": "markdown",
   "metadata": {},
   "source": [
    "# Merge between vlag and tlag"
   ]
  },
  {
   "cell_type": "code",
   "execution_count": 27,
   "metadata": {},
   "outputs": [
    {
     "data": {
      "text/plain": [
       "(374725, 5)"
      ]
     },
     "execution_count": 27,
     "metadata": {},
     "output_type": "execute_result"
    }
   ],
   "source": [
    "version_lag = pd.read_csv('../../../docker_emse/csv/for_analysis/vlag.csv')\n",
    "version_lag.shape"
   ]
  },
  {
   "cell_type": "code",
   "execution_count": 28,
   "metadata": {},
   "outputs": [
    {
     "data": {
      "text/html": [
       "<div>\n",
       "<style scoped>\n",
       "    .dataframe tbody tr th:only-of-type {\n",
       "        vertical-align: middle;\n",
       "    }\n",
       "\n",
       "    .dataframe tbody tr th {\n",
       "        vertical-align: top;\n",
       "    }\n",
       "\n",
       "    .dataframe thead th {\n",
       "        text-align: right;\n",
       "    }\n",
       "</style>\n",
       "<table border=\"1\" class=\"dataframe\">\n",
       "  <thead>\n",
       "    <tr style=\"text-align: right;\">\n",
       "      <th></th>\n",
       "      <th>package</th>\n",
       "      <th>version</th>\n",
       "      <th>archive</th>\n",
       "      <th>last_updated</th>\n",
       "      <th>vlag</th>\n",
       "    </tr>\n",
       "  </thead>\n",
       "  <tbody>\n",
       "    <tr>\n",
       "      <td>0</td>\n",
       "      <td>adduser</td>\n",
       "      <td>3.115</td>\n",
       "      <td>buster</td>\n",
       "      <td>2017-08-29</td>\n",
       "      <td>1</td>\n",
       "    </tr>\n",
       "    <tr>\n",
       "      <td>1</td>\n",
       "      <td>adduser</td>\n",
       "      <td>3.115</td>\n",
       "      <td>buster</td>\n",
       "      <td>2017-09-11</td>\n",
       "      <td>1</td>\n",
       "    </tr>\n",
       "  </tbody>\n",
       "</table>\n",
       "</div>"
      ],
      "text/plain": [
       "   package version archive last_updated  vlag\n",
       "0  adduser   3.115  buster   2017-08-29     1\n",
       "1  adduser   3.115  buster   2017-09-11     1"
      ]
     },
     "execution_count": 28,
     "metadata": {},
     "output_type": "execute_result"
    }
   ],
   "source": [
    "version_lag.head(2)"
   ]
  },
  {
   "cell_type": "code",
   "execution_count": 32,
   "metadata": {},
   "outputs": [
    {
     "data": {
      "text/plain": [
       "(2262749, 6)"
      ]
     },
     "execution_count": 32,
     "metadata": {},
     "output_type": "execute_result"
    }
   ],
   "source": [
    "time_lag.shape"
   ]
  },
  {
   "cell_type": "code",
   "execution_count": 33,
   "metadata": {},
   "outputs": [
    {
     "data": {
      "text/plain": [
       "(2262749, 7)"
      ]
     },
     "execution_count": 33,
     "metadata": {},
     "output_type": "execute_result"
    }
   ],
   "source": [
    "time_lag = (time_lag\n",
    "            .merge(version_lag,\n",
    "                  on =['package','version','archive','last_updated'],\n",
    "                   how = 'left'\n",
    "                  )\n",
    "           )\n",
    "time_lag.fillna(0, inplace=True)\n",
    "time_lag.shape"
   ]
  },
  {
   "cell_type": "code",
   "execution_count": 39,
   "metadata": {},
   "outputs": [],
   "source": [
    "time_lag = time_lag.query('vlag==tlag or vlag != 0')"
   ]
  },
  {
   "cell_type": "code",
   "execution_count": 40,
   "metadata": {},
   "outputs": [],
   "source": [
    "time_lag.to_csv('../../../docker_emse/csv/for_analysis/tv_lag_ideal.csv', index=False)"
   ]
  },
  {
   "cell_type": "code",
   "execution_count": 2,
   "metadata": {},
   "outputs": [],
   "source": [
    "lag = pd.read_csv('../../../docker_emse/csv/for_analysis/tv_lag_ideal.csv')"
   ]
  },
  {
   "cell_type": "code",
   "execution_count": 24,
   "metadata": {},
   "outputs": [
    {
     "data": {
      "text/html": [
       "<div>\n",
       "<style scoped>\n",
       "    .dataframe tbody tr th:only-of-type {\n",
       "        vertical-align: middle;\n",
       "    }\n",
       "\n",
       "    .dataframe tbody tr th {\n",
       "        vertical-align: top;\n",
       "    }\n",
       "\n",
       "    .dataframe thead th {\n",
       "        text-align: right;\n",
       "    }\n",
       "</style>\n",
       "<table border=\"1\" class=\"dataframe\">\n",
       "  <thead>\n",
       "    <tr style=\"text-align: right;\">\n",
       "      <th></th>\n",
       "      <th>package</th>\n",
       "      <th>version</th>\n",
       "      <th>archive</th>\n",
       "      <th>last_updated</th>\n",
       "      <th>ideal</th>\n",
       "      <th>tlag</th>\n",
       "      <th>vlag</th>\n",
       "    </tr>\n",
       "  </thead>\n",
       "  <tbody>\n",
       "    <tr>\n",
       "      <td>914630</td>\n",
       "      <td>libipc-run-perl</td>\n",
       "      <td>0.92-1</td>\n",
       "      <td>jessie</td>\n",
       "      <td>2018-06-29</td>\n",
       "      <td>0.92-1+deb8u1</td>\n",
       "      <td>1875</td>\n",
       "      <td>1.0</td>\n",
       "    </tr>\n",
       "    <tr>\n",
       "      <td>914629</td>\n",
       "      <td>libipc-run-perl</td>\n",
       "      <td>0.92-1</td>\n",
       "      <td>jessie</td>\n",
       "      <td>2018-06-24</td>\n",
       "      <td>0.92-1+deb8u1</td>\n",
       "      <td>1875</td>\n",
       "      <td>1.0</td>\n",
       "    </tr>\n",
       "    <tr>\n",
       "      <td>1039787</td>\n",
       "      <td>libmad0</td>\n",
       "      <td>0.15.1b-8</td>\n",
       "      <td>jessie</td>\n",
       "      <td>2018-06-12</td>\n",
       "      <td>0.15.1b-8+deb8u1</td>\n",
       "      <td>1800</td>\n",
       "      <td>1.0</td>\n",
       "    </tr>\n",
       "    <tr>\n",
       "      <td>1039786</td>\n",
       "      <td>libmad0</td>\n",
       "      <td>0.15.1b-8</td>\n",
       "      <td>jessie</td>\n",
       "      <td>2018-05-31</td>\n",
       "      <td>0.15.1b-8+deb8u1</td>\n",
       "      <td>1800</td>\n",
       "      <td>1.0</td>\n",
       "    </tr>\n",
       "    <tr>\n",
       "      <td>1039783</td>\n",
       "      <td>libmad0</td>\n",
       "      <td>0.15.1b-8</td>\n",
       "      <td>jessie</td>\n",
       "      <td>2018-05-17</td>\n",
       "      <td>0.15.1b-8+deb8u1</td>\n",
       "      <td>1800</td>\n",
       "      <td>1.0</td>\n",
       "    </tr>\n",
       "    <tr>\n",
       "      <td>1039784</td>\n",
       "      <td>libmad0</td>\n",
       "      <td>0.15.1b-8</td>\n",
       "      <td>jessie</td>\n",
       "      <td>2018-05-29</td>\n",
       "      <td>0.15.1b-8+deb8u1</td>\n",
       "      <td>1800</td>\n",
       "      <td>1.0</td>\n",
       "    </tr>\n",
       "    <tr>\n",
       "      <td>1039785</td>\n",
       "      <td>libmad0</td>\n",
       "      <td>0.15.1b-8</td>\n",
       "      <td>jessie</td>\n",
       "      <td>2018-05-30</td>\n",
       "      <td>0.15.1b-8+deb8u1</td>\n",
       "      <td>1800</td>\n",
       "      <td>1.0</td>\n",
       "    </tr>\n",
       "    <tr>\n",
       "      <td>1872038</td>\n",
       "      <td>ncurses-term</td>\n",
       "      <td>5.9-10</td>\n",
       "      <td>jessie</td>\n",
       "      <td>2018-05-16</td>\n",
       "      <td>5.9+20140913-1+deb8u2</td>\n",
       "      <td>1679</td>\n",
       "      <td>6.0</td>\n",
       "    </tr>\n",
       "    <tr>\n",
       "      <td>2116595</td>\n",
       "      <td>sensible-utils</td>\n",
       "      <td>0.0.9</td>\n",
       "      <td>jessie</td>\n",
       "      <td>2018-06-07</td>\n",
       "      <td>0.0.9+deb8u1</td>\n",
       "      <td>1649</td>\n",
       "      <td>1.0</td>\n",
       "    </tr>\n",
       "    <tr>\n",
       "      <td>2116594</td>\n",
       "      <td>sensible-utils</td>\n",
       "      <td>0.0.9</td>\n",
       "      <td>jessie</td>\n",
       "      <td>2018-06-06</td>\n",
       "      <td>0.0.9+deb8u1</td>\n",
       "      <td>1649</td>\n",
       "      <td>1.0</td>\n",
       "    </tr>\n",
       "    <tr>\n",
       "      <td>2116593</td>\n",
       "      <td>sensible-utils</td>\n",
       "      <td>0.0.9</td>\n",
       "      <td>jessie</td>\n",
       "      <td>2018-06-05</td>\n",
       "      <td>0.0.9+deb8u1</td>\n",
       "      <td>1649</td>\n",
       "      <td>1.0</td>\n",
       "    </tr>\n",
       "    <tr>\n",
       "      <td>2116592</td>\n",
       "      <td>sensible-utils</td>\n",
       "      <td>0.0.9</td>\n",
       "      <td>jessie</td>\n",
       "      <td>2018-06-04</td>\n",
       "      <td>0.0.9+deb8u1</td>\n",
       "      <td>1649</td>\n",
       "      <td>1.0</td>\n",
       "    </tr>\n",
       "    <tr>\n",
       "      <td>2116590</td>\n",
       "      <td>sensible-utils</td>\n",
       "      <td>0.0.9</td>\n",
       "      <td>jessie</td>\n",
       "      <td>2018-06-02</td>\n",
       "      <td>0.0.9+deb8u1</td>\n",
       "      <td>1649</td>\n",
       "      <td>1.0</td>\n",
       "    </tr>\n",
       "    <tr>\n",
       "      <td>2116589</td>\n",
       "      <td>sensible-utils</td>\n",
       "      <td>0.0.9</td>\n",
       "      <td>jessie</td>\n",
       "      <td>2018-06-01</td>\n",
       "      <td>0.0.9+deb8u1</td>\n",
       "      <td>1649</td>\n",
       "      <td>1.0</td>\n",
       "    </tr>\n",
       "    <tr>\n",
       "      <td>2116591</td>\n",
       "      <td>sensible-utils</td>\n",
       "      <td>0.0.9</td>\n",
       "      <td>jessie</td>\n",
       "      <td>2018-06-03</td>\n",
       "      <td>0.0.9+deb8u1</td>\n",
       "      <td>1649</td>\n",
       "      <td>1.0</td>\n",
       "    </tr>\n",
       "    <tr>\n",
       "      <td>2116597</td>\n",
       "      <td>sensible-utils</td>\n",
       "      <td>0.0.9</td>\n",
       "      <td>jessie</td>\n",
       "      <td>2018-06-09</td>\n",
       "      <td>0.0.9+deb8u1</td>\n",
       "      <td>1649</td>\n",
       "      <td>1.0</td>\n",
       "    </tr>\n",
       "    <tr>\n",
       "      <td>2116588</td>\n",
       "      <td>sensible-utils</td>\n",
       "      <td>0.0.9</td>\n",
       "      <td>jessie</td>\n",
       "      <td>2018-05-31</td>\n",
       "      <td>0.0.9+deb8u1</td>\n",
       "      <td>1649</td>\n",
       "      <td>1.0</td>\n",
       "    </tr>\n",
       "    <tr>\n",
       "      <td>2116587</td>\n",
       "      <td>sensible-utils</td>\n",
       "      <td>0.0.9</td>\n",
       "      <td>jessie</td>\n",
       "      <td>2018-05-30</td>\n",
       "      <td>0.0.9+deb8u1</td>\n",
       "      <td>1649</td>\n",
       "      <td>1.0</td>\n",
       "    </tr>\n",
       "    <tr>\n",
       "      <td>2116586</td>\n",
       "      <td>sensible-utils</td>\n",
       "      <td>0.0.9</td>\n",
       "      <td>jessie</td>\n",
       "      <td>2018-05-29</td>\n",
       "      <td>0.0.9+deb8u1</td>\n",
       "      <td>1649</td>\n",
       "      <td>1.0</td>\n",
       "    </tr>\n",
       "    <tr>\n",
       "      <td>2116585</td>\n",
       "      <td>sensible-utils</td>\n",
       "      <td>0.0.9</td>\n",
       "      <td>jessie</td>\n",
       "      <td>2018-05-28</td>\n",
       "      <td>0.0.9+deb8u1</td>\n",
       "      <td>1649</td>\n",
       "      <td>1.0</td>\n",
       "    </tr>\n",
       "    <tr>\n",
       "      <td>2116584</td>\n",
       "      <td>sensible-utils</td>\n",
       "      <td>0.0.9</td>\n",
       "      <td>jessie</td>\n",
       "      <td>2018-05-27</td>\n",
       "      <td>0.0.9+deb8u1</td>\n",
       "      <td>1649</td>\n",
       "      <td>1.0</td>\n",
       "    </tr>\n",
       "    <tr>\n",
       "      <td>2116583</td>\n",
       "      <td>sensible-utils</td>\n",
       "      <td>0.0.9</td>\n",
       "      <td>jessie</td>\n",
       "      <td>2018-05-26</td>\n",
       "      <td>0.0.9+deb8u1</td>\n",
       "      <td>1649</td>\n",
       "      <td>1.0</td>\n",
       "    </tr>\n",
       "    <tr>\n",
       "      <td>2116582</td>\n",
       "      <td>sensible-utils</td>\n",
       "      <td>0.0.9</td>\n",
       "      <td>jessie</td>\n",
       "      <td>2018-05-25</td>\n",
       "      <td>0.0.9+deb8u1</td>\n",
       "      <td>1649</td>\n",
       "      <td>1.0</td>\n",
       "    </tr>\n",
       "    <tr>\n",
       "      <td>2116581</td>\n",
       "      <td>sensible-utils</td>\n",
       "      <td>0.0.9</td>\n",
       "      <td>jessie</td>\n",
       "      <td>2018-05-24</td>\n",
       "      <td>0.0.9+deb8u1</td>\n",
       "      <td>1649</td>\n",
       "      <td>1.0</td>\n",
       "    </tr>\n",
       "    <tr>\n",
       "      <td>2116580</td>\n",
       "      <td>sensible-utils</td>\n",
       "      <td>0.0.9</td>\n",
       "      <td>jessie</td>\n",
       "      <td>2018-05-23</td>\n",
       "      <td>0.0.9+deb8u1</td>\n",
       "      <td>1649</td>\n",
       "      <td>1.0</td>\n",
       "    </tr>\n",
       "    <tr>\n",
       "      <td>2116578</td>\n",
       "      <td>sensible-utils</td>\n",
       "      <td>0.0.9</td>\n",
       "      <td>jessie</td>\n",
       "      <td>2018-05-21</td>\n",
       "      <td>0.0.9+deb8u1</td>\n",
       "      <td>1649</td>\n",
       "      <td>1.0</td>\n",
       "    </tr>\n",
       "    <tr>\n",
       "      <td>2116577</td>\n",
       "      <td>sensible-utils</td>\n",
       "      <td>0.0.9</td>\n",
       "      <td>jessie</td>\n",
       "      <td>2018-05-20</td>\n",
       "      <td>0.0.9+deb8u1</td>\n",
       "      <td>1649</td>\n",
       "      <td>1.0</td>\n",
       "    </tr>\n",
       "    <tr>\n",
       "      <td>2116596</td>\n",
       "      <td>sensible-utils</td>\n",
       "      <td>0.0.9</td>\n",
       "      <td>jessie</td>\n",
       "      <td>2018-06-08</td>\n",
       "      <td>0.0.9+deb8u1</td>\n",
       "      <td>1649</td>\n",
       "      <td>1.0</td>\n",
       "    </tr>\n",
       "    <tr>\n",
       "      <td>2116601</td>\n",
       "      <td>sensible-utils</td>\n",
       "      <td>0.0.9</td>\n",
       "      <td>jessie</td>\n",
       "      <td>2018-06-13</td>\n",
       "      <td>0.0.9+deb8u1</td>\n",
       "      <td>1649</td>\n",
       "      <td>1.0</td>\n",
       "    </tr>\n",
       "    <tr>\n",
       "      <td>2116598</td>\n",
       "      <td>sensible-utils</td>\n",
       "      <td>0.0.9</td>\n",
       "      <td>jessie</td>\n",
       "      <td>2018-06-10</td>\n",
       "      <td>0.0.9+deb8u1</td>\n",
       "      <td>1649</td>\n",
       "      <td>1.0</td>\n",
       "    </tr>\n",
       "    <tr>\n",
       "      <td>2116599</td>\n",
       "      <td>sensible-utils</td>\n",
       "      <td>0.0.9</td>\n",
       "      <td>jessie</td>\n",
       "      <td>2018-06-11</td>\n",
       "      <td>0.0.9+deb8u1</td>\n",
       "      <td>1649</td>\n",
       "      <td>1.0</td>\n",
       "    </tr>\n",
       "    <tr>\n",
       "      <td>2116618</td>\n",
       "      <td>sensible-utils</td>\n",
       "      <td>0.0.9</td>\n",
       "      <td>jessie</td>\n",
       "      <td>2018-06-30</td>\n",
       "      <td>0.0.9+deb8u1</td>\n",
       "      <td>1649</td>\n",
       "      <td>1.0</td>\n",
       "    </tr>\n",
       "    <tr>\n",
       "      <td>2116617</td>\n",
       "      <td>sensible-utils</td>\n",
       "      <td>0.0.9</td>\n",
       "      <td>jessie</td>\n",
       "      <td>2018-06-29</td>\n",
       "      <td>0.0.9+deb8u1</td>\n",
       "      <td>1649</td>\n",
       "      <td>1.0</td>\n",
       "    </tr>\n",
       "    <tr>\n",
       "      <td>2116616</td>\n",
       "      <td>sensible-utils</td>\n",
       "      <td>0.0.9</td>\n",
       "      <td>jessie</td>\n",
       "      <td>2018-06-28</td>\n",
       "      <td>0.0.9+deb8u1</td>\n",
       "      <td>1649</td>\n",
       "      <td>1.0</td>\n",
       "    </tr>\n",
       "    <tr>\n",
       "      <td>2116615</td>\n",
       "      <td>sensible-utils</td>\n",
       "      <td>0.0.9</td>\n",
       "      <td>jessie</td>\n",
       "      <td>2018-06-27</td>\n",
       "      <td>0.0.9+deb8u1</td>\n",
       "      <td>1649</td>\n",
       "      <td>1.0</td>\n",
       "    </tr>\n",
       "    <tr>\n",
       "      <td>2116614</td>\n",
       "      <td>sensible-utils</td>\n",
       "      <td>0.0.9</td>\n",
       "      <td>jessie</td>\n",
       "      <td>2018-06-26</td>\n",
       "      <td>0.0.9+deb8u1</td>\n",
       "      <td>1649</td>\n",
       "      <td>1.0</td>\n",
       "    </tr>\n",
       "    <tr>\n",
       "      <td>2116613</td>\n",
       "      <td>sensible-utils</td>\n",
       "      <td>0.0.9</td>\n",
       "      <td>jessie</td>\n",
       "      <td>2018-06-25</td>\n",
       "      <td>0.0.9+deb8u1</td>\n",
       "      <td>1649</td>\n",
       "      <td>1.0</td>\n",
       "    </tr>\n",
       "    <tr>\n",
       "      <td>2116612</td>\n",
       "      <td>sensible-utils</td>\n",
       "      <td>0.0.9</td>\n",
       "      <td>jessie</td>\n",
       "      <td>2018-06-24</td>\n",
       "      <td>0.0.9+deb8u1</td>\n",
       "      <td>1649</td>\n",
       "      <td>1.0</td>\n",
       "    </tr>\n",
       "    <tr>\n",
       "      <td>2116611</td>\n",
       "      <td>sensible-utils</td>\n",
       "      <td>0.0.9</td>\n",
       "      <td>jessie</td>\n",
       "      <td>2018-06-23</td>\n",
       "      <td>0.0.9+deb8u1</td>\n",
       "      <td>1649</td>\n",
       "      <td>1.0</td>\n",
       "    </tr>\n",
       "    <tr>\n",
       "      <td>2116610</td>\n",
       "      <td>sensible-utils</td>\n",
       "      <td>0.0.9</td>\n",
       "      <td>jessie</td>\n",
       "      <td>2018-06-22</td>\n",
       "      <td>0.0.9+deb8u1</td>\n",
       "      <td>1649</td>\n",
       "      <td>1.0</td>\n",
       "    </tr>\n",
       "  </tbody>\n",
       "</table>\n",
       "</div>"
      ],
      "text/plain": [
       "                 package    version archive last_updated  \\\n",
       "914630   libipc-run-perl     0.92-1  jessie   2018-06-29   \n",
       "914629   libipc-run-perl     0.92-1  jessie   2018-06-24   \n",
       "1039787          libmad0  0.15.1b-8  jessie   2018-06-12   \n",
       "1039786          libmad0  0.15.1b-8  jessie   2018-05-31   \n",
       "1039783          libmad0  0.15.1b-8  jessie   2018-05-17   \n",
       "1039784          libmad0  0.15.1b-8  jessie   2018-05-29   \n",
       "1039785          libmad0  0.15.1b-8  jessie   2018-05-30   \n",
       "1872038     ncurses-term     5.9-10  jessie   2018-05-16   \n",
       "2116595   sensible-utils      0.0.9  jessie   2018-06-07   \n",
       "2116594   sensible-utils      0.0.9  jessie   2018-06-06   \n",
       "2116593   sensible-utils      0.0.9  jessie   2018-06-05   \n",
       "2116592   sensible-utils      0.0.9  jessie   2018-06-04   \n",
       "2116590   sensible-utils      0.0.9  jessie   2018-06-02   \n",
       "2116589   sensible-utils      0.0.9  jessie   2018-06-01   \n",
       "2116591   sensible-utils      0.0.9  jessie   2018-06-03   \n",
       "2116597   sensible-utils      0.0.9  jessie   2018-06-09   \n",
       "2116588   sensible-utils      0.0.9  jessie   2018-05-31   \n",
       "2116587   sensible-utils      0.0.9  jessie   2018-05-30   \n",
       "2116586   sensible-utils      0.0.9  jessie   2018-05-29   \n",
       "2116585   sensible-utils      0.0.9  jessie   2018-05-28   \n",
       "2116584   sensible-utils      0.0.9  jessie   2018-05-27   \n",
       "2116583   sensible-utils      0.0.9  jessie   2018-05-26   \n",
       "2116582   sensible-utils      0.0.9  jessie   2018-05-25   \n",
       "2116581   sensible-utils      0.0.9  jessie   2018-05-24   \n",
       "2116580   sensible-utils      0.0.9  jessie   2018-05-23   \n",
       "2116578   sensible-utils      0.0.9  jessie   2018-05-21   \n",
       "2116577   sensible-utils      0.0.9  jessie   2018-05-20   \n",
       "2116596   sensible-utils      0.0.9  jessie   2018-06-08   \n",
       "2116601   sensible-utils      0.0.9  jessie   2018-06-13   \n",
       "2116598   sensible-utils      0.0.9  jessie   2018-06-10   \n",
       "2116599   sensible-utils      0.0.9  jessie   2018-06-11   \n",
       "2116618   sensible-utils      0.0.9  jessie   2018-06-30   \n",
       "2116617   sensible-utils      0.0.9  jessie   2018-06-29   \n",
       "2116616   sensible-utils      0.0.9  jessie   2018-06-28   \n",
       "2116615   sensible-utils      0.0.9  jessie   2018-06-27   \n",
       "2116614   sensible-utils      0.0.9  jessie   2018-06-26   \n",
       "2116613   sensible-utils      0.0.9  jessie   2018-06-25   \n",
       "2116612   sensible-utils      0.0.9  jessie   2018-06-24   \n",
       "2116611   sensible-utils      0.0.9  jessie   2018-06-23   \n",
       "2116610   sensible-utils      0.0.9  jessie   2018-06-22   \n",
       "\n",
       "                         ideal  tlag  vlag  \n",
       "914630           0.92-1+deb8u1  1875   1.0  \n",
       "914629           0.92-1+deb8u1  1875   1.0  \n",
       "1039787       0.15.1b-8+deb8u1  1800   1.0  \n",
       "1039786       0.15.1b-8+deb8u1  1800   1.0  \n",
       "1039783       0.15.1b-8+deb8u1  1800   1.0  \n",
       "1039784       0.15.1b-8+deb8u1  1800   1.0  \n",
       "1039785       0.15.1b-8+deb8u1  1800   1.0  \n",
       "1872038  5.9+20140913-1+deb8u2  1679   6.0  \n",
       "2116595           0.0.9+deb8u1  1649   1.0  \n",
       "2116594           0.0.9+deb8u1  1649   1.0  \n",
       "2116593           0.0.9+deb8u1  1649   1.0  \n",
       "2116592           0.0.9+deb8u1  1649   1.0  \n",
       "2116590           0.0.9+deb8u1  1649   1.0  \n",
       "2116589           0.0.9+deb8u1  1649   1.0  \n",
       "2116591           0.0.9+deb8u1  1649   1.0  \n",
       "2116597           0.0.9+deb8u1  1649   1.0  \n",
       "2116588           0.0.9+deb8u1  1649   1.0  \n",
       "2116587           0.0.9+deb8u1  1649   1.0  \n",
       "2116586           0.0.9+deb8u1  1649   1.0  \n",
       "2116585           0.0.9+deb8u1  1649   1.0  \n",
       "2116584           0.0.9+deb8u1  1649   1.0  \n",
       "2116583           0.0.9+deb8u1  1649   1.0  \n",
       "2116582           0.0.9+deb8u1  1649   1.0  \n",
       "2116581           0.0.9+deb8u1  1649   1.0  \n",
       "2116580           0.0.9+deb8u1  1649   1.0  \n",
       "2116578           0.0.9+deb8u1  1649   1.0  \n",
       "2116577           0.0.9+deb8u1  1649   1.0  \n",
       "2116596           0.0.9+deb8u1  1649   1.0  \n",
       "2116601           0.0.9+deb8u1  1649   1.0  \n",
       "2116598           0.0.9+deb8u1  1649   1.0  \n",
       "2116599           0.0.9+deb8u1  1649   1.0  \n",
       "2116618           0.0.9+deb8u1  1649   1.0  \n",
       "2116617           0.0.9+deb8u1  1649   1.0  \n",
       "2116616           0.0.9+deb8u1  1649   1.0  \n",
       "2116615           0.0.9+deb8u1  1649   1.0  \n",
       "2116614           0.0.9+deb8u1  1649   1.0  \n",
       "2116613           0.0.9+deb8u1  1649   1.0  \n",
       "2116612           0.0.9+deb8u1  1649   1.0  \n",
       "2116611           0.0.9+deb8u1  1649   1.0  \n",
       "2116610           0.0.9+deb8u1  1649   1.0  "
      ]
     },
     "execution_count": 24,
     "metadata": {},
     "output_type": "execute_result"
    }
   ],
   "source": [
    "lag.query('last_updated>\"2018-05-01\" and last_updated < \"2018-07-01\"').sort_values('tlag',ascending=False).head(40)"
   ]
  },
  {
   "cell_type": "code",
   "execution_count": 12,
   "metadata": {},
   "outputs": [
    {
     "data": {
      "text/html": [
       "<div>\n",
       "<style scoped>\n",
       "    .dataframe tbody tr th:only-of-type {\n",
       "        vertical-align: middle;\n",
       "    }\n",
       "\n",
       "    .dataframe tbody tr th {\n",
       "        vertical-align: top;\n",
       "    }\n",
       "\n",
       "    .dataframe thead th {\n",
       "        text-align: right;\n",
       "    }\n",
       "</style>\n",
       "<table border=\"1\" class=\"dataframe\">\n",
       "  <thead>\n",
       "    <tr style=\"text-align: right;\">\n",
       "      <th></th>\n",
       "      <th>package</th>\n",
       "      <th>version</th>\n",
       "      <th>archive</th>\n",
       "      <th>date</th>\n",
       "    </tr>\n",
       "  </thead>\n",
       "  <tbody>\n",
       "    <tr>\n",
       "      <td>324330</td>\n",
       "      <td>libdjvulibre-text</td>\n",
       "      <td>3.5.25.4-4</td>\n",
       "      <td>jessie</td>\n",
       "      <td>2014-03-26</td>\n",
       "    </tr>\n",
       "    <tr>\n",
       "      <td>324331</td>\n",
       "      <td>libdjvulibre-text</td>\n",
       "      <td>3.5.25.4-4</td>\n",
       "      <td>stretch</td>\n",
       "      <td>2015-04-27</td>\n",
       "    </tr>\n",
       "  </tbody>\n",
       "</table>\n",
       "</div>"
      ],
      "text/plain": [
       "                  package     version  archive        date\n",
       "324330  libdjvulibre-text  3.5.25.4-4   jessie  2014-03-26\n",
       "324331  libdjvulibre-text  3.5.25.4-4  stretch  2015-04-27"
      ]
     },
     "execution_count": 12,
     "metadata": {},
     "output_type": "execute_result"
    }
   ],
   "source": [
    "debian_packages.query('package == \"libdjvulibre-text\" and version ==\"3.5.25.4-4\"')"
   ]
  },
  {
   "cell_type": "code",
   "execution_count": 13,
   "metadata": {},
   "outputs": [
    {
     "data": {
      "text/html": [
       "<div>\n",
       "<style scoped>\n",
       "    .dataframe tbody tr th:only-of-type {\n",
       "        vertical-align: middle;\n",
       "    }\n",
       "\n",
       "    .dataframe tbody tr th {\n",
       "        vertical-align: top;\n",
       "    }\n",
       "\n",
       "    .dataframe thead th {\n",
       "        text-align: right;\n",
       "    }\n",
       "</style>\n",
       "<table border=\"1\" class=\"dataframe\">\n",
       "  <thead>\n",
       "    <tr style=\"text-align: right;\">\n",
       "      <th></th>\n",
       "      <th>package</th>\n",
       "      <th>version</th>\n",
       "      <th>archive</th>\n",
       "      <th>date</th>\n",
       "    </tr>\n",
       "  </thead>\n",
       "  <tbody>\n",
       "    <tr>\n",
       "      <td>324332</td>\n",
       "      <td>libdjvulibre-text</td>\n",
       "      <td>3.5.25.4-4+deb8u1</td>\n",
       "      <td>jessie</td>\n",
       "      <td>2019-08-30</td>\n",
       "    </tr>\n",
       "  </tbody>\n",
       "</table>\n",
       "</div>"
      ],
      "text/plain": [
       "                  package            version archive        date\n",
       "324332  libdjvulibre-text  3.5.25.4-4+deb8u1  jessie  2019-08-30"
      ]
     },
     "execution_count": 13,
     "metadata": {},
     "output_type": "execute_result"
    }
   ],
   "source": [
    "debian_packages.query('package == \"libdjvulibre-text\" and version ==\"3.5.25.4-4+deb8u1\"')"
   ]
  },
  {
   "cell_type": "code",
   "execution_count": 25,
   "metadata": {},
   "outputs": [
    {
     "data": {
      "text/plain": [
       "(954495, 6)"
      ]
     },
     "execution_count": 25,
     "metadata": {},
     "output_type": "execute_result"
    }
   ],
   "source": [
    "debian_packages = pd.read_csv('../../../docker_emse/csv/prepared_data/debian_packages_20190905.csv')\n",
    "debian_packages.drop_duplicates(inplace=True)\n",
    "debian_packages.shape"
   ]
  },
  {
   "cell_type": "code",
   "execution_count": null,
   "metadata": {},
   "outputs": [],
   "source": []
  }
 ],
 "metadata": {
  "kernelspec": {
   "display_name": "Python 3",
   "language": "python",
   "name": "python3"
  },
  "language_info": {
   "codemirror_mode": {
    "name": "ipython",
    "version": 3
   },
   "file_extension": ".py",
   "mimetype": "text/x-python",
   "name": "python",
   "nbconvert_exporter": "python",
   "pygments_lexer": "ipython3",
   "version": "3.6.8"
  }
 },
 "nbformat": 4,
 "nbformat_minor": 2
}
