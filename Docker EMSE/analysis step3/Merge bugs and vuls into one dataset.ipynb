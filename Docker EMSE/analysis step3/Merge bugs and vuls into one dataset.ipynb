{
 "cells": [
  {
   "cell_type": "code",
   "execution_count": 1,
   "metadata": {},
   "outputs": [],
   "source": [
    "%matplotlib inline\n",
    "import pandas as pd"
   ]
  },
  {
   "cell_type": "markdown",
   "metadata": {},
   "source": [
    "# Load installed source packages"
   ]
  },
  {
   "cell_type": "code",
   "execution_count": 2,
   "metadata": {},
   "outputs": [
    {
     "data": {
      "text/plain": [
       "(1222801, 5)"
      ]
     },
     "execution_count": 2,
     "metadata": {},
     "output_type": "execute_result"
    }
   ],
   "source": [
    "sources = pd.read_csv('../../../docker_emse/csv/for_analysis/sources_ideal.csv', dtype=object)\n",
    "sources.shape"
   ]
  },
  {
   "cell_type": "code",
   "execution_count": 3,
   "metadata": {},
   "outputs": [
    {
     "data": {
      "text/html": [
       "<div>\n",
       "<style scoped>\n",
       "    .dataframe tbody tr th:only-of-type {\n",
       "        vertical-align: middle;\n",
       "    }\n",
       "\n",
       "    .dataframe tbody tr th {\n",
       "        vertical-align: top;\n",
       "    }\n",
       "\n",
       "    .dataframe thead th {\n",
       "        text-align: right;\n",
       "    }\n",
       "</style>\n",
       "<table border=\"1\" class=\"dataframe\">\n",
       "  <thead>\n",
       "    <tr style=\"text-align: right;\">\n",
       "      <th></th>\n",
       "      <th>source</th>\n",
       "      <th>source_version</th>\n",
       "      <th>archive</th>\n",
       "      <th>last_updated</th>\n",
       "      <th>ideal_source</th>\n",
       "    </tr>\n",
       "  </thead>\n",
       "  <tbody>\n",
       "    <tr>\n",
       "      <td>0</td>\n",
       "      <td>0ad</td>\n",
       "      <td>0.0.21-2</td>\n",
       "      <td>stretch</td>\n",
       "      <td>2018-12-10</td>\n",
       "      <td>0.0.21-2</td>\n",
       "    </tr>\n",
       "    <tr>\n",
       "      <td>1</td>\n",
       "      <td>0ad-data</td>\n",
       "      <td>0.0.21-1</td>\n",
       "      <td>stretch</td>\n",
       "      <td>2018-12-10</td>\n",
       "      <td>0.0.21-1</td>\n",
       "    </tr>\n",
       "  </tbody>\n",
       "</table>\n",
       "</div>"
      ],
      "text/plain": [
       "     source source_version  archive last_updated ideal_source\n",
       "0       0ad       0.0.21-2  stretch   2018-12-10     0.0.21-2\n",
       "1  0ad-data       0.0.21-1  stretch   2018-12-10     0.0.21-1"
      ]
     },
     "execution_count": 3,
     "metadata": {},
     "output_type": "execute_result"
    }
   ],
   "source": [
    "sources.head(2)"
   ]
  },
  {
   "cell_type": "code",
   "execution_count": 4,
   "metadata": {},
   "outputs": [
    {
     "data": {
      "text/plain": [
       "1222801"
      ]
     },
     "execution_count": 4,
     "metadata": {},
     "output_type": "execute_result"
    }
   ],
   "source": [
    "len(sources.drop_duplicates())"
   ]
  },
  {
   "cell_type": "markdown",
   "metadata": {},
   "source": [
    "# Load vulnerabilities and clean them"
   ]
  },
  {
   "cell_type": "code",
   "execution_count": 5,
   "metadata": {},
   "outputs": [
    {
     "data": {
      "text/plain": [
       "(63601, 7)"
      ]
     },
     "execution_count": 5,
     "metadata": {},
     "output_type": "execute_result"
    }
   ],
   "source": [
    "vuls = pd.read_csv('../../../docker_emse/csv/for_analysis/vulnerabilities.csv')\n",
    "vuls = vuls.drop('archive', axis=1).drop_duplicates()\n",
    "vuls.shape"
   ]
  },
  {
   "cell_type": "code",
   "execution_count": 6,
   "metadata": {},
   "outputs": [],
   "source": [
    "# Filtre those that we don't want\n",
    "urgency_map={'low**':'Low',\n",
    "            'low*':'Low',\n",
    "            'low':'Low',\n",
    "            'medium**':'Medium',\n",
    "            'medium**':'Medium',\n",
    "            'medium':'Medium',\n",
    "            'high**':'High',\n",
    "            'high*':'High',\n",
    "            'high':'High',\n",
    "            'unimportant': pd.np.nan,\n",
    "            'not yet assigned': pd.np.nan,\n",
    "            'end-of-life': pd.np.nan,\n",
    "           }\n",
    "\n",
    "vuls = vuls.query('status != \"undetermined\"').copy()\n",
    "vuls = (vuls\n",
    "        .replace({'urgency': urgency_map})\n",
    "        .dropna(subset=['urgency'])\n",
    "        .drop_duplicates()\n",
    "       )"
   ]
  },
  {
   "cell_type": "code",
   "execution_count": 7,
   "metadata": {},
   "outputs": [],
   "source": [
    "vuls = vuls.groupby(['source','source_version','urgency']).count()[['cve']].reset_index()"
   ]
  },
  {
   "cell_type": "code",
   "execution_count": 8,
   "metadata": {},
   "outputs": [],
   "source": [
    "vuls = (vuls\n",
    "          .pivot_table(index=['source','source_version'], columns='urgency', values='cve')\n",
    "          .reset_index()\n",
    "          .fillna(0)\n",
    "         )"
   ]
  },
  {
   "cell_type": "markdown",
   "metadata": {},
   "source": [
    "# Load bugs and clean them"
   ]
  },
  {
   "cell_type": "code",
   "execution_count": 9,
   "metadata": {},
   "outputs": [
    {
     "data": {
      "text/plain": [
       "(371639, 10)"
      ]
     },
     "execution_count": 9,
     "metadata": {},
     "output_type": "execute_result"
    }
   ],
   "source": [
    "bugs = pd.read_csv('../../../docker_emse/csv/for_analysis/bugs.csv')\n",
    "bugs.shape"
   ]
  },
  {
   "cell_type": "code",
   "execution_count": 10,
   "metadata": {},
   "outputs": [],
   "source": [
    "severity_map={'minor':'Lower',\n",
    "            'normal':'Lower',\n",
    "            'important':'Higher',\n",
    "            'grave':'Higher',\n",
    "            'serious':'Higher',\n",
    "            'critical':'Higher',\n",
    "           }\n",
    "\n",
    "bugs = (bugs\n",
    "        .replace({'severity': severity_map})\n",
    "        .drop_duplicates()\n",
    "       )"
   ]
  },
  {
   "cell_type": "code",
   "execution_count": 11,
   "metadata": {},
   "outputs": [],
   "source": [
    "bugs = bugs.groupby(['source','source_version','severity']).count()[['debianbug']].reset_index()"
   ]
  },
  {
   "cell_type": "code",
   "execution_count": 12,
   "metadata": {},
   "outputs": [],
   "source": [
    "bugs = (bugs\n",
    "          .pivot_table(index=['source','source_version'], columns='severity', values='debianbug')\n",
    "          .reset_index()\n",
    "          .fillna(0)\n",
    "         )"
   ]
  },
  {
   "cell_type": "markdown",
   "metadata": {},
   "source": [
    "# Now we merge vuls and bugs with INSTALLED PACKAGES"
   ]
  },
  {
   "cell_type": "code",
   "execution_count": 13,
   "metadata": {},
   "outputs": [
    {
     "data": {
      "text/plain": [
       "(1222801, 5)"
      ]
     },
     "execution_count": 13,
     "metadata": {},
     "output_type": "execute_result"
    }
   ],
   "source": [
    "sources.shape"
   ]
  },
  {
   "cell_type": "code",
   "execution_count": 14,
   "metadata": {},
   "outputs": [
    {
     "data": {
      "text/plain": [
       "(1222801, 8)"
      ]
     },
     "execution_count": 14,
     "metadata": {},
     "output_type": "execute_result"
    }
   ],
   "source": [
    "# starting with vulnerabilities\n",
    "sources = (sources\n",
    "            .merge(vuls,\n",
    "                   on = ['source','source_version'],\n",
    "                   how = 'left')\n",
    "           )\n",
    "sources.fillna(0, inplace=True)\n",
    "sources.shape"
   ]
  },
  {
   "cell_type": "code",
   "execution_count": 15,
   "metadata": {},
   "outputs": [
    {
     "data": {
      "text/plain": [
       "(1222801, 10)"
      ]
     },
     "execution_count": 15,
     "metadata": {},
     "output_type": "execute_result"
    }
   ],
   "source": [
    "# Then, bugs\n",
    "sources = (sources\n",
    "            .merge(bugs,\n",
    "                   on = ['source','source_version'],\n",
    "                   how = 'left')\n",
    "           )\n",
    "sources.fillna(0, inplace=True)\n",
    "sources.shape"
   ]
  },
  {
   "cell_type": "markdown",
   "metadata": {},
   "source": [
    "# Now we merge vuls and bugs with IDEAL PACKAGES"
   ]
  },
  {
   "cell_type": "code",
   "execution_count": 16,
   "metadata": {},
   "outputs": [
    {
     "data": {
      "text/html": [
       "<div>\n",
       "<style scoped>\n",
       "    .dataframe tbody tr th:only-of-type {\n",
       "        vertical-align: middle;\n",
       "    }\n",
       "\n",
       "    .dataframe tbody tr th {\n",
       "        vertical-align: top;\n",
       "    }\n",
       "\n",
       "    .dataframe thead th {\n",
       "        text-align: right;\n",
       "    }\n",
       "</style>\n",
       "<table border=\"1\" class=\"dataframe\">\n",
       "  <thead>\n",
       "    <tr style=\"text-align: right;\">\n",
       "      <th></th>\n",
       "      <th>source</th>\n",
       "      <th>source_version</th>\n",
       "      <th>archive</th>\n",
       "      <th>last_updated</th>\n",
       "      <th>ideal_source</th>\n",
       "      <th>High</th>\n",
       "      <th>Low</th>\n",
       "      <th>Medium</th>\n",
       "      <th>Higher</th>\n",
       "      <th>Lower</th>\n",
       "    </tr>\n",
       "  </thead>\n",
       "  <tbody>\n",
       "    <tr>\n",
       "      <td>0</td>\n",
       "      <td>0ad</td>\n",
       "      <td>0.0.21-2</td>\n",
       "      <td>stretch</td>\n",
       "      <td>2018-12-10</td>\n",
       "      <td>0.0.21-2</td>\n",
       "      <td>0.0</td>\n",
       "      <td>0.0</td>\n",
       "      <td>0.0</td>\n",
       "      <td>4.0</td>\n",
       "      <td>2.0</td>\n",
       "    </tr>\n",
       "    <tr>\n",
       "      <td>1</td>\n",
       "      <td>0ad-data</td>\n",
       "      <td>0.0.21-1</td>\n",
       "      <td>stretch</td>\n",
       "      <td>2018-12-10</td>\n",
       "      <td>0.0.21-1</td>\n",
       "      <td>0.0</td>\n",
       "      <td>0.0</td>\n",
       "      <td>0.0</td>\n",
       "      <td>0.0</td>\n",
       "      <td>0.0</td>\n",
       "    </tr>\n",
       "    <tr>\n",
       "      <td>2</td>\n",
       "      <td>a52dec</td>\n",
       "      <td>0.7.4-17</td>\n",
       "      <td>jessie</td>\n",
       "      <td>2016-09-15</td>\n",
       "      <td>0.7.4-17</td>\n",
       "      <td>0.0</td>\n",
       "      <td>0.0</td>\n",
       "      <td>0.0</td>\n",
       "      <td>0.0</td>\n",
       "      <td>1.0</td>\n",
       "    </tr>\n",
       "    <tr>\n",
       "      <td>3</td>\n",
       "      <td>a52dec</td>\n",
       "      <td>0.7.4-17</td>\n",
       "      <td>jessie</td>\n",
       "      <td>2016-09-29</td>\n",
       "      <td>0.7.4-17</td>\n",
       "      <td>0.0</td>\n",
       "      <td>0.0</td>\n",
       "      <td>0.0</td>\n",
       "      <td>0.0</td>\n",
       "      <td>1.0</td>\n",
       "    </tr>\n",
       "    <tr>\n",
       "      <td>4</td>\n",
       "      <td>a52dec</td>\n",
       "      <td>0.7.4-17</td>\n",
       "      <td>jessie</td>\n",
       "      <td>2017-01-01</td>\n",
       "      <td>0.7.4-17</td>\n",
       "      <td>0.0</td>\n",
       "      <td>0.0</td>\n",
       "      <td>0.0</td>\n",
       "      <td>0.0</td>\n",
       "      <td>1.0</td>\n",
       "    </tr>\n",
       "  </tbody>\n",
       "</table>\n",
       "</div>"
      ],
      "text/plain": [
       "     source source_version  archive last_updated ideal_source  High  Low  \\\n",
       "0       0ad       0.0.21-2  stretch   2018-12-10     0.0.21-2   0.0  0.0   \n",
       "1  0ad-data       0.0.21-1  stretch   2018-12-10     0.0.21-1   0.0  0.0   \n",
       "2    a52dec       0.7.4-17   jessie   2016-09-15     0.7.4-17   0.0  0.0   \n",
       "3    a52dec       0.7.4-17   jessie   2016-09-29     0.7.4-17   0.0  0.0   \n",
       "4    a52dec       0.7.4-17   jessie   2017-01-01     0.7.4-17   0.0  0.0   \n",
       "\n",
       "   Medium  Higher  Lower  \n",
       "0     0.0     4.0    2.0  \n",
       "1     0.0     0.0    0.0  \n",
       "2     0.0     0.0    1.0  \n",
       "3     0.0     0.0    1.0  \n",
       "4     0.0     0.0    1.0  "
      ]
     },
     "execution_count": 16,
     "metadata": {},
     "output_type": "execute_result"
    }
   ],
   "source": [
    "sources.head()"
   ]
  },
  {
   "cell_type": "code",
   "execution_count": 17,
   "metadata": {},
   "outputs": [
    {
     "data": {
      "text/plain": [
       "(1222801, 13)"
      ]
     },
     "execution_count": 17,
     "metadata": {},
     "output_type": "execute_result"
    }
   ],
   "source": [
    "# starting with vulnerabilities\n",
    "vuls.rename(columns=\n",
    "            {'source_version':'ideal_source','High':'l_High','Low':'l_Low', 'Medium':'l_Medium'},\n",
    "            inplace=True)\n",
    "\n",
    "sources = (sources\n",
    "            .merge(vuls,\n",
    "                   on = ['source','ideal_source'],\n",
    "                   how = 'left')\n",
    "           )\n",
    "sources.fillna(0, inplace=True)\n",
    "sources.shape"
   ]
  },
  {
   "cell_type": "code",
   "execution_count": 18,
   "metadata": {},
   "outputs": [
    {
     "data": {
      "text/plain": [
       "(1222801, 15)"
      ]
     },
     "execution_count": 18,
     "metadata": {},
     "output_type": "execute_result"
    }
   ],
   "source": [
    "# Then, bugs\n",
    "bugs.rename(columns=\n",
    "            {'source_version':'ideal_source','Higher':'l_Higher','Lower':'l_Lower'},\n",
    "            inplace=True)\n",
    "\n",
    "sources = (sources\n",
    "            .merge(bugs,\n",
    "                   on = ['source','ideal_source'],\n",
    "                   how = 'left')\n",
    "           )\n",
    "sources.fillna(0, inplace=True)\n",
    "sources.shape"
   ]
  },
  {
   "cell_type": "code",
   "execution_count": 19,
   "metadata": {},
   "outputs": [],
   "source": [
    "sources.to_csv('../../../docker_emse/csv/for_analysis/vb_lag_ideal.csv', index=False)"
   ]
  }
 ],
 "metadata": {
  "kernelspec": {
   "display_name": "Python 3",
   "language": "python",
   "name": "python3"
  },
  "language_info": {
   "codemirror_mode": {
    "name": "ipython",
    "version": 3
   },
   "file_extension": ".py",
   "mimetype": "text/x-python",
   "name": "python",
   "nbconvert_exporter": "python",
   "pygments_lexer": "ipython3",
   "version": "3.6.8"
  }
 },
 "nbformat": 4,
 "nbformat_minor": 2
}
