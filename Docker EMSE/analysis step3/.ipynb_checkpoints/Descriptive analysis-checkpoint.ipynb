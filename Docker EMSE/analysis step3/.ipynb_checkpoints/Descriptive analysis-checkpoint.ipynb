{
 "cells": [
  {
   "cell_type": "code",
   "execution_count": 2,
   "metadata": {},
   "outputs": [],
   "source": [
    "%matplotlib inline\n",
    "import seaborn as sns; \n",
    "import pandas as pd\n",
    "import matplotlib.pyplot as plt\n",
    "from matplotlib import style\n",
    "from matplotlib import gridspec\n",
    "import scipy\n",
    "import numpy as np\n",
    "import time\n",
    "style.use('ggplot')\n",
    "sns.set_style('ticks',{'legend.frameon':True} )\n",
    "sns.set_palette('colorblind')\n",
    "FIG_SIZE = (12, 3)\n",
    "font = {'family' : 'Times New Roman',\n",
    "        'weight' : 'bold',\n",
    "        'size'   : 16}\n",
    "plt.rc('font', **font)\n",
    "plt.rcParams['text.usetex'] = True\n",
    "\n",
    "PALETTE_BASE = sns.color_palette('muted', n_colors=12)\n",
    "blue=PALETTE_BASE[0]\n",
    "green=PALETTE_BASE[1] \n",
    "red=PALETTE_BASE[2] \n",
    "purple=PALETTE_BASE[3]\n",
    "flatui = [sns.xkcd_rgb[\"medium green\"], \"orange\", sns.xkcd_rgb[\"medium purple\"], \"#e74c3c\", \"#34495e\", \"#2ecc71\"]\n",
    "colors = {'official': 'green',\n",
    "         'community': blue,\n",
    "         'Oldstable': PALETTE_BASE[-4],\n",
    "          'Stable': PALETTE_BASE[-5],\n",
    "          'Testing': PALETTE_BASE[-6],\n",
    "          'Higher': 'red',\n",
    "          'Medium': flatui[1],\n",
    "          'Lower': flatui[0]\n",
    "         }\n",
    "# Considered period for the analysis\n",
    "first_date=\"2016-07-01\"\n",
    "last_date=\"2019-06-01\"\n",
    "date_period = pd.to_datetime(first_date), pd.to_datetime(last_date)\n",
    "release_map={'jessie':'Oldstable',\n",
    "             'stretch':'Stable',\n",
    "             'buster':'Testing'}\n",
    "type_map={'o':'official',\n",
    "          'c':'community'}"
   ]
  },
  {
   "cell_type": "markdown",
   "metadata": {},
   "source": [
    "# All images and tags"
   ]
  },
  {
   "cell_type": "code",
   "execution_count": 3,
   "metadata": {},
   "outputs": [],
   "source": [
    "df = pd.read_csv('../../../docker_emse/csv/prepared_data/compact.csv.gz')"
   ]
  },
  {
   "cell_type": "code",
   "execution_count": 5,
   "metadata": {},
   "outputs": [
    {
     "data": {
      "text/plain": [
       "22760"
      ]
     },
     "execution_count": 5,
     "metadata": {},
     "output_type": "execute_result"
    }
   ],
   "source": [
    "df.query('kind==\"official\"')[['image','hash']].image.size"
   ]
  },
  {
   "cell_type": "code",
   "execution_count": 6,
   "metadata": {},
   "outputs": [
    {
     "data": {
      "text/plain": [
       "(12427, 1)"
      ]
     },
     "execution_count": 6,
     "metadata": {},
     "output_type": "execute_result"
    }
   ],
   "source": [
    "df.query('kind==\"official\"')[['image','hash']].set_index('image').drop_duplicates().shape"
   ]
  },
  {
   "cell_type": "code",
   "execution_count": 7,
   "metadata": {},
   "outputs": [
    {
     "data": {
      "text/plain": [
       "5718715"
      ]
     },
     "execution_count": 7,
     "metadata": {},
     "output_type": "execute_result"
    }
   ],
   "source": [
    "df.query('kind==\"community\"')[['image','hash']].image.size"
   ]
  },
  {
   "cell_type": "code",
   "execution_count": 8,
   "metadata": {},
   "outputs": [
    {
     "data": {
      "text/plain": [
       "(4381972, 1)"
      ]
     },
     "execution_count": 8,
     "metadata": {},
     "output_type": "execute_result"
    }
   ],
   "source": [
    "df.query('kind==\"community\"')[['image','hash']].set_index('image').drop_duplicates().shape"
   ]
  },
  {
   "cell_type": "markdown",
   "metadata": {},
   "source": [
    "# Load images"
   ]
  },
  {
   "cell_type": "code",
   "execution_count": 2,
   "metadata": {},
   "outputs": [
    {
     "data": {
      "text/plain": [
       "(140498, 4)"
      ]
     },
     "execution_count": 2,
     "metadata": {},
     "output_type": "execute_result"
    }
   ],
   "source": [
    "images = pd.read_csv('../../../docker_emse/csv/for_analysis/installed_packages.csv',\n",
    "                    usecols = ['image','last_updated','type','release'])\n",
    "images.drop_duplicates(inplace=True)\n",
    "images.shape"
   ]
  },
  {
   "cell_type": "code",
   "execution_count": 3,
   "metadata": {},
   "outputs": [],
   "source": [
    "images['slug'] = images['image'].apply(lambda x: '/'.join(x.split(':')[0:2]))"
   ]
  },
  {
   "cell_type": "code",
   "execution_count": null,
   "metadata": {},
   "outputs": [],
   "source": [
    "images.replace({'type': type_map}, inplace=True)\n",
    "images.replace({'release': release_map}, inplace=True)"
   ]
  },
  {
   "cell_type": "code",
   "execution_count": 4,
   "metadata": {},
   "outputs": [
    {
     "data": {
      "text/plain": [
       "14007"
      ]
     },
     "execution_count": 4,
     "metadata": {},
     "output_type": "execute_result"
    }
   ],
   "source": [
    "images.slug.unique().size"
   ]
  },
  {
   "cell_type": "code",
   "execution_count": 34,
   "metadata": {},
   "outputs": [
    {
     "data": {
      "text/plain": [
       "(9330, 131168)"
      ]
     },
     "execution_count": 34,
     "metadata": {},
     "output_type": "execute_result"
    }
   ],
   "source": [
    "print(images.query('type == \"o\"').image.unique().size, images.query('type == \"c\"').image.unique().size)"
   ]
  },
  {
   "cell_type": "markdown",
   "metadata": {},
   "source": [
    "# Load popularity"
   ]
  },
  {
   "cell_type": "code",
   "execution_count": null,
   "metadata": {},
   "outputs": [],
   "source": [
    "pop = pd.concat([pd.read_csv('../../../docker_emse/csv/'+file+'.zip', usecols=['slug','popularity']) \n",
    "                        for file in ['official_images','community_images']])\n",
    "pop.shape"
   ]
  },
  {
   "cell_type": "code",
   "execution_count": null,
   "metadata": {},
   "outputs": [],
   "source": [
    "pop.popularity.describe().apply(lambda x: format(x, 'f'))"
   ]
  },
  {
   "cell_type": "code",
   "execution_count": null,
   "metadata": {},
   "outputs": [],
   "source": [
    "mask = pop.slug.isin(images.slug)\n",
    "pop = pop[mask]"
   ]
  },
  {
   "cell_type": "code",
   "execution_count": null,
   "metadata": {},
   "outputs": [],
   "source": [
    "images = (images\n",
    "          .merge(pop,\n",
    "                on = 'slug',\n",
    "                how = 'left')\n",
    "         )\n",
    "images.shape"
   ]
  },
  {
   "cell_type": "code",
   "execution_count": null,
   "metadata": {},
   "outputs": [],
   "source": [
    "images.popularity.describe().apply(lambda x: format(x, 'f'))"
   ]
  },
  {
   "cell_type": "markdown",
   "metadata": {},
   "source": [
    "### Let's check when images were last updated"
   ]
  },
  {
   "cell_type": "code",
   "execution_count": 64,
   "metadata": {},
   "outputs": [],
   "source": [
    "images = images.query('last_updated != \"None\"')\n",
    "images['last_updated'] = pd.to_datetime(images['last_updated'])"
   ]
  },
  {
   "cell_type": "code",
   "execution_count": 106,
   "metadata": {},
   "outputs": [],
   "source": [
    "df_tmp=(images.\n",
    "        groupby(['release','last_updated','type']).\n",
    "        count().\n",
    "        reset_index()\n",
    "       )\n",
    "\n",
    "df_tmp = (df_tmp\n",
    "          .drop('slug', axis=1)\n",
    "          .pivot_table(index=['last_updated','type'], columns='release', values='image')\n",
    "          .fillna(0)\n",
    "          .reset_index())"
   ]
  },
  {
   "cell_type": "code",
   "execution_count": 113,
   "metadata": {},
   "outputs": [
    {
     "data": {
      "image/png": "[encoded data removed]",
      "text/plain": [
       "<Figure size 864x216 with 2 Axes>"
      ]
     },
     "metadata": {},
     "output_type": "display_data"
    }
   ],
   "source": [
    "fig, axes = plt.subplots(1, 2, sharex=True, sharey=True)\n",
    "fig.set_size_inches(12,3)\n",
    "for j, genre in enumerate(['official','community']):\n",
    "    df_=(df_tmp.\n",
    "         query('type ==\"{}\"'.format(genre)).\n",
    "         groupby(pd.Grouper(key='last_updated', freq='1Q'))[['Oldstable','Stable','Testing']].\n",
    "         agg(sum)\n",
    "        )    \n",
    "    ax=df_.plot(ax=axes[j], linewidth=2, colors=[colors[x] for x in ['Oldstable','Stable','Testing']])\n",
    "\n",
    "    ax.set(\n",
    "        xlabel='',\n",
    "        #ylim=(0,20),\n",
    "        ylabel='number of images',\n",
    "        title=genre,\n",
    "        xlim=date_period)\n",
    "    #plt.yticks(pd.np.arange(0, 50, 20))\n",
    "    ax.legend(loc='upper left',  prop={'size': 16, 'weight':'bold'})\n",
    "ax.figure.savefig('/home/neglectos/Desktop/repositories/docker_emse/figures/number_images.pdf', bbox_inches='tight', facecolor='white')"
   ]
  },
  {
   "cell_type": "code",
   "execution_count": 103,
   "metadata": {},
   "outputs": [
    {
     "data": {
      "image/png": "[encoded data removed]",
      "text/plain": [
       "<Figure size 864x216 with 2 Axes>"
      ]
     },
     "metadata": {},
     "output_type": "display_data"
    }
   ],
   "source": [
    "images['year'] = images['last_updated'].apply(lambda x: str(x).split('-')[0])\n",
    "figure, axes = plt.subplots(1, 2, sharex=True, sharey=False)\n",
    "figure.set_size_inches(12,3)\n",
    "\n",
    "df_tmp=(images.\n",
    "        groupby(['release','year','type']).\n",
    "        count().\n",
    "        reset_index()\n",
    "       )\n",
    "\n",
    "df_tmp = (df_tmp\n",
    "        .replace({'release': release_map})\n",
    "       )\n",
    "for i, t in enumerate(['official','community']):\n",
    "    ax = sns.barplot(\n",
    "        y=\"image\", x='year', hue='release', data=df_tmp.query('type==\"'+t+'\"'), \n",
    "        palette=flatui, linewidth=1,  ax=axes[i], hue_order=['Oldstable','Stable','Testing'])\n",
    "    #ax.set_ylim(0,6000)\n",
    "    for patch in ax.patches:\n",
    "        patch.set_edgecolor('black')\n",
    "    if t =='o':\n",
    "        ax.set_xlabel(\"official images last update year\")\n",
    "        ax.set_ylabel('number of images')\n",
    "        plt.yticks(pd.np.arange(0, 5000, 500))\n",
    "        continue\n",
    "\n",
    "    else:\n",
    "        ax.set_xlabel(\"community images last update year\")\n",
    "        ax.set_ylabel(\"\")\n",
    "        plt.yticks(pd.np.arange(0, 50000, 10000))\n",
    "    #for patch in ax.patches:\n",
    "    #    patch.set_edgecolor('black')\n",
    "    ax.legend(loc='upper right', bbox_to_anchor=(1.7, 1.25), ncol=3, fontsize=18, fancybox=True)\n",
    "ax.legend(loc='upper right', bbox_to_anchor=(0.5, 1.25), ncol=3, fontsize=18, fancybox=True)\n",
    "figure.savefig('/home/neglectos/Desktop/repositories/docker_emse/figures/last_updated.pdf', bbox_inches='tight', facecolor='white')"
   ]
  },
  {
   "cell_type": "code",
   "execution_count": 104,
   "metadata": {},
   "outputs": [
    {
     "name": "stdout",
     "output_type": "stream",
     "text": [
      "year\n",
      "2016     2.132905\n",
      "2017    18.531618\n",
      "2018    42.047160\n",
      "2019    37.288317\n",
      "Name: image, dtype: float64\n",
      "year\n",
      "2016     1.161124\n",
      "2017    14.850647\n",
      "2018    43.339737\n",
      "2019    40.648491\n",
      "Name: image, dtype: float64\n"
     ]
    }
   ],
   "source": [
    "for i, t in enumerate(['official','community']):\n",
    "    df_tmp=(images.query('type ==\"'+t+'\" ')\n",
    "            .groupby(['year'])\n",
    "            .count()\n",
    "           )\n",
    "    print(df_tmp.image*100/len(images.query('type ==\"'+t+'\" ')))"
   ]
  },
  {
   "cell_type": "markdown",
   "metadata": {},
   "source": [
    "# Load packages"
   ]
  },
  {
   "cell_type": "code",
   "execution_count": 2,
   "metadata": {},
   "outputs": [
    {
     "name": "stderr",
     "output_type": "stream",
     "text": [
      "/usr/local/lib/python3.6/dist-packages/IPython/core/interactiveshell.py:3020: DtypeWarning: Columns (1) have mixed types. Specify dtype option on import or set low_memory=False.\n",
      "  interactivity=interactivity, compiler=compiler, result=result)\n"
     ]
    },
    {
     "data": {
      "text/plain": [
       "(46272487, 5)"
      ]
     },
     "execution_count": 2,
     "metadata": {},
     "output_type": "execute_result"
    }
   ],
   "source": [
    "packages = pd.read_csv('../../../docker_emse/csv/for_analysis/installed_packages.csv',\n",
    "                      usecols=['image','package','type','version','release'])\n",
    "packages.shape"
   ]
  },
  {
   "cell_type": "code",
   "execution_count": 3,
   "metadata": {},
   "outputs": [
    {
     "data": {
      "text/plain": [
       "array(['stretch', 'buster', 'jessie'], dtype=object)"
      ]
     },
     "execution_count": 3,
     "metadata": {},
     "output_type": "execute_result"
    }
   ],
   "source": [
    "packages.release.unique()"
   ]
  },
  {
   "cell_type": "code",
   "execution_count": 5,
   "metadata": {},
   "outputs": [
    {
     "data": {
      "text/plain": [
       "('number of images', 140498)"
      ]
     },
     "execution_count": 5,
     "metadata": {},
     "output_type": "execute_result"
    }
   ],
   "source": [
    "'number of images', packages.image.unique().size"
   ]
  },
  {
   "cell_type": "code",
   "execution_count": 6,
   "metadata": {},
   "outputs": [
    {
     "data": {
      "text/html": [
       "<div>\n",
       "<style scoped>\n",
       "    .dataframe tbody tr th:only-of-type {\n",
       "        vertical-align: middle;\n",
       "    }\n",
       "\n",
       "    .dataframe tbody tr th {\n",
       "        vertical-align: top;\n",
       "    }\n",
       "\n",
       "    .dataframe thead th {\n",
       "        text-align: right;\n",
       "    }\n",
       "</style>\n",
       "<table border=\"1\" class=\"dataframe\">\n",
       "  <thead>\n",
       "    <tr style=\"text-align: right;\">\n",
       "      <th></th>\n",
       "      <th>image</th>\n",
       "    </tr>\n",
       "    <tr>\n",
       "      <th>type</th>\n",
       "      <th></th>\n",
       "    </tr>\n",
       "  </thead>\n",
       "  <tbody>\n",
       "    <tr>\n",
       "      <th>c</th>\n",
       "      <td>131168</td>\n",
       "    </tr>\n",
       "    <tr>\n",
       "      <th>o</th>\n",
       "      <td>9330</td>\n",
       "    </tr>\n",
       "  </tbody>\n",
       "</table>\n",
       "</div>"
      ],
      "text/plain": [
       "       image\n",
       "type        \n",
       "c     131168\n",
       "o       9330"
      ]
     },
     "execution_count": 6,
     "metadata": {},
     "output_type": "execute_result"
    }
   ],
   "source": [
    "packages[['image','type']].drop_duplicates().groupby('type').count()"
   ]
  },
  {
   "cell_type": "code",
   "execution_count": 8,
   "metadata": {},
   "outputs": [
    {
     "data": {
      "text/html": [
       "<div>\n",
       "<style scoped>\n",
       "    .dataframe tbody tr th:only-of-type {\n",
       "        vertical-align: middle;\n",
       "    }\n",
       "\n",
       "    .dataframe tbody tr th {\n",
       "        vertical-align: top;\n",
       "    }\n",
       "\n",
       "    .dataframe thead th {\n",
       "        text-align: right;\n",
       "    }\n",
       "</style>\n",
       "<table border=\"1\" class=\"dataframe\">\n",
       "  <thead>\n",
       "    <tr style=\"text-align: right;\">\n",
       "      <th></th>\n",
       "      <th></th>\n",
       "      <th>image</th>\n",
       "    </tr>\n",
       "    <tr>\n",
       "      <th>type</th>\n",
       "      <th>release</th>\n",
       "      <th></th>\n",
       "    </tr>\n",
       "  </thead>\n",
       "  <tbody>\n",
       "    <tr>\n",
       "      <th rowspan=\"3\" valign=\"top\">c</th>\n",
       "      <th>buster</th>\n",
       "      <td>3114</td>\n",
       "    </tr>\n",
       "    <tr>\n",
       "      <th>jessie</th>\n",
       "      <td>52520</td>\n",
       "    </tr>\n",
       "    <tr>\n",
       "      <th>stretch</th>\n",
       "      <td>75534</td>\n",
       "    </tr>\n",
       "    <tr>\n",
       "      <th rowspan=\"3\" valign=\"top\">o</th>\n",
       "      <th>buster</th>\n",
       "      <td>741</td>\n",
       "    </tr>\n",
       "    <tr>\n",
       "      <th>jessie</th>\n",
       "      <td>3085</td>\n",
       "    </tr>\n",
       "    <tr>\n",
       "      <th>stretch</th>\n",
       "      <td>5504</td>\n",
       "    </tr>\n",
       "  </tbody>\n",
       "</table>\n",
       "</div>"
      ],
      "text/plain": [
       "              image\n",
       "type release       \n",
       "c    buster    3114\n",
       "     jessie   52520\n",
       "     stretch  75534\n",
       "o    buster     741\n",
       "     jessie    3085\n",
       "     stretch   5504"
      ]
     },
     "execution_count": 8,
     "metadata": {},
     "output_type": "execute_result"
    }
   ],
   "source": [
    "packages[['image','type','release']].drop_duplicates().groupby(['type','release']).count()"
   ]
  },
  {
   "cell_type": "code",
   "execution_count": 9,
   "metadata": {},
   "outputs": [
    {
     "data": {
      "text/html": [
       "<div>\n",
       "<style scoped>\n",
       "    .dataframe tbody tr th:only-of-type {\n",
       "        vertical-align: middle;\n",
       "    }\n",
       "\n",
       "    .dataframe tbody tr th {\n",
       "        vertical-align: top;\n",
       "    }\n",
       "\n",
       "    .dataframe thead th {\n",
       "        text-align: right;\n",
       "    }\n",
       "</style>\n",
       "<table border=\"1\" class=\"dataframe\">\n",
       "  <thead>\n",
       "    <tr style=\"text-align: right;\">\n",
       "      <th></th>\n",
       "      <th>image</th>\n",
       "    </tr>\n",
       "    <tr>\n",
       "      <th>release</th>\n",
       "      <th></th>\n",
       "    </tr>\n",
       "  </thead>\n",
       "  <tbody>\n",
       "    <tr>\n",
       "      <th>buster</th>\n",
       "      <td>3855</td>\n",
       "    </tr>\n",
       "    <tr>\n",
       "      <th>jessie</th>\n",
       "      <td>55605</td>\n",
       "    </tr>\n",
       "    <tr>\n",
       "      <th>stretch</th>\n",
       "      <td>81038</td>\n",
       "    </tr>\n",
       "  </tbody>\n",
       "</table>\n",
       "</div>"
      ],
      "text/plain": [
       "         image\n",
       "release       \n",
       "buster    3855\n",
       "jessie   55605\n",
       "stretch  81038"
      ]
     },
     "execution_count": 9,
     "metadata": {},
     "output_type": "execute_result"
    }
   ],
   "source": [
    "packages[['image','release']].drop_duplicates().groupby('release').count()"
   ]
  },
  {
   "cell_type": "code",
   "execution_count": 6,
   "metadata": {},
   "outputs": [
    {
     "data": {
      "text/plain": [
       "((2042387, 5), (44230100, 5))"
      ]
     },
     "execution_count": 6,
     "metadata": {},
     "output_type": "execute_result"
    }
   ],
   "source": [
    "packages.query('type == \"o\"').shape, packages.query('type == \"c\"').shape"
   ]
  },
  {
   "cell_type": "code",
   "execution_count": 15,
   "metadata": {},
   "outputs": [
    {
     "data": {
      "text/plain": [
       "185.0"
      ]
     },
     "execution_count": 15,
     "metadata": {},
     "output_type": "execute_result"
    }
   ],
   "source": [
    "packages.query('type == \"o\"').groupby('image').count()[['package']].package.median()"
   ]
  },
  {
   "cell_type": "code",
   "execution_count": 14,
   "metadata": {},
   "outputs": [
    {
     "data": {
      "text/plain": [
       "377.0"
      ]
     },
     "execution_count": 14,
     "metadata": {},
     "output_type": "execute_result"
    }
   ],
   "source": [
    "packages.query('type == \"c\"').groupby('image').count()[['package']].package.median()"
   ]
  },
  {
   "cell_type": "markdown",
   "metadata": {},
   "source": [
    "# Vulnerabilities"
   ]
  },
  {
   "cell_type": "code",
   "execution_count": 11,
   "metadata": {},
   "outputs": [
    {
     "data": {
      "text/plain": [
       "(63601, 7)"
      ]
     },
     "execution_count": 11,
     "metadata": {},
     "output_type": "execute_result"
    }
   ],
   "source": [
    "vuls = pd.read_csv('../../../docker_emse/csv/for_analysis/vulnerabilities.csv')\n",
    "vuls = vuls.drop('archive', axis=1).drop_duplicates()\n",
    "vuls.shape"
   ]
  },
  {
   "cell_type": "code",
   "execution_count": 12,
   "metadata": {},
   "outputs": [],
   "source": [
    "urgency_map={'low**':'Low',\n",
    "            'low*':'Low',\n",
    "            'low':'Low',\n",
    "            'medium**':'Medium',\n",
    "            'medium**':'Medium',\n",
    "            'medium':'Medium',\n",
    "            'high**':'High',\n",
    "            'high*':'High',\n",
    "            'high':'High',\n",
    "            'unimportant': pd.np.nan,\n",
    "            'not yet assigned': pd.np.nan,\n",
    "            'end-of-life': pd.np.nan,\n",
    "           }\n",
    "\n",
    "vuls = vuls.query('status != \"undetermined\"').copy()\n",
    "vuls = (vuls\n",
    "        .replace({'urgency': urgency_map})\n",
    "        .dropna(subset=['urgency'])\n",
    "        .drop_duplicates()\n",
    "       )"
   ]
  },
  {
   "cell_type": "code",
   "execution_count": 16,
   "metadata": {},
   "outputs": [
    {
     "data": {
      "image/png": "[encoded data removed]",
      "text/plain": [
       "<Figure size 720x216 with 1 Axes>"
      ]
     },
     "metadata": {},
     "output_type": "display_data"
    }
   ],
   "source": [
    "df_tmp=vuls.groupby(['urgency','status']).count().reset_index()\n",
    "df_tmp['source']=df_tmp['source']*100.0/len(vuls)\n",
    "df_tmp=df_tmp.sort_values('urgency', ascending=False)\n",
    "\n",
    "ax = sns.barplot(x=\"urgency\", \n",
    "                 y=\"source\", \n",
    "                 hue=\"status\", \n",
    "                 order=['Low','Medium','High'],\n",
    "                 hue_order=['resolved', 'open'],\n",
    "                 data=df_tmp, \n",
    "                 palette=flatui, \n",
    "                 linewidth=1)\n",
    "ax.figure.set_size_inches(10,3)\n",
    "ax.set_xlabel(\"vulnerability severity \")\n",
    "ax.set_ylabel('vulnerability\\n reports \\%')\n",
    "for patch in ax.patches:\n",
    "    patch.set_edgecolor('black')\n",
    "plt.yticks(np.arange(0, 60, 10))\n",
    "\n",
    "ax.legend(loc='upper right', bbox_to_anchor=(1, 1.3), ncol=3, fontsize=20, fancybox=True, shadow=True)\n",
    "ax.figure.savefig('/home/neglectos/Desktop/repositories/docker_emse/figures/all_vuls.pdf', bbox_inches='tight', facecolor='white')"
   ]
  },
  {
   "cell_type": "code",
   "execution_count": 18,
   "metadata": {},
   "outputs": [
    {
     "data": {
      "text/plain": [
       "557"
      ]
     },
     "execution_count": 18,
     "metadata": {},
     "output_type": "execute_result"
    }
   ],
   "source": [
    "vuls.source.unique().size"
   ]
  },
  {
   "cell_type": "code",
   "execution_count": 17,
   "metadata": {},
   "outputs": [
    {
     "data": {
      "text/plain": [
       "status\n",
       "open        22.900451\n",
       "resolved    77.099549\n",
       "Name: source, dtype: float64"
      ]
     },
     "execution_count": 17,
     "metadata": {},
     "output_type": "execute_result"
    }
   ],
   "source": [
    "vuls.groupby(['status']).count().source*100.0/len(vuls)"
   ]
  },
  {
   "cell_type": "code",
   "execution_count": 19,
   "metadata": {},
   "outputs": [
    {
     "data": {
      "text/plain": [
       "status\n",
       "open        10621\n",
       "resolved    35758\n",
       "Name: source, dtype: int64"
      ]
     },
     "execution_count": 19,
     "metadata": {},
     "output_type": "execute_result"
    }
   ],
   "source": [
    "vuls.groupby(['status']).count().source"
   ]
  },
  {
   "cell_type": "code",
   "execution_count": 20,
   "metadata": {},
   "outputs": [
    {
     "data": {
      "text/plain": [
       "urgency\n",
       "High      24.970353\n",
       "Low       18.523470\n",
       "Medium    56.506177\n",
       "Name: source, dtype: float64"
      ]
     },
     "execution_count": 20,
     "metadata": {},
     "output_type": "execute_result"
    }
   ],
   "source": [
    "vuls.groupby(['urgency']).count().source*100.0/len(vuls)"
   ]
  },
  {
   "cell_type": "markdown",
   "metadata": {},
   "source": [
    "# Bugs"
   ]
  },
  {
   "cell_type": "code",
   "execution_count": 21,
   "metadata": {},
   "outputs": [
    {
     "data": {
      "text/plain": [
       "(371639, 10)"
      ]
     },
     "execution_count": 21,
     "metadata": {},
     "output_type": "execute_result"
    }
   ],
   "source": [
    "bugs = pd.read_csv('../../../docker_emse/csv/for_analysis/bugs.csv')\n",
    "bugs.drop_duplicates(inplace=True)\n",
    "bugs.shape"
   ]
  },
  {
   "cell_type": "code",
   "execution_count": 31,
   "metadata": {},
   "outputs": [
    {
     "data": {
      "image/png": "[encoded data removed]",
      "text/plain": [
       "<Figure size 720x216 with 1 Axes>"
      ]
     },
     "metadata": {},
     "output_type": "display_data"
    }
   ],
   "source": [
    "df_tmp=bugs.groupby(['severity','status']).count().reset_index()\n",
    "df_tmp['source']=df_tmp['source']*100.0/len(bugs)\n",
    "df_tmp=df_tmp.sort_values('severity', ascending=False)\n",
    "\n",
    "ax = sns.barplot(x=\"severity\", \n",
    "                 y=\"source\", \n",
    "                 hue=\"status\", \n",
    "                 hue_order = ['done','pending','forwarded'],\n",
    "                 order=['minor', 'normal', 'important', 'serious','grave','critical'],\n",
    "                 data=df_tmp, \n",
    "                 palette=flatui, \n",
    "                 linewidth=1)\n",
    "ax.figure.set_size_inches(10,3)\n",
    "ax.set_xlabel(\"bug urgency\")\n",
    "ax.set_ylabel('bug reports \\%')\n",
    "for patch in ax.patches:\n",
    "    patch.set_edgecolor('black')\n",
    "plt.yticks(np.arange(0, 60, 10))\n",
    "\n",
    "ax.legend(loc='upper right', bbox_to_anchor=(1, 1.3), ncol=3, fontsize=20, fancybox=True, shadow=True)\n",
    "ax.figure.savefig('/home/neglectos/Desktop/repositories/docker_emse/figures/all_bugs.pdf', bbox_inches='tight', facecolor='white')"
   ]
  },
  {
   "cell_type": "code",
   "execution_count": 32,
   "metadata": {},
   "outputs": [
    {
     "data": {
      "text/plain": [
       "3400"
      ]
     },
     "execution_count": 32,
     "metadata": {},
     "output_type": "execute_result"
    }
   ],
   "source": [
    "bugs.source.unique().size"
   ]
  },
  {
   "cell_type": "code",
   "execution_count": 22,
   "metadata": {},
   "outputs": [
    {
     "data": {
      "text/plain": [
       "status\n",
       "done         19.530512\n",
       "forwarded     8.567454\n",
       "pending      71.902034\n",
       "Name: source, dtype: float64"
      ]
     },
     "execution_count": 22,
     "metadata": {},
     "output_type": "execute_result"
    }
   ],
   "source": [
    "bugs.groupby(['status']).count().source*100.0/len(bugs)"
   ]
  },
  {
   "cell_type": "code",
   "execution_count": 23,
   "metadata": {},
   "outputs": [
    {
     "data": {
      "text/plain": [
       "status\n",
       "done          72583\n",
       "forwarded     31840\n",
       "pending      267216\n",
       "Name: source, dtype: int64"
      ]
     },
     "execution_count": 23,
     "metadata": {},
     "output_type": "execute_result"
    }
   ],
   "source": [
    "bugs.groupby(['status']).count().source"
   ]
  },
  {
   "cell_type": "code",
   "execution_count": 33,
   "metadata": {},
   "outputs": [
    {
     "data": {
      "text/plain": [
       "severity\n",
       "critical      0.208805\n",
       "grave         1.375797\n",
       "important    29.434209\n",
       "minor         9.502770\n",
       "normal       57.840001\n",
       "serious       1.638418\n",
       "Name: source, dtype: float64"
      ]
     },
     "execution_count": 33,
     "metadata": {},
     "output_type": "execute_result"
    }
   ],
   "source": [
    "bugs.groupby(['severity']).count().source*100.0/len(bugs)"
   ]
  },
  {
   "cell_type": "code",
   "execution_count": 14,
   "metadata": {},
   "outputs": [],
   "source": [
    "severity_map={'minor':'Lower',\n",
    "            'normal':'Lower',\n",
    "            'important':'Higher',\n",
    "            'grave':'Higher',\n",
    "            'serious':'Higher',\n",
    "            'critical':'Higher',\n",
    "           }\n",
    "\n",
    "bugs = (bugs\n",
    "        .replace({'severity': severity_map})\n",
    "        .drop_duplicates()\n",
    "       )"
   ]
  },
  {
   "cell_type": "code",
   "execution_count": 15,
   "metadata": {},
   "outputs": [
    {
     "data": {
      "text/plain": [
       "Text(0.18, 1.15, 'Status:')"
      ]
     },
     "execution_count": 15,
     "metadata": {},
     "output_type": "execute_result"
    },
    {
     "data": {
      "image/png": "[encoded data removed]",
      "text/plain": [
       "<Figure size 864x216 with 1 Axes>"
      ]
     },
     "metadata": {},
     "output_type": "display_data"
    }
   ],
   "source": [
    "df_tmp=bugs.groupby(['severity','status']).count().reset_index()\n",
    "df_tmp['source']=df_tmp['source']*100.0/len(bugs)\n",
    "df_tmp=df_tmp.sort_values('severity', ascending=False)\n",
    "\n",
    "ax = sns.barplot(x=\"severity\", \n",
    "                 y=\"source\", \n",
    "                 hue=\"status\", \n",
    "                 hue_order = ['done','forwarded','pending'],\n",
    "                 #order=['Lower', 'Medium', 'Higher'],\n",
    "                 data=df_tmp, \n",
    "                 palette=flatui, \n",
    "                 linewidth=1)\n",
    "ax.figure.set_size_inches(12,3)\n",
    "ax.set_xlabel(\"Severity\")\n",
    "ax.set_ylabel('Package \\n vulnerabilities \\%')\n",
    "for patch in ax.patches:\n",
    "    patch.set_edgecolor('black')\n",
    "ax.legend(loc='upper right', bbox_to_anchor=(1, 1.3), ncol=3, fontsize=20, fancybox=True, shadow=True)\n",
    "ax.text(0.18, 1.15, 'Status:', transform=ax.transAxes, fontsize=20,\n",
    "        verticalalignment='top', color='black')\n",
    "#ax.figure.savefig('../../../seneca_research/docker_debian/figures/all_vuls.pdf', bbox_inches='tight', facecolor='white')"
   ]
  },
  {
   "cell_type": "code",
   "execution_count": null,
   "metadata": {},
   "outputs": [],
   "source": []
  }
 ],
 "metadata": {
  "kernelspec": {
   "display_name": "Python 3",
   "language": "python",
   "name": "python3"
  },
  "language_info": {
   "codemirror_mode": {
    "name": "ipython",
    "version": 3
   },
   "file_extension": ".py",
   "mimetype": "text/x-python",
   "name": "python",
   "nbconvert_exporter": "python",
   "pygments_lexer": "ipython3",
   "version": "3.6.8"
  }
 },
 "nbformat": 4,
 "nbformat_minor": 2
}
