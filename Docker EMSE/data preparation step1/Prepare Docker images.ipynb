{
 "cells": [
  {
   "cell_type": "code",
   "execution_count": 2,
   "metadata": {},
   "outputs": [],
   "source": [
    "%matplotlib inline\n",
    "import seaborn as sns; \n",
    "import pandas as pd\n",
    "import matplotlib.pyplot as plt\n",
    "from matplotlib import style\n",
    "from matplotlib import gridspec\n",
    "import scipy\n",
    "style.use('ggplot')\n",
    "import datetime\n",
    "from io import StringIO\n",
    "import re\n",
    "import numpy as np\n",
    "from datetime import datetime"
   ]
  },
  {
   "cell_type": "markdown",
   "metadata": {},
   "source": [
    "# List of all layers of all official docker images available for the Linux OS/amd64 by 23 March 2018\n",
    "Debian have updated their images on 14 March"
   ]
  },
  {
   "cell_type": "code",
   "execution_count": 63,
   "metadata": {},
   "outputs": [
    {
     "data": {
      "text/html": [
       "<div>\n",
       "<style scoped>\n",
       "    .dataframe tbody tr th:only-of-type {\n",
       "        vertical-align: middle;\n",
       "    }\n",
       "\n",
       "    .dataframe tbody tr th {\n",
       "        vertical-align: top;\n",
       "    }\n",
       "\n",
       "    .dataframe thead th {\n",
       "        text-align: right;\n",
       "    }\n",
       "</style>\n",
       "<table border=\"1\" class=\"dataframe\">\n",
       "  <thead>\n",
       "    <tr style=\"text-align: right;\">\n",
       "      <th></th>\n",
       "      <th>slug</th>\n",
       "      <th>tag</th>\n",
       "      <th>created</th>\n",
       "      <th>layer</th>\n",
       "      <th>level</th>\n",
       "    </tr>\n",
       "  </thead>\n",
       "  <tbody>\n",
       "    <tr>\n",
       "      <th>103061</th>\n",
       "      <td>ghost</td>\n",
       "      <td>0</td>\n",
       "      <td>2018-03-16T19:55:41.593708348Z</td>\n",
       "      <td>sha256:f2b6b4884fc8b2f1fcef843f92f7c82c9c149df...</td>\n",
       "      <td>1</td>\n",
       "    </tr>\n",
       "    <tr>\n",
       "      <th>103062</th>\n",
       "      <td>ghost</td>\n",
       "      <td>0</td>\n",
       "      <td>2018-03-16T19:55:41.593708348Z</td>\n",
       "      <td>sha256:4fb899b4df216ab398fb05547f86dc371db944c...</td>\n",
       "      <td>2</td>\n",
       "    </tr>\n",
       "  </tbody>\n",
       "</table>\n",
       "</div>"
      ],
      "text/plain": [
       "         slug tag                         created  \\\n",
       "103061  ghost   0  2018-03-16T19:55:41.593708348Z   \n",
       "103062  ghost   0  2018-03-16T19:55:41.593708348Z   \n",
       "\n",
       "                                                    layer  level  \n",
       "103061  sha256:f2b6b4884fc8b2f1fcef843f92f7c82c9c149df...      1  \n",
       "103062  sha256:4fb899b4df216ab398fb05547f86dc371db944c...      2  "
      ]
     },
     "execution_count": 63,
     "metadata": {},
     "output_type": "execute_result"
    }
   ],
   "source": [
    "official_layers=pd.read_csv('../../docker/csv/layers_official_23MARCH.csv', sep=';', dtype=object, index_col=None,  error_bad_lines=False)\n",
    "official_layers['level']=official_layers['level'].apply(int)\n",
    "official_layers=official_layers.sort_values(['tag','slug','level'])\n",
    "official_layers.head(2)"
   ]
  },
  {
   "cell_type": "code",
   "execution_count": 65,
   "metadata": {},
   "outputs": [],
   "source": [
    "official_layers.sort_values('level', ascending=False, inplace=True)"
   ]
  },
  {
   "cell_type": "code",
   "execution_count": 66,
   "metadata": {},
   "outputs": [],
   "source": [
    "official_layers = official_layers[['slug','level']]"
   ]
  },
  {
   "cell_type": "code",
   "execution_count": 28,
   "metadata": {},
   "outputs": [
    {
     "data": {
      "text/html": [
       "<div>\n",
       "<style scoped>\n",
       "    .dataframe tbody tr th:only-of-type {\n",
       "        vertical-align: middle;\n",
       "    }\n",
       "\n",
       "    .dataframe tbody tr th {\n",
       "        vertical-align: top;\n",
       "    }\n",
       "\n",
       "    .dataframe thead th {\n",
       "        text-align: right;\n",
       "    }\n",
       "</style>\n",
       "<table border=\"1\" class=\"dataframe\">\n",
       "  <thead>\n",
       "    <tr style=\"text-align: right;\">\n",
       "      <th></th>\n",
       "      <th>slug</th>\n",
       "      <th>tag</th>\n",
       "      <th>created</th>\n",
       "      <th>layer</th>\n",
       "      <th>level</th>\n",
       "    </tr>\n",
       "  </thead>\n",
       "  <tbody>\n",
       "    <tr>\n",
       "      <th>79718</th>\n",
       "      <td>devopscenter</td>\n",
       "      <td>0099ff.web</td>\n",
       "      <td>2014-08-27T02:44:47.123710403Z</td>\n",
       "      <td>sha256:a3ed95caeb02ffe68cdd9fd84406680ae93d633...</td>\n",
       "      <td>1</td>\n",
       "    </tr>\n",
       "    <tr>\n",
       "      <th>79719</th>\n",
       "      <td>devopscenter</td>\n",
       "      <td>0099ff.web</td>\n",
       "      <td>2014-08-27T02:44:47.123710403Z</td>\n",
       "      <td>sha256:23efb549476f5f10a40b3784758a807c0194d87...</td>\n",
       "      <td>2</td>\n",
       "    </tr>\n",
       "  </tbody>\n",
       "</table>\n",
       "</div>"
      ],
      "text/plain": [
       "               slug         tag                         created  \\\n",
       "79718  devopscenter  0099ff.web  2014-08-27T02:44:47.123710403Z   \n",
       "79719  devopscenter  0099ff.web  2014-08-27T02:44:47.123710403Z   \n",
       "\n",
       "                                                   layer  level  \n",
       "79718  sha256:a3ed95caeb02ffe68cdd9fd84406680ae93d633...      1  \n",
       "79719  sha256:23efb549476f5f10a40b3784758a807c0194d87...      2  "
      ]
     },
     "execution_count": 28,
     "metadata": {},
     "output_type": "execute_result"
    }
   ],
   "source": [
    "community_layers=pd.read_csv('../../docker/csv/layers_community_march_12k.csv', sep=';', dtype=object, index_col=None,  error_bad_lines=False)\n",
    "community_layers['level']=community_layers['level'].apply(int)\n",
    "community_layers=community_layers.sort_values(['tag','slug','level'])\n",
    "#community_layers.rename(columns={'tag':'name'}, inplace = True)\n",
    "community_layers.head(2)"
   ]
  },
  {
   "cell_type": "code",
   "execution_count": 29,
   "metadata": {},
   "outputs": [],
   "source": [
    "# Let's drop duplicates\n",
    "official_layers=official_layers.set_index(['slug','tag','level']).drop_duplicates(keep='first')\n",
    "community_layers=community_layers.set_index(['slug','tag','level']).drop_duplicates(keep='first')"
   ]
  },
  {
   "cell_type": "code",
   "execution_count": 30,
   "metadata": {},
   "outputs": [
    {
     "data": {
      "text/plain": [
       "19"
      ]
     },
     "execution_count": 30,
     "metadata": {},
     "output_type": "execute_result"
    }
   ],
   "source": [
    "len(community_layers.query('slug == \"007lva\" and tag == \"outletbox-rails\"'))"
   ]
  },
  {
   "cell_type": "code",
   "execution_count": 34,
   "metadata": {},
   "outputs": [
    {
     "data": {
      "text/html": [
       "<div>\n",
       "<style scoped>\n",
       "    .dataframe tbody tr th:only-of-type {\n",
       "        vertical-align: middle;\n",
       "    }\n",
       "\n",
       "    .dataframe tbody tr th {\n",
       "        vertical-align: top;\n",
       "    }\n",
       "\n",
       "    .dataframe thead th {\n",
       "        text-align: right;\n",
       "    }\n",
       "</style>\n",
       "<table border=\"1\" class=\"dataframe\">\n",
       "  <thead>\n",
       "    <tr style=\"text-align: right;\">\n",
       "      <th></th>\n",
       "      <th>slug</th>\n",
       "      <th>tag</th>\n",
       "      <th>layer</th>\n",
       "    </tr>\n",
       "  </thead>\n",
       "  <tbody>\n",
       "    <tr>\n",
       "      <th>0</th>\n",
       "      <td>007lva</td>\n",
       "      <td>outletbox-rails</td>\n",
       "      <td>sha256:d4bce7fd68df2e8bb04e317e7cb7899e981159a...</td>\n",
       "    </tr>\n",
       "    <tr>\n",
       "      <th>1</th>\n",
       "      <td>03192859189254</td>\n",
       "      <td>docker-magento-php-fpm-alpine</td>\n",
       "      <td>sha256:605ce1bd3f3164f2949a30501cc596f52a72de0...</td>\n",
       "    </tr>\n",
       "  </tbody>\n",
       "</table>\n",
       "</div>"
      ],
      "text/plain": [
       "             slug                            tag  \\\n",
       "0          007lva                outletbox-rails   \n",
       "1  03192859189254  docker-magento-php-fpm-alpine   \n",
       "\n",
       "                                               layer  \n",
       "0  sha256:d4bce7fd68df2e8bb04e317e7cb7899e981159a...  \n",
       "1  sha256:605ce1bd3f3164f2949a30501cc596f52a72de0...  "
      ]
     },
     "execution_count": 34,
     "metadata": {},
     "output_type": "execute_result"
    }
   ],
   "source": [
    "community_layers = (community_layers.reset_index().set_index(['slug','tag'])\n",
    "                       .drop(['level','created'], axis=1)\n",
    "                       .groupby(['slug','tag'])\n",
    "                       .apply(lambda x: x['layer'].sum())\n",
    "                       .reset_index()\n",
    "                       .rename(columns={0:'layer'})                       \n",
    "                      )\n",
    "community_layers.head(2)"
   ]
  },
  {
   "cell_type": "code",
   "execution_count": 35,
   "metadata": {},
   "outputs": [
    {
     "data": {
      "text/plain": [
       "19"
      ]
     },
     "execution_count": 35,
     "metadata": {},
     "output_type": "execute_result"
    }
   ],
   "source": [
    "len(community_layers.query('slug == \"007lva\" and tag == \"outletbox-rails\"').layer[0].split('sha256')) - 1 "
   ]
  },
  {
   "cell_type": "code",
   "execution_count": 36,
   "metadata": {},
   "outputs": [
    {
     "data": {
      "text/plain": [
       "True"
      ]
     },
     "execution_count": 36,
     "metadata": {},
     "output_type": "execute_result"
    }
   ],
   "source": [
    "len(community_layers[['slug','tag']].drop_duplicates()) == len(community_layers.drop_duplicates())"
   ]
  },
  {
   "cell_type": "code",
   "execution_count": 38,
   "metadata": {},
   "outputs": [
    {
     "data": {
      "text/html": [
       "<div>\n",
       "<style scoped>\n",
       "    .dataframe tbody tr th:only-of-type {\n",
       "        vertical-align: middle;\n",
       "    }\n",
       "\n",
       "    .dataframe tbody tr th {\n",
       "        vertical-align: top;\n",
       "    }\n",
       "\n",
       "    .dataframe thead th {\n",
       "        text-align: right;\n",
       "    }\n",
       "</style>\n",
       "<table border=\"1\" class=\"dataframe\">\n",
       "  <thead>\n",
       "    <tr style=\"text-align: right;\">\n",
       "      <th></th>\n",
       "      <th>slug</th>\n",
       "      <th>tag</th>\n",
       "      <th>layer</th>\n",
       "    </tr>\n",
       "  </thead>\n",
       "  <tbody>\n",
       "    <tr>\n",
       "      <th>0</th>\n",
       "      <td>adminer</td>\n",
       "      <td>4</td>\n",
       "      <td>sha256:605ce1bd3f3164f2949a30501cc596f52a72de0...</td>\n",
       "    </tr>\n",
       "    <tr>\n",
       "      <th>1</th>\n",
       "      <td>adminer</td>\n",
       "      <td>4-fastcgi</td>\n",
       "      <td>sha256:605ce1bd3f3164f2949a30501cc596f52a72de0...</td>\n",
       "    </tr>\n",
       "  </tbody>\n",
       "</table>\n",
       "</div>"
      ],
      "text/plain": [
       "      slug        tag                                              layer\n",
       "0  adminer          4  sha256:605ce1bd3f3164f2949a30501cc596f52a72de0...\n",
       "1  adminer  4-fastcgi  sha256:605ce1bd3f3164f2949a30501cc596f52a72de0..."
      ]
     },
     "execution_count": 38,
     "metadata": {},
     "output_type": "execute_result"
    }
   ],
   "source": [
    "official_layers = (official_layers.reset_index().set_index(['slug','tag'])\n",
    "                       .drop(['level','created'], axis=1)\n",
    "                       .groupby(['slug','tag'])\n",
    "                       .apply(lambda x: x['layer'].sum())\n",
    "                       .reset_index()\n",
    "                       .rename(columns={0:'layer'})                       \n",
    "                      )\n",
    "official_layers.head(2)"
   ]
  },
  {
   "cell_type": "code",
   "execution_count": 39,
   "metadata": {},
   "outputs": [
    {
     "data": {
      "text/plain": [
       "True"
      ]
     },
     "execution_count": 39,
     "metadata": {},
     "output_type": "execute_result"
    }
   ],
   "source": [
    "len(official_layers[['slug','tag']].drop_duplicates()) == len(official_layers)"
   ]
  },
  {
   "cell_type": "code",
   "execution_count": 40,
   "metadata": {},
   "outputs": [
    {
     "data": {
      "text/plain": [
       "74434410"
      ]
     },
     "execution_count": 40,
     "metadata": {},
     "output_type": "execute_result"
    }
   ],
   "source": [
    "len(official_layers)*len(community_layers)"
   ]
  },
  {
   "cell_type": "code",
   "execution_count": 41,
   "metadata": {},
   "outputs": [
    {
     "data": {
      "text/html": [
       "<div>\n",
       "<style scoped>\n",
       "    .dataframe tbody tr th:only-of-type {\n",
       "        vertical-align: middle;\n",
       "    }\n",
       "\n",
       "    .dataframe tbody tr th {\n",
       "        vertical-align: top;\n",
       "    }\n",
       "\n",
       "    .dataframe thead th {\n",
       "        text-align: right;\n",
       "    }\n",
       "</style>\n",
       "<table border=\"1\" class=\"dataframe\">\n",
       "  <thead>\n",
       "    <tr style=\"text-align: right;\">\n",
       "      <th></th>\n",
       "      <th>slug</th>\n",
       "      <th>tag</th>\n",
       "      <th>layer</th>\n",
       "    </tr>\n",
       "  </thead>\n",
       "  <tbody>\n",
       "    <tr>\n",
       "      <th>0</th>\n",
       "      <td>adminer</td>\n",
       "      <td>4</td>\n",
       "      <td>sha256:605ce1bd3f3164f2949a30501cc596f52a72de0...</td>\n",
       "    </tr>\n",
       "    <tr>\n",
       "      <th>1</th>\n",
       "      <td>adminer</td>\n",
       "      <td>4-fastcgi</td>\n",
       "      <td>sha256:605ce1bd3f3164f2949a30501cc596f52a72de0...</td>\n",
       "    </tr>\n",
       "    <tr>\n",
       "      <th>2</th>\n",
       "      <td>adminer</td>\n",
       "      <td>4.2</td>\n",
       "      <td>sha256:7095154754192bfc2306f3b2b841ef82771b7ad...</td>\n",
       "    </tr>\n",
       "    <tr>\n",
       "      <th>3</th>\n",
       "      <td>adminer</td>\n",
       "      <td>4.2-fastcgi</td>\n",
       "      <td>sha256:7095154754192bfc2306f3b2b841ef82771b7ad...</td>\n",
       "    </tr>\n",
       "    <tr>\n",
       "      <th>4</th>\n",
       "      <td>adminer</td>\n",
       "      <td>4.3</td>\n",
       "      <td>sha256:605ce1bd3f3164f2949a30501cc596f52a72de0...</td>\n",
       "    </tr>\n",
       "  </tbody>\n",
       "</table>\n",
       "</div>"
      ],
      "text/plain": [
       "      slug          tag                                              layer\n",
       "0  adminer            4  sha256:605ce1bd3f3164f2949a30501cc596f52a72de0...\n",
       "1  adminer    4-fastcgi  sha256:605ce1bd3f3164f2949a30501cc596f52a72de0...\n",
       "2  adminer          4.2  sha256:7095154754192bfc2306f3b2b841ef82771b7ad...\n",
       "3  adminer  4.2-fastcgi  sha256:7095154754192bfc2306f3b2b841ef82771b7ad...\n",
       "4  adminer          4.3  sha256:605ce1bd3f3164f2949a30501cc596f52a72de0..."
      ]
     },
     "execution_count": 41,
     "metadata": {},
     "output_type": "execute_result"
    }
   ],
   "source": [
    "official_layers.head()"
   ]
  },
  {
   "cell_type": "code",
   "execution_count": 42,
   "metadata": {},
   "outputs": [
    {
     "name": "stderr",
     "output_type": "stream",
     "text": [
      "/usr/local/lib/python3.6/dist-packages/pandas/core/frame.py:4015: SettingWithCopyWarning: \n",
      "A value is trying to be set on a copy of a slice from a DataFrame\n",
      "\n",
      "See the caveats in the documentation: http://pandas.pydata.org/pandas-docs/stable/indexing.html#indexing-view-versus-copy\n",
      "  return super(DataFrame, self).rename(**kwargs)\n"
     ]
    },
    {
     "data": {
      "text/plain": [
       "131"
      ]
     },
     "execution_count": 42,
     "metadata": {},
     "output_type": "execute_result"
    }
   ],
   "source": [
    "official_debian = official_layers.query('slug ==\"debian\"')\n",
    "official_debian.rename(columns={'slug':'slug_debian','tag':'tag_debian','layer':'layer_debian'}, inplace=True)\n",
    "len(official_debian)"
   ]
  },
  {
   "cell_type": "code",
   "execution_count": 43,
   "metadata": {},
   "outputs": [
    {
     "data": {
      "text/html": [
       "<div>\n",
       "<style scoped>\n",
       "    .dataframe tbody tr th:only-of-type {\n",
       "        vertical-align: middle;\n",
       "    }\n",
       "\n",
       "    .dataframe tbody tr th {\n",
       "        vertical-align: top;\n",
       "    }\n",
       "\n",
       "    .dataframe thead th {\n",
       "        text-align: right;\n",
       "    }\n",
       "</style>\n",
       "<table border=\"1\" class=\"dataframe\">\n",
       "  <thead>\n",
       "    <tr style=\"text-align: right;\">\n",
       "      <th></th>\n",
       "      <th>slug</th>\n",
       "      <th>tag</th>\n",
       "      <th>layer</th>\n",
       "    </tr>\n",
       "  </thead>\n",
       "  <tbody>\n",
       "    <tr>\n",
       "      <th>0</th>\n",
       "      <td>adminer</td>\n",
       "      <td>4</td>\n",
       "      <td>sha256:605ce1bd3f3164f2949a30501cc596f52a72de0...</td>\n",
       "    </tr>\n",
       "    <tr>\n",
       "      <th>1</th>\n",
       "      <td>adminer</td>\n",
       "      <td>4-fastcgi</td>\n",
       "      <td>sha256:605ce1bd3f3164f2949a30501cc596f52a72de0...</td>\n",
       "    </tr>\n",
       "  </tbody>\n",
       "</table>\n",
       "</div>"
      ],
      "text/plain": [
       "      slug        tag                                              layer\n",
       "0  adminer          4  sha256:605ce1bd3f3164f2949a30501cc596f52a72de0...\n",
       "1  adminer  4-fastcgi  sha256:605ce1bd3f3164f2949a30501cc596f52a72de0..."
      ]
     },
     "execution_count": 43,
     "metadata": {},
     "output_type": "execute_result"
    }
   ],
   "source": [
    "official_layers.head(2)"
   ]
  },
  {
   "cell_type": "code",
   "execution_count": 44,
   "metadata": {},
   "outputs": [
    {
     "data": {
      "text/html": [
       "<div>\n",
       "<style scoped>\n",
       "    .dataframe tbody tr th:only-of-type {\n",
       "        vertical-align: middle;\n",
       "    }\n",
       "\n",
       "    .dataframe tbody tr th {\n",
       "        vertical-align: top;\n",
       "    }\n",
       "\n",
       "    .dataframe thead th {\n",
       "        text-align: right;\n",
       "    }\n",
       "</style>\n",
       "<table border=\"1\" class=\"dataframe\">\n",
       "  <thead>\n",
       "    <tr style=\"text-align: right;\">\n",
       "      <th></th>\n",
       "      <th>slug_debian</th>\n",
       "      <th>tag_debian</th>\n",
       "      <th>layer_debian</th>\n",
       "    </tr>\n",
       "  </thead>\n",
       "  <tbody>\n",
       "    <tr>\n",
       "      <th>675</th>\n",
       "      <td>debian</td>\n",
       "      <td>6</td>\n",
       "      <td>sha256:069873d23334d65630bbe5e303ced0c68181b69...</td>\n",
       "    </tr>\n",
       "    <tr>\n",
       "      <th>676</th>\n",
       "      <td>debian</td>\n",
       "      <td>6.0.8</td>\n",
       "      <td>sha256:a3ed95caeb02ffe68cdd9fd84406680ae93d633...</td>\n",
       "    </tr>\n",
       "  </tbody>\n",
       "</table>\n",
       "</div>"
      ],
      "text/plain": [
       "    slug_debian tag_debian                                       layer_debian\n",
       "675      debian          6  sha256:069873d23334d65630bbe5e303ced0c68181b69...\n",
       "676      debian      6.0.8  sha256:a3ed95caeb02ffe68cdd9fd84406680ae93d633..."
      ]
     },
     "execution_count": 44,
     "metadata": {},
     "output_type": "execute_result"
    }
   ],
   "source": [
    "official_debian.head(2)"
   ]
  },
  {
   "cell_type": "code",
   "execution_count": 45,
   "metadata": {},
   "outputs": [
    {
     "data": {
      "text/plain": [
       "79085449"
      ]
     },
     "execution_count": 45,
     "metadata": {},
     "output_type": "execute_result"
    }
   ],
   "source": [
    "len(official_layers)*len(official_layers)"
   ]
  },
  {
   "cell_type": "code",
   "execution_count": 46,
   "metadata": {},
   "outputs": [
    {
     "name": "stderr",
     "output_type": "stream",
     "text": [
      "/usr/local/lib/python3.6/dist-packages/ipykernel_launcher.py:2: SettingWithCopyWarning: \n",
      "A value is trying to be set on a copy of a slice from a DataFrame.\n",
      "Try using .loc[row_indexer,col_indexer] = value instead\n",
      "\n",
      "See the caveats in the documentation: http://pandas.pydata.org/pandas-docs/stable/indexing.html#indexing-view-versus-copy\n",
      "  \n"
     ]
    }
   ],
   "source": [
    "official_layers['col_tmp']='1'\n",
    "official_debian['col_tmp']='1'"
   ]
  },
  {
   "cell_type": "code",
   "execution_count": 47,
   "metadata": {},
   "outputs": [
    {
     "data": {
      "text/plain": [
       "1164983"
      ]
     },
     "execution_count": 47,
     "metadata": {},
     "output_type": "execute_result"
    }
   ],
   "source": [
    "df_tmp = (official_layers\n",
    "          .merge(official_debian,\n",
    "                 on='col_tmp',\n",
    "                 how = 'outer')\n",
    "         ).drop('col_tmp',axis=1)\n",
    "len(df_tmp)"
   ]
  },
  {
   "cell_type": "code",
   "execution_count": 48,
   "metadata": {},
   "outputs": [],
   "source": [
    "df_tmp['relation'] = df_tmp.apply(lambda d: d['layer_debian'] in d['layer'], axis=1)"
   ]
  },
  {
   "cell_type": "code",
   "execution_count": 49,
   "metadata": {},
   "outputs": [
    {
     "data": {
      "text/plain": [
       "2595"
      ]
     },
     "execution_count": 49,
     "metadata": {},
     "output_type": "execute_result"
    }
   ],
   "source": [
    "df_tmp.query('relation == True')[['slug','tag','layer']].set_index(['slug','tag']).drop_duplicates().size"
   ]
  },
  {
   "cell_type": "markdown",
   "metadata": {},
   "source": [
    "### Community now"
   ]
  },
  {
   "cell_type": "code",
   "execution_count": 50,
   "metadata": {},
   "outputs": [
    {
     "name": "stderr",
     "output_type": "stream",
     "text": [
      "/usr/local/lib/python3.6/dist-packages/ipykernel_launcher.py:2: SettingWithCopyWarning: \n",
      "A value is trying to be set on a copy of a slice from a DataFrame.\n",
      "Try using .loc[row_indexer,col_indexer] = value instead\n",
      "\n",
      "See the caveats in the documentation: http://pandas.pydata.org/pandas-docs/stable/indexing.html#indexing-view-versus-copy\n",
      "  \n"
     ]
    }
   ],
   "source": [
    "community_layers['col_tmp']='1'\n",
    "official_debian['col_tmp']='1'"
   ]
  },
  {
   "cell_type": "code",
   "execution_count": 51,
   "metadata": {},
   "outputs": [
    {
     "data": {
      "text/plain": [
       "1096470"
      ]
     },
     "execution_count": 51,
     "metadata": {},
     "output_type": "execute_result"
    }
   ],
   "source": [
    "df_tmp_com = (community_layers\n",
    "          .merge(official_debian,\n",
    "                 on='col_tmp',\n",
    "                 how = 'outer')\n",
    "         ).drop('col_tmp',axis=1)\n",
    "len(df_tmp_com)"
   ]
  },
  {
   "cell_type": "code",
   "execution_count": 52,
   "metadata": {},
   "outputs": [],
   "source": [
    "df_tmp_com['relation'] = df_tmp_com.apply(lambda d: d['layer_debian'] in d['layer'], axis=1)"
   ]
  },
  {
   "cell_type": "code",
   "execution_count": 53,
   "metadata": {},
   "outputs": [
    {
     "data": {
      "text/plain": [
       "1582"
      ]
     },
     "execution_count": 53,
     "metadata": {},
     "output_type": "execute_result"
    }
   ],
   "source": [
    "df_tmp_com.query('relation == True')[['slug','tag','layer']].set_index(['slug','tag']).drop_duplicates().size"
   ]
  },
  {
   "cell_type": "code",
   "execution_count": null,
   "metadata": {},
   "outputs": [],
   "source": []
  }
 ],
 "metadata": {
  "kernelspec": {
   "display_name": "Python 3",
   "language": "python",
   "name": "python3"
  },
  "language_info": {
   "codemirror_mode": {
    "name": "ipython",
    "version": 3
   },
   "file_extension": ".py",
   "mimetype": "text/x-python",
   "name": "python",
   "nbconvert_exporter": "python",
   "pygments_lexer": "ipython3",
   "version": "3.6.8"
  }
 },
 "nbformat": 4,
 "nbformat_minor": 2
}
