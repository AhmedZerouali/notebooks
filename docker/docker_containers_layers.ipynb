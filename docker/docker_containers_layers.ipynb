{
 "cells": [
  {
   "cell_type": "code",
   "execution_count": 1,
   "metadata": {},
   "outputs": [],
   "source": [
    "%matplotlib inline\n",
    "import seaborn as sns; \n",
    "import pandas as pd\n",
    "import matplotlib.pyplot as plt\n",
    "from matplotlib import style\n",
    "from matplotlib import gridspec\n",
    "import scipy\n",
    "style.use('ggplot')\n",
    "import datetime\n",
    "from io import StringIO\n",
    "import re\n",
    "import numpy as np\n",
    "from datetime import datetime\n",
    "\n",
    "sns.set_style('whitegrid')\n",
    "sns.set_palette('colorblind')\n",
    "FIG_SIZE = (12, 3)\n",
    "font = {'family' : 'Times New Roman',\n",
    "        'weight' : 'bold',\n",
    "        'size'   : 22}\n",
    "plt.rc('font', **font)\n",
    "plt.rcParams['pdf.fonttype'] = 42\n",
    "plt.rcParams['ps.fonttype'] = 42\n",
    "plt.rcParams['text.usetex'] = True\n",
    "\n",
    "plt.rcParams['xtick.labelsize'] = 18\n",
    "plt.rcParams['ytick.labelsize'] = 22\n",
    "plt.rcParams['axes.labelsize']= 22\n",
    "plt.rcParams['lines.linewidth']= 2\n",
    "plt.rcParams['lines.markersize']= 2"
   ]
  },
  {
   "cell_type": "markdown",
   "metadata": {},
   "source": [
    "# List of all official docker images by 06 March 2018"
   ]
  },
  {
   "cell_type": "code",
   "execution_count": 2,
   "metadata": {},
   "outputs": [
    {
     "data": {
      "text/plain": [
       "14653"
      ]
     },
     "execution_count": 2,
     "metadata": {},
     "output_type": "execute_result"
    }
   ],
   "source": [
    "official_images=pd.read_csv('../docker/csv/docker_tags_official_march.csv', sep=';', dtype=object, index_col=None,  error_bad_lines=False)\n",
    "official_images.head(2)\n",
    "community_images=pd.read_csv('../docker/csv/docker_images_com.csv', sep=',', dtype=object, index_col=None,  error_bad_lines=False)\n",
    "community_images.drop_duplicates(inplace=True)\n",
    "len(official_images)"
   ]
  },
  {
   "cell_type": "code",
   "execution_count": 3,
   "metadata": {},
   "outputs": [],
   "source": [
    "#official_images.query('slug==\"debian\" and last_updated<\"2017-07\"')\n",
    "#official_images['size']=official_images['size'].apply(lambda x: int(x) if x!='None'\n",
    "#                                                     else 0)\n",
    "#official_images.query('size>19164709').sort_values(['size'], ascending=True).groupby('slug').first().sort_values(['size'], ascending=True)"
   ]
  },
  {
   "cell_type": "markdown",
   "metadata": {},
   "source": [
    "# List of all layers of all official docker images available for the Linux OS/amd64 by 23 March 2018\n",
    "Debian have updated their images on 14 March"
   ]
  },
  {
   "cell_type": "code",
   "execution_count": 4,
   "metadata": {},
   "outputs": [
    {
     "data": {
      "text/html": [
       "<div>\n",
       "<style scoped>\n",
       "    .dataframe tbody tr th:only-of-type {\n",
       "        vertical-align: middle;\n",
       "    }\n",
       "\n",
       "    .dataframe tbody tr th {\n",
       "        vertical-align: top;\n",
       "    }\n",
       "\n",
       "    .dataframe thead th {\n",
       "        text-align: right;\n",
       "    }\n",
       "</style>\n",
       "<table border=\"1\" class=\"dataframe\">\n",
       "  <thead>\n",
       "    <tr style=\"text-align: right;\">\n",
       "      <th></th>\n",
       "      <th>slug</th>\n",
       "      <th>tag</th>\n",
       "      <th>created</th>\n",
       "      <th>layer</th>\n",
       "      <th>level</th>\n",
       "    </tr>\n",
       "  </thead>\n",
       "  <tbody>\n",
       "    <tr>\n",
       "      <th>84900</th>\n",
       "      <td>zvelo</td>\n",
       "      <td>zvelo-kibana</td>\n",
       "      <td>2017-03-02T05:56:36.80312356Z</td>\n",
       "      <td>sha256:6decb850d2bc195e977880bcec1d4466ceb6ca0...</td>\n",
       "      <td>2</td>\n",
       "    </tr>\n",
       "    <tr>\n",
       "      <th>84902</th>\n",
       "      <td>zvelo</td>\n",
       "      <td>zvelo-kibana</td>\n",
       "      <td>2017-03-02T05:56:36.80312356Z</td>\n",
       "      <td>sha256:386da49cc1f41c9fb65e5003d17c82ddeb57b97...</td>\n",
       "      <td>4</td>\n",
       "    </tr>\n",
       "  </tbody>\n",
       "</table>\n",
       "</div>"
      ],
      "text/plain": [
       "        slug           tag                        created  \\\n",
       "84900  zvelo  zvelo-kibana  2017-03-02T05:56:36.80312356Z   \n",
       "84902  zvelo  zvelo-kibana  2017-03-02T05:56:36.80312356Z   \n",
       "\n",
       "                                                   layer  level  \n",
       "84900  sha256:6decb850d2bc195e977880bcec1d4466ceb6ca0...      2  \n",
       "84902  sha256:386da49cc1f41c9fb65e5003d17c82ddeb57b97...      4  "
      ]
     },
     "execution_count": 4,
     "metadata": {},
     "output_type": "execute_result"
    }
   ],
   "source": [
    "official_layers=pd.read_csv('../docker/csv/layers_official_23MARCH.csv', sep=';', dtype=object, index_col=None,  error_bad_lines=False)\n",
    "official_layers['level']=official_layers['level'].apply(int)\n",
    "official_layers=official_layers.sort_values('tag', ascending=False)\n",
    "\n",
    "community_layers=pd.read_csv('../docker/csv/layers_community_march_12k.csv', sep=';', dtype=object, index_col=None,  error_bad_lines=False)\n",
    "community_layers['level']=community_layers['level'].apply(int)\n",
    "community_layers=community_layers.sort_values('tag', ascending=False)\n",
    "\n",
    "community_layers.head(2)"
   ]
  },
  {
   "cell_type": "code",
   "execution_count": 5,
   "metadata": {},
   "outputs": [],
   "source": [
    "# Get list of community repo that did not analyze\n",
    "# SKip\n",
    "a=community_layers.groupby(['slug','tag']).count()\n",
    "a=a.reset_index().loc[:,['slug','tag']]\n",
    "a['name']=a['slug']+'/'+a['tag']\n",
    "a['used']='True'\n",
    "a=a.reset_index().loc[:,['name','used']]\n",
    "df_comm=community_images.set_index('name').merge(\n",
    "              a.set_index('name'), \n",
    "              left_index=True, \n",
    "              right_index=True, how='outer')\n",
    "df_comm=df_comm.query('used!=\"True\"')\n",
    "df_comm['popularity']=df_comm['popularity'].apply(int)\n",
    "df_comm=df_comm.sort_values('popularity', ascending=False)\n",
    "df_comm=df_comm.query('popularity>500')\n",
    "df_comm=df_comm.loc[:,[]]\n",
    "df_comm.to_csv('../docker/csv/docker_images_com_12k.csv', index=True)"
   ]
  },
  {
   "cell_type": "code",
   "execution_count": 6,
   "metadata": {},
   "outputs": [],
   "source": [
    "# Let's drop duplicates\n",
    "official_layers=official_layers.set_index(['slug','tag']).drop_duplicates(keep='first')\n",
    "community_layers=community_layers.set_index(['slug','tag']).drop_duplicates(keep='first')"
   ]
  },
  {
   "cell_type": "code",
   "execution_count": 7,
   "metadata": {},
   "outputs": [
    {
     "data": {
      "text/plain": [
       "('official layers:',\n",
       " 93914,\n",
       " 'official repositories',\n",
       " 124,\n",
       " 'official images:',\n",
       " 14653)"
      ]
     },
     "execution_count": 7,
     "metadata": {},
     "output_type": "execute_result"
    }
   ],
   "source": [
    "# number of layers; number of repositories; number of images | OFFICIAL\n",
    "('official layers:',len(official_layers),\n",
    "'official repositories',len(official_images.\n",
    "   groupby('slug').\n",
    "   count()),\n",
    "'official images:', len(official_images.\n",
    "   groupby(['slug','tag']).\n",
    "   count()),\n",
    ")"
   ]
  },
  {
   "cell_type": "code",
   "execution_count": 8,
   "metadata": {},
   "outputs": [
    {
     "data": {
      "text/plain": [
       "('community layers:',\n",
       " 114003,\n",
       " 'community repositories',\n",
       " 6229,\n",
       " 'community images:',\n",
       " 8371)"
      ]
     },
     "execution_count": 8,
     "metadata": {},
     "output_type": "execute_result"
    }
   ],
   "source": [
    "# number of layers; number of repositories; number of images | COMMUNITY\n",
    "('community layers:',len(community_layers),\n",
    "'community repositories',len(community_layers.\n",
    "   groupby('slug').\n",
    "   count()),\n",
    "'community images:', len(community_layers.\n",
    "   groupby(['slug','tag']).\n",
    "   count()),\n",
    ")"
   ]
  },
  {
   "cell_type": "code",
   "execution_count": 9,
   "metadata": {},
   "outputs": [],
   "source": [
    "# SKip this, but I will come back to it\n",
    "def first_last(df):\n",
    "    return df.ix[[0, -1]]\n",
    "\n",
    "# get uniq Debian last layers\n",
    "debian_layers=(official_layers\n",
    "               .query('slug==\"debian\"')\n",
    "               .query('layer!=\"sha256:a3ed95caeb02ffe68cdd9fd84406680ae93d633cb16422d00e8a7c22955b46d4\"')\n",
    "              )\n",
    "#a=debian_layers.sort_values('level', ascending=True).groupby(['slug','tag'], level=0, group_keys=False).apply(first_last)\n",
    "#a.tail()"
   ]
  },
  {
   "cell_type": "code",
   "execution_count": 10,
   "metadata": {},
   "outputs": [
    {
     "data": {
      "text/plain": [
       "131"
      ]
     },
     "execution_count": 10,
     "metadata": {},
     "output_type": "execute_result"
    }
   ],
   "source": [
    "# get uniq Debian last layers\n",
    "debian_layers=(official_layers\n",
    "               .query('slug==\"debian\"')\n",
    "               .query('layer!=\"sha256:a3ed95caeb02ffe68cdd9fd84406680ae93d633cb16422d00e8a7c22955b46d4\"')\n",
    "              )\n",
    "debian_layers=debian_layers.sort_values('level', ascending=True).groupby(['slug','tag']).last().reset_index()\n",
    "debian_layers=debian_layers.sort_values('tag', ascending=False).set_index(['slug','tag']).drop_duplicates().reset_index()\n",
    "debian_layers.rename(columns = {'slug':'debian','tag':'debian_tag',\n",
    "                           'created':'debian_created','level':'debian_level'}, inplace=True)\n",
    "len(debian_layers)"
   ]
  },
  {
   "cell_type": "code",
   "execution_count": 9,
   "metadata": {},
   "outputs": [
    {
     "data": {
      "text/plain": [
       "869"
      ]
     },
     "execution_count": 9,
     "metadata": {},
     "output_type": "execute_result"
    }
   ],
   "source": [
    "# get uniq Debian last layers\n",
    "node_layers=(official_layers\n",
    "               .query('slug==\"node\"')\n",
    "               .query('layer!=\"sha256:a3ed95caeb02ffe68cdd9fd84406680ae93d633cb16422d00e8a7c22955b46d4\"')\n",
    "              )\n",
    "node_layers=node_layers.sort_values('level', ascending=True).groupby(['slug','tag']).last().reset_index()\n",
    "node_layers=node_layers.sort_values('tag', ascending=False).set_index(['slug','tag']).drop_duplicates().reset_index()\n",
    "node_layers.rename(columns = {'slug':'debian','tag':'debian_tag',\n",
    "                           'created':'debian_created','level':'debian_level'}, inplace=True)\n",
    "len(node_layers)"
   ]
  },
  {
   "cell_type": "code",
   "execution_count": 21,
   "metadata": {},
   "outputs": [
    {
     "data": {
      "text/plain": [
       "962"
      ]
     },
     "execution_count": 21,
     "metadata": {},
     "output_type": "execute_result"
    }
   ],
   "source": [
    "# Get tags that use debian: Official\n",
    "df_merge=(official_layers.reset_index()\n",
    "          .set_index('layer')\n",
    "          .merge(\n",
    "              \n",
    "              .set_index('layer'), \n",
    "              left_index=True, \n",
    "              right_index=True)\n",
    "         )\n",
    "df_merge.reset_index(inplace=True)\n",
    "df_merge=df_merge.drop_duplicates(['slug','tag'])\n",
    "len(df_merge)"
   ]
  },
  {
   "cell_type": "code",
   "execution_count": 12,
   "metadata": {},
   "outputs": [],
   "source": [
    "# In case we want to check if the first and the last layer exist in the layers list\n",
    "#len(df_com.groupby(['slug','tag']).count().query('layer >1'))"
   ]
  },
  {
   "cell_type": "code",
   "execution_count": 16,
   "metadata": {},
   "outputs": [
    {
     "data": {
      "text/html": [
       "<div>\n",
       "<style scoped>\n",
       "    .dataframe tbody tr th:only-of-type {\n",
       "        vertical-align: middle;\n",
       "    }\n",
       "\n",
       "    .dataframe tbody tr th {\n",
       "        vertical-align: top;\n",
       "    }\n",
       "\n",
       "    .dataframe thead th {\n",
       "        text-align: right;\n",
       "    }\n",
       "</style>\n",
       "<table border=\"1\" class=\"dataframe\">\n",
       "  <thead>\n",
       "    <tr style=\"text-align: right;\">\n",
       "      <th></th>\n",
       "      <th>layer</th>\n",
       "      <th>tag</th>\n",
       "      <th>created</th>\n",
       "      <th>level</th>\n",
       "      <th>debian</th>\n",
       "      <th>debian_tag</th>\n",
       "      <th>debian_created</th>\n",
       "      <th>debian_level</th>\n",
       "    </tr>\n",
       "    <tr>\n",
       "      <th>slug</th>\n",
       "      <th></th>\n",
       "      <th></th>\n",
       "      <th></th>\n",
       "      <th></th>\n",
       "      <th></th>\n",
       "      <th></th>\n",
       "      <th></th>\n",
       "      <th></th>\n",
       "    </tr>\n",
       "  </thead>\n",
       "  <tbody>\n",
       "    <tr>\n",
       "      <th>gcc</th>\n",
       "      <td>1</td>\n",
       "      <td>1</td>\n",
       "      <td>1</td>\n",
       "      <td>1</td>\n",
       "      <td>1</td>\n",
       "      <td>1</td>\n",
       "      <td>1</td>\n",
       "      <td>1</td>\n",
       "    </tr>\n",
       "    <tr>\n",
       "      <th>ghost</th>\n",
       "      <td>75</td>\n",
       "      <td>75</td>\n",
       "      <td>75</td>\n",
       "      <td>75</td>\n",
       "      <td>75</td>\n",
       "      <td>75</td>\n",
       "      <td>75</td>\n",
       "      <td>75</td>\n",
       "    </tr>\n",
       "    <tr>\n",
       "      <th>mongo-express</th>\n",
       "      <td>17</td>\n",
       "      <td>17</td>\n",
       "      <td>17</td>\n",
       "      <td>17</td>\n",
       "      <td>17</td>\n",
       "      <td>17</td>\n",
       "      <td>17</td>\n",
       "      <td>17</td>\n",
       "    </tr>\n",
       "    <tr>\n",
       "      <th>node</th>\n",
       "      <td>1060</td>\n",
       "      <td>1060</td>\n",
       "      <td>1060</td>\n",
       "      <td>1060</td>\n",
       "      <td>1060</td>\n",
       "      <td>1060</td>\n",
       "      <td>1060</td>\n",
       "      <td>1060</td>\n",
       "    </tr>\n",
       "  </tbody>\n",
       "</table>\n",
       "</div>"
      ],
      "text/plain": [
       "               layer   tag  created  level  debian  debian_tag  \\\n",
       "slug                                                             \n",
       "gcc                1     1        1      1       1           1   \n",
       "ghost             75    75       75     75      75          75   \n",
       "mongo-express     17    17       17     17      17          17   \n",
       "node            1060  1060     1060   1060    1060        1060   \n",
       "\n",
       "               debian_created  debian_level  \n",
       "slug                                         \n",
       "gcc                         1             1  \n",
       "ghost                      75            75  \n",
       "mongo-express              17            17  \n",
       "node                     1060          1060  "
      ]
     },
     "execution_count": 16,
     "metadata": {},
     "output_type": "execute_result"
    }
   ],
   "source": [
    "#Unique number of tags\n",
    "len(df_merge.groupby(['slug']).count()"
   ]
  },
  {
   "cell_type": "code",
   "execution_count": 14,
   "metadata": {},
   "outputs": [],
   "source": [
    "#df_merge.loc[:,['slug','tag']].to_csv('../docker/csv/docker_tag_official_use_debian_uniq.csv', sep=';', index=False)"
   ]
  },
  {
   "cell_type": "code",
   "execution_count": 25,
   "metadata": {},
   "outputs": [
    {
     "data": {
      "text/plain": [
       "304"
      ]
     },
     "execution_count": 25,
     "metadata": {},
     "output_type": "execute_result"
    }
   ],
   "source": [
    "# Get tags that use debian; community\n",
    "df_com=(community_layers.reset_index()\n",
    "          .set_index('layer')\n",
    "          .merge(\n",
    "              debian_layers.set_index('layer'), \n",
    "              left_index=True, \n",
    "              right_index=True)\n",
    "         )\n",
    "df_com.reset_index(inplace=True)\n",
    "len(df_com)"
   ]
  },
  {
   "cell_type": "code",
   "execution_count": 26,
   "metadata": {},
   "outputs": [
    {
     "data": {
      "text/plain": [
       "285"
      ]
     },
     "execution_count": 26,
     "metadata": {},
     "output_type": "execute_result"
    }
   ],
   "source": [
    "# Unique number of tags\n",
    "#df_merge.sort_values('created', ascending=False)\n",
    "len(df_com.groupby(['slug','tag']).count())"
   ]
  },
  {
   "cell_type": "code",
   "execution_count": 17,
   "metadata": {},
   "outputs": [],
   "source": [
    "# To get tags of comm that use debian: skip\n",
    "#a=df_com.groupby(['slug','tag']).count()\n",
    "#a.reset_index().loc[:,['slug','tag']].to_csv('../docker/csv/docker_tag_community_use_debian_uniq_part2.csv', sep=';', index=False)"
   ]
  },
  {
   "cell_type": "code",
   "execution_count": 18,
   "metadata": {},
   "outputs": [],
   "source": [
    "#just debian tags: skip\n",
    "#a=df_com.groupby('debian_tag').count().sort_values('debian_level', ascending=False).reset_index().loc[:,['debian_tag']].set_index('debian_tag')\n",
    "#a.to_csv('../../debia_tags.csv', sep=';', index=True)"
   ]
  },
  {
   "cell_type": "code",
   "execution_count": 19,
   "metadata": {},
   "outputs": [],
   "source": [
    "df_test=df_com\n",
    "df_test['debian_tag']=df_test['debian_tag'].apply(lambda x: 'jessie' if x.startswith('8') \n",
    "                                    else 'jessie' if 'jessie' in x\n",
    "                                    else 'stretch' if x.startswith('9') \n",
    "                                   else 'stretch' if 'stretch' in x\n",
    "                                   else 'buster' if 'buster' in x\n",
    "                                   else 'wheezy' if x.startswith('7') \n",
    "                                   else 'wheezy' if 'wheezy' in x\n",
    "                                   else x)"
   ]
  },
  {
   "cell_type": "code",
   "execution_count": 20,
   "metadata": {},
   "outputs": [
    {
     "data": {
      "text/html": [
       "<div>\n",
       "<style scoped>\n",
       "    .dataframe tbody tr th:only-of-type {\n",
       "        vertical-align: middle;\n",
       "    }\n",
       "\n",
       "    .dataframe tbody tr th {\n",
       "        vertical-align: top;\n",
       "    }\n",
       "\n",
       "    .dataframe thead th {\n",
       "        text-align: right;\n",
       "    }\n",
       "</style>\n",
       "<table border=\"1\" class=\"dataframe\">\n",
       "  <thead>\n",
       "    <tr style=\"text-align: right;\">\n",
       "      <th></th>\n",
       "      <th>layer</th>\n",
       "      <th>slug</th>\n",
       "      <th>tag</th>\n",
       "      <th>created</th>\n",
       "      <th>level</th>\n",
       "      <th>debian</th>\n",
       "      <th>debian_created</th>\n",
       "      <th>debian_level</th>\n",
       "      <th>cumsum</th>\n",
       "    </tr>\n",
       "    <tr>\n",
       "      <th>debian_tag</th>\n",
       "      <th></th>\n",
       "      <th></th>\n",
       "      <th></th>\n",
       "      <th></th>\n",
       "      <th></th>\n",
       "      <th></th>\n",
       "      <th></th>\n",
       "      <th></th>\n",
       "      <th></th>\n",
       "    </tr>\n",
       "  </thead>\n",
       "  <tbody>\n",
       "    <tr>\n",
       "      <th>jessie</th>\n",
       "      <td>1150</td>\n",
       "      <td>1150</td>\n",
       "      <td>1150</td>\n",
       "      <td>1150</td>\n",
       "      <td>1150</td>\n",
       "      <td>1150</td>\n",
       "      <td>1150</td>\n",
       "      <td>1150</td>\n",
       "      <td>1150</td>\n",
       "    </tr>\n",
       "    <tr>\n",
       "      <th>stretch</th>\n",
       "      <td>378</td>\n",
       "      <td>378</td>\n",
       "      <td>378</td>\n",
       "      <td>378</td>\n",
       "      <td>378</td>\n",
       "      <td>378</td>\n",
       "      <td>378</td>\n",
       "      <td>378</td>\n",
       "      <td>1528</td>\n",
       "    </tr>\n",
       "    <tr>\n",
       "      <th>wheezy</th>\n",
       "      <td>37</td>\n",
       "      <td>37</td>\n",
       "      <td>37</td>\n",
       "      <td>37</td>\n",
       "      <td>37</td>\n",
       "      <td>37</td>\n",
       "      <td>37</td>\n",
       "      <td>37</td>\n",
       "      <td>1565</td>\n",
       "    </tr>\n",
       "    <tr>\n",
       "      <th>testing</th>\n",
       "      <td>6</td>\n",
       "      <td>6</td>\n",
       "      <td>6</td>\n",
       "      <td>6</td>\n",
       "      <td>6</td>\n",
       "      <td>6</td>\n",
       "      <td>6</td>\n",
       "      <td>6</td>\n",
       "      <td>1571</td>\n",
       "    </tr>\n",
       "    <tr>\n",
       "      <th>sid</th>\n",
       "      <td>5</td>\n",
       "      <td>5</td>\n",
       "      <td>5</td>\n",
       "      <td>5</td>\n",
       "      <td>5</td>\n",
       "      <td>5</td>\n",
       "      <td>5</td>\n",
       "      <td>5</td>\n",
       "      <td>1576</td>\n",
       "    </tr>\n",
       "    <tr>\n",
       "      <th>stable</th>\n",
       "      <td>5</td>\n",
       "      <td>5</td>\n",
       "      <td>5</td>\n",
       "      <td>5</td>\n",
       "      <td>5</td>\n",
       "      <td>5</td>\n",
       "      <td>5</td>\n",
       "      <td>5</td>\n",
       "      <td>1581</td>\n",
       "    </tr>\n",
       "    <tr>\n",
       "      <th>testing-20170907</th>\n",
       "      <td>4</td>\n",
       "      <td>4</td>\n",
       "      <td>4</td>\n",
       "      <td>4</td>\n",
       "      <td>4</td>\n",
       "      <td>4</td>\n",
       "      <td>4</td>\n",
       "      <td>4</td>\n",
       "      <td>1585</td>\n",
       "    </tr>\n",
       "    <tr>\n",
       "      <th>stable-slim</th>\n",
       "      <td>4</td>\n",
       "      <td>4</td>\n",
       "      <td>4</td>\n",
       "      <td>4</td>\n",
       "      <td>4</td>\n",
       "      <td>4</td>\n",
       "      <td>4</td>\n",
       "      <td>4</td>\n",
       "      <td>1589</td>\n",
       "    </tr>\n",
       "    <tr>\n",
       "      <th>testing-20170723</th>\n",
       "      <td>3</td>\n",
       "      <td>3</td>\n",
       "      <td>3</td>\n",
       "      <td>3</td>\n",
       "      <td>3</td>\n",
       "      <td>3</td>\n",
       "      <td>3</td>\n",
       "      <td>3</td>\n",
       "      <td>1592</td>\n",
       "    </tr>\n",
       "    <tr>\n",
       "      <th>buster</th>\n",
       "      <td>3</td>\n",
       "      <td>3</td>\n",
       "      <td>3</td>\n",
       "      <td>3</td>\n",
       "      <td>3</td>\n",
       "      <td>3</td>\n",
       "      <td>3</td>\n",
       "      <td>3</td>\n",
       "      <td>1595</td>\n",
       "    </tr>\n",
       "    <tr>\n",
       "      <th>sid-20180213</th>\n",
       "      <td>2</td>\n",
       "      <td>2</td>\n",
       "      <td>2</td>\n",
       "      <td>2</td>\n",
       "      <td>2</td>\n",
       "      <td>2</td>\n",
       "      <td>2</td>\n",
       "      <td>2</td>\n",
       "      <td>1597</td>\n",
       "    </tr>\n",
       "    <tr>\n",
       "      <th>sid-20171009</th>\n",
       "      <td>2</td>\n",
       "      <td>2</td>\n",
       "      <td>2</td>\n",
       "      <td>2</td>\n",
       "      <td>2</td>\n",
       "      <td>2</td>\n",
       "      <td>2</td>\n",
       "      <td>2</td>\n",
       "      <td>1599</td>\n",
       "    </tr>\n",
       "    <tr>\n",
       "      <th>stable-20170620</th>\n",
       "      <td>1</td>\n",
       "      <td>1</td>\n",
       "      <td>1</td>\n",
       "      <td>1</td>\n",
       "      <td>1</td>\n",
       "      <td>1</td>\n",
       "      <td>1</td>\n",
       "      <td>1</td>\n",
       "      <td>1600</td>\n",
       "    </tr>\n",
       "    <tr>\n",
       "      <th>stable-20170606</th>\n",
       "      <td>1</td>\n",
       "      <td>1</td>\n",
       "      <td>1</td>\n",
       "      <td>1</td>\n",
       "      <td>1</td>\n",
       "      <td>1</td>\n",
       "      <td>1</td>\n",
       "      <td>1</td>\n",
       "      <td>1601</td>\n",
       "    </tr>\n",
       "    <tr>\n",
       "      <th>squeeze</th>\n",
       "      <td>1</td>\n",
       "      <td>1</td>\n",
       "      <td>1</td>\n",
       "      <td>1</td>\n",
       "      <td>1</td>\n",
       "      <td>1</td>\n",
       "      <td>1</td>\n",
       "      <td>1</td>\n",
       "      <td>1602</td>\n",
       "    </tr>\n",
       "    <tr>\n",
       "      <th>testing-20170620</th>\n",
       "      <td>1</td>\n",
       "      <td>1</td>\n",
       "      <td>1</td>\n",
       "      <td>1</td>\n",
       "      <td>1</td>\n",
       "      <td>1</td>\n",
       "      <td>1</td>\n",
       "      <td>1</td>\n",
       "      <td>1603</td>\n",
       "    </tr>\n",
       "    <tr>\n",
       "      <th>sid-20171210</th>\n",
       "      <td>1</td>\n",
       "      <td>1</td>\n",
       "      <td>1</td>\n",
       "      <td>1</td>\n",
       "      <td>1</td>\n",
       "      <td>1</td>\n",
       "      <td>1</td>\n",
       "      <td>1</td>\n",
       "      <td>1604</td>\n",
       "    </tr>\n",
       "    <tr>\n",
       "      <th>testing-20171009</th>\n",
       "      <td>1</td>\n",
       "      <td>1</td>\n",
       "      <td>1</td>\n",
       "      <td>1</td>\n",
       "      <td>1</td>\n",
       "      <td>1</td>\n",
       "      <td>1</td>\n",
       "      <td>1</td>\n",
       "      <td>1605</td>\n",
       "    </tr>\n",
       "    <tr>\n",
       "      <th>testing-20180213</th>\n",
       "      <td>1</td>\n",
       "      <td>1</td>\n",
       "      <td>1</td>\n",
       "      <td>1</td>\n",
       "      <td>1</td>\n",
       "      <td>1</td>\n",
       "      <td>1</td>\n",
       "      <td>1</td>\n",
       "      <td>1606</td>\n",
       "    </tr>\n",
       "    <tr>\n",
       "      <th>stable-backports</th>\n",
       "      <td>1</td>\n",
       "      <td>1</td>\n",
       "      <td>1</td>\n",
       "      <td>1</td>\n",
       "      <td>1</td>\n",
       "      <td>1</td>\n",
       "      <td>1</td>\n",
       "      <td>1</td>\n",
       "      <td>1607</td>\n",
       "    </tr>\n",
       "  </tbody>\n",
       "</table>\n",
       "</div>"
      ],
      "text/plain": [
       "                  layer  slug   tag  created  level  debian  debian_created  \\\n",
       "debian_tag                                                                    \n",
       "jessie             1150  1150  1150     1150   1150    1150            1150   \n",
       "stretch             378   378   378      378    378     378             378   \n",
       "wheezy               37    37    37       37     37      37              37   \n",
       "testing               6     6     6        6      6       6               6   \n",
       "sid                   5     5     5        5      5       5               5   \n",
       "stable                5     5     5        5      5       5               5   \n",
       "testing-20170907      4     4     4        4      4       4               4   \n",
       "stable-slim           4     4     4        4      4       4               4   \n",
       "testing-20170723      3     3     3        3      3       3               3   \n",
       "buster                3     3     3        3      3       3               3   \n",
       "sid-20180213          2     2     2        2      2       2               2   \n",
       "sid-20171009          2     2     2        2      2       2               2   \n",
       "stable-20170620       1     1     1        1      1       1               1   \n",
       "stable-20170606       1     1     1        1      1       1               1   \n",
       "squeeze               1     1     1        1      1       1               1   \n",
       "testing-20170620      1     1     1        1      1       1               1   \n",
       "sid-20171210          1     1     1        1      1       1               1   \n",
       "testing-20171009      1     1     1        1      1       1               1   \n",
       "testing-20180213      1     1     1        1      1       1               1   \n",
       "stable-backports      1     1     1        1      1       1               1   \n",
       "\n",
       "                  debian_level  cumsum  \n",
       "debian_tag                              \n",
       "jessie                    1150    1150  \n",
       "stretch                    378    1528  \n",
       "wheezy                      37    1565  \n",
       "testing                      6    1571  \n",
       "sid                          5    1576  \n",
       "stable                       5    1581  \n",
       "testing-20170907             4    1585  \n",
       "stable-slim                  4    1589  \n",
       "testing-20170723             3    1592  \n",
       "buster                       3    1595  \n",
       "sid-20180213                 2    1597  \n",
       "sid-20171009                 2    1599  \n",
       "stable-20170620              1    1600  \n",
       "stable-20170606              1    1601  \n",
       "squeeze                      1    1602  \n",
       "testing-20170620             1    1603  \n",
       "sid-20171210                 1    1604  \n",
       "testing-20171009             1    1605  \n",
       "testing-20180213             1    1606  \n",
       "stable-backports             1    1607  "
      ]
     },
     "execution_count": 20,
     "metadata": {},
     "output_type": "execute_result"
    }
   ],
   "source": [
    "a=df_test.groupby('debian_tag').count().sort_values('layer', ascending=False)\n",
    "a['cumsum']=a['layer'].cumsum()\n",
    "a#.query('debian_tag==\"squeeze\"')"
   ]
  },
  {
   "cell_type": "code",
   "execution_count": 21,
   "metadata": {},
   "outputs": [],
   "source": [
    "# Just forget about it\n",
    "#debian_layers.query('slug==\"debian\" and tag==\"8.0\"').layer.values\n",
    "#official_layers.query('layer==\"sha256:e5ad7970bc69d2ba62d2bbb4b80627273350e1982ff43bc1ca04a3215bc6da5b\"')\n",
    "#test=official_layers.query('slug==\"debian\" and (tag==\"squeeze\" or tag==\"6\" or tag==\"8.0\")')\n",
    "#test.sort_values(['tag'], ascending=False).set_index(['slug','tag']).drop_duplicates()"
   ]
  },
  {
   "cell_type": "code",
   "execution_count": 22,
   "metadata": {},
   "outputs": [],
   "source": [
    "# Skip\n",
    "#a=(official_layers.\n",
    "#   query('layer==\"sha256:3e731ddb7fc902c6fc10f00cd7f99f11d63914692bd8c2816a29e6d016353932\"').\n",
    "#   sort_values(['created'], ascending=True)\n",
    "#  )\n",
    "#a"
   ]
  },
  {
   "cell_type": "code",
   "execution_count": 23,
   "metadata": {},
   "outputs": [],
   "source": [
    "# Which layers are the most used in GENERAL ( not only debian)\n",
    "#a=(official_layers.\n",
    "#   sort_values(['tag'], ascending=False).\n",
    "#   set_index(['slug','tag']).drop_duplicates().\n",
    "#   reset_index().\n",
    "#   #query('layer!=\"sha256:a3ed95caeb02ffe68cdd9fd84406680ae93d633cb16422d00e8a7c22955b46d4\"').\n",
    "#   groupby(['layer']).\n",
    "#   count()\n",
    "#  )\n",
    "#a.sort_values(['level'], ascending=False)#.query('created==\"2015-01-01T06:36:40.670879228Z\"')"
   ]
  },
  {
   "cell_type": "code",
   "execution_count": 24,
   "metadata": {},
   "outputs": [],
   "source": [
    "# Leave this for later: identify which tags are used ! IN GENERAL ( not only debian)"
   ]
  },
  {
   "cell_type": "code",
   "execution_count": null,
   "metadata": {},
   "outputs": [],
   "source": []
  }
 ],
 "metadata": {
  "kernelspec": {
   "display_name": "Python 3",
   "language": "python",
   "name": "python3"
  },
  "language_info": {
   "codemirror_mode": {
    "name": "ipython",
    "version": 3
   },
   "file_extension": ".py",
   "mimetype": "text/x-python",
   "name": "python",
   "nbconvert_exporter": "python",
   "pygments_lexer": "ipython3",
   "version": "3.5.1+"
  }
 },
 "nbformat": 4,
 "nbformat_minor": 2
}
