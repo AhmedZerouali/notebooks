{
 "cells": [
  {
   "cell_type": "code",
   "execution_count": 1,
   "metadata": {},
   "outputs": [],
   "source": [
    "%matplotlib inline\n",
    "import seaborn as sns; #sns.set(style=\"ticks\", color_codes=True)\n",
    "import pandas as pd\n",
    "import matplotlib.pyplot as plt\n",
    "from matplotlib import style\n",
    "from matplotlib import gridspec\n",
    "import scipy\n",
    "style.use('fast')\n",
    "from datetime import datetime\n",
    "from io import StringIO\n",
    "import re\n",
    "import numpy as np\n",
    "from datetime import datetime\n",
    "import os\n",
    "import apt_pkg\n",
    "apt_pkg.init_system()"
   ]
  },
  {
   "cell_type": "code",
   "execution_count": 2,
   "metadata": {},
   "outputs": [],
   "source": [
    "sns.set_style('ticks',{'legend.frameon':True} )\n",
    "sns.set_palette('colorblind')\n",
    "FIG_SIZE = (12, 3)\n",
    "font = {'family' : 'Times New Roman',\n",
    "        'weight' : 'bold',\n",
    "        'size'   : 22}\n",
    "plt.rc('font', **font)\n",
    "plt.rcParams['pdf.fonttype'] = 42\n",
    "plt.rcParams['ps.fonttype'] = 42\n",
    "plt.rcParams['text.usetex'] = True\n",
    "\n",
    "plt.rcParams['xtick.labelsize'] = 22\n",
    "plt.rcParams['ytick.labelsize'] = 22\n",
    "plt.rcParams['axes.labelsize']= 22\n",
    "flatui = [sns.xkcd_rgb[\"medium green\"], \"orange\", sns.xkcd_rgb[\"medium purple\"], \"#e74c3c\", \"#34495e\", \"#2ecc71\"]"
   ]
  },
  {
   "cell_type": "markdown",
   "metadata": {},
   "source": [
    "# Packages in Debian Archive"
   ]
  },
  {
   "cell_type": "code",
   "execution_count": 302,
   "metadata": {},
   "outputs": [],
   "source": [
    "debian_packages_order=pd.read_csv('../../docker/csv/used/debian_packages_order_4mai.csv', sep=\";\")"
   ]
  },
  {
   "cell_type": "code",
   "execution_count": 186,
   "metadata": {},
   "outputs": [
    {
     "data": {
      "text/plain": [
       "115195"
      ]
     },
     "execution_count": 186,
     "metadata": {},
     "output_type": "execute_result"
    }
   ],
   "source": [
    "debian_packages_order = debian_packages_order[['package','version','source','source_version','latest']]\n",
    "debian_packages_order.drop_duplicates(inplace=True)\n",
    "len(debian_packages_order)"
   ]
  },
  {
   "cell_type": "code",
   "execution_count": 303,
   "metadata": {},
   "outputs": [
    {
     "data": {
      "text/html": [
       "<div>\n",
       "<style scoped>\n",
       "    .dataframe tbody tr th:only-of-type {\n",
       "        vertical-align: middle;\n",
       "    }\n",
       "\n",
       "    .dataframe tbody tr th {\n",
       "        vertical-align: top;\n",
       "    }\n",
       "\n",
       "    .dataframe thead th {\n",
       "        text-align: right;\n",
       "    }\n",
       "</style>\n",
       "<table border=\"1\" class=\"dataframe\">\n",
       "  <thead>\n",
       "    <tr style=\"text-align: right;\">\n",
       "      <th></th>\n",
       "      <th>package</th>\n",
       "      <th>release_snapshot</th>\n",
       "      <th>version</th>\n",
       "      <th>date</th>\n",
       "      <th>source</th>\n",
       "      <th>source_version</th>\n",
       "      <th>order_n</th>\n",
       "      <th>version_order</th>\n",
       "      <th>last_order</th>\n",
       "      <th>latest</th>\n",
       "    </tr>\n",
       "  </thead>\n",
       "  <tbody>\n",
       "    <tr>\n",
       "      <th>0</th>\n",
       "      <td>abiword</td>\n",
       "      <td>buster</td>\n",
       "      <td>3.0.2-3</td>\n",
       "      <td>20170828</td>\n",
       "      <td>abiword</td>\n",
       "      <td>3.0.2-3</td>\n",
       "      <td>26.0</td>\n",
       "      <td>1</td>\n",
       "      <td>5</td>\n",
       "      <td>3.0.2-6</td>\n",
       "    </tr>\n",
       "    <tr>\n",
       "      <th>1</th>\n",
       "      <td>abiword</td>\n",
       "      <td>buster</td>\n",
       "      <td>3.0.2-3+b1</td>\n",
       "      <td>20170908</td>\n",
       "      <td>abiword</td>\n",
       "      <td>3.0.2-3</td>\n",
       "      <td>27.0</td>\n",
       "      <td>2</td>\n",
       "      <td>5</td>\n",
       "      <td>3.0.2-6</td>\n",
       "    </tr>\n",
       "  </tbody>\n",
       "</table>\n",
       "</div>"
      ],
      "text/plain": [
       "   package release_snapshot     version      date   source source_version  \\\n",
       "0  abiword           buster     3.0.2-3  20170828  abiword        3.0.2-3   \n",
       "1  abiword           buster  3.0.2-3+b1  20170908  abiword        3.0.2-3   \n",
       "\n",
       "   order_n  version_order  last_order   latest  \n",
       "0     26.0              1           5  3.0.2-6  \n",
       "1     27.0              2           5  3.0.2-6  "
      ]
     },
     "execution_count": 303,
     "metadata": {},
     "output_type": "execute_result"
    }
   ],
   "source": [
    "debian_packages_order.head(2)"
   ]
  },
  {
   "cell_type": "code",
   "execution_count": 188,
   "metadata": {},
   "outputs": [],
   "source": [
    "# Get the source version of the latest version package\n",
    "debian_packages_order = (debian_packages_order\n",
    "                         .set_index(['package','latest'])\n",
    "                         .merge(\n",
    "                             debian_packages_order\n",
    "                             .drop(['source','latest'], axis=1)\n",
    "                             .rename(columns={'version':'latest','source_version':'latest_source_version'})\n",
    "                             .set_index(['package','latest']),\n",
    "                             left_index = True,\n",
    "                             right_index = True,\n",
    "                             how = 'left'\n",
    "                         )\n",
    "                         .dropna().reset_index()\n",
    "                        )\n",
    "debian_packages_order = debian_packages_order[['source','source_version','latest_source_version']].drop_duplicates()"
   ]
  },
  {
   "cell_type": "code",
   "execution_count": 189,
   "metadata": {},
   "outputs": [
    {
     "data": {
      "text/html": [
       "<div>\n",
       "<style scoped>\n",
       "    .dataframe tbody tr th:only-of-type {\n",
       "        vertical-align: middle;\n",
       "    }\n",
       "\n",
       "    .dataframe tbody tr th {\n",
       "        vertical-align: top;\n",
       "    }\n",
       "\n",
       "    .dataframe thead th {\n",
       "        text-align: right;\n",
       "    }\n",
       "</style>\n",
       "<table border=\"1\" class=\"dataframe\">\n",
       "  <thead>\n",
       "    <tr style=\"text-align: right;\">\n",
       "      <th></th>\n",
       "      <th>source</th>\n",
       "      <th>source_version</th>\n",
       "      <th>latest_source_version</th>\n",
       "    </tr>\n",
       "  </thead>\n",
       "  <tbody>\n",
       "    <tr>\n",
       "      <th>0</th>\n",
       "      <td>abiword</td>\n",
       "      <td>2.9.2+svn20120603-8</td>\n",
       "      <td>3.0.0-8</td>\n",
       "    </tr>\n",
       "    <tr>\n",
       "      <th>1</th>\n",
       "      <td>abiword</td>\n",
       "      <td>3.0.0-4</td>\n",
       "      <td>3.0.0-8</td>\n",
       "    </tr>\n",
       "    <tr>\n",
       "      <th>5</th>\n",
       "      <td>abiword</td>\n",
       "      <td>3.0.0-5</td>\n",
       "      <td>3.0.0-8</td>\n",
       "    </tr>\n",
       "    <tr>\n",
       "      <th>6</th>\n",
       "      <td>abiword</td>\n",
       "      <td>3.0.0-6</td>\n",
       "      <td>3.0.0-8</td>\n",
       "    </tr>\n",
       "    <tr>\n",
       "      <th>7</th>\n",
       "      <td>abiword</td>\n",
       "      <td>3.0.0-7</td>\n",
       "      <td>3.0.0-8</td>\n",
       "    </tr>\n",
       "  </tbody>\n",
       "</table>\n",
       "</div>"
      ],
      "text/plain": [
       "    source       source_version latest_source_version\n",
       "0  abiword  2.9.2+svn20120603-8               3.0.0-8\n",
       "1  abiword              3.0.0-4               3.0.0-8\n",
       "5  abiword              3.0.0-5               3.0.0-8\n",
       "6  abiword              3.0.0-6               3.0.0-8\n",
       "7  abiword              3.0.0-7               3.0.0-8"
      ]
     },
     "execution_count": 189,
     "metadata": {},
     "output_type": "execute_result"
    }
   ],
   "source": [
    "debian_packages_order.head()"
   ]
  },
  {
   "cell_type": "markdown",
   "metadata": {},
   "source": [
    "# Packages in containers"
   ]
  },
  {
   "cell_type": "code",
   "execution_count": 3,
   "metadata": {},
   "outputs": [],
   "source": [
    "# Load used packages ( prepared)\n",
    "official_sources=pd.read_csv('../../docker/csv/used/official_sources.csv', \n",
    "                             usecols=['name','source','source_version','debian'],\n",
    "                             sep=';', dtype=object, index_col=None,  error_bad_lines=False)\n",
    "community_sources=pd.read_csv('../../docker/csv/used/community_sources.csv', \n",
    "                              usecols=['name','source','source_version','debian'],\n",
    "                              sep=';', dtype=object, index_col=None,  error_bad_lines=False)\n",
    "official_sources['type']=\"Official\"\n",
    "community_sources['type']=\"Community\""
   ]
  },
  {
   "cell_type": "code",
   "execution_count": 4,
   "metadata": {},
   "outputs": [
    {
     "data": {
      "text/html": [
       "<div>\n",
       "<style scoped>\n",
       "    .dataframe tbody tr th:only-of-type {\n",
       "        vertical-align: middle;\n",
       "    }\n",
       "\n",
       "    .dataframe tbody tr th {\n",
       "        vertical-align: top;\n",
       "    }\n",
       "\n",
       "    .dataframe thead th {\n",
       "        text-align: right;\n",
       "    }\n",
       "</style>\n",
       "<table border=\"1\" class=\"dataframe\">\n",
       "  <thead>\n",
       "    <tr style=\"text-align: right;\">\n",
       "      <th></th>\n",
       "      <th>name</th>\n",
       "      <th>debian</th>\n",
       "      <th>source</th>\n",
       "      <th>source_version</th>\n",
       "      <th>type</th>\n",
       "    </tr>\n",
       "  </thead>\n",
       "  <tbody>\n",
       "    <tr>\n",
       "      <th>0</th>\n",
       "      <td>fuerst:etherpad-docker</td>\n",
       "      <td>jessie</td>\n",
       "      <td>abiword</td>\n",
       "      <td>3.0.0-8</td>\n",
       "      <td>Community</td>\n",
       "    </tr>\n",
       "    <tr>\n",
       "      <th>1</th>\n",
       "      <td>ngiger:jubula_runner</td>\n",
       "      <td>stretch</td>\n",
       "      <td>abiword</td>\n",
       "      <td>3.0.2-2</td>\n",
       "      <td>Community</td>\n",
       "    </tr>\n",
       "  </tbody>\n",
       "</table>\n",
       "</div>"
      ],
      "text/plain": [
       "                     name   debian   source source_version       type\n",
       "0  fuerst:etherpad-docker   jessie  abiword        3.0.0-8  Community\n",
       "1    ngiger:jubula_runner  stretch  abiword        3.0.2-2  Community"
      ]
     },
     "execution_count": 4,
     "metadata": {},
     "output_type": "execute_result"
    }
   ],
   "source": [
    "sources_all=pd.concat([community_sources,official_sources])#.query('created>\"2018\"')\n",
    "sources_all.drop_duplicates(inplace=True)\n",
    "sources_all.head(2)"
   ]
  },
  {
   "cell_type": "markdown",
   "metadata": {},
   "source": [
    "# ################ Vulnerabilities ################ #"
   ]
  },
  {
   "cell_type": "code",
   "execution_count": 72,
   "metadata": {},
   "outputs": [
    {
     "data": {
      "text/plain": [
       "9879982"
      ]
     },
     "execution_count": 72,
     "metadata": {},
     "output_type": "execute_result"
    }
   ],
   "source": [
    "###### Vulnerabilities with packages\n",
    "lag_vul_all=pd.read_csv('../../docker/csv/used/lag_vul_all_correct.csv', sep=';', dtype=object, index_col=None,  error_bad_lines=False)\n",
    "lag_vul_all['urgency']=lag_vul_all['urgency'].apply(lambda x: x.split('*')[0])\n",
    "lag_vul_all['urgency']=lag_vul_all['urgency'].apply(lambda x: 'not assigned' if 'not' in x\n",
    "                                                                        else x)\n",
    "#lag_vul_all=lag_vul_all.query('status!=\"resolved\" or isOutdate!=\"Up-to-date\"')\n",
    "lag_vul_all=lag_vul_all.query('status!=\"end-of-life\"')\n",
    "len(lag_vul_all)"
   ]
  },
  {
   "cell_type": "code",
   "execution_count": 73,
   "metadata": {},
   "outputs": [],
   "source": [
    "# get the most secure source versions\n",
    "secure_version = lag_vul_all[['source','source_version','cve','release_snapshot']].drop_duplicates()\n",
    "secure_version = secure_version.groupby(['source','source_version','release_snapshot']).count().reset_index()"
   ]
  },
  {
   "cell_type": "code",
   "execution_count": 74,
   "metadata": {},
   "outputs": [
    {
     "data": {
      "text/plain": [
       "1544"
      ]
     },
     "execution_count": 74,
     "metadata": {},
     "output_type": "execute_result"
    }
   ],
   "source": [
    "len(secure_version)"
   ]
  },
  {
   "cell_type": "markdown",
   "metadata": {},
   "source": [
    "## Compare with the mose secure one"
   ]
  },
  {
   "cell_type": "code",
   "execution_count": 75,
   "metadata": {},
   "outputs": [],
   "source": [
    "most_secure = secure_version.sort_values(\"cve\").groupby(['source','release_snapshot'], as_index=False).first()"
   ]
  },
  {
   "cell_type": "code",
   "execution_count": 76,
   "metadata": {},
   "outputs": [
    {
     "data": {
      "text/plain": [
       "1544"
      ]
     },
     "execution_count": 76,
     "metadata": {},
     "output_type": "execute_result"
    }
   ],
   "source": [
    "secure_version = (secure_version\n",
    "                  .set_index(['source','release_snapshot'])\n",
    "                  .merge(most_secure\n",
    "                         .rename(columns={'source_version':'source_version_secure','cve':'cve-secure'})\n",
    "                         .set_index(['source','release_snapshot']),\n",
    "                         left_index = True,\n",
    "                         right_index = True,\n",
    "                         how = 'left'\n",
    "                        ).dropna().reset_index()\n",
    "                 )\n",
    "len(secure_version)      "
   ]
  },
  {
   "cell_type": "code",
   "execution_count": 77,
   "metadata": {},
   "outputs": [],
   "source": [
    "secure_version['upgrade'] = (secure_version\n",
    "                             .apply(lambda d:\n",
    "                                    0 if apt_pkg.version_compare(str(d['source_version']),str(d['source_version_secure'])) == 0 \n",
    "                                    else 1 if apt_pkg.version_compare(str(d['source_version']),str(d['source_version_secure'])) < 0\n",
    "                                    else -1,\n",
    "                                    axis=1)\n",
    "                            )"
   ]
  },
  {
   "cell_type": "code",
   "execution_count": 78,
   "metadata": {},
   "outputs": [
    {
     "data": {
      "text/plain": [
       "376879"
      ]
     },
     "execution_count": 78,
     "metadata": {},
     "output_type": "execute_result"
    }
   ],
   "source": [
    "sources_all_secure = (sources_all\n",
    "                      .set_index(['source','source_version'])\n",
    "                      .merge(secure_version\n",
    "                             .set_index(['source','source_version']),\n",
    "                             left_index = True,\n",
    "                             right_index = True,\n",
    "                             how = 'left'\n",
    "                            ).dropna().reset_index()\n",
    "                     )\n",
    "len(sources_all_secure)\n",
    "                  "
   ]
  },
  {
   "cell_type": "code",
   "execution_count": 79,
   "metadata": {},
   "outputs": [],
   "source": [
    "sources_all_secure.drop('release_snapshot', axis=1, inplace=True)\n",
    "sources_all_secure['diff'] = sources_all_secure['cve']  - sources_all_secure['cve-secure'] "
   ]
  },
  {
   "cell_type": "code",
   "execution_count": 174,
   "metadata": {},
   "outputs": [],
   "source": [
    "df_tmp = sources_all_secure[['name','debian','type','diff']].groupby(['name','debian','type']).sum().reset_index()"
   ]
  },
  {
   "cell_type": "code",
   "execution_count": 181,
   "metadata": {},
   "outputs": [
    {
     "data": {
      "image/png": "[encoded data removed]",
      "text/plain": [
       "<Figure size 864x216 with 1 Axes>"
      ]
     },
     "metadata": {},
     "output_type": "display_data"
    }
   ],
   "source": [
    "ax = sns.boxplot(x=\"debian\", \n",
    "                 y=\"diff\", \n",
    "                 data=df_tmp, \n",
    "                 hue='type',\n",
    "                 palette='Set2', \n",
    "                 linewidth=1,\n",
    "                 hue_order=['Official','Community'],\n",
    "                 order=['jessie','stretch','buster'], \n",
    "                # split = True\n",
    "                )\n",
    "ax.figure.set_size_inches(12,3)\n",
    "ax.set_xlabel(\"Debian release\")\n",
    "ax.set_ylabel('Security \\nvulnerability lag')\n",
    "for patch in ax.patches:\n",
    "    patch.set_edgecolor('black')\n",
    "ax.legend(loc='upper right',  ncol=1, fontsize=20, fancybox=True, shadow=True)\n",
    "ax.set_ylim(0,500)\n",
    "ax.figure.savefig('../../../thesis/Figs/docker/vul_lag.pdf', bbox_inches='tight', facecolor='white')"
   ]
  },
  {
   "cell_type": "code",
   "execution_count": 194,
   "metadata": {},
   "outputs": [
    {
     "data": {
      "text/plain": [
       "1.0"
      ]
     },
     "execution_count": 194,
     "metadata": {},
     "output_type": "execute_result"
    }
   ],
   "source": [
    "df_tmp.query('debian == \"stretch\"')['diff'].median()"
   ]
  },
  {
   "cell_type": "code",
   "execution_count": 195,
   "metadata": {},
   "outputs": [
    {
     "data": {
      "text/plain": [
       "65.0"
      ]
     },
     "execution_count": 195,
     "metadata": {},
     "output_type": "execute_result"
    }
   ],
   "source": [
    "df_tmp.query('debian == \"jessie\"')['diff'].median()"
   ]
  },
  {
   "cell_type": "code",
   "execution_count": 196,
   "metadata": {},
   "outputs": [
    {
     "data": {
      "text/plain": [
       "2.0"
      ]
     },
     "execution_count": 196,
     "metadata": {},
     "output_type": "execute_result"
    }
   ],
   "source": [
    "df_tmp.query('debian == \"buster\"')['diff'].median()"
   ]
  },
  {
   "cell_type": "code",
   "execution_count": 197,
   "metadata": {},
   "outputs": [
    {
     "data": {
      "text/html": [
       "<div>\n",
       "<style scoped>\n",
       "    .dataframe tbody tr th:only-of-type {\n",
       "        vertical-align: middle;\n",
       "    }\n",
       "\n",
       "    .dataframe tbody tr th {\n",
       "        vertical-align: top;\n",
       "    }\n",
       "\n",
       "    .dataframe thead th {\n",
       "        text-align: right;\n",
       "    }\n",
       "</style>\n",
       "<table border=\"1\" class=\"dataframe\">\n",
       "  <thead>\n",
       "    <tr style=\"text-align: right;\">\n",
       "      <th></th>\n",
       "      <th>source</th>\n",
       "      <th>source_version</th>\n",
       "      <th>name</th>\n",
       "      <th>debian</th>\n",
       "      <th>type</th>\n",
       "      <th>cve</th>\n",
       "      <th>source_version_secure</th>\n",
       "      <th>cve-secure</th>\n",
       "      <th>diff</th>\n",
       "    </tr>\n",
       "    <tr>\n",
       "      <th>upgrade</th>\n",
       "      <th></th>\n",
       "      <th></th>\n",
       "      <th></th>\n",
       "      <th></th>\n",
       "      <th></th>\n",
       "      <th></th>\n",
       "      <th></th>\n",
       "      <th></th>\n",
       "      <th></th>\n",
       "    </tr>\n",
       "  </thead>\n",
       "  <tbody>\n",
       "    <tr>\n",
       "      <th>-1.0</th>\n",
       "      <td>2.958865</td>\n",
       "      <td>2.958865</td>\n",
       "      <td>2.958865</td>\n",
       "      <td>2.958865</td>\n",
       "      <td>2.958865</td>\n",
       "      <td>2.958865</td>\n",
       "      <td>2.958865</td>\n",
       "      <td>2.958865</td>\n",
       "      <td>2.958865</td>\n",
       "    </tr>\n",
       "    <tr>\n",
       "      <th>0.0</th>\n",
       "      <td>70.151294</td>\n",
       "      <td>70.151294</td>\n",
       "      <td>70.151294</td>\n",
       "      <td>70.151294</td>\n",
       "      <td>70.151294</td>\n",
       "      <td>70.151294</td>\n",
       "      <td>70.151294</td>\n",
       "      <td>70.151294</td>\n",
       "      <td>70.151294</td>\n",
       "    </tr>\n",
       "    <tr>\n",
       "      <th>1.0</th>\n",
       "      <td>26.889840</td>\n",
       "      <td>26.889840</td>\n",
       "      <td>26.889840</td>\n",
       "      <td>26.889840</td>\n",
       "      <td>26.889840</td>\n",
       "      <td>26.889840</td>\n",
       "      <td>26.889840</td>\n",
       "      <td>26.889840</td>\n",
       "      <td>26.889840</td>\n",
       "    </tr>\n",
       "  </tbody>\n",
       "</table>\n",
       "</div>"
      ],
      "text/plain": [
       "            source  source_version       name     debian       type  \\\n",
       "upgrade                                                               \n",
       "-1.0      2.958865        2.958865   2.958865   2.958865   2.958865   \n",
       " 0.0     70.151294       70.151294  70.151294  70.151294  70.151294   \n",
       " 1.0     26.889840       26.889840  26.889840  26.889840  26.889840   \n",
       "\n",
       "               cve  source_version_secure  cve-secure       diff  \n",
       "upgrade                                                           \n",
       "-1.0      2.958865               2.958865    2.958865   2.958865  \n",
       " 0.0     70.151294              70.151294   70.151294  70.151294  \n",
       " 1.0     26.889840              26.889840   26.889840  26.889840  "
      ]
     },
     "execution_count": 197,
     "metadata": {},
     "output_type": "execute_result"
    }
   ],
   "source": [
    "sources_all_secure.query('type == \"Official\"').groupby('upgrade').count()*100/len(sources_all_secure.query('type == \"Official\"'))"
   ]
  },
  {
   "cell_type": "code",
   "execution_count": 206,
   "metadata": {},
   "outputs": [
    {
     "data": {
      "text/html": [
       "<div>\n",
       "<style scoped>\n",
       "    .dataframe tbody tr th:only-of-type {\n",
       "        vertical-align: middle;\n",
       "    }\n",
       "\n",
       "    .dataframe tbody tr th {\n",
       "        vertical-align: top;\n",
       "    }\n",
       "\n",
       "    .dataframe thead th {\n",
       "        text-align: right;\n",
       "    }\n",
       "</style>\n",
       "<table border=\"1\" class=\"dataframe\">\n",
       "  <thead>\n",
       "    <tr style=\"text-align: right;\">\n",
       "      <th></th>\n",
       "      <th>source</th>\n",
       "      <th>source_version</th>\n",
       "      <th>name</th>\n",
       "      <th>debian</th>\n",
       "      <th>type</th>\n",
       "      <th>cve</th>\n",
       "      <th>source_version_secure</th>\n",
       "      <th>cve-secure</th>\n",
       "      <th>diff</th>\n",
       "    </tr>\n",
       "    <tr>\n",
       "      <th>upgrade</th>\n",
       "      <th></th>\n",
       "      <th></th>\n",
       "      <th></th>\n",
       "      <th></th>\n",
       "      <th></th>\n",
       "      <th></th>\n",
       "      <th></th>\n",
       "      <th></th>\n",
       "      <th></th>\n",
       "    </tr>\n",
       "  </thead>\n",
       "  <tbody>\n",
       "    <tr>\n",
       "      <th>-1.0</th>\n",
       "      <td>2.547767</td>\n",
       "      <td>2.547767</td>\n",
       "      <td>2.547767</td>\n",
       "      <td>2.547767</td>\n",
       "      <td>2.547767</td>\n",
       "      <td>2.547767</td>\n",
       "      <td>2.547767</td>\n",
       "      <td>2.547767</td>\n",
       "      <td>2.547767</td>\n",
       "    </tr>\n",
       "    <tr>\n",
       "      <th>0.0</th>\n",
       "      <td>74.927231</td>\n",
       "      <td>74.927231</td>\n",
       "      <td>74.927231</td>\n",
       "      <td>74.927231</td>\n",
       "      <td>74.927231</td>\n",
       "      <td>74.927231</td>\n",
       "      <td>74.927231</td>\n",
       "      <td>74.927231</td>\n",
       "      <td>74.927231</td>\n",
       "    </tr>\n",
       "    <tr>\n",
       "      <th>1.0</th>\n",
       "      <td>22.525001</td>\n",
       "      <td>22.525001</td>\n",
       "      <td>22.525001</td>\n",
       "      <td>22.525001</td>\n",
       "      <td>22.525001</td>\n",
       "      <td>22.525001</td>\n",
       "      <td>22.525001</td>\n",
       "      <td>22.525001</td>\n",
       "      <td>22.525001</td>\n",
       "    </tr>\n",
       "  </tbody>\n",
       "</table>\n",
       "</div>"
      ],
      "text/plain": [
       "            source  source_version       name     debian       type  \\\n",
       "upgrade                                                               \n",
       "-1.0      2.547767        2.547767   2.547767   2.547767   2.547767   \n",
       " 0.0     74.927231       74.927231  74.927231  74.927231  74.927231   \n",
       " 1.0     22.525001       22.525001  22.525001  22.525001  22.525001   \n",
       "\n",
       "               cve  source_version_secure  cve-secure       diff  \n",
       "upgrade                                                           \n",
       "-1.0      2.547767               2.547767    2.547767   2.547767  \n",
       " 0.0     74.927231              74.927231   74.927231  74.927231  \n",
       " 1.0     22.525001              22.525001   22.525001  22.525001  "
      ]
     },
     "execution_count": 206,
     "metadata": {},
     "output_type": "execute_result"
    }
   ],
   "source": [
    "sources_all_secure.groupby('upgrade').count()*100/len(sources_all_secure)"
   ]
  },
  {
   "cell_type": "code",
   "execution_count": 198,
   "metadata": {},
   "outputs": [],
   "source": [
    "df_tmp1 = sources_all_secure.groupby(['name','debian','type','upgrade']).count()[['diff']].reset_index()\n",
    "df_tmp2 = sources_all_secure.groupby(['name','debian']).count()[['source']].reset_index()\n",
    "df_tmp = (df_tmp1\n",
    "          .set_index(['name','debian'])\n",
    "          .merge(df_tmp2\n",
    "                 .set_index(['name','debian']),\n",
    "                 left_index = True,\n",
    "                 right_index = True,\n",
    "                 how = 'left'\n",
    "                )\n",
    "         .dropna().reset_index()\n",
    "         )\n",
    "df_tmp['percent'] = df_tmp['diff']*100.0/df_tmp['source'] \n",
    "df_tmp.drop(['diff','source'], axis=1, inplace=True)\n",
    "df_tmp['upgrade'] = df_tmp['upgrade'].apply(lambda x:\n",
    "                                           'upgrade' if x>0\n",
    "                                           else 'no-change' if x == 0\n",
    "                                           else 'downgrade')"
   ]
  },
  {
   "cell_type": "code",
   "execution_count": 199,
   "metadata": {},
   "outputs": [
    {
     "data": {
      "text/plain": [
       "(0, 100)"
      ]
     },
     "execution_count": 199,
     "metadata": {},
     "output_type": "execute_result"
    },
    {
     "data": {
      "image/png": "[encoded data removed]",
      "text/plain": [
       "<Figure size 864x216 with 1 Axes>"
      ]
     },
     "metadata": {},
     "output_type": "display_data"
    }
   ],
   "source": [
    "ax = sns.boxplot(x=\"upgrade\", \n",
    "                 y=\"percent\", \n",
    "                 data=df_tmp, \n",
    "                 hue='type',\n",
    "                 palette='Set2', \n",
    "                 hue_order=['Official','Community'],\n",
    "                 linewidth=1,\n",
    "                 order=['upgrade','no-change','downgrade'], \n",
    "                # split = True\n",
    "                )\n",
    "ax.figure.set_size_inches(12,3)\n",
    "ax.set_xlabel('Required package change')\n",
    "ax.set_ylabel('Proporton of\\n container packages')\n",
    "for patch in ax.patches:\n",
    "    patch.set_edgecolor('black')\n",
    "ax.legend(loc='upper right', ncol=1, fontsize=20, fancybox=True, shadow=True)\n",
    "#ax.legend(loc='upper right', bbox_to_anchor=(0.75, 1.291), ncol=2, fontsize=20, fancybox=True, shadow=True)\n",
    "ax.set_ylim(0,100)\n",
    "ax.figure.savefig('../../../thesis/Figs/docker/vul_upgrade.pdf', bbox_inches='tight', facecolor='white')"
   ]
  },
  {
   "cell_type": "code",
   "execution_count": 201,
   "metadata": {},
   "outputs": [
    {
     "data": {
      "text/plain": [
       "2.7027027027027026"
      ]
     },
     "execution_count": 201,
     "metadata": {},
     "output_type": "execute_result"
    }
   ],
   "source": [
    "df_tmp.query('upgrade == \"downgrade\"').percent.median()"
   ]
  },
  {
   "cell_type": "code",
   "execution_count": 202,
   "metadata": {},
   "outputs": [
    {
     "data": {
      "text/plain": [
       "78.94736842105263"
      ]
     },
     "execution_count": 202,
     "metadata": {},
     "output_type": "execute_result"
    }
   ],
   "source": [
    "df_tmp.query('upgrade == \"no-change\"').percent.median()"
   ]
  },
  {
   "cell_type": "code",
   "execution_count": 204,
   "metadata": {},
   "outputs": [
    {
     "data": {
      "text/plain": [
       "23.634558093346577"
      ]
     },
     "execution_count": 204,
     "metadata": {},
     "output_type": "execute_result"
    }
   ],
   "source": [
    "df_tmp.query('upgrade == \"upgrade\"').percent.median()"
   ]
  },
  {
   "cell_type": "markdown",
   "metadata": {},
   "source": [
    "### This part is in case we wanted to know how much we updated or upgraded"
   ]
  },
  {
   "cell_type": "code",
   "execution_count": 320,
   "metadata": {},
   "outputs": [],
   "source": [
    "# Prepare to sort\n",
    "debian_packages_order=pd.read_csv('../../docker/csv/used/debian_packages_order_4mai.csv', sep=\";\")\n",
    "debian_packages_order=debian_packages_order[['source','source_version','release_snapshot']].drop_duplicates()\n",
    "mask = debian_packages_order.source.isin(sources_all.source.drop_duplicates())\n",
    "debian_packages_order = debian_packages_order[mask]"
   ]
  },
  {
   "cell_type": "code",
   "execution_count": 328,
   "metadata": {},
   "outputs": [],
   "source": [
    "### Here we sort using the debian function\n",
    "if True:\n",
    "    import apt_pkg\n",
    "    apt_pkg.init_system()\n",
    "    all_sources={}\n",
    "    for source in set(debian_packages_order.source.values):\n",
    "        versions_all=set(debian_packages.query('source==\"'+source+'\"').source_version.values)\n",
    "        all_sources[source]=[]\n",
    "        a=[]\n",
    "        for x in  sorted(list(versions_all)):\n",
    "            ver=False\n",
    "            for index, y in enumerate(a):\n",
    "                if apt_pkg.version_compare(x,y) <0:\n",
    "                    a=a[:index] + [x] + a[index:]\n",
    "                    ver=True\n",
    "                    break\n",
    "            if not ver:\n",
    "                a=a+[x]\n",
    "        all_sources[source]=a\n",
    "\n",
    "    df_all=pd.DataFrame()\n",
    "    for source in set(debian_packages_order.source.values):\n",
    "        #print(package)\n",
    "        test=pd.DataFrame({'source':source, \n",
    "                           'source_version':all_sources[source], \n",
    "                           'version_order':[u for u in range(len(all_sources[source]))]})\n",
    "        df_all=pd.concat([df_all,test])"
   ]
  },
  {
   "cell_type": "markdown",
   "metadata": {},
   "source": [
    "# ################## Bugs ################# # "
   ]
  },
  {
   "cell_type": "code",
   "execution_count": 117,
   "metadata": {},
   "outputs": [
    {
     "data": {
      "text/plain": [
       "47604"
      ]
     },
     "execution_count": 117,
     "metadata": {},
     "output_type": "execute_result"
    }
   ],
   "source": [
    "# BUGS\n",
    "docker_bugs=pd.read_csv('../../docker/csv/docker_bugs_MAI_checked.csv', sep=';', dtype=object, index_col=None,  error_bad_lines=False)\n",
    "docker_bugs.drop_duplicates(inplace=True)\n",
    "bug_order=['wishlist','minor','normal','important','serious','grave','critical']\n",
    "docker_bugs=docker_bugs.query('status!=\"fixed\" and status!=\"pending-fixed\"')\n",
    "docker_bugs['status']=docker_bugs['status'].apply(lambda x: \"fixed\" if x ==\"done\" else x)\n",
    "# Something about venn diagram\n",
    "len(docker_bugs)"
   ]
  },
  {
   "cell_type": "code",
   "execution_count": 118,
   "metadata": {},
   "outputs": [
    {
     "data": {
      "text/plain": [
       "47245"
      ]
     },
     "execution_count": 118,
     "metadata": {},
     "output_type": "execute_result"
    }
   ],
   "source": [
    "# NOT considering security bugs\n",
    "mask = docker_bugs['debianbug'].isin(docker_vulnerabilities['debianbug'].drop_duplicates())\n",
    "docker_bugs=docker_bugs[~mask]\n",
    "len(docker_bugs)"
   ]
  },
  {
   "cell_type": "code",
   "execution_count": 119,
   "metadata": {},
   "outputs": [],
   "source": [
    "# get the most stable source versions\n",
    "stable_version = docker_bugs[['source','source_version','debianbug','release']].drop_duplicates()\n",
    "stable_version = stable_version.groupby(['source','source_version','release']).count().reset_index()"
   ]
  },
  {
   "cell_type": "markdown",
   "metadata": {},
   "source": [
    "## Compare with the most stable one"
   ]
  },
  {
   "cell_type": "code",
   "execution_count": 120,
   "metadata": {},
   "outputs": [],
   "source": [
    "most_stable = stable_version.sort_values(\"debianbug\").groupby(['source','release'], as_index=False).first()"
   ]
  },
  {
   "cell_type": "code",
   "execution_count": 121,
   "metadata": {},
   "outputs": [
    {
     "data": {
      "text/plain": [
       "3938"
      ]
     },
     "execution_count": 121,
     "metadata": {},
     "output_type": "execute_result"
    }
   ],
   "source": [
    "len(stable_version)"
   ]
  },
  {
   "cell_type": "code",
   "execution_count": 122,
   "metadata": {},
   "outputs": [
    {
     "data": {
      "text/plain": [
       "3938"
      ]
     },
     "execution_count": 122,
     "metadata": {},
     "output_type": "execute_result"
    }
   ],
   "source": [
    "stable_version = (stable_version\n",
    "                  .set_index(['source','release'])\n",
    "                  .merge(most_stable\n",
    "                         .rename(columns={'source_version':'source_version_stable','debianbug':'debianbug_stable'})\n",
    "                         .set_index(['source','release']),\n",
    "                         left_index = True,\n",
    "                         right_index = True,\n",
    "                         how = 'left'\n",
    "                        ).dropna().reset_index()\n",
    "                 )\n",
    "len(stable_version)\n",
    "                  "
   ]
  },
  {
   "cell_type": "code",
   "execution_count": 123,
   "metadata": {},
   "outputs": [],
   "source": [
    "stable_version['upgrade'] = stable_version.apply(lambda d: \n",
    "                                                        apt_pkg.version_compare(d['source_version'],\n",
    "                                                                               d['source_version_stable']),\n",
    "                                                        axis=1)"
   ]
  },
  {
   "cell_type": "code",
   "execution_count": 124,
   "metadata": {},
   "outputs": [
    {
     "data": {
      "text/plain": [
       "928077"
      ]
     },
     "execution_count": 124,
     "metadata": {},
     "output_type": "execute_result"
    }
   ],
   "source": [
    "sources_all_stable = (sources_all\n",
    "                      .set_index(['source','source_version'])\n",
    "                      .merge(stable_version\n",
    "                             .set_index(['source','source_version']),\n",
    "                             left_index = True,\n",
    "                             right_index = True,\n",
    "                             how = 'left'\n",
    "                            ).dropna().reset_index()\n",
    "                     )\n",
    "len(sources_all_stable)\n",
    "                  "
   ]
  },
  {
   "cell_type": "code",
   "execution_count": 128,
   "metadata": {},
   "outputs": [],
   "source": [
    "sources_all_stable.drop('release', axis=1, inplace=True)\n",
    "sources_all_stable['diff'] = sources_all_stable['debianbug']  - sources_all_stable['debianbug_stable'] "
   ]
  },
  {
   "cell_type": "code",
   "execution_count": 207,
   "metadata": {},
   "outputs": [],
   "source": [
    "df_tmp = sources_all_stable[['name','debian','type','diff']].groupby(['name','debian','type']).sum().reset_index()"
   ]
  },
  {
   "cell_type": "code",
   "execution_count": 209,
   "metadata": {},
   "outputs": [
    {
     "data": {
      "image/png": "[encoded data removed]",
      "text/plain": [
       "<Figure size 864x216 with 1 Axes>"
      ]
     },
     "metadata": {},
     "output_type": "display_data"
    }
   ],
   "source": [
    "ax = sns.boxplot(x=\"debian\", \n",
    "                 y=\"diff\", \n",
    "                 data=df_tmp, \n",
    "                 hue='type',\n",
    "                 palette='Set2', \n",
    "                 linewidth=1,\n",
    "                 hue_order=['Official','Community'],\n",
    "                 order=['jessie','stretch','buster'], \n",
    "                # split = True\n",
    "                )\n",
    "ax.figure.set_size_inches(12,3)\n",
    "ax.set_xlabel(\"Debian release\")\n",
    "ax.set_ylabel('Bug lag')\n",
    "for patch in ax.patches:\n",
    "    patch.set_edgecolor('black')\n",
    "ax.legend(loc='upper right', bbox_to_anchor=(0.75, 1.291), ncol=2, fontsize=20, fancybox=True, shadow=True)\n",
    "ax.set_ylim(0,270)\n",
    "ax.figure.savefig('../../../thesis/Figs/docker/bug_lag.pdf', bbox_inches='tight', facecolor='white')"
   ]
  },
  {
   "cell_type": "code",
   "execution_count": 211,
   "metadata": {},
   "outputs": [
    {
     "name": "stdout",
     "output_type": "stream",
     "text": [
      "187.5 103.0 148.0\n"
     ]
    }
   ],
   "source": [
    "print(\n",
    "    df_tmp.query('debian == \"jessie\"')['diff'].median(),\n",
    "    df_tmp.query('debian == \"stretch\"')['diff'].median(),\n",
    "    df_tmp.query('debian == \"buster\"')['diff'].median())"
   ]
  },
  {
   "cell_type": "code",
   "execution_count": 216,
   "metadata": {},
   "outputs": [],
   "source": [
    "df_tmp1 = sources_all_stable.groupby(['name','debian','type','upgrade']).count()[['diff']].reset_index()\n",
    "df_tmp2 = sources_all_stable.groupby(['name','debian']).count()[['source']].reset_index()\n",
    "df_tmp = (df_tmp1\n",
    "          .set_index(['name','debian'])\n",
    "          .merge(df_tmp2\n",
    "                 .set_index(['name','debian']),\n",
    "                 left_index = True,\n",
    "                 right_index = True,\n",
    "                 how = 'left'\n",
    "                )\n",
    "         .dropna().reset_index()\n",
    "         )\n",
    "df_tmp['percent'] = df_tmp['diff']*100.0/df_tmp['source'] \n",
    "df_tmp.drop(['diff','source'], axis=1, inplace=True)\n",
    "df_tmp['upgrade'] = df_tmp['upgrade'].apply(lambda x:\n",
    "                                           'upgrade' if x>0\n",
    "                                           else 'no-change' if x == 0\n",
    "                                           else 'downgrade')"
   ]
  },
  {
   "cell_type": "code",
   "execution_count": 218,
   "metadata": {},
   "outputs": [
    {
     "data": {
      "text/plain": [
       "(0, 100)"
      ]
     },
     "execution_count": 218,
     "metadata": {},
     "output_type": "execute_result"
    },
    {
     "data": {
      "image/png": "[encoded data removed]",
      "text/plain": [
       "<Figure size 864x216 with 1 Axes>"
      ]
     },
     "metadata": {},
     "output_type": "display_data"
    }
   ],
   "source": [
    "ax = sns.boxplot(x=\"upgrade\", \n",
    "                 y=\"percent\", \n",
    "                 data=df_tmp,\n",
    "                 hue='type',\n",
    "                 palette='Set2', \n",
    "                 hue_order=['Official','Community'],\n",
    "                 linewidth=1,\n",
    "                 order=['upgrade','no-change','downgrade'], \n",
    "                # split = True\n",
    "                )\n",
    "ax.figure.set_size_inches(12,3)\n",
    "ax.set_xlabel('Required package change')\n",
    "ax.set_ylabel('Proporton of\\n container packages')\n",
    "for patch in ax.patches:\n",
    "    patch.set_edgecolor('black')\n",
    "#ax.legend(loc='upper right', ncol=1, fontsize=20, fancybox=True, shadow=True)\n",
    "ax.legend(loc='upper right', bbox_to_anchor=(0.75, 1.291), ncol=2, fontsize=20, fancybox=True, shadow=True)\n",
    "#ax.set_yscale('log')\n",
    "ax.set_ylim(0,100)"
   ]
  },
  {
   "cell_type": "code",
   "execution_count": 223,
   "metadata": {},
   "outputs": [],
   "source": [
    "sources_all_stable['upgrade'] = (sources_all_stable\n",
    "                             .apply(lambda d:\n",
    "                                    0 if apt_pkg.version_compare(str(d['source_version']),str(d['source_version_stable'])) == 0 \n",
    "                                    else 1 if apt_pkg.version_compare(str(d['source_version']),str(d['source_version_stable'])) < 0\n",
    "                                    else -1,\n",
    "                                    axis=1)\n",
    "                            )"
   ]
  },
  {
   "cell_type": "code",
   "execution_count": 227,
   "metadata": {},
   "outputs": [
    {
     "data": {
      "text/html": [
       "<div>\n",
       "<style scoped>\n",
       "    .dataframe tbody tr th:only-of-type {\n",
       "        vertical-align: middle;\n",
       "    }\n",
       "\n",
       "    .dataframe tbody tr th {\n",
       "        vertical-align: top;\n",
       "    }\n",
       "\n",
       "    .dataframe thead th {\n",
       "        text-align: right;\n",
       "    }\n",
       "</style>\n",
       "<table border=\"1\" class=\"dataframe\">\n",
       "  <thead>\n",
       "    <tr style=\"text-align: right;\">\n",
       "      <th></th>\n",
       "      <th>source</th>\n",
       "      <th>source_version</th>\n",
       "      <th>name</th>\n",
       "      <th>debian</th>\n",
       "      <th>type</th>\n",
       "      <th>debianbug</th>\n",
       "      <th>source_version_stable</th>\n",
       "      <th>debianbug_stable</th>\n",
       "      <th>diff</th>\n",
       "    </tr>\n",
       "    <tr>\n",
       "      <th>upgrade</th>\n",
       "      <th></th>\n",
       "      <th></th>\n",
       "      <th></th>\n",
       "      <th></th>\n",
       "      <th></th>\n",
       "      <th></th>\n",
       "      <th></th>\n",
       "      <th></th>\n",
       "      <th></th>\n",
       "    </tr>\n",
       "  </thead>\n",
       "  <tbody>\n",
       "    <tr>\n",
       "      <th>-1</th>\n",
       "      <td>22.389769</td>\n",
       "      <td>22.389769</td>\n",
       "      <td>22.389769</td>\n",
       "      <td>22.389769</td>\n",
       "      <td>22.389769</td>\n",
       "      <td>22.389769</td>\n",
       "      <td>22.389769</td>\n",
       "      <td>22.389769</td>\n",
       "      <td>22.389769</td>\n",
       "    </tr>\n",
       "    <tr>\n",
       "      <th>0</th>\n",
       "      <td>71.627674</td>\n",
       "      <td>71.627674</td>\n",
       "      <td>71.627674</td>\n",
       "      <td>71.627674</td>\n",
       "      <td>71.627674</td>\n",
       "      <td>71.627674</td>\n",
       "      <td>71.627674</td>\n",
       "      <td>71.627674</td>\n",
       "      <td>71.627674</td>\n",
       "    </tr>\n",
       "    <tr>\n",
       "      <th>1</th>\n",
       "      <td>5.982557</td>\n",
       "      <td>5.982557</td>\n",
       "      <td>5.982557</td>\n",
       "      <td>5.982557</td>\n",
       "      <td>5.982557</td>\n",
       "      <td>5.982557</td>\n",
       "      <td>5.982557</td>\n",
       "      <td>5.982557</td>\n",
       "      <td>5.982557</td>\n",
       "    </tr>\n",
       "  </tbody>\n",
       "</table>\n",
       "</div>"
      ],
      "text/plain": [
       "            source  source_version       name     debian       type  \\\n",
       "upgrade                                                               \n",
       "-1       22.389769       22.389769  22.389769  22.389769  22.389769   \n",
       " 0       71.627674       71.627674  71.627674  71.627674  71.627674   \n",
       " 1        5.982557        5.982557   5.982557   5.982557   5.982557   \n",
       "\n",
       "         debianbug  source_version_stable  debianbug_stable       diff  \n",
       "upgrade                                                                 \n",
       "-1       22.389769              22.389769         22.389769  22.389769  \n",
       " 0       71.627674              71.627674         71.627674  71.627674  \n",
       " 1        5.982557               5.982557          5.982557   5.982557  "
      ]
     },
     "execution_count": 227,
     "metadata": {},
     "output_type": "execute_result"
    }
   ],
   "source": [
    "sources_all_stable.query('debian == \"jessie\"').groupby(['upgrade']).count()*100/len(sources_all_stable.query('debian == \"jessie\"'))"
   ]
  },
  {
   "cell_type": "code",
   "execution_count": 232,
   "metadata": {},
   "outputs": [
    {
     "data": {
      "text/html": [
       "<div>\n",
       "<style scoped>\n",
       "    .dataframe tbody tr th:only-of-type {\n",
       "        vertical-align: middle;\n",
       "    }\n",
       "\n",
       "    .dataframe tbody tr th {\n",
       "        vertical-align: top;\n",
       "    }\n",
       "\n",
       "    .dataframe thead th {\n",
       "        text-align: right;\n",
       "    }\n",
       "</style>\n",
       "<table border=\"1\" class=\"dataframe\">\n",
       "  <thead>\n",
       "    <tr style=\"text-align: right;\">\n",
       "      <th></th>\n",
       "      <th>source</th>\n",
       "      <th>source_version</th>\n",
       "      <th>name</th>\n",
       "      <th>debian</th>\n",
       "      <th>type</th>\n",
       "      <th>debianbug</th>\n",
       "      <th>source_version_stable</th>\n",
       "      <th>debianbug_stable</th>\n",
       "      <th>diff</th>\n",
       "    </tr>\n",
       "    <tr>\n",
       "      <th>upgrade</th>\n",
       "      <th></th>\n",
       "      <th></th>\n",
       "      <th></th>\n",
       "      <th></th>\n",
       "      <th></th>\n",
       "      <th></th>\n",
       "      <th></th>\n",
       "      <th></th>\n",
       "      <th></th>\n",
       "    </tr>\n",
       "  </thead>\n",
       "  <tbody>\n",
       "    <tr>\n",
       "      <th>-1</th>\n",
       "      <td>12.306521</td>\n",
       "      <td>12.306521</td>\n",
       "      <td>12.306521</td>\n",
       "      <td>12.306521</td>\n",
       "      <td>12.306521</td>\n",
       "      <td>12.306521</td>\n",
       "      <td>12.306521</td>\n",
       "      <td>12.306521</td>\n",
       "      <td>12.306521</td>\n",
       "    </tr>\n",
       "    <tr>\n",
       "      <th>0</th>\n",
       "      <td>83.228304</td>\n",
       "      <td>83.228304</td>\n",
       "      <td>83.228304</td>\n",
       "      <td>83.228304</td>\n",
       "      <td>83.228304</td>\n",
       "      <td>83.228304</td>\n",
       "      <td>83.228304</td>\n",
       "      <td>83.228304</td>\n",
       "      <td>83.228304</td>\n",
       "    </tr>\n",
       "    <tr>\n",
       "      <th>1</th>\n",
       "      <td>4.465175</td>\n",
       "      <td>4.465175</td>\n",
       "      <td>4.465175</td>\n",
       "      <td>4.465175</td>\n",
       "      <td>4.465175</td>\n",
       "      <td>4.465175</td>\n",
       "      <td>4.465175</td>\n",
       "      <td>4.465175</td>\n",
       "      <td>4.465175</td>\n",
       "    </tr>\n",
       "  </tbody>\n",
       "</table>\n",
       "</div>"
      ],
      "text/plain": [
       "            source  source_version       name     debian       type  \\\n",
       "upgrade                                                               \n",
       "-1       12.306521       12.306521  12.306521  12.306521  12.306521   \n",
       " 0       83.228304       83.228304  83.228304  83.228304  83.228304   \n",
       " 1        4.465175        4.465175   4.465175   4.465175   4.465175   \n",
       "\n",
       "         debianbug  source_version_stable  debianbug_stable       diff  \n",
       "upgrade                                                                 \n",
       "-1       12.306521              12.306521         12.306521  12.306521  \n",
       " 0       83.228304              83.228304         83.228304  83.228304  \n",
       " 1        4.465175               4.465175          4.465175   4.465175  "
      ]
     },
     "execution_count": 232,
     "metadata": {},
     "output_type": "execute_result"
    }
   ],
   "source": [
    "sources_all_stable.query('debian == \"stretch\"').groupby(['upgrade']).count()*100/len(sources_all_stable.query('debian == \"stretch\"'))"
   ]
  },
  {
   "cell_type": "code",
   "execution_count": 233,
   "metadata": {},
   "outputs": [
    {
     "data": {
      "text/html": [
       "<div>\n",
       "<style scoped>\n",
       "    .dataframe tbody tr th:only-of-type {\n",
       "        vertical-align: middle;\n",
       "    }\n",
       "\n",
       "    .dataframe tbody tr th {\n",
       "        vertical-align: top;\n",
       "    }\n",
       "\n",
       "    .dataframe thead th {\n",
       "        text-align: right;\n",
       "    }\n",
       "</style>\n",
       "<table border=\"1\" class=\"dataframe\">\n",
       "  <thead>\n",
       "    <tr style=\"text-align: right;\">\n",
       "      <th></th>\n",
       "      <th>source</th>\n",
       "      <th>source_version</th>\n",
       "      <th>name</th>\n",
       "      <th>debian</th>\n",
       "      <th>type</th>\n",
       "      <th>debianbug</th>\n",
       "      <th>source_version_stable</th>\n",
       "      <th>debianbug_stable</th>\n",
       "      <th>diff</th>\n",
       "    </tr>\n",
       "    <tr>\n",
       "      <th>upgrade</th>\n",
       "      <th></th>\n",
       "      <th></th>\n",
       "      <th></th>\n",
       "      <th></th>\n",
       "      <th></th>\n",
       "      <th></th>\n",
       "      <th></th>\n",
       "      <th></th>\n",
       "      <th></th>\n",
       "    </tr>\n",
       "  </thead>\n",
       "  <tbody>\n",
       "    <tr>\n",
       "      <th>-1</th>\n",
       "      <td>27.507915</td>\n",
       "      <td>27.507915</td>\n",
       "      <td>27.507915</td>\n",
       "      <td>27.507915</td>\n",
       "      <td>27.507915</td>\n",
       "      <td>27.507915</td>\n",
       "      <td>27.507915</td>\n",
       "      <td>27.507915</td>\n",
       "      <td>27.507915</td>\n",
       "    </tr>\n",
       "    <tr>\n",
       "      <th>0</th>\n",
       "      <td>66.214383</td>\n",
       "      <td>66.214383</td>\n",
       "      <td>66.214383</td>\n",
       "      <td>66.214383</td>\n",
       "      <td>66.214383</td>\n",
       "      <td>66.214383</td>\n",
       "      <td>66.214383</td>\n",
       "      <td>66.214383</td>\n",
       "      <td>66.214383</td>\n",
       "    </tr>\n",
       "    <tr>\n",
       "      <th>1</th>\n",
       "      <td>6.277702</td>\n",
       "      <td>6.277702</td>\n",
       "      <td>6.277702</td>\n",
       "      <td>6.277702</td>\n",
       "      <td>6.277702</td>\n",
       "      <td>6.277702</td>\n",
       "      <td>6.277702</td>\n",
       "      <td>6.277702</td>\n",
       "      <td>6.277702</td>\n",
       "    </tr>\n",
       "  </tbody>\n",
       "</table>\n",
       "</div>"
      ],
      "text/plain": [
       "            source  source_version       name     debian       type  \\\n",
       "upgrade                                                               \n",
       "-1       27.507915       27.507915  27.507915  27.507915  27.507915   \n",
       " 0       66.214383       66.214383  66.214383  66.214383  66.214383   \n",
       " 1        6.277702        6.277702   6.277702   6.277702   6.277702   \n",
       "\n",
       "         debianbug  source_version_stable  debianbug_stable       diff  \n",
       "upgrade                                                                 \n",
       "-1       27.507915              27.507915         27.507915  27.507915  \n",
       " 0       66.214383              66.214383         66.214383  66.214383  \n",
       " 1        6.277702               6.277702          6.277702   6.277702  "
      ]
     },
     "execution_count": 233,
     "metadata": {},
     "output_type": "execute_result"
    }
   ],
   "source": [
    "sources_all_stable.query('debian == \"buster\"').groupby(['upgrade']).count()*100/len(sources_all_stable.query('debian == \"buster\"'))"
   ]
  },
  {
   "cell_type": "code",
   "execution_count": null,
   "metadata": {},
   "outputs": [],
   "source": []
  }
 ],
 "metadata": {
  "kernelspec": {
   "display_name": "Python 3",
   "language": "python",
   "name": "python3"
  },
  "language_info": {
   "codemirror_mode": {
    "name": "ipython",
    "version": 3
   },
   "file_extension": ".py",
   "mimetype": "text/x-python",
   "name": "python",
   "nbconvert_exporter": "python",
   "pygments_lexer": "ipython3",
   "version": "3.6.7"
  }
 },
 "nbformat": 4,
 "nbformat_minor": 2
}
