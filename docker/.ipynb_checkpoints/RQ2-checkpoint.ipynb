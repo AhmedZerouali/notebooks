{
 "cells": [
  {
   "cell_type": "code",
   "execution_count": 1,
   "metadata": {},
   "outputs": [],
   "source": [
    "%matplotlib inline\n",
    "import seaborn as sns; \n",
    "import pandas as pd\n",
    "import matplotlib.pyplot as plt\n",
    "from matplotlib import style\n",
    "from matplotlib import gridspec\n",
    "import scipy\n",
    "style.use('fast')\n",
    "from datetime import datetime\n",
    "from io import StringIO\n",
    "import re\n",
    "import numpy as np\n",
    "from datetime import datetime\n",
    "import os\n"
   ]
  },
  {
   "cell_type": "code",
   "execution_count": 2,
   "metadata": {},
   "outputs": [],
   "source": [
    "sns.set_style('ticks',{'legend.frameon':True} )\n",
    "sns.set_palette('colorblind')\n",
    "FIG_SIZE = (12, 3)\n",
    "font = {'family' : 'Times New Roman',\n",
    "        'weight' : 'bold',\n",
    "        'size'   : 22}\n",
    "plt.rc('font', **font)\n",
    "plt.rcParams['pdf.fonttype'] = 42\n",
    "plt.rcParams['ps.fonttype'] = 42\n",
    "plt.rcParams['text.usetex'] = True\n",
    "\n",
    "plt.rcParams['xtick.labelsize'] = 22\n",
    "plt.rcParams['ytick.labelsize'] = 22\n",
    "plt.rcParams['axes.labelsize']= 22\n",
    "flatui = [sns.xkcd_rgb[\"medium green\"], \"orange\", sns.xkcd_rgb[\"medium purple\"], \"#e74c3c\", \"#34495e\", \"#2ecc71\"]\n"
   ]
  },
  {
   "cell_type": "code",
   "execution_count": 3,
   "metadata": {},
   "outputs": [],
   "source": [
    "# Cliff's Delta\n",
    "from __future__ import division\n",
    " \n",
    "def cliffsDelta(lst1,lst2,\n",
    "                dull = [0.147, # small\n",
    "                        0.33,  # medium\n",
    "                        0.474 # large\n",
    "                        ][0] ): \n",
    "  \"Returns true if there are more than 'dull' differences\"\n",
    "  m, n = len(lst1), len(lst2)\n",
    "  lst2 = sorted(lst2)\n",
    "  j = more = less = 0\n",
    "  for repeats,x in runs(sorted(lst1)):\n",
    "    while j <= (n - 1) and lst2[j] <  x: \n",
    "      j += 1\n",
    "    more += j*repeats\n",
    "    while j <= (n - 1) and lst2[j] == x: \n",
    "      j += 1\n",
    "    less += (n - j)*repeats\n",
    "  d= (more - less) / (m*n)\n",
    "  f=abs(d)  > dull\n",
    "  print(\"d=\"+str(d))#+' '+str(f))\n",
    "  return abs(d)  > dull\n",
    "   \n",
    "def runs(lst):\n",
    "  \"Iterator, chunks repeated values\"\n",
    "  for j,two in enumerate(lst):\n",
    "    if j == 0:\n",
    "      one,i = two,0\n",
    "    if one!=two:\n",
    "      yield j - i,one\n",
    "      i = j\n",
    "    one=two\n",
    "  yield j - i + 1,two\n",
    "  \n",
    "def _cliffsDelta():\n",
    "  \"demo function\"\n",
    "  lst1=[1,2,3,4,5,6,7]\n",
    "  for r in [1.01,1.1,1.21, 1.5, 2]:\n",
    "    lst2=map(lambda x: x*r,lst1)\n"
   ]
  },
  {
   "cell_type": "markdown",
   "metadata": {},
   "source": [
    "# RQ2\n",
    "# VULNERABILITIES"
   ]
  },
  {
   "cell_type": "code",
   "execution_count": 4,
   "metadata": {},
   "outputs": [
    {
     "data": {
      "text/plain": [
       "25686"
      ]
     },
     "execution_count": 4,
     "metadata": {},
     "output_type": "execute_result"
    }
   ],
   "source": [
    "# Vulnerabilities\n",
    "docker_vulnerabilities=pd.read_csv('../../docker/csv/used/docker_vulnerabilities.csv', sep=';', dtype=object, index_col=None,  error_bad_lines=False)\n",
    "docker_vulnerabilities['urgency']=docker_vulnerabilities['urgency'].apply(lambda x: 'not assigned' if 'not' in x\n",
    "                                                                        else x)\n",
    "docker_vulnerabilities['urgency']=docker_vulnerabilities['urgency'].apply(lambda x: x.split('*')[0])\n",
    "docker_vulnerabilities.drop_duplicates(inplace=True)\n",
    "len(docker_vulnerabilities)"
   ]
  },
  {
   "cell_type": "code",
   "execution_count": 5,
   "metadata": {},
   "outputs": [
    {
     "data": {
      "text/plain": [
       "Text(0.18,1.15,'Status:')"
      ]
     },
     "execution_count": 5,
     "metadata": {},
     "output_type": "execute_result"
    },
    {
     "data": {
      "image/png": "[encoded data removed]",
      "text/plain": [
       "<matplotlib.figure.Figure at 0x7f52f9527358>"
      ]
     },
     "metadata": {},
     "output_type": "display_data"
    }
   ],
   "source": [
    "\n",
    "vuls=docker_vulnerabilities.groupby(['urgency','status']).count().reset_index()\n",
    "vuls['source']=vuls['source']*100/len(docker_vulnerabilities)\n",
    "vuls=vuls.sort_values('urgency', ascending=False)\n",
    "flatui = [sns.xkcd_rgb[\"medium green\"], \"orange\", sns.xkcd_rgb[\"medium purple\"], \"#e74c3c\", \"#34495e\", \"#2ecc71\"]\n",
    "\n",
    "ax = sns.barplot(x=\"urgency\", \n",
    "                 y=\"source\", \n",
    "                 hue=\"status\", \n",
    "                 order=['not assigned','unimportant', 'low', 'medium', 'high'],\n",
    "                 data=vuls, \n",
    "                 palette=flatui, \n",
    "                 linewidth=1)\n",
    "ax.figure.set_size_inches(12,3)\n",
    "ax.set_xlabel(\"Severity\")\n",
    "ax.set_ylabel('Package \\n vulnerabilities \\%')\n",
    "for patch in ax.patches:\n",
    "    patch.set_edgecolor('black')\n",
    "ax.legend(loc='upper right', bbox_to_anchor=(1, 1.3), ncol=3, fontsize=20, fancybox=True, shadow=True)\n",
    "ax.text(0.18, 1.15, 'Status:', transform=ax.transAxes, fontsize=20,\n",
    "        verticalalignment='top', color='black')\n"
   ]
  },
  {
   "cell_type": "code",
   "execution_count": 6,
   "metadata": {},
   "outputs": [
    {
     "data": {
      "text/html": [
       "<div>\n",
       "<style scoped>\n",
       "    .dataframe tbody tr th:only-of-type {\n",
       "        vertical-align: middle;\n",
       "    }\n",
       "\n",
       "    .dataframe tbody tr th {\n",
       "        vertical-align: top;\n",
       "    }\n",
       "\n",
       "    .dataframe thead th {\n",
       "        text-align: right;\n",
       "    }\n",
       "</style>\n",
       "<table border=\"1\" class=\"dataframe\">\n",
       "  <thead>\n",
       "    <tr style=\"text-align: right;\">\n",
       "      <th></th>\n",
       "      <th>status</th>\n",
       "      <th>source</th>\n",
       "      <th>source_version</th>\n",
       "      <th>urgency</th>\n",
       "      <th>fixed_version</th>\n",
       "      <th>debianbug</th>\n",
       "      <th>release</th>\n",
       "      <th>cve</th>\n",
       "    </tr>\n",
       "  </thead>\n",
       "  <tbody>\n",
       "    <tr>\n",
       "      <th>0</th>\n",
       "      <td>open</td>\n",
       "      <td>48.6</td>\n",
       "      <td>12479</td>\n",
       "      <td>12479</td>\n",
       "      <td>12479</td>\n",
       "      <td>12479</td>\n",
       "      <td>12479</td>\n",
       "      <td>12479</td>\n",
       "    </tr>\n",
       "    <tr>\n",
       "      <th>1</th>\n",
       "      <td>resolved</td>\n",
       "      <td>49.9</td>\n",
       "      <td>12806</td>\n",
       "      <td>12806</td>\n",
       "      <td>12806</td>\n",
       "      <td>12806</td>\n",
       "      <td>12806</td>\n",
       "      <td>12806</td>\n",
       "    </tr>\n",
       "    <tr>\n",
       "      <th>2</th>\n",
       "      <td>undetermined</td>\n",
       "      <td>1.6</td>\n",
       "      <td>401</td>\n",
       "      <td>401</td>\n",
       "      <td>401</td>\n",
       "      <td>401</td>\n",
       "      <td>401</td>\n",
       "      <td>401</td>\n",
       "    </tr>\n",
       "  </tbody>\n",
       "</table>\n",
       "</div>"
      ],
      "text/plain": [
       "         status source  source_version  urgency  fixed_version  debianbug  \\\n",
       "0          open   48.6           12479    12479          12479      12479   \n",
       "1      resolved   49.9           12806    12806          12806      12806   \n",
       "2  undetermined    1.6             401      401            401        401   \n",
       "\n",
       "   release    cve  \n",
       "0    12479  12479  \n",
       "1    12806  12806  \n",
       "2      401    401  "
      ]
     },
     "execution_count": 6,
     "metadata": {},
     "output_type": "execute_result"
    }
   ],
   "source": [
    "vuls=docker_vulnerabilities.groupby(['status']).count().reset_index()\n",
    "vuls['source']=(vuls['source']*100/len(docker_vulnerabilities)).apply(lambda x: \"%.1f\" % x)\n",
    "vuls"
   ]
  },
  {
   "cell_type": "code",
   "execution_count": 7,
   "metadata": {},
   "outputs": [
    {
     "data": {
      "text/plain": [
       "9879982"
      ]
     },
     "execution_count": 7,
     "metadata": {},
     "output_type": "execute_result"
    }
   ],
   "source": [
    "###### Vulnerabilities with packages\n",
    "lag_vul_all=pd.read_csv('../../docker/csv/used/lag_vul_all_correct.csv', sep=';', dtype=object, index_col=None,  error_bad_lines=False)\n",
    "lag_vul_all['urgency']=lag_vul_all['urgency'].apply(lambda x: x.split('*')[0])\n",
    "lag_vul_all['urgency']=lag_vul_all['urgency'].apply(lambda x: 'not assigned' if 'not' in x\n",
    "                                                                        else x)\n",
    "len(lag_vul_all)"
   ]
  },
  {
   "cell_type": "code",
   "execution_count": 8,
   "metadata": {},
   "outputs": [
    {
     "name": "stdout",
     "output_type": "stream",
     "text": [
      "347.02878494326046 102.0\n"
     ]
    }
   ],
   "source": [
    "print(lag_vul_all.query('status==\"resolved\"').groupby(['name']).count()[['cve']].cve.mean(),\n",
    "      lag_vul_all.query('status==\"resolved\"').groupby(['name']).count()[['cve']].cve.median())"
   ]
  },
  {
   "cell_type": "code",
   "execution_count": 16,
   "metadata": {},
   "outputs": [
    {
     "data": {
      "text/html": [
       "<div>\n",
       "<style scoped>\n",
       "    .dataframe tbody tr th:only-of-type {\n",
       "        vertical-align: middle;\n",
       "    }\n",
       "\n",
       "    .dataframe tbody tr th {\n",
       "        vertical-align: top;\n",
       "    }\n",
       "\n",
       "    .dataframe thead th {\n",
       "        text-align: right;\n",
       "    }\n",
       "</style>\n",
       "<table border=\"1\" class=\"dataframe\">\n",
       "  <thead>\n",
       "    <tr style=\"text-align: right;\">\n",
       "      <th></th>\n",
       "      <th>urgency</th>\n",
       "      <th>name</th>\n",
       "    </tr>\n",
       "  </thead>\n",
       "  <tbody>\n",
       "    <tr>\n",
       "      <th>0</th>\n",
       "      <td>end-of-life</td>\n",
       "      <td>0.135501</td>\n",
       "    </tr>\n",
       "    <tr>\n",
       "      <th>1</th>\n",
       "      <td>high</td>\n",
       "      <td>100.000000</td>\n",
       "    </tr>\n",
       "    <tr>\n",
       "      <th>2</th>\n",
       "      <td>low</td>\n",
       "      <td>100.000000</td>\n",
       "    </tr>\n",
       "    <tr>\n",
       "      <th>3</th>\n",
       "      <td>medium</td>\n",
       "      <td>100.000000</td>\n",
       "    </tr>\n",
       "    <tr>\n",
       "      <th>4</th>\n",
       "      <td>not assigned</td>\n",
       "      <td>96.178862</td>\n",
       "    </tr>\n",
       "    <tr>\n",
       "      <th>5</th>\n",
       "      <td>unimportant</td>\n",
       "      <td>100.000000</td>\n",
       "    </tr>\n",
       "  </tbody>\n",
       "</table>\n",
       "</div>"
      ],
      "text/plain": [
       "        urgency        name\n",
       "0   end-of-life    0.135501\n",
       "1          high  100.000000\n",
       "2           low  100.000000\n",
       "3        medium  100.000000\n",
       "4  not assigned   96.178862\n",
       "5   unimportant  100.000000"
      ]
     },
     "execution_count": 16,
     "metadata": {},
     "output_type": "execute_result"
    }
   ],
   "source": [
    "vuls=lag_vul_all[['name','urgency']].drop_duplicates().groupby(['urgency']).count().reset_index()\n",
    "vuls['name']=vuls['name']*100/7380\n",
    "vuls"
   ]
  },
  {
   "cell_type": "code",
   "execution_count": 398,
   "metadata": {},
   "outputs": [],
   "source": [
    "# In case we want only unique cves per container\n",
    "if False:\n",
    "    lag_vul_all=lag_vul_all.loc[:,['name','source','source_version','created','cve','debian','date','isOudate',\n",
    "                  'urgency','type','status','release_snapshot']]\n",
    "    lag_vul_all=lag_vul_all.drop_duplicates()\n",
    "    len(lag_vul_all)"
   ]
  },
  {
   "cell_type": "code",
   "execution_count": 9,
   "metadata": {},
   "outputs": [
    {
     "data": {
      "text/plain": [
       "(0, 6000)"
      ]
     },
     "execution_count": 9,
     "metadata": {},
     "output_type": "execute_result"
    },
    {
     "data": {
      "image/png": "[encoded data removed]",
      "text/plain": [
       "<matplotlib.figure.Figure at 0x7f52f4333c18>"
      ]
     },
     "metadata": {},
     "output_type": "display_data"
    }
   ],
   "source": [
    "######### concatinating both dataframes : offical and community\n",
    "if True:\n",
    "    df_tmp=(lag_vul_all.\n",
    "            groupby(['name','debian','type']).\n",
    "            count().\n",
    "            sort_values('source', ascending=False).\n",
    "            reset_index()\n",
    "           )\n",
    "\n",
    "order=['jessie','stretch','buster']\n",
    "\n",
    "ax = sns.boxplot(x=\"debian\", y=\"source\", data=df_tmp, hue=\"type\", palette=\"muted\", order=order, linewidth=1)\n",
    "ax.figure.set_size_inches(11,3)\n",
    "ax.set_xlabel(\"Container's Debian version\")\n",
    "ax.set_ylabel('Vulnerabilities')\n",
    "for patch in ax.patches:\n",
    "    patch.set_edgecolor('black')\n",
    "ax.legend(loc='upper right', bbox_to_anchor=(1, 1.3), ncol=3, fontsize=20, fancybox=True, shadow=True)\n",
    "ax.set_ylim(0,6000)\n"
   ]
  },
  {
   "cell_type": "code",
   "execution_count": 10,
   "metadata": {},
   "outputs": [
    {
     "name": "stdout",
     "output_type": "stream",
     "text": [
      "jessie\n",
      "155 660.0 7106 155 916.0 7338\n",
      "stretch\n",
      "85 249.0 3498 75 342.5 4729\n",
      "buster\n",
      "34 136.5 659 41 192.0 1049\n"
     ]
    }
   ],
   "source": [
    "for x in ['jessie','stretch','buster']:\n",
    "    print(x)\n",
    "    print(df_tmp.query('type==\"Official\"').query('debian==\"'+x+'\"').cve.min(),\n",
    "          df_tmp.query('type==\"Official\"').query('debian==\"'+x+'\"').cve.median(),\n",
    "          df_tmp.query('type==\"Official\"').query('debian==\"'+x+'\"').cve.max(),\n",
    "      df_tmp.query('type==\"Community\"').query('debian==\"'+x+'\"').cve.min(),\n",
    "         df_tmp.query('type==\"Community\"').query('debian==\"'+x+'\"').cve.median(),\n",
    "         df_tmp.query('type==\"Community\"').query('debian==\"'+x+'\"').cve.max())\n"
   ]
  },
  {
   "cell_type": "code",
   "execution_count": 11,
   "metadata": {},
   "outputs": [
    {
     "name": "stdout",
     "output_type": "stream",
     "text": [
      "jessie\n",
      "d=0.16742100529202902\n",
      "stretch\n",
      "d=0.11575682382133995\n",
      "buster\n",
      "d=0.29643410852713176\n"
     ]
    }
   ],
   "source": [
    "for x in ['jessie','stretch','buster']:\n",
    "    print(x)\n",
    "    cliffsDelta(df_tmp.query('type==\"Community\"').query('debian==\"'+x+'\"').cve, \n",
    "            df_tmp.query('type==\"Official\"').query('debian==\"'+x+'\"').cve)"
   ]
  },
  {
   "cell_type": "code",
   "execution_count": 12,
   "metadata": {},
   "outputs": [
    {
     "name": "stdout",
     "output_type": "stream",
     "text": [
      "jessie MannwhitneyuResult(statistic=2517310.5, pvalue=4.7825331760449745e-23)\n",
      "stretch MannwhitneyuResult(statistic=342096.0, pvalue=2.2523664529189984e-05)\n",
      "buster MannwhitneyuResult(statistic=4538.0, pvalue=7.6040454778072945e-05)\n"
     ]
    }
   ],
   "source": [
    "for x in ['jessie','stretch','buster']:\n",
    "    print(x,scipy.stats.mannwhitneyu(df_tmp.query('type==\"Community\"').query('debian==\"'+x+'\"').cve, \n",
    "            df_tmp.query('type==\"Official\"').query('debian==\"'+x+'\"').cve))"
   ]
  },
  {
   "cell_type": "code",
   "execution_count": 13,
   "metadata": {},
   "outputs": [
    {
     "name": "stdout",
     "output_type": "stream",
     "text": [
      "how many vulnerables sources: 489\n"
     ]
    }
   ],
   "source": [
    "print('how many vulnerables sources:',len(lag_vul_all['source'].drop_duplicates()))\n"
   ]
  },
  {
   "cell_type": "code",
   "execution_count": 15,
   "metadata": {},
   "outputs": [],
   "source": [
    "if True:\n",
    "    df_tmp=(lag_vul_all.\n",
    "            groupby(['name','debian','type']).\n",
    "            count().\n",
    "            loc[:,['package']].\n",
    "            reset_index()\n",
    "           )\n",
    "    df_tmp2=(lag_vul_all.query('isOutdate==\"Out-of-date\"').\n",
    "             groupby(['name','debian','type','package','version']).\n",
    "             count().\n",
    "             loc[:,[]].\n",
    "             reset_index().\n",
    "             groupby(['name','debian','type']).\n",
    "             count().\n",
    "             reset_index().\n",
    "             loc[:,['version','name']]\n",
    "            )\n",
    "    \n",
    "    df_tmp3=(df_tmp2.merge(\n",
    "        df_tmp,\n",
    "        left_on='name',\n",
    "        right_on='name',\n",
    "        how='left')\n",
    "            )\n",
    "df_tmp3['version']=df_tmp3['version'].apply(int)"
   ]
  },
  {
   "cell_type": "code",
   "execution_count": 16,
   "metadata": {},
   "outputs": [
    {
     "data": {
      "text/plain": [
       "<seaborn.axisgrid.FacetGrid at 0x7f52fa0084e0>"
      ]
     },
     "execution_count": 16,
     "metadata": {},
     "output_type": "execute_result"
    },
    {
     "data": {
      "image/png": "[encoded data removed]",
      "text/plain": [
       "<matplotlib.figure.Figure at 0x7f52e6e2f4a8>"
      ]
     },
     "metadata": {},
     "output_type": "display_data"
    }
   ],
   "source": [
    "order=['jessie','stretch','buster']\n",
    "ax = sns.lmplot(x=\"version\", y=\"package\", markers=[\"+\", 'o','x'], \n",
    "                hue=\"debian\", palette=flatui, data=df_tmp3, \n",
    "                size=8, legend='', hue_order=order)\n",
    "ax.fig.set_size_inches(12,3.5)\n",
    "ax.set_ylabels('\\# vulnerabilities')\n",
    "ax.set_xlabels('\\# outdated packages')\n",
    "ax.fig.legend(loc='upper right', bbox_to_anchor=(0.32, 1), fontsize=25, fancybox=True, shadow=True)# ,ncol=3)\n",
    "ax.set(ylim=(0,6100), xlim=(0,150))\n"
   ]
  },
  {
   "cell_type": "code",
   "execution_count": 44,
   "metadata": {},
   "outputs": [
    {
     "name": "stdout",
     "output_type": "stream",
     "text": [
      "r-squared: 0.770658589113\n",
      "slope: 17.9235873255\n",
      "r-squared: 0.744130609955\n",
      "slope: 6.15549668527\n",
      "r-squared: 0.771535631896\n",
      "slope: 5.50553823363\n"
     ]
    }
   ],
   "source": [
    "for x in ['jessie','stretch','buster']:\n",
    "    test=df_tmp3.query('debian==\"'+x+'\"')\n",
    "    slope, intercept, r_value, p_value, std_err = scipy.stats.linregress(test.version,\n",
    "                                                                         test.package)\n",
    "    print(\"r-squared:\", r_value**2)\n",
    "    print('slope:',slope)"
   ]
  },
  {
   "cell_type": "code",
   "execution_count": 45,
   "metadata": {},
   "outputs": [
    {
     "name": "stdout",
     "output_type": "stream",
     "text": [
      "Up to date and only Resolved\n",
      "jessie (0.87787162450637557, 0.0) \n",
      "\n",
      "stretch (0.86263005393674863, 0.0) \n",
      "\n",
      "buster (0.87837101039130661, 5.2896802022006786e-67) \n",
      "\n",
      "jessie SpearmanrResult(correlation=0.97890495483780871, pvalue=0.0) \n",
      "\n",
      "stretch SpearmanrResult(correlation=0.97767635261143704, pvalue=0.0) \n",
      "\n",
      "buster SpearmanrResult(correlation=0.95673386516847458, pvalue=8.4367697088744152e-111) \n",
      "\n",
      "jessie KendalltauResult(correlation=0.89104553424150101, pvalue=0.0) \n",
      "\n",
      "stretch KendalltauResult(correlation=0.8978358855396168, pvalue=0.0) \n",
      "\n",
      "buster KendalltauResult(correlation=0.85616115342471377, pvalue=2.5628317579296804e-69) \n",
      "\n"
     ]
    }
   ],
   "source": [
    "print('Up to date and only Resolved')\n",
    "for x in ['jessie','stretch','buster']:\n",
    "    test=df_tmp3.query('debian==\"'+x+'\"')\n",
    "    print(x,scipy.stats.pearsonr(test.package, test.version),'\\n')\n",
    "    \n",
    "for x in ['jessie','stretch','buster']:\n",
    "    test=df_tmp3.query('debian==\"'+x+'\"')\n",
    "    print(x,scipy.stats.spearmanr(test.package, test.version),'\\n')\n",
    "    \n",
    "for x in ['jessie','stretch','buster']:\n",
    "    test=df_tmp3.query('debian==\"'+x+'\"')\n",
    "    print(x,scipy.stats.kendalltau(test.package, test.version),'\\n')"
   ]
  }
 ],
 "metadata": {
  "kernelspec": {
   "display_name": "Python 3",
   "language": "python",
   "name": "python3"
  },
  "language_info": {
   "codemirror_mode": {
    "name": "ipython",
    "version": 3
   },
   "file_extension": ".py",
   "mimetype": "text/x-python",
   "name": "python",
   "nbconvert_exporter": "python",
   "pygments_lexer": "ipython3",
   "version": "3.5.1+"
  }
 },
 "nbformat": 4,
 "nbformat_minor": 2
}
