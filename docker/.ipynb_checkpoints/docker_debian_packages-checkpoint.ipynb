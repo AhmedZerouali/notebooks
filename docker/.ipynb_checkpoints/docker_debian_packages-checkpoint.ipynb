{
 "cells": [
  {
   "cell_type": "code",
   "execution_count": 17,
   "metadata": {},
   "outputs": [],
   "source": [
    "%matplotlib inline\n",
    "import seaborn as sns; #sns.set(style=\"ticks\", color_codes=True)\n",
    "import pandas as pd\n",
    "import matplotlib.pyplot as plt\n",
    "from matplotlib import style\n",
    "from matplotlib import gridspec\n",
    "import scipy\n",
    "style.use('fast')\n",
    "from datetime import datetime\n",
    "from io import StringIO\n",
    "import re\n",
    "import numpy as np\n",
    "from datetime import datetime\n",
    "import os\n",
    "\n",
    "sns.set_style('ticks',{'legend.frameon':True} )\n",
    "sns.set_palette('colorblind')\n",
    "FIG_SIZE = (12, 3)\n",
    "font = {'family' : 'Times New Roman',\n",
    "        'weight' : 'bold',\n",
    "        'size'   : 22}\n",
    "plt.rc('font', **font)\n",
    "plt.rcParams['pdf.fonttype'] = 42\n",
    "plt.rcParams['ps.fonttype'] = 42\n",
    "plt.rcParams['text.usetex'] = True\n",
    "\n",
    "plt.rcParams['xtick.labelsize'] = 18\n",
    "plt.rcParams['ytick.labelsize'] = 22\n",
    "plt.rcParams['axes.labelsize']= 22\n"
   ]
  },
  {
   "cell_type": "markdown",
   "metadata": {},
   "source": [
    "# Packages installed in official and community images: 13march -> 27march\n",
    "################################################################################################################\n",
    "################################################################################################################\n"
   ]
  },
  {
   "cell_type": "code",
   "execution_count": 18,
   "metadata": {},
   "outputs": [
    {
     "data": {
      "text/plain": [
       "1393966"
      ]
     },
     "execution_count": 18,
     "metadata": {},
     "output_type": "execute_result"
    }
   ],
   "source": [
    "# Starts here #########################\n",
    "community_packages=pd.read_csv('../docker/csv/packages_from_community_images.csv', sep=';', dtype=object, index_col=None,  error_bad_lines=False)\n",
    "community_packages['debian']=community_packages['release'].apply(lambda x:\n",
    "                                                               'jessie' if x.startswith('8')\n",
    "                                                               else 'stretch' if x.startswith('9')\n",
    "                                                               else 'wheezy' if x.startswith('7')\n",
    "                                                               else 'squeeze' if x.startswith('6')\n",
    "                                                               else 'buster' if x.startswith('buster')\n",
    "                                                                else x)\n",
    "#community_packages['date']='27-03-2018'\n",
    "community_packages['package']=community_packages['package'].apply(lambda x: x.split(':')[0])\n",
    "community_packages=community_packages.query('debian!=\"wheezy\" and debian!=\"squeeze\"')\n",
    "\n",
    "community_packages.drop_duplicates(inplace=True)\n",
    "len(community_packages)"
   ]
  },
  {
   "cell_type": "code",
   "execution_count": 19,
   "metadata": {},
   "outputs": [
    {
     "data": {
      "text/plain": [
       "566622"
      ]
     },
     "execution_count": 19,
     "metadata": {},
     "output_type": "execute_result"
    }
   ],
   "source": [
    "official_packages=pd.read_csv('../docker/csv/packages_from_official_images.csv', sep=';', dtype=object, index_col=None,  error_bad_lines=False)\n",
    "official_packages['debian']=official_packages['release'].apply(lambda x:\n",
    "                                                               'jessie' if x.startswith('8')\n",
    "                                                               else 'stretch' if x.startswith('9')\n",
    "                                                               else 'wheezy' if x.startswith('7')\n",
    "                                                               else 'squeeze' if x.startswith('6')\n",
    "                                                               else 'buster' if x.startswith('buster')\n",
    "                                                                else x)\n",
    "#official_packages['date']='27-03-2018'\n",
    "official_packages['package']=official_packages['package'].apply(lambda x: x.split(':')[0])\n",
    "official_packages=official_packages.query('debian!=\"wheezy\" and debian!=\"squeeze\"')\n",
    "\n",
    "official_packages.drop_duplicates(inplace=True)\n",
    "\n",
    "len(official_packages)"
   ]
  },
  {
   "cell_type": "code",
   "execution_count": 20,
   "metadata": {},
   "outputs": [
    {
     "name": "stdout",
     "output_type": "stream",
     "text": [
      "Official containers installed package versions 566622\n",
      "Community containers installed package versions 1393966\n"
     ]
    }
   ],
   "source": [
    "#################### here we add dates about when they were created ################\n",
    "# this cell is to get dates\n",
    "official_layers=pd.read_csv('../docker/csv/layers_official_23MARCH.csv', sep=';', dtype=object, index_col=None,  error_bad_lines=False)\n",
    "\n",
    "community_layers=pd.read_csv('../docker/csv/layers_community_march_12k.csv', sep=';', dtype=object, index_col=None,  error_bad_lines=False)\n",
    "image_date=pd.read_csv('../docker/csv/images_when_created_both_April.csv', sep=';', dtype=object, index_col=None,  error_bad_lines=False)\n",
    "\n",
    "created_date=pd.concat([official_layers,community_layers,community_layers])\n",
    "\n",
    "\n",
    "\n",
    "created_date['created']=created_date['created'].apply(lambda x: str(x).split('T')[0])\n",
    "created_date=created_date.groupby(['slug','tag','created']).count().reset_index()\n",
    "\n",
    "created_date['name']=created_date['slug']+':'+created_date['tag']\n",
    "created_date.drop(['slug','tag','level','layer'], axis=1, inplace=True)\n",
    "created_date=pd.concat([image_date,created_date])\n",
    "created_date.sort_values('created', ascending=False, inplace=True)\n",
    "created_date=created_date.groupby('name').first().reset_index()\n",
    "####################################################################################\n",
    "\n",
    "\n",
    "official_packages=(official_packages.set_index('name').\n",
    "    merge(created_date.\n",
    "          set_index('name'),\n",
    "          left_index=True,\n",
    "          right_index=True,\n",
    "          how='outer')\n",
    "   ).reset_index().dropna()\n",
    "\n",
    "\n",
    "community_packages=(community_packages.set_index('name').\n",
    "    merge(created_date.\n",
    "          set_index('name'),\n",
    "          left_index=True,\n",
    "          right_index=True,\n",
    "          how='outer')\n",
    "   ).reset_index().dropna()\n",
    "\n",
    "print('Official containers installed package versions', len(official_packages))\n",
    "print('Community containers installed package versions', len(community_packages))"
   ]
  },
  {
   "cell_type": "code",
   "execution_count": 5,
   "metadata": {},
   "outputs": [],
   "source": [
    "#official_again=official_packages.loc[:,['name']].drop_duplicates()\n",
    "#community_again=community_packages.loc[:,['name']].drop_duplicates()\n",
    "#official_again.to_csv('../../official_again.csv', index=False)\n",
    "#community_again.to_csv('../../community_again.csv', index=False)"
   ]
  },
  {
   "cell_type": "markdown",
   "metadata": {},
   "source": [
    "################################################################################################################\n",
    "################################################################################################################\n",
    "# Here are debian packages until 18March\n",
    "################################################################################################################\n",
    "################################################################################################################\n"
   ]
  },
  {
   "cell_type": "code",
   "execution_count": 71,
   "metadata": {},
   "outputs": [
    {
     "data": {
      "text/plain": [
       "1401129"
      ]
     },
     "execution_count": 71,
     "metadata": {},
     "output_type": "execute_result"
    }
   ],
   "source": [
    "for index, file in enumerate(os.listdir('../docker/debian_packages_18March/')):\n",
    "    if index ==0:\n",
    "        debian_packages=pd.read_csv('../docker/debian_packages_18March/'+file, sep=';', dtype=object, index_col=None,  error_bad_lines=False)\n",
    "    else:\n",
    "        df=pd.read_csv('../docker/debian_packages_18March/'+file, sep=';', dtype=object, index_col=None,  error_bad_lines=False)\n",
    "        debian_packages=pd.concat([debian_packages,df])\n",
    "\n",
    "for x in debian_packages:\n",
    "    debian_packages[x]=debian_packages[x].apply(lambda d: d.replace(' ',''))\n",
    "len(debian_packages)"
   ]
  },
  {
   "cell_type": "code",
   "execution_count": 72,
   "metadata": {},
   "outputs": [
    {
     "data": {
      "text/plain": [
       "591897"
      ]
     },
     "execution_count": 72,
     "metadata": {},
     "output_type": "execute_result"
    }
   ],
   "source": [
    "debian_packages=debian_packages.drop(\"priority\", axis=1)\n",
    "#debian_packages=debian_packages.loc[:,['package','version','source']]\n",
    "debian_packages.drop_duplicates(inplace=True)\n",
    "######## Now here we consider only the first date when the package version was seen\n",
    "debian_packages=(debian_packages.\n",
    "                 sort_values('date', ascending=True).\n",
    "                 groupby(['package','version']).\n",
    "                 first().\n",
    "                 reset_index())\n",
    "\n",
    "debian_packages['source_version']=debian_packages['version']+'|'+debian_packages['source']\n",
    "debian_packages['source_version']=debian_packages['source_version'].apply(lambda x:\n",
    "                                                                          x.split('|')[1].split(')')[0].split('(')[1] if '(' in x.split('|')[1]\n",
    "                                                                          else x.split('|')[0])\n",
    "debian_packages['source']=debian_packages['source'].apply(lambda x: x.split('(')[0])\n",
    "debian_packages=debian_packages.query('date<\"20180328\"')\n",
    "len(debian_packages)"
   ]
  },
  {
   "cell_type": "code",
   "execution_count": 156,
   "metadata": {},
   "outputs": [
    {
     "name": "stdout",
     "output_type": "stream",
     "text": [
      "0 591897\n"
     ]
    }
   ],
   "source": [
    "t=[]\n",
    "for x in debian_packages.source.values:\n",
    "    if ' ' in x:\n",
    "        t.append(x)\n",
    "print(len(t), len(debian_packages.source.values))"
   ]
  },
  {
   "cell_type": "code",
   "execution_count": 106,
   "metadata": {},
   "outputs": [],
   "source": [
    "#debian_packages.to_csv('datasets/debian_packages_18March.csv', index=False, sep=\";\")"
   ]
  },
  {
   "cell_type": "code",
   "execution_count": 107,
   "metadata": {},
   "outputs": [],
   "source": [
    "# len(debian_packages) == len(debian_packages.loc[:,['package','version']].drop_duplicates())"
   ]
  },
  {
   "cell_type": "code",
   "execution_count": 24,
   "metadata": {},
   "outputs": [
    {
     "data": {
      "text/plain": [
       "('analyzed packages:', 0.9912163664665332)"
      ]
     },
     "execution_count": 24,
     "metadata": {},
     "output_type": "execute_result"
    }
   ],
   "source": [
    "# get source name and version of packages found in OFFICIAL images\n",
    "df=official_packages.set_index(['package','version']).merge(\n",
    "    debian_packages.set_index(['package','version']),\n",
    "    left_index=True, \n",
    "    right_index=True, \n",
    "    how='outer')\n",
    "official_sources=df.reset_index().dropna()\n",
    "'analyzed packages:',len(official_sources)/len(official_packages)"
   ]
  },
  {
   "cell_type": "code",
   "execution_count": 25,
   "metadata": {},
   "outputs": [
    {
     "data": {
      "text/plain": [
       "('analyzed packages:', 0.9887192370545623)"
      ]
     },
     "execution_count": 25,
     "metadata": {},
     "output_type": "execute_result"
    }
   ],
   "source": [
    "# get source name and version of packages found in COMMUNITY images\n",
    "df=community_packages.set_index(['package','version']).merge(\n",
    "    debian_packages.set_index(['package','version']),\n",
    "    left_index=True, \n",
    "    right_index=True, \n",
    "    how='outer')\n",
    "community_sources=df.reset_index().dropna()\n",
    "'analyzed packages:',len(community_sources)/len(community_packages)"
   ]
  },
  {
   "cell_type": "code",
   "execution_count": 159,
   "metadata": {},
   "outputs": [
    {
     "name": "stdout",
     "output_type": "stream",
     "text": [
      "4414 7673\n"
     ]
    }
   ],
   "source": [
    "print(len(outdate_community['source'].drop_duplicates()),\n",
    "len(outdate_community[['source','source_version']].drop_duplicates()))"
   ]
  },
  {
   "cell_type": "code",
   "execution_count": 26,
   "metadata": {},
   "outputs": [],
   "source": [
    "# Just change the name of the debian repository to 'jessie, stretch, buster'\n",
    "official_sources['release_snapshot']=official_sources['release_y'].apply(lambda x:\n",
    "                                                                        'jessie' if 'jessie' in x\n",
    "                                                                        else 'stretch' if 'stretch' in x\n",
    "                                                                        else x)\n",
    "\n",
    "official_sources['inSecurity']=official_sources['release_y'].apply(lambda x:\n",
    "                                                                        'True' if 'security' in x\n",
    "                                                                        else 'False')\n",
    "official_sources['release_repo']=official_sources['release_y']\n",
    "official_sources.drop(['release_x','release_y'], axis=1, inplace=True)\n",
    "\n",
    "\n",
    "community_sources['release_snapshot']=community_sources['release_y'].apply(lambda x:\n",
    "                                                                        'jessie' if 'jessie' in x\n",
    "                                                                        else 'stretch' if 'stretch' in x\n",
    "                                                                        else x)\n",
    "\n",
    "community_sources['inSecurity']=community_sources['release_y'].apply(lambda x:\n",
    "                                                                        'True' if 'security' in x\n",
    "                                                                        else 'False')\n",
    "\n",
    "community_sources['release_repo']=community_sources['release_y']\n",
    "community_sources.drop(['release_x','release_y'], axis=1, inplace=True)\n"
   ]
  },
  {
   "cell_type": "code",
   "execution_count": 161,
   "metadata": {},
   "outputs": [],
   "source": [
    "community_sources.to_csv('../docker/csv/used/community_sources.csv', index=False, sep=';')\n",
    "official_sources.to_csv('../docker/csv/used/official_sources.csv', index=False, sep=';')"
   ]
  },
  {
   "cell_type": "markdown",
   "metadata": {},
   "source": [
    "################################################################################################################\n",
    "################################################################################################################\n",
    "# Let's see if packages are outdated\n",
    "################################################################################################################\n",
    "################################################################################################################"
   ]
  },
  {
   "cell_type": "code",
   "execution_count": 27,
   "metadata": {},
   "outputs": [
    {
     "data": {
      "text/plain": [
       "16990"
      ]
     },
     "execution_count": 27,
     "metadata": {},
     "output_type": "execute_result"
    }
   ],
   "source": [
    "# Unique packages that should be looked for bugs and vulnerabilities\n",
    "uniq_packages=pd.concat([\n",
    "    official_sources.loc[:,['package','version','source','source_version']].drop_duplicates(),\n",
    "    community_sources.loc[:,['package','version','source','source_version']].drop_duplicates()\n",
    "])\n",
    "uniq_packages.drop_duplicates(inplace=True)\n",
    "len(uniq_packages)"
   ]
  },
  {
   "cell_type": "code",
   "execution_count": 163,
   "metadata": {},
   "outputs": [],
   "source": [
    "### Here we sort using the debian function\n",
    "if False:\n",
    "    import apt_pkg\n",
    "    apt_pkg.init_system()\n",
    "    all_packages={}\n",
    "    for package in set(uniq_packages.package.values):\n",
    "        versions_all=set(debian_packages.query('package==\"'+package+'\"').version.values)\n",
    "        all_packages[package]=[]\n",
    "        a=[]\n",
    "        for x in  sorted(list(versions_all)):\n",
    "            ver=False\n",
    "            for index, y in enumerate(a):\n",
    "                if apt_pkg.version_compare(x,y) <0:\n",
    "                    a=a[:index] + [x] + a[index:]\n",
    "\n",
    "                    ver=True\n",
    "                    break\n",
    "            if not ver:\n",
    "                a=a+[x]\n",
    "        all_packages[package]=a\n",
    "\n",
    "    df_all=pd.DataFrame()\n",
    "    for package in set(uniq_packages.package.values):\n",
    "        #print(package)\n",
    "        test=pd.DataFrame({'package':package, \n",
    "                           'version':all_packages[package], \n",
    "                           'order_n':[u for u in range(len(all_packages[package]))]})\n",
    "        df_all=pd.concat([df_all,test])"
   ]
  },
  {
   "cell_type": "code",
   "execution_count": 164,
   "metadata": {},
   "outputs": [],
   "source": [
    "##### Here we merge what we sorted\n",
    "if False:\n",
    "    debian_packages_order=(debian_packages.\n",
    "        set_index(['package','version']).\n",
    "        merge(df_all.\n",
    "             set_index(['package','version']),\n",
    "              left_index=True, \n",
    "              right_index=True,\n",
    "              how='left').dropna().reset_index()\n",
    "       )\n",
    "\n",
    "    debian_packages_order.sort_values('order_n', ascending=True, inplace=True) # sort \n",
    "    debian_packages_order.rename(columns = {'release':'release_snapshot'}, inplace=True) # change the name of the column\n",
    "    debian_packages_order['release_snapshot']=debian_packages_order['release_snapshot'].apply(lambda x:\n",
    "                                                                            'jessie' if 'jessie' in x\n",
    "                                                                            else 'stretch' if 'stretch' in x\n",
    "                                                                            else x)\n",
    "    debian_packages_order['version_order'] = debian_packages_order.groupby(['package','release_snapshot']).cumcount()+1 # order versions by number\n",
    "\n",
    "    df_2= debian_packages_order.groupby(['package','release_snapshot']).last() # take the last order\n",
    "    df_2= df_2.loc[:,['version_order','version']] \n",
    "    df_2.rename(columns = {'version_order':'last_order','version':'latest'}, inplace=True) # change the name of the column\n",
    "\n",
    "    # Merge here\n",
    "    debian_packages_order=debian_packages_order.set_index(['package','release_snapshot']).merge(\n",
    "        df_2,\n",
    "        left_index=True, \n",
    "        right_index=True, \n",
    "        how='outer').reset_index()\n",
    "    "
   ]
  },
  {
   "cell_type": "code",
   "execution_count": null,
   "metadata": {},
   "outputs": [],
   "source": [
    "debian_packages_order.to_csv('../docker/csv/used/debian_packages_order_4mai.csv', index=False, sep=\";\")"
   ]
  },
  {
   "cell_type": "code",
   "execution_count": 57,
   "metadata": {},
   "outputs": [],
   "source": [
    "debian_packages_order=pd.read_csv('../docker/csv/used/debian_packages_order_4mai.csv', sep=\";\")"
   ]
  },
  {
   "cell_type": "code",
   "execution_count": 58,
   "metadata": {},
   "outputs": [
    {
     "name": "stdout",
     "output_type": "stream",
     "text": [
      "Outdated Community packages: 1378241\n",
      "Outdated Official packages: 561645\n"
     ]
    }
   ],
   "source": [
    "# Create the dataframe with outdates\n",
    "df=debian_packages_order.loc[:,['package','version','version_order','last_order']]\n",
    "\n",
    "# Official\n",
    "outdate_official=official_sources.set_index(['package','version']).merge(\n",
    "    df.set_index(['package','version']),\n",
    "    left_index=True, \n",
    "    right_index=True, \n",
    "    how='outer').dropna().reset_index()\n",
    "\n",
    "outdate_official['outdate']=outdate_official['last_order']-outdate_official['version_order']\n",
    "outdate_official['isOutdate']=outdate_official['outdate'].apply(lambda x: 'Out-of-date' if x!=0\n",
    "                                                                 else 'Up-to-date')\n",
    "# Community\n",
    "outdate_community=community_sources.set_index(['package','version']).merge(\n",
    "    df.set_index(['package','version']),\n",
    "    left_index=True, \n",
    "    right_index=True, \n",
    "    how='outer').dropna().reset_index()\n",
    "\n",
    "outdate_community['outdate']=outdate_community['last_order']-outdate_community['version_order']\n",
    "outdate_community['isOutdate']=outdate_community['outdate'].apply(lambda x: 'Out-of-date' if x!=0\n",
    "                                                                 else 'Up-to-date')\n",
    "print('Outdated Community packages:', len(outdate_community))\n",
    "print('Outdated Official packages:', len(outdate_official))"
   ]
  },
  {
   "cell_type": "code",
   "execution_count": 59,
   "metadata": {},
   "outputs": [
    {
     "data": {
      "text/html": [
       "<div>\n",
       "<style scoped>\n",
       "    .dataframe tbody tr th:only-of-type {\n",
       "        vertical-align: middle;\n",
       "    }\n",
       "\n",
       "    .dataframe tbody tr th {\n",
       "        vertical-align: top;\n",
       "    }\n",
       "\n",
       "    .dataframe thead th {\n",
       "        text-align: right;\n",
       "    }\n",
       "</style>\n",
       "<table border=\"1\" class=\"dataframe\">\n",
       "  <thead>\n",
       "    <tr style=\"text-align: right;\">\n",
       "      <th></th>\n",
       "      <th>package</th>\n",
       "      <th>release_snapshot</th>\n",
       "      <th>version</th>\n",
       "      <th>date</th>\n",
       "      <th>source</th>\n",
       "      <th>source_version</th>\n",
       "      <th>order_n</th>\n",
       "      <th>version_order</th>\n",
       "      <th>last_order</th>\n",
       "      <th>latest</th>\n",
       "    </tr>\n",
       "  </thead>\n",
       "  <tbody>\n",
       "    <tr>\n",
       "      <th>110434</th>\n",
       "      <td>tomcat8</td>\n",
       "      <td>jessie</td>\n",
       "      <td>8.0.5-1</td>\n",
       "      <td>20140508</td>\n",
       "      <td>tomcat8</td>\n",
       "      <td>8.0.5-1</td>\n",
       "      <td>0.0</td>\n",
       "      <td>1</td>\n",
       "      <td>16</td>\n",
       "      <td>8.0.14-1+deb8u11</td>\n",
       "    </tr>\n",
       "    <tr>\n",
       "      <th>110435</th>\n",
       "      <td>tomcat8</td>\n",
       "      <td>jessie</td>\n",
       "      <td>8.0.8-1</td>\n",
       "      <td>20140529</td>\n",
       "      <td>tomcat8</td>\n",
       "      <td>8.0.8-1</td>\n",
       "      <td>1.0</td>\n",
       "      <td>2</td>\n",
       "      <td>16</td>\n",
       "      <td>8.0.14-1+deb8u11</td>\n",
       "    </tr>\n",
       "    <tr>\n",
       "      <th>110436</th>\n",
       "      <td>tomcat8</td>\n",
       "      <td>jessie</td>\n",
       "      <td>8.0.9-1</td>\n",
       "      <td>20140630</td>\n",
       "      <td>tomcat8</td>\n",
       "      <td>8.0.9-1</td>\n",
       "      <td>2.0</td>\n",
       "      <td>3</td>\n",
       "      <td>16</td>\n",
       "      <td>8.0.14-1+deb8u11</td>\n",
       "    </tr>\n",
       "    <tr>\n",
       "      <th>110437</th>\n",
       "      <td>tomcat8</td>\n",
       "      <td>jessie</td>\n",
       "      <td>8.0.12-1</td>\n",
       "      <td>20140923</td>\n",
       "      <td>tomcat8</td>\n",
       "      <td>8.0.12-1</td>\n",
       "      <td>3.0</td>\n",
       "      <td>4</td>\n",
       "      <td>16</td>\n",
       "      <td>8.0.14-1+deb8u11</td>\n",
       "    </tr>\n",
       "    <tr>\n",
       "      <th>110438</th>\n",
       "      <td>tomcat8</td>\n",
       "      <td>jessie</td>\n",
       "      <td>8.0.14-1</td>\n",
       "      <td>20141005</td>\n",
       "      <td>tomcat8</td>\n",
       "      <td>8.0.14-1</td>\n",
       "      <td>4.0</td>\n",
       "      <td>5</td>\n",
       "      <td>16</td>\n",
       "      <td>8.0.14-1+deb8u11</td>\n",
       "    </tr>\n",
       "    <tr>\n",
       "      <th>110439</th>\n",
       "      <td>tomcat8</td>\n",
       "      <td>jessie</td>\n",
       "      <td>8.0.14-1+deb8u1</td>\n",
       "      <td>20151219</td>\n",
       "      <td>tomcat8</td>\n",
       "      <td>8.0.14-1+deb8u1</td>\n",
       "      <td>5.0</td>\n",
       "      <td>6</td>\n",
       "      <td>16</td>\n",
       "      <td>8.0.14-1+deb8u11</td>\n",
       "    </tr>\n",
       "    <tr>\n",
       "      <th>110440</th>\n",
       "      <td>tomcat8</td>\n",
       "      <td>jessie</td>\n",
       "      <td>8.0.14-1+deb8u2</td>\n",
       "      <td>20160630</td>\n",
       "      <td>tomcat8</td>\n",
       "      <td>8.0.14-1+deb8u2</td>\n",
       "      <td>6.0</td>\n",
       "      <td>7</td>\n",
       "      <td>16</td>\n",
       "      <td>8.0.14-1+deb8u11</td>\n",
       "    </tr>\n",
       "    <tr>\n",
       "      <th>110441</th>\n",
       "      <td>tomcat8</td>\n",
       "      <td>jessie</td>\n",
       "      <td>8.0.14-1+deb8u3</td>\n",
       "      <td>20160916</td>\n",
       "      <td>tomcat8</td>\n",
       "      <td>8.0.14-1+deb8u3</td>\n",
       "      <td>7.0</td>\n",
       "      <td>8</td>\n",
       "      <td>16</td>\n",
       "      <td>8.0.14-1+deb8u11</td>\n",
       "    </tr>\n",
       "    <tr>\n",
       "      <th>110442</th>\n",
       "      <td>tomcat8</td>\n",
       "      <td>jessie</td>\n",
       "      <td>8.0.14-1+deb8u4</td>\n",
       "      <td>20161122</td>\n",
       "      <td>tomcat8</td>\n",
       "      <td>8.0.14-1+deb8u4</td>\n",
       "      <td>8.0</td>\n",
       "      <td>9</td>\n",
       "      <td>16</td>\n",
       "      <td>8.0.14-1+deb8u11</td>\n",
       "    </tr>\n",
       "    <tr>\n",
       "      <th>110443</th>\n",
       "      <td>tomcat8</td>\n",
       "      <td>jessie</td>\n",
       "      <td>8.0.14-1+deb8u5</td>\n",
       "      <td>20161219</td>\n",
       "      <td>tomcat8</td>\n",
       "      <td>8.0.14-1+deb8u5</td>\n",
       "      <td>9.0</td>\n",
       "      <td>10</td>\n",
       "      <td>16</td>\n",
       "      <td>8.0.14-1+deb8u11</td>\n",
       "    </tr>\n",
       "    <tr>\n",
       "      <th>110444</th>\n",
       "      <td>tomcat8</td>\n",
       "      <td>jessie</td>\n",
       "      <td>8.0.14-1+deb8u6</td>\n",
       "      <td>20170109</td>\n",
       "      <td>tomcat8</td>\n",
       "      <td>8.0.14-1+deb8u6</td>\n",
       "      <td>10.0</td>\n",
       "      <td>11</td>\n",
       "      <td>16</td>\n",
       "      <td>8.0.14-1+deb8u11</td>\n",
       "    </tr>\n",
       "    <tr>\n",
       "      <th>110445</th>\n",
       "      <td>tomcat8</td>\n",
       "      <td>jessie</td>\n",
       "      <td>8.0.14-1+deb8u7</td>\n",
       "      <td>20170214</td>\n",
       "      <td>tomcat8</td>\n",
       "      <td>8.0.14-1+deb8u7</td>\n",
       "      <td>11.0</td>\n",
       "      <td>12</td>\n",
       "      <td>16</td>\n",
       "      <td>8.0.14-1+deb8u11</td>\n",
       "    </tr>\n",
       "    <tr>\n",
       "      <th>110446</th>\n",
       "      <td>tomcat8</td>\n",
       "      <td>jessie</td>\n",
       "      <td>8.0.14-1+deb8u8</td>\n",
       "      <td>20170223</td>\n",
       "      <td>tomcat8</td>\n",
       "      <td>8.0.14-1+deb8u8</td>\n",
       "      <td>12.0</td>\n",
       "      <td>13</td>\n",
       "      <td>16</td>\n",
       "      <td>8.0.14-1+deb8u11</td>\n",
       "    </tr>\n",
       "    <tr>\n",
       "      <th>110447</th>\n",
       "      <td>tomcat8</td>\n",
       "      <td>jessie</td>\n",
       "      <td>8.0.14-1+deb8u9</td>\n",
       "      <td>20170504</td>\n",
       "      <td>tomcat8</td>\n",
       "      <td>8.0.14-1+deb8u9</td>\n",
       "      <td>13.0</td>\n",
       "      <td>14</td>\n",
       "      <td>16</td>\n",
       "      <td>8.0.14-1+deb8u11</td>\n",
       "    </tr>\n",
       "    <tr>\n",
       "      <th>110448</th>\n",
       "      <td>tomcat8</td>\n",
       "      <td>jessie</td>\n",
       "      <td>8.0.14-1+deb8u10</td>\n",
       "      <td>20170623</td>\n",
       "      <td>tomcat8</td>\n",
       "      <td>8.0.14-1+deb8u10</td>\n",
       "      <td>14.0</td>\n",
       "      <td>15</td>\n",
       "      <td>16</td>\n",
       "      <td>8.0.14-1+deb8u11</td>\n",
       "    </tr>\n",
       "    <tr>\n",
       "      <th>110449</th>\n",
       "      <td>tomcat8</td>\n",
       "      <td>jessie</td>\n",
       "      <td>8.0.14-1+deb8u11</td>\n",
       "      <td>20170916</td>\n",
       "      <td>tomcat8</td>\n",
       "      <td>8.0.14-1+deb8u11</td>\n",
       "      <td>15.0</td>\n",
       "      <td>16</td>\n",
       "      <td>16</td>\n",
       "      <td>8.0.14-1+deb8u11</td>\n",
       "    </tr>\n",
       "  </tbody>\n",
       "</table>\n",
       "</div>"
      ],
      "text/plain": [
       "        package release_snapshot           version      date   source  \\\n",
       "110434  tomcat8           jessie           8.0.5-1  20140508  tomcat8   \n",
       "110435  tomcat8           jessie           8.0.8-1  20140529  tomcat8   \n",
       "110436  tomcat8           jessie           8.0.9-1  20140630  tomcat8   \n",
       "110437  tomcat8           jessie          8.0.12-1  20140923  tomcat8   \n",
       "110438  tomcat8           jessie          8.0.14-1  20141005  tomcat8   \n",
       "110439  tomcat8           jessie   8.0.14-1+deb8u1  20151219  tomcat8   \n",
       "110440  tomcat8           jessie   8.0.14-1+deb8u2  20160630  tomcat8   \n",
       "110441  tomcat8           jessie   8.0.14-1+deb8u3  20160916  tomcat8   \n",
       "110442  tomcat8           jessie   8.0.14-1+deb8u4  20161122  tomcat8   \n",
       "110443  tomcat8           jessie   8.0.14-1+deb8u5  20161219  tomcat8   \n",
       "110444  tomcat8           jessie   8.0.14-1+deb8u6  20170109  tomcat8   \n",
       "110445  tomcat8           jessie   8.0.14-1+deb8u7  20170214  tomcat8   \n",
       "110446  tomcat8           jessie   8.0.14-1+deb8u8  20170223  tomcat8   \n",
       "110447  tomcat8           jessie   8.0.14-1+deb8u9  20170504  tomcat8   \n",
       "110448  tomcat8           jessie  8.0.14-1+deb8u10  20170623  tomcat8   \n",
       "110449  tomcat8           jessie  8.0.14-1+deb8u11  20170916  tomcat8   \n",
       "\n",
       "          source_version  order_n  version_order  last_order            latest  \n",
       "110434           8.0.5-1      0.0              1          16  8.0.14-1+deb8u11  \n",
       "110435           8.0.8-1      1.0              2          16  8.0.14-1+deb8u11  \n",
       "110436           8.0.9-1      2.0              3          16  8.0.14-1+deb8u11  \n",
       "110437          8.0.12-1      3.0              4          16  8.0.14-1+deb8u11  \n",
       "110438          8.0.14-1      4.0              5          16  8.0.14-1+deb8u11  \n",
       "110439   8.0.14-1+deb8u1      5.0              6          16  8.0.14-1+deb8u11  \n",
       "110440   8.0.14-1+deb8u2      6.0              7          16  8.0.14-1+deb8u11  \n",
       "110441   8.0.14-1+deb8u3      7.0              8          16  8.0.14-1+deb8u11  \n",
       "110442   8.0.14-1+deb8u4      8.0              9          16  8.0.14-1+deb8u11  \n",
       "110443   8.0.14-1+deb8u5      9.0             10          16  8.0.14-1+deb8u11  \n",
       "110444   8.0.14-1+deb8u6     10.0             11          16  8.0.14-1+deb8u11  \n",
       "110445   8.0.14-1+deb8u7     11.0             12          16  8.0.14-1+deb8u11  \n",
       "110446   8.0.14-1+deb8u8     12.0             13          16  8.0.14-1+deb8u11  \n",
       "110447   8.0.14-1+deb8u9     13.0             14          16  8.0.14-1+deb8u11  \n",
       "110448  8.0.14-1+deb8u10     14.0             15          16  8.0.14-1+deb8u11  \n",
       "110449  8.0.14-1+deb8u11     15.0             16          16  8.0.14-1+deb8u11  "
      ]
     },
     "execution_count": 59,
     "metadata": {},
     "output_type": "execute_result"
    }
   ],
   "source": [
    "# To verify if it is correct\n",
    "#debian_packages_order['version_order'] = debian_packages_order.groupby(['package','release_snapshot']).cumcount()+1 # order versions by number\n",
    "debian_packages_order.query('package==\"tomcat8\"').query('release_snapshot==\"jessie\"')"
   ]
  },
  {
   "cell_type": "markdown",
   "metadata": {},
   "source": [
    "################################################################################################################\n",
    "################################################################################################################\n",
    "# Let's check vulnerabilities\n",
    "If yoou don't want to analyze only vulnerabilities without knowing the type of container, you can skip this part\n",
    "################################################################################################################\n",
    "################################################################################################################\n"
   ]
  },
  {
   "cell_type": "code",
   "execution_count": 35,
   "metadata": {},
   "outputs": [
    {
     "data": {
      "text/plain": [
       "{'nodsa': 'Minor issue',\n",
       " 'nodsa_reason': '',\n",
       " 'repositories': {'jessie': '1:4.2-3+deb8u4',\n",
       "  'jessie-security': '1:4.2-3+deb8u4'},\n",
       " 'status': 'open',\n",
       " 'urgency': 'high**'}"
      ]
     },
     "execution_count": 35,
     "metadata": {},
     "output_type": "execute_result"
    }
   ],
   "source": [
    "# Use only once: Skip\n",
    "import json as js\n",
    "import codecs\n",
    "vulnerabilities=js.load(codecs.open('../docker/csv/security-debian_1April.json', 'r', 'utf-8'))\n",
    "vulnerabilities['shadow']['CVE-2017-12424']['releases']['jessie']"
   ]
  },
  {
   "cell_type": "code",
   "execution_count": 49,
   "metadata": {},
   "outputs": [],
   "source": [
    "################# IDENTIFY VULNERABIITIES\n",
    "################# version where the vulnerability was fixed > version used\n",
    "\n",
    "\n",
    "import json as js\n",
    "import codecs\n",
    "import apt_pkg\n",
    "apt_pkg.init_system()\n",
    "\n",
    "def parse_json_vuls():\n",
    "    vulnerabilities=js.load(codecs.open('../docker/csv/security-debian_1April.json', 'r', 'utf-8'))\n",
    "    return vulnerabilities\n",
    "\n",
    "def dates_release_debian():\n",
    "    df_packages=(debian_packages.\n",
    "                 sort_values('date', ascending=True).\n",
    "                 groupby(['source','source_version','release']).\n",
    "                 first().\n",
    "                 drop(['package','version'], axis=1)\n",
    "                )\n",
    "\n",
    "    dict_date=df_packages.to_dict() ### dict of source version dates\n",
    "\n",
    "    df_packages_release=(debian_packages.\n",
    "                         sort_values('date', ascending=True).\n",
    "                         groupby(['source','source_version']).\n",
    "                         first().\n",
    "                         drop(['package','version','date'], axis=1)\n",
    "                        )\n",
    "\n",
    "    dict_release=df_packages_release.to_dict() # dict of releases\n",
    "    return dict_date, dict_release\n",
    "\n",
    "def final_vuls(tracked_packages):\n",
    "    \n",
    "    vulnerabilities=parse_json_vuls()\n",
    "    \n",
    "    dict_date, dict_release = dates_release_debian()    \n",
    "    \n",
    "    fcsv=open('../docker/csv/docker_vulnerabilities.csv','w')\n",
    "    fcsv.write('source;source_version;urgency;status;fixed_version;debianbug;release;cve\\n')\n",
    "\n",
    "    for index, raw in enumerate(tracked_packages.iterrows()): ######## we iterate over the sources (docker)\n",
    "        source=raw[1]['source']\n",
    "        source_version=raw[1]['source_version']\n",
    "        release=dict_release['release'][(source, source_version)].split('-')[0]\n",
    "        try:\n",
    "            vuls=vulnerabilities[source] ###### check if the source has any vulnerabilities\n",
    "        except:\n",
    "            continue\n",
    "        for cve in vuls:  ###### for each vulnerability\n",
    "            if not cve.startswith('CVE'):\n",
    "                continue\n",
    "            v=vulnerabilities[source][cve]\n",
    "            try:\n",
    "                status=v['releases'][release]['status']  ###### check only the release of source\n",
    "                urgency=v['releases'][release]['urgency'] ###### check only the release of source\n",
    "\n",
    "                try:\n",
    "                    debianbug=str(v['debianbug'])\n",
    "                except:\n",
    "                    debianbug=\"undefined\"\n",
    "\n",
    "                if status == \"open\" or status==\"undetermined\": ###### if the vulnerability is still OPEN\n",
    "                    fixed=\"undefined\"\n",
    "                    fcsv.write(source+';'+source_version+';'+urgency+';'+status+';'+fixed+';'+debianbug+';'+release+';'+cve+'\\n')\n",
    "                else: ###### if the vulnerability is RESOLVED\n",
    "                    try:\n",
    "                        fixed=v['releases'][release][\"fixed_version\"]\n",
    "                    except:\n",
    "                        continue\n",
    "                    try:\n",
    "                        d=apt_pkg.version_compare(source_version,fixed)\n",
    "                    except:\n",
    "                        print('erooooorr')\n",
    "                    #if apt_pkg.version_compare(source_version,fixed) >= 0 and compare_versions(source_version,fixed,'fixed'):\n",
    "                     #   print((source_version,fixed))\n",
    "                    if apt_pkg.version_compare(source_version,fixed) < 0: #### Compare between the used source and fixed one (dates comparison)\n",
    "                        fcsv.write(source+';'+source_version+';'+urgency+';'+status+';'+fixed+';'+debianbug+';'+release+';'+cve+'\\n')     \n",
    "            except:\n",
    "                pass\n",
    "    fcsv.close()\n",
    "    \n",
    "def get_vuls(tracked_packages):\n",
    "    final_vuls(tracked_packages)\n",
    "    \n",
    "    docker_vulnerabilities=pd.read_csv('../docker/csv/docker_vulnerabilities.csv', sep=';', dtype=object, index_col=None,  error_bad_lines=False)\n",
    "    docker_vulnerabilities.drop_duplicates(inplace=True)\n",
    "    \n",
    "    return docker_vulnerabilities"
   ]
  },
  {
   "cell_type": "code",
   "execution_count": 50,
   "metadata": {},
   "outputs": [
    {
     "data": {
      "text/plain": [
       "25686"
      ]
     },
     "execution_count": 50,
     "metadata": {},
     "output_type": "execute_result"
    }
   ],
   "source": [
    "# Use only once: Skip\n",
    "# Identify vulnerabilities\n",
    "\n",
    "docker_vulnerabilities=get_vuls(uniq_packages)\n",
    "len(docker_vulnerabilities)"
   ]
  },
  {
   "cell_type": "markdown",
   "metadata": {},
   "source": [
    "################################################################################################################\n",
    "################################################################################################################\n",
    "# Considering all installed package versions and their vulnerabilities\n",
    "################################################################################################################\n",
    "################################################################################################################"
   ]
  },
  {
   "cell_type": "code",
   "execution_count": 53,
   "metadata": {},
   "outputs": [
    {
     "data": {
      "text/plain": [
       "25686"
      ]
     },
     "execution_count": 53,
     "metadata": {},
     "output_type": "execute_result"
    }
   ],
   "source": [
    "docker_vulnerabilities=pd.read_csv('../docker/csv/used/docker_vulnerabilities.csv', sep=';', dtype=object, index_col=None,  error_bad_lines=False)\n",
    "docker_vulnerabilities.drop_duplicates(inplace=True)\n",
    "len(docker_vulnerabilities)"
   ]
  },
  {
   "cell_type": "code",
   "execution_count": 28,
   "metadata": {},
   "outputs": [
    {
     "data": {
      "text/html": [
       "<div>\n",
       "<style scoped>\n",
       "    .dataframe tbody tr th:only-of-type {\n",
       "        vertical-align: middle;\n",
       "    }\n",
       "\n",
       "    .dataframe tbody tr th {\n",
       "        vertical-align: top;\n",
       "    }\n",
       "\n",
       "    .dataframe thead th {\n",
       "        text-align: right;\n",
       "    }\n",
       "</style>\n",
       "<table border=\"1\" class=\"dataframe\">\n",
       "  <thead>\n",
       "    <tr style=\"text-align: right;\">\n",
       "      <th></th>\n",
       "      <th>package</th>\n",
       "      <th>version</th>\n",
       "      <th>source</th>\n",
       "      <th>source_version</th>\n",
       "    </tr>\n",
       "  </thead>\n",
       "  <tbody>\n",
       "    <tr>\n",
       "      <th>871955</th>\n",
       "      <td>login</td>\n",
       "      <td>1:4.2-3</td>\n",
       "      <td>shadow</td>\n",
       "      <td>1:4.2-3</td>\n",
       "    </tr>\n",
       "    <tr>\n",
       "      <th>872091</th>\n",
       "      <td>login</td>\n",
       "      <td>1:4.2-3+deb8u1</td>\n",
       "      <td>shadow</td>\n",
       "      <td>1:4.2-3+deb8u1</td>\n",
       "    </tr>\n",
       "    <tr>\n",
       "      <th>872526</th>\n",
       "      <td>login</td>\n",
       "      <td>1:4.2-3+deb8u3</td>\n",
       "      <td>shadow</td>\n",
       "      <td>1:4.2-3+deb8u3</td>\n",
       "    </tr>\n",
       "    <tr>\n",
       "      <th>872576</th>\n",
       "      <td>login</td>\n",
       "      <td>1:4.2-3+deb8u4</td>\n",
       "      <td>shadow</td>\n",
       "      <td>1:4.2-3+deb8u4</td>\n",
       "    </tr>\n",
       "    <tr>\n",
       "      <th>873644</th>\n",
       "      <td>login</td>\n",
       "      <td>1:4.4-4.1</td>\n",
       "      <td>shadow</td>\n",
       "      <td>1:4.4-4.1</td>\n",
       "    </tr>\n",
       "    <tr>\n",
       "      <th>874287</th>\n",
       "      <td>login</td>\n",
       "      <td>1:4.5-1</td>\n",
       "      <td>shadow</td>\n",
       "      <td>1:4.5-1</td>\n",
       "    </tr>\n",
       "    <tr>\n",
       "      <th>937608</th>\n",
       "      <td>passwd</td>\n",
       "      <td>1:4.2-3</td>\n",
       "      <td>shadow</td>\n",
       "      <td>1:4.2-3</td>\n",
       "    </tr>\n",
       "    <tr>\n",
       "      <th>937744</th>\n",
       "      <td>passwd</td>\n",
       "      <td>1:4.2-3+deb8u1</td>\n",
       "      <td>shadow</td>\n",
       "      <td>1:4.2-3+deb8u1</td>\n",
       "    </tr>\n",
       "    <tr>\n",
       "      <th>938179</th>\n",
       "      <td>passwd</td>\n",
       "      <td>1:4.2-3+deb8u3</td>\n",
       "      <td>shadow</td>\n",
       "      <td>1:4.2-3+deb8u3</td>\n",
       "    </tr>\n",
       "    <tr>\n",
       "      <th>938229</th>\n",
       "      <td>passwd</td>\n",
       "      <td>1:4.2-3+deb8u4</td>\n",
       "      <td>shadow</td>\n",
       "      <td>1:4.2-3+deb8u4</td>\n",
       "    </tr>\n",
       "    <tr>\n",
       "      <th>939297</th>\n",
       "      <td>passwd</td>\n",
       "      <td>1:4.4-4.1</td>\n",
       "      <td>shadow</td>\n",
       "      <td>1:4.4-4.1</td>\n",
       "    </tr>\n",
       "    <tr>\n",
       "      <th>939940</th>\n",
       "      <td>passwd</td>\n",
       "      <td>1:4.5-1</td>\n",
       "      <td>shadow</td>\n",
       "      <td>1:4.5-1</td>\n",
       "    </tr>\n",
       "  </tbody>\n",
       "</table>\n",
       "</div>"
      ],
      "text/plain": [
       "       package         version  source  source_version\n",
       "871955   login         1:4.2-3  shadow         1:4.2-3\n",
       "872091   login  1:4.2-3+deb8u1  shadow  1:4.2-3+deb8u1\n",
       "872526   login  1:4.2-3+deb8u3  shadow  1:4.2-3+deb8u3\n",
       "872576   login  1:4.2-3+deb8u4  shadow  1:4.2-3+deb8u4\n",
       "873644   login       1:4.4-4.1  shadow       1:4.4-4.1\n",
       "874287   login         1:4.5-1  shadow         1:4.5-1\n",
       "937608  passwd         1:4.2-3  shadow         1:4.2-3\n",
       "937744  passwd  1:4.2-3+deb8u1  shadow  1:4.2-3+deb8u1\n",
       "938179  passwd  1:4.2-3+deb8u3  shadow  1:4.2-3+deb8u3\n",
       "938229  passwd  1:4.2-3+deb8u4  shadow  1:4.2-3+deb8u4\n",
       "939297  passwd       1:4.4-4.1  shadow       1:4.4-4.1\n",
       "939940  passwd         1:4.5-1  shadow         1:4.5-1"
      ]
     },
     "execution_count": 28,
     "metadata": {},
     "output_type": "execute_result"
    }
   ],
   "source": [
    "uniq_packages.query('source==\"shadow\"')"
   ]
  },
  {
   "cell_type": "code",
   "execution_count": 60,
   "metadata": {},
   "outputs": [],
   "source": [
    "def merge_vuls(outdated_packages,docker_vulnerabilities,type):\n",
    "    # Here we merge vulnerabilities with community outdated packages\n",
    "    docker_vuls=(\n",
    "        outdated_packages.\n",
    "        set_index(['source','source_version']).\n",
    "        merge(docker_vulnerabilities.\n",
    "              set_index(['source','source_version']),\n",
    "              left_index=True, \n",
    "              right_index=True, \n",
    "              how='left').dropna().reset_index().drop_duplicates()\n",
    "    )\n",
    "    docker_vuls['type']=type\n",
    "    return docker_vuls"
   ]
  },
  {
   "cell_type": "code",
   "execution_count": 61,
   "metadata": {},
   "outputs": [
    {
     "name": "stdout",
     "output_type": "stream",
     "text": [
      "community:  7121081\n",
      "official:  2758901\n"
     ]
    }
   ],
   "source": [
    "# Here we merge vulnerabilities with community/official outdated packages\n",
    "\n",
    "lag_vul_community=merge_vuls(outdate_community, docker_vulnerabilities,'Community')\n",
    "\n",
    "lag_vul_official=merge_vuls(outdate_official, docker_vulnerabilities,'Official')\n",
    "\n",
    "print('community: ',len(lag_vul_community))\n",
    "print('official: ',len(lag_vul_official))"
   ]
  },
  {
   "cell_type": "code",
   "execution_count": 62,
   "metadata": {},
   "outputs": [
    {
     "data": {
      "text/plain": [
       "9879982"
      ]
     },
     "execution_count": 62,
     "metadata": {},
     "output_type": "execute_result"
    }
   ],
   "source": [
    "############# Concatinating both DFs ###############\"\n",
    "lag_vul_all=pd.concat([lag_vul_official,lag_vul_community])\n",
    "len(lag_vul_all)"
   ]
  },
  {
   "cell_type": "code",
   "execution_count": 66,
   "metadata": {},
   "outputs": [
    {
     "data": {
      "text/plain": [
       "7380"
      ]
     },
     "execution_count": 66,
     "metadata": {},
     "output_type": "execute_result"
    }
   ],
   "source": [
    "lag_vul_all.query('source==\"shadow\"')['name'].drop_duplicates().size"
   ]
  },
  {
   "cell_type": "code",
   "execution_count": 70,
   "metadata": {},
   "outputs": [],
   "source": [
    "lag_vul_all.to_csv('../docker/csv/used/lag_vul_all_correct.csv', index=False, sep=\";\")"
   ]
  },
  {
   "cell_type": "markdown",
   "metadata": {},
   "source": [
    "################################################################################################################\n",
    "################################################################################################################\n",
    "# Let's check Bugs \n",
    "If yoou don't want to analyze only bugs without knowing the type of container, you can skip this part\n",
    "################################################################################################################\n",
    "################################################################################################################"
   ]
  },
  {
   "cell_type": "code",
   "execution_count": 38,
   "metadata": {},
   "outputs": [
    {
     "data": {
      "text/html": [
       "<div>\n",
       "<style scoped>\n",
       "    .dataframe tbody tr th:only-of-type {\n",
       "        vertical-align: middle;\n",
       "    }\n",
       "\n",
       "    .dataframe tbody tr th {\n",
       "        vertical-align: top;\n",
       "    }\n",
       "\n",
       "    .dataframe thead th {\n",
       "        text-align: right;\n",
       "    }\n",
       "</style>\n",
       "<table border=\"1\" class=\"dataframe\">\n",
       "  <thead>\n",
       "    <tr style=\"text-align: right;\">\n",
       "      <th></th>\n",
       "      <th>source</th>\n",
       "      <th>debianbug</th>\n",
       "      <th>found_in</th>\n",
       "      <th>fixed_in</th>\n",
       "      <th>type</th>\n",
       "      <th>status</th>\n",
       "      <th>severity</th>\n",
       "      <th>arrival</th>\n",
       "      <th>last_modified</th>\n",
       "      <th>source_version</th>\n",
       "    </tr>\n",
       "  </thead>\n",
       "  <tbody>\n",
       "    <tr>\n",
       "      <th>0</th>\n",
       "      <td>a52dec</td>\n",
       "      <td>123355</td>\n",
       "      <td>0.7.1b-1</td>\n",
       "      <td>0.7.2-1</td>\n",
       "      <td>archived</td>\n",
       "      <td>done</td>\n",
       "      <td>serious</td>\n",
       "      <td>2001-12-11 03:33:03</td>\n",
       "      <td>2001-12-19 20:18:42</td>\n",
       "      <td>0.7.1b-1</td>\n",
       "    </tr>\n",
       "    <tr>\n",
       "      <th>1</th>\n",
       "      <td>a52dec</td>\n",
       "      <td>152347</td>\n",
       "      <td>0.7.3-2</td>\n",
       "      <td>0.7.3-3</td>\n",
       "      <td>archived</td>\n",
       "      <td>done</td>\n",
       "      <td>serious</td>\n",
       "      <td>2002-07-09 07:03:01</td>\n",
       "      <td>2002-07-13 16:18:12</td>\n",
       "      <td>0.7.3-2</td>\n",
       "    </tr>\n",
       "  </tbody>\n",
       "</table>\n",
       "</div>"
      ],
      "text/plain": [
       "   source debianbug  found_in fixed_in      type status severity  \\\n",
       "0  a52dec    123355  0.7.1b-1  0.7.2-1  archived   done  serious   \n",
       "1  a52dec    152347   0.7.3-2  0.7.3-3  archived   done  serious   \n",
       "\n",
       "               arrival        last_modified source_version  \n",
       "0  2001-12-11 03:33:03  2001-12-19 20:18:42       0.7.1b-1  \n",
       "1  2002-07-09 07:03:01  2002-07-13 16:18:12        0.7.3-2  "
      ]
     },
     "execution_count": 38,
     "metadata": {},
     "output_type": "execute_result"
    }
   ],
   "source": [
    "# SOURCE PACKAGES BUGS of MAI\n",
    "packages_bugs=pd.read_csv('../docker/csv/bugs_with_sources.csv', sep=';', dtype=object, index_col=None,  error_bad_lines=False)\n",
    "packages_bugs['source_version']=packages_bugs['found_in'].apply(lambda x:\n",
    "                                                         str(x).split('/')[-1])\n",
    "\n",
    "packages_bugs['fixed_in']=packages_bugs['fixed_in'].apply(lambda x:\n",
    "                                                         str(x).split('/')[-1])\n",
    "packages_bugs.head(2)"
   ]
  },
  {
   "cell_type": "code",
   "execution_count": 41,
   "metadata": {},
   "outputs": [
    {
     "name": "stdout",
     "output_type": "stream",
     "text": [
      "all bugs that may be affecting the used packages 65885\n"
     ]
    }
   ],
   "source": [
    "# I merge on package and source_version, because the field \"found_in\" is refering to the source\n",
    "all_bugs=(packages_bugs.\n",
    "    set_index(['source','source_version']).\n",
    "    merge(debian_packages.\n",
    "          set_index(['source','source_version']),\n",
    "          left_index=True, \n",
    "          right_index=True, \n",
    "          how='outer')\n",
    "   ).reset_index().dropna()\n",
    "all_bugs=all_bugs.drop(['package','version'], axis=1)\n",
    "all_bugs.drop_duplicates(inplace=True)\n",
    "print('all bugs that may be affecting the used packages', len(all_bugs))"
   ]
  },
  {
   "cell_type": "code",
   "execution_count": null,
   "metadata": {},
   "outputs": [],
   "source": [
    "# Use only once: Skip\n",
    "# Identify bugs that were fixed but not in all debian releases\n",
    "#######################################################################################################\n",
    "######################## This part is to track packages dates and releases ###########################\n",
    "\n",
    "import apt_pkg\n",
    "apt_pkg.init_system()\n",
    "\n",
    "unique_sources=pd.concat([official_sources,community_sources])\n",
    "unique_sources=unique_sources[['source','source_version','release_snapshot']].drop_duplicates()\n",
    "\n",
    "f=open('../docker/csv/docker_bugs_MAI.csv','w')\n",
    "f.write('type;debianbug;source;source_version;arrival;last_modified;status;severity;release\\n')\n",
    "\n",
    "for index, raw in enumerate(unique_sources.iterrows()): ######## we iterate over the sources (docker)\n",
    "    source=raw[1]['source']\n",
    "    source_version=raw[1]['source_version']\n",
    "    release=raw[1]['release_snapshot']\n",
    "    #if index==200:\n",
    "    #    break\n",
    "    #print(index)\n",
    "    \n",
    "    df_tmp=all_bugs.query('source==\"'+source+'\"').query('release==\"'+release+'\"')\n",
    "    for index2, raw2 in enumerate(df_tmp.iterrows()):\n",
    "        debianbug=str(raw2[1]['debianbug'])\n",
    "        status=raw2[1]['status']\n",
    "        severity=raw2[1]['severity']\n",
    "        arrival=raw2[1]['arrival']\n",
    "        last_modified=raw2[1]['last_modified']\n",
    "        fixed_in=raw2[1]['fixed_in'].split('/')[-1]\n",
    "        found_in=raw2[1]['found_in'].split('/')[-1]\n",
    "        type=raw2[1]['type']\n",
    "        if status!=\"done\":\n",
    "            #if date_current>=date_found_in:\n",
    "            if apt_pkg.version_compare(source_version,found_in) >= 0:\n",
    "                f.write(type+';'+debianbug+';'+source+';'+source_version+';'+arrival+';'+last_modified+';'+status+';'+severity+';'+release+'\\n')\n",
    "    \n",
    "        else:\n",
    "            if apt_pkg.version_compare(source_version,found_in) >= 0 and apt_pkg.version_compare(source_version,fixed_in) < 0: \n",
    "                f.write(type+';'+debianbug+';'+source+';'+source_version+';'+arrival+';'+last_modified+';'+status+';'+severity+';'+release+'\\n')\n",
    "f.close()"
   ]
  },
  {
   "cell_type": "code",
   "execution_count": 85,
   "metadata": {},
   "outputs": [],
   "source": [
    "# Use only once: Skip\n",
    "# Identify bugs\n",
    "#######################################################################################################\n",
    "######################## This part is to track packages dates and releases ###########################\n",
    "\n",
    "import apt_pkg\n",
    "apt_pkg.init_system()\n",
    "\n",
    "unique_sources=pd.concat([official_sources,community_sources])\n",
    "unique_sources=unique_sources[['source','source_version','release_snapshot']].drop_duplicates()\n",
    "\n",
    "f=open('../docker/csv/docker_bugs_MAI_test.csv','w')\n",
    "f.write('type;debianbug;source;source_version;arrival;last_modified;status;severity;release;fixed\\n')\n",
    "\n",
    "for index, raw in enumerate(unique_sources.iterrows()): ######## we iterate over the sources (docker)\n",
    "    source=raw[1]['source']\n",
    "    source_version=raw[1]['source_version']\n",
    "    release=raw[1]['release_snapshot']\n",
    "    #if index==200:\n",
    "    #    break\n",
    "    #print(index)\n",
    "    \n",
    "    df_tmp=all_bugs.query('source==\"'+source+'\"').query('release==\"'+release+'\"')\n",
    "    for index2, raw2 in enumerate(df_tmp.iterrows()):\n",
    "        debianbug=str(raw2[1]['debianbug'])\n",
    "        status=raw2[1]['status']\n",
    "        severity=raw2[1]['severity']\n",
    "        arrival=raw2[1]['arrival']\n",
    "        last_modified=raw2[1]['last_modified']\n",
    "        fixed_in=str(raw2[1]['fixed_in'].split('/')[-1])\n",
    "        found_in=raw2[1]['found_in'].split('/')[-1]\n",
    "        type=raw2[1]['type']\n",
    "        if status!=\"done\":\n",
    "            #if date_current>=date_found_in:\n",
    "            if apt_pkg.version_compare(source_version,found_in) >= 0:\n",
    "                f.write(type+';'+debianbug+';'+source+';'+source_version+';'+arrival+';'+last_modified+';'+status+';'+severity+';'+release+';'+fixed_in+'\\n')\n",
    "    \n",
    "        else:\n",
    "            if apt_pkg.version_compare(source_version,found_in) >= 0 and apt_pkg.version_compare(source_version,fixed_in) < 0: \n",
    "                f.write(type+';'+debianbug+';'+source+';'+source_version+';'+arrival+';'+last_modified+';'+status+';'+severity+';'+release+';'+fixed_in+'\\n')\n",
    "f.close()"
   ]
  },
  {
   "cell_type": "code",
   "execution_count": 86,
   "metadata": {},
   "outputs": [
    {
     "data": {
      "text/plain": [
       "69994"
      ]
     },
     "execution_count": 86,
     "metadata": {},
     "output_type": "execute_result"
    }
   ],
   "source": [
    "# BUGS\n",
    "bugs_test=pd.read_csv('../docker/csv/docker_bugs_MAI_test.csv', sep=';', dtype=object, index_col=None,  error_bad_lines=False)\n",
    "bugs_test.drop_duplicates(inplace=True)\n",
    "bug_order=['wishlist','minor','normal','important','serious','grave','critical']\n",
    "# Something about venn diagram\n",
    "len(bugs_test)"
   ]
  },
  {
   "cell_type": "code",
   "execution_count": 134,
   "metadata": {},
   "outputs": [
    {
     "name": "stdout",
     "output_type": "stream",
     "text": [
      "all bugs that may be affecting the used packages 12399\n"
     ]
    }
   ],
   "source": [
    "# I merge on package and source_version, because the field \"found_in\" is refering to the source\n",
    "bugs_fixed=bugs_test.query('fixed!=\"None\"')\n",
    "debian_packages['fixed']=debian_packages['source_version']\n",
    "all_bugs_fixed=(bugs_fixed.\n",
    "    set_index(['source','fixed']).\n",
    "    merge(debian_packages.drop(['source_version'],axis=1).rename(columns={'release':'snapshot'}).\n",
    "          set_index(['source','fixed']),\n",
    "          left_index=True, \n",
    "          right_index=True, \n",
    "          how='outer')\n",
    "   ).reset_index().dropna()\n",
    "all_bugs_fixed=all_bugs_fixed.drop(['package','version'], axis=1)\n",
    "all_bugs_fixed.drop_duplicates(inplace=True)\n",
    "print('all bugs that may be affecting the used packages', len(all_bugs_fixed))"
   ]
  },
  {
   "cell_type": "code",
   "execution_count": 135,
   "metadata": {},
   "outputs": [
    {
     "data": {
      "text/plain": [
       "1072"
      ]
     },
     "execution_count": 135,
     "metadata": {},
     "output_type": "execute_result"
    }
   ],
   "source": [
    "all_bugs_fixed=all_bugs_fixed.query('release==snapshot')\n",
    "all_bugs_fixed=all_bugs_fixed.drop(['snapshot','date'], axis=1)\n",
    "all_bugs_fixed.drop_duplicates(inplace=True)\n",
    "len(all_bugs_fixed)"
   ]
  },
  {
   "cell_type": "code",
   "execution_count": 136,
   "metadata": {},
   "outputs": [
    {
     "data": {
      "text/plain": [
       "47788"
      ]
     },
     "execution_count": 136,
     "metadata": {},
     "output_type": "execute_result"
    }
   ],
   "source": [
    "all_bugs_new=pd.concat([all_bugs_fixed,bugs_test.query('fixed==\"None\"')])\n",
    "all_bugs_new.drop(['fixed'], axis=1, inplace=True)\n",
    "all_bugs_new.drop_duplicates(inplace=True)\n",
    "len(all_bugs_new)"
   ]
  },
  {
   "cell_type": "code",
   "execution_count": 137,
   "metadata": {},
   "outputs": [],
   "source": [
    "all_bugs_new.to_csv('../docker/csv/docker_bugs_MAI_checked.csv', sep=';', index=False)"
   ]
  },
  {
   "cell_type": "markdown",
   "metadata": {},
   "source": [
    "################################################################################################################\n",
    "################################################################################################################\n",
    "# NOW WE CHECK BUGS WITH THE INSTALLED PACKAGES\n",
    "################################################################################################################\n",
    "################################################################################################################\n"
   ]
  },
  {
   "cell_type": "code",
   "execution_count": 138,
   "metadata": {},
   "outputs": [
    {
     "data": {
      "text/plain": [
       "47788"
      ]
     },
     "execution_count": 138,
     "metadata": {},
     "output_type": "execute_result"
    }
   ],
   "source": [
    "# BUGS\n",
    "docker_bugs=pd.read_csv('../docker/csv/docker_bugs_MAI_checked.csv', sep=';', dtype=object, index_col=None,  error_bad_lines=False)\n",
    "docker_bugs.drop_duplicates(inplace=True)\n",
    "bug_order=['wishlist','minor','normal','important','serious','grave','critical']\n",
    "# Something about venn diagram\n",
    "len(docker_bugs)"
   ]
  },
  {
   "cell_type": "code",
   "execution_count": 141,
   "metadata": {},
   "outputs": [
    {
     "data": {
      "text/plain": [
       "47433"
      ]
     },
     "execution_count": 141,
     "metadata": {},
     "output_type": "execute_result"
    }
   ],
   "source": [
    "# NOT considering security debianbug\n",
    "mask = docker_bugs['debianbug'].isin(docker_vulnerabilities['debianbug'].drop_duplicates())\n",
    "docker_bugs=docker_bugs[~mask]\n",
    "len(docker_bugs)"
   ]
  },
  {
   "cell_type": "code",
   "execution_count": 142,
   "metadata": {},
   "outputs": [
    {
     "data": {
      "text/plain": [
       "10678398"
      ]
     },
     "execution_count": 142,
     "metadata": {},
     "output_type": "execute_result"
    }
   ],
   "source": [
    "# Here we merge BUGS with community outdated packages\n",
    "lag_bugs_community=(\n",
    "    outdate_community.\n",
    "    drop(['inSecurity','package','version','version_order','last_order','release_repo'],axis=1).\n",
    "    drop_duplicates().\n",
    "    set_index(['source','source_version']).\n",
    "    merge(docker_bugs.\n",
    "          set_index(['source','source_version']),\n",
    "          left_index=True, \n",
    "          right_index=True, \n",
    "          how='outer').dropna().reset_index().drop_duplicates()\n",
    ")\n",
    "lag_bugs_community['type']=\"Community\"\n",
    "len(lag_bugs_community)"
   ]
  },
  {
   "cell_type": "code",
   "execution_count": 143,
   "metadata": {},
   "outputs": [
    {
     "data": {
      "text/plain": [
       "4683906"
      ]
     },
     "execution_count": 143,
     "metadata": {},
     "output_type": "execute_result"
    }
   ],
   "source": [
    "# Here we merge BUGS with official outdated packages\n",
    "lag_bugs_official=(\n",
    "    outdate_official.\n",
    "    drop(['inSecurity','package','version','version_order','last_order','release_repo'],axis=1).\n",
    "    drop_duplicates().\n",
    "    set_index(['source','source_version']).\n",
    "    merge(docker_bugs.\n",
    "          set_index(['source','source_version']),\n",
    "          left_index=True, \n",
    "          right_index=True, \n",
    "          how='outer').dropna().reset_index().drop_duplicates()\n",
    ")\n",
    "lag_bugs_official['type']=\"Official\"\n",
    "len(lag_bugs_official)"
   ]
  },
  {
   "cell_type": "code",
   "execution_count": 144,
   "metadata": {},
   "outputs": [],
   "source": [
    "# HERE I CONCAT BOTH\n",
    "lag_bug_all=pd.concat([lag_bugs_official,lag_bugs_community])"
   ]
  },
  {
   "cell_type": "code",
   "execution_count": 148,
   "metadata": {},
   "outputs": [],
   "source": [
    "lag_bug_all.to_csv('../docker/csv/used/lag_bug_all_MAI_check.csv', index=False, sep=\";\")"
   ]
  },
  {
   "cell_type": "code",
   "execution_count": null,
   "metadata": {},
   "outputs": [],
   "source": []
  }
 ],
 "metadata": {
  "kernelspec": {
   "display_name": "Python 3",
   "language": "python",
   "name": "python3"
  },
  "language_info": {
   "codemirror_mode": {
    "name": "ipython",
    "version": 3
   },
   "file_extension": ".py",
   "mimetype": "text/x-python",
   "name": "python",
   "nbconvert_exporter": "python",
   "pygments_lexer": "ipython3",
   "version": "3.5.1+"
  }
 },
 "nbformat": 4,
 "nbformat_minor": 2
}
