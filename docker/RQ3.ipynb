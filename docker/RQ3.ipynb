{
 "cells": [
  {
   "cell_type": "code",
   "execution_count": 1,
   "metadata": {},
   "outputs": [],
   "source": [
    "%matplotlib inline\n",
    "import seaborn as sns; \n",
    "import pandas as pd\n",
    "import matplotlib.pyplot as plt\n",
    "from matplotlib import style\n",
    "from matplotlib import gridspec\n",
    "import scipy\n",
    "style.use('fast')\n",
    "from datetime import datetime\n",
    "from io import StringIO\n",
    "import re\n",
    "import numpy as np\n",
    "from datetime import datetime\n",
    "import os\n"
   ]
  },
  {
   "cell_type": "code",
   "execution_count": 2,
   "metadata": {},
   "outputs": [],
   "source": [
    "sns.set_style('ticks',{'legend.frameon':True} )\n",
    "sns.set_palette('colorblind')\n",
    "FIG_SIZE = (12, 3)\n",
    "font = {'family' : 'Times New Roman',\n",
    "        'weight' : 'bold',\n",
    "        'size'   : 22}\n",
    "plt.rc('font', **font)\n",
    "plt.rcParams['pdf.fonttype'] = 42\n",
    "plt.rcParams['ps.fonttype'] = 42\n",
    "plt.rcParams['text.usetex'] = True\n",
    "\n",
    "plt.rcParams['xtick.labelsize'] = 22\n",
    "plt.rcParams['ytick.labelsize'] = 22\n",
    "plt.rcParams['axes.labelsize']= 22\n",
    "flatui = [sns.xkcd_rgb[\"medium green\"], \"orange\", sns.xkcd_rgb[\"medium purple\"], \"#e74c3c\", \"#34495e\", \"#2ecc71\"]\n"
   ]
  },
  {
   "cell_type": "code",
   "execution_count": 3,
   "metadata": {},
   "outputs": [],
   "source": [
    "# Cliff's Delta\n",
    "from __future__ import division\n",
    " \n",
    "def cliffsDelta(lst1,lst2,\n",
    "                dull = [0.147, # small\n",
    "                        0.33,  # medium\n",
    "                        0.474 # large\n",
    "                        ][0] ): \n",
    "  \"Returns true if there are more than 'dull' differences\"\n",
    "  m, n = len(lst1), len(lst2)\n",
    "  lst2 = sorted(lst2)\n",
    "  j = more = less = 0\n",
    "  for repeats,x in runs(sorted(lst1)):\n",
    "    while j <= (n - 1) and lst2[j] <  x: \n",
    "      j += 1\n",
    "    more += j*repeats\n",
    "    while j <= (n - 1) and lst2[j] == x: \n",
    "      j += 1\n",
    "    less += (n - j)*repeats\n",
    "  d= (more - less) / (m*n)\n",
    "  f=abs(d)  > dull\n",
    "  print(\"d=\"+str(d))#+' '+str(f))\n",
    "  return abs(d)  > dull\n",
    "   \n",
    "def runs(lst):\n",
    "  \"Iterator, chunks repeated values\"\n",
    "  for j,two in enumerate(lst):\n",
    "    if j == 0:\n",
    "      one,i = two,0\n",
    "    if one!=two:\n",
    "      yield j - i,one\n",
    "      i = j\n",
    "    one=two\n",
    "  yield j - i + 1,two\n",
    "  \n",
    "def _cliffsDelta():\n",
    "  \"demo function\"\n",
    "  lst1=[1,2,3,4,5,6,7]\n",
    "  for r in [1.01,1.1,1.21, 1.5, 2]:\n",
    "    lst2=map(lambda x: x*r,lst1)"
   ]
  },
  {
   "cell_type": "markdown",
   "metadata": {},
   "source": [
    "# RQ3\n",
    "# BUGS WITH THE INSTALLED PACKAGES\n"
   ]
  },
  {
   "cell_type": "code",
   "execution_count": 4,
   "metadata": {},
   "outputs": [
    {
     "data": {
      "text/plain": [
       "25686"
      ]
     },
     "execution_count": 4,
     "metadata": {},
     "output_type": "execute_result"
    }
   ],
   "source": [
    "# Vulnerabilities: So we can filter them out\n",
    "docker_vulnerabilities=pd.read_csv('../../docker/csv/used/docker_vulnerabilities.csv', sep=';', dtype=object, index_col=None,  error_bad_lines=False)\n",
    "docker_vulnerabilities['urgency']=docker_vulnerabilities['urgency'].apply(lambda x: 'not assigned' if 'not' in x\n",
    "                                                                        else x)\n",
    "docker_vulnerabilities['urgency']=docker_vulnerabilities['urgency'].apply(lambda x: x.split('*')[0])\n",
    "docker_vulnerabilities.drop_duplicates(inplace=True)\n",
    "len(docker_vulnerabilities)"
   ]
  },
  {
   "cell_type": "code",
   "execution_count": 5,
   "metadata": {},
   "outputs": [
    {
     "data": {
      "text/plain": [
       "47604"
      ]
     },
     "execution_count": 5,
     "metadata": {},
     "output_type": "execute_result"
    }
   ],
   "source": [
    "# BUGS\n",
    "docker_bugs=pd.read_csv('../../docker/csv/docker_bugs_MAI_checked.csv', sep=';', dtype=object, index_col=None,  error_bad_lines=False)\n",
    "docker_bugs.drop_duplicates(inplace=True)\n",
    "bug_order=['wishlist','minor','normal','important','serious','grave','critical']\n",
    "docker_bugs=docker_bugs.query('status!=\"fixed\" and status!=\"pending-fixed\"')\n",
    "docker_bugs['status']=docker_bugs['status'].apply(lambda x: \"fixed\" if x ==\"done\" else x)\n",
    "len(docker_bugs)"
   ]
  },
  {
   "cell_type": "code",
   "execution_count": 6,
   "metadata": {},
   "outputs": [
    {
     "name": "stdout",
     "output_type": "stream",
     "text": [
      "70 708\n"
     ]
    }
   ],
   "source": [
    "# considering only security bugs\n",
    "mask = docker_bugs['debianbug'].isin(docker_vulnerabilities.query('status==\"resolved\"')['debianbug'].drop_duplicates())\n",
    "security_only=docker_bugs[mask]\n",
    "print(len(security_only['debianbug'].drop_duplicates()),len(docker_vulnerabilities.query('status==\"resolved\"')['debianbug'].drop_duplicates()))"
   ]
  },
  {
   "cell_type": "code",
   "execution_count": 7,
   "metadata": {},
   "outputs": [
    {
     "data": {
      "text/plain": [
       "47245"
      ]
     },
     "execution_count": 7,
     "metadata": {},
     "output_type": "execute_result"
    }
   ],
   "source": [
    "# NOT considering security bugs\n",
    "mask = docker_bugs['debianbug'].isin(docker_vulnerabilities['debianbug'].drop_duplicates())\n",
    "docker_bugs=docker_bugs[~mask]\n",
    "len(docker_bugs)"
   ]
  },
  {
   "cell_type": "code",
   "execution_count": 8,
   "metadata": {},
   "outputs": [],
   "source": [
    "docker_bugs['severity']=docker_bugs['severity'].apply(lambda x:\n",
    "                                                     'high' if x==\"grave\"\n",
    "                                                     else 'high' if x==\"serious\"\n",
    "                                                     else 'high' if x==\"critical\"\n",
    "                                                     else x)"
   ]
  },
  {
   "cell_type": "code",
   "execution_count": 9,
   "metadata": {},
   "outputs": [
    {
     "data": {
      "text/plain": [
       "<matplotlib.legend.Legend at 0x7f226580a2b0>"
      ]
     },
     "execution_count": 9,
     "metadata": {},
     "output_type": "execute_result"
    },
    {
     "data": {
      "image/png": "[encoded data removed]",
      "text/plain": [
       "<Figure size 864x216 with 1 Axes>"
      ]
     },
     "metadata": {},
     "output_type": "display_data"
    }
   ],
   "source": [
    "df_bug=docker_bugs.groupby(['severity','status']).count().reset_index()\n",
    "df_bug['source']=df_bug['source']/len(docker_bugs)\n",
    "df_bug=df_bug.sort_values('severity', ascending=False)\n",
    "\n",
    "ax = sns.barplot(x=\"severity\", \n",
    "                 y=\"source\", \n",
    "                 hue=\"status\", \n",
    "                 order=['wishlist','minor','normal','important','high'],\n",
    "                 data=df_bug, \n",
    "                 palette=flatui, \n",
    "                 linewidth=1)\n",
    "ax.figure.set_size_inches(12,3)\n",
    "ax.set_xlabel(\"Severity\")\n",
    "ax.set_ylabel('Package Bugs \\%')\n",
    "for patch in ax.patches:\n",
    "    patch.set_edgecolor('black')\n",
    "ax.legend(loc='upper right', bbox_to_anchor=(0.5, 1), ncol=2, fontsize=20, fancybox=True, shadow=True)\n"
   ]
  },
  {
   "cell_type": "code",
   "execution_count": 10,
   "metadata": {},
   "outputs": [
    {
     "data": {
      "text/html": [
       "<div>\n",
       "<style scoped>\n",
       "    .dataframe tbody tr th:only-of-type {\n",
       "        vertical-align: middle;\n",
       "    }\n",
       "\n",
       "    .dataframe tbody tr th {\n",
       "        vertical-align: top;\n",
       "    }\n",
       "\n",
       "    .dataframe thead th {\n",
       "        text-align: right;\n",
       "    }\n",
       "</style>\n",
       "<table border=\"1\" class=\"dataframe\">\n",
       "  <thead>\n",
       "    <tr style=\"text-align: right;\">\n",
       "      <th></th>\n",
       "      <th>status</th>\n",
       "      <th>arrival</th>\n",
       "      <th>debianbug</th>\n",
       "      <th>last_modified</th>\n",
       "      <th>release</th>\n",
       "      <th>severity</th>\n",
       "      <th>source</th>\n",
       "      <th>source_version</th>\n",
       "      <th>type</th>\n",
       "    </tr>\n",
       "  </thead>\n",
       "  <tbody>\n",
       "    <tr>\n",
       "      <th>0</th>\n",
       "      <td>fixed</td>\n",
       "      <td>12863</td>\n",
       "      <td>12863</td>\n",
       "      <td>12863</td>\n",
       "      <td>12863</td>\n",
       "      <td>12863</td>\n",
       "      <td>27.2</td>\n",
       "      <td>12863</td>\n",
       "      <td>12863</td>\n",
       "    </tr>\n",
       "    <tr>\n",
       "      <th>1</th>\n",
       "      <td>forwarded</td>\n",
       "      <td>3460</td>\n",
       "      <td>3460</td>\n",
       "      <td>3460</td>\n",
       "      <td>3460</td>\n",
       "      <td>3460</td>\n",
       "      <td>7.3</td>\n",
       "      <td>3460</td>\n",
       "      <td>3460</td>\n",
       "    </tr>\n",
       "    <tr>\n",
       "      <th>2</th>\n",
       "      <td>pending</td>\n",
       "      <td>30922</td>\n",
       "      <td>30922</td>\n",
       "      <td>30922</td>\n",
       "      <td>30922</td>\n",
       "      <td>30922</td>\n",
       "      <td>65.5</td>\n",
       "      <td>30922</td>\n",
       "      <td>30922</td>\n",
       "    </tr>\n",
       "  </tbody>\n",
       "</table>\n",
       "</div>"
      ],
      "text/plain": [
       "      status  arrival  debianbug  last_modified  release  severity source  \\\n",
       "0      fixed    12863      12863          12863    12863     12863   27.2   \n",
       "1  forwarded     3460       3460           3460     3460      3460    7.3   \n",
       "2    pending    30922      30922          30922    30922     30922   65.5   \n",
       "\n",
       "   source_version   type  \n",
       "0           12863  12863  \n",
       "1            3460   3460  \n",
       "2           30922  30922  "
      ]
     },
     "execution_count": 10,
     "metadata": {},
     "output_type": "execute_result"
    }
   ],
   "source": [
    "vuls=docker_bugs.groupby(['status']).count().reset_index()\n",
    "vuls['source']=(vuls['source']*100/len(docker_bugs)).apply(lambda x: \"%.1f\" % x)\n",
    "vuls"
   ]
  },
  {
   "cell_type": "code",
   "execution_count": 11,
   "metadata": {},
   "outputs": [
    {
     "data": {
      "text/html": [
       "<div>\n",
       "<style scoped>\n",
       "    .dataframe tbody tr th:only-of-type {\n",
       "        vertical-align: middle;\n",
       "    }\n",
       "\n",
       "    .dataframe tbody tr th {\n",
       "        vertical-align: top;\n",
       "    }\n",
       "\n",
       "    .dataframe thead th {\n",
       "        text-align: right;\n",
       "    }\n",
       "</style>\n",
       "<table border=\"1\" class=\"dataframe\">\n",
       "  <thead>\n",
       "    <tr style=\"text-align: right;\">\n",
       "      <th></th>\n",
       "      <th>severity</th>\n",
       "      <th>arrival</th>\n",
       "      <th>debianbug</th>\n",
       "      <th>last_modified</th>\n",
       "      <th>release</th>\n",
       "      <th>source</th>\n",
       "      <th>source_version</th>\n",
       "      <th>status</th>\n",
       "      <th>type</th>\n",
       "    </tr>\n",
       "  </thead>\n",
       "  <tbody>\n",
       "    <tr>\n",
       "      <th>0</th>\n",
       "      <td>high</td>\n",
       "      <td>1367</td>\n",
       "      <td>1367</td>\n",
       "      <td>1367</td>\n",
       "      <td>1367</td>\n",
       "      <td>2.9</td>\n",
       "      <td>1367</td>\n",
       "      <td>1367</td>\n",
       "      <td>1367</td>\n",
       "    </tr>\n",
       "    <tr>\n",
       "      <th>1</th>\n",
       "      <td>important</td>\n",
       "      <td>13087</td>\n",
       "      <td>13087</td>\n",
       "      <td>13087</td>\n",
       "      <td>13087</td>\n",
       "      <td>27.7</td>\n",
       "      <td>13087</td>\n",
       "      <td>13087</td>\n",
       "      <td>13087</td>\n",
       "    </tr>\n",
       "    <tr>\n",
       "      <th>2</th>\n",
       "      <td>minor</td>\n",
       "      <td>3141</td>\n",
       "      <td>3141</td>\n",
       "      <td>3141</td>\n",
       "      <td>3141</td>\n",
       "      <td>6.6</td>\n",
       "      <td>3141</td>\n",
       "      <td>3141</td>\n",
       "      <td>3141</td>\n",
       "    </tr>\n",
       "    <tr>\n",
       "      <th>3</th>\n",
       "      <td>normal</td>\n",
       "      <td>23732</td>\n",
       "      <td>23732</td>\n",
       "      <td>23732</td>\n",
       "      <td>23732</td>\n",
       "      <td>50.2</td>\n",
       "      <td>23732</td>\n",
       "      <td>23732</td>\n",
       "      <td>23732</td>\n",
       "    </tr>\n",
       "    <tr>\n",
       "      <th>4</th>\n",
       "      <td>wishlist</td>\n",
       "      <td>5918</td>\n",
       "      <td>5918</td>\n",
       "      <td>5918</td>\n",
       "      <td>5918</td>\n",
       "      <td>12.5</td>\n",
       "      <td>5918</td>\n",
       "      <td>5918</td>\n",
       "      <td>5918</td>\n",
       "    </tr>\n",
       "  </tbody>\n",
       "</table>\n",
       "</div>"
      ],
      "text/plain": [
       "    severity  arrival  debianbug  last_modified  release source  \\\n",
       "0       high     1367       1367           1367     1367    2.9   \n",
       "1  important    13087      13087          13087    13087   27.7   \n",
       "2      minor     3141       3141           3141     3141    6.6   \n",
       "3     normal    23732      23732          23732    23732   50.2   \n",
       "4   wishlist     5918       5918           5918     5918   12.5   \n",
       "\n",
       "   source_version  status   type  \n",
       "0            1367    1367   1367  \n",
       "1           13087   13087  13087  \n",
       "2            3141    3141   3141  \n",
       "3           23732   23732  23732  \n",
       "4            5918    5918   5918  "
      ]
     },
     "execution_count": 11,
     "metadata": {},
     "output_type": "execute_result"
    }
   ],
   "source": [
    "vuls=docker_bugs.groupby(['severity']).count().reset_index()\n",
    "vuls['source']=(vuls['source']*100/len(docker_bugs)).apply(lambda x: \"%.1f\" % x)\n",
    "vuls"
   ]
  },
  {
   "cell_type": "code",
   "execution_count": 12,
   "metadata": {},
   "outputs": [
    {
     "data": {
      "text/plain": [
       "15362304"
      ]
     },
     "execution_count": 12,
     "metadata": {},
     "output_type": "execute_result"
    }
   ],
   "source": [
    "###### Bugs with packages\n",
    "lag_bug_all=pd.read_csv('../../docker/csv/used/lag_bug_all_MAI_check.csv', sep=';', dtype=object, index_col=None,  error_bad_lines=False)\n",
    "lag_bug_all.drop(['release_snapshot','release','created'], axis=1, inplace=True)\n",
    "len(lag_bug_all)"
   ]
  },
  {
   "cell_type": "code",
   "execution_count": 13,
   "metadata": {},
   "outputs": [
    {
     "name": "stdout",
     "output_type": "stream",
     "text": [
      "1994 3869\n"
     ]
    }
   ],
   "source": [
    "print(len(docker_bugs['source'].drop_duplicates()),\n",
    "len(docker_bugs[['source','source_version']].drop_duplicates()))"
   ]
  },
  {
   "cell_type": "code",
   "execution_count": 14,
   "metadata": {},
   "outputs": [
    {
     "name": "stdout",
     "output_type": "stream",
     "text": [
      "2081.613008130081 2163.0\n"
     ]
    }
   ],
   "source": [
    "print(lag_bug_all.groupby(['name']).count()[['debianbug']].debianbug.mean(),\n",
    "      lag_bug_all.groupby(['name']).count()[['debianbug']].debianbug.median())"
   ]
  },
  {
   "cell_type": "code",
   "execution_count": 15,
   "metadata": {},
   "outputs": [
    {
     "name": "stdout",
     "output_type": "stream",
     "text": [
      "677.95 729.0\n"
     ]
    }
   ],
   "source": [
    "print(lag_bug_all.query('status==\"done\"').groupby(['name']).count()[['debianbug']].debianbug.mean(),\n",
    "      lag_bug_all.query('status==\"done\"').groupby(['name']).count()[['debianbug']].debianbug.median())"
   ]
  },
  {
   "cell_type": "code",
   "execution_count": 16,
   "metadata": {},
   "outputs": [
    {
     "data": {
      "text/plain": [
       "(0, 6000)"
      ]
     },
     "execution_count": 16,
     "metadata": {},
     "output_type": "execute_result"
    },
    {
     "data": {
      "image/png": "[encoded data removed]",
      "text/plain": [
       "<Figure size 792x216 with 1 Axes>"
      ]
     },
     "metadata": {},
     "output_type": "display_data"
    }
   ],
   "source": [
    "######### concatinating both dataframes : offical and community\n",
    "if True:\n",
    "    df_tmp=(lag_bug_all.\n",
    "            groupby(['name','debian','type']).\n",
    "            count().\n",
    "            sort_values('source', ascending=False).\n",
    "            reset_index()\n",
    "           )\n",
    "\n",
    "order=['jessie','stretch','buster']\n",
    "\n",
    "ax = sns.boxplot(x=\"debian\", y=\"source\", data=df_tmp, hue=\"type\", palette=\"muted\", order=order, linewidth=1)\n",
    "ax.figure.set_size_inches(11,3)\n",
    "ax.set_xlabel(\"Container's Debian version\")\n",
    "ax.set_ylabel('Bugs')\n",
    "for patch in ax.patches:\n",
    "    patch.set_edgecolor('black')\n",
    "ax.legend(loc='upper right', bbox_to_anchor=(1, 1.3), ncol=3, fontsize=20, fancybox=True, shadow=True)\n",
    "ax.set_ylim(0,6000)"
   ]
  },
  {
   "cell_type": "code",
   "execution_count": 17,
   "metadata": {},
   "outputs": [
    {
     "name": "stdout",
     "output_type": "stream",
     "text": [
      "213 2163.0 5628\n"
     ]
    }
   ],
   "source": [
    "print(df_tmp.source.min(),\n",
    "      df_tmp.source.median(),\n",
    "     df_tmp.source.max())"
   ]
  },
  {
   "cell_type": "code",
   "execution_count": 18,
   "metadata": {},
   "outputs": [
    {
     "name": "stdout",
     "output_type": "stream",
     "text": [
      "jessie\n",
      "1307 2201.0 3415 1296 2450.0 5628\n",
      "stretch\n",
      "962 1683.0 2665 828 1759.0 3285\n",
      "buster\n",
      "213 560.0 776 278 561.0 1098\n"
     ]
    }
   ],
   "source": [
    "for x in ['jessie','stretch','buster']:\n",
    "    print(x)\n",
    "    print(df_tmp.query('type==\"Official\"').query('debian==\"'+x+'\"').source.min(),\n",
    "          df_tmp.query('type==\"Official\"').query('debian==\"'+x+'\"').source.median(),\n",
    "          df_tmp.query('type==\"Official\"').query('debian==\"'+x+'\"').source.max(),\n",
    "      df_tmp.query('type==\"Community\"').query('debian==\"'+x+'\"').source.min(),\n",
    "         df_tmp.query('type==\"Community\"').query('debian==\"'+x+'\"').source.median(),\n",
    "    df_tmp.query('type==\"Community\"').query('debian==\"'+x+'\"').source.max())\n"
   ]
  },
  {
   "cell_type": "code",
   "execution_count": 19,
   "metadata": {},
   "outputs": [
    {
     "name": "stdout",
     "output_type": "stream",
     "text": [
      "jessie\n",
      "d=0.28192800452586636\n",
      "stretch\n",
      "d=0.13625542803970223\n",
      "buster\n",
      "d=0.13015503875968992\n"
     ]
    }
   ],
   "source": [
    "for x in ['jessie','stretch','buster']:\n",
    "    print(x)\n",
    "    cliffsDelta(df_tmp.query('type==\"Community\"').query('debian==\"'+x+'\"').source, \n",
    "            df_tmp.query('type==\"Official\"').query('debian==\"'+x+'\"').source)"
   ]
  },
  {
   "cell_type": "code",
   "execution_count": 22,
   "metadata": {},
   "outputs": [],
   "source": [
    "if True:\n",
    "    df_tmp=(lag_bug_all.\n",
    "            groupby(['name','debian','type']).\n",
    "            count().\n",
    "            loc[:,['source']].\n",
    "            reset_index()\n",
    "           )\n",
    "    df_tmp2=(lag_bug_all.query('isOutdate==\"Out-of-date\"').\n",
    "             groupby(['name','debian','type','source','source_version']).\n",
    "             count().\n",
    "             reset_index().\n",
    "             groupby(['name','debian','type']).\n",
    "             count().\n",
    "             reset_index().\n",
    "             loc[:,['severity','name']]\n",
    "            )\n",
    "    \n",
    "    df_tmp3=(df_tmp2.merge(\n",
    "        df_tmp,\n",
    "        left_on='name',\n",
    "        right_on='name',\n",
    "        how='left')\n",
    "            )\n",
    "df_tmp3['severity']=df_tmp3['severity'].apply(int)"
   ]
  },
  {
   "cell_type": "code",
   "execution_count": 37,
   "metadata": {},
   "outputs": [
    {
     "name": "stderr",
     "output_type": "stream",
     "text": [
      "/usr/local/lib/python3.6/dist-packages/seaborn/regression.py:546: UserWarning: The `size` paramter has been renamed to `height`; please update your code.\n",
      "  warnings.warn(msg, UserWarning)\n"
     ]
    },
    {
     "data": {
      "image/png": "[encoded data removed]",
      "text/plain": [
       "<Figure size 864x360 with 1 Axes>"
      ]
     },
     "metadata": {},
     "output_type": "display_data"
    }
   ],
   "source": [
    "order=['jessie','stretch','buster']\n",
    "ax = sns.lmplot(x=\"severity\", y=\"source\", markers=[\"+\", 'o','x'], \n",
    "                hue=\"debian\", palette=flatui, data=df_tmp3, scatter_kws={\"s\": 8},\n",
    "                size=8, legend='', hue_order=order)\n",
    "ax.fig.set_size_inches(12,5)\n",
    "ax.set_ylabels('\\# bugs')\n",
    "ax.set_xlabels('\\# outdated packages')\n",
    "ax.fig.legend(loc='upper right', bbox_to_anchor=(0.8, 1.2), fontsize=25, fancybox=True, shadow=True,ncol=3)\n",
    "ax.set(xlim=(0,70), ylim=(0,4000))\n",
    "ax.fig.savefig('/home/neglectos/Desktop/thesis/Figs/docker/bugs_outdate.pdf', bbox_inches='tight', facecolor='white')\n"
   ]
  },
  {
   "cell_type": "code",
   "execution_count": 22,
   "metadata": {},
   "outputs": [
    {
     "name": "stdout",
     "output_type": "stream",
     "text": [
      "Up to date and only Resolved\n",
      "jessie (0.1772566916045922, 8.0353002382872612e-35) \n",
      "\n",
      "stretch (0.21848075494915659, 3.0820667055671476e-18) \n",
      "\n",
      "buster (0.58273443554826021, 3.1915529211800343e-22) \n",
      "\n",
      "jessie SpearmanrResult(correlation=0.11589185178499886, pvalue=1.1344861622091802e-15) \n",
      "\n",
      "stretch SpearmanrResult(correlation=0.23180916298328011, pvalue=2.1596133643340471e-20) \n",
      "\n",
      "buster SpearmanrResult(correlation=0.55548721476885898, pvalue=6.1140388617119719e-20) \n",
      "\n",
      "jessie KendalltauResult(correlation=0.084513955519226303, pvalue=9.3680100269981785e-18) \n",
      "\n",
      "stretch KendalltauResult(correlation=0.15990059285439026, pvalue=1.3558733634041004e-19) \n",
      "\n",
      "buster KendalltauResult(correlation=0.42300241408150202, pvalue=1.867771708060768e-20) \n",
      "\n"
     ]
    }
   ],
   "source": [
    "print('Up to date and only Resolved')\n",
    "for x in ['jessie','stretch','buster']:\n",
    "    test=df_tmp3.query('debian==\"'+x+'\"')\n",
    "    print(x,scipy.stats.pearsonr(test.source, test.severity),'\\n')\n",
    "    \n",
    "for x in ['jessie','stretch','buster']:\n",
    "    test=df_tmp3.query('debian==\"'+x+'\"')\n",
    "    print(x,scipy.stats.spearmanr(test.source, test.severity),'\\n')\n",
    "    \n",
    "for x in ['jessie','stretch','buster']:\n",
    "    test=df_tmp3.query('debian==\"'+x+'\"')\n",
    "    print(x,scipy.stats.kendalltau(test.source, test.severity),'\\n')"
   ]
  },
  {
   "cell_type": "code",
   "execution_count": 23,
   "metadata": {},
   "outputs": [
    {
     "name": "stderr",
     "output_type": "stream",
     "text": [
      "/usr/local/lib/python3.5/dist-packages/ipykernel_launcher.py:4: SettingWithCopyWarning: \n",
      "A value is trying to be set on a copy of a slice from a DataFrame.\n",
      "Try using .loc[row_indexer,col_indexer] = value instead\n",
      "\n",
      "See the caveats in the documentation: http://pandas.pydata.org/pandas-docs/stable/indexing.html#indexing-view-versus-copy\n",
      "  after removing the cwd from sys.path.\n"
     ]
    },
    {
     "data": {
      "text/plain": [
       "<matplotlib.collections.LineCollection at 0x7f8fec7786a0>"
      ]
     },
     "execution_count": 23,
     "metadata": {},
     "output_type": "execute_result"
    },
    {
     "data": {
      "image/png": "[encoded data removed]",
      "text/plain": [
       "<matplotlib.figure.Figure at 0x7f8ff0920ba8>"
      ]
     },
     "metadata": {},
     "output_type": "display_data"
    }
   ],
   "source": [
    "# When bugs were created\n",
    "if True:\n",
    "    df_tmp=docker_bugs.query('arrival>\"2013-05-01\"')\n",
    "    df_tmp['arrival']=df_tmp['arrival'].apply(lambda x: x[0:7]+'-01' )\n",
    "if True:\n",
    "    df_tmp2=(df_tmp.\n",
    "            loc[:,['arrival','release','debianbug']])\n",
    "    df_tmp2.drop_duplicates(inplace=True)\n",
    "    df_tmp2=df_tmp2.groupby(['arrival','release']).count().reset_index()\n",
    "    \n",
    "dff=(df_tmp2.\n",
    "    pivot(index='arrival', columns='release', values='debianbug').\n",
    "    fillna(0).\n",
    "    reset_index().\n",
    "    sort_values('arrival', ascending=True))\n",
    "\n",
    "dff['arrival']=dff['arrival'].apply(lambda x: datetime.strptime(x, \"%Y-%m-%d\"))\n",
    "dff.set_index('arrival', inplace=True)\n",
    "\n",
    "for x in dff:\n",
    "    dff[x]=dff[x].cumsum()\n",
    "    max=dff[x].values.max()\n",
    "    dff[x]=dff[x]*100/max\n",
    "    \n",
    "ax=dff.plot( color=['green','red','blue'])\n",
    "ax.hlines(80, pd.to_datetime('2013-05-01'), pd.to_datetime('2018-03-01'), colors='black', linestyles='dashed', alpha=1)\n",
    "ax.hlines(90, pd.to_datetime('2013-05-01'), pd.to_datetime('2018-03-01'), colors='black', linestyles='dashed', alpha=1)\n",
    "\n",
    "ax.set_ylim(0,)\n",
    "ax.set_ylabel('Cumulative \\% \\n of package bugs')\n",
    "ax.set_xlabel('Arrival date')\n",
    "ax.figure.set_size_inches(9,3)\n",
    "plt.tick_params(axis='both', which='major', labelsize=16, width=1)\n",
    "L=plt.legend(loc='upper left', prop={'size': 18})\n",
    "plt.setp(L.texts, family='Consolas')\n",
    "\n",
    "ax.set_xlim(pd.to_datetime('2013-05-01'), pd.to_datetime('2018-03-17'))\n",
    "ax.vlines(pd.to_datetime('2015-04-25'), 0,100, colors='orange', linestyles='dashed', alpha=1)\n",
    "ax.vlines(pd.to_datetime('2017-06-18'), 0,100, colors='orange', linestyles='dashed', alpha=1)\n",
    "ax.vlines(pd.to_datetime('2016-07-01'), 0,100, colors='orange', linestyles='dashed', alpha=1)"
   ]
  },
  {
   "cell_type": "code",
   "execution_count": 24,
   "metadata": {},
   "outputs": [
    {
     "data": {
      "text/html": [
       "<div>\n",
       "<style scoped>\n",
       "    .dataframe tbody tr th:only-of-type {\n",
       "        vertical-align: middle;\n",
       "    }\n",
       "\n",
       "    .dataframe tbody tr th {\n",
       "        vertical-align: top;\n",
       "    }\n",
       "\n",
       "    .dataframe thead th {\n",
       "        text-align: right;\n",
       "    }\n",
       "</style>\n",
       "<table border=\"1\" class=\"dataframe\">\n",
       "  <thead>\n",
       "    <tr style=\"text-align: right;\">\n",
       "      <th></th>\n",
       "      <th>severity</th>\n",
       "      <th>arrival</th>\n",
       "      <th>debianbug</th>\n",
       "      <th>last_modified</th>\n",
       "      <th>release</th>\n",
       "      <th>source</th>\n",
       "      <th>source_version</th>\n",
       "      <th>status</th>\n",
       "      <th>type</th>\n",
       "    </tr>\n",
       "  </thead>\n",
       "  <tbody>\n",
       "    <tr>\n",
       "      <th>0</th>\n",
       "      <td>high</td>\n",
       "      <td>1048</td>\n",
       "      <td>1048</td>\n",
       "      <td>1048</td>\n",
       "      <td>1048</td>\n",
       "      <td>8.1</td>\n",
       "      <td>1048</td>\n",
       "      <td>1048</td>\n",
       "      <td>1048</td>\n",
       "    </tr>\n",
       "    <tr>\n",
       "      <th>1</th>\n",
       "      <td>important</td>\n",
       "      <td>3327</td>\n",
       "      <td>3327</td>\n",
       "      <td>3327</td>\n",
       "      <td>3327</td>\n",
       "      <td>25.9</td>\n",
       "      <td>3327</td>\n",
       "      <td>3327</td>\n",
       "      <td>3327</td>\n",
       "    </tr>\n",
       "    <tr>\n",
       "      <th>2</th>\n",
       "      <td>minor</td>\n",
       "      <td>832</td>\n",
       "      <td>832</td>\n",
       "      <td>832</td>\n",
       "      <td>832</td>\n",
       "      <td>6.5</td>\n",
       "      <td>832</td>\n",
       "      <td>832</td>\n",
       "      <td>832</td>\n",
       "    </tr>\n",
       "    <tr>\n",
       "      <th>3</th>\n",
       "      <td>normal</td>\n",
       "      <td>6159</td>\n",
       "      <td>6159</td>\n",
       "      <td>6159</td>\n",
       "      <td>6159</td>\n",
       "      <td>47.9</td>\n",
       "      <td>6159</td>\n",
       "      <td>6159</td>\n",
       "      <td>6159</td>\n",
       "    </tr>\n",
       "    <tr>\n",
       "      <th>4</th>\n",
       "      <td>wishlist</td>\n",
       "      <td>1497</td>\n",
       "      <td>1497</td>\n",
       "      <td>1497</td>\n",
       "      <td>1497</td>\n",
       "      <td>11.6</td>\n",
       "      <td>1497</td>\n",
       "      <td>1497</td>\n",
       "      <td>1497</td>\n",
       "    </tr>\n",
       "  </tbody>\n",
       "</table>\n",
       "</div>"
      ],
      "text/plain": [
       "    severity  arrival  debianbug  last_modified  release source  \\\n",
       "0       high     1048       1048           1048     1048    8.1   \n",
       "1  important     3327       3327           3327     3327   25.9   \n",
       "2      minor      832        832            832      832    6.5   \n",
       "3     normal     6159       6159           6159     6159   47.9   \n",
       "4   wishlist     1497       1497           1497     1497   11.6   \n",
       "\n",
       "   source_version  status  type  \n",
       "0            1048    1048  1048  \n",
       "1            3327    3327  3327  \n",
       "2             832     832   832  \n",
       "3            6159    6159  6159  \n",
       "4            1497    1497  1497  "
      ]
     },
     "execution_count": 24,
     "metadata": {},
     "output_type": "execute_result"
    }
   ],
   "source": [
    "vuls=docker_bugs.query('status==\"fixed\"')\n",
    "vuls=vuls.groupby(['severity']).count().reset_index()\n",
    "vuls['source']=(vuls['source']*100/len(docker_bugs.query('status==\"fixed\"'))).apply(lambda x: \"%.1f\" % x)\n",
    "vuls"
   ]
  }
 ],
 "metadata": {
  "kernelspec": {
   "display_name": "Python 3",
   "language": "python",
   "name": "python3"
  },
  "language_info": {
   "codemirror_mode": {
    "name": "ipython",
    "version": 3
   },
   "file_extension": ".py",
   "mimetype": "text/x-python",
   "name": "python",
   "nbconvert_exporter": "python",
   "pygments_lexer": "ipython3",
   "version": "3.6.8"
  }
 },
 "nbformat": 4,
 "nbformat_minor": 2
}
