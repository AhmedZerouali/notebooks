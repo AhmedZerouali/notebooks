{
 "cells": [
  {
   "cell_type": "code",
   "execution_count": 1,
   "metadata": {},
   "outputs": [],
   "source": [
    "%matplotlib inline\n",
    "import seaborn as sns;\n",
    "import pandas as pd\n",
    "import matplotlib.pyplot as plt\n",
    "from matplotlib import style\n",
    "from matplotlib import gridspec\n",
    "import scipy\n",
    "style.use('fast')\n",
    "from datetime import datetime\n",
    "from io import StringIO\n",
    "import re\n",
    "import numpy as np\n",
    "from datetime import datetime\n",
    "import os\n"
   ]
  },
  {
   "cell_type": "code",
   "execution_count": 2,
   "metadata": {},
   "outputs": [],
   "source": [
    "sns.set_style('ticks',{'legend.frameon':True} )\n",
    "sns.set_palette('colorblind')\n",
    "FIG_SIZE = (12, 3)\n",
    "font = {'family' : 'Times New Roman',\n",
    "        'weight' : 'bold',\n",
    "        'size'   : 22}\n",
    "plt.rc('font', **font)\n",
    "plt.rcParams['pdf.fonttype'] = 42\n",
    "plt.rcParams['ps.fonttype'] = 42\n",
    "plt.rcParams['text.usetex'] = True\n",
    "\n",
    "plt.rcParams['xtick.labelsize'] = 22\n",
    "plt.rcParams['ytick.labelsize'] = 22\n",
    "plt.rcParams['axes.labelsize']= 22\n",
    "flatui = [sns.xkcd_rgb[\"medium green\"], \"orange\", sns.xkcd_rgb[\"medium purple\"], \"#e74c3c\", \"#34495e\", \"#2ecc71\"]\n"
   ]
  },
  {
   "cell_type": "code",
   "execution_count": 3,
   "metadata": {},
   "outputs": [],
   "source": [
    "# Cliff's Delta\n",
    "from __future__ import division\n",
    " \n",
    "def cliffsDelta(lst1,lst2,\n",
    "                dull = [0.147, # small\n",
    "                        0.33,  # medium\n",
    "                        0.474 # large\n",
    "                        ][0] ): \n",
    "  \"Returns true if there are more than 'dull' differences\"\n",
    "  m, n = len(lst1), len(lst2)\n",
    "  lst2 = sorted(lst2)\n",
    "  j = more = less = 0\n",
    "  for repeats,x in runs(sorted(lst1)):\n",
    "    while j <= (n - 1) and lst2[j] <  x: \n",
    "      j += 1\n",
    "    more += j*repeats\n",
    "    while j <= (n - 1) and lst2[j] == x: \n",
    "      j += 1\n",
    "    less += (n - j)*repeats\n",
    "  d= (more - less) / (m*n)\n",
    "  f=abs(d)  > dull\n",
    "  print(\"d=\"+str(d))#+' '+str(f))\n",
    "  return abs(d)  > dull\n",
    "   \n",
    "def runs(lst):\n",
    "  \"Iterator, chunks repeated values\"\n",
    "  for j,two in enumerate(lst):\n",
    "    if j == 0:\n",
    "      one,i = two,0\n",
    "    if one!=two:\n",
    "      yield j - i,one\n",
    "      i = j\n",
    "    one=two\n",
    "  yield j - i + 1,two\n",
    "  \n",
    "def _cliffsDelta():\n",
    "  \"demo function\"\n",
    "  lst1=[1,2,3,4,5,6,7]\n",
    "  for r in [1.01,1.1,1.21, 1.5, 2]:\n",
    "    lst2=map(lambda x: x*r,lst1)"
   ]
  },
  {
   "cell_type": "markdown",
   "metadata": {},
   "source": [
    "# RQ4: Survival Analysis"
   ]
  },
  {
   "cell_type": "code",
   "execution_count": 5,
   "metadata": {},
   "outputs": [
    {
     "data": {
      "text/plain": [
       "25686"
      ]
     },
     "execution_count": 5,
     "metadata": {},
     "output_type": "execute_result"
    }
   ],
   "source": [
    "# Vulnerabilities\n",
    "docker_vulnerabilities=pd.read_csv('../../docker/csv/used/docker_vulnerabilities.csv', sep=';', dtype=object, index_col=None,  error_bad_lines=False)\n",
    "docker_vulnerabilities['urgency']=docker_vulnerabilities['urgency'].apply(lambda x: 'not assigned' if 'not' in x\n",
    "                                                                        else x)\n",
    "docker_vulnerabilities['urgency']=docker_vulnerabilities['urgency'].apply(lambda x: x.split('*')[0])\n",
    "docker_vulnerabilities.drop_duplicates(inplace=True)\n",
    "len(docker_vulnerabilities)"
   ]
  },
  {
   "cell_type": "markdown",
   "metadata": {},
   "source": [
    "##  1 - [ Bugs ]"
   ]
  },
  {
   "cell_type": "code",
   "execution_count": 6,
   "metadata": {},
   "outputs": [],
   "source": [
    "# Here we include bugs that were fixed for the used version but in an other debian release\n",
    "docker_bugs_fixed=pd.read_csv('../../docker/csv/docker_bugs_MAI.csv', sep=';', dtype=object, index_col=None,  error_bad_lines=False)\n",
    "docker_bugs_fixed.drop_duplicates(inplace=True)\n",
    "bug_order=['wishlist','minor','normal','important','high']\n",
    "\n",
    "docker_bugs_fixed=docker_bugs_fixed.query('status!=\"fixed\" and status!=\"pending-fixed\"')\n",
    "docker_bugs_fixed['status']=docker_bugs_fixed['status'].apply(lambda x: \"fixed\" if x ==\"done\" else x)\n",
    "\n",
    "mask = docker_bugs_fixed['debianbug'].isin(docker_vulnerabilities['debianbug'].drop_duplicates())\n",
    "docker_bugs_fixed=docker_bugs_fixed[~mask]"
   ]
  },
  {
   "cell_type": "code",
   "execution_count": 7,
   "metadata": {},
   "outputs": [],
   "source": [
    "docker_bugs_fixed['severity']=docker_bugs_fixed['severity'].apply(lambda x:\n",
    "                                                     'high' if x==\"grave\"\n",
    "                                                     else 'high' if x==\"serious\"\n",
    "                                                     else 'high' if x==\"critical\"\n",
    "                                                     else x)"
   ]
  },
  {
   "cell_type": "code",
   "execution_count": 8,
   "metadata": {},
   "outputs": [
    {
     "data": {
      "text/html": [
       "<div>\n",
       "<style scoped>\n",
       "    .dataframe tbody tr th:only-of-type {\n",
       "        vertical-align: middle;\n",
       "    }\n",
       "\n",
       "    .dataframe tbody tr th {\n",
       "        vertical-align: top;\n",
       "    }\n",
       "\n",
       "    .dataframe thead th {\n",
       "        text-align: right;\n",
       "    }\n",
       "</style>\n",
       "<table border=\"1\" class=\"dataframe\">\n",
       "  <thead>\n",
       "    <tr style=\"text-align: right;\">\n",
       "      <th></th>\n",
       "      <th>type</th>\n",
       "      <th>debianbug</th>\n",
       "      <th>source</th>\n",
       "      <th>source_version</th>\n",
       "      <th>arrival</th>\n",
       "      <th>last_modified</th>\n",
       "      <th>status</th>\n",
       "      <th>severity</th>\n",
       "      <th>release</th>\n",
       "      <th>observed</th>\n",
       "    </tr>\n",
       "  </thead>\n",
       "  <tbody>\n",
       "    <tr>\n",
       "      <th>0</th>\n",
       "      <td>normal</td>\n",
       "      <td>677570</td>\n",
       "      <td>acl</td>\n",
       "      <td>2.2.52-2</td>\n",
       "      <td>2012-06-14</td>\n",
       "      <td>2018-03-18</td>\n",
       "      <td>pending</td>\n",
       "      <td>wishlist</td>\n",
       "      <td>jessie</td>\n",
       "      <td>False</td>\n",
       "    </tr>\n",
       "    <tr>\n",
       "      <th>1</th>\n",
       "      <td>archived</td>\n",
       "      <td>707963</td>\n",
       "      <td>acl</td>\n",
       "      <td>2.2.52-2</td>\n",
       "      <td>2013-05-12</td>\n",
       "      <td>2013-06-10</td>\n",
       "      <td>fixed</td>\n",
       "      <td>important</td>\n",
       "      <td>jessie</td>\n",
       "      <td>True</td>\n",
       "    </tr>\n",
       "  </tbody>\n",
       "</table>\n",
       "</div>"
      ],
      "text/plain": [
       "       type debianbug source source_version    arrival last_modified   status  \\\n",
       "0    normal    677570    acl       2.2.52-2 2012-06-14    2018-03-18  pending   \n",
       "1  archived    707963    acl       2.2.52-2 2013-05-12    2013-06-10    fixed   \n",
       "\n",
       "    severity release  observed  \n",
       "0   wishlist  jessie     False  \n",
       "1  important  jessie      True  "
      ]
     },
     "execution_count": 8,
     "metadata": {},
     "output_type": "execute_result"
    }
   ],
   "source": [
    "docker_bugs_fixed['observed']=docker_bugs_fixed['status'].apply(lambda d: True if d==\"fixed\" else False)\n",
    "docker_bugs_fixed['last_modified']=docker_bugs_fixed.apply(lambda d: '2018-03-18' if d['status']==\"pending\" \n",
    "                                                           else d['last_modified'], axis=1)\n",
    "\n",
    "docker_bugs_fixed['arrival']=docker_bugs_fixed['arrival'].apply( lambda x: datetime.strptime(x.split()[0], \"%Y-%m-%d\") )\n",
    "docker_bugs_fixed['last_modified']=docker_bugs_fixed['last_modified'].apply( lambda x: datetime.strptime(x.split()[0], \"%Y-%m-%d\") )\n",
    "\n",
    "\n",
    "docker_bugs_fixed.head(2)"
   ]
  },
  {
   "cell_type": "code",
   "execution_count": 9,
   "metadata": {},
   "outputs": [
    {
     "name": "stdout",
     "output_type": "stream",
     "text": [
      "wishlist 37.1\n",
      "minor 33.5666666667\n",
      "high 3.13333333333\n",
      "important 60.1333333333\n",
      "normal 53.8333333333\n"
     ]
    },
    {
     "name": "stderr",
     "output_type": "stream",
     "text": [
      "/usr/local/lib/python3.5/dist-packages/matplotlib/cbook/__init__.py:2401: UserWarning: Saw kwargs ['c', 'color'] which are all aliases for 'color'.  Kept value from 'color'\n",
      "  seen=seen, canon=canonical, used=seen[-1]))\n"
     ]
    },
    {
     "data": {
      "text/plain": [
       "<matplotlib.legend.Legend at 0x7f410d062160>"
      ]
     },
     "execution_count": 9,
     "metadata": {},
     "output_type": "execute_result"
    },
    {
     "data": {
      "image/png": "[encoded data removed]",
      "text/plain": [
       "<matplotlib.figure.Figure at 0x7f410c854ef0>"
      ]
     },
     "metadata": {},
     "output_type": "display_data"
    }
   ],
   "source": [
    "import lifelines\n",
    "from lifelines.statistics import logrank_test\n",
    "fig, ax = plt.subplots()\n",
    "\n",
    "\n",
    "kmp_df = (\n",
    "    docker_bugs_fixed.query('status==\"fixed\" or status==\"pending\"')\n",
    "    [['debianbug', 'arrival', 'last_modified','severity','observed']]\n",
    "    .assign()\n",
    "    .assign(duration=lambda d: (d['last_modified'] - d['arrival']).dt.days / 30)\n",
    ")\n",
    "\n",
    "PALETTE = sns.color_palette(flatui)[:6] \n",
    "PALETTE_2 = sns.color_palette('Set3')[::-1]\n",
    "\n",
    "kmp = lifelines.KaplanMeierFitter()\n",
    "data = []\n",
    "for i, severity in enumerate(['wishlist','minor','high','important','normal']):\n",
    "    mask = kmp_df['severity'] == severity\n",
    "    kmp.fit(kmp_df[mask]['duration'], kmp_df[mask]['observed'], label=severity)\n",
    "    print(severity, kmp.median_)\n",
    "    kmp.plot(ax=ax, ci_show=False, color=PALETTE[i])\n",
    "    data.append((severity, kmp_df[mask]['duration'], kmp_df[mask]['observed']))\n",
    "\n",
    "ax.set(\n",
    "    xlim=(0, 200),\n",
    "    xlabel='delay (in months)',\n",
    "    ylim=(0, 1),\n",
    "    ylabel='survival probability',\n",
    ")\n",
    "ax.figure.set_size_inches(9,3)\n",
    "ax.legend(loc='upper right', bbox_to_anchor=(1, 1.04), fontsize=15.5, fancybox=True, shadow=True,ncol=2)\n"
   ]
  },
  {
   "cell_type": "code",
   "execution_count": 10,
   "metadata": {},
   "outputs": [
    {
     "name": "stdout",
     "output_type": "stream",
     "text": [
      "wishlist ~ minor: 7.306 (p-value: 0.007)\n",
      "wishlist ~ high: 3846.395 (p-value: 0.000)\n",
      "wishlist ~ important: 42.556 (p-value: 0.000)\n",
      "wishlist ~ normal: 30.418 (p-value: 0.000)\n",
      "minor ~ high: 2605.403 (p-value: 0.000)\n",
      "minor ~ important: 59.501 (p-value: 0.000)\n",
      "minor ~ normal: 52.143 (p-value: 0.000)\n",
      "high ~ important: 4737.290 (p-value: 0.000)\n",
      "high ~ normal: 5346.639 (p-value: 0.000)\n",
      "important ~ normal: 4.875 (p-value: 0.027)\n"
     ]
    }
   ],
   "source": [
    "# Tests\n",
    "from lifelines.statistics import logrank_test\n",
    "import itertools\n",
    "\n",
    "for a, b in itertools.combinations(data, 2):\n",
    "    test = logrank_test(a[1], b[1], a[2], b[2])\n",
    "    print('{} ~ {}: {:.3f} (p-value: {:.3f})'.format(\n",
    "        a[0], b[0],  \n",
    "        test.test_statistic, test.p_value, \n",
    "    ))"
   ]
  },
  {
   "cell_type": "code",
   "execution_count": 332,
   "metadata": {},
   "outputs": [
    {
     "name": "stdout",
     "output_type": "stream",
     "text": [
      "normal 218.6\n",
      "important 199.833333333\n",
      "serious 75.1333333333\n",
      "grave 106.333333333\n",
      "critical 41.5\n",
      "minor 209.8\n",
      "wishlist 256.633333333\n"
     ]
    }
   ],
   "source": [
    "if True:\n",
    "    df_tmp = (\n",
    "        docker_bugs_fixed.query('status==\"pending\"')\n",
    "        [['debianbug', 'arrival', 'last_modified','severity']].\n",
    "        assign(duration=lambda d: (datetime.now() - d['arrival']).dt.days / 30)\n",
    "    )\n",
    "    for x in ['normal', 'important','serious','grave','critical','minor','wishlist']:\n",
    "        print(x, df_tmp.query('severity==\"'+x+'\"').duration.max())"
   ]
  },
  {
   "cell_type": "markdown",
   "metadata": {},
   "source": [
    "## 2 - [ Vulnerabilities ]\n",
    "### We trace the vulnerabilities with debianbug, then # Survival Analysis"
   ]
  },
  {
   "cell_type": "code",
   "execution_count": 11,
   "metadata": {},
   "outputs": [
    {
     "name": "stdout",
     "output_type": "stream",
     "text": [
      "all bugs that may be affecting the used packages 283027\n"
     ]
    }
   ],
   "source": [
    "packages_bugs=pd.read_csv('../../docker/csv/bugs_with_sources.csv', sep=';', dtype=object, index_col=None,  error_bad_lines=False)\n",
    "packages_bugs['source_version']=packages_bugs['found_in'].apply(lambda x:\n",
    "                                                         str(x).split('/')[-1])\n",
    "\n",
    "packages_bugs['fixed_in']=packages_bugs['fixed_in'].apply(lambda x:\n",
    "                                                         str(x).split('/')[-1])\n",
    "\n",
    "packages_bugs.drop_duplicates(inplace=True)\n",
    "print('all bugs that may be affecting the used packages', len(packages_bugs))"
   ]
  },
  {
   "cell_type": "code",
   "execution_count": 12,
   "metadata": {},
   "outputs": [
    {
     "data": {
      "text/plain": [
       "0.6212217290213485"
      ]
     },
     "execution_count": 12,
     "metadata": {},
     "output_type": "execute_result"
    }
   ],
   "source": [
    "test=docker_vulnerabilities[['cve','debianbug']].drop_duplicates()\n",
    "len(test.query('debianbug==\"undefined\"'))/len(test)"
   ]
  },
  {
   "cell_type": "code",
   "execution_count": 13,
   "metadata": {},
   "outputs": [
    {
     "name": "stdout",
     "output_type": "stream",
     "text": [
      "we could track: \n"
     ]
    },
    {
     "data": {
      "text/plain": [
       "0.93"
      ]
     },
     "execution_count": 13,
     "metadata": {},
     "output_type": "execute_result"
    }
   ],
   "source": [
    "vuls=(docker_vulnerabilities\n",
    "      [['urgency','debianbug','status']].\n",
    "      merge(packages_bugs\n",
    "            [['severity','debianbug','arrival','last_modified']].\n",
    "            rename(columns={\"severity\":\"severity_udd\"}),\n",
    "            left_on='debianbug',\n",
    "            right_on='debianbug',\n",
    "            how='left').dropna().reset_index()\n",
    "     )\n",
    "\n",
    "vuls=vuls.drop_duplicates()\n",
    "vuls['urgency']=vuls['urgency'].apply(lambda x: x.split('*')[0])\n",
    "vuls.rename(columns={'urgency':'severity'}, inplace=True)\n",
    "print('we could track: ')\n",
    "round(vuls['debianbug'].drop_duplicates().size/docker_vulnerabilities['debianbug'].drop_duplicates().size,2)\n"
   ]
  },
  {
   "cell_type": "code",
   "execution_count": 14,
   "metadata": {},
   "outputs": [
    {
     "data": {
      "text/html": [
       "<div>\n",
       "<style scoped>\n",
       "    .dataframe tbody tr th:only-of-type {\n",
       "        vertical-align: middle;\n",
       "    }\n",
       "\n",
       "    .dataframe tbody tr th {\n",
       "        vertical-align: top;\n",
       "    }\n",
       "\n",
       "    .dataframe thead th {\n",
       "        text-align: right;\n",
       "    }\n",
       "</style>\n",
       "<table border=\"1\" class=\"dataframe\">\n",
       "  <thead>\n",
       "    <tr style=\"text-align: right;\">\n",
       "      <th></th>\n",
       "      <th>index</th>\n",
       "      <th>severity</th>\n",
       "      <th>debianbug</th>\n",
       "      <th>status</th>\n",
       "      <th>severity_udd</th>\n",
       "      <th>arrival</th>\n",
       "      <th>last_modified</th>\n",
       "      <th>observed</th>\n",
       "    </tr>\n",
       "  </thead>\n",
       "  <tbody>\n",
       "    <tr>\n",
       "      <th>0</th>\n",
       "      <td>1</td>\n",
       "      <td>medium</td>\n",
       "      <td>876109</td>\n",
       "      <td>resolved</td>\n",
       "      <td>serious</td>\n",
       "      <td>2017-09-18</td>\n",
       "      <td>2017-10-24</td>\n",
       "      <td>True</td>\n",
       "    </tr>\n",
       "    <tr>\n",
       "      <th>1</th>\n",
       "      <td>2</td>\n",
       "      <td>medium</td>\n",
       "      <td>876109</td>\n",
       "      <td>resolved</td>\n",
       "      <td>serious</td>\n",
       "      <td>2017-09-18</td>\n",
       "      <td>2017-10-24</td>\n",
       "      <td>True</td>\n",
       "    </tr>\n",
       "  </tbody>\n",
       "</table>\n",
       "</div>"
      ],
      "text/plain": [
       "   index severity debianbug    status severity_udd    arrival last_modified  \\\n",
       "0      1   medium    876109  resolved      serious 2017-09-18    2017-10-24   \n",
       "1      2   medium    876109  resolved      serious 2017-09-18    2017-10-24   \n",
       "\n",
       "   observed  \n",
       "0      True  \n",
       "1      True  "
      ]
     },
     "execution_count": 14,
     "metadata": {},
     "output_type": "execute_result"
    }
   ],
   "source": [
    "vuls['observed']=vuls['status'].apply(lambda d: True if d==\"resolved\" else False)\n",
    "vuls['last_modified']=vuls.apply(lambda d: '2018-03-18' if d['status']==\"open\" \n",
    "                                                           else d['last_modified'], axis=1)\n",
    "\n",
    "vuls['arrival']=vuls['arrival'].apply( lambda x: datetime.strptime(x.split()[0], \"%Y-%m-%d\") )\n",
    "vuls['last_modified']=vuls['last_modified'].apply( lambda x: datetime.strptime(x.split()[0], \"%Y-%m-%d\") )\n",
    "\n",
    "vuls.head(2)"
   ]
  },
  {
   "cell_type": "code",
   "execution_count": 15,
   "metadata": {},
   "outputs": [
    {
     "name": "stdout",
     "output_type": "stream",
     "text": [
      "not assigned 5.9\n",
      "low 27.1333333333\n",
      "high 2.1\n",
      "medium 2.43333333333\n"
     ]
    },
    {
     "name": "stderr",
     "output_type": "stream",
     "text": [
      "/usr/local/lib/python3.5/dist-packages/matplotlib/cbook/__init__.py:2401: UserWarning: Saw kwargs ['c', 'color'] which are all aliases for 'color'.  Kept value from 'color'\n",
      "  seen=seen, canon=canonical, used=seen[-1]))\n"
     ]
    },
    {
     "data": {
      "text/plain": [
       "<matplotlib.legend.Legend at 0x7f410cfa47f0>"
      ]
     },
     "execution_count": 15,
     "metadata": {},
     "output_type": "execute_result"
    },
    {
     "data": {
      "image/png": "[encoded data removed]",
      "text/plain": [
       "<matplotlib.figure.Figure at 0x7f410befebe0>"
      ]
     },
     "metadata": {},
     "output_type": "display_data"
    }
   ],
   "source": [
    "import lifelines\n",
    "from lifelines.statistics import logrank_test\n",
    "fig, ax = plt.subplots()\n",
    "\n",
    "kmp_df = (\n",
    "    vuls\n",
    "    [['debianbug', 'arrival', 'last_modified','severity','observed']]\n",
    "    .assign(duration=lambda d: (d['last_modified'] - d['arrival']).dt.days / 30)\n",
    ")\n",
    "\n",
    "PALETTE = sns.color_palette(flatui)[:6]\n",
    "PALETTE_2 = sns.color_palette('Set3')[::-1]\n",
    "\n",
    "kmp = lifelines.KaplanMeierFitter()\n",
    "data = []\n",
    "\n",
    "for i, severity in enumerate(['not assigned','low','high','medium',]):\n",
    "    mask = kmp_df['severity'] == severity\n",
    "    kmp.fit(kmp_df[mask]['duration'], kmp_df[mask]['observed'], label=severity)\n",
    "    print(severity, kmp.median_)\n",
    "    kmp.plot(ax=ax, ci_show=False, color=PALETTE[i])\n",
    "    data.append((severity, kmp_df[mask]['duration'], kmp_df[mask]['observed']))\n",
    "\n",
    "ax.set(\n",
    "    xlim=(0, 40),\n",
    "    xlabel='delay (in months)',\n",
    "    ylim=(0, 1),\n",
    "    ylabel='survival probability',\n",
    ")\n",
    "ax.figure.set_size_inches(9,3)\n",
    "ax.legend(loc='upper right', bbox_to_anchor=(0.98, 1.04), fontsize=15.5, fancybox=True, shadow=True,ncol=1)\n"
   ]
  },
  {
   "cell_type": "code",
   "execution_count": 16,
   "metadata": {},
   "outputs": [
    {
     "data": {
      "text/plain": [
       "<matplotlib.legend.Legend at 0x7f410bdeee80>"
      ]
     },
     "execution_count": 16,
     "metadata": {},
     "output_type": "execute_result"
    },
    {
     "data": {
      "image/png": "[encoded data removed]",
      "text/plain": [
       "<matplotlib.figure.Figure at 0x7f410b99c2e8>"
      ]
     },
     "metadata": {},
     "output_type": "display_data"
    }
   ],
   "source": [
    "# Difference between severity in the Debian Security Tracker and Debian Bug Tracker\n",
    "vuls_group=vuls.groupby(['severity','severity_udd']).count()[['debianbug']].reset_index()\n",
    "vuls_group['debianbug']=vuls_group['debianbug']*100/len(vuls)\n",
    "\n",
    "ax = sns.barplot(x=\"severity\", \n",
    "                 y=\"debianbug\", \n",
    "                 hue=\"severity_udd\", \n",
    "                 #order=['wishlist','minor','normal','important','serious','grave','critical'],\n",
    "                 data=vuls_group, \n",
    "                 palette=\"muted\", \n",
    "                 linewidth=1)\n",
    "ax.figure.set_size_inches(12,3)\n",
    "ax.set_xlabel(\"Severity in the security tracker\")\n",
    "ax.set_ylabel('Vulnerabilities \\%')\n",
    "for patch in ax.patches:\n",
    "    patch.set_edgecolor('black')\n",
    "ax.text(0.04, 1.35, 'Severity in the Debian bug tracker', transform=ax.transAxes, fontsize=20,\n",
    "        verticalalignment='top', color='black')\n",
    "ax.legend(loc='upper right', bbox_to_anchor=(0.85, 1.65), ncol=2, fontsize=16, fancybox=True, shadow=True)"
   ]
  },
  {
   "cell_type": "code",
   "execution_count": 17,
   "metadata": {},
   "outputs": [
    {
     "data": {
      "text/html": [
       "<div>\n",
       "<style scoped>\n",
       "    .dataframe tbody tr th:only-of-type {\n",
       "        vertical-align: middle;\n",
       "    }\n",
       "\n",
       "    .dataframe tbody tr th {\n",
       "        vertical-align: top;\n",
       "    }\n",
       "\n",
       "    .dataframe thead th {\n",
       "        text-align: right;\n",
       "    }\n",
       "</style>\n",
       "<table border=\"1\" class=\"dataframe\">\n",
       "  <thead>\n",
       "    <tr style=\"text-align: right;\">\n",
       "      <th></th>\n",
       "      <th>severity</th>\n",
       "      <th>severity_udd</th>\n",
       "      <th>debianbug</th>\n",
       "    </tr>\n",
       "  </thead>\n",
       "  <tbody>\n",
       "    <tr>\n",
       "      <th>0</th>\n",
       "      <td>high</td>\n",
       "      <td>critical</td>\n",
       "      <td>6.010607</td>\n",
       "    </tr>\n",
       "    <tr>\n",
       "      <th>1</th>\n",
       "      <td>high</td>\n",
       "      <td>grave</td>\n",
       "      <td>27.224514</td>\n",
       "    </tr>\n",
       "    <tr>\n",
       "      <th>2</th>\n",
       "      <td>high</td>\n",
       "      <td>important</td>\n",
       "      <td>51.325869</td>\n",
       "    </tr>\n",
       "    <tr>\n",
       "      <th>3</th>\n",
       "      <td>high</td>\n",
       "      <td>minor</td>\n",
       "      <td>1.237478</td>\n",
       "    </tr>\n",
       "    <tr>\n",
       "      <th>4</th>\n",
       "      <td>high</td>\n",
       "      <td>normal</td>\n",
       "      <td>2.474956</td>\n",
       "    </tr>\n",
       "    <tr>\n",
       "      <th>5</th>\n",
       "      <td>high</td>\n",
       "      <td>serious</td>\n",
       "      <td>11.726576</td>\n",
       "    </tr>\n",
       "  </tbody>\n",
       "</table>\n",
       "</div>"
      ],
      "text/plain": [
       "  severity severity_udd  debianbug\n",
       "0     high     critical   6.010607\n",
       "1     high        grave  27.224514\n",
       "2     high    important  51.325869\n",
       "3     high        minor   1.237478\n",
       "4     high       normal   2.474956\n",
       "5     high      serious  11.726576"
      ]
     },
     "execution_count": 17,
     "metadata": {},
     "output_type": "execute_result"
    }
   ],
   "source": [
    "vuls_group=vuls.query('severity==\"high\"').groupby(['severity','severity_udd']).count()[['debianbug']].reset_index()\n",
    "vuls_group['debianbug']=vuls_group['debianbug']*100/len(vuls.query('severity==\"high\"'))\n",
    "vuls_group"
   ]
  },
  {
   "cell_type": "code",
   "execution_count": 18,
   "metadata": {},
   "outputs": [
    {
     "name": "stdout",
     "output_type": "stream",
     "text": [
      "not assigned ~ low: 2090.402 (p-value: 0.000)\n",
      "not assigned ~ high: 18.217 (p-value: 0.000)\n",
      "not assigned ~ medium: 6.660 (p-value: 0.010)\n",
      "low ~ high: 3011.243 (p-value: 0.000)\n",
      "low ~ medium: 3376.507 (p-value: 0.000)\n",
      "high ~ medium: 3.466 (p-value: 0.063)\n"
     ]
    }
   ],
   "source": [
    "from lifelines.statistics import logrank_test\n",
    "import itertools\n",
    "\n",
    "for a, b in itertools.combinations(data, 2):\n",
    "    test = logrank_test(a[1], b[1], a[2], b[2])\n",
    "    print('{} ~ {}: {:.3f} (p-value: {:.3f})'.format(\n",
    "        a[0], b[0], \n",
    "        test.test_statistic, test.p_value, \n",
    "    ))"
   ]
  },
  {
   "cell_type": "code",
   "execution_count": 19,
   "metadata": {},
   "outputs": [
    {
     "name": "stdout",
     "output_type": "stream",
     "text": [
      "unimportant 16.9\n",
      "low 16.866666666666667\n",
      "medium 16.9\n",
      "high 15.733333333333333\n"
     ]
    }
   ],
   "source": [
    "if True:\n",
    "    df_tmp = (\n",
    "        vuls.query('status==\"open\"')\n",
    "        [['debianbug', 'arrival', 'last_modified','severity']].\n",
    "        assign(duration=lambda d: (datetime.now() - d['arrival']).dt.days / 30)\n",
    "    )\n",
    "    for x in ['unimportant','low','medium','high']:\n",
    "        print(x, df_tmp.query('severity==\"'+x+'\"').duration.median())"
   ]
  },
  {
   "cell_type": "code",
   "execution_count": null,
   "metadata": {},
   "outputs": [],
   "source": []
  }
 ],
 "metadata": {
  "kernelspec": {
   "display_name": "Python 3",
   "language": "python",
   "name": "python3"
  },
  "language_info": {
   "codemirror_mode": {
    "name": "ipython",
    "version": 3
   },
   "file_extension": ".py",
   "mimetype": "text/x-python",
   "name": "python",
   "nbconvert_exporter": "python",
   "pygments_lexer": "ipython3",
   "version": "3.5.1+"
  }
 },
 "nbformat": 4,
 "nbformat_minor": 2
}
