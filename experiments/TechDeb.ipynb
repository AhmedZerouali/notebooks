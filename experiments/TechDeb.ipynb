{
 "cells": [
  {
   "cell_type": "code",
   "execution_count": 1,
   "metadata": {},
   "outputs": [],
   "source": [
    "%matplotlib inline\n",
    "import seaborn as sns; #sns.set(style=\"ticks\", color_codes=True)\n",
    "import pandas as pd\n",
    "import matplotlib.pyplot as plt\n",
    "from matplotlib import style\n",
    "import scipy\n",
    "style.use('fast')\n",
    "\n",
    "sns.set_style('ticks',{'legend.frameon':True} )\n",
    "sns.set_palette('colorblind')\n",
    "FIG_SIZE = (12, 3)\n",
    "font = {'family' : 'Times New Roman',\n",
    "        'weight' : 'bold',\n",
    "        'size'   : 22}\n",
    "plt.rc('font', **font)\n",
    "plt.rcParams['pdf.fonttype'] = 42\n",
    "plt.rcParams['ps.fonttype'] = 42\n",
    "plt.rcParams['text.usetex'] = True\n",
    "\n",
    "PALETTE_BASE = sns.color_palette('muted', n_colors=12)\n",
    "blue=PALETTE_BASE[0]\n",
    "green=PALETTE_BASE[1] \n",
    "red=PALETTE_BASE[2] \n",
    "purple=PALETTE_BASE[3]\n",
    "version_colors=['orange',red, 'gray']\n",
    "\n",
    "exclude_prefixes = ('@ryancavanaugh/pkg', 'all-packages-', 'cool-', 'neat-', 'wowdude-', 'npmdoc-', 'npmtest-', 'npm-ghost-',)\n",
    "exclude_suffixes = ('-cdn',)\n",
    "exclude_ghost = r'^ghost-\\d+$'"
   ]
  },
  {
   "cell_type": "markdown",
   "metadata": {},
   "source": [
    "# LOAD DATA"
   ]
  },
  {
   "cell_type": "code",
   "execution_count": 4,
   "metadata": {},
   "outputs": [
    {
     "name": "stdout",
     "output_type": "stream",
     "text": [
      "51351426\n"
     ]
    },
    {
     "data": {
      "text/html": [
       "<div>\n",
       "<style scoped>\n",
       "    .dataframe tbody tr th:only-of-type {\n",
       "        vertical-align: middle;\n",
       "    }\n",
       "\n",
       "    .dataframe tbody tr th {\n",
       "        vertical-align: top;\n",
       "    }\n",
       "\n",
       "    .dataframe thead th {\n",
       "        text-align: right;\n",
       "    }\n",
       "</style>\n",
       "<table border=\"1\" class=\"dataframe\">\n",
       "  <thead>\n",
       "    <tr style=\"text-align: right;\">\n",
       "      <th></th>\n",
       "      <th>date</th>\n",
       "      <th>dependency</th>\n",
       "      <th>kind</th>\n",
       "      <th>package</th>\n",
       "      <th>used_version</th>\n",
       "      <th>version</th>\n",
       "    </tr>\n",
       "  </thead>\n",
       "  <tbody>\n",
       "    <tr>\n",
       "      <th>0</th>\n",
       "      <td>2015-11-11</td>\n",
       "      <td>0</td>\n",
       "      <td>runtime</td>\n",
       "      <td>shaybagants-test</td>\n",
       "      <td>0.0.0</td>\n",
       "      <td>1.0.0</td>\n",
       "    </tr>\n",
       "    <tr>\n",
       "      <th>1</th>\n",
       "      <td>2015-11-11</td>\n",
       "      <td>0</td>\n",
       "      <td>runtime</td>\n",
       "      <td>shaybagants-test</td>\n",
       "      <td>0.0.0</td>\n",
       "      <td>2.0.0</td>\n",
       "    </tr>\n",
       "  </tbody>\n",
       "</table>\n",
       "</div>"
      ],
      "text/plain": [
       "         date dependency     kind           package used_version version\n",
       "0  2015-11-11          0  runtime  shaybagants-test        0.0.0   1.0.0\n",
       "1  2015-11-11          0  runtime  shaybagants-test        0.0.0   2.0.0"
      ]
     },
     "execution_count": 4,
     "metadata": {},
     "output_type": "execute_result"
    }
   ],
   "source": [
    "# Load data\n",
    "dep_lag = pd.read_csv('../../jsep2018/csv/packages/technical_lag_clean.csv', \n",
    "                    usecols=['package','version','date','kind','dependency','used_version'],\n",
    "                          sep=';', dtype=object, index_col=None,  error_bad_lines=False)\n",
    "print(len(dep_lag))\n",
    "dep_lag.head(2)"
   ]
  },
  {
   "cell_type": "code",
   "execution_count": 6,
   "metadata": {},
   "outputs": [],
   "source": [
    "dep_lag = dep_lag.query('dependency == \"lodash\"').query('kind == \"runtime\"')\n",
    "dep_lag.drop(['dependency','kind'], axis=1, inplace=True)"
   ]
  },
  {
   "cell_type": "code",
   "execution_count": 12,
   "metadata": {},
   "outputs": [],
   "source": [
    "dep_lag.sort_values(['package','date'], inplace=True)"
   ]
  },
  {
   "cell_type": "code",
   "execution_count": 13,
   "metadata": {},
   "outputs": [
    {
     "data": {
      "text/html": [
       "<div>\n",
       "<style scoped>\n",
       "    .dataframe tbody tr th:only-of-type {\n",
       "        vertical-align: middle;\n",
       "    }\n",
       "\n",
       "    .dataframe tbody tr th {\n",
       "        vertical-align: top;\n",
       "    }\n",
       "\n",
       "    .dataframe thead th {\n",
       "        text-align: right;\n",
       "    }\n",
       "</style>\n",
       "<table border=\"1\" class=\"dataframe\">\n",
       "  <thead>\n",
       "    <tr style=\"text-align: right;\">\n",
       "      <th></th>\n",
       "      <th>date</th>\n",
       "      <th>package</th>\n",
       "      <th>used_version</th>\n",
       "      <th>version</th>\n",
       "    </tr>\n",
       "  </thead>\n",
       "  <tbody>\n",
       "    <tr>\n",
       "      <th>31038585</th>\n",
       "      <td>2015-12-04</td>\n",
       "      <td>0.workspace</td>\n",
       "      <td>3.10.1</td>\n",
       "      <td>0.1.0</td>\n",
       "    </tr>\n",
       "    <tr>\n",
       "      <th>31038586</th>\n",
       "      <td>2015-12-04</td>\n",
       "      <td>0.workspace</td>\n",
       "      <td>3.10.1</td>\n",
       "      <td>0.1.1</td>\n",
       "    </tr>\n",
       "    <tr>\n",
       "      <th>31446606</th>\n",
       "      <td>2015-05-08</td>\n",
       "      <td>00k-node</td>\n",
       "      <td>3.2.0</td>\n",
       "      <td>0.10.13</td>\n",
       "    </tr>\n",
       "    <tr>\n",
       "      <th>31184153</th>\n",
       "      <td>2016-09-06</td>\n",
       "      <td>05-npm-test</td>\n",
       "      <td>4.15.0</td>\n",
       "      <td>1.0.0</td>\n",
       "    </tr>\n",
       "    <tr>\n",
       "      <th>31343731</th>\n",
       "      <td>2017-10-25</td>\n",
       "      <td>0x-assert</td>\n",
       "      <td>4.17.4</td>\n",
       "      <td>0.0.1</td>\n",
       "    </tr>\n",
       "  </tbody>\n",
       "</table>\n",
       "</div>"
      ],
      "text/plain": [
       "                date      package used_version  version\n",
       "31038585  2015-12-04  0.workspace       3.10.1    0.1.0\n",
       "31038586  2015-12-04  0.workspace       3.10.1    0.1.1\n",
       "31446606  2015-05-08     00k-node        3.2.0  0.10.13\n",
       "31184153  2016-09-06  05-npm-test       4.15.0    1.0.0\n",
       "31343731  2017-10-25    0x-assert       4.17.4    0.0.1"
      ]
     },
     "execution_count": 13,
     "metadata": {},
     "output_type": "execute_result"
    }
   ],
   "source": [
    "dep_lag.groupby('package').count[['version']].query('version == 1').reset_index().package"
   ]
  },
  {
   "cell_type": "code",
   "execution_count": 15,
   "metadata": {},
   "outputs": [],
   "source": [
    "package_out = dep_lag.groupby('package').count()[['version']].query('version == 1').reset_index().package\n",
    "mask = dep_lag.package.isin(package_out)\n",
    "dep_lag = dep_lag[~mask]"
   ]
  },
  {
   "cell_type": "code",
   "execution_count": 18,
   "metadata": {},
   "outputs": [],
   "source": [
    "dep_lag['version_major'] = dep_lag['used_version'].apply(lambda x: x.split('.')[0])"
   ]
  },
  {
   "cell_type": "code",
   "execution_count": 24,
   "metadata": {},
   "outputs": [],
   "source": [
    "dep_lag['version_major_next'] = dep_lag['version_major'].shift(1)\n",
    "dep_lag['package_next'] = dep_lag['package'].shift(1)\n",
    "dep_lag['version_next'] = dep_lag['version'].shift(1)\n"
   ]
  },
  {
   "cell_type": "code",
   "execution_count": 30,
   "metadata": {},
   "outputs": [],
   "source": [
    "dep_lag.rename(columns={'package_next':'package_prev',\n",
    "                        'version_next':'version_prev',\n",
    "                        'version_major_next':'version_major_prev'},\n",
    "               inplace=True)"
   ]
  },
  {
   "cell_type": "code",
   "execution_count": 32,
   "metadata": {},
   "outputs": [],
   "source": [
    "candidates = dep_lag.query('package == package_prev').query('version_major != version_major_prev')"
   ]
  },
  {
   "cell_type": "code",
   "execution_count": 41,
   "metadata": {},
   "outputs": [],
   "source": [
    "candidates = candidates[['package','version_prev','version','date','version_major_prev','version_major']]"
   ]
  },
  {
   "cell_type": "code",
   "execution_count": 42,
   "metadata": {},
   "outputs": [
    {
     "data": {
      "text/html": [
       "<div>\n",
       "<style scoped>\n",
       "    .dataframe tbody tr th:only-of-type {\n",
       "        vertical-align: middle;\n",
       "    }\n",
       "\n",
       "    .dataframe tbody tr th {\n",
       "        vertical-align: top;\n",
       "    }\n",
       "\n",
       "    .dataframe thead th {\n",
       "        text-align: right;\n",
       "    }\n",
       "</style>\n",
       "<table border=\"1\" class=\"dataframe\">\n",
       "  <thead>\n",
       "    <tr style=\"text-align: right;\">\n",
       "      <th></th>\n",
       "      <th>package</th>\n",
       "      <th>version_prev</th>\n",
       "      <th>version</th>\n",
       "      <th>date</th>\n",
       "      <th>version_major_prev</th>\n",
       "      <th>version_major</th>\n",
       "    </tr>\n",
       "  </thead>\n",
       "  <tbody>\n",
       "    <tr>\n",
       "      <th>30904692</th>\n",
       "      <td>28</td>\n",
       "      <td>1.9.3</td>\n",
       "      <td>1.9.4</td>\n",
       "      <td>2015-04-23</td>\n",
       "      <td>2</td>\n",
       "      <td>3</td>\n",
       "    </tr>\n",
       "    <tr>\n",
       "      <th>30909171</th>\n",
       "      <td>3loc</td>\n",
       "      <td>0.1.0</td>\n",
       "      <td>0.2.0</td>\n",
       "      <td>2016-01-29</td>\n",
       "      <td>3</td>\n",
       "      <td>4</td>\n",
       "    </tr>\n",
       "    <tr>\n",
       "      <th>30892479</th>\n",
       "      <td>6to5</td>\n",
       "      <td>2.13.7</td>\n",
       "      <td>3.0.0</td>\n",
       "      <td>2015-01-28</td>\n",
       "      <td>2</td>\n",
       "      <td>3</td>\n",
       "    </tr>\n",
       "    <tr>\n",
       "      <th>30892493</th>\n",
       "      <td>6to5-core</td>\n",
       "      <td>2.13.7</td>\n",
       "      <td>3.0.0</td>\n",
       "      <td>2015-01-28</td>\n",
       "      <td>2</td>\n",
       "      <td>3</td>\n",
       "    </tr>\n",
       "    <tr>\n",
       "      <th>30996154</th>\n",
       "      <td>6to5ify</td>\n",
       "      <td>4.1.0</td>\n",
       "      <td>4.1.1</td>\n",
       "      <td>2015-02-12</td>\n",
       "      <td>2</td>\n",
       "      <td>3</td>\n",
       "    </tr>\n",
       "  </tbody>\n",
       "</table>\n",
       "</div>"
      ],
      "text/plain": [
       "            package version_prev version        date version_major_prev  \\\n",
       "30904692         28        1.9.3   1.9.4  2015-04-23                  2   \n",
       "30909171       3loc        0.1.0   0.2.0  2016-01-29                  3   \n",
       "30892479       6to5       2.13.7   3.0.0  2015-01-28                  2   \n",
       "30892493  6to5-core       2.13.7   3.0.0  2015-01-28                  2   \n",
       "30996154    6to5ify        4.1.0   4.1.1  2015-02-12                  2   \n",
       "\n",
       "         version_major  \n",
       "30904692             3  \n",
       "30909171             4  \n",
       "30892479             3  \n",
       "30892493             3  \n",
       "30996154             3  "
      ]
     },
     "execution_count": 42,
     "metadata": {},
     "output_type": "execute_result"
    }
   ],
   "source": [
    "candidates.head()"
   ]
  },
  {
   "cell_type": "code",
   "execution_count": 49,
   "metadata": {},
   "outputs": [
    {
     "name": "stdout",
     "output_type": "stream",
     "text": [
      "699243\n"
     ]
    },
    {
     "data": {
      "text/html": [
       "<div>\n",
       "<style scoped>\n",
       "    .dataframe tbody tr th:only-of-type {\n",
       "        vertical-align: middle;\n",
       "    }\n",
       "\n",
       "    .dataframe tbody tr th {\n",
       "        vertical-align: top;\n",
       "    }\n",
       "\n",
       "    .dataframe thead th {\n",
       "        text-align: right;\n",
       "    }\n",
       "</style>\n",
       "<table border=\"1\" class=\"dataframe\">\n",
       "  <thead>\n",
       "    <tr style=\"text-align: right;\">\n",
       "      <th></th>\n",
       "      <th>package</th>\n",
       "      <th>repo</th>\n",
       "    </tr>\n",
       "  </thead>\n",
       "  <tbody>\n",
       "    <tr>\n",
       "      <th>0</th>\n",
       "      <td>0</td>\n",
       "      <td>NaN</td>\n",
       "    </tr>\n",
       "    <tr>\n",
       "      <th>1</th>\n",
       "      <td>001</td>\n",
       "      <td>NaN</td>\n",
       "    </tr>\n",
       "  </tbody>\n",
       "</table>\n",
       "</div>"
      ],
      "text/plain": [
       "  package repo\n",
       "0       0  NaN\n",
       "1     001  NaN"
      ]
     },
     "execution_count": 49,
     "metadata": {},
     "output_type": "execute_result"
    }
   ],
   "source": [
    "# Load data\n",
    "only_npm = pd.read_csv('../../popularity/csv/only_npm.csv', \n",
    "                       usecols=['Name','Repository URL'],\n",
    "                          sep=',', dtype=object, index_col=None,  error_bad_lines=False)\n",
    "only_npm.rename(columns={'Name':'package',\n",
    "                        'Repository URL':'repo'},\n",
    "               inplace=True)\n",
    "print(len(only_npm))\n",
    "only_npm.head(2)"
   ]
  },
  {
   "cell_type": "code",
   "execution_count": 50,
   "metadata": {
    "scrolled": true
   },
   "outputs": [
    {
     "data": {
      "text/plain": [
       "5220"
      ]
     },
     "execution_count": 50,
     "metadata": {},
     "output_type": "execute_result"
    }
   ],
   "source": [
    "candidates = (candidates.\n",
    "              merge(only_npm,\n",
    "                    left_on='package',\n",
    "                    right_on='package',\n",
    "                    how='left'\n",
    "                   )\n",
    "              .dropna()\n",
    "             )\n",
    "len(candidates)"
   ]
  },
  {
   "cell_type": "code",
   "execution_count": 56,
   "metadata": {},
   "outputs": [],
   "source": [
    "candidates = candidates.query('version_major!=\"latest\"').query('version_major_prev!=\"latest\"')"
   ]
  },
  {
   "cell_type": "code",
   "execution_count": 54,
   "metadata": {},
   "outputs": [],
   "source": [
    "candidates.to_csv('../../../lodash_techLagDebt_study.csv', sep=',', index=False)"
   ]
  },
  {
   "cell_type": "code",
   "execution_count": 57,
   "metadata": {},
   "outputs": [
    {
     "data": {
      "text/plain": [
       "4112"
      ]
     },
     "execution_count": 57,
     "metadata": {},
     "output_type": "execute_result"
    }
   ],
   "source": [
    "candidates.package.drop_duplicates().size"
   ]
  },
  {
   "cell_type": "code",
   "execution_count": null,
   "metadata": {},
   "outputs": [],
   "source": []
  }
 ],
 "metadata": {
  "kernelspec": {
   "display_name": "Python 3",
   "language": "python",
   "name": "python3"
  },
  "language_info": {
   "codemirror_mode": {
    "name": "ipython",
    "version": 3
   },
   "file_extension": ".py",
   "mimetype": "text/x-python",
   "name": "python",
   "nbconvert_exporter": "python",
   "pygments_lexer": "ipython3",
   "version": "3.6.8"
  }
 },
 "nbformat": 4,
 "nbformat_minor": 2
}
