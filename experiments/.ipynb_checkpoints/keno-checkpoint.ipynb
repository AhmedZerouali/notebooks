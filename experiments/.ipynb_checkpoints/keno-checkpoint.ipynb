{
 "cells": [
  {
   "cell_type": "code",
   "execution_count": 13,
   "metadata": {},
   "outputs": [],
   "source": [
    "import requests\n",
    "import urllib\n",
    "import json\n",
    "import multiprocessing as mp\n",
    "import pandas as pd\n",
    "from lxml import etree\n",
    "from io import BytesIO\n",
    "\n",
    "\n",
    "def get_data(number):\n",
    "    url = \"http://www.marocloto.com/keno/tirage.php?draw=\"+str(number)\n",
    "    req = urllib.request.Request(url)\n",
    "    response = urllib.request.urlopen(req)\n",
    "    webContent = response.read().decode('utf-8')\n",
    "    return webContent"
   ]
  },
  {
   "cell_type": "code",
   "execution_count": null,
   "metadata": {},
   "outputs": [],
   "source": [
    "all_data = []\n",
    "for i in range(143255,153255):#356668):\n",
    "    data = get_data(i)\n",
    "    all_data = all_data + data.split('<p class=\"nextdrawcounterX\">')[1:]"
   ]
  },
  {
   "cell_type": "code",
   "execution_count": null,
   "metadata": {},
   "outputs": [],
   "source": []
  }
 ],
 "metadata": {
  "kernelspec": {
   "display_name": "Python 3",
   "language": "python",
   "name": "python3"
  },
  "language_info": {
   "codemirror_mode": {
    "name": "ipython",
    "version": 3
   },
   "file_extension": ".py",
   "mimetype": "text/x-python",
   "name": "python",
   "nbconvert_exporter": "python",
   "pygments_lexer": "ipython3",
   "version": "3.6.8"
  }
 },
 "nbformat": 4,
 "nbformat_minor": 2
}
