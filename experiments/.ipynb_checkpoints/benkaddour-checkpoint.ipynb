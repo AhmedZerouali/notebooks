{
 "cells": [
  {
   "cell_type": "code",
   "execution_count": 1,
   "metadata": {},
   "outputs": [],
   "source": [
    "from datetime import datetime\n",
    "from threading import Timer"
   ]
  },
  {
   "cell_type": "code",
   "execution_count": null,
   "metadata": {},
   "outputs": [],
   "source": []
  },
  {
   "cell_type": "code",
   "execution_count": 8,
   "metadata": {},
   "outputs": [],
   "source": [
    "!python3  benkaddour.py"
   ]
  },
  {
   "cell_type": "code",
   "execution_count": 52,
   "metadata": {},
   "outputs": [
    {
     "data": {
      "text/plain": [
       "'2017-01-29T21:46:44'"
      ]
     },
     "execution_count": 52,
     "metadata": {},
     "output_type": "execute_result"
    }
   ],
   "source": [
    "datetime.fromtimestamp(1485722804).isoformat()"
   ]
  },
  {
   "cell_type": "code",
   "execution_count": 3,
   "metadata": {},
   "outputs": [
    {
     "data": {
      "text/plain": [
       "'6'"
      ]
     },
     "execution_count": 3,
     "metadata": {},
     "output_type": "execute_result"
    }
   ],
   "source": [
    "str(int('06'))"
   ]
  },
  {
   "cell_type": "code",
   "execution_count": 127,
   "metadata": {},
   "outputs": [
    {
     "ename": "IndentationError",
     "evalue": "unindent does not match any outer indentation level (<tokenize>, line 43)",
     "output_type": "error",
     "traceback": [
      "\u001b[0;36m  File \u001b[0;32m\"<tokenize>\"\u001b[0;36m, line \u001b[0;32m43\u001b[0m\n\u001b[0;31m    break # Hadi pour les jours\u001b[0m\n\u001b[0m    ^\u001b[0m\n\u001b[0;31mIndentationError\u001b[0m\u001b[0;31m:\u001b[0m unindent does not match any outer indentation level\n"
     ]
    }
   ],
   "source": [
    "import urllib\n",
    "import requests\n",
    "\n",
    "def parse_api(url):\n",
    "    response = urllib.request.urlopen(url)\n",
    "    webContent = response.read()\n",
    "    webContent = webContent.decode('utf-8')\n",
    "    \n",
    "    hours = [ element.split('>')[-1]+'h' for element in webContent.split((':'))][0:-1]\n",
    "    \n",
    "    humidity = [ element.split('>')[-1]+'%' for element in webContent.split(('%'))][0:-1]\n",
    "    \n",
    "    temperature = [ element.split('>')[-1]+'°C' for element in webContent.split(('&nbsp;°C'))][0:-1]\n",
    "    return hours, humidity, temperature\n",
    "\n",
    "if __name__ == \"__main__\":\n",
    "\n",
    "    # f=open('data_benkaddour.csv', 'w')\n",
    "    # f.write('date;hour;temperature;humidity\\n')\n",
    "\n",
    "    print('date;hour;temperature;humidity')\n",
    "    year='2018'\n",
    "    for month in range(6,10): \n",
    "        if month < 10:\n",
    "            month='0'+str(month)\n",
    "        else:\n",
    "            month=str(month)\n",
    "        for day in range(1,31):\n",
    "            if day <10:\n",
    "                day='0'+str(day)\n",
    "            else:\n",
    "                day=str(day)\n",
    "            date=day+'-'+month+'-'+year\n",
    "            \n",
    "            url='https://www.timeanddate.com/scripts/cityajax.php?n=united-arab-emirates/dubai&mode=historic&hd='+year+month+day+'&month='+str(int(month))+'&year='+year\n",
    "            \n",
    "            hours, humidity, temperature=parse_api(url)\n",
    "            for hour in range(0,len(hours)):\n",
    "                print(';'.join([date,hours[hour],temperature[hour],humidity[hour]]))\n",
    "\n",
    "                # f.write(';'.join([date,hours[hour],temperature[hour],humidity[hour]])+'\\n')\n",
    "\n",
    "            break # Hadi pour les jours\n",
    "        break # whadi pour les mois\n",
    "\n",
    "    # f.close()\n",
    "\n",
    "\n",
    "\n",
    "# Au cas ou bghit t enregistrer les données, supprimer les deux break w décommenter dok les lignes li lfo9 mcommnetyin\n"
   ]
  },
  {
   "cell_type": "code",
   "execution_count": 124,
   "metadata": {},
   "outputs": [
    {
     "name": "stdout",
     "output_type": "stream",
     "text": [
      "date;hour;temperature;humidity\r\n",
      "01-06-2017;0h;31°C;79%\r\n",
      "01-06-2017;1h;30°C;79%\r\n",
      "01-06-2017;2h;29°C;79%\r\n",
      "01-06-2017;3h;29°C;79%\r\n",
      "01-06-2017;4h;29°C;79%\r\n",
      "01-06-2017;5h;28°C;79%\r\n",
      "01-06-2017;6h;28°C;79%\r\n",
      "01-06-2017;7h;29°C;74%\r\n",
      "01-06-2017;8h;30°C;70%\r\n",
      "01-06-2017;9h;32°C;63%\r\n",
      "01-06-2017;10h;35°C;47%\r\n",
      "01-06-2017;11h;38°C;35%\r\n",
      "01-06-2017;12h;41°C;26%\r\n",
      "01-06-2017;13h;40°C;40%\r\n",
      "01-06-2017;14h;37°C;53%\r\n",
      "01-06-2017;15h;35°C;63%\r\n",
      "01-06-2017;16h;35°C;63%\r\n",
      "01-06-2017;17h;35°C;60%\r\n",
      "01-06-2017;18h;36°C;56%\r\n",
      "01-06-2017;19h;33°C;75%\r\n",
      "01-06-2017;20h;32°C;79%\r\n",
      "01-06-2017;21h;33°C;63%\r\n",
      "01-06-2017;22h;34°C;56%\r\n",
      "01-06-2017;23h;33°C;71%\r\n"
     ]
    }
   ],
   "source": [
    "!cat data_benkaddour.csv"
   ]
  },
  {
   "cell_type": "code",
   "execution_count": null,
   "metadata": {},
   "outputs": [],
   "source": []
  }
 ],
 "metadata": {
  "kernelspec": {
   "display_name": "Python 3",
   "language": "python",
   "name": "python3"
  },
  "language_info": {
   "codemirror_mode": {
    "name": "ipython",
    "version": 3
   },
   "file_extension": ".py",
   "mimetype": "text/x-python",
   "name": "python",
   "nbconvert_exporter": "python",
   "pygments_lexer": "ipython3",
   "version": "3.5.1+"
  }
 },
 "nbformat": 4,
 "nbformat_minor": 2
}
