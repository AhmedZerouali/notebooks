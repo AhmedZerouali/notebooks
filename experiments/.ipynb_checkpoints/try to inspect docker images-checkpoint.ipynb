{
 "cells": [
  {
   "cell_type": "code",
   "execution_count": 9,
   "metadata": {},
   "outputs": [],
   "source": [
    "import requests\n",
    "import urllib\n",
    "import json"
   ]
  },
  {
   "cell_type": "code",
   "execution_count": 174,
   "metadata": {},
   "outputs": [],
   "source": [
    "def get_token(image,tag):\n",
    "    url = \"https://auth.docker.io/token?scope=repository:\"+str(image)+\":pull&service=registry.docker.io\"\n",
    "    req = urllib.request.Request(url)\n",
    "    response = urllib.request.urlopen(req)\n",
    "    webContent = response.read().decode('utf-8')\n",
    "    return webContent"
   ]
  },
  {
   "cell_type": "code",
   "execution_count": 175,
   "metadata": {},
   "outputs": [],
   "source": [
    "def get_manifest(image,tag,token):\n",
    "    headers = {'Accept': 'application/vnd.docker.distribution.manifest.v2+json',\n",
    "           'Authorization': 'Bearer '+str(token)}\n",
    "    url = 'https://registry-1.docker.io/v2/'+str(image)+'/manifests/'+str(tag)\n",
    "    req = urllib.request.Request(url, headers=headers)\n",
    "    response = urllib.request.urlopen(req)\n",
    "    webContent = response.read().decode('utf-8')\n",
    "    return webContent"
   ]
  },
  {
   "cell_type": "code",
   "execution_count": 191,
   "metadata": {},
   "outputs": [],
   "source": [
    "image =\"library/debian\"\n",
    "tag = \"stretch\"\n",
    "\n",
    "data = json.loads(get_token(image,tag))\n",
    "token = data['token']\n",
    "\n",
    "manifest = json.loads(get_manifest(image,tag,token))\n",
    "\n",
    "with open('/home/neglectos/Desktop/'+image.replace('/',':')+':'+tag, 'w') as json_file:  \n",
    "    json.dump(manifest['layers'}, json_file )\n"
   ]
  },
  {
   "cell_type": "code",
   "execution_count": null,
   "metadata": {},
   "outputs": [],
   "source": [
    "manifest = get_manifest(image,tag,token)"
   ]
  },
  {
   "cell_type": "code",
   "execution_count": null,
   "metadata": {},
   "outputs": [],
   "source": [
    "response"
   ]
  },
  {
   "cell_type": "code",
   "execution_count": null,
   "metadata": {},
   "outputs": [],
   "source": [
    "\n",
    "headers = {\n",
    "    'Content-type': 'application/json',\n",
    "}\n",
    "\n",
    "data = '{\"text\":\"Hello, World!\"}'\n",
    "\n",
    "response = requests.post('https://hooks.slack.com/services/asdfasdfasdf', headers=headers, data=data)"
   ]
  }
 ],
 "metadata": {
  "kernelspec": {
   "display_name": "Python 3",
   "language": "python",
   "name": "python3"
  },
  "language_info": {
   "codemirror_mode": {
    "name": "ipython",
    "version": 3
   },
   "file_extension": ".py",
   "mimetype": "text/x-python",
   "name": "python",
   "nbconvert_exporter": "python",
   "pygments_lexer": "ipython3",
   "version": "3.6.7"
  }
 },
 "nbformat": 4,
 "nbformat_minor": 2
}
