{
 "cells": [
  {
   "cell_type": "code",
   "execution_count": 1,
   "metadata": {},
   "outputs": [],
   "source": [
    "from datetime import datetime\n",
    "from threading import Timer"
   ]
  },
  {
   "cell_type": "code",
   "execution_count": 1,
   "metadata": {},
   "outputs": [],
   "source": [
    "import os"
   ]
  },
  {
   "cell_type": "code",
   "execution_count": 20,
   "metadata": {},
   "outputs": [],
   "source": [
    "g = listdir_fullpath(d)"
   ]
  },
  {
   "cell_type": "code",
   "execution_count": 22,
   "metadata": {},
   "outputs": [
    {
     "name": "stdout",
     "output_type": "stream",
     "text": [
      "0 /home/neglectos/ .ICEauthority\n",
      "1 /home/neglectos/ .gephi\n",
      "2 /home/neglectos/ .gnupg\n",
      "3 /home/neglectos/ .npm\n",
      "4 /home/neglectos/ Downloads\n",
      "5 /home/neglectos/ .jupyter\n",
      "6 /home/neglectos/ releases.zip\n",
      "7 /home/neglectos/ gc_rsa\n",
      "8 /home/neglectos/ .bash_logout\n",
      "9 /home/neglectos/ .gradle\n",
      "10 /home/neglectos/ vmware.bin\n",
      "11 /home/neglectos/ gc_rsa.pub\n",
      "12 /home/neglectos/ .gitconfig\n",
      "13 /home/neglectos/ .config\n",
      "14 /home/neglectos/ Videos\n",
      "15 /home/neglectos/ .AndroidStudio3.4\n",
      "16 /home/neglectos/ AndroidStudioProjects\n",
      "17 /home/neglectos/ Pictures\n",
      "18 /home/neglectos/ .texlive2017\n",
      "19 /home/neglectos/ .gnome\n",
      "20 /home/neglectos/ snap\n",
      "21 /home/neglectos/ .PyCharmCE2019.1\n",
      "22 /home/neglectos/ .PyCharmCE2018.3\n",
      "23 /home/neglectos/ .aspell.en.pws\n",
      "24 /home/neglectos/ Desktop\n",
      "25 /home/neglectos/ .pam_environment\n",
      "26 /home/neglectos/ .profile\n",
      "27 /home/neglectos/ .PyCharmCE2019.2\n",
      "28 /home/neglectos/ .ssh\n",
      "29 /home/neglectos/ .aspell.en.prepl\n",
      "30 /home/neglectos/ .ipython\n",
      "31 /home/neglectos/ file.sh\n",
      "32 /home/neglectos/ .wget-hsts\n",
      "33 /home/neglectos/ .bashrc\n",
      "34 /home/neglectos/ .wine\n",
      "35 /home/neglectos/ examples.desktop\n",
      "36 /home/neglectos/ vmware\n",
      "37 /home/neglectos/ Music\n",
      "38 /home/neglectos/ .bash_history\n",
      "39 /home/neglectos/ .thunderbird\n",
      "40 /home/neglectos/ Documents\n",
      "41 /home/neglectos/ Android\n",
      "42 /home/neglectos/ .local\n",
      "43 /home/neglectos/ .pki\n",
      "44 /home/neglectos/ .dbus\n",
      "45 /home/neglectos/ New Project.mp4\n",
      "46 /home/neglectos/ Public\n",
      "47 /home/neglectos/ .sudo_as_admin_successful\n",
      "48 /home/neglectos/ Templates\n",
      "49 /home/neglectos/ .python_history\n",
      "50 /home/neglectos/ VirtualBox VMs\n",
      "51 /home/neglectos/ .android\n",
      "52 /home/neglectos/ .java\n",
      "53 /home/neglectos/ .mozilla\n",
      "54 /home/neglectos/ .vmware\n",
      "55 /home/neglectos/ .cache\n"
     ]
    }
   ],
   "source": [
    "for i,d,f in g:\n",
    "    print(i,d,f)"
   ]
  },
  {
   "cell_type": "code",
   "execution_count": 19,
   "metadata": {},
   "outputs": [],
   "source": [
    "import os\n",
    "d = '/home/neglectos/'\n",
    "def listdir_fullpath(d):\n",
    "    return [[i, d,f] for i, f in enumerate(os.listdir(d))]\n"
   ]
  },
  {
   "cell_type": "code",
   "execution_count": 10,
   "metadata": {},
   "outputs": [
    {
     "data": {
      "text/plain": [
       "[['.ipynb_checkpoints', 'TechDeb.ipynb'],\n",
       " ['benkaddour.ipynb', 'benkaddour.py'],\n",
       " ['file.xml', 'keno.ipynb'],\n",
       " ['simple_demo.pdf', 'test_prediction.ipynb'],\n",
       " ['text_to_pdf.ipynb', 'try to inspect docker images.ipynb']]"
      ]
     },
     "execution_count": 10,
     "metadata": {},
     "output_type": "execute_result"
    }
   ],
   "source": [
    "chunks = [t[x:x+2] for x in range(0, len(t), 2)]\n",
    "chunks"
   ]
  },
  {
   "cell_type": "code",
   "execution_count": 8,
   "metadata": {},
   "outputs": [],
   "source": [
    "!python3  benkaddour.py"
   ]
  },
  {
   "cell_type": "code",
   "execution_count": 52,
   "metadata": {},
   "outputs": [
    {
     "data": {
      "text/plain": [
       "'2017-01-29T21:46:44'"
      ]
     },
     "execution_count": 52,
     "metadata": {},
     "output_type": "execute_result"
    }
   ],
   "source": [
    "datetime.fromtimestamp(1485722804).isoformat()"
   ]
  },
  {
   "cell_type": "code",
   "execution_count": 3,
   "metadata": {},
   "outputs": [
    {
     "data": {
      "text/plain": [
       "'6'"
      ]
     },
     "execution_count": 3,
     "metadata": {},
     "output_type": "execute_result"
    }
   ],
   "source": [
    "str(int('06'))"
   ]
  },
  {
   "cell_type": "code",
   "execution_count": 129,
   "metadata": {},
   "outputs": [
    {
     "name": "stdout",
     "output_type": "stream",
     "text": [
      "date;hour;temperature;humidity\n",
      "01-06-2018;0h;33°C;46%\n",
      "01-06-2018;1h;32°C;49%\n",
      "01-06-2018;2h;33°C;44%\n",
      "01-06-2018;3h;33°C;41%\n",
      "01-06-2018;4h;32°C;46%\n",
      "01-06-2018;5h;32°C;38%\n",
      "01-06-2018;6h;31°C;43%\n",
      "01-06-2018;7h;32°C;31%\n",
      "01-06-2018;8h;35°C;26%\n",
      "01-06-2018;9h;38°C;17%\n",
      "01-06-2018;10h;39°C;18%\n",
      "01-06-2018;11h;41°C;17%\n",
      "01-06-2018;12h;40°C;19%\n",
      "01-06-2018;13h;40°C;23%\n",
      "01-06-2018;14h;39°C;24%\n",
      "01-06-2018;15h;39°C;29%\n",
      "01-06-2018;16h;38°C;35%\n",
      "01-06-2018;17h;37°C;37%\n",
      "01-06-2018;18h;36°C;37%\n",
      "01-06-2018;19h;35°C;36%\n",
      "01-06-2018;20h;35°C;34%\n",
      "01-06-2018;21h;34°C;41%\n",
      "01-06-2018;22h;35°C;32%\n",
      "01-06-2018;23h;35°C;34%\n"
     ]
    }
   ],
   "source": [
    "import urllib\n",
    "import requests\n",
    "\n",
    "def parse_api(url):\n",
    "    response = urllib.request.urlopen(url)\n",
    "    webContent = response.read()\n",
    "    webContent = webContent.decode('utf-8')\n",
    "    \n",
    "    hours = [ element.split('>')[-1]+'h' for element in webContent.split((':'))][0:-1]\n",
    "    \n",
    "    humidity = [ element.split('>')[-1]+'%' for element in webContent.split(('%'))][0:-1]\n",
    "    \n",
    "    temperature = [ element.split('>')[-1]+'°C' for element in webContent.split(('&nbsp;°C'))][0:-1]\n",
    "    return hours, humidity, temperature\n",
    "\n",
    "if __name__ == \"__main__\":\n",
    "\n",
    "    # f=open('data_benkaddour.csv', 'w')\n",
    "    # f.write('date;hour;temperature;humidity\\n')\n",
    "\n",
    "    print('date;hour;temperature;humidity')\n",
    "    year='2018'\n",
    "    for month in range(6,10): \n",
    "        if month < 10:\n",
    "            month='0'+str(month)\n",
    "        else:\n",
    "            month=str(month)\n",
    "        for day in range(1,31):\n",
    "            if day <10:\n",
    "                day='0'+str(day)\n",
    "            else:\n",
    "                day=str(day)\n",
    "            date=day+'-'+month+'-'+year\n",
    "            \n",
    "            url='https://www.timeanddate.com/scripts/cityajax.php?n=united-arab-emirates/dubai&mode=historic&hd='+year+month+day+'&month='+str(int(month))+'&year='+year\n",
    "            \n",
    "            hours, humidity, temperature=parse_api(url)\n",
    "            for hour in range(0,len(hours)):\n",
    "                print(';'.join([date,hours[hour],temperature[hour],humidity[hour]]))\n",
    "\n",
    "                # f.write(';'.join([date,hours[hour],temperature[hour],humidity[hour]])+'\\n')\n",
    "\n",
    "            break # Hadi pour les jours\n",
    "        break # whadi pour les mois\n",
    "\n",
    "    # f.close()\n",
    "\n",
    "\n",
    "\n",
    "# Au cas ou bghit t enregistrer les données, supprimer les deux break w décommenter dok les lignes li lfo9 mcommnetyin\n"
   ]
  },
  {
   "cell_type": "code",
   "execution_count": 128,
   "metadata": {},
   "outputs": [],
   "source": [
    "!rm data_benkaddour.csv"
   ]
  },
  {
   "cell_type": "code",
   "execution_count": null,
   "metadata": {},
   "outputs": [],
   "source": []
  }
 ],
 "metadata": {
  "kernelspec": {
   "display_name": "Python 3",
   "language": "python",
   "name": "python3"
  },
  "language_info": {
   "codemirror_mode": {
    "name": "ipython",
    "version": 3
   },
   "file_extension": ".py",
   "mimetype": "text/x-python",
   "name": "python",
   "nbconvert_exporter": "python",
   "pygments_lexer": "ipython3",
   "version": "3.6.8"
  }
 },
 "nbformat": 4,
 "nbformat_minor": 2
}
