{
 "cells": [
  {
   "cell_type": "code",
   "execution_count": 1,
   "metadata": {},
   "outputs": [],
   "source": [
    "from datetime import datetime\n",
    "from threading import Timer"
   ]
  },
  {
   "cell_type": "code",
   "execution_count": null,
   "metadata": {},
   "outputs": [],
   "source": []
  },
  {
   "cell_type": "code",
   "execution_count": 8,
   "metadata": {},
   "outputs": [],
   "source": [
    "!python3  benkaddour.py"
   ]
  },
  {
   "cell_type": "code",
   "execution_count": 52,
   "metadata": {},
   "outputs": [
    {
     "data": {
      "text/plain": [
       "'2017-01-29T21:46:44'"
      ]
     },
     "execution_count": 52,
     "metadata": {},
     "output_type": "execute_result"
    }
   ],
   "source": [
    "datetime.fromtimestamp(1485722804).isoformat()"
   ]
  },
  {
   "cell_type": "code",
   "execution_count": 3,
   "metadata": {},
   "outputs": [
    {
     "data": {
      "text/plain": [
       "'6'"
      ]
     },
     "execution_count": 3,
     "metadata": {},
     "output_type": "execute_result"
    }
   ],
   "source": [
    "str(int('06'))"
   ]
  },
  {
   "cell_type": "code",
   "execution_count": 129,
   "metadata": {},
   "outputs": [
    {
     "name": "stdout",
     "output_type": "stream",
     "text": [
      "date;hour;temperature;humidity\n",
      "01-06-2018;0h;33°C;46%\n",
      "01-06-2018;1h;32°C;49%\n",
      "01-06-2018;2h;33°C;44%\n",
      "01-06-2018;3h;33°C;41%\n",
      "01-06-2018;4h;32°C;46%\n",
      "01-06-2018;5h;32°C;38%\n",
      "01-06-2018;6h;31°C;43%\n",
      "01-06-2018;7h;32°C;31%\n",
      "01-06-2018;8h;35°C;26%\n",
      "01-06-2018;9h;38°C;17%\n",
      "01-06-2018;10h;39°C;18%\n",
      "01-06-2018;11h;41°C;17%\n",
      "01-06-2018;12h;40°C;19%\n",
      "01-06-2018;13h;40°C;23%\n",
      "01-06-2018;14h;39°C;24%\n",
      "01-06-2018;15h;39°C;29%\n",
      "01-06-2018;16h;38°C;35%\n",
      "01-06-2018;17h;37°C;37%\n",
      "01-06-2018;18h;36°C;37%\n",
      "01-06-2018;19h;35°C;36%\n",
      "01-06-2018;20h;35°C;34%\n",
      "01-06-2018;21h;34°C;41%\n",
      "01-06-2018;22h;35°C;32%\n",
      "01-06-2018;23h;35°C;34%\n"
     ]
    }
   ],
   "source": [
    "import urllib\n",
    "import requests\n",
    "\n",
    "def parse_api(url):\n",
    "    response = urllib.request.urlopen(url)\n",
    "    webContent = response.read()\n",
    "    webContent = webContent.decode('utf-8')\n",
    "    \n",
    "    hours = [ element.split('>')[-1]+'h' for element in webContent.split((':'))][0:-1]\n",
    "    \n",
    "    humidity = [ element.split('>')[-1]+'%' for element in webContent.split(('%'))][0:-1]\n",
    "    \n",
    "    temperature = [ element.split('>')[-1]+'°C' for element in webContent.split(('&nbsp;°C'))][0:-1]\n",
    "    return hours, humidity, temperature\n",
    "\n",
    "if __name__ == \"__main__\":\n",
    "\n",
    "    # f=open('data_benkaddour.csv', 'w')\n",
    "    # f.write('date;hour;temperature;humidity\\n')\n",
    "\n",
    "    print('date;hour;temperature;humidity')\n",
    "    year='2018'\n",
    "    for month in range(6,10): \n",
    "        if month < 10:\n",
    "            month='0'+str(month)\n",
    "        else:\n",
    "            month=str(month)\n",
    "        for day in range(1,31):\n",
    "            if day <10:\n",
    "                day='0'+str(day)\n",
    "            else:\n",
    "                day=str(day)\n",
    "            date=day+'-'+month+'-'+year\n",
    "            \n",
    "            url='https://www.timeanddate.com/scripts/cityajax.php?n=united-arab-emirates/dubai&mode=historic&hd='+year+month+day+'&month='+str(int(month))+'&year='+year\n",
    "            \n",
    "            hours, humidity, temperature=parse_api(url)\n",
    "            for hour in range(0,len(hours)):\n",
    "                print(';'.join([date,hours[hour],temperature[hour],humidity[hour]]))\n",
    "\n",
    "                # f.write(';'.join([date,hours[hour],temperature[hour],humidity[hour]])+'\\n')\n",
    "\n",
    "            break # Hadi pour les jours\n",
    "        break # whadi pour les mois\n",
    "\n",
    "    # f.close()\n",
    "\n",
    "\n",
    "\n",
    "# Au cas ou bghit t enregistrer les données, supprimer les deux break w décommenter dok les lignes li lfo9 mcommnetyin\n"
   ]
  },
  {
   "cell_type": "code",
   "execution_count": 128,
   "metadata": {},
   "outputs": [],
   "source": [
    "!rm data_benkaddour.csv"
   ]
  },
  {
   "cell_type": "code",
   "execution_count": null,
   "metadata": {},
   "outputs": [],
   "source": []
  }
 ],
 "metadata": {
  "kernelspec": {
   "display_name": "Python 3",
   "language": "python",
   "name": "python3"
  },
  "language_info": {
   "codemirror_mode": {
    "name": "ipython",
    "version": 3
   },
   "file_extension": ".py",
   "mimetype": "text/x-python",
   "name": "python",
   "nbconvert_exporter": "python",
   "pygments_lexer": "ipython3",
   "version": "3.5.1+"
  }
 },
 "nbformat": 4,
 "nbformat_minor": 2
}
